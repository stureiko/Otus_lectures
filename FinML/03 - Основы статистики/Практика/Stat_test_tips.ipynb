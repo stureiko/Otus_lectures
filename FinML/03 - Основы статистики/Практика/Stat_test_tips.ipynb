{
 "cells": [
  {
   "cell_type": "markdown",
   "metadata": {
    "ExecuteTime": {
     "end_time": "2024-08-11T16:10:19.234522Z",
     "start_time": "2024-08-11T16:10:19.231323Z"
    }
   },
   "source": [
    "# Статистические тесты"
   ]
  },
  {
   "cell_type": "code",
   "execution_count": null,
   "metadata": {},
   "outputs": [],
   "source": [
    "import warnings\n",
    "warnings.filterwarnings('ignore')"
   ]
  },
  {
   "cell_type": "markdown",
   "metadata": {
    "id": "7017A6XSLwxk"
   },
   "source": [
    "# Тест на нормальность распределения\n",
    "\n",
    "<h3 class=\"alert alert-info\">Тест Шарпиро-Вилка</h3>\n",
    "Тест показывает, имеют ли данные нормальное распределение.\n",
    "\n",
    "<div class=\"alert alert-info\">Предположение</div>\n",
    " Наблюдения в каждой выборке независимы и распределены одинаково.\n",
    "<div class=\"alert alert-info\">Гипотезы</div>\n",
    "\n",
    "\n",
    "* H0: выборка имеет гауссово распределение.\n",
    "* H1: выборка не имеет гауссова распределения.\n",
    "\n",
    "<a href=\"https://docs.scipy.org/doc/scipy/reference/generated/scipy.stats.shapiro.html\" class=\"btn btn-warning\" role=\"button\">Scipy Ref -></a>"
   ]
  },
  {
   "cell_type": "code",
   "execution_count": 20,
   "metadata": {
    "ExecuteTime": {
     "end_time": "2024-08-11T16:13:10.131421Z",
     "start_time": "2024-08-11T16:13:10.125904Z"
    },
    "id": "oExpeDp0Lwxk"
   },
   "outputs": [
    {
     "name": "stdout",
     "output_type": "stream",
     "text": [
      "stat=0.895, p=0.895\n",
      "Probably Gaussian\n"
     ]
    }
   ],
   "source": [
    "from scipy.stats import shapiro\n",
    "data = [0.873, 2.817, 0.121, -0.945, -0.055, -1.436, 0.360, -1.478, -1.637, -1.869]\n",
    "stat, p = shapiro(data)\n",
    "print('stat={0:.3f}, p={0:.3f}' .format(stat, p))\n",
    "if p > 0.05:\n",
    "    print('Probably Gaussian')\n",
    "else:\n",
    "    print('Probably not Gaussian')"
   ]
  },
  {
   "cell_type": "markdown",
   "metadata": {
    "id": "2Kxg7mKQLwxk"
   },
   "source": [
    "<h3 class=\"alert alert-info\"> Критерий Д’Агостино </h3>\n",
    "Тест показывает, имеют ли данные нормальное распределение.\n",
    "\n",
    "<div class=\"alert alert-info\">Предположение</div>\n",
    " Наблюдения в каждой выборке независимы и распределены одинаково.\n",
    "<div class=\"alert alert-info\">Гипотезы</div>\n",
    "\n",
    "\n",
    "* H0: выборка имеет гауссово распределение.\n",
    "* H1: выборка не имеет гауссова распределения.\n",
    "\n",
    "<a href=\"https://docs.scipy.org/doc/scipy/reference/generated/scipy.stats.normaltest.html\" class=\"btn btn-warning\" role=\"button\">Scipy Ref -></a>"
   ]
  },
  {
   "cell_type": "code",
   "execution_count": 21,
   "metadata": {
    "ExecuteTime": {
     "end_time": "2024-08-11T16:15:14.891263Z",
     "start_time": "2024-08-11T16:15:14.884034Z"
    },
    "id": "3p7kfJ2kLwxl"
   },
   "outputs": [
    {
     "name": "stdout",
     "output_type": "stream",
     "text": [
      "stat=3.392, p=3.39\n",
      "Probably Gaussian\n"
     ]
    }
   ],
   "source": [
    "# Example of the D'Agostino's K^2 Normality Test\n",
    "from scipy.stats import normaltest\n",
    "data = [0.873, 2.817, 0.121, -0.945, -0.055, -1.436, 0.360, -1.478, -1.637, -1.869]\n",
    "stat, p = normaltest(data)\n",
    "print('stat={0:.3f}, p={0:.3g}'.format(stat, p))\n",
    "if p > 0.05:\n",
    "    print('Probably Gaussian')\n",
    "else:\n",
    "    print('Probably not Gaussian')"
   ]
  },
  {
   "cell_type": "markdown",
   "metadata": {
    "id": "lOYeFqfmLwxm"
   },
   "source": [
    "# Корреляция\n",
    "\n",
    "<h3 class=\"alert alert-info\">Корреляция Пирсона</h3>\n",
    "Есть ли линейная зависимость между метриками\n",
    "\n",
    "<div class=\"alert alert-info\">Assumption</div>\n",
    "a) Наблюдения в каждой выборке независимы и распределены одинаково. <br>\n",
    "b) Наблюдения распределены нормально. <br>\n",
    "c) Одинаковая дисперсия между независимыми переменными\n",
    "<div class=\"alert alert-info\">Гипотезы</div>\n",
    "\n",
    "\n",
    "* H0: выборки коррелируют.\n",
    "* H1: выборка не имеет никакой корреляции.\n",
    "\n",
    "<a href=\"https://docs.scipy.org/doc/scipy/reference/generated/scipy.stats.normaltest.html\" class=\"btn btn-warning\" role=\"button\">Scipy Ref -></a>\n",
    "\n"
   ]
  },
  {
   "cell_type": "code",
   "execution_count": 25,
   "metadata": {
    "ExecuteTime": {
     "end_time": "2024-08-11T16:25:29.855583Z",
     "start_time": "2024-08-11T16:25:29.848448Z"
    },
    "id": "Cw7K6_nLLwxn"
   },
   "outputs": [
    {
     "name": "stdout",
     "output_type": "stream",
     "text": [
      "stat=0.688, p=0.688\n",
      "Probably dependent\n"
     ]
    }
   ],
   "source": [
    "# Example of the Pearson's Correlation test\n",
    "from scipy.stats import pearsonr\n",
    "data1 = [0.873, 2.817, 0.121, -0.945, -0.055, -1.436, 0.360, -1.478, -1.637, -1.869]\n",
    "data2 = [0.353, 3.517, 0.125, -7.545, -0.555, -1.536, 3.350, -1.578, -3.537, -1.579]\n",
    "stat, p = pearsonr(data1, data2)\n",
    "print('stat={0:.3f}, p={0:.3f}'.format(stat, p))\n",
    "if p > 0.05:\n",
    "    print('Probably independent')\n",
    "else:\n",
    "    print('Probably dependent')"
   ]
  },
  {
   "cell_type": "markdown",
   "metadata": {
    "id": "nC0QoCM_Lwxn"
   },
   "source": [
    "<h3 class=\"alert alert-info\">Ранговая корреляция Спирмана</h3>\n",
    "Проверяет, есть ли корреляция в данных?\n",
    "\n",
    "<div class=\"alert alert-info\">Предположения</div>\n",
    "а) Наблюдения в каждой выборке независимы и распределены одинаково. <br>\n",
    "б) Наблюдения в каждой выборке ранжированы. <br>\n",
    "<div class=\"alert alert-info\">Гипотезы</div>\n",
    "\n",
    "\n",
    "* H0: выборки коррелируют.\n",
    "* H1: выборка не имеет никакой корреляции.\n",
    "\n",
    "<a href=\"https://docs.scipy.org/doc/scipy/reference/generated/scipy.stats.spearmanr.html\" class=\"btn btn-warning\" role=\"button\">Scipy Ref -></a>"
   ]
  },
  {
   "cell_type": "code",
   "execution_count": 26,
   "metadata": {
    "ExecuteTime": {
     "end_time": "2024-08-11T16:27:02.767362Z",
     "start_time": "2024-08-11T16:27:02.759425Z"
    },
    "id": "9eBrTq0RLwxn"
   },
   "outputs": [
    {
     "name": "stdout",
     "output_type": "stream",
     "text": [
      "stat=0.855, p=0.855\n",
      "Probably dependent\n"
     ]
    }
   ],
   "source": [
    "# Example of the Spearman's Rank Correlation Test\n",
    "from scipy.stats import spearmanr\n",
    "data1 = [0.873, 2.817, 0.121, -0.945, -0.055, -1.436, 0.360, -1.478, -1.637, -1.869]\n",
    "data2 = [0.353, 3.517, 0.125, -7.545, -0.555, -1.536, 3.350, -1.578, -3.537, -1.579]\n",
    "stat, p = spearmanr(data1, data2)\n",
    "print('stat={0:.3g}, p={0:.3f}'.format(stat, p))\n",
    "if p > 0.05:\n",
    "    print('Probably independent')\n",
    "else:\n",
    "    print('Probably dependent')\n"
   ]
  },
  {
   "cell_type": "markdown",
   "metadata": {
    "id": "B_x5kuBdLwxn"
   },
   "source": [
    "<h3 class=\"alert alert-info\">Ранговая корреляция Кендала</h3>\n",
    "Связанны ли метрики по рангам?\n",
    "\n",
    "<div class=\"alert alert-info\">Assumption</div>\n",
    "а) Наблюдения в каждой выборке независимы и распределены одинаково. <br>\n",
    "б) Наблюдения в каждой выборке ранжированы. <br>\n",
    "<div class=\"alert alert-info\">Hypothesis</div>\n",
    "\n",
    "\n",
    "* H0: выборки коррелируют.\n",
    "* H1: выборка не имеет никакой корреляции.\n",
    "\n",
    "<a href=\"https://docs.scipy.org/doc/scipy/reference/generated/scipy.stats.kendalltau.html\" class=\"btn btn-warning\" role=\"button\">Scipy Ref -></a>"
   ]
  },
  {
   "cell_type": "code",
   "execution_count": 27,
   "metadata": {
    "ExecuteTime": {
     "end_time": "2024-08-11T16:28:11.837285Z",
     "start_time": "2024-08-11T16:28:11.828296Z"
    },
    "id": "4jwIT2bRLwxn"
   },
   "outputs": [
    {
     "name": "stdout",
     "output_type": "stream",
     "text": [
      "stat=0.733, p=0.733\n",
      "Probably dependent\n"
     ]
    }
   ],
   "source": [
    "# Example of the Kendall's Rank Correlation Test\n",
    "from scipy.stats import kendalltau\n",
    "data1 = [0.873, 2.817, 0.121, -0.945, -0.055, -1.436, 0.360, -1.478, -1.637, -1.869]\n",
    "data2 = [0.353, 3.517, 0.125, -7.545, -0.555, -1.536, 3.350, -1.578, -3.537, -1.579]\n",
    "stat, p = kendalltau(data1, data2)\n",
    "print('stat={0:.3f}, p={0:.3f}'.format(stat, p))\n",
    "if p > 0.05:\n",
    "    print('Probably independent')\n",
    "else:\n",
    "    print('Probably dependent')"
   ]
  },
  {
   "cell_type": "markdown",
   "metadata": {
    "id": "K-hf7UY2Lwxo"
   },
   "source": [
    "<h3 class=\"alert alert-info\">хи-квадрат тест</h3>\n",
    "Проверяет, связаны ли две категориальные переменные друг с другом.\n",
    "\n",
    "<div class=\"alert alert-info\">Assumption</div>\n",
    "а) Наблюдения, используемые в таблице сопряженности, являются независимыми. <br>\n",
    "б) В таблице сопряженности имеется более 25 примеров. <br>\n",
    "<div class=\"alert alert-info\">Hypothesis</div>\n",
    "\n",
    "\n",
    "* H0: выборки коррелируют.\n",
    "* H1: выборка не имеет никакой корреляции.\n",
    "\n",
    "<a href=\"https://docs.scipy.org/doc/scipy/reference/generated/scipy.stats.chi2_contingency.html\" class=\"btn btn-warning\" role=\"button\">Scipy Ref -></a>"
   ]
  },
  {
   "cell_type": "code",
   "execution_count": 9,
   "metadata": {
    "ExecuteTime": {
     "end_time": "2024-08-11T16:08:28.406119Z",
     "start_time": "2024-08-11T16:08:28.394441Z"
    },
    "id": "Zh0HWbrvLwxo"
   },
   "outputs": [
    {
     "name": "stdout",
     "output_type": "stream",
     "text": [
      "stat=0.272, p=0.272\n",
      "Probably independent\n"
     ]
    }
   ],
   "source": [
    "# Example of the Chi-Squared Test\n",
    "from scipy.stats import chi2_contingency\n",
    "table = [[10, 20, 30],[6,  9,  17]]\n",
    "stat, p, dof, expected = chi2_contingency(table)\n",
    "print('stat={0:.3g}, p={0:.3f}' .format(stat, p))\n",
    "if p > 0.05:\n",
    "    print('Probably independent')\n",
    "else:\n",
    "    print('Probably dependent')"
   ]
  },
  {
   "cell_type": "markdown",
   "metadata": {
    "id": "cGA8u9b_Lwxo"
   },
   "source": [
    "# Тест на стационарность временного ряда\n",
    "<p> Используется для проверки тенденций данных временного ряда (стационарных/нестационарных). </p>\n",
    "<h3 class=\"alert alert-info\">Augmented Dickey-Fuller Unit Root Test</h3>\n",
    "Проверяет, имеют ли данные временного ряда авторегрессионный тренд.\n",
    "\n",
    "<div class=\"alert alert-info\">Условия</div>\n",
    "Данные имеют временной характер\n",
    "<div class=\"alert alert-info\">Гипотезы</div>\n",
    "\n",
    "\n",
    "* H0: ряд стационарный.\n",
    "* H1: ряд нестационарный.\n",
    "\n",
    "<a href=\"https://www.statsmodels.org/dev/generated/statsmodels.tsa.stattools.adfuller.html\" class=\"btn btn-warning\" role=\"button\">Stats-Model Ref -></a>"
   ]
  },
  {
   "cell_type": "code",
   "execution_count": 10,
   "metadata": {
    "ExecuteTime": {
     "end_time": "2024-08-11T16:08:31.305076Z",
     "start_time": "2024-08-11T16:08:29.999775Z"
    },
    "id": "5CMmce2TLwxo"
   },
   "outputs": [
    {
     "name": "stdout",
     "output_type": "stream",
     "text": [
      "stat=0.992, p=0.992\n",
      "Probably not Stationary\n"
     ]
    }
   ],
   "source": [
    "# Example of the Augmented Dickey-Fuller unit root test\n",
    "from statsmodels.tsa.stattools import adfuller\n",
    "data = [0, 1, 2, 3, 4, 5, 6, 7, 8, 9]\n",
    "stat, p, lags, obs, crit, t = adfuller(data)\n",
    "print('stat={0:.3f}, p={0:.3f}'.format(stat, p))\n",
    "if p > 0.05:\n",
    "    print('Probably not Stationary')\n",
    "else:\n",
    "    print('Probably Stationary')"
   ]
  },
  {
   "cell_type": "markdown",
   "metadata": {
    "id": "xnpzBw2YLwxo"
   },
   "source": [
    "<h3 class=\"alert alert-info\">Квятковски-Филлипс-Шмидт-Шин</h3>\n",
    "Проверяет, является ли тенденция временного ряда стационарной или нет.\n",
    "\n",
    "<div class=\"alert alert-info\">Условия</div>\n",
    "Данные имеют временной характер\n",
    "<div class=\"alert alert-info\">Гипотезы</div>\n",
    "\n",
    "* H0: ряд стационарный.\n",
    "* H1: ряд не стационарный.\n",
    "\n",
    "<a href=\"https://www.statsmodels.org/stable/generated/statsmodels.tsa.stattools.kpss.html#statsmodels.tsa.stattools.kpss\" class=\"btn btn-warning\" role=\"button\">Stats-Model Ref -></a>"
   ]
  },
  {
   "cell_type": "code",
   "execution_count": 33,
   "metadata": {
    "ExecuteTime": {
     "end_time": "2024-08-11T16:35:52.982494Z",
     "start_time": "2024-08-11T16:35:52.976403Z"
    },
    "id": "eqUcF4uYLwxo"
   },
   "outputs": [
    {
     "name": "stdout",
     "output_type": "stream",
     "text": [
      "stat=0.594, p=0.023\n",
      "Probably Stationary\n"
     ]
    }
   ],
   "source": [
    "# Example of the Kwiatkowski-Phillips-Schmidt-Shin test\n",
    "from statsmodels.tsa.stattools import kpss\n",
    "data = [0, 1, 2, 3, 4, 5, 6, 7, 8, 9]\n",
    "stat, p, lags, crit = kpss(data)\n",
    "print(f'stat={round(stat, 3)}, p={round(p, 3)}')\n",
    "if p > 0.05:\n",
    "    print(p)\n",
    "    print('Probably not Stationary')\n",
    "else:\n",
    "    print('Probably Stationary')"
   ]
  },
  {
   "cell_type": "markdown",
   "metadata": {
    "id": "k3BnYTLsLwxo"
   },
   "source": [
    "## Параметрические статистические тесты гипотез\n",
    "<p> Статистический тест для сравнения выборок данных. </p>\n",
    "<h3 class=\"alert alert-info\">Критерий Стьюдента(t-тест)</h3>\n",
    "Средние значения между двумя выборками данных существенно различаются.\n",
    "\n",
    "<div class=\"alert alert-info\">Assumption</div>\n",
    "a)Наблюдения каждой выборки данных независимы и распределены. <br>\n",
    "b)Наблюдения распределены нормально.<br>\n",
    "c)Наблюдения имеют одинаковую дисперсию между собой. <br>\n",
    "\n",
    "<div class=\"alert alert-info\">Гипотезы</div>\n",
    "\n",
    "\n",
    "* H0: средние значения между двумя выборками равны.\n",
    "* H1: средние значения между двумя выборками не равны.\n",
    "<a href=\"https://docs.scipy.org/doc/scipy/reference/generated/scipy.stats.ttest_ind.html\" class=\"btn btn-warning\" role=\"button\">Scipy Ref -></a>"
   ]
  },
  {
   "cell_type": "code",
   "execution_count": 12,
   "metadata": {
    "ExecuteTime": {
     "end_time": "2024-08-11T16:08:32.879641Z",
     "start_time": "2024-08-11T16:08:32.873794Z"
    },
    "id": "oo51WGzaLwxp"
   },
   "outputs": [
    {
     "name": "stdout",
     "output_type": "stream",
     "text": [
      "stat=-0.326, p=-0.326\n",
      "Probably the same distribution\n"
     ]
    }
   ],
   "source": [
    "# Example of the Student's t-test\n",
    "from scipy.stats import ttest_ind\n",
    "data1 = [0.873, 2.817, 0.121, -0.945, -0.055, -1.436, 0.360, -1.478, -1.637, -1.869]\n",
    "data2 = [1.142, -0.432, -0.938, -0.729, -0.846, -0.157, 0.500, 1.183, -1.075, -0.169]\n",
    "stat, p = ttest_ind(data1, data2)\n",
    "print('stat={0:.3f}, p={0:.3f}'.format(stat, p))\n",
    "if p > 0.05:\n",
    "    print('Probably the same distribution')\n",
    "else:\n",
    "    print('Probably different distributions')"
   ]
  },
  {
   "cell_type": "markdown",
   "metadata": {
    "id": "2u21HaJjLwxp"
   },
   "source": [
    "<h3 class=\"alert alert-info\">Парный t-критерий Стьюдента</h3>\n",
    "Средние значения между двумя выборками данных существенно различаются.\n",
    "\n",
    "<div class=\"alert alert-info\">Предположение</div>\n",
    "a)Наблюдения каждой выборки данных независимы и распределены. <br>\n",
    "b)Наблюдения распределены нормально. <br>\n",
    "c)Наблюдения имеют одинаковую дисперсию между собой. <br>\n",
    "d)Наблюдения парные.\n",
    "\n",
    "<div class=\"alert alert-info\">Гипотеза</div>\n",
    "\n",
    "* H0: средние значения между двумя выборками равны.\n",
    "* H1: средние значения между двумя выборками не равны.\n",
    "\n",
    "<a href=\"https://docs.scipy.org/doc/scipy/reference/generated/scipy.stats.ttest_rel.html\" class=\"btn btn-warning\" role=\"button\">Scipy Ref -></a>"
   ]
  },
  {
   "cell_type": "code",
   "execution_count": 13,
   "metadata": {
    "ExecuteTime": {
     "end_time": "2024-08-11T16:08:34.445081Z",
     "start_time": "2024-08-11T16:08:34.433170Z"
    },
    "id": "T7Q77QfdLwxp"
   },
   "outputs": [
    {
     "name": "stdout",
     "output_type": "stream",
     "text": [
      "stat=-0.334, p=-0.334\n",
      "Probably the same distribution\n"
     ]
    }
   ],
   "source": [
    "# Example of the Paired Student's t-test\n",
    "from scipy.stats import ttest_rel\n",
    "data1 = [0.873, 2.817, 0.121, -0.945, -0.055, -1.436, 0.360, -1.478, -1.637, -1.869]\n",
    "data2 = [1.142, -0.432, -0.938, -0.729, -0.846, -0.157, 0.500, 1.183, -1.075, -0.169]\n",
    "stat, p = ttest_rel(data1, data2)\n",
    "print('stat={0:.3f}, p={0:.3f}'.format(stat, p))\n",
    "if p > 0.05:\n",
    "    print('Probably the same distribution')\n",
    "else:\n",
    "    print('Probably different distributions')"
   ]
  },
  {
   "cell_type": "markdown",
   "metadata": {
    "id": "Ku6sJdiSLwxp"
   },
   "source": [
    "<h3 class=\"alert alert-info\">Дисперсионный анализ (ANOVA)</h3>\n",
    "Средние значения между двумя выборками данных существенно независимы и различны.\n",
    "\n",
    "<div class=\"alert alert-info\">Предположение</div>\n",
    "a)Наблюдения каждой выборки данных независимы и распределены. <br>\n",
    "b)Наблюдения распределены нормально. <br>\n",
    "c)Наблюдения имеют одинаковую дисперсию между собой. <br>\n",
    "\n",
    "<div class=\"alert alert-info\">Гипотеза</div>\n",
    "\n",
    "* H0: средние значения между двумя выборками равны.\n",
    "* H1: средние значения между двумя выборками не равны.\n",
    "\n",
    "<a href=\"https://docs.scipy.org/doc/scipy/reference/generated/scipy.stats.f_oneway.html\" class=\"btn btn-warning\" role=\"button\">Scipy Ref -></a>"
   ]
  },
  {
   "cell_type": "code",
   "execution_count": 14,
   "metadata": {
    "ExecuteTime": {
     "end_time": "2024-08-11T16:08:36.160850Z",
     "start_time": "2024-08-11T16:08:36.150884Z"
    },
    "id": "iCRz5M3ALwxp"
   },
   "outputs": [
    {
     "name": "stdout",
     "output_type": "stream",
     "text": [
      "stat=0.0964, p=0.0964\n",
      "Probably the same distribution\n"
     ]
    }
   ],
   "source": [
    "# Example of the Analysis of Variance Test\n",
    "from scipy.stats import f_oneway\n",
    "data1 = [0.873, 2.817, 0.121, -0.945, -0.055, -1.436, 0.360, -1.478, -1.637, -1.869]\n",
    "data2 = [1.142, -0.432, -0.938, -0.729, -0.846, -0.157, 0.500, 1.183, -1.075, -0.169]\n",
    "data3 = [-0.208, 0.696, 0.928, -1.148, -0.213, 0.229, 0.137, 0.269, -0.870, -1.204]\n",
    "stat, p = f_oneway(data1, data2, data3)\n",
    "print('stat={0:.3g}, p={0:.3g}'.format(stat, p))\n",
    "if p > 0.05:\n",
    "    print('Probably the same distribution')\n",
    "else:\n",
    "    print('Probably different distributions')"
   ]
  },
  {
   "cell_type": "markdown",
   "metadata": {
    "id": "vmCJcq83Lwxp"
   },
   "source": [
    "## Nonparametric Statistical Hypothesis Tests\n",
    "<h3 class=\"alert alert-info\">U-тест Манна-Уитни</h3>\n",
    "Распределение двух выборок данных одинаково или нет.\n",
    "<div class=\"alert alert-info\">Предположение</div>\n",
    "a)Наблюдения каждой выборки данных независимы и распределены. <br>\n",
    "b)Наблюдения в каждой выборке данных можно ранжировать.<br>\n",
    "\n",
    "<div class=\"alert alert-info\">Гипотеза</div>\n",
    "\n",
    "* H0: распределение двух выборок одинаково.\n",
    "* H1: распределение двух выборок не одинаково.\n",
    "\n",
    "<a href=\"https://docs.scipy.org/doc/scipy/reference/generated/scipy.stats.mannwhitneyu.html\" class=\"btn btn-warning\" role=\"button\">Scipy Ref -></a>"
   ]
  },
  {
   "cell_type": "code",
   "execution_count": 15,
   "metadata": {
    "ExecuteTime": {
     "end_time": "2024-08-11T16:08:38.884566Z",
     "start_time": "2024-08-11T16:08:38.866543Z"
    },
    "id": "fr0649uNLwxq"
   },
   "outputs": [
    {
     "name": "stdout",
     "output_type": "stream",
     "text": [
      "stat=40, p=40\n",
      "Probably the same distribution\n"
     ]
    }
   ],
   "source": [
    "# Example of the Mann-Whitney U Test\n",
    "from scipy.stats import mannwhitneyu\n",
    "data1 = [0.873, 2.817, 0.121, -0.945, -0.055, -1.436, 0.360, -1.478, -1.637, -1.869]\n",
    "data2 = [1.142, -0.432, -0.938, -0.729, -0.846, -0.157, 0.500, 1.183, -1.075, -0.169]\n",
    "stat, p = mannwhitneyu(data1, data2)\n",
    "print('stat={0:.3g}, p={0:.3g}'.format(stat, p))\n",
    "if p > 0.05:\n",
    "    print('Probably the same distribution')\n",
    "else:\n",
    "    print('Probably different distributions')"
   ]
  },
  {
   "cell_type": "markdown",
   "metadata": {
    "id": "qKvtTNVbLwxq"
   },
   "source": [
    "<h3 class=\"alert alert-info\">Знаково-ранговый тест Вилкоксона</h3>\n",
    "Предназначен для проверки равенства медиан нескольких выборок. \n",
    "\n",
    "<div class=\"alert alert-info\">Предположение</div>\n",
    "a)Наблюдения каждой выборки данных независимы и распределены. <br>\n",
    "b)Наблюдения можно ранжировать. <br>\n",
    "c)Наблюдения парные. <br>\n",
    "\n",
    "<div class=\"alert alert-info\">Гипотеза</div>\n",
    "\n",
    "* H0: распределение двух выборок равно.\n",
    "* H1: распределение двух выборок не равно.\n",
    "\n",
    "<a href=\"https://docs.scipy.org/doc/scipy/reference/generated/scipy.stats.wilcoxon.html\" class=\"btn btn-warning\" role=\"button\">Scipy Ref -></a>"
   ]
  },
  {
   "cell_type": "code",
   "execution_count": 16,
   "metadata": {
    "ExecuteTime": {
     "end_time": "2024-08-11T16:08:40.434458Z",
     "start_time": "2024-08-11T16:08:40.422084Z"
    },
    "id": "87JRbzQrLwxq"
   },
   "outputs": [
    {
     "name": "stdout",
     "output_type": "stream",
     "text": [
      "stat=21, p=21\n",
      "Probably the same distribution\n"
     ]
    }
   ],
   "source": [
    "# Example of the Wilcoxon Signed-Rank Test\n",
    "from scipy.stats import wilcoxon\n",
    "data1 = [0.873, 2.817, 0.121, -0.945, -0.055, -1.436, 0.360, -1.478, -1.637, -1.869]\n",
    "data2 = [1.142, -0.432, -0.938, -0.729, -0.846, -0.157, 0.500, 1.183, -1.075, -0.169]\n",
    "stat, p = wilcoxon(data1, data2)\n",
    "print('stat={0:.3g}, p={0:.3g}' .format (stat, p))\n",
    "if p > 0.05:\n",
    "    print('Probably the same distribution')\n",
    "else:\n",
    "    print('Probably different distributions')"
   ]
  },
  {
   "cell_type": "markdown",
   "metadata": {
    "id": "OIkgVu_kLwxq"
   },
   "source": [
    "<h3 class=\"alert alert-info\">H-тест Краскела-Уоллиса</h3>\n",
    "Позволяет сравнивать медианы трех или более независимых выборок.\n",
    "\n",
    "<div class=\"alert alert-info\">Предположение</div>\n",
    "a)Наблюдения каждой выборки данных независимы и распределены. <br>\n",
    "b)Наблюдения можно ранжировать. <br>\n",
    "\n",
    "<div class=\"alert alert-info\">Гипотеза</div>\n",
    "\n",
    "* H0: распределения выборок равны.\n",
    "* H1: распределения выборок не равны.\n",
    "\n",
    "<a href=\"https://docs.scipy.org/doc/scipy/reference/generated/scipy.stats.kruskal.html\" class=\"btn btn-warning\" role=\"button\">Scipy Ref -></a>"
   ]
  },
  {
   "cell_type": "code",
   "execution_count": 17,
   "metadata": {
    "ExecuteTime": {
     "end_time": "2024-08-11T16:08:41.720981Z",
     "start_time": "2024-08-11T16:08:41.712671Z"
    },
    "id": "__pM71WnLwxq"
   },
   "outputs": [
    {
     "name": "stdout",
     "output_type": "stream",
     "text": [
      "stat=0.571, p=0.571\n",
      "Probably the same distribution\n"
     ]
    }
   ],
   "source": [
    "# Example of the Kruskal-Wallis H Test\n",
    "from scipy.stats import kruskal\n",
    "data1 = [0.873, 2.817, 0.121, -0.945, -0.055, -1.436, 0.360, -1.478, -1.637, -1.869]\n",
    "data2 = [1.142, -0.432, -0.938, -0.729, -0.846, -0.157, 0.500, 1.183, -1.075, -0.169]\n",
    "stat, p = kruskal(data1, data2)\n",
    "print('stat={0:.3g}, p={0:.3g}'.format(stat, p))\n",
    "if p > 0.05:\n",
    "    print('Probably the same distribution')\n",
    "else:\n",
    "    print('Probably different distributions')"
   ]
  },
  {
   "cell_type": "markdown",
   "metadata": {
    "id": "FWbMBpeMLwxq"
   },
   "source": [
    "<h3 class=\"alert alert-info\">Тест Фридмана</h3>\n",
    "Критерий Фридмана позволяет установить, что величины показателей от условия к условию изменяются, но при этом не указывает на направление изменений и в этом смысле он похож на критерий знаков.\n",
    "\n",
    "<div class=\"alert alert-info\">Предположение</div>\n",
    "a)Наблюдения каждой выборки данных независимы и распределены. <br>\n",
    "b)Наблюдения могут быть ранжированы. <br>\n",
    "c)Наблюдения могут быть парными.\n",
    "\n",
    "<div class=\"alert alert-info\">Гипотеза</div>\n",
    "\n",
    "* H0: существуют лишь случайные различия.\n",
    "* H1: имеются существенные неслучайные различия.\n",
    "\n",
    "\n",
    "<a href=\"https://docs.scipy.org/doc/scipy/reference/generated/scipy.stats.friedmanchisquare.html\" class=\"btn btn-warning\" role=\"button\">Scipy Ref -></a>"
   ]
  },
  {
   "cell_type": "code",
   "execution_count": 18,
   "metadata": {
    "ExecuteTime": {
     "end_time": "2024-08-11T16:08:42.840139Z",
     "start_time": "2024-08-11T16:08:42.831194Z"
    },
    "id": "ZheEnHGkLwxq"
   },
   "outputs": [
    {
     "name": "stdout",
     "output_type": "stream",
     "text": [
      "stat=0.8, p=0.800\n",
      "Probably the same distribution\n"
     ]
    }
   ],
   "source": [
    "# Example of the Friedman Test\n",
    "from scipy.stats import friedmanchisquare\n",
    "data1 = [0.873, 2.817, 0.121, -0.945, -0.055, -1.436, 0.360, -1.478, -1.637, -1.869]\n",
    "data2 = [1.142, -0.432, -0.938, -0.729, -0.846, -0.157, 0.500, 1.183, -1.075, -0.169]\n",
    "data3 = [-0.208, 0.696, 0.928, -1.148, -0.213, 0.229, 0.137, 0.269, -0.870, -1.204]\n",
    "stat, p = friedmanchisquare(data1, data2, data3)\n",
    "print('stat={0:.3g}, p={0:.3f}'.format(stat, p))\n",
    "if p > 0.05:\n",
    "    print('Probably the same distribution')\n",
    "else:\n",
    "    print('Probably different distributions')"
   ]
  }
 ],
 "metadata": {
  "colab": {
   "name": "Guide to Statistical Hypothesis Tests in Python",
   "provenance": []
  },
  "kernelspec": {
   "display_name": "Python 3 (ipykernel)",
   "language": "python",
   "name": "python3"
  },
  "language_info": {
   "codemirror_mode": {
    "name": "ipython",
    "version": 3
   },
   "file_extension": ".py",
   "mimetype": "text/x-python",
   "name": "python",
   "nbconvert_exporter": "python",
   "pygments_lexer": "ipython3",
   "version": "3.11.4"
  }
 },
 "nbformat": 4,
 "nbformat_minor": 1
}
