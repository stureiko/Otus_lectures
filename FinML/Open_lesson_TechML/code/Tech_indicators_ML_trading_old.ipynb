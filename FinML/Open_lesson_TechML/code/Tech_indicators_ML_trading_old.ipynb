{
 "cells": [
  {
   "cell_type": "code",
   "execution_count": 1,
   "metadata": {},
   "outputs": [
    {
     "name": "stderr",
     "output_type": "stream",
     "text": [
      "/Users/stureiko/miniforge3/envs/finrl/lib/python3.10/site-packages/pyfolio/pos.py:26: UserWarning: Module \"zipline.assets\" not found; mutltipliers will not be applied to position notionals.\n",
      "  warnings.warn(\n"
     ]
    }
   ],
   "source": [
    "import pandas as pd\n",
    "import numpy as np\n",
    "import yfinance as yf\n",
    "import matplotlib.pyplot as plt\n",
    "import matplotlib\n",
    "\n",
    "from finrl import config\n",
    "from finrl import config_tickers\n",
    "from finrl.meta.preprocessor.yahoodownloader import YahooDownloader\n",
    "from finrl.meta.preprocessor.preprocessors import FeatureEngineer, data_split\n",
    "from finrl.meta.env_stock_trading.env_stocktrading import StockTradingEnv\n",
    "from finrl.agents.stablebaselines3.models import DRLAgent\n",
    "from finrl.plot import backtest_stats, backtest_plot, get_daily_return, get_baseline\n",
    "from finrl.main import check_and_make_directories\n",
    "from pprint import pprint\n",
    "from stable_baselines3.common.logger import configure\n",
    "\n",
    "from finrl.config import (\n",
    "    DATA_SAVE_DIR,\n",
    "    TRAINED_MODEL_DIR,\n",
    "    TENSORBOARD_LOG_DIR,\n",
    "    RESULTS_DIR,\n",
    "    INDICATORS,\n",
    "    TRAIN_START_DATE,\n",
    "    TRAIN_END_DATE,\n",
    "    TEST_START_DATE,\n",
    "    TEST_END_DATE,\n",
    "    TRADE_START_DATE,\n",
    "    TRADE_END_DATE,\n",
    ")\n",
    "\n",
    "from finrl.config_tickers import DOW_30_TICKER\n",
    "\n",
    "import talib\n",
    "\n",
    "from sklearn.model_selection import TimeSeriesSplit\n",
    "from sklearn.ensemble import RandomForestClassifier, GradientBoostingClassifier\n",
    "\n",
    "from lightgbm import LGBMClassifier\n",
    "from catboost import CatBoostClassifier \n",
    "\n",
    "from sklearn.metrics import roc_auc_score, f1_score\n",
    "\n",
    "%matplotlib inline"
   ]
  },
  {
   "cell_type": "markdown",
   "metadata": {},
   "source": [
    "Создаем служебные каталоги"
   ]
  },
  {
   "cell_type": "code",
   "execution_count": 2,
   "metadata": {},
   "outputs": [],
   "source": [
    "check_and_make_directories([DATA_SAVE_DIR, TRAINED_MODEL_DIR, TENSORBOARD_LOG_DIR, RESULTS_DIR])"
   ]
  },
  {
   "cell_type": "markdown",
   "metadata": {},
   "source": [
    "Загружаем исходные данные"
   ]
  },
  {
   "cell_type": "code",
   "execution_count": 3,
   "metadata": {},
   "outputs": [
    {
     "data": {
      "text/plain": [
       "['AXP',\n",
       " 'AMGN',\n",
       " 'AAPL',\n",
       " 'BA',\n",
       " 'CAT',\n",
       " 'CSCO',\n",
       " 'CVX',\n",
       " 'GS',\n",
       " 'HD',\n",
       " 'HON',\n",
       " 'IBM',\n",
       " 'INTC',\n",
       " 'JNJ',\n",
       " 'KO',\n",
       " 'JPM',\n",
       " 'MCD',\n",
       " 'MMM',\n",
       " 'MRK',\n",
       " 'MSFT',\n",
       " 'NKE',\n",
       " 'PG',\n",
       " 'TRV',\n",
       " 'UNH',\n",
       " 'CRM',\n",
       " 'VZ',\n",
       " 'V',\n",
       " 'WBA',\n",
       " 'WMT',\n",
       " 'DIS',\n",
       " 'DOW']"
      ]
     },
     "execution_count": 3,
     "metadata": {},
     "output_type": "execute_result"
    }
   ],
   "source": [
    "DOW_30_TICKER"
   ]
  },
  {
   "cell_type": "code",
   "execution_count": 4,
   "metadata": {},
   "outputs": [
    {
     "name": "stderr",
     "output_type": "stream",
     "text": [
      "[*********************100%%**********************]  1 of 1 completed\n",
      "[*********************100%%**********************]  1 of 1 completed\n",
      "[*********************100%%**********************]  1 of 1 completed\n",
      "[*********************100%%**********************]  1 of 1 completed\n",
      "[*********************100%%**********************]  1 of 1 completed\n",
      "[*********************100%%**********************]  1 of 1 completed\n",
      "[*********************100%%**********************]  1 of 1 completed\n",
      "[*********************100%%**********************]  1 of 1 completed\n",
      "[*********************100%%**********************]  1 of 1 completed\n",
      "[*********************100%%**********************]  1 of 1 completed\n",
      "[*********************100%%**********************]  1 of 1 completed\n",
      "[*********************100%%**********************]  1 of 1 completed\n",
      "[*********************100%%**********************]  1 of 1 completed\n",
      "[*********************100%%**********************]  1 of 1 completed\n",
      "[*********************100%%**********************]  1 of 1 completed\n",
      "[*********************100%%**********************]  1 of 1 completed\n",
      "[*********************100%%**********************]  1 of 1 completed\n",
      "[*********************100%%**********************]  1 of 1 completed\n",
      "[*********************100%%**********************]  1 of 1 completed\n",
      "[*********************100%%**********************]  1 of 1 completed\n",
      "[*********************100%%**********************]  1 of 1 completed\n",
      "[*********************100%%**********************]  1 of 1 completed\n",
      "[*********************100%%**********************]  1 of 1 completed\n",
      "[*********************100%%**********************]  1 of 1 completed\n",
      "[*********************100%%**********************]  1 of 1 completed\n",
      "[*********************100%%**********************]  1 of 1 completed\n",
      "[*********************100%%**********************]  1 of 1 completed\n",
      "[*********************100%%**********************]  1 of 1 completed\n",
      "[*********************100%%**********************]  1 of 1 completed\n",
      "[*********************100%%**********************]  1 of 1 completed\n"
     ]
    },
    {
     "name": "stdout",
     "output_type": "stream",
     "text": [
      "Shape of DataFrame:  (88061, 8)\n"
     ]
    }
   ],
   "source": [
    "TRAIN_START_DATE = '2009-01-01'\n",
    "TRAIN_END_DATE = '2019-01-01'\n",
    "TEST_START_DATE = '2019-01-01'\n",
    "TEST_END_DATE = '2021-01-01'\n",
    "\n",
    "# загружаем данные\n",
    "df = YahooDownloader(start_date = TRAIN_START_DATE,\n",
    "                     end_date = TEST_END_DATE,\n",
    "                     ticker_list = DOW_30_TICKER).fetch_data()"
   ]
  },
  {
   "cell_type": "markdown",
   "metadata": {},
   "source": [
    "Преобразуем дату и сортируем датасет по дате и бумагам"
   ]
  },
  {
   "cell_type": "code",
   "execution_count": 5,
   "metadata": {},
   "outputs": [
    {
     "data": {
      "text/html": [
       "<div>\n",
       "<style scoped>\n",
       "    .dataframe tbody tr th:only-of-type {\n",
       "        vertical-align: middle;\n",
       "    }\n",
       "\n",
       "    .dataframe tbody tr th {\n",
       "        vertical-align: top;\n",
       "    }\n",
       "\n",
       "    .dataframe thead th {\n",
       "        text-align: right;\n",
       "    }\n",
       "</style>\n",
       "<table border=\"1\" class=\"dataframe\">\n",
       "  <thead>\n",
       "    <tr style=\"text-align: right;\">\n",
       "      <th></th>\n",
       "      <th>date</th>\n",
       "      <th>open</th>\n",
       "      <th>high</th>\n",
       "      <th>low</th>\n",
       "      <th>close</th>\n",
       "      <th>volume</th>\n",
       "      <th>tic</th>\n",
       "      <th>day</th>\n",
       "    </tr>\n",
       "  </thead>\n",
       "  <tbody>\n",
       "    <tr>\n",
       "      <th>0</th>\n",
       "      <td>2009-01-02</td>\n",
       "      <td>3.067143</td>\n",
       "      <td>3.251429</td>\n",
       "      <td>3.041429</td>\n",
       "      <td>2.740172</td>\n",
       "      <td>746015200</td>\n",
       "      <td>AAPL</td>\n",
       "      <td>4</td>\n",
       "    </tr>\n",
       "    <tr>\n",
       "      <th>1</th>\n",
       "      <td>2009-01-02</td>\n",
       "      <td>58.590000</td>\n",
       "      <td>59.080002</td>\n",
       "      <td>57.750000</td>\n",
       "      <td>42.107327</td>\n",
       "      <td>6547900</td>\n",
       "      <td>AMGN</td>\n",
       "      <td>4</td>\n",
       "    </tr>\n",
       "    <tr>\n",
       "      <th>2</th>\n",
       "      <td>2009-01-02</td>\n",
       "      <td>18.570000</td>\n",
       "      <td>19.520000</td>\n",
       "      <td>18.400000</td>\n",
       "      <td>15.098145</td>\n",
       "      <td>10955700</td>\n",
       "      <td>AXP</td>\n",
       "      <td>4</td>\n",
       "    </tr>\n",
       "    <tr>\n",
       "      <th>3</th>\n",
       "      <td>2009-01-02</td>\n",
       "      <td>42.799999</td>\n",
       "      <td>45.560001</td>\n",
       "      <td>42.779999</td>\n",
       "      <td>33.941093</td>\n",
       "      <td>7010200</td>\n",
       "      <td>BA</td>\n",
       "      <td>4</td>\n",
       "    </tr>\n",
       "    <tr>\n",
       "      <th>4</th>\n",
       "      <td>2009-01-02</td>\n",
       "      <td>44.910000</td>\n",
       "      <td>46.980000</td>\n",
       "      <td>44.709999</td>\n",
       "      <td>30.837601</td>\n",
       "      <td>7117200</td>\n",
       "      <td>CAT</td>\n",
       "      <td>4</td>\n",
       "    </tr>\n",
       "  </tbody>\n",
       "</table>\n",
       "</div>"
      ],
      "text/plain": [
       "        date       open       high        low      close     volume   tic  day\n",
       "0 2009-01-02   3.067143   3.251429   3.041429   2.740172  746015200  AAPL    4\n",
       "1 2009-01-02  58.590000  59.080002  57.750000  42.107327    6547900  AMGN    4\n",
       "2 2009-01-02  18.570000  19.520000  18.400000  15.098145   10955700   AXP    4\n",
       "3 2009-01-02  42.799999  45.560001  42.779999  33.941093    7010200    BA    4\n",
       "4 2009-01-02  44.910000  46.980000  44.709999  30.837601    7117200   CAT    4"
      ]
     },
     "execution_count": 5,
     "metadata": {},
     "output_type": "execute_result"
    }
   ],
   "source": [
    "# преобразуем дату\n",
    "df['date'] = pd.to_datetime(df['date'],format='%Y-%m-%d')\n",
    "\n",
    "# Отсортируем данные по дате и коду акции\n",
    "df.sort_values(['date','tic'],ignore_index=True).head()"
   ]
  },
  {
   "cell_type": "markdown",
   "metadata": {},
   "source": [
    "Выберем только бумаги Apple"
   ]
  },
  {
   "cell_type": "code",
   "execution_count": 6,
   "metadata": {},
   "outputs": [
    {
     "data": {
      "text/html": [
       "<div>\n",
       "<style scoped>\n",
       "    .dataframe tbody tr th:only-of-type {\n",
       "        vertical-align: middle;\n",
       "    }\n",
       "\n",
       "    .dataframe tbody tr th {\n",
       "        vertical-align: top;\n",
       "    }\n",
       "\n",
       "    .dataframe thead th {\n",
       "        text-align: right;\n",
       "    }\n",
       "</style>\n",
       "<table border=\"1\" class=\"dataframe\">\n",
       "  <thead>\n",
       "    <tr style=\"text-align: right;\">\n",
       "      <th></th>\n",
       "      <th>date</th>\n",
       "      <th>open</th>\n",
       "      <th>high</th>\n",
       "      <th>low</th>\n",
       "      <th>close</th>\n",
       "      <th>volume</th>\n",
       "    </tr>\n",
       "  </thead>\n",
       "  <tbody>\n",
       "    <tr>\n",
       "      <th>0</th>\n",
       "      <td>2009-01-02</td>\n",
       "      <td>3.067143</td>\n",
       "      <td>3.251429</td>\n",
       "      <td>3.041429</td>\n",
       "      <td>2.740172</td>\n",
       "      <td>746015200</td>\n",
       "    </tr>\n",
       "    <tr>\n",
       "      <th>29</th>\n",
       "      <td>2009-01-05</td>\n",
       "      <td>3.327500</td>\n",
       "      <td>3.435000</td>\n",
       "      <td>3.311071</td>\n",
       "      <td>2.855818</td>\n",
       "      <td>1181608400</td>\n",
       "    </tr>\n",
       "    <tr>\n",
       "      <th>58</th>\n",
       "      <td>2009-01-06</td>\n",
       "      <td>3.426786</td>\n",
       "      <td>3.470357</td>\n",
       "      <td>3.299643</td>\n",
       "      <td>2.808715</td>\n",
       "      <td>1289310400</td>\n",
       "    </tr>\n",
       "    <tr>\n",
       "      <th>87</th>\n",
       "      <td>2009-01-07</td>\n",
       "      <td>3.278929</td>\n",
       "      <td>3.303571</td>\n",
       "      <td>3.223571</td>\n",
       "      <td>2.748023</td>\n",
       "      <td>753048800</td>\n",
       "    </tr>\n",
       "    <tr>\n",
       "      <th>116</th>\n",
       "      <td>2009-01-08</td>\n",
       "      <td>3.229643</td>\n",
       "      <td>3.326786</td>\n",
       "      <td>3.215714</td>\n",
       "      <td>2.799052</td>\n",
       "      <td>673500800</td>\n",
       "    </tr>\n",
       "  </tbody>\n",
       "</table>\n",
       "</div>"
      ],
      "text/plain": [
       "          date      open      high       low     close      volume\n",
       "0   2009-01-02  3.067143  3.251429  3.041429  2.740172   746015200\n",
       "29  2009-01-05  3.327500  3.435000  3.311071  2.855818  1181608400\n",
       "58  2009-01-06  3.426786  3.470357  3.299643  2.808715  1289310400\n",
       "87  2009-01-07  3.278929  3.303571  3.223571  2.748023   753048800\n",
       "116 2009-01-08  3.229643  3.326786  3.215714  2.799052   673500800"
      ]
     },
     "execution_count": 6,
     "metadata": {},
     "output_type": "execute_result"
    }
   ],
   "source": [
    "data = df.loc[df['tic'] == 'AAPL']\n",
    "data.drop(['tic', 'day'], axis=1, inplace=True)\n",
    "data.head()"
   ]
  },
  {
   "cell_type": "markdown",
   "metadata": {},
   "source": [
    "## Технический анализ"
   ]
  },
  {
   "cell_type": "markdown",
   "metadata": {},
   "source": [
    "Будем формировать показатели с использованием библиотеки TA-Lib (https://ta-lib.org)"
   ]
  },
  {
   "cell_type": "markdown",
   "metadata": {},
   "source": [
    "### Простое скользящее среднее (Simple Moving Averages - SMA)\n",
    "\n",
    "Скользящие средние - один из самых популярных технических индикаторов, используемых для сглаживания ценовых колебаний и выявления трендов. Они могут рассчитываться с использованием различных временных периодов, таких как краткосрочный (10 дней), среднесрочный (50 дней) и долгосрочный (200 дней)."
   ]
  },
  {
   "cell_type": "code",
   "execution_count": 7,
   "metadata": {},
   "outputs": [],
   "source": [
    "data[\"sma_5\"] = talib.SMA(data[\"close\"], timeperiod=5)\n",
    "data[\"sma_10\"] = talib.SMA(data[\"close\"], timeperiod=10)\n",
    "data[\"sma_15\"] = talib.SMA(data[\"close\"], timeperiod=15)\n",
    "data[\"sma_50\"] = talib.SMA(data[\"close\"], timeperiod=50)\n",
    "data[\"sma_200\"] = talib.SMA(data[\"close\"], timeperiod=200)\n",
    "data[\"sma_ratio_5_15\"] = data['sma_15'] / data['sma_5']\n",
    "data[\"sma_ratio_10_50\"] = data['sma_50'] / data['sma_15']\n",
    "data['sma_5_Volume'] = talib.SMA(data[\"volume\"], timeperiod=5)\n",
    "data['sma_10_Volume'] = talib.SMA(data[\"volume\"], timeperiod=10)\n",
    "data['sma_15_Volume'] = talib.SMA(data[\"volume\"], timeperiod=15)\n",
    "data['sma_50_Volume'] = talib.SMA(data[\"volume\"], timeperiod=50)\n",
    "data[\"sma_Volume_ratio_5_15\"] = data['sma_5_Volume'] / data['sma_15_Volume']\n",
    "data[\"sma_Volume_ratio_10_50\"] = data['sma_10_Volume'] / data['sma_50_Volume']"
   ]
  },
  {
   "cell_type": "markdown",
   "metadata": {},
   "source": [
    "### Полосы Боллинджера (Bollinger Bands)\n",
    "\n",
    "Полосы Боллинджера используются для измерения волатильности актива и выявления условий перекупленности и перепроданности. Полосы состоят из скользящей средней (обычно 20-дневной скользящей средней) и двух линий стандартного отклонения выше и ниже скользящей средней."
   ]
  },
  {
   "cell_type": "code",
   "execution_count": 8,
   "metadata": {},
   "outputs": [],
   "source": [
    "# Calculate the Bollinger Bands\n",
    "data[\"upper_band\"], data[\"middle_band\"], data[\"lower_band\"] = talib.BBANDS(data[\"close\"], timeperiod=20)"
   ]
  },
  {
   "cell_type": "markdown",
   "metadata": {},
   "source": [
    "### Индекс относительной силы (Relative Strength Index - RSI)\n",
    "\n",
    "RSI - это индикатор импульса, который сравнивает величину недавних достижений с недавними потерями, чтобы определить условия перекупленности и перепроданности. Обычно он используется с 14-дневным периодом."
   ]
  },
  {
   "cell_type": "code",
   "execution_count": 9,
   "metadata": {},
   "outputs": [],
   "source": [
    "# Calculate the relative strength index (RSI)\n",
    "data[\"RSI\"] = talib.RSI(data[\"close\"], timeperiod=14)"
   ]
  },
  {
   "cell_type": "markdown",
   "metadata": {},
   "source": [
    "### Дивергенция сходимости скользящих средних (Moving Average Convergence Divergence - MACD)\n",
    "\n",
    "MACD - это индикатор следования за трендом, который измеряет разницу между краткосрочной скользящей средней и долгосрочной скользящей средней. Обычно он используется с 12-дневной и 26-дневной скользящей средней, а также с 9-дневной сигнальной линией."
   ]
  },
  {
   "cell_type": "code",
   "execution_count": 10,
   "metadata": {},
   "outputs": [],
   "source": [
    "# Calculate the MACD\n",
    "data[\"macd\"], data[\"macd_signal\"], data[\"macd_hist\"] = talib.MACD(data[\"close\"], fastperiod=12, slowperiod=26, signalperiod=9)"
   ]
  },
  {
   "cell_type": "markdown",
   "metadata": {},
   "source": [
    "### Стохастический осциллятор (Stochastic Oscillator)\n",
    "\n",
    "Стохастический осциллятор - это индикатор импульса, который сравнивает цену закрытия актива с его ценовым диапазоном за определенный период. Обычно он используется с 5-и и 15-и дневным периодом."
   ]
  },
  {
   "cell_type": "code",
   "execution_count": 11,
   "metadata": {},
   "outputs": [],
   "source": [
    "# Calculate the stochastic oscillator\n",
    "data[\"stochastic_k_5\"], data[\"stochastic_d_5\"] = talib.STOCH(data[\"high\"], data[\"low\"], data[\"close\"], fastk_period=5, slowk_period=3, slowd_period=3)\n",
    "data[\"stochastic_k_15\"], data[\"stochastic_d_15\"] = talib.STOCH(data[\"high\"], data[\"low\"], data[\"close\"], fastk_period=15, slowk_period=3, slowd_period=3)\n",
    "data['stochastic_k_ratio'] = data['stochastic_k_5'] / data['stochastic_k_15']\n",
    "data['stochastic_d_ratio'] = data['stochastic_d_5'] / data['stochastic_d_15']"
   ]
  },
  {
   "cell_type": "markdown",
   "metadata": {},
   "source": [
    "### Средний истинный диапазон (ATR)\n",
    "\n",
    "Average True Range - распространенный технический индикатор, используемый для измерения волатильности на рынке, измеряется как скользящее среднее значение True Ranges. Более высокий ATR компании означает более высокую волатильность акций. Однако ATR в первую очередь используется для определения времени выхода или входа в сделку, а не направления торговли акциями.\n",
    "Как определено выше, медленный ATR представляет собой 5-дневную скользящую среднюю, а быстрый ATR - 15-дневную скользящую среднюю."
   ]
  },
  {
   "cell_type": "code",
   "execution_count": 12,
   "metadata": {},
   "outputs": [],
   "source": [
    "data[\"ATR_5\"] = talib.ATR(data[\"high\"], data[\"low\"], data[\"close\"], timeperiod=5)\n",
    "data[\"ATR_15\"] = talib.ATR(data[\"high\"], data[\"low\"], data[\"close\"], timeperiod=15)\n",
    "data['ATR_Ratio'] = data['ATR_5'] / data['ATR_15']"
   ]
  },
  {
   "cell_type": "markdown",
   "metadata": {},
   "source": [
    "### Индекс средней направленности (ADX)\n",
    "\n",
    "Индекс средней направленности был разработан Уайлдером для оценки силы тренда в ценах на акции. \n",
    "\n",
    "Два его основных компонента, +DI и -DI, помогают определить направление тренда. Как правило, ADX 25 или выше указывает на сильный тренд, а ADX менее 20 - на слабый."
   ]
  },
  {
   "cell_type": "code",
   "execution_count": 13,
   "metadata": {},
   "outputs": [],
   "source": [
    "data['ADX_5'] = talib.ADX(data['high'], data['low'], data['close'], timeperiod=5)\n",
    "data['ADX_15'] = talib.ADX(data['high'], data['low'], data['close'], timeperiod=15)"
   ]
  },
  {
   "cell_type": "markdown",
   "metadata": {},
   "source": [
    "### Индекс относительной силы (RSI)\n",
    "\n",
    "RSI - один из наиболее распространенных индикаторов импульса, призванный количественно оценить изменение цены и скорость этого изменения."
   ]
  },
  {
   "cell_type": "code",
   "execution_count": 14,
   "metadata": {},
   "outputs": [],
   "source": [
    "data['RSI_5'] = talib.RSI(data['close'], timeperiod=5)\n",
    "data['RSI_15'] = talib.RSI(data['close'], timeperiod=15)\n",
    "data['RSI_ratio'] = data['RSI_5']/data['RSI_15']"
   ]
  },
  {
   "cell_type": "markdown",
   "metadata": {},
   "source": [
    "### Скорость изменения (Rate of Change)\n",
    "\n",
    "Темп изменения - это индикатор импульса, который объясняет динамику цены по отношению к цене, зафиксированной периодом ранее."
   ]
  },
  {
   "cell_type": "code",
   "execution_count": 15,
   "metadata": {},
   "outputs": [],
   "source": [
    "data['ROC'] = talib.ROC(data['close'], timeperiod=15)"
   ]
  },
  {
   "cell_type": "markdown",
   "metadata": {},
   "source": [
    "## Моделирование"
   ]
  },
  {
   "cell_type": "code",
   "execution_count": 61,
   "metadata": {},
   "outputs": [],
   "source": [
    "data['target'] = np.where(data['close'].diff() > 1, True, False)\n",
    "data['diff'] = data['close'].diff()\n",
    "data.dropna(inplace=True)"
   ]
  },
  {
   "cell_type": "code",
   "execution_count": 64,
   "metadata": {},
   "outputs": [
    {
     "data": {
      "text/html": [
       "<div>\n",
       "<style scoped>\n",
       "    .dataframe tbody tr th:only-of-type {\n",
       "        vertical-align: middle;\n",
       "    }\n",
       "\n",
       "    .dataframe tbody tr th {\n",
       "        vertical-align: top;\n",
       "    }\n",
       "\n",
       "    .dataframe thead th {\n",
       "        text-align: right;\n",
       "    }\n",
       "</style>\n",
       "<table border=\"1\" class=\"dataframe\">\n",
       "  <thead>\n",
       "    <tr style=\"text-align: right;\">\n",
       "      <th></th>\n",
       "      <th>date</th>\n",
       "      <th>open</th>\n",
       "      <th>high</th>\n",
       "      <th>low</th>\n",
       "      <th>close</th>\n",
       "      <th>volume</th>\n",
       "      <th>sma_5</th>\n",
       "      <th>sma_10</th>\n",
       "      <th>sma_15</th>\n",
       "      <th>sma_50</th>\n",
       "      <th>...</th>\n",
       "      <th>ATR_15</th>\n",
       "      <th>ATR_Ratio</th>\n",
       "      <th>ADX_5</th>\n",
       "      <th>ADX_15</th>\n",
       "      <th>RSI_5</th>\n",
       "      <th>RSI_15</th>\n",
       "      <th>RSI_ratio</th>\n",
       "      <th>ROC</th>\n",
       "      <th>target</th>\n",
       "      <th>diff</th>\n",
       "    </tr>\n",
       "  </thead>\n",
       "  <tbody>\n",
       "    <tr>\n",
       "      <th>5800</th>\n",
       "      <td>2009-10-19</td>\n",
       "      <td>6.708929</td>\n",
       "      <td>6.785714</td>\n",
       "      <td>6.626786</td>\n",
       "      <td>5.732773</td>\n",
       "      <td>942230800</td>\n",
       "      <td>5.735672</td>\n",
       "      <td>5.738782</td>\n",
       "      <td>5.682852</td>\n",
       "      <td>5.345236</td>\n",
       "      <td>...</td>\n",
       "      <td>1.074176</td>\n",
       "      <td>1.010277</td>\n",
       "      <td>36.772550</td>\n",
       "      <td>25.937123</td>\n",
       "      <td>54.800309</td>\n",
       "      <td>62.738108</td>\n",
       "      <td>0.873477</td>\n",
       "      <td>1.993032</td>\n",
       "      <td>False</td>\n",
       "      <td>0.054652</td>\n",
       "    </tr>\n",
       "    <tr>\n",
       "      <th>5829</th>\n",
       "      <td>2009-10-20</td>\n",
       "      <td>7.164286</td>\n",
       "      <td>7.205357</td>\n",
       "      <td>7.066071</td>\n",
       "      <td>6.001507</td>\n",
       "      <td>1141039200</td>\n",
       "      <td>5.788452</td>\n",
       "      <td>5.765202</td>\n",
       "      <td>5.709785</td>\n",
       "      <td>5.365793</td>\n",
       "      <td>...</td>\n",
       "      <td>1.100737</td>\n",
       "      <td>1.056282</td>\n",
       "      <td>40.849290</td>\n",
       "      <td>26.987368</td>\n",
       "      <td>81.616693</td>\n",
       "      <td>72.965620</td>\n",
       "      <td>1.118564</td>\n",
       "      <td>7.217596</td>\n",
       "      <td>False</td>\n",
       "      <td>0.268734</td>\n",
       "    </tr>\n",
       "    <tr>\n",
       "      <th>5858</th>\n",
       "      <td>2009-10-21</td>\n",
       "      <td>7.125714</td>\n",
       "      <td>7.453929</td>\n",
       "      <td>7.115357</td>\n",
       "      <td>6.187505</td>\n",
       "      <td>1193726800</td>\n",
       "      <td>5.870763</td>\n",
       "      <td>5.809498</td>\n",
       "      <td>5.749179</td>\n",
       "      <td>5.391210</td>\n",
       "      <td>...</td>\n",
       "      <td>1.124182</td>\n",
       "      <td>1.085798</td>\n",
       "      <td>47.025504</td>\n",
       "      <td>28.711277</td>\n",
       "      <td>87.852087</td>\n",
       "      <td>77.537666</td>\n",
       "      <td>1.133025</td>\n",
       "      <td>10.558364</td>\n",
       "      <td>False</td>\n",
       "      <td>0.185998</td>\n",
       "    </tr>\n",
       "    <tr>\n",
       "      <th>5887</th>\n",
       "      <td>2009-10-22</td>\n",
       "      <td>7.310714</td>\n",
       "      <td>7.423214</td>\n",
       "      <td>7.232500</td>\n",
       "      <td>6.195959</td>\n",
       "      <td>791392000</td>\n",
       "      <td>5.959173</td>\n",
       "      <td>5.857598</td>\n",
       "      <td>5.798175</td>\n",
       "      <td>5.415300</td>\n",
       "      <td>...</td>\n",
       "      <td>1.131618</td>\n",
       "      <td>1.081328</td>\n",
       "      <td>51.966475</td>\n",
       "      <td>30.320259</td>\n",
       "      <td>88.081759</td>\n",
       "      <td>77.721149</td>\n",
       "      <td>1.133305</td>\n",
       "      <td>13.457879</td>\n",
       "      <td>False</td>\n",
       "      <td>0.008454</td>\n",
       "    </tr>\n",
       "    <tr>\n",
       "      <th>5916</th>\n",
       "      <td>2009-10-23</td>\n",
       "      <td>7.346429</td>\n",
       "      <td>7.350000</td>\n",
       "      <td>7.258214</td>\n",
       "      <td>6.157917</td>\n",
       "      <td>420786800</td>\n",
       "      <td>6.055132</td>\n",
       "      <td>5.898271</td>\n",
       "      <td>5.836502</td>\n",
       "      <td>5.436750</td>\n",
       "      <td>...</td>\n",
       "      <td>1.133112</td>\n",
       "      <td>1.067615</td>\n",
       "      <td>55.919252</td>\n",
       "      <td>31.821975</td>\n",
       "      <td>79.614845</td>\n",
       "      <td>74.776171</td>\n",
       "      <td>1.064709</td>\n",
       "      <td>10.297464</td>\n",
       "      <td>False</td>\n",
       "      <td>-0.038043</td>\n",
       "    </tr>\n",
       "  </tbody>\n",
       "</table>\n",
       "<p>5 rows × 43 columns</p>\n",
       "</div>"
      ],
      "text/plain": [
       "           date      open      high       low     close      volume     sma_5  \\\n",
       "5800 2009-10-19  6.708929  6.785714  6.626786  5.732773   942230800  5.735672   \n",
       "5829 2009-10-20  7.164286  7.205357  7.066071  6.001507  1141039200  5.788452   \n",
       "5858 2009-10-21  7.125714  7.453929  7.115357  6.187505  1193726800  5.870763   \n",
       "5887 2009-10-22  7.310714  7.423214  7.232500  6.195959   791392000  5.959173   \n",
       "5916 2009-10-23  7.346429  7.350000  7.258214  6.157917   420786800  6.055132   \n",
       "\n",
       "        sma_10    sma_15    sma_50  ...    ATR_15  ATR_Ratio      ADX_5  \\\n",
       "5800  5.738782  5.682852  5.345236  ...  1.074176   1.010277  36.772550   \n",
       "5829  5.765202  5.709785  5.365793  ...  1.100737   1.056282  40.849290   \n",
       "5858  5.809498  5.749179  5.391210  ...  1.124182   1.085798  47.025504   \n",
       "5887  5.857598  5.798175  5.415300  ...  1.131618   1.081328  51.966475   \n",
       "5916  5.898271  5.836502  5.436750  ...  1.133112   1.067615  55.919252   \n",
       "\n",
       "         ADX_15      RSI_5     RSI_15  RSI_ratio        ROC  target      diff  \n",
       "5800  25.937123  54.800309  62.738108   0.873477   1.993032   False  0.054652  \n",
       "5829  26.987368  81.616693  72.965620   1.118564   7.217596   False  0.268734  \n",
       "5858  28.711277  87.852087  77.537666   1.133025  10.558364   False  0.185998  \n",
       "5887  30.320259  88.081759  77.721149   1.133305  13.457879   False  0.008454  \n",
       "5916  31.821975  79.614845  74.776171   1.064709  10.297464   False -0.038043  \n",
       "\n",
       "[5 rows x 43 columns]"
      ]
     },
     "execution_count": 64,
     "metadata": {},
     "output_type": "execute_result"
    }
   ],
   "source": [
    "data.head()"
   ]
  },
  {
   "cell_type": "code",
   "execution_count": 17,
   "metadata": {},
   "outputs": [],
   "source": [
    "features = ['sma_5', 'sma_10', 'sma_15', 'sma_50', 'sma_200', 'sma_ratio_5_15', 'sma_ratio_10_50', \n",
    "            'sma_5_Volume', 'sma_10_Volume', 'sma_15_Volume', 'sma_50_Volume', 'sma_Volume_ratio_5_15', 'sma_Volume_ratio_10_50', 'upper_band',\n",
    "            'middle_band', 'lower_band', 'RSI', 'macd', 'macd_signal', 'macd_hist','stochastic_k_5', 'stochastic_d_5', 'stochastic_k_15',\n",
    "            'stochastic_d_15', 'stochastic_k_ratio', 'stochastic_d_ratio', 'ATR_5',\n",
    "            'ATR_15', 'ATR_Ratio', 'ADX_5', 'ADX_15', 'RSI_5', 'RSI_15', 'RSI_ratio', 'ROC']"
   ]
  },
  {
   "cell_type": "code",
   "execution_count": 18,
   "metadata": {},
   "outputs": [],
   "source": [
    "X = data[features]\n",
    "y = data[\"target\"]"
   ]
  },
  {
   "cell_type": "code",
   "execution_count": 44,
   "metadata": {},
   "outputs": [],
   "source": [
    "n = 0.90\n",
    "idx = int(X.shape[0]//(1/(1-n)))\n",
    "train_index = X.shape[0] - idx\n",
    "X_train, X_test = X[:train_index], X[train_index:]\n",
    "y_train, y_test = y[:train_index], y[train_index:]"
   ]
  },
  {
   "cell_type": "code",
   "execution_count": 52,
   "metadata": {},
   "outputs": [
    {
     "data": {
      "text/plain": [
       "((2540, 35), (282, 35))"
      ]
     },
     "execution_count": 52,
     "metadata": {},
     "output_type": "execute_result"
    }
   ],
   "source": [
    "X_train.shape, X_test.shape"
   ]
  },
  {
   "cell_type": "code",
   "execution_count": 48,
   "metadata": {},
   "outputs": [
    {
     "name": "stdout",
     "output_type": "stream",
     "text": [
      "sklearn GB roc_auc_score: 0.6610343061955966\n"
     ]
    }
   ],
   "source": [
    "gbm = GradientBoostingClassifier(n_estimators=250, learning_rate=0.2, verbose=False).fit(X_train, y_train)\n",
    "print(f'sklearn GB roc_auc_score: {roc_auc_score(y_test, gbm.predict_proba(X_test)[:, 1])}')"
   ]
  },
  {
   "cell_type": "code",
   "execution_count": 49,
   "metadata": {},
   "outputs": [
    {
     "name": "stdout",
     "output_type": "stream",
     "text": [
      "LightGBM roc_auc_score: 0.6737782329180179\n"
     ]
    }
   ],
   "source": [
    "clf = LGBMClassifier(n_estimators=300, verbosity=-1)\n",
    "clf.fit(X_train, y_train)\n",
    "\n",
    "print(f'LightGBM roc_auc_score: {roc_auc_score(y_test, clf.predict_proba(X_test)[:, 1])}')"
   ]
  },
  {
   "cell_type": "code",
   "execution_count": 50,
   "metadata": {},
   "outputs": [
    {
     "name": "stdout",
     "output_type": "stream",
     "text": [
      "CatBoost roc_auc_score: 0.6862945895203959\n"
     ]
    }
   ],
   "source": [
    "clf = CatBoostClassifier(iterations=300, logging_level='Silent')\n",
    "clf.fit(X_train, y_train)\n",
    "\n",
    "print(f'CatBoost roc_auc_score: {roc_auc_score(y_test, clf.predict_proba(X_test)[:, 1])}')"
   ]
  },
  {
   "cell_type": "code",
   "execution_count": null,
   "metadata": {},
   "outputs": [],
   "source": []
  }
 ],
 "metadata": {
  "kernelspec": {
   "display_name": "Python 3",
   "language": "python",
   "name": "python3"
  },
  "language_info": {
   "codemirror_mode": {
    "name": "ipython",
    "version": 3
   },
   "file_extension": ".py",
   "mimetype": "text/x-python",
   "name": "python",
   "nbconvert_exporter": "python",
   "pygments_lexer": "ipython3",
   "version": "3.10.13"
  }
 },
 "nbformat": 4,
 "nbformat_minor": 2
}
