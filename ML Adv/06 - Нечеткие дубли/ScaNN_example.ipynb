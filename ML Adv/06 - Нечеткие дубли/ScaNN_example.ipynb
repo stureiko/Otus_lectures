{
  "nbformat": 4,
  "nbformat_minor": 0,
  "metadata": {
    "colab": {
      "provenance": []
    },
    "kernelspec": {
      "name": "python3",
      "display_name": "Python 3"
    },
    "language_info": {
      "name": "python"
    }
  },
  "cells": [
    {
      "cell_type": "code",
      "source": [
        "!pip install sentence_transformers"
      ],
      "metadata": {
        "id": "qBOPe37LscIW"
      },
      "execution_count": null,
      "outputs": []
    },
    {
      "cell_type": "code",
      "source": [
        "!pip install scann"
      ],
      "metadata": {
        "id": "Q8nx_zkPtQ7N"
      },
      "execution_count": null,
      "outputs": []
    },
    {
      "cell_type": "code",
      "source": [
        "import numpy as np\n",
        "import pandas as pd\n",
        "import matplotlib.pyplot as plt\n",
        "\n",
        "from sentence_transformers import SentenceTransformer\n",
        "\n",
        "import scann"
      ],
      "metadata": {
        "id": "nygF2wMVsOTz"
      },
      "execution_count": null,
      "outputs": []
    },
    {
      "cell_type": "code",
      "execution_count": null,
      "metadata": {
        "id": "PaqEUD4ssA_e"
      },
      "outputs": [],
      "source": [
        "# размерность тестовых векторов\n",
        "dim = 512\n",
        "nq = 5 # количество векторов в выборке для поиска\n",
        "topn = 7\n",
        "query = np.random.random((1, dim)).astype('float32')\n",
        "vectors = np.random.random((1000000, dim)).astype('float32')"
      ]
    },
    {
      "cell_type": "code",
      "source": [
        "print(f'Size of vectors array {vectors.nbytes/1024/1024/1024:2.3f} Gb')"
      ],
      "metadata": {
        "colab": {
          "base_uri": "https://localhost:8080/"
        },
        "id": "wKzXBP8GsKWi",
        "outputId": "af7fee4f-2910-45d6-a214-78dadd6b3400"
      },
      "execution_count": null,
      "outputs": [
        {
          "output_type": "stream",
          "name": "stdout",
          "text": [
            "Size of vectors array 1.907 Gb\n"
          ]
        }
      ]
    },
    {
      "cell_type": "code",
      "source": [
        "# Построение индекса ScaNN\n",
        "%%time\n",
        "searcher = scann.scann_ops_pybind.builder(vectors, 10, \"dot_product\").tree(\n",
        "    num_leaves=2000, num_leaves_to_search=100, training_sample_size=250000\n",
        ").score_ah(2, anisotropic_quantization_threshold=0.2).reorder(100).build()"
      ],
      "metadata": {
        "id": "V614XGu1sNO7",
        "colab": {
          "base_uri": "https://localhost:8080/"
        },
        "outputId": "3935c04b-6997-471c-8c72-e25d9a737aec"
      },
      "execution_count": null,
      "outputs": [
        {
          "output_type": "stream",
          "name": "stdout",
          "text": [
            "CPU times: user 11min 7s, sys: 9.06 s, total: 11min 16s\n",
            "Wall time: 7min 51s\n"
          ]
        }
      ]
    },
    {
      "cell_type": "code",
      "source": [
        "# Поиск ближайших соседей\n",
        "%%time\n",
        "neighbors, distances = searcher.search_batched(query, final_num_neighbors=5)"
      ],
      "metadata": {
        "id": "SRe97ipBttT9",
        "colab": {
          "base_uri": "https://localhost:8080/"
        },
        "outputId": "41c816f8-f174-4bcc-f4c9-377b1587b380"
      },
      "execution_count": null,
      "outputs": [
        {
          "output_type": "stream",
          "name": "stdout",
          "text": [
            "CPU times: user 6.37 ms, sys: 1 ms, total: 7.37 ms\n",
            "Wall time: 7.31 ms\n"
          ]
        }
      ]
    },
    {
      "cell_type": "code",
      "source": [
        "# Вывод результатов\n",
        "print(\"\\nNearest Neighbors:\")\n",
        "print(neighbors)\n",
        "print(\"\\nDistances:\")\n",
        "print(distances)"
      ],
      "metadata": {
        "colab": {
          "base_uri": "https://localhost:8080/"
        },
        "id": "PG6qTGqR-bws",
        "outputId": "e61cf991-62c7-4297-c606-13f2aca769bf"
      },
      "execution_count": null,
      "outputs": [
        {
          "output_type": "stream",
          "name": "stdout",
          "text": [
            "\n",
            "Nearest Neighbors:\n",
            "[[ 48818 235520 318555 191716 265579]]\n",
            "\n",
            "Distances:\n",
            "[[151.99588 151.61456 151.61273 151.27115 151.193  ]]\n"
          ]
        }
      ]
    },
    {
      "cell_type": "code",
      "source": [],
      "metadata": {
        "id": "1dGohsXk_y2g"
      },
      "execution_count": null,
      "outputs": []
    }
  ]
}