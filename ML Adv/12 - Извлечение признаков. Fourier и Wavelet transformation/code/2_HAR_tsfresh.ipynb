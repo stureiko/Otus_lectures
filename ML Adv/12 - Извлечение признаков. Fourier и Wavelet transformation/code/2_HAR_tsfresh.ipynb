{
 "cells": [
  {
   "cell_type": "markdown",
   "metadata": {},
   "source": [
    "# Atuomated Feature Generation \n",
    "https://github.com/blue-yonder/tsfresh"
   ]
  },
  {
   "cell_type": "code",
   "execution_count": 4,
   "metadata": {
    "ExecuteTime": {
     "end_time": "2022-09-05T18:03:41.662242Z",
     "start_time": "2022-09-05T18:03:28.477434Z"
    }
   },
   "outputs": [],
   "source": [
    "# import sys\n",
    "# sys.path.append('ts_fe/')\n",
    "\n",
    "import warnings\n",
    "warnings.filterwarnings(\"ignore\")\n",
    "\n",
    "import numpy as np\n",
    "import pandas as pd\n",
    "\n",
    "from tqdm.autonotebook import tqdm\n",
    "\n",
    "# импортируем необходимые функции из библиотеки\n",
    "from tsfresh.examples.har_dataset import download_har_dataset, load_har_dataset, load_har_classes\n",
    "from tsfresh import extract_features, extract_relevant_features, select_features\n",
    "from tsfresh.utilities.dataframe_functions import impute\n",
    "from tsfresh.feature_extraction import settings\n",
    "\n",
    "from sklearn.ensemble import RandomForestClassifier\n",
    "from sklearn.metrics import classification_report\n",
    "from sklearn.feature_selection import VarianceThreshold\n",
    "from sklearn.preprocessing import StandardScaler\n",
    "from sklearn.metrics import confusion_matrix, ConfusionMatrixDisplay\n",
    "\n",
    "from src.utils import *"
   ]
  },
  {
   "cell_type": "code",
   "execution_count": 8,
   "metadata": {
    "ExecuteTime": {
     "end_time": "2022-09-05T18:03:50.428326Z",
     "start_time": "2022-09-05T18:03:41.668240Z"
    }
   },
   "outputs": [],
   "source": [
    "DATA_FOLDER = 'data/raw/UCI_HAR/'\n",
    "INPUT_FOLDER_TRAIN = DATA_FOLDER + 'train/InertialSignals/'\n",
    "INPUT_FOLDER_TEST = DATA_FOLDER + 'test/InertialSignals/'\n",
    "LABELFILE_TRAIN = DATA_FOLDER + 'train/y_train.txt'\n",
    "LABELFILE_TEST = DATA_FOLDER + 'test/y_test.txt'\n",
    "\n",
    "train_signals, test_signals, train_labels, test_labels = read_data(\n",
    "    input_folder_train=INPUT_FOLDER_TRAIN,\n",
    "    input_folder_test=INPUT_FOLDER_TEST,\n",
    "    labelfile_train=LABELFILE_TRAIN,\n",
    "    labelfile_test=LABELFILE_TEST\n",
    ")\n",
    "\n",
    "train_signals, train_labels = randomize(train_signals, np.array(train_labels))\n",
    "test_signals, test_labels = randomize(test_signals, np.array(test_labels))"
   ]
  },
  {
   "cell_type": "code",
   "execution_count": 9,
   "metadata": {
    "ExecuteTime": {
     "end_time": "2022-09-05T18:03:50.452329Z",
     "start_time": "2022-09-05T18:03:50.433327Z"
    }
   },
   "outputs": [
    {
     "data": {
      "text/plain": [
       "(7352, 128, 9)"
      ]
     },
     "execution_count": 9,
     "metadata": {},
     "output_type": "execute_result"
    }
   ],
   "source": [
    "train_signals.shape"
   ]
  },
  {
   "cell_type": "code",
   "execution_count": 10,
   "metadata": {},
   "outputs": [],
   "source": [
    "settings_efficient = settings.EfficientFCParameters()"
   ]
  },
  {
   "cell_type": "code",
   "execution_count": 11,
   "metadata": {
    "ExecuteTime": {
     "end_time": "2022-09-05T18:03:50.467361Z",
     "start_time": "2022-09-05T18:03:50.456329Z"
    }
   },
   "outputs": [],
   "source": [
    "def get_long_dfs(data):\n",
    "    long_dfs = []\n",
    "    for signal in range(0, 9):\n",
    "        signal_df_long = pd.DataFrame(\n",
    "            {\n",
    "                0: data[:, :, signal].reshape(-1),\n",
    "                1: np.arange(data.shape[0]).repeat(data.shape[1])\n",
    "            }\n",
    "        )\n",
    "        long_dfs.append(signal_df_long)\n",
    "    return long_dfs\n",
    "\n",
    "def extract_tsfeatures(data, settings):\n",
    "    long_dfs = get_long_dfs(data)\n",
    "    signal_features = []\n",
    "    for signal in tqdm(range(0, 9), leave=False):\n",
    "        s_features = extract_features(\n",
    "            long_dfs[signal], column_id=1, \n",
    "            impute_function=impute, \n",
    "            default_fc_parameters=settings_efficient,\n",
    "            n_jobs=6,\n",
    "            disable_progressbar=True,\n",
    "            show_warnings=False\n",
    "        )\n",
    "        signal_features.append(s_features)\n",
    "    \n",
    "    signal_features_df = pd.concat(signal_features, axis=1)\n",
    "    return signal_features_df"
   ]
  },
  {
   "cell_type": "code",
   "execution_count": 12,
   "metadata": {
    "ExecuteTime": {
     "end_time": "2022-09-05T18:03:50.485329Z",
     "start_time": "2022-09-05T18:03:50.469329Z"
    }
   },
   "outputs": [
    {
     "data": {
      "text/plain": [
       "{'sum_values': None, 'median': None, 'mean': None, 'length': None, 'standard_deviation': None, 'variance': None, 'root_mean_square': None, 'maximum': None, 'absolute_maximum': None, 'minimum': None}"
      ]
     },
     "execution_count": 12,
     "metadata": {},
     "output_type": "execute_result"
    }
   ],
   "source": [
    "settings.MinimalFCParameters()"
   ]
  },
  {
   "cell_type": "code",
   "execution_count": 13,
   "metadata": {},
   "outputs": [
    {
     "data": {
      "text/plain": [
       "{'linear_trend_timewise': [{'attr': 'pvalue'}, {'attr': 'rvalue'}, {'attr': 'intercept'}, {'attr': 'slope'}, {'attr': 'stderr'}]}"
      ]
     },
     "execution_count": 13,
     "metadata": {},
     "output_type": "execute_result"
    }
   ],
   "source": [
    "settings.TimeBasedFCParameters()"
   ]
  },
  {
   "cell_type": "code",
   "execution_count": 14,
   "metadata": {},
   "outputs": [
    {
     "data": {
      "text/plain": [
       "{'skewness': None, 'kurtosis': None, 'percentage_of_reoccurring_datapoints_to_all_datapoints': None, 'linear_trend_timewise': [{'attr': 'pvalue'}, {'attr': 'rvalue'}, {'attr': 'intercept'}, {'attr': 'slope'}, {'attr': 'stderr'}]}"
      ]
     },
     "execution_count": 14,
     "metadata": {},
     "output_type": "execute_result"
    }
   ],
   "source": [
    "settings.IndexBasedFCParameters()"
   ]
  },
  {
   "cell_type": "code",
   "execution_count": 16,
   "metadata": {
    "ExecuteTime": {
     "end_time": "2022-09-05T18:05:38.210023Z",
     "start_time": "2022-09-05T18:05:38.203022Z"
    }
   },
   "outputs": [],
   "source": [
    "# settings_efficient = settings.EfficientFCParameters()\n",
    "\n",
    "settings_efficient = settings.TimeBasedFCParameters()\n",
    "settings_efficient.update(settings.MinimalFCParameters())\n",
    "settings_efficient.update(settings.IndexBasedFCParameters())\n",
    "# settings_efficient"
   ]
  },
  {
   "cell_type": "code",
   "execution_count": 17,
   "metadata": {
    "ExecuteTime": {
     "end_time": "2022-09-05T18:05:42.107422Z",
     "start_time": "2022-09-05T18:05:42.102421Z"
    }
   },
   "outputs": [],
   "source": [
    "Y_train = np.array(train_labels)\n",
    "Y_test = np.array(test_labels)"
   ]
  },
  {
   "cell_type": "code",
   "execution_count": 18,
   "metadata": {
    "ExecuteTime": {
     "end_time": "2022-09-05T18:05:44.121337Z",
     "start_time": "2022-09-05T18:05:42.752987Z"
    }
   },
   "outputs": [],
   "source": [
    "EXTRACT = False\n",
    "\n",
    "if EXTRACT:\n",
    "    X_train = extract_tsfeatures(train_signals, settings_efficient)\n",
    "    X_test = extract_tsfeatures(test_signals, settings_efficient)\n",
    "    \n",
    "    X_train.to_csv('data/processed/X_train_eff.csv')\n",
    "    X_test.to_csv('data/processed/X_test_eff.csv')\n",
    "    pd.Series(Y_train).to_csv('data/processed/Y_train_eff.csv')\n",
    "    pd.Series(Y_test).to_csv('data/processed/Y_test_eff.csv')\n",
    "else:\n",
    "    X_train = pd.read_csv('data/processed/X_train_eff.csv', index_col=0)\n",
    "    X_test = pd.read_csv('data/processed/X_test_eff.csv', index_col=0)\n",
    "    Y_train = pd.read_csv('data/processed/Y_train_eff.csv', index_col=0, header=None)\n",
    "    Y_test = pd.read_csv('data/processed/Y_test_eff.csv', index_col=0, header=None)"
   ]
  },
  {
   "cell_type": "code",
   "execution_count": 19,
   "metadata": {},
   "outputs": [
    {
     "data": {
      "text/html": [
       "<div>\n",
       "<style scoped>\n",
       "    .dataframe tbody tr th:only-of-type {\n",
       "        vertical-align: middle;\n",
       "    }\n",
       "\n",
       "    .dataframe tbody tr th {\n",
       "        vertical-align: top;\n",
       "    }\n",
       "\n",
       "    .dataframe thead th {\n",
       "        text-align: right;\n",
       "    }\n",
       "</style>\n",
       "<table border=\"1\" class=\"dataframe\">\n",
       "  <thead>\n",
       "    <tr style=\"text-align: right;\">\n",
       "      <th></th>\n",
       "      <th>0__kurtosis</th>\n",
       "      <th>0__length</th>\n",
       "      <th>0__maximum</th>\n",
       "      <th>0__mean</th>\n",
       "      <th>0__median</th>\n",
       "      <th>0__minimum</th>\n",
       "      <th>0__percentage_of_reoccurring_values_to_all_values</th>\n",
       "      <th>0__quantile__q_0.1</th>\n",
       "      <th>0__quantile__q_0.2</th>\n",
       "      <th>0__quantile__q_0.3</th>\n",
       "      <th>...</th>\n",
       "      <th>0__quantile__q_0.3.8</th>\n",
       "      <th>0__quantile__q_0.4.8</th>\n",
       "      <th>0__quantile__q_0.6.8</th>\n",
       "      <th>0__quantile__q_0.7.8</th>\n",
       "      <th>0__quantile__q_0.8.8</th>\n",
       "      <th>0__quantile__q_0.9.8</th>\n",
       "      <th>0__skewness.8</th>\n",
       "      <th>0__standard_deviation.8</th>\n",
       "      <th>0__sum_values.8</th>\n",
       "      <th>0__variance.8</th>\n",
       "    </tr>\n",
       "    <tr>\n",
       "      <th>id</th>\n",
       "      <th></th>\n",
       "      <th></th>\n",
       "      <th></th>\n",
       "      <th></th>\n",
       "      <th></th>\n",
       "      <th></th>\n",
       "      <th></th>\n",
       "      <th></th>\n",
       "      <th></th>\n",
       "      <th></th>\n",
       "      <th></th>\n",
       "      <th></th>\n",
       "      <th></th>\n",
       "      <th></th>\n",
       "      <th></th>\n",
       "      <th></th>\n",
       "      <th></th>\n",
       "      <th></th>\n",
       "      <th></th>\n",
       "      <th></th>\n",
       "      <th></th>\n",
       "    </tr>\n",
       "  </thead>\n",
       "  <tbody>\n",
       "    <tr>\n",
       "      <th>0</th>\n",
       "      <td>1.498712</td>\n",
       "      <td>128.0</td>\n",
       "      <td>0.007520</td>\n",
       "      <td>-0.000483</td>\n",
       "      <td>-0.000806</td>\n",
       "      <td>-0.005592</td>\n",
       "      <td>0.0</td>\n",
       "      <td>-0.002685</td>\n",
       "      <td>-0.001906</td>\n",
       "      <td>-0.001443</td>\n",
       "      <td>...</td>\n",
       "      <td>0.158823</td>\n",
       "      <td>0.159771</td>\n",
       "      <td>0.161515</td>\n",
       "      <td>0.162807</td>\n",
       "      <td>0.164219</td>\n",
       "      <td>0.165829</td>\n",
       "      <td>0.558968</td>\n",
       "      <td>0.003933</td>\n",
       "      <td>20.612387</td>\n",
       "      <td>0.000015</td>\n",
       "    </tr>\n",
       "    <tr>\n",
       "      <th>1</th>\n",
       "      <td>0.075610</td>\n",
       "      <td>128.0</td>\n",
       "      <td>0.015331</td>\n",
       "      <td>0.001901</td>\n",
       "      <td>0.001622</td>\n",
       "      <td>-0.007463</td>\n",
       "      <td>0.0</td>\n",
       "      <td>-0.003275</td>\n",
       "      <td>-0.002023</td>\n",
       "      <td>-0.001104</td>\n",
       "      <td>...</td>\n",
       "      <td>0.570445</td>\n",
       "      <td>0.571536</td>\n",
       "      <td>0.573171</td>\n",
       "      <td>0.574450</td>\n",
       "      <td>0.575878</td>\n",
       "      <td>0.577448</td>\n",
       "      <td>-0.035787</td>\n",
       "      <td>0.004024</td>\n",
       "      <td>73.262592</td>\n",
       "      <td>0.000016</td>\n",
       "    </tr>\n",
       "    <tr>\n",
       "      <th>2</th>\n",
       "      <td>-0.458699</td>\n",
       "      <td>128.0</td>\n",
       "      <td>0.755233</td>\n",
       "      <td>-0.021254</td>\n",
       "      <td>-0.102305</td>\n",
       "      <td>-0.463669</td>\n",
       "      <td>0.0</td>\n",
       "      <td>-0.352015</td>\n",
       "      <td>-0.295796</td>\n",
       "      <td>-0.234355</td>\n",
       "      <td>...</td>\n",
       "      <td>-0.040355</td>\n",
       "      <td>-0.005220</td>\n",
       "      <td>0.055426</td>\n",
       "      <td>0.092844</td>\n",
       "      <td>0.122832</td>\n",
       "      <td>0.151043</td>\n",
       "      <td>-0.657669</td>\n",
       "      <td>0.115773</td>\n",
       "      <td>1.803844</td>\n",
       "      <td>0.013403</td>\n",
       "    </tr>\n",
       "    <tr>\n",
       "      <th>3</th>\n",
       "      <td>-0.243478</td>\n",
       "      <td>128.0</td>\n",
       "      <td>0.704112</td>\n",
       "      <td>0.007591</td>\n",
       "      <td>-0.003846</td>\n",
       "      <td>-0.573044</td>\n",
       "      <td>0.0</td>\n",
       "      <td>-0.300920</td>\n",
       "      <td>-0.199304</td>\n",
       "      <td>-0.140023</td>\n",
       "      <td>...</td>\n",
       "      <td>-0.248981</td>\n",
       "      <td>-0.177954</td>\n",
       "      <td>-0.082883</td>\n",
       "      <td>-0.023686</td>\n",
       "      <td>0.022424</td>\n",
       "      <td>0.082802</td>\n",
       "      <td>-0.903750</td>\n",
       "      <td>0.240476</td>\n",
       "      <td>-22.885292</td>\n",
       "      <td>0.057829</td>\n",
       "    </tr>\n",
       "    <tr>\n",
       "      <th>4</th>\n",
       "      <td>-0.228490</td>\n",
       "      <td>128.0</td>\n",
       "      <td>0.429435</td>\n",
       "      <td>-0.006396</td>\n",
       "      <td>-0.070109</td>\n",
       "      <td>-0.247101</td>\n",
       "      <td>0.0</td>\n",
       "      <td>-0.203055</td>\n",
       "      <td>-0.151133</td>\n",
       "      <td>-0.116295</td>\n",
       "      <td>...</td>\n",
       "      <td>-0.460597</td>\n",
       "      <td>-0.430684</td>\n",
       "      <td>-0.371239</td>\n",
       "      <td>-0.324440</td>\n",
       "      <td>-0.228417</td>\n",
       "      <td>-0.143589</td>\n",
       "      <td>-0.081913</td>\n",
       "      <td>0.174818</td>\n",
       "      <td>-49.655521</td>\n",
       "      <td>0.030561</td>\n",
       "    </tr>\n",
       "  </tbody>\n",
       "</table>\n",
       "<p>5 rows × 171 columns</p>\n",
       "</div>"
      ],
      "text/plain": [
       "    0__kurtosis  0__length  0__maximum   0__mean  0__median  0__minimum  \\\n",
       "id                                                                        \n",
       "0      1.498712      128.0    0.007520 -0.000483  -0.000806   -0.005592   \n",
       "1      0.075610      128.0    0.015331  0.001901   0.001622   -0.007463   \n",
       "2     -0.458699      128.0    0.755233 -0.021254  -0.102305   -0.463669   \n",
       "3     -0.243478      128.0    0.704112  0.007591  -0.003846   -0.573044   \n",
       "4     -0.228490      128.0    0.429435 -0.006396  -0.070109   -0.247101   \n",
       "\n",
       "    0__percentage_of_reoccurring_values_to_all_values  0__quantile__q_0.1  \\\n",
       "id                                                                          \n",
       "0                                                 0.0           -0.002685   \n",
       "1                                                 0.0           -0.003275   \n",
       "2                                                 0.0           -0.352015   \n",
       "3                                                 0.0           -0.300920   \n",
       "4                                                 0.0           -0.203055   \n",
       "\n",
       "    0__quantile__q_0.2  0__quantile__q_0.3  ...  0__quantile__q_0.3.8  \\\n",
       "id                                          ...                         \n",
       "0            -0.001906           -0.001443  ...              0.158823   \n",
       "1            -0.002023           -0.001104  ...              0.570445   \n",
       "2            -0.295796           -0.234355  ...             -0.040355   \n",
       "3            -0.199304           -0.140023  ...             -0.248981   \n",
       "4            -0.151133           -0.116295  ...             -0.460597   \n",
       "\n",
       "    0__quantile__q_0.4.8  0__quantile__q_0.6.8  0__quantile__q_0.7.8  \\\n",
       "id                                                                     \n",
       "0               0.159771              0.161515              0.162807   \n",
       "1               0.571536              0.573171              0.574450   \n",
       "2              -0.005220              0.055426              0.092844   \n",
       "3              -0.177954             -0.082883             -0.023686   \n",
       "4              -0.430684             -0.371239             -0.324440   \n",
       "\n",
       "    0__quantile__q_0.8.8  0__quantile__q_0.9.8  0__skewness.8  \\\n",
       "id                                                              \n",
       "0               0.164219              0.165829       0.558968   \n",
       "1               0.575878              0.577448      -0.035787   \n",
       "2               0.122832              0.151043      -0.657669   \n",
       "3               0.022424              0.082802      -0.903750   \n",
       "4              -0.228417             -0.143589      -0.081913   \n",
       "\n",
       "    0__standard_deviation.8  0__sum_values.8  0__variance.8  \n",
       "id                                                           \n",
       "0                  0.003933        20.612387       0.000015  \n",
       "1                  0.004024        73.262592       0.000016  \n",
       "2                  0.115773         1.803844       0.013403  \n",
       "3                  0.240476       -22.885292       0.057829  \n",
       "4                  0.174818       -49.655521       0.030561  \n",
       "\n",
       "[5 rows x 171 columns]"
      ]
     },
     "execution_count": 19,
     "metadata": {},
     "output_type": "execute_result"
    }
   ],
   "source": [
    "X_train.head()"
   ]
  },
  {
   "cell_type": "code",
   "execution_count": 20,
   "metadata": {},
   "outputs": [
    {
     "data": {
      "text/plain": [
       "(7352, 162)"
      ]
     },
     "execution_count": 20,
     "metadata": {},
     "output_type": "execute_result"
    }
   ],
   "source": [
    "# Remove low variance features\n",
    "selector = VarianceThreshold(threshold=0)\n",
    "X_train_reduced = selector.fit_transform(X_train)\n",
    "X_test_reduced = selector.transform(X_test)\n",
    "X_train_reduced.shape"
   ]
  },
  {
   "cell_type": "code",
   "execution_count": 21,
   "metadata": {},
   "outputs": [
    {
     "name": "stdout",
     "output_type": "stream",
     "text": [
      "Accuracy on training set is : 1.0\n",
      "Accuracy on test set is : 0.8388191381065491\n",
      "              precision    recall  f1-score   support\n",
      "\n",
      "           1       0.70      0.73      0.72       496\n",
      "           2       0.74      0.74      0.74       471\n",
      "           3       0.88      0.85      0.86       420\n",
      "           4       0.86      0.81      0.84       491\n",
      "           5       0.84      0.88      0.86       532\n",
      "           6       1.00      1.00      1.00       537\n",
      "\n",
      "    accuracy                           0.84      2947\n",
      "   macro avg       0.84      0.84      0.84      2947\n",
      "weighted avg       0.84      0.84      0.84      2947\n",
      "\n"
     ]
    }
   ],
   "source": [
    "clf = RandomForestClassifier(n_estimators=100)\n",
    "clf.fit(X_train_reduced, Y_train)\n",
    "print(\"Accuracy on training set is : {}\".format(clf.score(X_train_reduced, Y_train)))\n",
    "print(\"Accuracy on test set is : {}\".format(clf.score(X_test_reduced, Y_test)))\n",
    "Y_test_pred = clf.predict(X_test_reduced)\n",
    "print(classification_report(Y_test, Y_test_pred))"
   ]
  },
  {
   "cell_type": "code",
   "execution_count": 22,
   "metadata": {
    "code_folding": [
     0
    ]
   },
   "outputs": [],
   "source": [
    "activities_description = {\n",
    "    1: 'walking',\n",
    "    2: 'walking upstairs',\\\n",
    "    3: 'walking downstairs',\n",
    "    4: 'sitting',\n",
    "    5: 'standing',\n",
    "    6: 'laying'\n",
    "}   \n",
    "\n",
    "activities_labels = [\n",
    "    'walking',\n",
    "    'walking upstairs',\n",
    "    'walking downstairs',\n",
    "    'sitting',\n",
    "    'standing',\n",
    "    'laying'\n",
    "]"
   ]
  },
  {
   "cell_type": "code",
   "execution_count": 23,
   "metadata": {},
   "outputs": [
    {
     "data": {
      "image/png": "[encoded data removed]",
      "text/plain": [
       "<Figure size 700x700 with 1 Axes>"
      ]
     },
     "metadata": {},
     "output_type": "display_data"
    }
   ],
   "source": [
    "cm = confusion_matrix(Y_test, Y_test_pred, labels=clf.classes_)\n",
    "disp = ConfusionMatrixDisplay(confusion_matrix=cm,\n",
    "                                display_labels=clf.classes_)\n",
    "fig, ax = plt.subplots(figsize=(7,7))\n",
    "\n",
    "disp.plot(cmap='BuGn', colorbar=False, ax=ax)\n",
    "ax.xaxis.set_ticklabels(activities_labels, rotation=45)\n",
    "\n",
    "ax.yaxis.set_ticklabels(activities_labels)\n",
    "plt.show()"
   ]
  },
  {
   "cell_type": "code",
   "execution_count": null,
   "metadata": {},
   "outputs": [],
   "source": []
  }
 ],
 "metadata": {
  "kernelspec": {
   "display_name": "Python 3 (ipykernel)",
   "language": "python",
   "name": "python3"
  },
  "language_info": {
   "codemirror_mode": {
    "name": "ipython",
    "version": 3
   },
   "file_extension": ".py",
   "mimetype": "text/x-python",
   "name": "python",
   "nbconvert_exporter": "python",
   "pygments_lexer": "ipython3",
   "version": "3.10.12"
  },
  "toc": {
   "base_numbering": 1,
   "nav_menu": {},
   "number_sections": true,
   "sideBar": true,
   "skip_h1_title": false,
   "title_cell": "Table of Contents",
   "title_sidebar": "Contents",
   "toc_cell": false,
   "toc_position": {},
   "toc_section_display": true,
   "toc_window_display": false
  },
  "varInspector": {
   "cols": {
    "lenName": 16,
    "lenType": 16,
    "lenVar": 40
   },
   "kernels_config": {
    "python": {
     "delete_cmd_postfix": "",
     "delete_cmd_prefix": "del ",
     "library": "var_list.py",
     "varRefreshCmd": "print(var_dic_list())"
    },
    "r": {
     "delete_cmd_postfix": ") ",
     "delete_cmd_prefix": "rm(",
     "library": "var_list.r",
     "varRefreshCmd": "cat(var_dic_list()) "
    }
   },
   "types_to_exclude": [
    "module",
    "function",
    "builtin_function_or_method",
    "instance",
    "_Feature"
   ],
   "window_display": false
  }
 },
 "nbformat": 4,
 "nbformat_minor": 2
}
