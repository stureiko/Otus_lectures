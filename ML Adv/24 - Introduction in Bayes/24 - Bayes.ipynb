{
 "cells": [
  {
   "cell_type": "markdown",
   "id": "68cb8882",
   "metadata": {},
   "source": [
    "# Задача"
   ]
  },
  {
   "cell_type": "markdown",
   "id": "3b3d95a5",
   "metadata": {},
   "source": [
    "Потенциально изогнутая монета бросается $n$ раз и $k$ раз выпадает орел.\n",
    "\n",
    "Ваша задача состоит в том, чтобы определить вероятность появления голов $p_h$.\n",
    "\n",
    "Базовый случай: $k=10$, $n=14$.\n",
    "\n",
    "__Исследуйте частотный и байесовский подходы:__\n",
    "- Какова оценка $p$?\n",
    "- Как изменяется результат при малых значениях $n$? При больших значениях $n$?\n",
    "\n",
    "В случае байесовского метода, как влияет предшествование на результат?\n",
    "\n",
    "__Бонусное задание:__ поставите ли вы на то, что следующие два броска выпадет орел?"
   ]
  },
  {
   "cell_type": "code",
   "execution_count": 1,
   "id": "8877ed54",
   "metadata": {},
   "outputs": [],
   "source": [
    "import numpy as np\n",
    "import pandas as pd\n",
    "import scipy\n",
    "from scipy.optimize import minimize\n",
    "from scipy.stats import beta\n",
    "from plotly import express as px\n",
    "from matplotlib import pyplot as plt\n",
    "%matplotlib inline"
   ]
  },
  {
   "cell_type": "code",
   "execution_count": 2,
   "id": "6fd11a0a",
   "metadata": {},
   "outputs": [],
   "source": [
    "# Show graphics in plotly locally\n",
    "import plotly.io as pio\n",
    "pio.renderers.default = 'iframe'"
   ]
  },
  {
   "cell_type": "markdown",
   "id": "3700ccec",
   "metadata": {},
   "source": [
    "## Частотный подход "
   ]
  },
  {
   "cell_type": "markdown",
   "id": "a09d1766",
   "metadata": {},
   "source": [
    "Разделите число орлов на общее число бросков. Частота появления орлов является наилучшей оценкой вероятности появления орлов.\n",
    "$$p_h\\approx \\frac{k}{n} \\approx 0.714$$\n",
    "\n",
    "Почему мы оцениваем $p_h$ именно таким образом?\n",
    "\n",
    "На самом деле этот оценщик максимизирует вероятность данных, т.е. подгонку к данным."
   ]
  },
  {
   "cell_type": "markdown",
   "id": "3c1c8737",
   "metadata": {},
   "source": [
    "### Более подробно\n",
    "__получение оценки MLE__\n",
    "Вероятность получения $k$ орлов и $n-k$ решек при заданном $p_h$ является биномиальным распределением:\n",
    "$$p(h=k, t=n-k|p_h)={n \\choose k} p_h^{k} (1-p_h)^{n-k}$$\n",
    "\n",
    "\n",
    "Чтобы найти $p_h$, которое наилучшим образом соответствует наблюдениям $k=10$, $n=14$, нужно максимизировать вероятность.\n",
    "$$L(p_h) = {14 \\choose 10}p^{10} (1-p)^4$$ \n",
    "\n",
    "Поскольку нас интересует только максимум, а ${14 \\choose 10}$ - константа, то ее можно опустить.\n",
    "$$L(p_h) \\propto p_h^{10} (1-p_h)^4$$ \n",
    "\n",
    "Максимизируем логарифмическое правдоподобие, так как с ним проще работать, но оно имеет тот же максимум.\n",
    "$$\\ln L(p_h) \\propto \\ln p_h^{10} + \\ln(1-p_h)^4$$\n",
    "\n",
    "Проверьте, где производная от нее равна нулю, чтобы найти точку максимума.\n",
    "$$\\frac{\\partial \\ln L(p_h)}{\\partial p_h} = \\frac{10}{p_h} + \\frac{4}{p_h -1} = 0$$\n",
    "\n",
    "Решив для $p_h$, получим $p_h \\approx \\frac{10}{14} \\approx 0.714$."
   ]
  },
  {
   "cell_type": "markdown",
   "id": "7346d471",
   "metadata": {},
   "source": [
    "### Вычислительный путь"
   ]
  },
  {
   "cell_type": "code",
   "execution_count": 3,
   "id": "e197904f",
   "metadata": {},
   "outputs": [],
   "source": [
    "def likelihood(proba, k_successes, n_trials):\n",
    "    return proba**k_successes * (1-proba)**(n_trials-k_successes) \n",
    "\n",
    "def negative_likelihood(*args):\n",
    "    return -likelihood(*args)"
   ]
  },
  {
   "cell_type": "code",
   "execution_count": 4,
   "id": "63e21fa4",
   "metadata": {},
   "outputs": [
    {
     "data": {
      "text/html": [
       "<iframe\n",
       "    scrolling=\"no\"\n",
       "    width=\"100%\"\n",
       "    height=\"545px\"\n",
       "    src=\"iframe_figures/figure_4.html\"\n",
       "    frameborder=\"0\"\n",
       "    allowfullscreen\n",
       "></iframe>\n"
      ]
     },
     "metadata": {},
     "output_type": "display_data"
    }
   ],
   "source": [
    "proba_range = np.arange(0.25, 1.01, 0.01)\n",
    "\n",
    "k_successes = 10\n",
    "n_trials = 14\n",
    "\n",
    "likelihoods = likelihood(proba_range, k_successes, n_trials)\n",
    "\n",
    "plot_df = pd.DataFrame(\n",
    "    {\"$p_h$\":proba_range,\n",
    "     \"$p(data|p_h)$\": likelihoods,\n",
    "     },\n",
    "\n",
    ")\n",
    "px.line(plot_df, x=\"$p_h$\", y=\"$p(data|p_h)$\", title=f\"Likelihood for {k_successes} heads and {n_trials-k_successes} tails\")"
   ]
  },
  {
   "cell_type": "code",
   "execution_count": 5,
   "id": "ba13f051",
   "metadata": {},
   "outputs": [
    {
     "data": {
      "text/plain": [
       "      fun: array([-0.00023038])\n",
       " hess_inv: <1x1 LbfgsInvHessProduct with dtype=float64>\n",
       "      jac: array([5.6230248e-07])\n",
       "  message: 'CONVERGENCE: NORM_OF_PROJECTED_GRADIENT_<=_PGTOL'\n",
       "     nfev: 20\n",
       "      nit: 4\n",
       "     njev: 10\n",
       "   status: 0\n",
       "  success: True\n",
       "        x: array([0.71432129])"
      ]
     },
     "execution_count": 5,
     "metadata": {},
     "output_type": "execute_result"
    }
   ],
   "source": [
    "bnds = ((1e-6, 1.0),)\n",
    "res = minimize(negative_likelihood, 1/2, args=(k_successes, n_trials), bounds=bnds)\n",
    "res"
   ]
  },
  {
   "cell_type": "code",
   "execution_count": 6,
   "id": "08ad0a5a",
   "metadata": {},
   "outputs": [
    {
     "data": {
      "text/plain": [
       "(0.7143212861838556, 0.00023038141796292375)"
      ]
     },
     "execution_count": 6,
     "metadata": {},
     "output_type": "execute_result"
    }
   ],
   "source": [
    "res.x[0], likelihood(res.x[0], k_successes, n_trials)"
   ]
  },
  {
   "cell_type": "markdown",
   "id": "eb59b1c7",
   "metadata": {},
   "source": [
    "### Малое число наблюдейний"
   ]
  },
  {
   "cell_type": "markdown",
   "id": "91cfa54d",
   "metadata": {},
   "source": [
    "Предположим $k=3$, $n=3$. Три броска - три орла."
   ]
  },
  {
   "cell_type": "code",
   "execution_count": 7,
   "id": "dcaeae92",
   "metadata": {},
   "outputs": [
    {
     "name": "stdout",
     "output_type": "stream",
     "text": [
      "      fun: array([-1.])\n",
      " hess_inv: <1x1 LbfgsInvHessProduct with dtype=float64>\n",
      "      jac: array([-2.99999997])\n",
      "  message: 'CONVERGENCE: NORM_OF_PROJECTED_GRADIENT_<=_PGTOL'\n",
      "     nfev: 4\n",
      "      nit: 1\n",
      "     njev: 2\n",
      "   status: 0\n",
      "  success: True\n",
      "        x: array([1.])\n"
     ]
    },
    {
     "data": {
      "text/html": [
       "<iframe\n",
       "    scrolling=\"no\"\n",
       "    width=\"100%\"\n",
       "    height=\"545px\"\n",
       "    src=\"iframe_figures/figure_7.html\"\n",
       "    frameborder=\"0\"\n",
       "    allowfullscreen\n",
       "></iframe>\n"
      ]
     },
     "metadata": {},
     "output_type": "display_data"
    }
   ],
   "source": [
    "proba_range = np.arange(0.01, 1.01, 0.01)\n",
    "\n",
    "k_successes = 3\n",
    "n_trials = 3\n",
    "\n",
    "likelihoods = likelihood(proba_range, k_successes, n_trials)\n",
    "\n",
    "print(minimize(negative_likelihood, 1/2, args=(k_successes, n_trials), bounds=bnds))\n",
    "\n",
    "plot_df = pd.DataFrame(\n",
    "    {\"$p_h$\":proba_range,\n",
    "     \"$p(data|p_h)$\": likelihoods,\n",
    "     },\n",
    "\n",
    ")\n",
    "px.line(plot_df, x=\"$p_h$\", y=\"$p(data|p_h)$\", title=f\"Likelihood for {k_successes} heads and {n_trials-k_successes} tails\")"
   ]
  },
  {
   "cell_type": "markdown",
   "id": "dd54327d",
   "metadata": {},
   "source": [
    "__Модель предсказывает, что монетка нечестная и всегда будет выпадать орел.__"
   ]
  },
  {
   "cell_type": "markdown",
   "id": "a93bf271",
   "metadata": {},
   "source": [
    "__Бонусное задание:__ поставите ли вы на то, что следующие два броска выпадет орел?\n",
    "\n",
    "вернемся к первой задаче: бросается $n=14$ раз и $k=10$ раз выпадает орел. $p_h \\approx \\frac{10}{14} \\approx 0.714$, тогда вероятность двух орлов подряд $p_h^2 \\approx 0.51$"
   ]
  },
  {
   "cell_type": "code",
   "execution_count": 20,
   "id": "457bb8f7",
   "metadata": {},
   "outputs": [
    {
     "data": {
      "text/plain": [
       "0.51"
      ]
     },
     "execution_count": 20,
     "metadata": {},
     "output_type": "execute_result"
    }
   ],
   "source": [
    "np.round(res.x[0]**2, 2)"
   ]
  },
  {
   "cell_type": "markdown",
   "id": "de05fc99",
   "metadata": {},
   "source": [
    "## Байесовский подход"
   ]
  },
  {
   "cell_type": "markdown",
   "id": "d9a9f65d",
   "metadata": {},
   "source": [
    "Считайем, что $p_h$ - это случайная величина, которая имеет распределение, а не одно детерминированное значение.\n",
    "\n",
    "Запишем зависимость $p_h$ от данных с помощью формулы Байеса:\n",
    "$$p(p_h|data) = \\frac{p(data|p_h)p(p_h)}{p(data)}$$.\n",
    "\n",
    "Зная $p(p_h|data)$, апостериорная оценка, мы можем найти наиболее вероятное значение $p_h$ с учетом данных и наших предположений. Это и есть наша цель.\n",
    "\n",
    "$p(data|p_h)$ - это Likelihood, с которым мы познакомились ранее.\n",
    "\n",
    "$p(p_h)$ - это приорная оценка. Мы должны выбрать ее таким образом, чтобы она отражала наши предположения о том, каким может быть $p_h$.\n",
    "\n",
    "$p(data)$ - нормализующая константа, которая заставляет наше распределение находиться в пределах $[0,1]$. Однако для нахождения наиболее вероятных значений она не нужна, поэтому мы можем обойтись и без нее."
   ]
  },
  {
   "cell_type": "markdown",
   "id": "59d95bdb",
   "metadata": {},
   "source": [
    "Лучше всего выбрать [сопряженный prior](https://en.wikipedia.org/wiki/Conjugate_prior), так как он позволяет получить решение в замкнутой форме для $p(p_h|data)$.\n",
    "\n",
    "Предположим, что prior имеет распределение Beta:\n",
    "$$p(p_h) = Beta(p_h;a,b) = \\frac{Γ(a+b)}{Γ(a)Γ(b)} p^{a-1}(1-p_h)^{b-1}∝ p^{a-1}(1-p)^{b-1}$$.\n",
    "\n",
    "Где $Γ$ - гамма-функция, $a$ и $b$ - параметры, которые мы должны выбрать.\n",
    "\n",
    "$\\frac{Γ(a+b)}{Γ(a)Γ(b)}$ - константа, поэтому сейчас она нам не нужна.\n",
    "\n",
    "Рассмотрим, как выглядит этот prior:\n"
   ]
  },
  {
   "cell_type": "code",
   "execution_count": 21,
   "id": "37a3bc46",
   "metadata": {},
   "outputs": [
    {
     "data": {
      "text/html": [
       "<iframe\n",
       "    scrolling=\"no\"\n",
       "    width=\"100%\"\n",
       "    height=\"545px\"\n",
       "    src=\"iframe_figures/figure_21.html\"\n",
       "    frameborder=\"0\"\n",
       "    allowfullscreen\n",
       "></iframe>\n"
      ]
     },
     "metadata": {},
     "output_type": "display_data"
    }
   ],
   "source": [
    "def p_params(a=1, b=1):\n",
    "    distr = beta(a, b)\n",
    "    return distr\n",
    "\n",
    "prior_a = 1\n",
    "prior_b = 1\n",
    "p_h_values_range = np.arange(1e-10, 1, 0.01)\n",
    "\n",
    "\n",
    "prior_distr = p_params(prior_a, prior_b)\n",
    "\n",
    "plot_df = pd.DataFrame({\n",
    "    '$p_h$': p_h_values_range,\n",
    "    '$p(p_h)$': prior_distr.pdf(p_h_values_range),\n",
    "})\n",
    "fig = px.line(plot_df, x='$p_h$', y='$p(p_h)$', title=f'Prior pdf with parameters a={prior_a}, b={prior_b}')\n",
    "fig.update_yaxes(range=[0, 1.2])"
   ]
  },
  {
   "cell_type": "markdown",
   "id": "b45037c1",
   "metadata": {},
   "source": [
    "т.е в данном случае мы считаем, что все возможные вероятности выпадения орла - равновероятны, т.е мы вообще ничего не знаем об этой монетке."
   ]
  },
  {
   "cell_type": "markdown",
   "id": "73e3e1d3",
   "metadata": {},
   "source": [
    "Возможны и други предположения:"
   ]
  },
  {
   "cell_type": "code",
   "execution_count": 22,
   "id": "15e93778",
   "metadata": {},
   "outputs": [
    {
     "data": {
      "text/html": [
       "<iframe\n",
       "    scrolling=\"no\"\n",
       "    width=\"100%\"\n",
       "    height=\"545px\"\n",
       "    src=\"iframe_figures/figure_22.html\"\n",
       "    frameborder=\"0\"\n",
       "    allowfullscreen\n",
       "></iframe>\n"
      ]
     },
     "metadata": {},
     "output_type": "display_data"
    }
   ],
   "source": [
    "prior_a = 10\n",
    "prior_b = 10\n",
    "prior_distr = p_params(prior_a, prior_b)\n",
    "\n",
    "plot_df = pd.DataFrame({\n",
    "    '$p_h$': p_h_values_range,\n",
    "    '$p(p_h)$': prior_distr.pdf(p_h_values_range),\n",
    "})\n",
    "fig = px.line(plot_df, x='$p_h$', y='$p(p_h)$', title=f'Prior pdf with parameters a={prior_a}, b={prior_b}')\n",
    "fig"
   ]
  },
  {
   "cell_type": "code",
   "execution_count": 23,
   "id": "484f631c",
   "metadata": {},
   "outputs": [
    {
     "data": {
      "text/html": [
       "<iframe\n",
       "    scrolling=\"no\"\n",
       "    width=\"100%\"\n",
       "    height=\"545px\"\n",
       "    src=\"iframe_figures/figure_23.html\"\n",
       "    frameborder=\"0\"\n",
       "    allowfullscreen\n",
       "></iframe>\n"
      ]
     },
     "metadata": {},
     "output_type": "display_data"
    }
   ],
   "source": [
    "prior_a = 100\n",
    "prior_b = 100\n",
    "prior_distr = p_params(prior_a, prior_b)\n",
    "\n",
    "plot_df = pd.DataFrame({\n",
    "    '$p_h$': p_h_values_range,\n",
    "    '$p(p_h)$': prior_distr.pdf(p_h_values_range),\n",
    "})\n",
    "fig = px.line(plot_df, x='$p_h$', y='$p(p_h)$', title=f'Prior pdf with parameters a={prior_a}, b={prior_b}')\n",
    "fig"
   ]
  },
  {
   "cell_type": "code",
   "execution_count": 24,
   "id": "309c6fa9",
   "metadata": {},
   "outputs": [
    {
     "data": {
      "text/html": [
       "<iframe\n",
       "    scrolling=\"no\"\n",
       "    width=\"100%\"\n",
       "    height=\"545px\"\n",
       "    src=\"iframe_figures/figure_24.html\"\n",
       "    frameborder=\"0\"\n",
       "    allowfullscreen\n",
       "></iframe>\n"
      ]
     },
     "metadata": {},
     "output_type": "display_data"
    }
   ],
   "source": [
    "prior_a = 100\n",
    "prior_b = 10\n",
    "prior_distr = p_params(prior_a, prior_b)\n",
    "\n",
    "plot_df = pd.DataFrame({\n",
    "    '$p_h$': p_h_values_range,\n",
    "    '$p(p_h)$': prior_distr.pdf(p_h_values_range),\n",
    "})\n",
    "fig = px.line(plot_df, x='$p_h$', y='$p(p_h)$', title=f'Prior pdf with parameters a={prior_a}, b={prior_b}')\n",
    "fig"
   ]
  },
  {
   "cell_type": "markdown",
   "id": "b4187741",
   "metadata": {},
   "source": [
    "### Постериорная оценка"
   ]
  },
  {
   "cell_type": "markdown",
   "id": "bc1a1b4f",
   "metadata": {},
   "source": [
    "Сначала пренебрежем нормирующей константой:\n",
    "$$p(p_h|data)\\propto p(data|p_h)p(p_h) = p_h^{10} (1-p_h)^4 p^{a-1}(1-p)^{b-1} = p^{10+a-1} (1-p)^{4+b-1}$$\n",
    "\n",
    "Мы получили еще одно бета-распределение, но уже без нормирующей константы. Это означает, что нормирующей константой является то, что нормирует эту константу. Это константа, обратная константе из распределения Бета:\n",
    "\n",
    "$$\\frac{1}{\\beta(9+a, 3+b)} = \\frac{Γ(10+a)Γ(4+b)}{Γ(10+a+4+b)}$$\n",
    "\n",
    "Где $\\beta$ - бета-функция (не путать с бета-распределением!).\n",
    "\n",
    "Полный апостериор:\n",
    "$$p(p_h|data) = \\frac{Γ(10+a)Γ(4+b)}{Γ(10+a+4+b)} p^{10+a-1} (1-p)^{4+b-1}$$\n",
    "\n",
    "Получается, что апостериор - это еще одно бета-распределение. \n",
    "\n",
    "Добавленные $a$ и $b$ мы можем интерпретировать как псевдосчеты \"орлов\" и \"решек\". Для $a=3$ и $b=3$ представим себе, что мы бросили монету 6 раз, получили 3 головы и 3 решки, и в результате слабо верим, что монета нечестная. "
   ]
  },
  {
   "cell_type": "code",
   "execution_count": 25,
   "id": "fbeb2f3e",
   "metadata": {},
   "outputs": [],
   "source": [
    "def p_params_given_data(k_successes, n_trials, a=1, b=1):\n",
    "    posterior_a = k_successes+a-1\n",
    "    posterior_b = n_trials-k_successes+b-1\n",
    "    distr = beta(posterior_a, posterior_b)\n",
    "    return distr"
   ]
  },
  {
   "cell_type": "code",
   "execution_count": 26,
   "id": "f8a35a74",
   "metadata": {},
   "outputs": [
    {
     "data": {
      "text/html": [
       "<iframe\n",
       "    scrolling=\"no\"\n",
       "    width=\"100%\"\n",
       "    height=\"545px\"\n",
       "    src=\"iframe_figures/figure_26.html\"\n",
       "    frameborder=\"0\"\n",
       "    allowfullscreen\n",
       "></iframe>\n"
      ]
     },
     "metadata": {},
     "output_type": "display_data"
    }
   ],
   "source": [
    "prior_a = 1\n",
    "prior_b = 1\n",
    "k_successes = 10\n",
    "n_trials = 14\n",
    "posterior_distr = p_params_given_data(k_successes, n_trials, a=prior_a, b=prior_b)\n",
    "\n",
    "plot_df = pd.DataFrame({\n",
    "    '$p_h$': p_h_values_range,\n",
    "    '$p(p_h|data)$': posterior_distr.pdf(p_h_values_range),\n",
    "})\n",
    "fig = px.line(plot_df, x='$p_h$', y='$p(p_h|data)$', title=f'Posterior pdf with prior parameters a={prior_a}, b={prior_b}')\n",
    "fig"
   ]
  },
  {
   "cell_type": "markdown",
   "id": "0d7793d1",
   "metadata": {},
   "source": [
    "### Исследуем зависимости от исходов и приора"
   ]
  },
  {
   "cell_type": "markdown",
   "id": "1c6c24b6",
   "metadata": {},
   "source": [
    "#### Фиксируем приор и количество выпавших решек. Изменяем количество орлов"
   ]
  },
  {
   "cell_type": "code",
   "execution_count": 29,
   "id": "be4962f0",
   "metadata": {},
   "outputs": [
    {
     "data": {
      "text/html": [
       "<iframe\n",
       "    scrolling=\"no\"\n",
       "    width=\"100%\"\n",
       "    height=\"545px\"\n",
       "    src=\"iframe_figures/figure_29.html\"\n",
       "    frameborder=\"0\"\n",
       "    allowfullscreen\n",
       "></iframe>\n"
      ]
     },
     "metadata": {},
     "output_type": "display_data"
    }
   ],
   "source": [
    "import plotly.graph_objects as go\n",
    "import numpy as np\n",
    "\n",
    "fig = go.Figure()\n",
    "\n",
    "prior_a = 5\n",
    "prior_b = 5\n",
    "\n",
    "num_heads_range = list(range(0, 11, 2))+[15, 30, 60, 100]\n",
    "\n",
    "num_tails = 10\n",
    "\n",
    "for num_heads in num_heads_range:\n",
    "    posterior_distr = p_params_given_data(num_heads, num_heads+num_tails, a=prior_a, b=prior_b)\n",
    "\n",
    "    fig.add_trace(\n",
    "        go.Scatter(x=p_h_values_range, y=posterior_distr.pdf(p_h_values_range),\n",
    "                    mode='lines',\n",
    "                    visible=False)\n",
    "        \n",
    "    )\n",
    "\n",
    "\n",
    "# Create and add slider\n",
    "steps = []\n",
    "for i in range(len(fig.data)):\n",
    "    step = dict(\n",
    "        method=\"update\",\n",
    "        label=f\"{num_heads_range[i]} орлы\",\n",
    "        args=[{\"visible\": [False] * len(fig.data)},\n",
    "              {\"title\": f\"Количество: орлов: {num_heads_range[i]}, решек: {num_tails}\\nPrior a(орлы)={prior_a}, b(решки)={prior_b}\"},\n",
    "              ],\n",
    "    )\n",
    "    step[\"args\"][0][\"visible\"][i] = True  \n",
    "    steps.append(step)\n",
    "\n",
    "active_idx = 5\n",
    "sliders = [dict(\n",
    "    active=active_idx,\n",
    "    pad={\"t\": 50},\n",
    "    steps=steps,\n",
    ")]\n",
    "\n",
    "fig.data[active_idx].visible = True\n",
    "\n",
    "fig.update_layout(\n",
    "    sliders=sliders\n",
    ")\n",
    "\n",
    "fig.update_layout(xaxis_range=[0,1],\n",
    "                  xaxis = dict(\n",
    "                    tickmode = 'linear',\n",
    "                    tick0 = 0,\n",
    "                    dtick = 0.05\n",
    "                  ),\n",
    "                  yaxis_range=[0,15],\n",
    "                  title=f\"Количество: орлов: {num_heads_range[active_idx]}, решек: {num_tails}\\nPrior a(орлы)={prior_a} b(решки)={prior_b}\")\n",
    "\n",
    "\n",
    "fig.show()"
   ]
  },
  {
   "cell_type": "markdown",
   "id": "f9f2382c",
   "metadata": {},
   "source": [
    "#### Фиксируем количество орлов и решек и варьируем параметр a приора"
   ]
  },
  {
   "cell_type": "code",
   "execution_count": 30,
   "id": "eafabdde",
   "metadata": {},
   "outputs": [
    {
     "data": {
      "text/html": [
       "<iframe\n",
       "    scrolling=\"no\"\n",
       "    width=\"100%\"\n",
       "    height=\"545px\"\n",
       "    src=\"iframe_figures/figure_30.html\"\n",
       "    frameborder=\"0\"\n",
       "    allowfullscreen\n",
       "></iframe>\n"
      ]
     },
     "metadata": {},
     "output_type": "display_data"
    }
   ],
   "source": [
    "fig = go.Figure()\n",
    "\n",
    "prior_b = 4\n",
    "\n",
    "prior_a_range = list(range(0, 11, 2))+[15, 30, 60, 100]\n",
    "\n",
    "num_tails = 7\n",
    "num_heads = 14\n",
    "\n",
    "for prior_a in prior_a_range:\n",
    "    posterior_distr = p_params_given_data(num_heads, num_heads+num_tails, a=prior_a, b=prior_b)\n",
    "    fig.add_trace(\n",
    "        go.Scatter(x=p_h_values_range, y=posterior_distr.pdf(p_h_values_range),\n",
    "                    mode='lines',\n",
    "                    visible=False)\n",
    "        \n",
    "    )\n",
    "\n",
    "\n",
    "# Create and add slider\n",
    "steps = []\n",
    "for i in range(len(fig.data)):\n",
    "    step = dict(\n",
    "        method=\"update\",\n",
    "        label=f\"prior a {prior_a_range[i]}\",\n",
    "        args=[{\"visible\": [False] * len(fig.data)},\n",
    "              {\"title\": f\"Количество: орлов: {num_heads}, решек: {num_tails}\\nPrior a(орлы)={prior_a_range[i]}, b(решки)={prior_b}\"},\n",
    "              ],\n",
    "    )\n",
    "    step[\"args\"][0][\"visible\"][i] = True  \n",
    "    steps.append(step)\n",
    "\n",
    "active_idx = 5\n",
    "sliders = [dict(\n",
    "    active=active_idx,\n",
    "    pad={\"t\": 50},\n",
    "    steps=steps,\n",
    ")]\n",
    "\n",
    "fig.data[active_idx].visible = True\n",
    "\n",
    "fig.update_layout(\n",
    "    sliders=sliders\n",
    ")\n",
    "\n",
    "fig.update_layout(xaxis_range=[0,1],\n",
    "                  xaxis = dict(\n",
    "                    tickmode = 'linear',\n",
    "                    tick0 = 0,\n",
    "                    dtick = 0.05\n",
    "                  ),\n",
    "                  yaxis_range=[0, 15],\n",
    "                  title=f\"Количество: орлов: {num_heads}, решек: {num_tails}\\nPrior a(орлы)={prior_a_range[active_idx]}, b(решки)={prior_b}\")\n",
    "\n",
    "\n",
    "fig.show()"
   ]
  },
  {
   "cell_type": "markdown",
   "id": "ce9df374",
   "metadata": {},
   "source": [
    "# Какова вероятность выпасть двум орлам?"
   ]
  },
  {
   "cell_type": "markdown",
   "id": "e74b63f1",
   "metadata": {},
   "source": [
    "Все зависит от вашего приора - т.е от вашего опыта и предположения о вопросе"
   ]
  },
  {
   "cell_type": "markdown",
   "id": "4b242a8a",
   "metadata": {},
   "source": [
    "Интегрируем по всем возможным значениям $p_h$ и суммируем вероятности наблюдения двух орлов. При этом учитывается не только наиболее вероятное значение $p_h$, но и вероятность увидеть два орла при всех возможных значениях $p_h$, \n",
    "\n",
    "По сути, он делает прогнозы по многим гипотезам и суммирует их, взвешивая по степени обоснованности гипотез.\n",
    "\n",
    "$$P(HH|data)= \\int_{0}^{1} P(HH|p_h)⋅P(p_h|data)\\ \\\\partial p_h$$\n",
    "\n",
    "Мы знаем, что броски монет независимы, поэтому:\n",
    "$$P(HH|p_h) == p_h^2$$.\n",
    "\n",
    "$$P(HH|data)= \\int_{0}^{1} p_h^2⋅P(p_h|data)\\ \\partial p_h$$\n",
    "\n",
    "Подставляя апостериор, получаем:\n",
    "\n",
    "$$p(p_h|data) = \\frac{Γ(k+a)Γ((n-k)+b)}{Γ(k+a+(n-k)+b)} p^{k+a-1} (1-p)^{(n-k)+b-1}$$\n",
    "\n",
    "\n",
    "\n",
    "$$P(HH|data)= \\frac{Γ(k+a)Γ((n-k)+b)}{Γ(k+a+(n-k)+b)} \\int_{0}^{1} p_h^2 ⋅ p^{k+a-1} (1-p)^{(n-k)+b-1} \\ \\\\partial p_h$$\n",
    "\n",
    "Решая интеграл, получаем:\n",
    "\n",
    "\n",
    "$$P(HH|data)= \\frac{Γ(k+a)Γ((n-k)+b)}{Γ(k+a+(n-k)+b)} \\cdot \\frac{Γ(k+a+2+(n-k)+b)}{Γ(k+a+2)Γ((n-k)+b)} = \\frac{\\beta(k+a+2,(n-k)+b)}{\\beta(k+a,(n-k)+b)}$$\n",
    "\n"
   ]
  },
  {
   "cell_type": "code",
   "execution_count": 31,
   "id": "18fe2d27",
   "metadata": {},
   "outputs": [],
   "source": [
    "from scipy.special import beta as beta_func\n",
    "def predict_proba(\n",
    "    predicted_heads,\n",
    "    k_heads,\n",
    "    n_trials,\n",
    "    prior_a,\n",
    "    prior_b,\n",
    "    ):\n",
    "    return beta_func(k_heads+prior_a+2,n_trials-k_heads+prior_b)/beta_func(k_heads+prior_a, n_trials-k_heads+prior_b)"
   ]
  },
  {
   "cell_type": "code",
   "execution_count": 32,
   "id": "0fbe0ea4",
   "metadata": {},
   "outputs": [
    {
     "data": {
      "text/plain": [
       "0.4852941176470588"
      ]
     },
     "execution_count": 32,
     "metadata": {},
     "output_type": "execute_result"
    }
   ],
   "source": [
    "num_head = 2\n",
    "total_head = 10\n",
    "total_toss = 14\n",
    "prior_a = 1\n",
    "prior_b = 1\n",
    "predict_proba(num_head, total_head, total_toss, prior_a, prior_b)"
   ]
  },
  {
   "cell_type": "code",
   "execution_count": 33,
   "id": "db591504",
   "metadata": {},
   "outputs": [
    {
     "data": {
      "text/plain": [
       "0.2653770919364518"
      ]
     },
     "execution_count": 33,
     "metadata": {},
     "output_type": "execute_result"
    }
   ],
   "source": [
    "num_head = 2\n",
    "total_head = 10\n",
    "total_toss = 14\n",
    "prior_a = 100\n",
    "prior_b = 100\n",
    "predict_proba(num_head, total_head, total_toss, prior_a, prior_b)"
   ]
  },
  {
   "cell_type": "markdown",
   "id": "66e38dab",
   "metadata": {},
   "source": [
    "# Смещение уверенности"
   ]
  },
  {
   "cell_type": "code",
   "execution_count": 35,
   "id": "3168b8bc",
   "metadata": {},
   "outputs": [],
   "source": [
    "import scipy.stats as st"
   ]
  },
  {
   "cell_type": "code",
   "execution_count": 41,
   "id": "de8463ec",
   "metadata": {},
   "outputs": [
    {
     "name": "stderr",
     "output_type": "stream",
     "text": [
      "/Users/stureiko/Library/Application Support/pypoetry/venv/lib/python3.10/site-packages/scipy/stats/_continuous_distns.py:624: RuntimeWarning:\n",
      "\n",
      "overflow encountered in _beta_ppf\n",
      "\n"
     ]
    },
    {
     "data": {
      "image/png": "[encoded data removed]",
      "text/plain": [
       "<Figure size 1200x900 with 1 Axes>"
      ]
     },
     "metadata": {},
     "output_type": "display_data"
    }
   ],
   "source": [
    "n = 100\n",
    "h = 61\n",
    "p = h/n\n",
    "rv = st.binom(n, p)\n",
    "mu = rv.mean()\n",
    "\n",
    "a, b = 20, 20\n",
    "prior = st.beta(a, b)\n",
    "post = st.beta(h+a, n-h+b)\n",
    "ci = post.interval(0.95)\n",
    "\n",
    "thetas = np.linspace(0, 1, 200)\n",
    "plt.figure(figsize=(12, 9))\n",
    "plt.style.use('ggplot')\n",
    "plt.plot(thetas, prior.pdf(thetas), label='Prior', c='blue')\n",
    "plt.plot(thetas, post.pdf(thetas), label='Posterior', c='red')\n",
    "plt.plot(thetas, n*st.binom(n, thetas).pmf(h), label='Likelihood', c='green')\n",
    "plt.axvline((h+a-1)/(n+a+b-2), c='red', linestyle='dashed', alpha=0.4, label='MAP')\n",
    "plt.axvline(mu/n, c='green', linestyle='dashed', alpha=0.4, label='MLE')\n",
    "plt.xlim([0, 1])\n",
    "plt.xlabel(r'$\\theta$', fontsize=14)\n",
    "plt.ylabel('Density', fontsize=16)\n",
    "plt.legend();"
   ]
  },
  {
   "cell_type": "code",
   "execution_count": null,
   "id": "4a3c2de8",
   "metadata": {},
   "outputs": [],
   "source": []
  }
 ],
 "metadata": {
  "kernelspec": {
   "display_name": "Python 3 (ipykernel)",
   "language": "python",
   "name": "python3"
  },
  "language_info": {
   "codemirror_mode": {
    "name": "ipython",
    "version": 3
   },
   "file_extension": ".py",
   "mimetype": "text/x-python",
   "name": "python",
   "nbconvert_exporter": "python",
   "pygments_lexer": "ipython3",
   "version": "3.10.8"
  },
  "toc": {
   "base_numbering": 1,
   "nav_menu": {},
   "number_sections": true,
   "sideBar": true,
   "skip_h1_title": false,
   "title_cell": "Table of Contents",
   "title_sidebar": "Contents",
   "toc_cell": false,
   "toc_position": {},
   "toc_section_display": true,
   "toc_window_display": false
  }
 },
 "nbformat": 4,
 "nbformat_minor": 5
}
