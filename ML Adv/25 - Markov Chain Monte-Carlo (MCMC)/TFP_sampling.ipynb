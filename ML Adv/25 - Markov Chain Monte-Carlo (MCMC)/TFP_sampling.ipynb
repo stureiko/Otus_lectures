{
 "cells": [
  {
   "cell_type": "code",
   "execution_count": 1,
   "id": "fe780267-5aad-4d86-979b-ba19d117916b",
   "metadata": {},
   "outputs": [],
   "source": [
    "import tensorflow as tf\n",
    "import tensorflow_probability as tfp\n",
    "import numpy as np\n",
    "import matplotlib.pyplot as plt\n",
    "import warnings\n",
    "warnings.filterwarnings('ignore')\n",
    "\n",
    "# отключаем вывод предупреждений tensorflow\n",
    "import os\n",
    "os.environ['TF_CPP_MIN_LOG_LEVEL'] = '3'"
   ]
  },
  {
   "cell_type": "markdown",
   "id": "fabd24b5-cf0d-4a35-9f4c-ecd7f1d96d43",
   "metadata": {},
   "source": [
    "## Hamiltonian Monte-Carlo"
   ]
  },
  {
   "cell_type": "code",
   "execution_count": 5,
   "id": "604e472b-b92b-4947-a907-400846d08fef",
   "metadata": {
    "scrolled": true
   },
   "outputs": [],
   "source": [
    "# Сгенерируем синтетические данные\n",
    "np.random.seed(42)\n",
    "observed_data = np.random.normal(loc=5, scale=2, size=100)\n",
    "\n",
    "# Специфицируем байесовскую модель\n",
    "# Задаем prior-распределения для параметров модели\n",
    "prior_mu = tfp.distributions.Normal(loc=0.0, scale=10.0)\n",
    "prior_sigma = tfp.distributions.HalfNormal(scale=10.0)\n",
    "\n",
    "# Задаем модель для данных\n",
    "def log_prob(mu, sigma):\n",
    "    likelihood = tfp.distributions.Normal(loc=mu, scale=sigma)\n",
    "    return tf.reduce_sum(likelihood.log_prob(observed_data)) + tf.reduce_sum(prior_mu.log_prob(mu)) + tf.reduce_sum(prior_sigma.log_prob(sigma))\n",
    "\n",
    "# Запускаем MCMC-алгоритм и получаем семплы\n",
    "n_samples = 1000\n",
    "initial_state = [tf.constant(0.0), tf.constant(1.0)]\n",
    "\n",
    "states, kernel_results = tfp.mcmc.sample_chain(num_results=n_samples,\n",
    "                                           num_burnin_steps=100,\n",
    "                                           current_state=initial_state,\n",
    "                                           kernel=tfp.mcmc.HamiltonianMonteCarlo(target_log_prob_fn=lambda mu, sigma: log_prob(mu, sigma), \n",
    "                                                                                 step_size=0.01, \n",
    "                                                                                 num_leapfrog_steps=10))\n",
    "\n",
    "# Получаем семплы параметров из постериорного распределения\n",
    "mu_samples = states[0].numpy()\n",
    "sigma_samples = states[1].numpy()"
   ]
  },
  {
   "cell_type": "code",
   "execution_count": 6,
   "id": "7d40978c-b675-40f3-ba98-165808c2f421",
   "metadata": {},
   "outputs": [
    {
     "data": {
      "image/png": "[encoded data removed]",
      "text/plain": [
       "<Figure size 640x480 with 1 Axes>"
      ]
     },
     "metadata": {},
     "output_type": "display_data"
    }
   ],
   "source": [
    "# Визуализация результатов\n",
    "plt.hist(mu_samples, bins=20, alpha=0.5, label='Posterior mu')\n",
    "plt.hist(sigma_samples, bins=20, alpha=0.5, label='Posterior sigma')\n",
    "plt.legend()\n",
    "plt.show()"
   ]
  },
  {
   "cell_type": "code",
   "execution_count": null,
   "id": "c6c22bd6-f8b6-47fc-8e93-c68c42b8d246",
   "metadata": {},
   "outputs": [],
   "source": []
  }
 ],
 "metadata": {
  "kernelspec": {
   "display_name": "Python 3 (ipykernel)",
   "language": "python",
   "name": "python3"
  },
  "language_info": {
   "codemirror_mode": {
    "name": "ipython",
    "version": 3
   },
   "file_extension": ".py",
   "mimetype": "text/x-python",
   "name": "python",
   "nbconvert_exporter": "python",
   "pygments_lexer": "ipython3",
   "version": "3.10.12"
  }
 },
 "nbformat": 4,
 "nbformat_minor": 5
}
