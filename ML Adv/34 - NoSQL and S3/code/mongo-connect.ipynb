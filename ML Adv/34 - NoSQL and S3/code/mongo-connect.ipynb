{
 "cells": [
  {
   "cell_type": "markdown",
   "metadata": {},
   "source": [
    "# Работа с MongoDB - основы"
   ]
  },
  {
   "cell_type": "code",
   "execution_count": 1,
   "metadata": {},
   "outputs": [],
   "source": [
    "from pymongo import MongoClient"
   ]
  },
  {
   "cell_type": "code",
   "execution_count": 2,
   "metadata": {},
   "outputs": [],
   "source": [
    "client = MongoClient('localhost', 27017)\n",
    "db = client['my_test_database']\n",
    "coll = db['my_test_collection'] "
   ]
  },
  {
   "cell_type": "code",
   "execution_count": 3,
   "metadata": {},
   "outputs": [
    {
     "name": "stdout",
     "output_type": "stream",
     "text": [
      "['admin', 'config', 'local']\n"
     ]
    }
   ],
   "source": [
    "print(client.list_database_names())"
   ]
  },
  {
   "cell_type": "code",
   "execution_count": 4,
   "metadata": {},
   "outputs": [],
   "source": [
    "mydict = { \"name\": \"John\", \"address\": \"Highway 37\" }\n",
    "\n",
    "x = coll.insert_one(mydict)"
   ]
  },
  {
   "cell_type": "code",
   "execution_count": 5,
   "metadata": {},
   "outputs": [
    {
     "name": "stdout",
     "output_type": "stream",
     "text": [
      "['admin', 'config', 'local', 'my_test_database']\n"
     ]
    }
   ],
   "source": [
    "print(client.list_database_names())"
   ]
  },
  {
   "cell_type": "code",
   "execution_count": 6,
   "metadata": {},
   "outputs": [],
   "source": [
    "mylist = [\n",
    "    { \"name\": \"Amy\", \"address\": \"Apple st 652\"},\n",
    "    { \"name\": \"Hannah\", \"address\": \"Mountain 21\"},\n",
    "    { \"name\": \"Michael\", \"address\": \"Valley 345\"},\n",
    "    { \"name\": \"Sandy\", \"address\": \"Ocean blvd 2\"},\n",
    "    { \"name\": \"Betty\", \"address\": \"Green Grass 1\"},\n",
    "    { \"name\": \"Richard\", \"address\": \"Sky st 331\"},\n",
    "    { \"name\": \"Susan\", \"address\": \"One way 98\"},\n",
    "    { \"name\": \"Vicky\", \"address\": \"Yellow Garden 2\"},\n",
    "    { \"name\": \"Ben\", \"address\": \"Park Lane 38\"},\n",
    "    { \"name\": \"William\", \"address\": \"Central st 954\"},\n",
    "    { \"name\": \"Chuck\", \"address\": \"Main Road 989\"},\n",
    "    { \"name\": \"Viola\", \"address\": \"Sideway 1633\"}\n",
    "]"
   ]
  },
  {
   "cell_type": "code",
   "execution_count": 7,
   "metadata": {},
   "outputs": [],
   "source": [
    "x = coll.insert_many(mylist)\n"
   ]
  },
  {
   "cell_type": "code",
   "execution_count": 8,
   "metadata": {},
   "outputs": [
    {
     "name": "stdout",
     "output_type": "stream",
     "text": [
      "66e481c00c7164866490dee5\n",
      "66e481c00c7164866490dee6\n",
      "66e481c00c7164866490dee7\n",
      "66e481c00c7164866490dee8\n",
      "66e481c00c7164866490dee9\n",
      "66e481c00c7164866490deea\n",
      "66e481c00c7164866490deeb\n",
      "66e481c00c7164866490deec\n",
      "66e481c00c7164866490deed\n",
      "66e481c00c7164866490deee\n",
      "66e481c00c7164866490deef\n",
      "66e481c00c7164866490def0\n"
     ]
    }
   ],
   "source": [
    "#print list of the _id values of the inserted documents:\n",
    "for ids in x.inserted_ids:\n",
    "    print(ids)"
   ]
  },
  {
   "cell_type": "code",
   "execution_count": 9,
   "metadata": {},
   "outputs": [
    {
     "name": "stdout",
     "output_type": "stream",
     "text": [
      "{'_id': ObjectId('66e4819b0c7164866490dee4'), 'name': 'John', 'address': 'Highway 37'}\n",
      "{'_id': ObjectId('66e481c00c7164866490dee5'), 'name': 'Amy', 'address': 'Apple st 652'}\n",
      "{'_id': ObjectId('66e481c00c7164866490dee6'), 'name': 'Hannah', 'address': 'Mountain 21'}\n",
      "{'_id': ObjectId('66e481c00c7164866490dee7'), 'name': 'Michael', 'address': 'Valley 345'}\n",
      "{'_id': ObjectId('66e481c00c7164866490dee8'), 'name': 'Sandy', 'address': 'Ocean blvd 2'}\n",
      "{'_id': ObjectId('66e481c00c7164866490dee9'), 'name': 'Betty', 'address': 'Green Grass 1'}\n",
      "{'_id': ObjectId('66e481c00c7164866490deea'), 'name': 'Richard', 'address': 'Sky st 331'}\n",
      "{'_id': ObjectId('66e481c00c7164866490deeb'), 'name': 'Susan', 'address': 'One way 98'}\n",
      "{'_id': ObjectId('66e481c00c7164866490deec'), 'name': 'Vicky', 'address': 'Yellow Garden 2'}\n",
      "{'_id': ObjectId('66e481c00c7164866490deed'), 'name': 'Ben', 'address': 'Park Lane 38'}\n",
      "{'_id': ObjectId('66e481c00c7164866490deee'), 'name': 'William', 'address': 'Central st 954'}\n",
      "{'_id': ObjectId('66e481c00c7164866490deef'), 'name': 'Chuck', 'address': 'Main Road 989'}\n",
      "{'_id': ObjectId('66e481c00c7164866490def0'), 'name': 'Viola', 'address': 'Sideway 1633'}\n"
     ]
    }
   ],
   "source": [
    "# get all records\n",
    "for x in coll.find():\n",
    "    print(x)"
   ]
  },
  {
   "cell_type": "code",
   "execution_count": 11,
   "metadata": {},
   "outputs": [
    {
     "name": "stdout",
     "output_type": "stream",
     "text": [
      "{'_id': ObjectId('66e4819b0c7164866490dee4'), 'name': 'John', 'address': 'Highway 37'}\n",
      "{'_id': ObjectId('66e481c00c7164866490dee5'), 'name': 'Amy', 'address': 'Apple st 652'}\n",
      "{'_id': ObjectId('66e481c00c7164866490dee6'), 'name': 'Hannah', 'address': 'Mountain 21'}\n",
      "{'_id': ObjectId('66e481c00c7164866490dee7'), 'name': 'Michael', 'address': 'Valley 345'}\n"
     ]
    }
   ],
   "source": [
    "# limit resuts\n",
    "for x in coll.find().limit(4):\n",
    "    print(x)"
   ]
  },
  {
   "cell_type": "code",
   "execution_count": 14,
   "metadata": {},
   "outputs": [
    {
     "name": "stdout",
     "output_type": "stream",
     "text": [
      "{'_id': ObjectId('66e481c00c7164866490dee6'), 'name': 'Hannah', 'address': 'Mountain 21'}\n",
      "{'_id': ObjectId('66e481c00c7164866490dee7'), 'name': 'Michael', 'address': 'Valley 345'}\n",
      "{'_id': ObjectId('66e481c00c7164866490dee8'), 'name': 'Sandy', 'address': 'Ocean blvd 2'}\n",
      "{'_id': ObjectId('66e481c00c7164866490deea'), 'name': 'Richard', 'address': 'Sky st 331'}\n",
      "{'_id': ObjectId('66e481c00c7164866490deeb'), 'name': 'Susan', 'address': 'One way 98'}\n",
      "{'_id': ObjectId('66e481c00c7164866490deec'), 'name': 'Vicky', 'address': 'Yellow Garden 2'}\n",
      "{'_id': ObjectId('66e481c00c7164866490deed'), 'name': 'Ben', 'address': 'Park Lane 38'}\n",
      "{'_id': ObjectId('66e481c00c7164866490deef'), 'name': 'Chuck', 'address': 'Main Road 989'}\n",
      "{'_id': ObjectId('66e481c00c7164866490def0'), 'name': 'Viola', 'address': 'Sideway 1633'}\n"
     ]
    }
   ],
   "source": [
    "# filter by address begins with S or further alphabetically.\n",
    "myquery = { \"address\": { \"$gt\": \"Ma\" } }\n",
    "\n",
    "for x in coll.find(myquery):\n",
    "    print(x)"
   ]
  },
  {
   "cell_type": "code",
   "execution_count": 15,
   "metadata": {},
   "outputs": [
    {
     "name": "stdout",
     "output_type": "stream",
     "text": [
      "{'_id': ObjectId('66e481c00c7164866490deea'), 'name': 'Richard', 'address': 'Sky st 331'}\n",
      "{'_id': ObjectId('66e481c00c7164866490def0'), 'name': 'Viola', 'address': 'Sideway 1633'}\n"
     ]
    }
   ],
   "source": [
    "# filter by address start from 'S'\n",
    "myquery = { \"address\": { \"$regex\": \"^S\" } }\n",
    "\n",
    "for x in coll.find(myquery):\n",
    "    print(x)"
   ]
  },
  {
   "cell_type": "code",
   "execution_count": 16,
   "metadata": {},
   "outputs": [
    {
     "name": "stdout",
     "output_type": "stream",
     "text": [
      "{'_id': ObjectId('66e481c00c7164866490dee5'), 'name': 'Amy', 'address': 'Apple st 652'}\n",
      "{'_id': ObjectId('66e481c00c7164866490deed'), 'name': 'Ben', 'address': 'Park Lane 38'}\n",
      "{'_id': ObjectId('66e481c00c7164866490dee9'), 'name': 'Betty', 'address': 'Green Grass 1'}\n",
      "{'_id': ObjectId('66e481c00c7164866490deef'), 'name': 'Chuck', 'address': 'Main Road 989'}\n",
      "{'_id': ObjectId('66e481c00c7164866490dee6'), 'name': 'Hannah', 'address': 'Mountain 21'}\n",
      "{'_id': ObjectId('66e4819b0c7164866490dee4'), 'name': 'John', 'address': 'Highway 37'}\n",
      "{'_id': ObjectId('66e481c00c7164866490dee7'), 'name': 'Michael', 'address': 'Valley 345'}\n",
      "{'_id': ObjectId('66e481c00c7164866490deea'), 'name': 'Richard', 'address': 'Sky st 331'}\n",
      "{'_id': ObjectId('66e481c00c7164866490dee8'), 'name': 'Sandy', 'address': 'Ocean blvd 2'}\n",
      "{'_id': ObjectId('66e481c00c7164866490deeb'), 'name': 'Susan', 'address': 'One way 98'}\n",
      "{'_id': ObjectId('66e481c00c7164866490deec'), 'name': 'Vicky', 'address': 'Yellow Garden 2'}\n",
      "{'_id': ObjectId('66e481c00c7164866490def0'), 'name': 'Viola', 'address': 'Sideway 1633'}\n",
      "{'_id': ObjectId('66e481c00c7164866490deee'), 'name': 'William', 'address': 'Central st 954'}\n"
     ]
    }
   ],
   "source": [
    "# sort by name ascending\n",
    "for x in coll.find().sort('name', 1):\n",
    "    print(x)"
   ]
  },
  {
   "cell_type": "code",
   "execution_count": 17,
   "metadata": {},
   "outputs": [
    {
     "name": "stdout",
     "output_type": "stream",
     "text": [
      "{'_id': ObjectId('66e481c00c7164866490deee'), 'name': 'William', 'address': 'Central st 954'}\n",
      "{'_id': ObjectId('66e481c00c7164866490def0'), 'name': 'Viola', 'address': 'Sideway 1633'}\n",
      "{'_id': ObjectId('66e481c00c7164866490deec'), 'name': 'Vicky', 'address': 'Yellow Garden 2'}\n",
      "{'_id': ObjectId('66e481c00c7164866490deeb'), 'name': 'Susan', 'address': 'One way 98'}\n",
      "{'_id': ObjectId('66e481c00c7164866490dee8'), 'name': 'Sandy', 'address': 'Ocean blvd 2'}\n",
      "{'_id': ObjectId('66e481c00c7164866490deea'), 'name': 'Richard', 'address': 'Sky st 331'}\n",
      "{'_id': ObjectId('66e481c00c7164866490dee7'), 'name': 'Michael', 'address': 'Valley 345'}\n",
      "{'_id': ObjectId('66e4819b0c7164866490dee4'), 'name': 'John', 'address': 'Highway 37'}\n",
      "{'_id': ObjectId('66e481c00c7164866490dee6'), 'name': 'Hannah', 'address': 'Mountain 21'}\n",
      "{'_id': ObjectId('66e481c00c7164866490deef'), 'name': 'Chuck', 'address': 'Main Road 989'}\n",
      "{'_id': ObjectId('66e481c00c7164866490dee9'), 'name': 'Betty', 'address': 'Green Grass 1'}\n",
      "{'_id': ObjectId('66e481c00c7164866490deed'), 'name': 'Ben', 'address': 'Park Lane 38'}\n",
      "{'_id': ObjectId('66e481c00c7164866490dee5'), 'name': 'Amy', 'address': 'Apple st 652'}\n"
     ]
    }
   ],
   "source": [
    "# sort by name descending\n",
    "for x in coll.find().sort('name', -1):\n",
    "    print(x)"
   ]
  },
  {
   "cell_type": "markdown",
   "metadata": {},
   "source": [
    "## Вставить сложные объекты в ту же коллекцию"
   ]
  },
  {
   "cell_type": "code",
   "execution_count": 18,
   "metadata": {},
   "outputs": [],
   "source": [
    "mydict = { \"names\": [\"John\", \"Jane\", \"Ann\"], \"address\": \"Highway 37\" }\n",
    "\n",
    "x = coll.insert_one(mydict)"
   ]
  },
  {
   "cell_type": "code",
   "execution_count": 19,
   "metadata": {},
   "outputs": [
    {
     "name": "stdout",
     "output_type": "stream",
     "text": [
      "{'_id': ObjectId('66e4819b0c7164866490dee4'), 'name': 'John', 'address': 'Highway 37'}\n",
      "{'_id': ObjectId('66e481c00c7164866490dee5'), 'name': 'Amy', 'address': 'Apple st 652'}\n",
      "{'_id': ObjectId('66e481c00c7164866490dee6'), 'name': 'Hannah', 'address': 'Mountain 21'}\n",
      "{'_id': ObjectId('66e481c00c7164866490dee7'), 'name': 'Michael', 'address': 'Valley 345'}\n",
      "{'_id': ObjectId('66e481c00c7164866490dee8'), 'name': 'Sandy', 'address': 'Ocean blvd 2'}\n",
      "{'_id': ObjectId('66e481c00c7164866490dee9'), 'name': 'Betty', 'address': 'Green Grass 1'}\n",
      "{'_id': ObjectId('66e481c00c7164866490deea'), 'name': 'Richard', 'address': 'Sky st 331'}\n",
      "{'_id': ObjectId('66e481c00c7164866490deeb'), 'name': 'Susan', 'address': 'One way 98'}\n",
      "{'_id': ObjectId('66e481c00c7164866490deec'), 'name': 'Vicky', 'address': 'Yellow Garden 2'}\n",
      "{'_id': ObjectId('66e481c00c7164866490deed'), 'name': 'Ben', 'address': 'Park Lane 38'}\n",
      "{'_id': ObjectId('66e481c00c7164866490deee'), 'name': 'William', 'address': 'Central st 954'}\n",
      "{'_id': ObjectId('66e481c00c7164866490deef'), 'name': 'Chuck', 'address': 'Main Road 989'}\n",
      "{'_id': ObjectId('66e481c00c7164866490def0'), 'name': 'Viola', 'address': 'Sideway 1633'}\n",
      "{'_id': ObjectId('66e4835c0c7164866490def1'), 'names': ['John', 'Jane', 'Ann'], 'address': 'Highway 37'}\n"
     ]
    }
   ],
   "source": [
    "for x in coll.find():\n",
    "    print(x)"
   ]
  },
  {
   "cell_type": "code",
   "execution_count": 20,
   "metadata": {},
   "outputs": [],
   "source": [
    "mydict = { \"names\": [\"John\", \"Jane\", \"Ann\"], \"address\": {'full': 'full address', 'brief': 'brief address'} }\n",
    "\n",
    "x = coll.insert_one(mydict)"
   ]
  },
  {
   "cell_type": "code",
   "execution_count": 21,
   "metadata": {},
   "outputs": [
    {
     "name": "stdout",
     "output_type": "stream",
     "text": [
      "{'_id': ObjectId('66e4819b0c7164866490dee4'), 'name': 'John', 'address': 'Highway 37'}\n",
      "{'_id': ObjectId('66e481c00c7164866490dee5'), 'name': 'Amy', 'address': 'Apple st 652'}\n",
      "{'_id': ObjectId('66e481c00c7164866490dee6'), 'name': 'Hannah', 'address': 'Mountain 21'}\n",
      "{'_id': ObjectId('66e481c00c7164866490dee7'), 'name': 'Michael', 'address': 'Valley 345'}\n",
      "{'_id': ObjectId('66e481c00c7164866490dee8'), 'name': 'Sandy', 'address': 'Ocean blvd 2'}\n",
      "{'_id': ObjectId('66e481c00c7164866490dee9'), 'name': 'Betty', 'address': 'Green Grass 1'}\n",
      "{'_id': ObjectId('66e481c00c7164866490deea'), 'name': 'Richard', 'address': 'Sky st 331'}\n",
      "{'_id': ObjectId('66e481c00c7164866490deeb'), 'name': 'Susan', 'address': 'One way 98'}\n",
      "{'_id': ObjectId('66e481c00c7164866490deec'), 'name': 'Vicky', 'address': 'Yellow Garden 2'}\n",
      "{'_id': ObjectId('66e481c00c7164866490deed'), 'name': 'Ben', 'address': 'Park Lane 38'}\n",
      "{'_id': ObjectId('66e481c00c7164866490deee'), 'name': 'William', 'address': 'Central st 954'}\n",
      "{'_id': ObjectId('66e481c00c7164866490deef'), 'name': 'Chuck', 'address': 'Main Road 989'}\n",
      "{'_id': ObjectId('66e481c00c7164866490def0'), 'name': 'Viola', 'address': 'Sideway 1633'}\n",
      "{'_id': ObjectId('66e4835c0c7164866490def1'), 'names': ['John', 'Jane', 'Ann'], 'address': 'Highway 37'}\n",
      "{'_id': ObjectId('66e4836f0c7164866490def2'), 'names': ['John', 'Jane', 'Ann'], 'address': {'full': 'full address', 'brief': 'brief address'}}\n"
     ]
    }
   ],
   "source": [
    "for x in coll.find():\n",
    "    print(x)"
   ]
  },
  {
   "cell_type": "markdown",
   "metadata": {},
   "source": [
    "[Больше примеров подробных запросов в системе MongoDB](https://www.mongodb.com/docs/manual/tutorial/query-array-of-documents/)"
   ]
  }
 ],
 "metadata": {
  "kernelspec": {
   "display_name": "Python 3",
   "language": "python",
   "name": "python3"
  },
  "language_info": {
   "codemirror_mode": {
    "name": "ipython",
    "version": 3
   },
   "file_extension": ".py",
   "mimetype": "text/x-python",
   "name": "python",
   "nbconvert_exporter": "python",
   "pygments_lexer": "ipython3",
   "version": "3.10.12"
  }
 },
 "nbformat": 4,
 "nbformat_minor": 2
}
