{
 "cells": [
  {
   "cell_type": "markdown",
   "metadata": {},
   "source": [
    "# Работа с MongoDB - основы"
   ]
  },
  {
   "cell_type": "code",
   "execution_count": 4,
   "metadata": {},
   "outputs": [],
   "source": [
    "from pymongo import MongoClient"
   ]
  },
  {
   "cell_type": "code",
   "execution_count": 5,
   "metadata": {},
   "outputs": [],
   "source": [
    "client = MongoClient('localhost', 27017)\n",
    "db = client['my_test_database']\n",
    "coll = db['my_test_collection'] "
   ]
  },
  {
   "cell_type": "code",
   "execution_count": 6,
   "metadata": {},
   "outputs": [
    {
     "name": "stdout",
     "output_type": "stream",
     "text": [
      "['admin', 'config', 'local']\n"
     ]
    }
   ],
   "source": [
    "print(client.list_database_names())"
   ]
  },
  {
   "cell_type": "code",
   "execution_count": 7,
   "metadata": {},
   "outputs": [],
   "source": [
    "mydict = { \"name\": \"John\", \"address\": \"Highway 37\" }\n",
    "\n",
    "x = coll.insert_one(mydict)"
   ]
  },
  {
   "cell_type": "code",
   "execution_count": 8,
   "metadata": {},
   "outputs": [
    {
     "name": "stdout",
     "output_type": "stream",
     "text": [
      "['admin', 'config', 'local', 'my_test_database']\n"
     ]
    }
   ],
   "source": [
    "print(client.list_database_names())"
   ]
  },
  {
   "cell_type": "code",
   "execution_count": 9,
   "metadata": {},
   "outputs": [],
   "source": [
    "mylist = [\n",
    "    { \"name\": \"Amy\", \"address\": \"Apple st 652\"},\n",
    "    { \"name\": \"Hannah\", \"address\": \"Mountain 21\"},\n",
    "    { \"name\": \"Michael\", \"address\": \"Valley 345\"},\n",
    "    { \"name\": \"Sandy\", \"address\": \"Ocean blvd 2\"},\n",
    "    { \"name\": \"Betty\", \"address\": \"Green Grass 1\"},\n",
    "    { \"name\": \"Richard\", \"address\": \"Sky st 331\"},\n",
    "    { \"name\": \"Susan\", \"address\": \"One way 98\"},\n",
    "    { \"name\": \"Vicky\", \"address\": \"Yellow Garden 2\"},\n",
    "    { \"name\": \"Ben\", \"address\": \"Park Lane 38\"},\n",
    "    { \"name\": \"William\", \"address\": \"Central st 954\"},\n",
    "    { \"name\": \"Chuck\", \"address\": \"Main Road 989\"},\n",
    "    { \"name\": \"Viola\", \"address\": \"Sideway 1633\"}\n",
    "]"
   ]
  },
  {
   "cell_type": "code",
   "execution_count": 10,
   "metadata": {},
   "outputs": [],
   "source": [
    "x = coll.insert_many(mylist)\n"
   ]
  },
  {
   "cell_type": "code",
   "execution_count": 11,
   "metadata": {},
   "outputs": [
    {
     "name": "stdout",
     "output_type": "stream",
     "text": [
      "[ObjectId('66e057e055dacdbd152f15fd'), ObjectId('66e057e055dacdbd152f15fe'), ObjectId('66e057e055dacdbd152f15ff'), ObjectId('66e057e055dacdbd152f1600'), ObjectId('66e057e055dacdbd152f1601'), ObjectId('66e057e055dacdbd152f1602'), ObjectId('66e057e055dacdbd152f1603'), ObjectId('66e057e055dacdbd152f1604'), ObjectId('66e057e055dacdbd152f1605'), ObjectId('66e057e055dacdbd152f1606'), ObjectId('66e057e055dacdbd152f1607'), ObjectId('66e057e055dacdbd152f1608')]\n"
     ]
    }
   ],
   "source": [
    "#print list of the _id values of the inserted documents:\n",
    "print(x.inserted_ids)"
   ]
  },
  {
   "cell_type": "code",
   "execution_count": 12,
   "metadata": {},
   "outputs": [
    {
     "name": "stdout",
     "output_type": "stream",
     "text": [
      "{'_id': ObjectId('66e057dd55dacdbd152f15fc'), 'name': 'John', 'address': 'Highway 37'}\n",
      "{'_id': ObjectId('66e057e055dacdbd152f15fd'), 'name': 'Amy', 'address': 'Apple st 652'}\n",
      "{'_id': ObjectId('66e057e055dacdbd152f15fe'), 'name': 'Hannah', 'address': 'Mountain 21'}\n",
      "{'_id': ObjectId('66e057e055dacdbd152f15ff'), 'name': 'Michael', 'address': 'Valley 345'}\n",
      "{'_id': ObjectId('66e057e055dacdbd152f1600'), 'name': 'Sandy', 'address': 'Ocean blvd 2'}\n",
      "{'_id': ObjectId('66e057e055dacdbd152f1601'), 'name': 'Betty', 'address': 'Green Grass 1'}\n",
      "{'_id': ObjectId('66e057e055dacdbd152f1602'), 'name': 'Richard', 'address': 'Sky st 331'}\n",
      "{'_id': ObjectId('66e057e055dacdbd152f1603'), 'name': 'Susan', 'address': 'One way 98'}\n",
      "{'_id': ObjectId('66e057e055dacdbd152f1604'), 'name': 'Vicky', 'address': 'Yellow Garden 2'}\n",
      "{'_id': ObjectId('66e057e055dacdbd152f1605'), 'name': 'Ben', 'address': 'Park Lane 38'}\n",
      "{'_id': ObjectId('66e057e055dacdbd152f1606'), 'name': 'William', 'address': 'Central st 954'}\n",
      "{'_id': ObjectId('66e057e055dacdbd152f1607'), 'name': 'Chuck', 'address': 'Main Road 989'}\n",
      "{'_id': ObjectId('66e057e055dacdbd152f1608'), 'name': 'Viola', 'address': 'Sideway 1633'}\n"
     ]
    }
   ],
   "source": [
    "# get all records\n",
    "for x in coll.find():\n",
    "    print(x)"
   ]
  },
  {
   "cell_type": "code",
   "execution_count": 20,
   "metadata": {},
   "outputs": [
    {
     "name": "stdout",
     "output_type": "stream",
     "text": [
      "{'_id': ObjectId('66e057dd55dacdbd152f15fc'), 'name': 'John', 'address': 'Highway 37'}\n",
      "{'_id': ObjectId('66e057e055dacdbd152f15fd'), 'name': 'Amy', 'address': 'Apple st 652'}\n",
      "{'_id': ObjectId('66e057e055dacdbd152f15fe'), 'name': 'Hannah', 'address': 'Mountain 21'}\n",
      "{'_id': ObjectId('66e057e055dacdbd152f15ff'), 'name': 'Michael', 'address': 'Valley 345'}\n"
     ]
    }
   ],
   "source": [
    "# limit resuts\n",
    "for x in coll.find().limit(4):\n",
    "    print(x)"
   ]
  },
  {
   "cell_type": "code",
   "execution_count": 13,
   "metadata": {},
   "outputs": [
    {
     "name": "stdout",
     "output_type": "stream",
     "text": [
      "{'_id': ObjectId('66e057e055dacdbd152f15ff'), 'name': 'Michael', 'address': 'Valley 345'}\n",
      "{'_id': ObjectId('66e057e055dacdbd152f1602'), 'name': 'Richard', 'address': 'Sky st 331'}\n",
      "{'_id': ObjectId('66e057e055dacdbd152f1604'), 'name': 'Vicky', 'address': 'Yellow Garden 2'}\n",
      "{'_id': ObjectId('66e057e055dacdbd152f1608'), 'name': 'Viola', 'address': 'Sideway 1633'}\n"
     ]
    }
   ],
   "source": [
    "# filter by address begins with S or further alphabetically.\n",
    "myquery = { \"address\": { \"$gt\": \"S\" } }\n",
    "\n",
    "for x in coll.find(myquery):\n",
    "    print(x)"
   ]
  },
  {
   "cell_type": "code",
   "execution_count": 14,
   "metadata": {},
   "outputs": [
    {
     "name": "stdout",
     "output_type": "stream",
     "text": [
      "{'_id': ObjectId('66e057e055dacdbd152f1602'), 'name': 'Richard', 'address': 'Sky st 331'}\n",
      "{'_id': ObjectId('66e057e055dacdbd152f1608'), 'name': 'Viola', 'address': 'Sideway 1633'}\n"
     ]
    }
   ],
   "source": [
    "# filter by address start from 'S'\n",
    "myquery = { \"address\": { \"$regex\": \"^S\" } }\n",
    "\n",
    "for x in coll.find(myquery):\n",
    "    print(x)"
   ]
  },
  {
   "cell_type": "code",
   "execution_count": 17,
   "metadata": {},
   "outputs": [
    {
     "name": "stdout",
     "output_type": "stream",
     "text": [
      "{'_id': ObjectId('66e057e055dacdbd152f15fd'), 'name': 'Amy', 'address': 'Apple st 652'}\n",
      "{'_id': ObjectId('66e057e055dacdbd152f1605'), 'name': 'Ben', 'address': 'Park Lane 38'}\n",
      "{'_id': ObjectId('66e057e055dacdbd152f1601'), 'name': 'Betty', 'address': 'Green Grass 1'}\n",
      "{'_id': ObjectId('66e057e055dacdbd152f1607'), 'name': 'Chuck', 'address': 'Main Road 989'}\n",
      "{'_id': ObjectId('66e057e055dacdbd152f15fe'), 'name': 'Hannah', 'address': 'Mountain 21'}\n",
      "{'_id': ObjectId('66e057dd55dacdbd152f15fc'), 'name': 'John', 'address': 'Highway 37'}\n",
      "{'_id': ObjectId('66e057e055dacdbd152f15ff'), 'name': 'Michael', 'address': 'Valley 345'}\n",
      "{'_id': ObjectId('66e057e055dacdbd152f1602'), 'name': 'Richard', 'address': 'Sky st 331'}\n",
      "{'_id': ObjectId('66e057e055dacdbd152f1600'), 'name': 'Sandy', 'address': 'Ocean blvd 2'}\n",
      "{'_id': ObjectId('66e057e055dacdbd152f1603'), 'name': 'Susan', 'address': 'One way 98'}\n",
      "{'_id': ObjectId('66e057e055dacdbd152f1604'), 'name': 'Vicky', 'address': 'Yellow Garden 2'}\n",
      "{'_id': ObjectId('66e057e055dacdbd152f1608'), 'name': 'Viola', 'address': 'Sideway 1633'}\n",
      "{'_id': ObjectId('66e057e055dacdbd152f1606'), 'name': 'William', 'address': 'Central st 954'}\n"
     ]
    }
   ],
   "source": [
    "# sort by name ascending\n",
    "for x in coll.find().sort('name', 1):\n",
    "    print(x)"
   ]
  },
  {
   "cell_type": "code",
   "execution_count": 18,
   "metadata": {},
   "outputs": [
    {
     "name": "stdout",
     "output_type": "stream",
     "text": [
      "{'_id': ObjectId('66e057e055dacdbd152f1606'), 'name': 'William', 'address': 'Central st 954'}\n",
      "{'_id': ObjectId('66e057e055dacdbd152f1608'), 'name': 'Viola', 'address': 'Sideway 1633'}\n",
      "{'_id': ObjectId('66e057e055dacdbd152f1604'), 'name': 'Vicky', 'address': 'Yellow Garden 2'}\n",
      "{'_id': ObjectId('66e057e055dacdbd152f1603'), 'name': 'Susan', 'address': 'One way 98'}\n",
      "{'_id': ObjectId('66e057e055dacdbd152f1600'), 'name': 'Sandy', 'address': 'Ocean blvd 2'}\n",
      "{'_id': ObjectId('66e057e055dacdbd152f1602'), 'name': 'Richard', 'address': 'Sky st 331'}\n",
      "{'_id': ObjectId('66e057e055dacdbd152f15ff'), 'name': 'Michael', 'address': 'Valley 345'}\n",
      "{'_id': ObjectId('66e057dd55dacdbd152f15fc'), 'name': 'John', 'address': 'Highway 37'}\n",
      "{'_id': ObjectId('66e057e055dacdbd152f15fe'), 'name': 'Hannah', 'address': 'Mountain 21'}\n",
      "{'_id': ObjectId('66e057e055dacdbd152f1607'), 'name': 'Chuck', 'address': 'Main Road 989'}\n",
      "{'_id': ObjectId('66e057e055dacdbd152f1601'), 'name': 'Betty', 'address': 'Green Grass 1'}\n",
      "{'_id': ObjectId('66e057e055dacdbd152f1605'), 'name': 'Ben', 'address': 'Park Lane 38'}\n",
      "{'_id': ObjectId('66e057e055dacdbd152f15fd'), 'name': 'Amy', 'address': 'Apple st 652'}\n"
     ]
    }
   ],
   "source": [
    "# sort by name descending\n",
    "for x in coll.find().sort('name', -1):\n",
    "    print(x)"
   ]
  },
  {
   "cell_type": "markdown",
   "metadata": {},
   "source": [
    "## Вставить сложные объекты в ту же коллекцию"
   ]
  },
  {
   "cell_type": "code",
   "execution_count": 22,
   "metadata": {},
   "outputs": [],
   "source": [
    "mydict = { \"names\": [\"John\", \"Jane\", \"Ann\"], \"address\": \"Highway 37\" }\n",
    "\n",
    "x = coll.insert_one(mydict)"
   ]
  },
  {
   "cell_type": "code",
   "execution_count": 49,
   "metadata": {},
   "outputs": [
    {
     "name": "stdout",
     "output_type": "stream",
     "text": [
      "{'_id': ObjectId('66e057dd55dacdbd152f15fc'), 'name': 'John', 'address': 'Highway 37'}\n",
      "{'_id': ObjectId('66e057e055dacdbd152f15fd'), 'name': 'Amy', 'address': 'Apple st 652'}\n",
      "{'_id': ObjectId('66e057e055dacdbd152f15fe'), 'name': 'Hannah', 'address': 'Mountain 21'}\n",
      "{'_id': ObjectId('66e057e055dacdbd152f15ff'), 'name': 'Michael', 'address': 'Valley 345'}\n",
      "{'_id': ObjectId('66e057e055dacdbd152f1600'), 'name': 'Sandy', 'address': 'Ocean blvd 2'}\n",
      "{'_id': ObjectId('66e057e055dacdbd152f1601'), 'name': 'Betty', 'address': 'Green Grass 1'}\n",
      "{'_id': ObjectId('66e057e055dacdbd152f1602'), 'name': 'Richard', 'address': 'Sky st 331'}\n",
      "{'_id': ObjectId('66e057e055dacdbd152f1603'), 'name': 'Susan', 'address': 'One way 98'}\n",
      "{'_id': ObjectId('66e057e055dacdbd152f1604'), 'name': 'Vicky', 'address': 'Yellow Garden 2'}\n",
      "{'_id': ObjectId('66e057e055dacdbd152f1605'), 'name': 'Ben', 'address': 'Park Lane 38'}\n",
      "{'_id': ObjectId('66e057e055dacdbd152f1606'), 'name': 'William', 'address': 'Central st 954'}\n",
      "{'_id': ObjectId('66e057e055dacdbd152f1607'), 'name': 'Chuck', 'address': 'Main Road 989'}\n",
      "{'_id': ObjectId('66e057e055dacdbd152f1608'), 'name': 'Viola', 'address': 'Sideway 1633'}\n",
      "{'_id': ObjectId('66e05a9655dacdbd152f1609'), 'names': ['John', 'Jane', 'Ann'], 'address': 'Highway 37'}\n",
      "{'_id': ObjectId('66e05ba555dacdbd152f160a'), 'names': ['John', 'Jane', 'Ann'], 'address': {'full': 'full address', 'brief': 'brief address'}}\n"
     ]
    }
   ],
   "source": [
    "for x in coll.find():\n",
    "    print(x)"
   ]
  },
  {
   "cell_type": "code",
   "execution_count": 31,
   "metadata": {},
   "outputs": [],
   "source": [
    "mydict = { \"names\": [\"John\", \"Jane\", \"Ann\"], \"address\": {'full': 'full address', 'brief': 'brief address'} }\n",
    "\n",
    "x = coll.insert_one(mydict)"
   ]
  },
  {
   "cell_type": "code",
   "execution_count": 50,
   "metadata": {},
   "outputs": [
    {
     "name": "stdout",
     "output_type": "stream",
     "text": [
      "{'_id': ObjectId('66e057dd55dacdbd152f15fc'), 'name': 'John', 'address': 'Highway 37'}\n",
      "{'_id': ObjectId('66e057e055dacdbd152f15fd'), 'name': 'Amy', 'address': 'Apple st 652'}\n",
      "{'_id': ObjectId('66e057e055dacdbd152f15fe'), 'name': 'Hannah', 'address': 'Mountain 21'}\n",
      "{'_id': ObjectId('66e057e055dacdbd152f15ff'), 'name': 'Michael', 'address': 'Valley 345'}\n",
      "{'_id': ObjectId('66e057e055dacdbd152f1600'), 'name': 'Sandy', 'address': 'Ocean blvd 2'}\n",
      "{'_id': ObjectId('66e057e055dacdbd152f1601'), 'name': 'Betty', 'address': 'Green Grass 1'}\n",
      "{'_id': ObjectId('66e057e055dacdbd152f1602'), 'name': 'Richard', 'address': 'Sky st 331'}\n",
      "{'_id': ObjectId('66e057e055dacdbd152f1603'), 'name': 'Susan', 'address': 'One way 98'}\n",
      "{'_id': ObjectId('66e057e055dacdbd152f1604'), 'name': 'Vicky', 'address': 'Yellow Garden 2'}\n",
      "{'_id': ObjectId('66e057e055dacdbd152f1605'), 'name': 'Ben', 'address': 'Park Lane 38'}\n",
      "{'_id': ObjectId('66e057e055dacdbd152f1606'), 'name': 'William', 'address': 'Central st 954'}\n",
      "{'_id': ObjectId('66e057e055dacdbd152f1607'), 'name': 'Chuck', 'address': 'Main Road 989'}\n",
      "{'_id': ObjectId('66e057e055dacdbd152f1608'), 'name': 'Viola', 'address': 'Sideway 1633'}\n",
      "{'_id': ObjectId('66e05a9655dacdbd152f1609'), 'names': ['John', 'Jane', 'Ann'], 'address': 'Highway 37'}\n",
      "{'_id': ObjectId('66e05ba555dacdbd152f160a'), 'names': ['John', 'Jane', 'Ann'], 'address': {'full': 'full address', 'brief': 'brief address'}}\n"
     ]
    }
   ],
   "source": [
    "for x in coll.find():\n",
    "    print(x)"
   ]
  },
  {
   "cell_type": "markdown",
   "metadata": {},
   "source": [
    "[Больше примеров подробных запросов в системе MongoDB](https://www.mongodb.com/docs/manual/tutorial/query-array-of-documents/)"
   ]
  }
 ],
 "metadata": {
  "kernelspec": {
   "display_name": "Python 3",
   "language": "python",
   "name": "python3"
  },
  "language_info": {
   "codemirror_mode": {
    "name": "ipython",
    "version": 3
   },
   "file_extension": ".py",
   "mimetype": "text/x-python",
   "name": "python",
   "nbconvert_exporter": "python",
   "pygments_lexer": "ipython3",
   "version": "undefined.undefined.undefined"
  }
 },
 "nbformat": 4,
 "nbformat_minor": 2
}
