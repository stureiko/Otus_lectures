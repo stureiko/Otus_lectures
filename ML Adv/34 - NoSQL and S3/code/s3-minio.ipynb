{
 "cells": [
  {
   "cell_type": "code",
   "execution_count": 1,
   "metadata": {},
   "outputs": [],
   "source": [
    "from minio import Minio"
   ]
  },
  {
   "cell_type": "code",
   "execution_count": 2,
   "metadata": {},
   "outputs": [],
   "source": [
    "client = Minio(endpoint='127.0.0.1:9000',\n",
    "            access_key=\"ZevksSI5dbvdlFEG9aoG\",\n",
    "            secret_key=\"F5IOHqtnIm6saSTrZrSIIgrX8gtYWTeoAEvhLxNS\",\n",
    "            secure=False)"
   ]
  },
  {
   "cell_type": "code",
   "execution_count": 4,
   "metadata": {},
   "outputs": [
    {
     "data": {
      "text/plain": [
       "[Bucket('python-test-bucket'), Bucket('stureiko')]"
      ]
     },
     "execution_count": 4,
     "metadata": {},
     "output_type": "execute_result"
    }
   ],
   "source": [
    "client.list_buckets()"
   ]
  },
  {
   "cell_type": "code",
   "execution_count": 6,
   "metadata": {},
   "outputs": [],
   "source": [
    "# The file to upload, change this path if needed\n",
    "source_file = \"click.ipynb\"\n",
    "\n",
    "# The destination bucket and filename on the MinIO server\n",
    "bucket_name = \"python-test-bucket\"\n",
    "destination_file = \"click.ipynb\""
   ]
  },
  {
   "cell_type": "code",
   "execution_count": 7,
   "metadata": {},
   "outputs": [
    {
     "name": "stdout",
     "output_type": "stream",
     "text": [
      "Bucket \"python-test-bucket\" already exists\n"
     ]
    }
   ],
   "source": [
    "# Make the bucket if it doesn't exist.\n",
    "found = client.bucket_exists(bucket_name)\n",
    "if not found:\n",
    "    client.make_bucket(bucket_name)\n",
    "    print(f'Created bucket \"{bucket_name}\"')\n",
    "else:\n",
    "    print(f'Bucket \"{bucket_name}\" already exists')"
   ]
  },
  {
   "cell_type": "code",
   "execution_count": 8,
   "metadata": {},
   "outputs": [
    {
     "name": "stdout",
     "output_type": "stream",
     "text": [
      "\"click.ipynb\" successfully uploaded as object, \"click.ipynb\" to bucket \"python-test-bucket\"\n"
     ]
    }
   ],
   "source": [
    "# Upload the file, renaming it in the process\n",
    "client.fput_object(\n",
    "    bucket_name, destination_file, source_file,\n",
    ")\n",
    "print(f'\"{source_file}\" successfully uploaded as object, \"{destination_file}\" to bucket \"{bucket_name}\"')"
   ]
  },
  {
   "cell_type": "code",
   "execution_count": null,
   "metadata": {},
   "outputs": [],
   "source": []
  }
 ],
 "metadata": {
  "kernelspec": {
   "display_name": "Python 3",
   "language": "python",
   "name": "python3"
  },
  "language_info": {
   "codemirror_mode": {
    "name": "ipython",
    "version": 3
   },
   "file_extension": ".py",
   "mimetype": "text/x-python",
   "name": "python",
   "nbconvert_exporter": "python",
   "pygments_lexer": "ipython3",
   "version": "3.10.12"
  }
 },
 "nbformat": 4,
 "nbformat_minor": 2
}
