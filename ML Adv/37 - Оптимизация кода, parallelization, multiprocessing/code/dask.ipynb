{
 "cells": [
  {
   "cell_type": "code",
   "execution_count": 1,
   "metadata": {},
   "outputs": [],
   "source": [
    "import numpy as np\n",
    "import pandas as pd\n",
    "\n",
    "import dask.dataframe as dd\n",
    "import dask.array as da\n",
    "import dask.bag as db"
   ]
  },
  {
   "cell_type": "code",
   "execution_count": 2,
   "metadata": {},
   "outputs": [
    {
     "data": {
      "text/html": [
       "<div>\n",
       "<style scoped>\n",
       "    .dataframe tbody tr th:only-of-type {\n",
       "        vertical-align: middle;\n",
       "    }\n",
       "\n",
       "    .dataframe tbody tr th {\n",
       "        vertical-align: top;\n",
       "    }\n",
       "\n",
       "    .dataframe thead th {\n",
       "        text-align: right;\n",
       "    }\n",
       "</style>\n",
       "<table border=\"1\" class=\"dataframe\">\n",
       "  <thead>\n",
       "    <tr style=\"text-align: right;\">\n",
       "      <th></th>\n",
       "      <th>a</th>\n",
       "      <th>b</th>\n",
       "    </tr>\n",
       "  </thead>\n",
       "  <tbody>\n",
       "    <tr>\n",
       "      <th>2021-09-01 00:00:00</th>\n",
       "      <td>0</td>\n",
       "      <td>a</td>\n",
       "    </tr>\n",
       "    <tr>\n",
       "      <th>2021-09-01 01:00:00</th>\n",
       "      <td>1</td>\n",
       "      <td>b</td>\n",
       "    </tr>\n",
       "    <tr>\n",
       "      <th>2021-09-01 02:00:00</th>\n",
       "      <td>2</td>\n",
       "      <td>c</td>\n",
       "    </tr>\n",
       "    <tr>\n",
       "      <th>2021-09-01 03:00:00</th>\n",
       "      <td>3</td>\n",
       "      <td>a</td>\n",
       "    </tr>\n",
       "    <tr>\n",
       "      <th>2021-09-01 04:00:00</th>\n",
       "      <td>4</td>\n",
       "      <td>d</td>\n",
       "    </tr>\n",
       "  </tbody>\n",
       "</table>\n",
       "</div>"
      ],
      "text/plain": [
       "                     a  b\n",
       "2021-09-01 00:00:00  0  a\n",
       "2021-09-01 01:00:00  1  b\n",
       "2021-09-01 02:00:00  2  c\n",
       "2021-09-01 03:00:00  3  a\n",
       "2021-09-01 04:00:00  4  d"
      ]
     },
     "execution_count": 2,
     "metadata": {},
     "output_type": "execute_result"
    }
   ],
   "source": [
    "index = pd.date_range(\"2021-09-01\", periods=2400, freq=\"1h\")\n",
    "df = pd.DataFrame({\"a\": np.arange(2400), \"b\": list(\"abcaddbe\" * 300)}, index=index)\n",
    "ddf = dd.from_pandas(df, npartitions=10)\n",
    "ddf.head()"
   ]
  },
  {
   "cell_type": "code",
   "execution_count": 3,
   "metadata": {},
   "outputs": [
    {
     "data": {
      "text/plain": [
       "(Timestamp('2021-09-01 00:00:00'),\n",
       " Timestamp('2021-09-11 00:00:00'),\n",
       " Timestamp('2021-09-21 00:00:00'),\n",
       " Timestamp('2021-10-01 00:00:00'),\n",
       " Timestamp('2021-10-11 00:00:00'),\n",
       " Timestamp('2021-10-21 00:00:00'),\n",
       " Timestamp('2021-10-31 00:00:00'),\n",
       " Timestamp('2021-11-10 00:00:00'),\n",
       " Timestamp('2021-11-20 00:00:00'),\n",
       " Timestamp('2021-11-30 00:00:00'),\n",
       " Timestamp('2021-12-09 23:00:00'))"
      ]
     },
     "execution_count": 3,
     "metadata": {},
     "output_type": "execute_result"
    }
   ],
   "source": [
    "ddf.divisions"
   ]
  },
  {
   "cell_type": "code",
   "execution_count": 4,
   "metadata": {},
   "outputs": [
    {
     "data": {
      "text/plain": [
       "<dask_expr.expr.Scalar: expr=df['a'].mean(), dtype=float64>"
      ]
     },
     "execution_count": 4,
     "metadata": {},
     "output_type": "execute_result"
    }
   ],
   "source": [
    "ddf.a.mean()"
   ]
  },
  {
   "cell_type": "code",
   "execution_count": 5,
   "metadata": {},
   "outputs": [
    {
     "data": {
      "text/plain": [
       "1199.5"
      ]
     },
     "execution_count": 5,
     "metadata": {},
     "output_type": "execute_result"
    }
   ],
   "source": [
    "ddf.a.mean().compute()"
   ]
  },
  {
   "cell_type": "code",
   "execution_count": 6,
   "metadata": {},
   "outputs": [
    {
     "data": {
      "text/plain": [
       "Dask Series Structure:\n",
       "npartitions=10\n",
       "2021-09-01 00:00:00    int64\n",
       "2021-09-11 00:00:00      ...\n",
       "                       ...  \n",
       "2021-11-30 00:00:00      ...\n",
       "2021-12-09 23:00:00      ...\n",
       "Dask Name: cumsum, 3 expressions\n",
       "Expr=CumSum(frame=df['a'], skipna=True)"
      ]
     },
     "execution_count": 6,
     "metadata": {},
     "output_type": "execute_result"
    }
   ],
   "source": [
    "ddf.a.cumsum()"
   ]
  },
  {
   "cell_type": "code",
   "execution_count": 7,
   "metadata": {},
   "outputs": [
    {
     "data": {
      "text/plain": [
       "2878800"
      ]
     },
     "execution_count": 7,
     "metadata": {},
     "output_type": "execute_result"
    }
   ],
   "source": [
    "ddf.a.cumsum().compute().iloc[-1]"
   ]
  },
  {
   "cell_type": "code",
   "execution_count": 8,
   "metadata": {},
   "outputs": [],
   "source": [
    "res = ddf.a.cumsum()"
   ]
  },
  {
   "cell_type": "code",
   "execution_count": 9,
   "metadata": {},
   "outputs": [
    {
     "data": {
      "image/svg+xml": [
       "<?xml version=\"1.0\" encoding=\"UTF-8\" standalone=\"no\"?>\n",
       "<!DOCTYPE svg PUBLIC \"-//W3C//DTD SVG 1.1//EN\"\n",
       " \"http://www.w3.org/Graphics/SVG/1.1/DTD/svg11.dtd\">\n",
       "<!-- Generated by graphviz version 2.50.0 (0)\n",
       " -->\n",
       "<!-- Pages: 1 -->\n",
       "<svg width=\"264pt\" height=\"188pt\"\n",
       " viewBox=\"0.00 0.00 264.00 188.00\" xmlns=\"http://www.w3.org/2000/svg\" xmlns:xlink=\"http://www.w3.org/1999/xlink\">\n",
       "<g id=\"graph0\" class=\"graph\" transform=\"scale(1 1) rotate(0) translate(4 184)\">\n",
       "<polygon fill=\"white\" stroke=\"transparent\" points=\"-4,4 -4,-184 260,-184 260,4 -4,4\"/>\n",
       "<!-- &#45;671232823702787361 -->\n",
       "<g id=\"node1\" class=\"node\">\n",
       "<title>&#45;671232823702787361</title>\n",
       "<polygon fill=\"none\" stroke=\"black\" points=\"229.5,-180 26.5,-180 26.5,-144 229.5,-144 229.5,-180\"/>\n",
       "<text text-anchor=\"middle\" x=\"128\" y=\"-157\" font-family=\"Helvetica,sans-Serif\" font-size=\"20.00\">CumSum(Projection)</text>\n",
       "</g>\n",
       "<!-- 9091568730117138589 -->\n",
       "<g id=\"node2\" class=\"node\">\n",
       "<title>9091568730117138589</title>\n",
       "<polygon fill=\"none\" stroke=\"black\" points=\"256,-108 0,-108 0,-72 256,-72 256,-108\"/>\n",
       "<text text-anchor=\"middle\" x=\"128\" y=\"-85\" font-family=\"Helvetica,sans-Serif\" font-size=\"20.00\">Projection(FromPandas, a)</text>\n",
       "</g>\n",
       "<!-- 9091568730117138589&#45;&gt;&#45;671232823702787361 -->\n",
       "<g id=\"edge1\" class=\"edge\">\n",
       "<title>9091568730117138589&#45;&gt;&#45;671232823702787361</title>\n",
       "<path fill=\"none\" stroke=\"black\" d=\"M128,-108.3C128,-116.02 128,-125.29 128,-133.89\"/>\n",
       "<polygon fill=\"black\" stroke=\"black\" points=\"124.5,-133.9 128,-143.9 131.5,-133.9 124.5,-133.9\"/>\n",
       "</g>\n",
       "<!-- 283781650395082644 -->\n",
       "<g id=\"node3\" class=\"node\">\n",
       "<title>283781650395082644</title>\n",
       "<polygon fill=\"none\" stroke=\"black\" points=\"193.5,-36 62.5,-36 62.5,0 193.5,0 193.5,-36\"/>\n",
       "<text text-anchor=\"middle\" x=\"128\" y=\"-13\" font-family=\"Helvetica,sans-Serif\" font-size=\"20.00\">FromPandas</text>\n",
       "</g>\n",
       "<!-- 283781650395082644&#45;&gt;9091568730117138589 -->\n",
       "<g id=\"edge2\" class=\"edge\">\n",
       "<title>283781650395082644&#45;&gt;9091568730117138589</title>\n",
       "<path fill=\"none\" stroke=\"black\" d=\"M128,-36.3C128,-44.02 128,-53.29 128,-61.89\"/>\n",
       "<polygon fill=\"black\" stroke=\"black\" points=\"124.5,-61.9 128,-71.9 131.5,-61.9 124.5,-61.9\"/>\n",
       "</g>\n",
       "</g>\n",
       "</svg>\n"
      ],
      "text/plain": [
       "<graphviz.graphs.Digraph at 0x1049d3190>"
      ]
     },
     "execution_count": 9,
     "metadata": {},
     "output_type": "execute_result"
    }
   ],
   "source": [
    "res.visualize()"
   ]
  },
  {
   "cell_type": "code",
   "execution_count": null,
   "metadata": {},
   "outputs": [],
   "source": []
  }
 ],
 "metadata": {
  "kernelspec": {
   "display_name": "Python 3",
   "language": "python",
   "name": "python3"
  },
  "language_info": {
   "codemirror_mode": {
    "name": "ipython",
    "version": 3
   },
   "file_extension": ".py",
   "mimetype": "text/x-python",
   "name": "python",
   "nbconvert_exporter": "python",
   "pygments_lexer": "ipython3",
   "version": "3.10.12"
  }
 },
 "nbformat": 4,
 "nbformat_minor": 2
}
