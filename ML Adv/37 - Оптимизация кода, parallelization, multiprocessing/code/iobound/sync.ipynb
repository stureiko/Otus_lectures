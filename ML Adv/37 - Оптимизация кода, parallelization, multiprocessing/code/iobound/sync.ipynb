{
 "cells": [
  {
   "cell_type": "code",
   "execution_count": 1,
   "metadata": {},
   "outputs": [],
   "source": [
    "import requests\n",
    "from tqdm import tqdm"
   ]
  },
  {
   "cell_type": "code",
   "execution_count": 2,
   "metadata": {},
   "outputs": [
    {
     "name": "stderr",
     "output_type": "stream",
     "text": [
      "100%|██████████| 24704/24704 [01:14<00:00, 331.06it/s]\n"
     ]
    }
   ],
   "source": [
    "url = 'http://localhost:5002'\n",
    "res = []\n",
    "\n",
    "with requests.Session() as session:\n",
    "    total = session.get(url + '/total').json()['total']\n",
    "    for index in tqdm(range(total)):\n",
    "        res.append(session.get(url + '/texts/2').json()['text'])"
   ]
  },
  {
   "cell_type": "code",
   "execution_count": 11,
   "metadata": {},
   "outputs": [
    {
     "name": "stderr",
     "output_type": "stream",
     "text": [
      "100%|██████████| 24704/24704 [00:39<00:00, 629.81it/s]"
     ]
    },
    {
     "name": "stdout",
     "output_type": "stream",
     "text": [
      "CPU times: user 15.1 s, sys: 2.73 s, total: 17.8 s\n",
      "Wall time: 39.3 s\n"
     ]
    },
    {
     "name": "stderr",
     "output_type": "stream",
     "text": [
      "\n"
     ]
    }
   ],
   "source": [
    "%%time\n",
    "url = 'http://localhost:5002'\n",
    "res = []\n",
    "\n",
    "with requests.Session() as session:\n",
    "    total = session.get(url + '/total').json()['total']\n",
    "    for index in tqdm(range(total)):\n",
    "        res.append(session.get(url + '/texts/2').json()['text'])"
   ]
  },
  {
   "cell_type": "code",
   "execution_count": null,
   "metadata": {},
   "outputs": [],
   "source": []
  }
 ],
 "metadata": {
  "kernelspec": {
   "display_name": "Python 3",
   "language": "python",
   "name": "python3"
  },
  "language_info": {
   "codemirror_mode": {
    "name": "ipython",
    "version": 3
   },
   "file_extension": ".py",
   "mimetype": "text/x-python",
   "name": "python",
   "nbconvert_exporter": "python",
   "pygments_lexer": "ipython3",
   "version": "3.10.12"
  }
 },
 "nbformat": 4,
 "nbformat_minor": 2
}
