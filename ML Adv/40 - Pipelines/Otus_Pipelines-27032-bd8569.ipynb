{
 "cells": [
  {
   "cell_type": "markdown",
   "metadata": {},
   "source": [
    "# <center> Pipelines, Serialization </center> "
   ]
  },
  {
   "cell_type": "markdown",
   "metadata": {},
   "source": [
    "<p style=\"align: center;\"><img align=center src=\"./images/Industrial-Pipeline-Cleaning.jpg\"  width=1000></p>"
   ]
  },
  {
   "cell_type": "markdown",
   "metadata": {},
   "source": [
    "."
   ]
  },
  {
   "cell_type": "markdown",
   "metadata": {},
   "source": [
    "."
   ]
  },
  {
   "cell_type": "markdown",
   "metadata": {},
   "source": [
    "<p style=\"align: center;\"><img align=center src=\"https://hazelcast.com/wp-content/uploads/2019/11/24_DataPipleline-1.png\"  width=1000></p>"
   ]
  },
  {
   "cell_type": "code",
   "execution_count": 2,
   "metadata": {
    "ExecuteTime": {
     "end_time": "2022-08-22T16:31:17.473961Z",
     "start_time": "2022-08-22T16:31:17.437755Z"
    }
   },
   "outputs": [
    {
     "data": {
      "text/html": [
       "<style>.container { width:80% !important; }</style>"
      ],
      "text/plain": [
       "<IPython.core.display.HTML object>"
      ]
     },
     "metadata": {},
     "output_type": "display_data"
    }
   ],
   "source": [
    "import pandas as pd\n",
    "import numpy as np\n",
    "\n",
    "# Пара библиотек для визуализации\n",
    "import matplotlib.pyplot as plt\n",
    "%matplotlib inline\n",
    "\n",
    "\n",
    "from IPython.core.display import display, HTML\n",
    "display(HTML(\"<style>.container { width:80% !important; }</style>\"))\n",
    "\n",
    "import warnings\n",
    "warnings.filterwarnings(\"ignore\")"
   ]
  },
  {
   "cell_type": "code",
   "execution_count": null,
   "metadata": {},
   "outputs": [],
   "source": [
    " "
   ]
  },
  {
   "cell_type": "code",
   "execution_count": null,
   "metadata": {},
   "outputs": [],
   "source": [
    " "
   ]
  },
  {
   "cell_type": "markdown",
   "metadata": {},
   "source": [
    "# Импорт Данных"
   ]
  },
  {
   "cell_type": "code",
   "execution_count": 125,
   "metadata": {
    "ExecuteTime": {
     "end_time": "2022-08-22T17:13:23.180653Z",
     "start_time": "2022-08-22T17:13:21.691586Z"
    }
   },
   "outputs": [],
   "source": [
    "file_path = 'https://raw.githubusercontent.com/a-milenkin/Datasetes_for_Piplines/main/responses.csv'\n",
    "data = pd.read_csv(file_path)"
   ]
  },
  {
   "cell_type": "code",
   "execution_count": 126,
   "metadata": {
    "ExecuteTime": {
     "end_time": "2022-08-22T17:13:23.188655Z",
     "start_time": "2022-08-22T17:13:23.182654Z"
    }
   },
   "outputs": [
    {
     "data": {
      "text/plain": [
       "(1010, 150)"
      ]
     },
     "execution_count": 126,
     "metadata": {},
     "output_type": "execute_result"
    }
   ],
   "source": [
    "data.shape"
   ]
  },
  {
   "cell_type": "code",
   "execution_count": 130,
   "metadata": {
    "ExecuteTime": {
     "end_time": "2022-08-22T16:31:17.787572Z",
     "start_time": "2022-08-22T16:31:17.756574Z"
    }
   },
   "outputs": [
    {
     "data": {
      "text/html": [
       "<div>\n",
       "<style scoped>\n",
       "    .dataframe tbody tr th:only-of-type {\n",
       "        vertical-align: middle;\n",
       "    }\n",
       "\n",
       "    .dataframe tbody tr th {\n",
       "        vertical-align: top;\n",
       "    }\n",
       "\n",
       "    .dataframe thead th {\n",
       "        text-align: right;\n",
       "    }\n",
       "</style>\n",
       "<table border=\"1\" class=\"dataframe\">\n",
       "  <thead>\n",
       "    <tr style=\"text-align: right;\">\n",
       "      <th></th>\n",
       "      <th>Music</th>\n",
       "      <th>Slow songs or fast songs</th>\n",
       "      <th>Dance</th>\n",
       "      <th>Folk</th>\n",
       "      <th>Country</th>\n",
       "      <th>Classical music</th>\n",
       "      <th>Musical</th>\n",
       "      <th>Pop</th>\n",
       "      <th>Rock</th>\n",
       "      <th>Metal or Hardrock</th>\n",
       "      <th>...</th>\n",
       "      <th>Age</th>\n",
       "      <th>Height</th>\n",
       "      <th>Weight</th>\n",
       "      <th>Number of siblings</th>\n",
       "      <th>Gender</th>\n",
       "      <th>Left - right handed</th>\n",
       "      <th>Education</th>\n",
       "      <th>Only child</th>\n",
       "      <th>Village - town</th>\n",
       "      <th>House - block of flats</th>\n",
       "    </tr>\n",
       "  </thead>\n",
       "  <tbody>\n",
       "    <tr>\n",
       "      <th>0</th>\n",
       "      <td>5.0</td>\n",
       "      <td>3.0</td>\n",
       "      <td>2.0</td>\n",
       "      <td>1.0</td>\n",
       "      <td>2.0</td>\n",
       "      <td>2.0</td>\n",
       "      <td>1.0</td>\n",
       "      <td>5.0</td>\n",
       "      <td>5.0</td>\n",
       "      <td>1.0</td>\n",
       "      <td>...</td>\n",
       "      <td>20.0</td>\n",
       "      <td>163.0</td>\n",
       "      <td>48.0</td>\n",
       "      <td>1.0</td>\n",
       "      <td>female</td>\n",
       "      <td>right handed</td>\n",
       "      <td>college/bachelor degree</td>\n",
       "      <td>no</td>\n",
       "      <td>village</td>\n",
       "      <td>block of flats</td>\n",
       "    </tr>\n",
       "    <tr>\n",
       "      <th>1</th>\n",
       "      <td>4.0</td>\n",
       "      <td>4.0</td>\n",
       "      <td>2.0</td>\n",
       "      <td>1.0</td>\n",
       "      <td>1.0</td>\n",
       "      <td>1.0</td>\n",
       "      <td>2.0</td>\n",
       "      <td>3.0</td>\n",
       "      <td>5.0</td>\n",
       "      <td>4.0</td>\n",
       "      <td>...</td>\n",
       "      <td>19.0</td>\n",
       "      <td>163.0</td>\n",
       "      <td>58.0</td>\n",
       "      <td>2.0</td>\n",
       "      <td>female</td>\n",
       "      <td>right handed</td>\n",
       "      <td>college/bachelor degree</td>\n",
       "      <td>no</td>\n",
       "      <td>city</td>\n",
       "      <td>block of flats</td>\n",
       "    </tr>\n",
       "    <tr>\n",
       "      <th>2</th>\n",
       "      <td>5.0</td>\n",
       "      <td>5.0</td>\n",
       "      <td>2.0</td>\n",
       "      <td>2.0</td>\n",
       "      <td>3.0</td>\n",
       "      <td>4.0</td>\n",
       "      <td>5.0</td>\n",
       "      <td>3.0</td>\n",
       "      <td>5.0</td>\n",
       "      <td>3.0</td>\n",
       "      <td>...</td>\n",
       "      <td>20.0</td>\n",
       "      <td>176.0</td>\n",
       "      <td>67.0</td>\n",
       "      <td>2.0</td>\n",
       "      <td>female</td>\n",
       "      <td>right handed</td>\n",
       "      <td>secondary school</td>\n",
       "      <td>no</td>\n",
       "      <td>city</td>\n",
       "      <td>block of flats</td>\n",
       "    </tr>\n",
       "    <tr>\n",
       "      <th>3</th>\n",
       "      <td>5.0</td>\n",
       "      <td>3.0</td>\n",
       "      <td>2.0</td>\n",
       "      <td>1.0</td>\n",
       "      <td>1.0</td>\n",
       "      <td>1.0</td>\n",
       "      <td>1.0</td>\n",
       "      <td>2.0</td>\n",
       "      <td>2.0</td>\n",
       "      <td>1.0</td>\n",
       "      <td>...</td>\n",
       "      <td>22.0</td>\n",
       "      <td>172.0</td>\n",
       "      <td>59.0</td>\n",
       "      <td>1.0</td>\n",
       "      <td>female</td>\n",
       "      <td>right handed</td>\n",
       "      <td>college/bachelor degree</td>\n",
       "      <td>yes</td>\n",
       "      <td>city</td>\n",
       "      <td>house/bungalow</td>\n",
       "    </tr>\n",
       "    <tr>\n",
       "      <th>4</th>\n",
       "      <td>5.0</td>\n",
       "      <td>3.0</td>\n",
       "      <td>4.0</td>\n",
       "      <td>3.0</td>\n",
       "      <td>2.0</td>\n",
       "      <td>4.0</td>\n",
       "      <td>3.0</td>\n",
       "      <td>5.0</td>\n",
       "      <td>3.0</td>\n",
       "      <td>1.0</td>\n",
       "      <td>...</td>\n",
       "      <td>20.0</td>\n",
       "      <td>170.0</td>\n",
       "      <td>59.0</td>\n",
       "      <td>1.0</td>\n",
       "      <td>female</td>\n",
       "      <td>right handed</td>\n",
       "      <td>secondary school</td>\n",
       "      <td>no</td>\n",
       "      <td>village</td>\n",
       "      <td>house/bungalow</td>\n",
       "    </tr>\n",
       "  </tbody>\n",
       "</table>\n",
       "<p>5 rows × 150 columns</p>\n",
       "</div>"
      ],
      "text/plain": [
       "   Music  Slow songs or fast songs  Dance  Folk  Country  Classical music  \\\n",
       "0    5.0                       3.0    2.0   1.0      2.0              2.0   \n",
       "1    4.0                       4.0    2.0   1.0      1.0              1.0   \n",
       "2    5.0                       5.0    2.0   2.0      3.0              4.0   \n",
       "3    5.0                       3.0    2.0   1.0      1.0              1.0   \n",
       "4    5.0                       3.0    4.0   3.0      2.0              4.0   \n",
       "\n",
       "   Musical  Pop  Rock  Metal or Hardrock  ...   Age  Height  Weight  \\\n",
       "0      1.0  5.0   5.0                1.0  ...  20.0   163.0    48.0   \n",
       "1      2.0  3.0   5.0                4.0  ...  19.0   163.0    58.0   \n",
       "2      5.0  3.0   5.0                3.0  ...  20.0   176.0    67.0   \n",
       "3      1.0  2.0   2.0                1.0  ...  22.0   172.0    59.0   \n",
       "4      3.0  5.0   3.0                1.0  ...  20.0   170.0    59.0   \n",
       "\n",
       "   Number of siblings  Gender  Left - right handed                Education  \\\n",
       "0                 1.0  female         right handed  college/bachelor degree   \n",
       "1                 2.0  female         right handed  college/bachelor degree   \n",
       "2                 2.0  female         right handed         secondary school   \n",
       "3                 1.0  female         right handed  college/bachelor degree   \n",
       "4                 1.0  female         right handed         secondary school   \n",
       "\n",
       "   Only child  Village - town  House - block of flats  \n",
       "0          no         village          block of flats  \n",
       "1          no            city          block of flats  \n",
       "2          no            city          block of flats  \n",
       "3         yes            city          house/bungalow  \n",
       "4          no         village          house/bungalow  \n",
       "\n",
       "[5 rows x 150 columns]"
      ]
     },
     "execution_count": 130,
     "metadata": {},
     "output_type": "execute_result"
    }
   ],
   "source": [
    "\n",
    "data.head()"
   ]
  },
  {
   "cell_type": "markdown",
   "metadata": {},
   "source": [
    "<div class=\"alert alert-info\">\n",
    "\n",
    "<b>Про датасет </b>\n",
    "\n",
    "\n",
    "    \n",
    "Приведеные результаты опроса молодежи до 21-го года по тому, какие вещи делют их счастливыми по 5-й шкале\n",
    "    \n",
    "</div>\n"
   ]
  },
  {
   "cell_type": "markdown",
   "metadata": {},
   "source": [
    "<div class=\"alert alert-info\">\n",
    "\n",
    "<b>Про Задачу </b>\n",
    "\n",
    "Попробуем классифицировать людей по оценкам уровня счастья\n",
    "    \n",
    "</div>\n"
   ]
  },
  {
   "cell_type": "code",
   "execution_count": 131,
   "metadata": {
    "ExecuteTime": {
     "end_time": "2022-08-22T17:14:18.655495Z",
     "start_time": "2022-08-22T17:14:18.577514Z"
    }
   },
   "outputs": [],
   "source": [
    "interesting_features = [\"Happiness in life\", \"Age\", \"Height\", \"Gender\", \"Weight\", \n",
    "              \"Left - right handed\", \"Village - town\", \"Getting up\", \"God\",\n",
    "              \"Health\", \"Borrowed stuff\", \"Self-criticism\", \"Elections\", \n",
    "              \"Smoking\", \"Alcohol\" ,\"Number of friends\", \"Spending on healthy eating\",\n",
    "              \"Music\", \"Movies\", \"Friends versus money\", \"Changing the past\"]\n",
    "\n",
    "\n",
    "target = [\"Happiness in life\"]"
   ]
  },
  {
   "cell_type": "code",
   "execution_count": 132,
   "metadata": {
    "ExecuteTime": {
     "end_time": "2022-08-22T17:14:20.356735Z",
     "start_time": "2022-08-22T17:14:20.017167Z"
    }
   },
   "outputs": [
    {
     "data": {
      "image/png": "[encoded data removed]",
      "text/plain": [
       "<Figure size 432x288 with 1 Axes>"
      ]
     },
     "metadata": {
      "needs_background": "light"
     },
     "output_type": "display_data"
    }
   ],
   "source": [
    "data[\"Happiness in life\"].hist();"
   ]
  },
  {
   "cell_type": "code",
   "execution_count": 133,
   "metadata": {
    "ExecuteTime": {
     "end_time": "2022-08-22T17:14:36.294563Z",
     "start_time": "2022-08-22T17:14:36.216237Z"
    }
   },
   "outputs": [],
   "source": [
    "data = data[interesting_features]"
   ]
  },
  {
   "cell_type": "code",
   "execution_count": 134,
   "metadata": {
    "ExecuteTime": {
     "end_time": "2022-08-22T17:14:36.994140Z",
     "start_time": "2022-08-22T17:14:36.673142Z"
    }
   },
   "outputs": [
    {
     "data": {
      "image/png": "[encoded data removed]",
      "text/plain": [
       "<Figure size 432x288 with 1 Axes>"
      ]
     },
     "metadata": {
      "needs_background": "light"
     },
     "output_type": "display_data"
    }
   ],
   "source": [
    "# Сбалансируем немного классы\n",
    "\n",
    "def happiness_score(x):\n",
    "    if x < 4:\n",
    "        return -1\n",
    "    elif x == 4.0:\n",
    "        return 0\n",
    "    else:\n",
    "        return 1\n",
    "    \n",
    "data[\"Happiness in life\"] = data[\"Happiness in life\"].apply(happiness_score)\n",
    "\n",
    "data[\"Happiness in life\"].hist();"
   ]
  },
  {
   "cell_type": "markdown",
   "metadata": {},
   "source": [
    "# Как пишут код обычно? - The painful way"
   ]
  },
  {
   "cell_type": "code",
   "execution_count": 135,
   "metadata": {
    "ExecuteTime": {
     "end_time": "2022-08-22T17:14:53.309490Z",
     "start_time": "2022-08-22T17:14:53.066260Z"
    }
   },
   "outputs": [
    {
     "data": {
      "text/plain": [
       "<AxesSubplot:>"
      ]
     },
     "execution_count": 135,
     "metadata": {},
     "output_type": "execute_result"
    },
    {
     "data": {
      "image/png": "[encoded data removed]",
      "text/plain": [
       "<Figure size 432x288 with 1 Axes>"
      ]
     },
     "metadata": {
      "needs_background": "light"
     },
     "output_type": "display_data"
    }
   ],
   "source": [
    "data[\"Happiness in life\"].hist()"
   ]
  },
  {
   "cell_type": "markdown",
   "metadata": {},
   "source": [
    "# Какой-нибудь EDA (исследование данных)"
   ]
  },
  {
   "cell_type": "code",
   "execution_count": 136,
   "metadata": {
    "ExecuteTime": {
     "end_time": "2022-08-22T16:31:20.151072Z",
     "start_time": "2022-08-22T16:31:18.289262Z"
    },
    "scrolled": true
   },
   "outputs": [
    {
     "data": {
      "image/png": "[encoded data removed]",
      "text/plain": [
       "<Figure size 1800x1080 with 16 Axes>"
      ]
     },
     "metadata": {
      "needs_background": "light"
     },
     "output_type": "display_data"
    }
   ],
   "source": [
    "data.hist(figsize=(25, 15))\n",
    "\n",
    "plt.show()"
   ]
  },
  {
   "cell_type": "code",
   "execution_count": 137,
   "metadata": {
    "ExecuteTime": {
     "end_time": "2022-08-22T16:31:20.578298Z",
     "start_time": "2022-08-22T16:31:20.153072Z"
    }
   },
   "outputs": [
    {
     "data": {
      "text/plain": [
       "<AxesSubplot:>"
      ]
     },
     "execution_count": 137,
     "metadata": {},
     "output_type": "execute_result"
    },
    {
     "data": {
      "image/png": "[encoded data removed]",
      "text/plain": [
       "<Figure size 432x288 with 2 Axes>"
      ]
     },
     "metadata": {
      "needs_background": "light"
     },
     "output_type": "display_data"
    }
   ],
   "source": [
    "import seaborn as sns\n",
    "\n",
    "sns.heatmap(data.corr())"
   ]
  },
  {
   "cell_type": "markdown",
   "metadata": {},
   "source": [
    "# Есть ли в данных выбросы? Есть почти всегда!"
   ]
  },
  {
   "cell_type": "code",
   "execution_count": 138,
   "metadata": {
    "ExecuteTime": {
     "end_time": "2022-08-22T16:31:20.594297Z",
     "start_time": "2022-08-22T16:31:20.580298Z"
    }
   },
   "outputs": [],
   "source": [
    "# data.isnull().sum()"
   ]
  },
  {
   "cell_type": "code",
   "execution_count": 139,
   "metadata": {
    "ExecuteTime": {
     "end_time": "2022-08-22T17:15:33.323458Z",
     "start_time": "2022-08-22T17:15:33.230853Z"
    }
   },
   "outputs": [],
   "source": [
    "data.dropna(inplace=True)"
   ]
  },
  {
   "cell_type": "code",
   "execution_count": 140,
   "metadata": {
    "ExecuteTime": {
     "end_time": "2022-08-22T17:15:38.037055Z",
     "start_time": "2022-08-22T17:15:37.819089Z"
    }
   },
   "outputs": [
    {
     "name": "stdout",
     "output_type": "stream",
     "text": [
      "(740, 21) (185, 21)\n"
     ]
    }
   ],
   "source": [
    "from sklearn.model_selection import train_test_split\n",
    "from sklearn.preprocessing import StandardScaler, OneHotEncoder\n",
    "\n",
    "\n",
    "data_train, data_test = train_test_split(data, test_size=0.2, stratify=data[target])\n",
    "\n",
    "print(data_train.shape, data_test.shape)"
   ]
  },
  {
   "cell_type": "code",
   "execution_count": 141,
   "metadata": {
    "ExecuteTime": {
     "end_time": "2022-08-22T17:15:39.035164Z",
     "start_time": "2022-08-22T17:15:39.012164Z"
    }
   },
   "outputs": [
    {
     "data": {
      "text/html": [
       "<div>\n",
       "<style scoped>\n",
       "    .dataframe tbody tr th:only-of-type {\n",
       "        vertical-align: middle;\n",
       "    }\n",
       "\n",
       "    .dataframe tbody tr th {\n",
       "        vertical-align: top;\n",
       "    }\n",
       "\n",
       "    .dataframe thead th {\n",
       "        text-align: right;\n",
       "    }\n",
       "</style>\n",
       "<table border=\"1\" class=\"dataframe\">\n",
       "  <thead>\n",
       "    <tr style=\"text-align: right;\">\n",
       "      <th></th>\n",
       "      <th>Happiness in life</th>\n",
       "      <th>Age</th>\n",
       "      <th>Height</th>\n",
       "      <th>Gender</th>\n",
       "      <th>Weight</th>\n",
       "      <th>Left - right handed</th>\n",
       "      <th>Village - town</th>\n",
       "      <th>Getting up</th>\n",
       "      <th>God</th>\n",
       "      <th>Health</th>\n",
       "      <th>...</th>\n",
       "      <th>Self-criticism</th>\n",
       "      <th>Elections</th>\n",
       "      <th>Smoking</th>\n",
       "      <th>Alcohol</th>\n",
       "      <th>Number of friends</th>\n",
       "      <th>Spending on healthy eating</th>\n",
       "      <th>Music</th>\n",
       "      <th>Movies</th>\n",
       "      <th>Friends versus money</th>\n",
       "      <th>Changing the past</th>\n",
       "    </tr>\n",
       "  </thead>\n",
       "  <tbody>\n",
       "    <tr>\n",
       "      <th>0</th>\n",
       "      <td>0</td>\n",
       "      <td>20.0</td>\n",
       "      <td>163.0</td>\n",
       "      <td>female</td>\n",
       "      <td>48.0</td>\n",
       "      <td>right handed</td>\n",
       "      <td>village</td>\n",
       "      <td>2.0</td>\n",
       "      <td>1.0</td>\n",
       "      <td>1.0</td>\n",
       "      <td>...</td>\n",
       "      <td>1.0</td>\n",
       "      <td>4.0</td>\n",
       "      <td>never smoked</td>\n",
       "      <td>drink a lot</td>\n",
       "      <td>3</td>\n",
       "      <td>3.0</td>\n",
       "      <td>5.0</td>\n",
       "      <td>5.0</td>\n",
       "      <td>3.0</td>\n",
       "      <td>1.0</td>\n",
       "    </tr>\n",
       "    <tr>\n",
       "      <th>1</th>\n",
       "      <td>0</td>\n",
       "      <td>19.0</td>\n",
       "      <td>163.0</td>\n",
       "      <td>female</td>\n",
       "      <td>58.0</td>\n",
       "      <td>right handed</td>\n",
       "      <td>city</td>\n",
       "      <td>5.0</td>\n",
       "      <td>1.0</td>\n",
       "      <td>4.0</td>\n",
       "      <td>...</td>\n",
       "      <td>4.0</td>\n",
       "      <td>5.0</td>\n",
       "      <td>never smoked</td>\n",
       "      <td>drink a lot</td>\n",
       "      <td>3</td>\n",
       "      <td>2.0</td>\n",
       "      <td>4.0</td>\n",
       "      <td>5.0</td>\n",
       "      <td>4.0</td>\n",
       "      <td>4.0</td>\n",
       "    </tr>\n",
       "    <tr>\n",
       "      <th>2</th>\n",
       "      <td>0</td>\n",
       "      <td>20.0</td>\n",
       "      <td>176.0</td>\n",
       "      <td>female</td>\n",
       "      <td>67.0</td>\n",
       "      <td>right handed</td>\n",
       "      <td>city</td>\n",
       "      <td>4.0</td>\n",
       "      <td>5.0</td>\n",
       "      <td>2.0</td>\n",
       "      <td>...</td>\n",
       "      <td>4.0</td>\n",
       "      <td>5.0</td>\n",
       "      <td>tried smoking</td>\n",
       "      <td>drink a lot</td>\n",
       "      <td>3</td>\n",
       "      <td>2.0</td>\n",
       "      <td>5.0</td>\n",
       "      <td>5.0</td>\n",
       "      <td>5.0</td>\n",
       "      <td>5.0</td>\n",
       "    </tr>\n",
       "    <tr>\n",
       "      <th>3</th>\n",
       "      <td>-1</td>\n",
       "      <td>22.0</td>\n",
       "      <td>172.0</td>\n",
       "      <td>female</td>\n",
       "      <td>59.0</td>\n",
       "      <td>right handed</td>\n",
       "      <td>city</td>\n",
       "      <td>1.0</td>\n",
       "      <td>4.0</td>\n",
       "      <td>1.0</td>\n",
       "      <td>...</td>\n",
       "      <td>5.0</td>\n",
       "      <td>5.0</td>\n",
       "      <td>former smoker</td>\n",
       "      <td>drink a lot</td>\n",
       "      <td>1</td>\n",
       "      <td>1.0</td>\n",
       "      <td>5.0</td>\n",
       "      <td>5.0</td>\n",
       "      <td>2.0</td>\n",
       "      <td>5.0</td>\n",
       "    </tr>\n",
       "    <tr>\n",
       "      <th>4</th>\n",
       "      <td>-1</td>\n",
       "      <td>20.0</td>\n",
       "      <td>170.0</td>\n",
       "      <td>female</td>\n",
       "      <td>59.0</td>\n",
       "      <td>right handed</td>\n",
       "      <td>village</td>\n",
       "      <td>4.0</td>\n",
       "      <td>5.0</td>\n",
       "      <td>3.0</td>\n",
       "      <td>...</td>\n",
       "      <td>5.0</td>\n",
       "      <td>5.0</td>\n",
       "      <td>tried smoking</td>\n",
       "      <td>social drinker</td>\n",
       "      <td>3</td>\n",
       "      <td>4.0</td>\n",
       "      <td>5.0</td>\n",
       "      <td>5.0</td>\n",
       "      <td>3.0</td>\n",
       "      <td>4.0</td>\n",
       "    </tr>\n",
       "  </tbody>\n",
       "</table>\n",
       "<p>5 rows × 21 columns</p>\n",
       "</div>"
      ],
      "text/plain": [
       "   Happiness in life   Age  Height  Gender  Weight Left - right handed  \\\n",
       "0                  0  20.0   163.0  female    48.0        right handed   \n",
       "1                  0  19.0   163.0  female    58.0        right handed   \n",
       "2                  0  20.0   176.0  female    67.0        right handed   \n",
       "3                 -1  22.0   172.0  female    59.0        right handed   \n",
       "4                 -1  20.0   170.0  female    59.0        right handed   \n",
       "\n",
       "  Village - town  Getting up  God  Health  ...  Self-criticism  Elections  \\\n",
       "0        village         2.0  1.0     1.0  ...             1.0        4.0   \n",
       "1           city         5.0  1.0     4.0  ...             4.0        5.0   \n",
       "2           city         4.0  5.0     2.0  ...             4.0        5.0   \n",
       "3           city         1.0  4.0     1.0  ...             5.0        5.0   \n",
       "4        village         4.0  5.0     3.0  ...             5.0        5.0   \n",
       "\n",
       "         Smoking         Alcohol Number of friends  \\\n",
       "0   never smoked     drink a lot                 3   \n",
       "1   never smoked     drink a lot                 3   \n",
       "2  tried smoking     drink a lot                 3   \n",
       "3  former smoker     drink a lot                 1   \n",
       "4  tried smoking  social drinker                 3   \n",
       "\n",
       "   Spending on healthy eating  Music  Movies  Friends versus money  \\\n",
       "0                         3.0    5.0     5.0                   3.0   \n",
       "1                         2.0    4.0     5.0                   4.0   \n",
       "2                         2.0    5.0     5.0                   5.0   \n",
       "3                         1.0    5.0     5.0                   2.0   \n",
       "4                         4.0    5.0     5.0                   3.0   \n",
       "\n",
       "   Changing the past  \n",
       "0                1.0  \n",
       "1                4.0  \n",
       "2                5.0  \n",
       "3                5.0  \n",
       "4                4.0  \n",
       "\n",
       "[5 rows x 21 columns]"
      ]
     },
     "execution_count": 141,
     "metadata": {},
     "output_type": "execute_result"
    }
   ],
   "source": [
    "data.head()"
   ]
  },
  {
   "cell_type": "code",
   "execution_count": null,
   "metadata": {},
   "outputs": [],
   "source": []
  },
  {
   "cell_type": "code",
   "execution_count": null,
   "metadata": {},
   "outputs": [],
   "source": [
    " "
   ]
  },
  {
   "cell_type": "code",
   "execution_count": 142,
   "metadata": {
    "ExecuteTime": {
     "end_time": "2022-08-22T17:15:41.447215Z",
     "start_time": "2022-08-22T17:15:41.341109Z"
    }
   },
   "outputs": [
    {
     "data": {
      "text/plain": [
       "social drinker    605\n",
       "drink a lot       210\n",
       "never             110\n",
       "Name: Alcohol, dtype: int64"
      ]
     },
     "execution_count": 142,
     "metadata": {},
     "output_type": "execute_result"
    }
   ],
   "source": [
    "data['Alcohol'].value_counts()"
   ]
  },
  {
   "cell_type": "markdown",
   "metadata": {},
   "source": [
    " "
   ]
  },
  {
   "cell_type": "markdown",
   "metadata": {},
   "source": [
    "# Какие признаки в данных?"
   ]
  },
  {
   "cell_type": "code",
   "execution_count": 143,
   "metadata": {
    "ExecuteTime": {
     "end_time": "2022-08-22T17:15:49.665122Z",
     "start_time": "2022-08-22T17:15:49.657086Z"
    }
   },
   "outputs": [
    {
     "data": {
      "text/plain": [
       "15"
      ]
     },
     "execution_count": 143,
     "metadata": {},
     "output_type": "execute_result"
    }
   ],
   "source": [
    "numerical_features = ['Age', 'Height', 'Weight', \"Number of friends\"]  # Численные переменные\n",
    "\n",
    "# Бинарные признаки\n",
    "to_dummies = [\n",
    "    'Gender', 'Left - right handed', 'Village - town', 'Smoking',  \"Alcohol\" ,\n",
    "]\n",
    "\n",
    "# Категориальные признаки\n",
    "categorical_features = [\n",
    "    col for col in data.columns if col not in numerical_features + target + to_dummies\n",
    "]\n",
    "\n",
    "all_features = categorical_features + numerical_features\n",
    "len(all_features)"
   ]
  },
  {
   "cell_type": "code",
   "execution_count": 144,
   "metadata": {
    "ExecuteTime": {
     "end_time": "2022-08-22T17:15:50.862918Z",
     "start_time": "2022-08-22T17:15:50.858885Z"
    }
   },
   "outputs": [],
   "source": [
    "# data[numerical_features]"
   ]
  },
  {
   "cell_type": "code",
   "execution_count": 145,
   "metadata": {
    "ExecuteTime": {
     "end_time": "2022-08-22T17:15:51.377039Z",
     "start_time": "2022-08-22T17:15:51.373038Z"
    }
   },
   "outputs": [],
   "source": [
    "from sklearn.preprocessing import StandardScaler, RobustScaler, LabelEncoder, OneHotEncoder, MinMaxScaler"
   ]
  },
  {
   "cell_type": "code",
   "execution_count": 146,
   "metadata": {
    "ExecuteTime": {
     "end_time": "2022-08-22T17:15:54.095079Z",
     "start_time": "2022-08-22T17:15:54.092077Z"
    }
   },
   "outputs": [],
   "source": [
    "scaler = StandardScaler() # Нормировка для численных признаков"
   ]
  },
  {
   "cell_type": "code",
   "execution_count": 147,
   "metadata": {
    "ExecuteTime": {
     "end_time": "2022-08-22T17:15:57.490242Z",
     "start_time": "2022-08-22T17:15:57.478239Z"
    }
   },
   "outputs": [
    {
     "data": {
      "text/plain": [
       "array([[ 0.18909251, -1.21890074, -0.84505772,  0.62575366],\n",
       "       [-0.50706897,  0.43952142, -0.10369114, -1.27592071],\n",
       "       [-1.20323044,  1.12240114,  0.26699215, -0.32508353],\n",
       "       [ 0.18909251, -1.21890074, -0.10369114, -0.32508353],\n",
       "       [ 0.18909251, -1.51156348, -1.28987766,  1.57659085],\n",
       "       [ 0.53717325,  1.70772661,  1.37904202, -2.2267579 ],\n",
       "       [ 1.58141546, -0.34091254, -1.06746769, -0.32508353],\n",
       "       [ 3.32181914, -1.31645499, -1.43815098, -0.32508353],\n",
       "       [ 0.88525398, -0.24335829, -0.54851108,  1.57659085],\n",
       "       [-0.8551497 ,  1.41506387,  0.63767544,  0.62575366]])"
      ]
     },
     "execution_count": 147,
     "metadata": {},
     "output_type": "execute_result"
    }
   ],
   "source": [
    "data_train_scaled = scaler.fit_transform(data_train[numerical_features])\n",
    "data_train_scaled[:10]"
   ]
  },
  {
   "cell_type": "code",
   "execution_count": 148,
   "metadata": {
    "ExecuteTime": {
     "end_time": "2022-08-22T17:16:05.796323Z",
     "start_time": "2022-08-22T17:16:05.743289Z"
    }
   },
   "outputs": [
    {
     "data": {
      "text/plain": [
       "array([[1., 0., 0., 1., 1., 0., 0., 0., 0., 1., 0., 0., 1.],\n",
       "       [0., 1., 0., 1., 0., 1., 0., 0., 0., 1., 0., 0., 1.],\n",
       "       [0., 1., 0., 1., 1., 0., 1., 0., 0., 0., 1., 0., 0.],\n",
       "       [1., 0., 0., 1., 1., 0., 0., 1., 0., 0., 1., 0., 0.],\n",
       "       [1., 0., 0., 1., 0., 1., 1., 0., 0., 0., 0., 0., 1.],\n",
       "       [0., 1., 0., 1., 0., 1., 0., 0., 0., 1., 0., 0., 1.],\n",
       "       [1., 0., 0., 1., 1., 0., 0., 0., 1., 0., 0., 0., 1.],\n",
       "       [1., 0., 0., 1., 1., 0., 0., 0., 0., 1., 0., 0., 1.],\n",
       "       [1., 0., 0., 1., 0., 1., 1., 0., 0., 0., 0., 0., 1.],\n",
       "       [0., 1., 0., 1., 1., 0., 0., 0., 0., 1., 0., 0., 1.]])"
      ]
     },
     "execution_count": 148,
     "metadata": {},
     "output_type": "execute_result"
    }
   ],
   "source": [
    "ohe = OneHotEncoder(sparse=False, handle_unknown='ignore')  # кодирование для категориальных признаков\n",
    "\n",
    "data_train_ohe = ohe.fit_transform(data_train[to_dummies])\n",
    "data_train_ohe[:10]"
   ]
  },
  {
   "cell_type": "code",
   "execution_count": 149,
   "metadata": {
    "ExecuteTime": {
     "end_time": "2022-08-22T17:16:12.240629Z",
     "start_time": "2022-08-22T17:16:12.173586Z"
    }
   },
   "outputs": [
    {
     "data": {
      "text/html": [
       "<div>\n",
       "<style scoped>\n",
       "    .dataframe tbody tr th:only-of-type {\n",
       "        vertical-align: middle;\n",
       "    }\n",
       "\n",
       "    .dataframe tbody tr th {\n",
       "        vertical-align: top;\n",
       "    }\n",
       "\n",
       "    .dataframe thead th {\n",
       "        text-align: right;\n",
       "    }\n",
       "</style>\n",
       "<table border=\"1\" class=\"dataframe\">\n",
       "  <thead>\n",
       "    <tr style=\"text-align: right;\">\n",
       "      <th></th>\n",
       "      <th>Age</th>\n",
       "      <th>Height</th>\n",
       "      <th>Weight</th>\n",
       "      <th>Number of friends</th>\n",
       "      <th>x0_female</th>\n",
       "      <th>x0_male</th>\n",
       "      <th>x1_left handed</th>\n",
       "      <th>x1_right handed</th>\n",
       "      <th>x2_city</th>\n",
       "      <th>x2_village</th>\n",
       "      <th>x3_current smoker</th>\n",
       "      <th>x3_former smoker</th>\n",
       "      <th>x3_never smoked</th>\n",
       "      <th>x3_tried smoking</th>\n",
       "      <th>x4_drink a lot</th>\n",
       "      <th>x4_never</th>\n",
       "      <th>x4_social drinker</th>\n",
       "    </tr>\n",
       "  </thead>\n",
       "  <tbody>\n",
       "    <tr>\n",
       "      <th>0</th>\n",
       "      <td>0.189093</td>\n",
       "      <td>-1.218901</td>\n",
       "      <td>-0.845058</td>\n",
       "      <td>0.625754</td>\n",
       "      <td>1.0</td>\n",
       "      <td>0.0</td>\n",
       "      <td>0.0</td>\n",
       "      <td>1.0</td>\n",
       "      <td>1.0</td>\n",
       "      <td>0.0</td>\n",
       "      <td>0.0</td>\n",
       "      <td>0.0</td>\n",
       "      <td>0.0</td>\n",
       "      <td>1.0</td>\n",
       "      <td>0.0</td>\n",
       "      <td>0.0</td>\n",
       "      <td>1.0</td>\n",
       "    </tr>\n",
       "    <tr>\n",
       "      <th>1</th>\n",
       "      <td>-0.507069</td>\n",
       "      <td>0.439521</td>\n",
       "      <td>-0.103691</td>\n",
       "      <td>-1.275921</td>\n",
       "      <td>0.0</td>\n",
       "      <td>1.0</td>\n",
       "      <td>0.0</td>\n",
       "      <td>1.0</td>\n",
       "      <td>0.0</td>\n",
       "      <td>1.0</td>\n",
       "      <td>0.0</td>\n",
       "      <td>0.0</td>\n",
       "      <td>0.0</td>\n",
       "      <td>1.0</td>\n",
       "      <td>0.0</td>\n",
       "      <td>0.0</td>\n",
       "      <td>1.0</td>\n",
       "    </tr>\n",
       "    <tr>\n",
       "      <th>2</th>\n",
       "      <td>-1.203230</td>\n",
       "      <td>1.122401</td>\n",
       "      <td>0.266992</td>\n",
       "      <td>-0.325084</td>\n",
       "      <td>0.0</td>\n",
       "      <td>1.0</td>\n",
       "      <td>0.0</td>\n",
       "      <td>1.0</td>\n",
       "      <td>1.0</td>\n",
       "      <td>0.0</td>\n",
       "      <td>1.0</td>\n",
       "      <td>0.0</td>\n",
       "      <td>0.0</td>\n",
       "      <td>0.0</td>\n",
       "      <td>1.0</td>\n",
       "      <td>0.0</td>\n",
       "      <td>0.0</td>\n",
       "    </tr>\n",
       "    <tr>\n",
       "      <th>3</th>\n",
       "      <td>0.189093</td>\n",
       "      <td>-1.218901</td>\n",
       "      <td>-0.103691</td>\n",
       "      <td>-0.325084</td>\n",
       "      <td>1.0</td>\n",
       "      <td>0.0</td>\n",
       "      <td>0.0</td>\n",
       "      <td>1.0</td>\n",
       "      <td>1.0</td>\n",
       "      <td>0.0</td>\n",
       "      <td>0.0</td>\n",
       "      <td>1.0</td>\n",
       "      <td>0.0</td>\n",
       "      <td>0.0</td>\n",
       "      <td>1.0</td>\n",
       "      <td>0.0</td>\n",
       "      <td>0.0</td>\n",
       "    </tr>\n",
       "    <tr>\n",
       "      <th>4</th>\n",
       "      <td>0.189093</td>\n",
       "      <td>-1.511563</td>\n",
       "      <td>-1.289878</td>\n",
       "      <td>1.576591</td>\n",
       "      <td>1.0</td>\n",
       "      <td>0.0</td>\n",
       "      <td>0.0</td>\n",
       "      <td>1.0</td>\n",
       "      <td>0.0</td>\n",
       "      <td>1.0</td>\n",
       "      <td>1.0</td>\n",
       "      <td>0.0</td>\n",
       "      <td>0.0</td>\n",
       "      <td>0.0</td>\n",
       "      <td>0.0</td>\n",
       "      <td>0.0</td>\n",
       "      <td>1.0</td>\n",
       "    </tr>\n",
       "  </tbody>\n",
       "</table>\n",
       "</div>"
      ],
      "text/plain": [
       "        Age    Height    Weight  Number of friends  x0_female  x0_male  \\\n",
       "0  0.189093 -1.218901 -0.845058           0.625754        1.0      0.0   \n",
       "1 -0.507069  0.439521 -0.103691          -1.275921        0.0      1.0   \n",
       "2 -1.203230  1.122401  0.266992          -0.325084        0.0      1.0   \n",
       "3  0.189093 -1.218901 -0.103691          -0.325084        1.0      0.0   \n",
       "4  0.189093 -1.511563 -1.289878           1.576591        1.0      0.0   \n",
       "\n",
       "   x1_left handed  x1_right handed  x2_city  x2_village  x3_current smoker  \\\n",
       "0             0.0              1.0      1.0         0.0                0.0   \n",
       "1             0.0              1.0      0.0         1.0                0.0   \n",
       "2             0.0              1.0      1.0         0.0                1.0   \n",
       "3             0.0              1.0      1.0         0.0                0.0   \n",
       "4             0.0              1.0      0.0         1.0                1.0   \n",
       "\n",
       "   x3_former smoker  x3_never smoked  x3_tried smoking  x4_drink a lot  \\\n",
       "0               0.0              0.0               1.0             0.0   \n",
       "1               0.0              0.0               1.0             0.0   \n",
       "2               0.0              0.0               0.0             1.0   \n",
       "3               1.0              0.0               0.0             1.0   \n",
       "4               0.0              0.0               0.0             0.0   \n",
       "\n",
       "   x4_never  x4_social drinker  \n",
       "0       0.0                1.0  \n",
       "1       0.0                1.0  \n",
       "2       0.0                0.0  \n",
       "3       0.0                0.0  \n",
       "4       0.0                1.0  "
      ]
     },
     "execution_count": 149,
     "metadata": {},
     "output_type": "execute_result"
    }
   ],
   "source": [
    "data_train_tramsformed = pd.concat([pd.DataFrame(data_train_scaled, columns=numerical_features),\n",
    "                                    pd.DataFrame(data_train_ohe, columns=ohe.get_feature_names()),\n",
    "                                   # pd.DataFrame(data_train[categorical_features].values)\n",
    "                                   ], axis=1)\n",
    "data_train_tramsformed.head()"
   ]
  },
  {
   "cell_type": "markdown",
   "metadata": {},
   "source": [
    "# ML часть"
   ]
  },
  {
   "cell_type": "code",
   "execution_count": 25,
   "metadata": {
    "ExecuteTime": {
     "end_time": "2022-08-22T17:16:27.026878Z",
     "start_time": "2022-08-22T17:16:26.996878Z"
    }
   },
   "outputs": [],
   "source": [
    "from sklearn.linear_model import LogisticRegression\n",
    "\n",
    "from sklearn.metrics import classification_report, confusion_matrix, f1_score, make_scorer"
   ]
  },
  {
   "cell_type": "code",
   "execution_count": 26,
   "metadata": {
    "ExecuteTime": {
     "end_time": "2022-08-22T17:16:27.671142Z",
     "start_time": "2022-08-22T17:16:27.667140Z"
    }
   },
   "outputs": [],
   "source": [
    "# data_train_tramsformed.columns"
   ]
  },
  {
   "cell_type": "code",
   "execution_count": 27,
   "metadata": {
    "ExecuteTime": {
     "end_time": "2022-08-22T17:16:29.290625Z",
     "start_time": "2022-08-22T17:16:29.141054Z"
    }
   },
   "outputs": [
    {
     "data": {
      "text/plain": [
       "LogisticRegression()"
      ]
     },
     "execution_count": 27,
     "metadata": {},
     "output_type": "execute_result"
    }
   ],
   "source": [
    "model = LogisticRegression()\n",
    "\n",
    "model.fit(data_train_tramsformed, data_train[target])"
   ]
  },
  {
   "cell_type": "code",
   "execution_count": 28,
   "metadata": {
    "ExecuteTime": {
     "end_time": "2022-08-22T17:16:38.134265Z",
     "start_time": "2022-08-22T17:16:38.085267Z"
    }
   },
   "outputs": [
    {
     "name": "stdout",
     "output_type": "stream",
     "text": [
      "              precision    recall  f1-score   support\n",
      "\n",
      "          -1       0.55      0.30      0.39       259\n",
      "           0       0.54      0.86      0.66       374\n",
      "           1       0.64      0.07      0.12       107\n",
      "\n",
      "    accuracy                           0.55       740\n",
      "   macro avg       0.58      0.41      0.39       740\n",
      "weighted avg       0.56      0.55      0.49       740\n",
      "\n"
     ]
    }
   ],
   "source": [
    "preds = model.predict(data_train_tramsformed)\n",
    "\n",
    "\n",
    "print(classification_report(data_train[target], preds))"
   ]
  },
  {
   "cell_type": "markdown",
   "metadata": {},
   "source": [
    "# А как же тест?! Валидация"
   ]
  },
  {
   "cell_type": "code",
   "execution_count": 29,
   "metadata": {
    "ExecuteTime": {
     "end_time": "2022-08-22T17:16:51.993287Z",
     "start_time": "2022-08-22T17:16:51.984320Z"
    }
   },
   "outputs": [
    {
     "data": {
      "text/plain": [
       "array([[-0.83459428,  0.86831768, -0.23718558, -0.33733799],\n",
       "       [-0.11728909, -1.79012351, -1.57758096,  1.57553646],\n",
       "       [ 0.2413635 , -1.10089802, -1.1307825 ,  0.61909923],\n",
       "       [ 0.2413635 , -0.41167252, -0.83291686, -2.25021245],\n",
       "       [-0.11728909, -0.31321174, -0.31165199,  1.57553646],\n",
       "       [-0.47594169, -1.39628037, -1.05631609,  1.57553646],\n",
       "       [-0.11728909, -0.60859409, -0.68398404, -0.33733799],\n",
       "       [ 3.46923686, -0.01782939,  0.43301211,  1.57553646],\n",
       "       [-0.83459428, -1.1993588 ,  0.58194493,  1.57553646],\n",
       "       [-0.47594169, -0.31321174, -1.20524891,  0.61909923]])"
      ]
     },
     "execution_count": 29,
     "metadata": {},
     "output_type": "execute_result"
    }
   ],
   "source": [
    "data_test_scaled = scaler.transform(data_test[numerical_features])\n",
    "data_test_scaled[:10]"
   ]
  },
  {
   "cell_type": "code",
   "execution_count": 30,
   "metadata": {
    "ExecuteTime": {
     "end_time": "2022-08-22T17:16:53.693685Z",
     "start_time": "2022-08-22T17:16:53.654708Z"
    }
   },
   "outputs": [
    {
     "data": {
      "text/plain": [
       "array([[0., 1., 0., 1., 1., 0., 0., 0., 0., 1., 0., 0., 1.],\n",
       "       [1., 0., 0., 1., 1., 0., 0., 0., 0., 1., 0., 0., 1.],\n",
       "       [1., 0., 0., 1., 0., 1., 0., 0., 0., 1., 0., 0., 1.],\n",
       "       [0., 1., 0., 1., 1., 0., 0., 0., 0., 1., 0., 0., 1.],\n",
       "       [0., 1., 0., 1., 1., 0., 0., 0., 0., 1., 1., 0., 0.],\n",
       "       [1., 0., 0., 1., 0., 1., 0., 1., 0., 0., 1., 0., 0.],\n",
       "       [1., 0., 0., 1., 0., 1., 0., 0., 0., 1., 0., 0., 1.],\n",
       "       [1., 0., 0., 1., 0., 1., 1., 0., 0., 0., 1., 0., 0.],\n",
       "       [1., 0., 0., 1., 1., 0., 0., 1., 0., 0., 1., 0., 0.],\n",
       "       [1., 0., 0., 1., 0., 1., 0., 0., 0., 1., 0., 0., 1.]])"
      ]
     },
     "execution_count": 30,
     "metadata": {},
     "output_type": "execute_result"
    }
   ],
   "source": [
    "data_test_ohe = ohe.transform(data_test[to_dummies])\n",
    "data_test_ohe[:10]"
   ]
  },
  {
   "cell_type": "code",
   "execution_count": 31,
   "metadata": {
    "ExecuteTime": {
     "end_time": "2022-08-22T17:16:55.678138Z",
     "start_time": "2022-08-22T17:16:55.597137Z"
    }
   },
   "outputs": [
    {
     "data": {
      "text/html": [
       "<div>\n",
       "<style scoped>\n",
       "    .dataframe tbody tr th:only-of-type {\n",
       "        vertical-align: middle;\n",
       "    }\n",
       "\n",
       "    .dataframe tbody tr th {\n",
       "        vertical-align: top;\n",
       "    }\n",
       "\n",
       "    .dataframe thead th {\n",
       "        text-align: right;\n",
       "    }\n",
       "</style>\n",
       "<table border=\"1\" class=\"dataframe\">\n",
       "  <thead>\n",
       "    <tr style=\"text-align: right;\">\n",
       "      <th></th>\n",
       "      <th>Age</th>\n",
       "      <th>Height</th>\n",
       "      <th>Weight</th>\n",
       "      <th>Number of friends</th>\n",
       "      <th>x0_female</th>\n",
       "      <th>x0_male</th>\n",
       "      <th>x1_left handed</th>\n",
       "      <th>x1_right handed</th>\n",
       "      <th>x2_city</th>\n",
       "      <th>x2_village</th>\n",
       "      <th>x3_current smoker</th>\n",
       "      <th>x3_former smoker</th>\n",
       "      <th>x3_never smoked</th>\n",
       "      <th>x3_tried smoking</th>\n",
       "      <th>x4_drink a lot</th>\n",
       "      <th>x4_never</th>\n",
       "      <th>x4_social drinker</th>\n",
       "    </tr>\n",
       "  </thead>\n",
       "  <tbody>\n",
       "    <tr>\n",
       "      <th>0</th>\n",
       "      <td>-0.834594</td>\n",
       "      <td>0.868318</td>\n",
       "      <td>-0.237186</td>\n",
       "      <td>-0.337338</td>\n",
       "      <td>0.0</td>\n",
       "      <td>1.0</td>\n",
       "      <td>0.0</td>\n",
       "      <td>1.0</td>\n",
       "      <td>1.0</td>\n",
       "      <td>0.0</td>\n",
       "      <td>0.0</td>\n",
       "      <td>0.0</td>\n",
       "      <td>0.0</td>\n",
       "      <td>1.0</td>\n",
       "      <td>0.0</td>\n",
       "      <td>0.0</td>\n",
       "      <td>1.0</td>\n",
       "    </tr>\n",
       "    <tr>\n",
       "      <th>1</th>\n",
       "      <td>-0.117289</td>\n",
       "      <td>-1.790124</td>\n",
       "      <td>-1.577581</td>\n",
       "      <td>1.575536</td>\n",
       "      <td>1.0</td>\n",
       "      <td>0.0</td>\n",
       "      <td>0.0</td>\n",
       "      <td>1.0</td>\n",
       "      <td>1.0</td>\n",
       "      <td>0.0</td>\n",
       "      <td>0.0</td>\n",
       "      <td>0.0</td>\n",
       "      <td>0.0</td>\n",
       "      <td>1.0</td>\n",
       "      <td>0.0</td>\n",
       "      <td>0.0</td>\n",
       "      <td>1.0</td>\n",
       "    </tr>\n",
       "    <tr>\n",
       "      <th>2</th>\n",
       "      <td>0.241364</td>\n",
       "      <td>-1.100898</td>\n",
       "      <td>-1.130782</td>\n",
       "      <td>0.619099</td>\n",
       "      <td>1.0</td>\n",
       "      <td>0.0</td>\n",
       "      <td>0.0</td>\n",
       "      <td>1.0</td>\n",
       "      <td>0.0</td>\n",
       "      <td>1.0</td>\n",
       "      <td>0.0</td>\n",
       "      <td>0.0</td>\n",
       "      <td>0.0</td>\n",
       "      <td>1.0</td>\n",
       "      <td>0.0</td>\n",
       "      <td>0.0</td>\n",
       "      <td>1.0</td>\n",
       "    </tr>\n",
       "    <tr>\n",
       "      <th>3</th>\n",
       "      <td>0.241364</td>\n",
       "      <td>-0.411673</td>\n",
       "      <td>-0.832917</td>\n",
       "      <td>-2.250212</td>\n",
       "      <td>0.0</td>\n",
       "      <td>1.0</td>\n",
       "      <td>0.0</td>\n",
       "      <td>1.0</td>\n",
       "      <td>1.0</td>\n",
       "      <td>0.0</td>\n",
       "      <td>0.0</td>\n",
       "      <td>0.0</td>\n",
       "      <td>0.0</td>\n",
       "      <td>1.0</td>\n",
       "      <td>0.0</td>\n",
       "      <td>0.0</td>\n",
       "      <td>1.0</td>\n",
       "    </tr>\n",
       "    <tr>\n",
       "      <th>4</th>\n",
       "      <td>-0.117289</td>\n",
       "      <td>-0.313212</td>\n",
       "      <td>-0.311652</td>\n",
       "      <td>1.575536</td>\n",
       "      <td>0.0</td>\n",
       "      <td>1.0</td>\n",
       "      <td>0.0</td>\n",
       "      <td>1.0</td>\n",
       "      <td>1.0</td>\n",
       "      <td>0.0</td>\n",
       "      <td>0.0</td>\n",
       "      <td>0.0</td>\n",
       "      <td>0.0</td>\n",
       "      <td>1.0</td>\n",
       "      <td>1.0</td>\n",
       "      <td>0.0</td>\n",
       "      <td>0.0</td>\n",
       "    </tr>\n",
       "  </tbody>\n",
       "</table>\n",
       "</div>"
      ],
      "text/plain": [
       "        Age    Height    Weight  Number of friends  x0_female  x0_male  \\\n",
       "0 -0.834594  0.868318 -0.237186          -0.337338        0.0      1.0   \n",
       "1 -0.117289 -1.790124 -1.577581           1.575536        1.0      0.0   \n",
       "2  0.241364 -1.100898 -1.130782           0.619099        1.0      0.0   \n",
       "3  0.241364 -0.411673 -0.832917          -2.250212        0.0      1.0   \n",
       "4 -0.117289 -0.313212 -0.311652           1.575536        0.0      1.0   \n",
       "\n",
       "   x1_left handed  x1_right handed  x2_city  x2_village  x3_current smoker  \\\n",
       "0             0.0              1.0      1.0         0.0                0.0   \n",
       "1             0.0              1.0      1.0         0.0                0.0   \n",
       "2             0.0              1.0      0.0         1.0                0.0   \n",
       "3             0.0              1.0      1.0         0.0                0.0   \n",
       "4             0.0              1.0      1.0         0.0                0.0   \n",
       "\n",
       "   x3_former smoker  x3_never smoked  x3_tried smoking  x4_drink a lot  \\\n",
       "0               0.0              0.0               1.0             0.0   \n",
       "1               0.0              0.0               1.0             0.0   \n",
       "2               0.0              0.0               1.0             0.0   \n",
       "3               0.0              0.0               1.0             0.0   \n",
       "4               0.0              0.0               1.0             1.0   \n",
       "\n",
       "   x4_never  x4_social drinker  \n",
       "0       0.0                1.0  \n",
       "1       0.0                1.0  \n",
       "2       0.0                1.0  \n",
       "3       0.0                1.0  \n",
       "4       0.0                0.0  "
      ]
     },
     "execution_count": 31,
     "metadata": {},
     "output_type": "execute_result"
    }
   ],
   "source": [
    "data_test_tramsformed = pd.concat(\n",
    "    [\n",
    "        pd.DataFrame(data_test_scaled, columns=numerical_features),\n",
    "        pd.DataFrame(data_test_ohe, columns=ohe.get_feature_names()),\n",
    "        # pd.DataFrame(data_test[categorical_features].values)\n",
    "    ],\n",
    "    axis=1,\n",
    ")\n",
    "data_test_tramsformed.head()"
   ]
  },
  {
   "cell_type": "code",
   "execution_count": 32,
   "metadata": {
    "ExecuteTime": {
     "end_time": "2022-08-22T17:17:04.771307Z",
     "start_time": "2022-08-22T17:17:04.765312Z"
    }
   },
   "outputs": [],
   "source": [
    "preds = model.predict(data_test_tramsformed)"
   ]
  },
  {
   "cell_type": "code",
   "execution_count": 33,
   "metadata": {
    "ExecuteTime": {
     "end_time": "2022-08-22T17:17:05.332073Z",
     "start_time": "2022-08-22T17:17:05.316084Z"
    }
   },
   "outputs": [
    {
     "name": "stdout",
     "output_type": "stream",
     "text": [
      "              precision    recall  f1-score   support\n",
      "\n",
      "          -1       0.50      0.31      0.38        65\n",
      "           0       0.53      0.81      0.64        93\n",
      "           1       0.33      0.04      0.07        27\n",
      "\n",
      "    accuracy                           0.52       185\n",
      "   macro avg       0.45      0.38      0.36       185\n",
      "weighted avg       0.49      0.52      0.46       185\n",
      "\n"
     ]
    }
   ],
   "source": [
    "print(classification_report(data_test[target], preds))"
   ]
  },
  {
   "cell_type": "markdown",
   "metadata": {},
   "source": [
    "## Что не так с этим способом?"
   ]
  },
  {
   "cell_type": "markdown",
   "metadata": {},
   "source": [
    "<div class=\"alert alert-warning\">\n",
    "\n",
    "\n",
    " - Дублируем код ли кода\n",
    "\n",
    " - Сложно маcштабировать\n",
    "\n",
    " - Сложно поддерживать свой код\n",
    "    \n",
    " - Много времени тратится на написание("
   ]
  },
  {
   "cell_type": "markdown",
   "metadata": {},
   "source": [
    "Как сохранить всю эту махину? "
   ]
  },
  {
   "cell_type": "code",
   "execution_count": null,
   "metadata": {},
   "outputs": [],
   "source": [
    " "
   ]
  },
  {
   "cell_type": "markdown",
   "metadata": {},
   "source": [
    "# Как пишут код true-датасаентисты - The pipeline way "
   ]
  },
  {
   "cell_type": "markdown",
   "metadata": {},
   "source": [
    "<div>\n",
    "<img src=\"https://i.pinimg.com/564x/41/d2/4b/41d24b25710d7746b22a7eb34316952c.jpg\" width=\"500\"/>\n",
    "</div>"
   ]
  },
  {
   "cell_type": "markdown",
   "metadata": {},
   "source": [
    "<div class=\"alert alert-info\">\n",
    "\n",
    "Pipeline позволяет обернуть сразу несколько этапов обработки данных в один объект\n",
    "\n",
    "- **FunctionTransformer**: преобразует функцию в трансформер\n",
    "- **FeatureUnion**: объединяет результаты нескольких трансформеров в один датасет\n",
    "- **ColumnTransformer**: выбирает определенные колонки\n",
    "- **make_pipeline**: удобная обертка для создания пайплайна, можно использовать вместо Pipeline "
   ]
  },
  {
   "cell_type": "code",
   "execution_count": null,
   "metadata": {},
   "outputs": [],
   "source": [
    " "
   ]
  },
  {
   "cell_type": "code",
   "execution_count": 34,
   "metadata": {
    "ExecuteTime": {
     "end_time": "2022-08-22T17:19:30.487556Z",
     "start_time": "2022-08-22T17:19:30.483519Z"
    }
   },
   "outputs": [],
   "source": [
    "# Гости этого вечера. Нужные нам фрагменты для сборки пайплайна\n",
    "\n",
    "from sklearn.pipeline import Pipeline, make_pipeline, FeatureUnion\n",
    "from sklearn.compose import ColumnTransformer, make_column_selector\n",
    "\n",
    "from sklearn.impute import SimpleImputer #, KNNImputer\n",
    "from sklearn.feature_selection import SelectKBest, chi2, f_classif"
   ]
  },
  {
   "cell_type": "code",
   "execution_count": 91,
   "metadata": {
    "ExecuteTime": {
     "end_time": "2022-08-22T17:19:33.422755Z",
     "start_time": "2022-08-22T17:19:33.155067Z"
    }
   },
   "outputs": [
    {
     "data": {
      "text/plain": [
       "Pipeline(steps=[('preprocessor',\n",
       "                 Pipeline(steps=[('data_transformer',\n",
       "                                  ColumnTransformer(transformers=[('numerical',\n",
       "                                                                   Pipeline(steps=[('imputer',\n",
       "                                                                                    SimpleImputer()),\n",
       "                                                                                   ('scaler',\n",
       "                                                                                    StandardScaler()),\n",
       "                                                                                   ('fs',\n",
       "                                                                                    SelectKBest(k='all'))]),\n",
       "                                                                   ['Age',\n",
       "                                                                    'Height',\n",
       "                                                                    'Weight',\n",
       "                                                                    'Number of '\n",
       "                                                                    'friends']),\n",
       "                                                                  ('categorical',\n",
       "                                                                   Pipeline(steps=[('imputer',\n",
       "                                                                                    SimpleImputer(strategy='most_frequent')),\n",
       "                                                                                   ('onehot',\n",
       "                                                                                    OneHotEncoder(handle_unknown='ignore'))]),\n",
       "                                                                   ['Getting '\n",
       "                                                                    'up',\n",
       "                                                                    'God',\n",
       "                                                                    'Health',\n",
       "                                                                    'Borrowed '\n",
       "                                                                    'stuff',\n",
       "                                                                    'Self-criticism',\n",
       "                                                                    'Elections',\n",
       "                                                                    'Spending '\n",
       "                                                                    'on '\n",
       "                                                                    'healthy '\n",
       "                                                                    'eating',\n",
       "                                                                    'Music',\n",
       "                                                                    'Movies',\n",
       "                                                                    'Friends '\n",
       "                                                                    'versus '\n",
       "                                                                    'money',\n",
       "                                                                    'Changing '\n",
       "                                                                    'the '\n",
       "                                                                    'past'])]))])),\n",
       "                ('classifier', LogisticRegression())])"
      ]
     },
     "execution_count": 91,
     "metadata": {},
     "output_type": "execute_result"
    }
   ],
   "source": [
    "#   Для категориальных - применяем SimpleImputer, а затем StandardScaler\n",
    "numerical_transformer = Pipeline(steps=[ (\"imputer\", SimpleImputer()),\n",
    "                                        (\"scaler\", StandardScaler()),\n",
    "                                        (\"fs\", SelectKBest(score_func=f_classif, k=\"all\")), ])\n",
    "\n",
    "#   Для категориальных - применяем SimpleImputer, а затем OneHotEncoder\n",
    "categorical_transformer = Pipeline(steps=[\n",
    "    (\"imputer\", SimpleImputer(strategy='most_frequent')),\n",
    "    (\"onehot\", OneHotEncoder(handle_unknown=\"ignore\")),\n",
    "])\n",
    "\n",
    "# Собираем воедино трансформеры для числовых и категориальных признаков\n",
    "data_transformer = ColumnTransformer(transformers=[\n",
    "    (\"numerical\", numerical_transformer, numerical_features), # make_column_selector\n",
    "    (\"categorical\", categorical_transformer, categorical_features),\n",
    "])\n",
    "\n",
    "# Создание конвейера препроцессора, который сначала преобразует данные\n",
    "preprocessor = Pipeline(steps=[(\"data_transformer\", data_transformer)])\n",
    "\n",
    "classifier_pipline = Pipeline(\n",
    "    steps=[(\"preprocessor\", preprocessor), \n",
    "           (\"classifier\",  LogisticRegression())])\n",
    "\n",
    "classifier_pipline"
   ]
  },
  {
   "cell_type": "markdown",
   "metadata": {},
   "source": [
    "# Добавим магии - отрисовка!"
   ]
  },
  {
   "cell_type": "code",
   "execution_count": 105,
   "metadata": {
    "ExecuteTime": {
     "end_time": "2022-08-22T17:20:36.786029Z",
     "start_time": "2022-08-22T17:20:36.782063Z"
    }
   },
   "outputs": [],
   "source": [
    "import sklearn\n",
    "sklearn.set_config(display='diagram') #Подключим визуал"
   ]
  },
  {
   "cell_type": "code",
   "execution_count": 106,
   "metadata": {
    "ExecuteTime": {
     "end_time": "2022-08-22T17:20:38.258576Z",
     "start_time": "2022-08-22T17:20:38.094026Z"
    }
   },
   "outputs": [
    {
     "data": {
      "text/html": [
       "<style>div.sk-top-container {color: black;background-color: white;}div.sk-toggleable {background-color: white;}label.sk-toggleable__label {cursor: pointer;display: block;width: 100%;margin-bottom: 0;padding: 0.2em 0.3em;box-sizing: border-box;text-align: center;}div.sk-toggleable__content {max-height: 0;max-width: 0;overflow: hidden;text-align: left;background-color: #f0f8ff;}div.sk-toggleable__content pre {margin: 0.2em;color: black;border-radius: 0.25em;background-color: #f0f8ff;}input.sk-toggleable__control:checked~div.sk-toggleable__content {max-height: 200px;max-width: 100%;overflow: auto;}div.sk-estimator input.sk-toggleable__control:checked~label.sk-toggleable__label {background-color: #d4ebff;}div.sk-label input.sk-toggleable__control:checked~label.sk-toggleable__label {background-color: #d4ebff;}input.sk-hidden--visually {border: 0;clip: rect(1px 1px 1px 1px);clip: rect(1px, 1px, 1px, 1px);height: 1px;margin: -1px;overflow: hidden;padding: 0;position: absolute;width: 1px;}div.sk-estimator {font-family: monospace;background-color: #f0f8ff;margin: 0.25em 0.25em;border: 1px dotted black;border-radius: 0.25em;box-sizing: border-box;}div.sk-estimator:hover {background-color: #d4ebff;}div.sk-parallel-item::after {content: \"\";width: 100%;border-bottom: 1px solid gray;flex-grow: 1;}div.sk-label:hover label.sk-toggleable__label {background-color: #d4ebff;}div.sk-serial::before {content: \"\";position: absolute;border-left: 1px solid gray;box-sizing: border-box;top: 2em;bottom: 0;left: 50%;}div.sk-serial {display: flex;flex-direction: column;align-items: center;background-color: white;}div.sk-item {z-index: 1;}div.sk-parallel {display: flex;align-items: stretch;justify-content: center;background-color: white;}div.sk-parallel-item {display: flex;flex-direction: column;position: relative;background-color: white;}div.sk-parallel-item:first-child::after {align-self: flex-end;width: 50%;}div.sk-parallel-item:last-child::after {align-self: flex-start;width: 50%;}div.sk-parallel-item:only-child::after {width: 0;}div.sk-dashed-wrapped {border: 1px dashed gray;margin: 0.2em;box-sizing: border-box;padding-bottom: 0.1em;background-color: white;position: relative;}div.sk-label label {font-family: monospace;font-weight: bold;background-color: white;display: inline-block;line-height: 1.2em;}div.sk-label-container {position: relative;z-index: 2;text-align: center;}div.sk-container {display: inline-block;position: relative;}</style><div class=\"sk-top-container\"><div class=\"sk-container\"><div class=\"sk-item sk-dashed-wrapped\"><div class=\"sk-label-container\"><div class=\"sk-label sk-toggleable\"><input class=\"sk-toggleable__control sk-hidden--visually\" id=\"0daa5787-95a5-43ab-83d1-28e58501b131\" type=\"checkbox\" ><label class=\"sk-toggleable__label\" for=\"0daa5787-95a5-43ab-83d1-28e58501b131\">ColumnTransformer</label><div class=\"sk-toggleable__content\"><pre>ColumnTransformer(transformers=[('numerical',\n",
       "                                 Pipeline(steps=[('imputer', SimpleImputer()),\n",
       "                                                 ('scaler', StandardScaler()),\n",
       "                                                 ('fs', SelectKBest(k='all'))]),\n",
       "                                 ['Age', 'Height', 'Weight',\n",
       "                                  'Number of friends']),\n",
       "                                ('categorical',\n",
       "                                 Pipeline(steps=[('imputer',\n",
       "                                                  SimpleImputer(strategy='most_frequent')),\n",
       "                                                 ('onehot',\n",
       "                                                  OneHotEncoder(handle_unknown='ignore'))]),\n",
       "                                 ['Getting up', 'God', 'Health',\n",
       "                                  'Borrowed stuff', 'Self-criticism',\n",
       "                                  'Elections', 'Spending on healthy eating',\n",
       "                                  'Music', 'Movies', 'Friends versus money',\n",
       "                                  'Changing the past'])])</pre></div></div></div><div class=\"sk-parallel\"><div class=\"sk-parallel-item\"><div class=\"sk-item\"><div class=\"sk-label-container\"><div class=\"sk-label sk-toggleable\"><input class=\"sk-toggleable__control sk-hidden--visually\" id=\"8e560850-bf89-42af-9335-6bb51cd17682\" type=\"checkbox\" ><label class=\"sk-toggleable__label\" for=\"8e560850-bf89-42af-9335-6bb51cd17682\">numerical</label><div class=\"sk-toggleable__content\"><pre>['Age', 'Height', 'Weight', 'Number of friends']</pre></div></div></div><div class=\"sk-serial\"><div class=\"sk-item\"><div class=\"sk-serial\"><div class=\"sk-item\"><div class=\"sk-estimator sk-toggleable\"><input class=\"sk-toggleable__control sk-hidden--visually\" id=\"200bd51b-79e0-4780-ad80-543fe0049de5\" type=\"checkbox\" ><label class=\"sk-toggleable__label\" for=\"200bd51b-79e0-4780-ad80-543fe0049de5\">SimpleImputer</label><div class=\"sk-toggleable__content\"><pre>SimpleImputer()</pre></div></div></div><div class=\"sk-item\"><div class=\"sk-estimator sk-toggleable\"><input class=\"sk-toggleable__control sk-hidden--visually\" id=\"db39735e-a1d2-40e8-a895-250c2c535347\" type=\"checkbox\" ><label class=\"sk-toggleable__label\" for=\"db39735e-a1d2-40e8-a895-250c2c535347\">StandardScaler</label><div class=\"sk-toggleable__content\"><pre>StandardScaler()</pre></div></div></div><div class=\"sk-item\"><div class=\"sk-estimator sk-toggleable\"><input class=\"sk-toggleable__control sk-hidden--visually\" id=\"b7c9fff4-0013-47b1-be35-e5269e6281a3\" type=\"checkbox\" ><label class=\"sk-toggleable__label\" for=\"b7c9fff4-0013-47b1-be35-e5269e6281a3\">SelectKBest</label><div class=\"sk-toggleable__content\"><pre>SelectKBest(k='all')</pre></div></div></div></div></div></div></div></div><div class=\"sk-parallel-item\"><div class=\"sk-item\"><div class=\"sk-label-container\"><div class=\"sk-label sk-toggleable\"><input class=\"sk-toggleable__control sk-hidden--visually\" id=\"951a33db-05d8-4e63-b174-e4eac3ef91f0\" type=\"checkbox\" ><label class=\"sk-toggleable__label\" for=\"951a33db-05d8-4e63-b174-e4eac3ef91f0\">categorical</label><div class=\"sk-toggleable__content\"><pre>['Getting up', 'God', 'Health', 'Borrowed stuff', 'Self-criticism', 'Elections', 'Spending on healthy eating', 'Music', 'Movies', 'Friends versus money', 'Changing the past']</pre></div></div></div><div class=\"sk-serial\"><div class=\"sk-item\"><div class=\"sk-serial\"><div class=\"sk-item\"><div class=\"sk-estimator sk-toggleable\"><input class=\"sk-toggleable__control sk-hidden--visually\" id=\"2b4615c7-e2cf-4ebc-81ac-343bdf9545ca\" type=\"checkbox\" ><label class=\"sk-toggleable__label\" for=\"2b4615c7-e2cf-4ebc-81ac-343bdf9545ca\">SimpleImputer</label><div class=\"sk-toggleable__content\"><pre>SimpleImputer(strategy='most_frequent')</pre></div></div></div><div class=\"sk-item\"><div class=\"sk-estimator sk-toggleable\"><input class=\"sk-toggleable__control sk-hidden--visually\" id=\"3bcfbbb3-8209-4b83-b201-21152ca5ba62\" type=\"checkbox\" ><label class=\"sk-toggleable__label\" for=\"3bcfbbb3-8209-4b83-b201-21152ca5ba62\">OneHotEncoder</label><div class=\"sk-toggleable__content\"><pre>OneHotEncoder(handle_unknown='ignore')</pre></div></div></div></div></div></div></div></div></div></div></div></div>"
      ],
      "text/plain": [
       "ColumnTransformer(transformers=[('numerical',\n",
       "                                 Pipeline(steps=[('imputer', SimpleImputer()),\n",
       "                                                 ('scaler', StandardScaler()),\n",
       "                                                 ('fs', SelectKBest(k='all'))]),\n",
       "                                 ['Age', 'Height', 'Weight',\n",
       "                                  'Number of friends']),\n",
       "                                ('categorical',\n",
       "                                 Pipeline(steps=[('imputer',\n",
       "                                                  SimpleImputer(strategy='most_frequent')),\n",
       "                                                 ('onehot',\n",
       "                                                  OneHotEncoder(handle_unknown='ignore'))]),\n",
       "                                 ['Getting up', 'God', 'Health',\n",
       "                                  'Borrowed stuff', 'Self-criticism',\n",
       "                                  'Elections', 'Spending on healthy eating',\n",
       "                                  'Music', 'Movies', 'Friends versus money',\n",
       "                                  'Changing the past'])])"
      ]
     },
     "execution_count": 106,
     "metadata": {},
     "output_type": "execute_result"
    }
   ],
   "source": [
    "classifier_pipline[0][0]"
   ]
  },
  {
   "cell_type": "code",
   "execution_count": 150,
   "metadata": {
    "ExecuteTime": {
     "end_time": "2022-08-22T17:22:23.079542Z",
     "start_time": "2022-08-22T17:22:23.051543Z"
    }
   },
   "outputs": [
    {
     "name": "stdout",
     "output_type": "stream",
     "text": [
      "(740, 16) (185, 16)\n"
     ]
    }
   ],
   "source": [
    "from sklearn.model_selection import train_test_split\n",
    "\n",
    "data_train, data_test = train_test_split(data[all_features + target], test_size=0.2, stratify=data[target])\n",
    "print(data_train.shape, data_test.shape)"
   ]
  },
  {
   "cell_type": "code",
   "execution_count": 42,
   "metadata": {
    "ExecuteTime": {
     "end_time": "2022-08-22T17:22:23.354543Z",
     "start_time": "2022-08-22T17:22:23.344555Z"
    }
   },
   "outputs": [],
   "source": [
    "# # data_train.columns\n",
    "# all_features"
   ]
  },
  {
   "cell_type": "code",
   "execution_count": 43,
   "metadata": {
    "ExecuteTime": {
     "end_time": "2022-08-22T17:22:23.616542Z",
     "start_time": "2022-08-22T17:22:23.612542Z"
    }
   },
   "outputs": [],
   "source": [
    "# data_train[all_features]"
   ]
  },
  {
   "cell_type": "code",
   "execution_count": 102,
   "metadata": {
    "ExecuteTime": {
     "end_time": "2022-08-22T17:22:24.045547Z",
     "start_time": "2022-08-22T17:22:23.806540Z"
    }
   },
   "outputs": [
    {
     "name": "stdout",
     "output_type": "stream",
     "text": [
      "              precision    recall  f1-score   support\n",
      "\n",
      "          -1       0.67      0.46      0.55        65\n",
      "           0       0.57      0.78      0.66        93\n",
      "           1       0.38      0.19      0.25        27\n",
      "\n",
      "    accuracy                           0.58       185\n",
      "   macro avg       0.54      0.48      0.49       185\n",
      "weighted avg       0.58      0.58      0.56       185\n",
      "\n"
     ]
    }
   ],
   "source": [
    "classifier_pipline.fit(data_train, data_train[target])\n",
    "\n",
    "preds = classifier_pipline.predict(data_test)\n",
    "\n",
    "print(classification_report(data_test[target], preds))"
   ]
  },
  {
   "cell_type": "code",
   "execution_count": null,
   "metadata": {},
   "outputs": [],
   "source": [
    " "
   ]
  },
  {
   "cell_type": "code",
   "execution_count": null,
   "metadata": {},
   "outputs": [],
   "source": [
    " "
   ]
  },
  {
   "cell_type": "markdown",
   "metadata": {},
   "source": [
    "# А как подбирать параметры у этой всей махины??"
   ]
  },
  {
   "cell_type": "code",
   "execution_count": 45,
   "metadata": {
    "ExecuteTime": {
     "end_time": "2022-08-22T17:26:14.613279Z",
     "start_time": "2022-08-22T17:26:14.610278Z"
    }
   },
   "outputs": [],
   "source": [
    "from sklearn.model_selection import GridSearchCV, RandomizedSearchCV\n",
    "from sklearn.metrics import f1_score, make_scorer\n",
    "f1 = make_scorer(f1_score, average=\"macro\")"
   ]
  },
  {
   "cell_type": "code",
   "execution_count": 46,
   "metadata": {
    "ExecuteTime": {
     "end_time": "2022-08-22T17:27:05.150403Z",
     "start_time": "2022-08-22T17:26:15.727387Z"
    }
   },
   "outputs": [
    {
     "name": "stdout",
     "output_type": "stream",
     "text": [
      "Fitting 3 folds for each of 800 candidates, totalling 2400 fits\n"
     ]
    },
    {
     "data": {
      "text/plain": [
       "GridSearchCV(cv=3,\n",
       "             estimator=Pipeline(steps=[('preprocessor',\n",
       "                                        Pipeline(steps=[('data_transformer',\n",
       "                                                         ColumnTransformer(transformers=[('numerical',\n",
       "                                                                                          Pipeline(steps=[('imputer',\n",
       "                                                                                                           SimpleImputer()),\n",
       "                                                                                                          ('scaler',\n",
       "                                                                                                           StandardScaler()),\n",
       "                                                                                                          ('fs',\n",
       "                                                                                                           SelectKBest(k='all'))]),\n",
       "                                                                                          ['Age',\n",
       "                                                                                           'Height',\n",
       "                                                                                           'Weight',\n",
       "                                                                                           'Number '\n",
       "                                                                                           'of '\n",
       "                                                                                           'friends']),\n",
       "                                                                                         ('categorical',\n",
       "                                                                                          Pipeline(steps=[('imputer',\n",
       "                                                                                                           SimpleImputer(st...\n",
       "       1.66810054e+01, 1.96304065e+01, 2.31012970e+01, 2.71858824e+01,\n",
       "       3.19926714e+01, 3.76493581e+01, 4.43062146e+01, 5.21400829e+01,\n",
       "       6.13590727e+01, 7.22080902e+01, 8.49753436e+01, 1.00000000e+02]),\n",
       "                         'classifier__class_weight': ['balanced', None],\n",
       "                         'classifier__penalty': ['l1', 'l2'],\n",
       "                         'preprocessor__data_transformer__numerical__imputer__strategy': ['median',\n",
       "                                                                                          'mean']},\n",
       "             scoring=make_scorer(f1_score, average=macro), verbose=True)"
      ]
     },
     "execution_count": 46,
     "metadata": {},
     "output_type": "execute_result"
    }
   ],
   "source": [
    "param_grid = {\n",
    "    'classifier__C': np.logspace(-5, 2, 100), # np.linspace(-10, 10)\n",
    "    'classifier__penalty': ['l1', 'l2'],\n",
    "    'classifier__class_weight': ['balanced', None],\n",
    "    'preprocessor__data_transformer__numerical__imputer__strategy':['median', 'mean']\n",
    "}\n",
    "\n",
    "search = GridSearchCV(classifier_pipline, param_grid, \n",
    "                      verbose=True, \n",
    "                      n_jobs=-1, cv=3, scoring=f1)\n",
    "\n",
    "search.fit(data_train.drop(target, axis=1), data_train[target])"
   ]
  },
  {
   "cell_type": "markdown",
   "metadata": {},
   "source": [
    "<div class=\"alert alert-info\">\n",
    "\n",
    "Нам даже не нужно теперь делить на `train` и `test`, ведь есть валидация "
   ]
  },
  {
   "cell_type": "code",
   "execution_count": 103,
   "metadata": {
    "ExecuteTime": {
     "end_time": "2022-08-22T17:27:11.356368Z",
     "start_time": "2022-08-22T17:27:11.333324Z"
    }
   },
   "outputs": [
    {
     "data": {
      "text/plain": [
       "{'classifier__C': 10.235310218990248,\n",
       " 'classifier__class_weight': None,\n",
       " 'classifier__penalty': 'l2',\n",
       " 'preprocessor__data_transformer__numerical__imputer__strategy': 'median'}"
      ]
     },
     "execution_count": 103,
     "metadata": {},
     "output_type": "execute_result"
    }
   ],
   "source": [
    "search.best_params_"
   ]
  },
  {
   "cell_type": "code",
   "execution_count": 48,
   "metadata": {
    "ExecuteTime": {
     "end_time": "2022-08-22T17:27:16.265160Z",
     "start_time": "2022-08-22T17:27:16.227522Z"
    }
   },
   "outputs": [
    {
     "data": {
      "text/plain": [
       "0.5083055764199297"
      ]
     },
     "execution_count": 48,
     "metadata": {},
     "output_type": "execute_result"
    }
   ],
   "source": [
    "search.best_score_"
   ]
  },
  {
   "cell_type": "code",
   "execution_count": 49,
   "metadata": {
    "ExecuteTime": {
     "end_time": "2022-08-22T16:31:45.251149Z",
     "start_time": "2022-08-22T16:31:45.236035Z"
    }
   },
   "outputs": [],
   "source": [
    "# class My_pipeline:\n",
    "#     pipe = classifier_pipline"
   ]
  },
  {
   "cell_type": "markdown",
   "metadata": {},
   "source": [
    "# Еще раз, но по шагам!"
   ]
  },
  {
   "cell_type": "code",
   "execution_count": 50,
   "metadata": {
    "ExecuteTime": {
     "end_time": "2022-08-22T16:31:45.266665Z",
     "start_time": "2022-08-22T16:31:45.252677Z"
    }
   },
   "outputs": [],
   "source": [
    "classifier_pipline = Pipeline( # make_pipline \n",
    "    steps=[('preprocessor', preprocessor),\n",
    "           ('classifier', LogisticRegression())])\n",
    "\n",
    "# make_pipline(preprocessor, LogisticRegression())"
   ]
  },
  {
   "cell_type": "code",
   "execution_count": null,
   "metadata": {},
   "outputs": [],
   "source": [
    " "
   ]
  },
  {
   "cell_type": "code",
   "execution_count": 51,
   "metadata": {
    "ExecuteTime": {
     "end_time": "2022-08-22T16:31:45.282665Z",
     "start_time": "2022-08-22T16:31:45.268671Z"
    }
   },
   "outputs": [],
   "source": [
    "# Создание конвейера препроцессора, который сначала преобразует данные.\n",
    "preprocessor = Pipeline(steps=[(\"data_transformer\", data_transformer)])\n",
    "\n",
    "\n",
    "# Собираем воедино трансформеры для числовых и категориальных признаков\n",
    "data_transformer = ColumnTransformer(\n",
    "    transformers=[\n",
    "        (\"numerical\", numerical_transformer, numerical_features),\n",
    "        (\"categorical\", categorical_transformer, categorical_features),\n",
    "       # (\"time_series\", time_transformer, categorical_features),\n",
    "    ]\n",
    ")"
   ]
  },
  {
   "cell_type": "code",
   "execution_count": 52,
   "metadata": {
    "ExecuteTime": {
     "end_time": "2022-08-22T16:31:45.303962Z",
     "start_time": "2022-08-22T16:31:45.286665Z"
    }
   },
   "outputs": [],
   "source": [
    "#   Для категориальных - применяем SimpleImputer, а затем StandardScaler\n",
    "\n",
    "numerical_transformer = Pipeline(\n",
    "    steps=[\n",
    "        (\"imputer\", SimpleImputer()),\n",
    "        (\"scaler\", StandardScaler()),\n",
    "        (\"fs\", SelectKBest(score_func=f_classif, k=\"all\")),\n",
    "    ]\n",
    ")"
   ]
  },
  {
   "cell_type": "code",
   "execution_count": 53,
   "metadata": {
    "ExecuteTime": {
     "end_time": "2022-08-22T16:31:45.462116Z",
     "start_time": "2022-08-22T16:31:45.303962Z"
    }
   },
   "outputs": [
    {
     "data": {
      "text/plain": [
       "Pipeline(steps=[('preprocessor',\n",
       "                 Pipeline(steps=[('data_transformer',\n",
       "                                  ColumnTransformer(transformers=[('numerical',\n",
       "                                                                   Pipeline(steps=[('imputer',\n",
       "                                                                                    SimpleImputer()),\n",
       "                                                                                   ('scaler',\n",
       "                                                                                    StandardScaler()),\n",
       "                                                                                   ('fs',\n",
       "                                                                                    SelectKBest(k='all'))]),\n",
       "                                                                   ['Age',\n",
       "                                                                    'Height',\n",
       "                                                                    'Weight',\n",
       "                                                                    'Number of '\n",
       "                                                                    'friends']),\n",
       "                                                                  ('categorical',\n",
       "                                                                   Pipeline(steps=[('imputer',\n",
       "                                                                                    SimpleImputer(strategy='most_frequent')),\n",
       "                                                                                   ('onehot',\n",
       "                                                                                    OneHotEncoder(handle_unknown='ignore'))]),\n",
       "                                                                   ['Getting '\n",
       "                                                                    'up',\n",
       "                                                                    'God',\n",
       "                                                                    'Health',\n",
       "                                                                    'Borrowed '\n",
       "                                                                    'stuff',\n",
       "                                                                    'Self-criticism',\n",
       "                                                                    'Elections',\n",
       "                                                                    'Spending '\n",
       "                                                                    'on '\n",
       "                                                                    'healthy '\n",
       "                                                                    'eating',\n",
       "                                                                    'Music',\n",
       "                                                                    'Movies',\n",
       "                                                                    'Friends '\n",
       "                                                                    'versus '\n",
       "                                                                    'money',\n",
       "                                                                    'Changing '\n",
       "                                                                    'the '\n",
       "                                                                    'past'])]))])),\n",
       "                ('classifier', LogisticRegression())])"
      ]
     },
     "execution_count": 53,
     "metadata": {},
     "output_type": "execute_result"
    }
   ],
   "source": [
    "#   Для категориальных - применяем SimpleImputer, а затем OneHotEncoder\n",
    "categorical_transformer = Pipeline(\n",
    "    steps=[\n",
    "        (\"imputer\", SimpleImputer()),\n",
    "        (\"onehot\", OneHotEncoder(handle_unknown=\"ignore\")),\n",
    "    ]\n",
    ")\n",
    "\n",
    "\n",
    "classifier_pipline"
   ]
  },
  {
   "cell_type": "code",
   "execution_count": 54,
   "metadata": {
    "ExecuteTime": {
     "end_time": "2022-08-22T16:31:45.650700Z",
     "start_time": "2022-08-22T16:31:45.464082Z"
    }
   },
   "outputs": [],
   "source": [
    "# #   Для категориальных - применяем SimpleImputer, а затем OneHotEncoder\n",
    "# time_transformer = Pipeline(\n",
    "#     steps=[\n",
    "#         (\"imputer\", SimpleImputer()),\n",
    "#         (\"onehot\", OneHotEncoder(handle_unknown=\"ignore\")),\n",
    "#     ]\n",
    "# )\n",
    "\n"
   ]
  },
  {
   "cell_type": "code",
   "execution_count": null,
   "metadata": {},
   "outputs": [],
   "source": []
  },
  {
   "cell_type": "markdown",
   "metadata": {},
   "source": [
    "# А если вдруг одной модели мало?"
   ]
  },
  {
   "cell_type": "code",
   "execution_count": 107,
   "metadata": {
    "ExecuteTime": {
     "end_time": "2022-08-22T17:30:23.932159Z",
     "start_time": "2022-08-22T17:30:23.810158Z"
    }
   },
   "outputs": [
    {
     "data": {
      "text/html": [
       "<style>div.sk-top-container {color: black;background-color: white;}div.sk-toggleable {background-color: white;}label.sk-toggleable__label {cursor: pointer;display: block;width: 100%;margin-bottom: 0;padding: 0.2em 0.3em;box-sizing: border-box;text-align: center;}div.sk-toggleable__content {max-height: 0;max-width: 0;overflow: hidden;text-align: left;background-color: #f0f8ff;}div.sk-toggleable__content pre {margin: 0.2em;color: black;border-radius: 0.25em;background-color: #f0f8ff;}input.sk-toggleable__control:checked~div.sk-toggleable__content {max-height: 200px;max-width: 100%;overflow: auto;}div.sk-estimator input.sk-toggleable__control:checked~label.sk-toggleable__label {background-color: #d4ebff;}div.sk-label input.sk-toggleable__control:checked~label.sk-toggleable__label {background-color: #d4ebff;}input.sk-hidden--visually {border: 0;clip: rect(1px 1px 1px 1px);clip: rect(1px, 1px, 1px, 1px);height: 1px;margin: -1px;overflow: hidden;padding: 0;position: absolute;width: 1px;}div.sk-estimator {font-family: monospace;background-color: #f0f8ff;margin: 0.25em 0.25em;border: 1px dotted black;border-radius: 0.25em;box-sizing: border-box;}div.sk-estimator:hover {background-color: #d4ebff;}div.sk-parallel-item::after {content: \"\";width: 100%;border-bottom: 1px solid gray;flex-grow: 1;}div.sk-label:hover label.sk-toggleable__label {background-color: #d4ebff;}div.sk-serial::before {content: \"\";position: absolute;border-left: 1px solid gray;box-sizing: border-box;top: 2em;bottom: 0;left: 50%;}div.sk-serial {display: flex;flex-direction: column;align-items: center;background-color: white;}div.sk-item {z-index: 1;}div.sk-parallel {display: flex;align-items: stretch;justify-content: center;background-color: white;}div.sk-parallel-item {display: flex;flex-direction: column;position: relative;background-color: white;}div.sk-parallel-item:first-child::after {align-self: flex-end;width: 50%;}div.sk-parallel-item:last-child::after {align-self: flex-start;width: 50%;}div.sk-parallel-item:only-child::after {width: 0;}div.sk-dashed-wrapped {border: 1px dashed gray;margin: 0.2em;box-sizing: border-box;padding-bottom: 0.1em;background-color: white;position: relative;}div.sk-label label {font-family: monospace;font-weight: bold;background-color: white;display: inline-block;line-height: 1.2em;}div.sk-label-container {position: relative;z-index: 2;text-align: center;}div.sk-container {display: inline-block;position: relative;}</style><div class=\"sk-top-container\"><div class=\"sk-container\"><div class=\"sk-item sk-dashed-wrapped\"><div class=\"sk-label-container\"><div class=\"sk-label sk-toggleable\"><input class=\"sk-toggleable__control sk-hidden--visually\" id=\"de29badc-6947-4041-90c4-982000fd213f\" type=\"checkbox\" ><label class=\"sk-toggleable__label\" for=\"de29badc-6947-4041-90c4-982000fd213f\">VotingClassifier</label><div class=\"sk-toggleable__content\"><pre>VotingClassifier(estimators=[('log_regrassion',\n",
       "                              LogisticRegression(multi_class='multinomial',\n",
       "                                                 random_state=7575)),\n",
       "                             ('random_forest',\n",
       "                              RandomForestClassifier(n_estimators=50,\n",
       "                                                     random_state=7575)),\n",
       "                             ('gnb', GaussianNB())])</pre></div></div></div><div class=\"sk-parallel\"><div class=\"sk-parallel-item\"><div class=\"sk-item\"><div class=\"sk-label-container\"><div class=\"sk-label sk-toggleable\"><label>log_regrassion</label></div></div><div class=\"sk-serial\"><div class=\"sk-item\"><div class=\"sk-estimator sk-toggleable\"><input class=\"sk-toggleable__control sk-hidden--visually\" id=\"16f8f2d9-15e2-470d-9084-137c8d5a4bb0\" type=\"checkbox\" ><label class=\"sk-toggleable__label\" for=\"16f8f2d9-15e2-470d-9084-137c8d5a4bb0\">LogisticRegression</label><div class=\"sk-toggleable__content\"><pre>LogisticRegression(multi_class='multinomial', random_state=7575)</pre></div></div></div></div></div></div><div class=\"sk-parallel-item\"><div class=\"sk-item\"><div class=\"sk-label-container\"><div class=\"sk-label sk-toggleable\"><label>random_forest</label></div></div><div class=\"sk-serial\"><div class=\"sk-item\"><div class=\"sk-estimator sk-toggleable\"><input class=\"sk-toggleable__control sk-hidden--visually\" id=\"34a55fd3-ee19-4772-a86d-cbe3202af783\" type=\"checkbox\" ><label class=\"sk-toggleable__label\" for=\"34a55fd3-ee19-4772-a86d-cbe3202af783\">RandomForestClassifier</label><div class=\"sk-toggleable__content\"><pre>RandomForestClassifier(n_estimators=50, random_state=7575)</pre></div></div></div></div></div></div><div class=\"sk-parallel-item\"><div class=\"sk-item\"><div class=\"sk-label-container\"><div class=\"sk-label sk-toggleable\"><label>gnb</label></div></div><div class=\"sk-serial\"><div class=\"sk-item\"><div class=\"sk-estimator sk-toggleable\"><input class=\"sk-toggleable__control sk-hidden--visually\" id=\"b607eb59-93a9-4c67-8fe6-e1513f8acc5b\" type=\"checkbox\" ><label class=\"sk-toggleable__label\" for=\"b607eb59-93a9-4c67-8fe6-e1513f8acc5b\">GaussianNB</label><div class=\"sk-toggleable__content\"><pre>GaussianNB()</pre></div></div></div></div></div></div></div></div></div></div>"
      ],
      "text/plain": [
       "VotingClassifier(estimators=[('log_regrassion',\n",
       "                              LogisticRegression(multi_class='multinomial',\n",
       "                                                 random_state=7575)),\n",
       "                             ('random_forest',\n",
       "                              RandomForestClassifier(n_estimators=50,\n",
       "                                                     random_state=7575)),\n",
       "                             ('gnb', GaussianNB())])"
      ]
     },
     "execution_count": 107,
     "metadata": {},
     "output_type": "execute_result"
    }
   ],
   "source": [
    "from sklearn.linear_model import LogisticRegression\n",
    "from sklearn.naive_bayes import GaussianNB\n",
    "from sklearn.ensemble import RandomForestClassifier, VotingClassifier\n",
    "import xgboost\n",
    "\n",
    "clf1 = LogisticRegression(multi_class=\"multinomial\", random_state=7575)\n",
    "clf2 = RandomForestClassifier(n_estimators=50, random_state = 7575)\n",
    "clf3 = GaussianNB()\n",
    "\n",
    "blending_classifier = VotingClassifier(\n",
    "    estimators=[(\"log_regrassion\", clf1), \n",
    "                (\"random_forest\", clf2), \n",
    "                (\"gnb\", clf3)] \n",
    ")\n",
    "blending_classifier"
   ]
  },
  {
   "cell_type": "code",
   "execution_count": 108,
   "metadata": {},
   "outputs": [
    {
     "data": {
      "text/html": [
       "<style>div.sk-top-container {color: black;background-color: white;}div.sk-toggleable {background-color: white;}label.sk-toggleable__label {cursor: pointer;display: block;width: 100%;margin-bottom: 0;padding: 0.2em 0.3em;box-sizing: border-box;text-align: center;}div.sk-toggleable__content {max-height: 0;max-width: 0;overflow: hidden;text-align: left;background-color: #f0f8ff;}div.sk-toggleable__content pre {margin: 0.2em;color: black;border-radius: 0.25em;background-color: #f0f8ff;}input.sk-toggleable__control:checked~div.sk-toggleable__content {max-height: 200px;max-width: 100%;overflow: auto;}div.sk-estimator input.sk-toggleable__control:checked~label.sk-toggleable__label {background-color: #d4ebff;}div.sk-label input.sk-toggleable__control:checked~label.sk-toggleable__label {background-color: #d4ebff;}input.sk-hidden--visually {border: 0;clip: rect(1px 1px 1px 1px);clip: rect(1px, 1px, 1px, 1px);height: 1px;margin: -1px;overflow: hidden;padding: 0;position: absolute;width: 1px;}div.sk-estimator {font-family: monospace;background-color: #f0f8ff;margin: 0.25em 0.25em;border: 1px dotted black;border-radius: 0.25em;box-sizing: border-box;}div.sk-estimator:hover {background-color: #d4ebff;}div.sk-parallel-item::after {content: \"\";width: 100%;border-bottom: 1px solid gray;flex-grow: 1;}div.sk-label:hover label.sk-toggleable__label {background-color: #d4ebff;}div.sk-serial::before {content: \"\";position: absolute;border-left: 1px solid gray;box-sizing: border-box;top: 2em;bottom: 0;left: 50%;}div.sk-serial {display: flex;flex-direction: column;align-items: center;background-color: white;}div.sk-item {z-index: 1;}div.sk-parallel {display: flex;align-items: stretch;justify-content: center;background-color: white;}div.sk-parallel-item {display: flex;flex-direction: column;position: relative;background-color: white;}div.sk-parallel-item:first-child::after {align-self: flex-end;width: 50%;}div.sk-parallel-item:last-child::after {align-self: flex-start;width: 50%;}div.sk-parallel-item:only-child::after {width: 0;}div.sk-dashed-wrapped {border: 1px dashed gray;margin: 0.2em;box-sizing: border-box;padding-bottom: 0.1em;background-color: white;position: relative;}div.sk-label label {font-family: monospace;font-weight: bold;background-color: white;display: inline-block;line-height: 1.2em;}div.sk-label-container {position: relative;z-index: 2;text-align: center;}div.sk-container {display: inline-block;position: relative;}</style><div class=\"sk-top-container\"><div class=\"sk-container\"><div class=\"sk-item sk-dashed-wrapped\"><div class=\"sk-label-container\"><div class=\"sk-label sk-toggleable\"><input class=\"sk-toggleable__control sk-hidden--visually\" id=\"d5cd64e6-9f83-46b5-b0d0-fe87f5bf9724\" type=\"checkbox\" ><label class=\"sk-toggleable__label\" for=\"d5cd64e6-9f83-46b5-b0d0-fe87f5bf9724\">VotingClassifier</label><div class=\"sk-toggleable__content\"><pre>VotingClassifier(estimators=[('log_regrassion',\n",
       "                              LogisticRegression(multi_class='multinomial',\n",
       "                                                 random_state=7575)),\n",
       "                             ('random_forest',\n",
       "                              RandomForestClassifier(n_estimators=50,\n",
       "                                                     random_state=7575)),\n",
       "                             ('gnb', GaussianNB())])</pre></div></div></div><div class=\"sk-parallel\"><div class=\"sk-parallel-item\"><div class=\"sk-item\"><div class=\"sk-label-container\"><div class=\"sk-label sk-toggleable\"><label>log_regrassion</label></div></div><div class=\"sk-serial\"><div class=\"sk-item\"><div class=\"sk-estimator sk-toggleable\"><input class=\"sk-toggleable__control sk-hidden--visually\" id=\"430674ec-3ce8-479e-a47a-0a7e4879e69b\" type=\"checkbox\" ><label class=\"sk-toggleable__label\" for=\"430674ec-3ce8-479e-a47a-0a7e4879e69b\">LogisticRegression</label><div class=\"sk-toggleable__content\"><pre>LogisticRegression(multi_class='multinomial', random_state=7575)</pre></div></div></div></div></div></div><div class=\"sk-parallel-item\"><div class=\"sk-item\"><div class=\"sk-label-container\"><div class=\"sk-label sk-toggleable\"><label>random_forest</label></div></div><div class=\"sk-serial\"><div class=\"sk-item\"><div class=\"sk-estimator sk-toggleable\"><input class=\"sk-toggleable__control sk-hidden--visually\" id=\"94906774-a131-4b5d-bf02-780523405a7e\" type=\"checkbox\" ><label class=\"sk-toggleable__label\" for=\"94906774-a131-4b5d-bf02-780523405a7e\">RandomForestClassifier</label><div class=\"sk-toggleable__content\"><pre>RandomForestClassifier(n_estimators=50, random_state=7575)</pre></div></div></div></div></div></div><div class=\"sk-parallel-item\"><div class=\"sk-item\"><div class=\"sk-label-container\"><div class=\"sk-label sk-toggleable\"><label>gnb</label></div></div><div class=\"sk-serial\"><div class=\"sk-item\"><div class=\"sk-estimator sk-toggleable\"><input class=\"sk-toggleable__control sk-hidden--visually\" id=\"5f2f66e3-05ce-4ed0-a472-5acee740c024\" type=\"checkbox\" ><label class=\"sk-toggleable__label\" for=\"5f2f66e3-05ce-4ed0-a472-5acee740c024\">GaussianNB</label><div class=\"sk-toggleable__content\"><pre>GaussianNB()</pre></div></div></div></div></div></div></div></div></div></div>"
      ],
      "text/plain": [
       "VotingClassifier(estimators=[('log_regrassion',\n",
       "                              LogisticRegression(multi_class='multinomial',\n",
       "                                                 random_state=7575)),\n",
       "                             ('random_forest',\n",
       "                              RandomForestClassifier(n_estimators=50,\n",
       "                                                     random_state=7575)),\n",
       "                             ('gnb', GaussianNB())])"
      ]
     },
     "execution_count": 108,
     "metadata": {},
     "output_type": "execute_result"
    }
   ],
   "source": [
    "blending_classifier"
   ]
  },
  {
   "cell_type": "code",
   "execution_count": null,
   "metadata": {},
   "outputs": [],
   "source": [
    " "
   ]
  },
  {
   "cell_type": "code",
   "execution_count": 109,
   "metadata": {
    "ExecuteTime": {
     "end_time": "2022-08-22T17:30:44.825763Z",
     "start_time": "2022-08-22T17:30:44.527767Z"
    }
   },
   "outputs": [
    {
     "data": {
      "text/html": [
       "<style>div.sk-top-container {color: black;background-color: white;}div.sk-toggleable {background-color: white;}label.sk-toggleable__label {cursor: pointer;display: block;width: 100%;margin-bottom: 0;padding: 0.2em 0.3em;box-sizing: border-box;text-align: center;}div.sk-toggleable__content {max-height: 0;max-width: 0;overflow: hidden;text-align: left;background-color: #f0f8ff;}div.sk-toggleable__content pre {margin: 0.2em;color: black;border-radius: 0.25em;background-color: #f0f8ff;}input.sk-toggleable__control:checked~div.sk-toggleable__content {max-height: 200px;max-width: 100%;overflow: auto;}div.sk-estimator input.sk-toggleable__control:checked~label.sk-toggleable__label {background-color: #d4ebff;}div.sk-label input.sk-toggleable__control:checked~label.sk-toggleable__label {background-color: #d4ebff;}input.sk-hidden--visually {border: 0;clip: rect(1px 1px 1px 1px);clip: rect(1px, 1px, 1px, 1px);height: 1px;margin: -1px;overflow: hidden;padding: 0;position: absolute;width: 1px;}div.sk-estimator {font-family: monospace;background-color: #f0f8ff;margin: 0.25em 0.25em;border: 1px dotted black;border-radius: 0.25em;box-sizing: border-box;}div.sk-estimator:hover {background-color: #d4ebff;}div.sk-parallel-item::after {content: \"\";width: 100%;border-bottom: 1px solid gray;flex-grow: 1;}div.sk-label:hover label.sk-toggleable__label {background-color: #d4ebff;}div.sk-serial::before {content: \"\";position: absolute;border-left: 1px solid gray;box-sizing: border-box;top: 2em;bottom: 0;left: 50%;}div.sk-serial {display: flex;flex-direction: column;align-items: center;background-color: white;}div.sk-item {z-index: 1;}div.sk-parallel {display: flex;align-items: stretch;justify-content: center;background-color: white;}div.sk-parallel-item {display: flex;flex-direction: column;position: relative;background-color: white;}div.sk-parallel-item:first-child::after {align-self: flex-end;width: 50%;}div.sk-parallel-item:last-child::after {align-self: flex-start;width: 50%;}div.sk-parallel-item:only-child::after {width: 0;}div.sk-dashed-wrapped {border: 1px dashed gray;margin: 0.2em;box-sizing: border-box;padding-bottom: 0.1em;background-color: white;position: relative;}div.sk-label label {font-family: monospace;font-weight: bold;background-color: white;display: inline-block;line-height: 1.2em;}div.sk-label-container {position: relative;z-index: 2;text-align: center;}div.sk-container {display: inline-block;position: relative;}</style><div class=\"sk-top-container\"><div class=\"sk-container\"><div class=\"sk-item sk-dashed-wrapped\"><div class=\"sk-label-container\"><div class=\"sk-label sk-toggleable\"><input class=\"sk-toggleable__control sk-hidden--visually\" id=\"dd5953d2-cf7c-499e-bb9f-155324ffbe14\" type=\"checkbox\" ><label class=\"sk-toggleable__label\" for=\"dd5953d2-cf7c-499e-bb9f-155324ffbe14\">Pipeline</label><div class=\"sk-toggleable__content\"><pre>Pipeline(steps=[('preprocessor',\n",
       "                 Pipeline(steps=[('data_transformer',\n",
       "                                  ColumnTransformer(transformers=[('numerical',\n",
       "                                                                   Pipeline(steps=[('imputer',\n",
       "                                                                                    SimpleImputer()),\n",
       "                                                                                   ('scaler',\n",
       "                                                                                    StandardScaler()),\n",
       "                                                                                   ('fs',\n",
       "                                                                                    SelectKBest(k='all'))]),\n",
       "                                                                   ['Age',\n",
       "                                                                    'Height',\n",
       "                                                                    'Weight',\n",
       "                                                                    'Number of '\n",
       "                                                                    'friends']),\n",
       "                                                                  ('categorical',\n",
       "                                                                   Pipeline(steps=[('imputer',\n",
       "                                                                                    SimpleImputer(strategy='most_frequent')),\n",
       "                                                                                   ('one...\n",
       "                                                                    'Self-criticism',\n",
       "                                                                    'Elections',\n",
       "                                                                    'Spending '\n",
       "                                                                    'on '\n",
       "                                                                    'healthy '\n",
       "                                                                    'eating',\n",
       "                                                                    'Music',\n",
       "                                                                    'Movies',\n",
       "                                                                    'Friends '\n",
       "                                                                    'versus '\n",
       "                                                                    'money',\n",
       "                                                                    'Changing '\n",
       "                                                                    'the '\n",
       "                                                                    'past'])]))])),\n",
       "                ('classifier',\n",
       "                 VotingClassifier(estimators=[('log_regrassion',\n",
       "                                               LogisticRegression(multi_class='multinomial',\n",
       "                                                                  random_state=7575)),\n",
       "                                              ('random_forest',\n",
       "                                               RandomForestClassifier(n_estimators=50,\n",
       "                                                                      random_state=7575)),\n",
       "                                              ('gnb', GaussianNB())]))])</pre></div></div></div><div class=\"sk-serial\"><div class=\"sk-item\"><div class=\"sk-label-container\"><div class=\"sk-label sk-toggleable\"><input class=\"sk-toggleable__control sk-hidden--visually\" id=\"abd9218d-7648-48c4-bff1-034bf16b5bbc\" type=\"checkbox\" ><label class=\"sk-toggleable__label\" for=\"abd9218d-7648-48c4-bff1-034bf16b5bbc\">preprocessor: Pipeline</label><div class=\"sk-toggleable__content\"><pre>Pipeline(steps=[('data_transformer',\n",
       "                 ColumnTransformer(transformers=[('numerical',\n",
       "                                                  Pipeline(steps=[('imputer',\n",
       "                                                                   SimpleImputer()),\n",
       "                                                                  ('scaler',\n",
       "                                                                   StandardScaler()),\n",
       "                                                                  ('fs',\n",
       "                                                                   SelectKBest(k='all'))]),\n",
       "                                                  ['Age', 'Height', 'Weight',\n",
       "                                                   'Number of friends']),\n",
       "                                                 ('categorical',\n",
       "                                                  Pipeline(steps=[('imputer',\n",
       "                                                                   SimpleImputer(strategy='most_frequent')),\n",
       "                                                                  ('onehot',\n",
       "                                                                   OneHotEncoder(handle_unknown='ignore'))]),\n",
       "                                                  ['Getting up', 'God',\n",
       "                                                   'Health', 'Borrowed stuff',\n",
       "                                                   'Self-criticism',\n",
       "                                                   'Elections',\n",
       "                                                   'Spending on healthy eating',\n",
       "                                                   'Music', 'Movies',\n",
       "                                                   'Friends versus money',\n",
       "                                                   'Changing the past'])]))])</pre></div></div></div><div class=\"sk-serial\"><div class=\"sk-item sk-dashed-wrapped\"><div class=\"sk-label-container\"><div class=\"sk-label sk-toggleable\"><input class=\"sk-toggleable__control sk-hidden--visually\" id=\"52f96f86-21e4-4119-afb3-e5cec55c8a92\" type=\"checkbox\" ><label class=\"sk-toggleable__label\" for=\"52f96f86-21e4-4119-afb3-e5cec55c8a92\">data_transformer: ColumnTransformer</label><div class=\"sk-toggleable__content\"><pre>ColumnTransformer(transformers=[('numerical',\n",
       "                                 Pipeline(steps=[('imputer', SimpleImputer()),\n",
       "                                                 ('scaler', StandardScaler()),\n",
       "                                                 ('fs', SelectKBest(k='all'))]),\n",
       "                                 ['Age', 'Height', 'Weight',\n",
       "                                  'Number of friends']),\n",
       "                                ('categorical',\n",
       "                                 Pipeline(steps=[('imputer',\n",
       "                                                  SimpleImputer(strategy='most_frequent')),\n",
       "                                                 ('onehot',\n",
       "                                                  OneHotEncoder(handle_unknown='ignore'))]),\n",
       "                                 ['Getting up', 'God', 'Health',\n",
       "                                  'Borrowed stuff', 'Self-criticism',\n",
       "                                  'Elections', 'Spending on healthy eating',\n",
       "                                  'Music', 'Movies', 'Friends versus money',\n",
       "                                  'Changing the past'])])</pre></div></div></div><div class=\"sk-parallel\"><div class=\"sk-parallel-item\"><div class=\"sk-item\"><div class=\"sk-label-container\"><div class=\"sk-label sk-toggleable\"><input class=\"sk-toggleable__control sk-hidden--visually\" id=\"20a827b3-086c-44da-ac14-a51516689bab\" type=\"checkbox\" ><label class=\"sk-toggleable__label\" for=\"20a827b3-086c-44da-ac14-a51516689bab\">numerical</label><div class=\"sk-toggleable__content\"><pre>['Age', 'Height', 'Weight', 'Number of friends']</pre></div></div></div><div class=\"sk-serial\"><div class=\"sk-item\"><div class=\"sk-serial\"><div class=\"sk-item\"><div class=\"sk-estimator sk-toggleable\"><input class=\"sk-toggleable__control sk-hidden--visually\" id=\"768353b3-023d-4493-b6f9-72d58dbd4f58\" type=\"checkbox\" ><label class=\"sk-toggleable__label\" for=\"768353b3-023d-4493-b6f9-72d58dbd4f58\">SimpleImputer</label><div class=\"sk-toggleable__content\"><pre>SimpleImputer()</pre></div></div></div><div class=\"sk-item\"><div class=\"sk-estimator sk-toggleable\"><input class=\"sk-toggleable__control sk-hidden--visually\" id=\"9305636f-5cb6-4f59-bc48-3d3da699fd02\" type=\"checkbox\" ><label class=\"sk-toggleable__label\" for=\"9305636f-5cb6-4f59-bc48-3d3da699fd02\">StandardScaler</label><div class=\"sk-toggleable__content\"><pre>StandardScaler()</pre></div></div></div><div class=\"sk-item\"><div class=\"sk-estimator sk-toggleable\"><input class=\"sk-toggleable__control sk-hidden--visually\" id=\"02657305-639f-4f36-91c9-e070f59e332a\" type=\"checkbox\" ><label class=\"sk-toggleable__label\" for=\"02657305-639f-4f36-91c9-e070f59e332a\">SelectKBest</label><div class=\"sk-toggleable__content\"><pre>SelectKBest(k='all')</pre></div></div></div></div></div></div></div></div><div class=\"sk-parallel-item\"><div class=\"sk-item\"><div class=\"sk-label-container\"><div class=\"sk-label sk-toggleable\"><input class=\"sk-toggleable__control sk-hidden--visually\" id=\"fc7b2fa7-a074-4322-ba54-d699b1d5e236\" type=\"checkbox\" ><label class=\"sk-toggleable__label\" for=\"fc7b2fa7-a074-4322-ba54-d699b1d5e236\">categorical</label><div class=\"sk-toggleable__content\"><pre>['Getting up', 'God', 'Health', 'Borrowed stuff', 'Self-criticism', 'Elections', 'Spending on healthy eating', 'Music', 'Movies', 'Friends versus money', 'Changing the past']</pre></div></div></div><div class=\"sk-serial\"><div class=\"sk-item\"><div class=\"sk-serial\"><div class=\"sk-item\"><div class=\"sk-estimator sk-toggleable\"><input class=\"sk-toggleable__control sk-hidden--visually\" id=\"71282574-6b6a-4adf-b717-3091c5e348e0\" type=\"checkbox\" ><label class=\"sk-toggleable__label\" for=\"71282574-6b6a-4adf-b717-3091c5e348e0\">SimpleImputer</label><div class=\"sk-toggleable__content\"><pre>SimpleImputer(strategy='most_frequent')</pre></div></div></div><div class=\"sk-item\"><div class=\"sk-estimator sk-toggleable\"><input class=\"sk-toggleable__control sk-hidden--visually\" id=\"29e49500-40d1-47e3-bfe0-ed8db766b55b\" type=\"checkbox\" ><label class=\"sk-toggleable__label\" for=\"29e49500-40d1-47e3-bfe0-ed8db766b55b\">OneHotEncoder</label><div class=\"sk-toggleable__content\"><pre>OneHotEncoder(handle_unknown='ignore')</pre></div></div></div></div></div></div></div></div></div></div></div></div><div class=\"sk-item sk-dashed-wrapped\"><div class=\"sk-label-container\"><div class=\"sk-label sk-toggleable\"><input class=\"sk-toggleable__control sk-hidden--visually\" id=\"f05562d2-ea17-4844-a976-bb4b5e0e6712\" type=\"checkbox\" ><label class=\"sk-toggleable__label\" for=\"f05562d2-ea17-4844-a976-bb4b5e0e6712\">classifier: VotingClassifier</label><div class=\"sk-toggleable__content\"><pre>VotingClassifier(estimators=[('log_regrassion',\n",
       "                              LogisticRegression(multi_class='multinomial',\n",
       "                                                 random_state=7575)),\n",
       "                             ('random_forest',\n",
       "                              RandomForestClassifier(n_estimators=50,\n",
       "                                                     random_state=7575)),\n",
       "                             ('gnb', GaussianNB())])</pre></div></div></div><div class=\"sk-parallel\"><div class=\"sk-parallel-item\"><div class=\"sk-item\"><div class=\"sk-label-container\"><div class=\"sk-label sk-toggleable\"><label>log_regrassion</label></div></div><div class=\"sk-serial\"><div class=\"sk-item\"><div class=\"sk-estimator sk-toggleable\"><input class=\"sk-toggleable__control sk-hidden--visually\" id=\"d6bbf932-eb31-4bfd-b80d-bb8daddf7800\" type=\"checkbox\" ><label class=\"sk-toggleable__label\" for=\"d6bbf932-eb31-4bfd-b80d-bb8daddf7800\">LogisticRegression</label><div class=\"sk-toggleable__content\"><pre>LogisticRegression(multi_class='multinomial', random_state=7575)</pre></div></div></div></div></div></div><div class=\"sk-parallel-item\"><div class=\"sk-item\"><div class=\"sk-label-container\"><div class=\"sk-label sk-toggleable\"><label>random_forest</label></div></div><div class=\"sk-serial\"><div class=\"sk-item\"><div class=\"sk-estimator sk-toggleable\"><input class=\"sk-toggleable__control sk-hidden--visually\" id=\"08f2c005-a1eb-48fc-8668-c48121d5a945\" type=\"checkbox\" ><label class=\"sk-toggleable__label\" for=\"08f2c005-a1eb-48fc-8668-c48121d5a945\">RandomForestClassifier</label><div class=\"sk-toggleable__content\"><pre>RandomForestClassifier(n_estimators=50, random_state=7575)</pre></div></div></div></div></div></div><div class=\"sk-parallel-item\"><div class=\"sk-item\"><div class=\"sk-label-container\"><div class=\"sk-label sk-toggleable\"><label>gnb</label></div></div><div class=\"sk-serial\"><div class=\"sk-item\"><div class=\"sk-estimator sk-toggleable\"><input class=\"sk-toggleable__control sk-hidden--visually\" id=\"43468014-e1cd-4ea0-a959-8c44892a2aee\" type=\"checkbox\" ><label class=\"sk-toggleable__label\" for=\"43468014-e1cd-4ea0-a959-8c44892a2aee\">GaussianNB</label><div class=\"sk-toggleable__content\"><pre>GaussianNB()</pre></div></div></div></div></div></div></div></div></div></div></div></div>"
      ],
      "text/plain": [
       "Pipeline(steps=[('preprocessor',\n",
       "                 Pipeline(steps=[('data_transformer',\n",
       "                                  ColumnTransformer(transformers=[('numerical',\n",
       "                                                                   Pipeline(steps=[('imputer',\n",
       "                                                                                    SimpleImputer()),\n",
       "                                                                                   ('scaler',\n",
       "                                                                                    StandardScaler()),\n",
       "                                                                                   ('fs',\n",
       "                                                                                    SelectKBest(k='all'))]),\n",
       "                                                                   ['Age',\n",
       "                                                                    'Height',\n",
       "                                                                    'Weight',\n",
       "                                                                    'Number of '\n",
       "                                                                    'friends']),\n",
       "                                                                  ('categorical',\n",
       "                                                                   Pipeline(steps=[('imputer',\n",
       "                                                                                    SimpleImputer(strategy='most_frequent')),\n",
       "                                                                                   ('one...\n",
       "                                                                    'Self-criticism',\n",
       "                                                                    'Elections',\n",
       "                                                                    'Spending '\n",
       "                                                                    'on '\n",
       "                                                                    'healthy '\n",
       "                                                                    'eating',\n",
       "                                                                    'Music',\n",
       "                                                                    'Movies',\n",
       "                                                                    'Friends '\n",
       "                                                                    'versus '\n",
       "                                                                    'money',\n",
       "                                                                    'Changing '\n",
       "                                                                    'the '\n",
       "                                                                    'past'])]))])),\n",
       "                ('classifier',\n",
       "                 VotingClassifier(estimators=[('log_regrassion',\n",
       "                                               LogisticRegression(multi_class='multinomial',\n",
       "                                                                  random_state=7575)),\n",
       "                                              ('random_forest',\n",
       "                                               RandomForestClassifier(n_estimators=50,\n",
       "                                                                      random_state=7575)),\n",
       "                                              ('gnb', GaussianNB())]))])"
      ]
     },
     "execution_count": 109,
     "metadata": {},
     "output_type": "execute_result"
    }
   ],
   "source": [
    "classifier_pipline = Pipeline(\n",
    "    steps=[(\"preprocessor\", preprocessor),\n",
    "           (\"classifier\", blending_classifier)]\n",
    ")\n",
    "\n",
    "classifier_pipline"
   ]
  },
  {
   "cell_type": "code",
   "execution_count": null,
   "metadata": {},
   "outputs": [],
   "source": []
  },
  {
   "cell_type": "markdown",
   "metadata": {},
   "source": [
    "# А что если хотим использовать стекинг?"
   ]
  },
  {
   "cell_type": "code",
   "execution_count": 57,
   "metadata": {
    "ExecuteTime": {
     "end_time": "2022-08-22T17:32:17.000320Z",
     "start_time": "2022-08-22T17:32:16.931317Z"
    }
   },
   "outputs": [],
   "source": [
    "# Your code here.\n",
    "from sklearn.ensemble import RandomForestClassifier\n",
    "from sklearn.svm import LinearSVC\n",
    "from sklearn.ensemble import StackingClassifier"
   ]
  },
  {
   "cell_type": "code",
   "execution_count": 58,
   "metadata": {
    "ExecuteTime": {
     "end_time": "2022-08-22T17:32:39.847930Z",
     "start_time": "2022-08-22T17:32:39.764929Z"
    }
   },
   "outputs": [],
   "source": [
    "# получим список эстиматоров\n",
    "estimators = [\n",
    "    (\"Random_Forest\", RandomForestClassifier()),\n",
    "    (\"Xgboost\", xgboost.XGBClassifier()),\n",
    "    (\"SVM\", LinearSVC()),\n",
    "    \n",
    "]\n",
    "\n",
    "# построим классификатор используя стекинг и наш список классификаторов\n",
    "stacking_classifier = StackingClassifier(\n",
    "    estimators=estimators,\n",
    "    final_estimator=LogisticRegression(n_jobs=-1, verbose=True),\n",
    "    n_jobs=-1,\n",
    "    verbose=True,\n",
    ")"
   ]
  },
  {
   "cell_type": "code",
   "execution_count": 110,
   "metadata": {
    "ExecuteTime": {
     "end_time": "2022-08-22T17:32:40.317525Z",
     "start_time": "2022-08-22T17:32:40.147929Z"
    }
   },
   "outputs": [
    {
     "data": {
      "text/html": [
       "<style>div.sk-top-container {color: black;background-color: white;}div.sk-toggleable {background-color: white;}label.sk-toggleable__label {cursor: pointer;display: block;width: 100%;margin-bottom: 0;padding: 0.2em 0.3em;box-sizing: border-box;text-align: center;}div.sk-toggleable__content {max-height: 0;max-width: 0;overflow: hidden;text-align: left;background-color: #f0f8ff;}div.sk-toggleable__content pre {margin: 0.2em;color: black;border-radius: 0.25em;background-color: #f0f8ff;}input.sk-toggleable__control:checked~div.sk-toggleable__content {max-height: 200px;max-width: 100%;overflow: auto;}div.sk-estimator input.sk-toggleable__control:checked~label.sk-toggleable__label {background-color: #d4ebff;}div.sk-label input.sk-toggleable__control:checked~label.sk-toggleable__label {background-color: #d4ebff;}input.sk-hidden--visually {border: 0;clip: rect(1px 1px 1px 1px);clip: rect(1px, 1px, 1px, 1px);height: 1px;margin: -1px;overflow: hidden;padding: 0;position: absolute;width: 1px;}div.sk-estimator {font-family: monospace;background-color: #f0f8ff;margin: 0.25em 0.25em;border: 1px dotted black;border-radius: 0.25em;box-sizing: border-box;}div.sk-estimator:hover {background-color: #d4ebff;}div.sk-parallel-item::after {content: \"\";width: 100%;border-bottom: 1px solid gray;flex-grow: 1;}div.sk-label:hover label.sk-toggleable__label {background-color: #d4ebff;}div.sk-serial::before {content: \"\";position: absolute;border-left: 1px solid gray;box-sizing: border-box;top: 2em;bottom: 0;left: 50%;}div.sk-serial {display: flex;flex-direction: column;align-items: center;background-color: white;}div.sk-item {z-index: 1;}div.sk-parallel {display: flex;align-items: stretch;justify-content: center;background-color: white;}div.sk-parallel-item {display: flex;flex-direction: column;position: relative;background-color: white;}div.sk-parallel-item:first-child::after {align-self: flex-end;width: 50%;}div.sk-parallel-item:last-child::after {align-self: flex-start;width: 50%;}div.sk-parallel-item:only-child::after {width: 0;}div.sk-dashed-wrapped {border: 1px dashed gray;margin: 0.2em;box-sizing: border-box;padding-bottom: 0.1em;background-color: white;position: relative;}div.sk-label label {font-family: monospace;font-weight: bold;background-color: white;display: inline-block;line-height: 1.2em;}div.sk-label-container {position: relative;z-index: 2;text-align: center;}div.sk-container {display: inline-block;position: relative;}</style><div class=\"sk-top-container\"><div class=\"sk-container\"><div class=\"sk-item sk-dashed-wrapped\"><div class=\"sk-label-container\"><div class=\"sk-label sk-toggleable\"><input class=\"sk-toggleable__control sk-hidden--visually\" id=\"13311591-250e-49c6-a3cf-e1353673fcea\" type=\"checkbox\" ><label class=\"sk-toggleable__label\" for=\"13311591-250e-49c6-a3cf-e1353673fcea\">StackingClassifier</label><div class=\"sk-toggleable__content\"><pre>StackingClassifier(estimators=[('SVM',\n",
       "                                Pipeline(steps=[('columntransformer',\n",
       "                                                 ColumnTransformer(transformers=[('numerical',\n",
       "                                                                                  Pipeline(steps=[('imputer',\n",
       "                                                                                                   SimpleImputer()),\n",
       "                                                                                                  ('scaler',\n",
       "                                                                                                   StandardScaler()),\n",
       "                                                                                                  ('feature_selector',\n",
       "                                                                                                   SelectKBest(k='all'))]),\n",
       "                                                                                  ['Age',\n",
       "                                                                                   'Height',\n",
       "                                                                                   'Weight',\n",
       "                                                                                   'Number '\n",
       "                                                                                   'of '\n",
       "                                                                                   'friends']),\n",
       "                                                                                 ('categorical',\n",
       "                                                                                  Pipeline(steps=[('imputer',\n",
       "                                                                                                   SimpleImputer()),\n",
       "                                                                                                  ('oneh...\n",
       "                                                               max_depth=None,\n",
       "                                                               min_child_weight=None,\n",
       "                                                               missing=nan,\n",
       "                                                               monotone_constraints=None,\n",
       "                                                               n_estimators=100,\n",
       "                                                               n_jobs=-1,\n",
       "                                                               num_parallel_tree=None,\n",
       "                                                               random_state=None,\n",
       "                                                               reg_alpha=None,\n",
       "                                                               reg_lambda=None,\n",
       "                                                               scale_pos_weight=None,\n",
       "                                                               subsample=None,\n",
       "                                                               tree_method=None,\n",
       "                                                               validate_parameters=None,\n",
       "                                                               verbosity=None))]))],\n",
       "                   final_estimator=LogisticRegression(n_jobs=-1, verbose=True),\n",
       "                   n_jobs=-1, verbose=True)</pre></div></div></div><div class=\"sk-serial\"><div class=\"sk-item\"><div class=\"sk-serial\"><div class=\"sk-item\"><div class=\"sk-parallel\"><div class=\"sk-parallel-item\"><div class=\"sk-item\"><div class=\"sk-label-container\"><div class=\"sk-label sk-toggleable\"><label>SVM</label></div></div><div class=\"sk-serial\"><div class=\"sk-item\"><div class=\"sk-serial\"><div class=\"sk-item sk-dashed-wrapped\"><div class=\"sk-label-container\"><div class=\"sk-label sk-toggleable\"><input class=\"sk-toggleable__control sk-hidden--visually\" id=\"5fc41da4-a513-45db-a2d7-e19fc2bc3a2a\" type=\"checkbox\" ><label class=\"sk-toggleable__label\" for=\"5fc41da4-a513-45db-a2d7-e19fc2bc3a2a\">columntransformer: ColumnTransformer</label><div class=\"sk-toggleable__content\"><pre>ColumnTransformer(transformers=[('numerical',\n",
       "                                 Pipeline(steps=[('imputer', SimpleImputer()),\n",
       "                                                 ('scaler', StandardScaler()),\n",
       "                                                 ('feature_selector',\n",
       "                                                  SelectKBest(k='all'))]),\n",
       "                                 ['Age', 'Height', 'Weight',\n",
       "                                  'Number of friends']),\n",
       "                                ('categorical',\n",
       "                                 Pipeline(steps=[('imputer', SimpleImputer()),\n",
       "                                                 ('onehot',\n",
       "                                                  OneHotEncoder(handle_unknown='ignore'))]),\n",
       "                                 ['Getting up', 'God', 'Health',\n",
       "                                  'Borrowed stuff', 'Self-criticism',\n",
       "                                  'Elections', 'Spending on healthy eating',\n",
       "                                  'Music', 'Movies', 'Friends versus money',\n",
       "                                  'Changing the past'])])</pre></div></div></div><div class=\"sk-parallel\"><div class=\"sk-parallel-item\"><div class=\"sk-item\"><div class=\"sk-label-container\"><div class=\"sk-label sk-toggleable\"><input class=\"sk-toggleable__control sk-hidden--visually\" id=\"e258ee55-0369-4896-8528-f736ff11b032\" type=\"checkbox\" ><label class=\"sk-toggleable__label\" for=\"e258ee55-0369-4896-8528-f736ff11b032\">numerical</label><div class=\"sk-toggleable__content\"><pre>['Age', 'Height', 'Weight', 'Number of friends']</pre></div></div></div><div class=\"sk-serial\"><div class=\"sk-item\"><div class=\"sk-serial\"><div class=\"sk-item\"><div class=\"sk-estimator sk-toggleable\"><input class=\"sk-toggleable__control sk-hidden--visually\" id=\"d9006fd4-e752-4079-ac74-15518ad71414\" type=\"checkbox\" ><label class=\"sk-toggleable__label\" for=\"d9006fd4-e752-4079-ac74-15518ad71414\">SimpleImputer</label><div class=\"sk-toggleable__content\"><pre>SimpleImputer()</pre></div></div></div><div class=\"sk-item\"><div class=\"sk-estimator sk-toggleable\"><input class=\"sk-toggleable__control sk-hidden--visually\" id=\"76b67ec7-1029-4caa-ae4e-2c8bd50f0b29\" type=\"checkbox\" ><label class=\"sk-toggleable__label\" for=\"76b67ec7-1029-4caa-ae4e-2c8bd50f0b29\">StandardScaler</label><div class=\"sk-toggleable__content\"><pre>StandardScaler()</pre></div></div></div><div class=\"sk-item\"><div class=\"sk-estimator sk-toggleable\"><input class=\"sk-toggleable__control sk-hidden--visually\" id=\"873a4a6d-79f2-49d9-9432-9a0d0f5c2b00\" type=\"checkbox\" ><label class=\"sk-toggleable__label\" for=\"873a4a6d-79f2-49d9-9432-9a0d0f5c2b00\">SelectKBest</label><div class=\"sk-toggleable__content\"><pre>SelectKBest(k='all')</pre></div></div></div></div></div></div></div></div><div class=\"sk-parallel-item\"><div class=\"sk-item\"><div class=\"sk-label-container\"><div class=\"sk-label sk-toggleable\"><input class=\"sk-toggleable__control sk-hidden--visually\" id=\"44deb018-5b2b-46a3-b22a-09629f487601\" type=\"checkbox\" ><label class=\"sk-toggleable__label\" for=\"44deb018-5b2b-46a3-b22a-09629f487601\">categorical</label><div class=\"sk-toggleable__content\"><pre>['Getting up', 'God', 'Health', 'Borrowed stuff', 'Self-criticism', 'Elections', 'Spending on healthy eating', 'Music', 'Movies', 'Friends versus money', 'Changing the past']</pre></div></div></div><div class=\"sk-serial\"><div class=\"sk-item\"><div class=\"sk-serial\"><div class=\"sk-item\"><div class=\"sk-estimator sk-toggleable\"><input class=\"sk-toggleable__control sk-hidden--visually\" id=\"f66a537f-01a8-4f45-9610-a5639abd5488\" type=\"checkbox\" ><label class=\"sk-toggleable__label\" for=\"f66a537f-01a8-4f45-9610-a5639abd5488\">SimpleImputer</label><div class=\"sk-toggleable__content\"><pre>SimpleImputer()</pre></div></div></div><div class=\"sk-item\"><div class=\"sk-estimator sk-toggleable\"><input class=\"sk-toggleable__control sk-hidden--visually\" id=\"68de012a-8593-4568-92ee-c91480284d2e\" type=\"checkbox\" ><label class=\"sk-toggleable__label\" for=\"68de012a-8593-4568-92ee-c91480284d2e\">OneHotEncoder</label><div class=\"sk-toggleable__content\"><pre>OneHotEncoder(handle_unknown='ignore')</pre></div></div></div></div></div></div></div></div></div></div><div class=\"sk-item\"><div class=\"sk-estimator sk-toggleable\"><input class=\"sk-toggleable__control sk-hidden--visually\" id=\"3870e51e-4621-43dc-a31d-e4548d98a869\" type=\"checkbox\" ><label class=\"sk-toggleable__label\" for=\"3870e51e-4621-43dc-a31d-e4548d98a869\">LinearSVC</label><div class=\"sk-toggleable__content\"><pre>LinearSVC()</pre></div></div></div></div></div></div></div></div><div class=\"sk-parallel-item\"><div class=\"sk-item\"><div class=\"sk-label-container\"><div class=\"sk-label sk-toggleable\"><label>Random_Forest</label></div></div><div class=\"sk-serial\"><div class=\"sk-item\"><div class=\"sk-serial\"><div class=\"sk-item sk-dashed-wrapped\"><div class=\"sk-label-container\"><div class=\"sk-label sk-toggleable\"><input class=\"sk-toggleable__control sk-hidden--visually\" id=\"45ee3845-eb10-49d5-afa2-42f67d94beb8\" type=\"checkbox\" ><label class=\"sk-toggleable__label\" for=\"45ee3845-eb10-49d5-afa2-42f67d94beb8\">columntransformer: ColumnTransformer</label><div class=\"sk-toggleable__content\"><pre>ColumnTransformer(transformers=[('numerical',\n",
       "                                 Pipeline(steps=[('imputer', SimpleImputer()),\n",
       "                                                 ('scaler', StandardScaler()),\n",
       "                                                 ('feature_selector',\n",
       "                                                  SelectKBest(k='all'))]),\n",
       "                                 ['Age', 'Height', 'Weight',\n",
       "                                  'Number of friends']),\n",
       "                                ('categorical',\n",
       "                                 Pipeline(steps=[('imputer', SimpleImputer()),\n",
       "                                                 ('onehot',\n",
       "                                                  OneHotEncoder(handle_unknown='ignore'))]),\n",
       "                                 ['Getting up', 'God', 'Health',\n",
       "                                  'Borrowed stuff', 'Self-criticism',\n",
       "                                  'Elections', 'Spending on healthy eating',\n",
       "                                  'Music', 'Movies', 'Friends versus money',\n",
       "                                  'Changing the past'])])</pre></div></div></div><div class=\"sk-parallel\"><div class=\"sk-parallel-item\"><div class=\"sk-item\"><div class=\"sk-label-container\"><div class=\"sk-label sk-toggleable\"><input class=\"sk-toggleable__control sk-hidden--visually\" id=\"1787b132-6bed-4519-ac75-d1c7d6f1793e\" type=\"checkbox\" ><label class=\"sk-toggleable__label\" for=\"1787b132-6bed-4519-ac75-d1c7d6f1793e\">numerical</label><div class=\"sk-toggleable__content\"><pre>['Age', 'Height', 'Weight', 'Number of friends']</pre></div></div></div><div class=\"sk-serial\"><div class=\"sk-item\"><div class=\"sk-serial\"><div class=\"sk-item\"><div class=\"sk-estimator sk-toggleable\"><input class=\"sk-toggleable__control sk-hidden--visually\" id=\"c6dd5f00-918f-4877-a88e-a57af1ed74dc\" type=\"checkbox\" ><label class=\"sk-toggleable__label\" for=\"c6dd5f00-918f-4877-a88e-a57af1ed74dc\">SimpleImputer</label><div class=\"sk-toggleable__content\"><pre>SimpleImputer()</pre></div></div></div><div class=\"sk-item\"><div class=\"sk-estimator sk-toggleable\"><input class=\"sk-toggleable__control sk-hidden--visually\" id=\"3c4eb897-7cc4-41a0-88f4-c524b7e25b55\" type=\"checkbox\" ><label class=\"sk-toggleable__label\" for=\"3c4eb897-7cc4-41a0-88f4-c524b7e25b55\">StandardScaler</label><div class=\"sk-toggleable__content\"><pre>StandardScaler()</pre></div></div></div><div class=\"sk-item\"><div class=\"sk-estimator sk-toggleable\"><input class=\"sk-toggleable__control sk-hidden--visually\" id=\"b854d9fb-4ce9-411c-a914-da8426c8eced\" type=\"checkbox\" ><label class=\"sk-toggleable__label\" for=\"b854d9fb-4ce9-411c-a914-da8426c8eced\">SelectKBest</label><div class=\"sk-toggleable__content\"><pre>SelectKBest(k='all')</pre></div></div></div></div></div></div></div></div><div class=\"sk-parallel-item\"><div class=\"sk-item\"><div class=\"sk-label-container\"><div class=\"sk-label sk-toggleable\"><input class=\"sk-toggleable__control sk-hidden--visually\" id=\"41f960e5-24f0-4cbd-a72b-5819a7d459ff\" type=\"checkbox\" ><label class=\"sk-toggleable__label\" for=\"41f960e5-24f0-4cbd-a72b-5819a7d459ff\">categorical</label><div class=\"sk-toggleable__content\"><pre>['Getting up', 'God', 'Health', 'Borrowed stuff', 'Self-criticism', 'Elections', 'Spending on healthy eating', 'Music', 'Movies', 'Friends versus money', 'Changing the past']</pre></div></div></div><div class=\"sk-serial\"><div class=\"sk-item\"><div class=\"sk-serial\"><div class=\"sk-item\"><div class=\"sk-estimator sk-toggleable\"><input class=\"sk-toggleable__control sk-hidden--visually\" id=\"395e5489-3f12-4af8-b79d-412d7739ead3\" type=\"checkbox\" ><label class=\"sk-toggleable__label\" for=\"395e5489-3f12-4af8-b79d-412d7739ead3\">SimpleImputer</label><div class=\"sk-toggleable__content\"><pre>SimpleImputer()</pre></div></div></div><div class=\"sk-item\"><div class=\"sk-estimator sk-toggleable\"><input class=\"sk-toggleable__control sk-hidden--visually\" id=\"ca061251-637e-48e6-b900-4d3202143fb2\" type=\"checkbox\" ><label class=\"sk-toggleable__label\" for=\"ca061251-637e-48e6-b900-4d3202143fb2\">OneHotEncoder</label><div class=\"sk-toggleable__content\"><pre>OneHotEncoder(handle_unknown='ignore')</pre></div></div></div></div></div></div></div></div></div></div><div class=\"sk-item\"><div class=\"sk-estimator sk-toggleable\"><input class=\"sk-toggleable__control sk-hidden--visually\" id=\"f190aed3-5a82-442f-987a-096ae7c9d2ae\" type=\"checkbox\" ><label class=\"sk-toggleable__label\" for=\"f190aed3-5a82-442f-987a-096ae7c9d2ae\">RandomForestClassifier</label><div class=\"sk-toggleable__content\"><pre>RandomForestClassifier(n_jobs=-1)</pre></div></div></div></div></div></div></div></div><div class=\"sk-parallel-item\"><div class=\"sk-item\"><div class=\"sk-label-container\"><div class=\"sk-label sk-toggleable\"><label>xgboost</label></div></div><div class=\"sk-serial\"><div class=\"sk-item\"><div class=\"sk-serial\"><div class=\"sk-item sk-dashed-wrapped\"><div class=\"sk-label-container\"><div class=\"sk-label sk-toggleable\"><input class=\"sk-toggleable__control sk-hidden--visually\" id=\"fde0b9bc-fa37-4636-8ecc-6458565c011a\" type=\"checkbox\" ><label class=\"sk-toggleable__label\" for=\"fde0b9bc-fa37-4636-8ecc-6458565c011a\">columntransformer: ColumnTransformer</label><div class=\"sk-toggleable__content\"><pre>ColumnTransformer(transformers=[('numerical',\n",
       "                                 Pipeline(steps=[('imputer', SimpleImputer()),\n",
       "                                                 ('scaler', StandardScaler()),\n",
       "                                                 ('feature_selector',\n",
       "                                                  SelectKBest(k='all'))]),\n",
       "                                 ['Age', 'Height', 'Weight',\n",
       "                                  'Number of friends']),\n",
       "                                ('categorical',\n",
       "                                 Pipeline(steps=[('imputer', SimpleImputer()),\n",
       "                                                 ('onehot',\n",
       "                                                  OneHotEncoder(handle_unknown='ignore'))]),\n",
       "                                 ['Getting up', 'God', 'Health',\n",
       "                                  'Borrowed stuff', 'Self-criticism',\n",
       "                                  'Elections', 'Spending on healthy eating',\n",
       "                                  'Music', 'Movies', 'Friends versus money',\n",
       "                                  'Changing the past'])])</pre></div></div></div><div class=\"sk-parallel\"><div class=\"sk-parallel-item\"><div class=\"sk-item\"><div class=\"sk-label-container\"><div class=\"sk-label sk-toggleable\"><input class=\"sk-toggleable__control sk-hidden--visually\" id=\"3778f048-725b-46e8-bb9c-9261341cc128\" type=\"checkbox\" ><label class=\"sk-toggleable__label\" for=\"3778f048-725b-46e8-bb9c-9261341cc128\">numerical</label><div class=\"sk-toggleable__content\"><pre>['Age', 'Height', 'Weight', 'Number of friends']</pre></div></div></div><div class=\"sk-serial\"><div class=\"sk-item\"><div class=\"sk-serial\"><div class=\"sk-item\"><div class=\"sk-estimator sk-toggleable\"><input class=\"sk-toggleable__control sk-hidden--visually\" id=\"bc7be697-1ba2-4fb3-b93a-e3b31855a38d\" type=\"checkbox\" ><label class=\"sk-toggleable__label\" for=\"bc7be697-1ba2-4fb3-b93a-e3b31855a38d\">SimpleImputer</label><div class=\"sk-toggleable__content\"><pre>SimpleImputer()</pre></div></div></div><div class=\"sk-item\"><div class=\"sk-estimator sk-toggleable\"><input class=\"sk-toggleable__control sk-hidden--visually\" id=\"86c17690-d41a-48bf-8c19-17cf975f523c\" type=\"checkbox\" ><label class=\"sk-toggleable__label\" for=\"86c17690-d41a-48bf-8c19-17cf975f523c\">StandardScaler</label><div class=\"sk-toggleable__content\"><pre>StandardScaler()</pre></div></div></div><div class=\"sk-item\"><div class=\"sk-estimator sk-toggleable\"><input class=\"sk-toggleable__control sk-hidden--visually\" id=\"8f65a8c6-eff7-45d3-b860-055c9778c308\" type=\"checkbox\" ><label class=\"sk-toggleable__label\" for=\"8f65a8c6-eff7-45d3-b860-055c9778c308\">SelectKBest</label><div class=\"sk-toggleable__content\"><pre>SelectKBest(k='all')</pre></div></div></div></div></div></div></div></div><div class=\"sk-parallel-item\"><div class=\"sk-item\"><div class=\"sk-label-container\"><div class=\"sk-label sk-toggleable\"><input class=\"sk-toggleable__control sk-hidden--visually\" id=\"5a7bd44a-c1e1-484e-a9ae-4f2ad5a6e4ea\" type=\"checkbox\" ><label class=\"sk-toggleable__label\" for=\"5a7bd44a-c1e1-484e-a9ae-4f2ad5a6e4ea\">categorical</label><div class=\"sk-toggleable__content\"><pre>['Getting up', 'God', 'Health', 'Borrowed stuff', 'Self-criticism', 'Elections', 'Spending on healthy eating', 'Music', 'Movies', 'Friends versus money', 'Changing the past']</pre></div></div></div><div class=\"sk-serial\"><div class=\"sk-item\"><div class=\"sk-serial\"><div class=\"sk-item\"><div class=\"sk-estimator sk-toggleable\"><input class=\"sk-toggleable__control sk-hidden--visually\" id=\"378816e3-5791-48a5-a0b3-af6a351df928\" type=\"checkbox\" ><label class=\"sk-toggleable__label\" for=\"378816e3-5791-48a5-a0b3-af6a351df928\">SimpleImputer</label><div class=\"sk-toggleable__content\"><pre>SimpleImputer()</pre></div></div></div><div class=\"sk-item\"><div class=\"sk-estimator sk-toggleable\"><input class=\"sk-toggleable__control sk-hidden--visually\" id=\"0fe9192d-e594-4a67-a788-4dcd63247c39\" type=\"checkbox\" ><label class=\"sk-toggleable__label\" for=\"0fe9192d-e594-4a67-a788-4dcd63247c39\">OneHotEncoder</label><div class=\"sk-toggleable__content\"><pre>OneHotEncoder(handle_unknown='ignore')</pre></div></div></div></div></div></div></div></div></div></div><div class=\"sk-item\"><div class=\"sk-estimator sk-toggleable\"><input class=\"sk-toggleable__control sk-hidden--visually\" id=\"ad53b7fe-14c4-471b-96f4-ac07b0f17476\" type=\"checkbox\" ><label class=\"sk-toggleable__label\" for=\"ad53b7fe-14c4-471b-96f4-ac07b0f17476\">XGBClassifier</label><div class=\"sk-toggleable__content\"><pre>XGBClassifier(base_score=None, booster=None, colsample_bylevel=None,\n",
       "              colsample_bynode=None, colsample_bytree=None, gamma=None,\n",
       "              gpu_id=None, importance_type='gain', interaction_constraints=None,\n",
       "              learning_rate=None, max_delta_step=None, max_depth=None,\n",
       "              min_child_weight=None, missing=nan, monotone_constraints=None,\n",
       "              n_estimators=100, n_jobs=-1, num_parallel_tree=None,\n",
       "              random_state=None, reg_alpha=None, reg_lambda=None,\n",
       "              scale_pos_weight=None, subsample=None, tree_method=None,\n",
       "              validate_parameters=None, verbosity=None)</pre></div></div></div></div></div></div></div></div></div></div><div class=\"sk-item\"><div class=\"sk-estimator sk-toggleable\"><input class=\"sk-toggleable__control sk-hidden--visually\" id=\"b7dbd447-a71a-4c82-b2b2-1929813aa960\" type=\"checkbox\" ><label class=\"sk-toggleable__label\" for=\"b7dbd447-a71a-4c82-b2b2-1929813aa960\">LogisticRegression</label><div class=\"sk-toggleable__content\"><pre>LogisticRegression(n_jobs=-1, verbose=True)</pre></div></div></div></div></div></div></div></div></div>"
      ],
      "text/plain": [
       "StackingClassifier(estimators=[('SVM',\n",
       "                                Pipeline(steps=[('columntransformer',\n",
       "                                                 ColumnTransformer(transformers=[('numerical',\n",
       "                                                                                  Pipeline(steps=[('imputer',\n",
       "                                                                                                   SimpleImputer()),\n",
       "                                                                                                  ('scaler',\n",
       "                                                                                                   StandardScaler()),\n",
       "                                                                                                  ('feature_selector',\n",
       "                                                                                                   SelectKBest(k='all'))]),\n",
       "                                                                                  ['Age',\n",
       "                                                                                   'Height',\n",
       "                                                                                   'Weight',\n",
       "                                                                                   'Number '\n",
       "                                                                                   'of '\n",
       "                                                                                   'friends']),\n",
       "                                                                                 ('categorical',\n",
       "                                                                                  Pipeline(steps=[('imputer',\n",
       "                                                                                                   SimpleImputer()),\n",
       "                                                                                                  ('oneh...\n",
       "                                                               max_depth=None,\n",
       "                                                               min_child_weight=None,\n",
       "                                                               missing=nan,\n",
       "                                                               monotone_constraints=None,\n",
       "                                                               n_estimators=100,\n",
       "                                                               n_jobs=-1,\n",
       "                                                               num_parallel_tree=None,\n",
       "                                                               random_state=None,\n",
       "                                                               reg_alpha=None,\n",
       "                                                               reg_lambda=None,\n",
       "                                                               scale_pos_weight=None,\n",
       "                                                               subsample=None,\n",
       "                                                               tree_method=None,\n",
       "                                                               validate_parameters=None,\n",
       "                                                               verbosity=None))]))],\n",
       "                   final_estimator=LogisticRegression(n_jobs=-1, verbose=True),\n",
       "                   n_jobs=-1, verbose=True)"
      ]
     },
     "execution_count": 110,
     "metadata": {},
     "output_type": "execute_result"
    }
   ],
   "source": [
    "stacking_classifier"
   ]
  },
  {
   "cell_type": "code",
   "execution_count": null,
   "metadata": {},
   "outputs": [],
   "source": []
  },
  {
   "cell_type": "code",
   "execution_count": 111,
   "metadata": {
    "ExecuteTime": {
     "end_time": "2022-08-22T17:32:53.713924Z",
     "start_time": "2022-08-22T17:32:53.404963Z"
    }
   },
   "outputs": [
    {
     "data": {
      "text/html": [
       "<style>div.sk-top-container {color: black;background-color: white;}div.sk-toggleable {background-color: white;}label.sk-toggleable__label {cursor: pointer;display: block;width: 100%;margin-bottom: 0;padding: 0.2em 0.3em;box-sizing: border-box;text-align: center;}div.sk-toggleable__content {max-height: 0;max-width: 0;overflow: hidden;text-align: left;background-color: #f0f8ff;}div.sk-toggleable__content pre {margin: 0.2em;color: black;border-radius: 0.25em;background-color: #f0f8ff;}input.sk-toggleable__control:checked~div.sk-toggleable__content {max-height: 200px;max-width: 100%;overflow: auto;}div.sk-estimator input.sk-toggleable__control:checked~label.sk-toggleable__label {background-color: #d4ebff;}div.sk-label input.sk-toggleable__control:checked~label.sk-toggleable__label {background-color: #d4ebff;}input.sk-hidden--visually {border: 0;clip: rect(1px 1px 1px 1px);clip: rect(1px, 1px, 1px, 1px);height: 1px;margin: -1px;overflow: hidden;padding: 0;position: absolute;width: 1px;}div.sk-estimator {font-family: monospace;background-color: #f0f8ff;margin: 0.25em 0.25em;border: 1px dotted black;border-radius: 0.25em;box-sizing: border-box;}div.sk-estimator:hover {background-color: #d4ebff;}div.sk-parallel-item::after {content: \"\";width: 100%;border-bottom: 1px solid gray;flex-grow: 1;}div.sk-label:hover label.sk-toggleable__label {background-color: #d4ebff;}div.sk-serial::before {content: \"\";position: absolute;border-left: 1px solid gray;box-sizing: border-box;top: 2em;bottom: 0;left: 50%;}div.sk-serial {display: flex;flex-direction: column;align-items: center;background-color: white;}div.sk-item {z-index: 1;}div.sk-parallel {display: flex;align-items: stretch;justify-content: center;background-color: white;}div.sk-parallel-item {display: flex;flex-direction: column;position: relative;background-color: white;}div.sk-parallel-item:first-child::after {align-self: flex-end;width: 50%;}div.sk-parallel-item:last-child::after {align-self: flex-start;width: 50%;}div.sk-parallel-item:only-child::after {width: 0;}div.sk-dashed-wrapped {border: 1px dashed gray;margin: 0.2em;box-sizing: border-box;padding-bottom: 0.1em;background-color: white;position: relative;}div.sk-label label {font-family: monospace;font-weight: bold;background-color: white;display: inline-block;line-height: 1.2em;}div.sk-label-container {position: relative;z-index: 2;text-align: center;}div.sk-container {display: inline-block;position: relative;}</style><div class=\"sk-top-container\"><div class=\"sk-container\"><div class=\"sk-item sk-dashed-wrapped\"><div class=\"sk-label-container\"><div class=\"sk-label sk-toggleable\"><input class=\"sk-toggleable__control sk-hidden--visually\" id=\"70a8adfc-0a68-49b1-bcfa-4a229684f7cf\" type=\"checkbox\" ><label class=\"sk-toggleable__label\" for=\"70a8adfc-0a68-49b1-bcfa-4a229684f7cf\">Pipeline</label><div class=\"sk-toggleable__content\"><pre>Pipeline(steps=[('preprocessor',\n",
       "                 Pipeline(steps=[('data_transformer',\n",
       "                                  ColumnTransformer(transformers=[('numerical',\n",
       "                                                                   Pipeline(steps=[('imputer',\n",
       "                                                                                    SimpleImputer()),\n",
       "                                                                                   ('scaler',\n",
       "                                                                                    StandardScaler()),\n",
       "                                                                                   ('fs',\n",
       "                                                                                    SelectKBest(k='all'))]),\n",
       "                                                                   ['Age',\n",
       "                                                                    'Height',\n",
       "                                                                    'Weight',\n",
       "                                                                    'Number of '\n",
       "                                                                    'friends']),\n",
       "                                                                  ('categorical',\n",
       "                                                                   Pipeline(steps=[('imputer',\n",
       "                                                                                    SimpleImputer(strategy='most_frequent')),\n",
       "                                                                                   ('one...\n",
       "                                                               max_delta_step=None,\n",
       "                                                               max_depth=None,\n",
       "                                                               min_child_weight=None,\n",
       "                                                               missing=nan,\n",
       "                                                               monotone_constraints=None,\n",
       "                                                               n_estimators=100,\n",
       "                                                               n_jobs=None,\n",
       "                                                               num_parallel_tree=None,\n",
       "                                                               random_state=None,\n",
       "                                                               reg_alpha=None,\n",
       "                                                               reg_lambda=None,\n",
       "                                                               scale_pos_weight=None,\n",
       "                                                               subsample=None,\n",
       "                                                               tree_method=None,\n",
       "                                                               validate_parameters=None,\n",
       "                                                               verbosity=None))],\n",
       "                                    final_estimator=LogisticRegression(n_jobs=-1),\n",
       "                                    n_jobs=-1))])</pre></div></div></div><div class=\"sk-serial\"><div class=\"sk-item\"><div class=\"sk-label-container\"><div class=\"sk-label sk-toggleable\"><input class=\"sk-toggleable__control sk-hidden--visually\" id=\"e996baea-5c52-4039-a5ea-9d86c515ab17\" type=\"checkbox\" ><label class=\"sk-toggleable__label\" for=\"e996baea-5c52-4039-a5ea-9d86c515ab17\">preprocessor: Pipeline</label><div class=\"sk-toggleable__content\"><pre>Pipeline(steps=[('data_transformer',\n",
       "                 ColumnTransformer(transformers=[('numerical',\n",
       "                                                  Pipeline(steps=[('imputer',\n",
       "                                                                   SimpleImputer()),\n",
       "                                                                  ('scaler',\n",
       "                                                                   StandardScaler()),\n",
       "                                                                  ('fs',\n",
       "                                                                   SelectKBest(k='all'))]),\n",
       "                                                  ['Age', 'Height', 'Weight',\n",
       "                                                   'Number of friends']),\n",
       "                                                 ('categorical',\n",
       "                                                  Pipeline(steps=[('imputer',\n",
       "                                                                   SimpleImputer(strategy='most_frequent')),\n",
       "                                                                  ('onehot',\n",
       "                                                                   OneHotEncoder(handle_unknown='ignore'))]),\n",
       "                                                  ['Getting up', 'God',\n",
       "                                                   'Health', 'Borrowed stuff',\n",
       "                                                   'Self-criticism',\n",
       "                                                   'Elections',\n",
       "                                                   'Spending on healthy eating',\n",
       "                                                   'Music', 'Movies',\n",
       "                                                   'Friends versus money',\n",
       "                                                   'Changing the past'])]))])</pre></div></div></div><div class=\"sk-serial\"><div class=\"sk-item sk-dashed-wrapped\"><div class=\"sk-label-container\"><div class=\"sk-label sk-toggleable\"><input class=\"sk-toggleable__control sk-hidden--visually\" id=\"a3ca28d5-752d-4ad2-9abb-3a11b58936bc\" type=\"checkbox\" ><label class=\"sk-toggleable__label\" for=\"a3ca28d5-752d-4ad2-9abb-3a11b58936bc\">data_transformer: ColumnTransformer</label><div class=\"sk-toggleable__content\"><pre>ColumnTransformer(transformers=[('numerical',\n",
       "                                 Pipeline(steps=[('imputer', SimpleImputer()),\n",
       "                                                 ('scaler', StandardScaler()),\n",
       "                                                 ('fs', SelectKBest(k='all'))]),\n",
       "                                 ['Age', 'Height', 'Weight',\n",
       "                                  'Number of friends']),\n",
       "                                ('categorical',\n",
       "                                 Pipeline(steps=[('imputer',\n",
       "                                                  SimpleImputer(strategy='most_frequent')),\n",
       "                                                 ('onehot',\n",
       "                                                  OneHotEncoder(handle_unknown='ignore'))]),\n",
       "                                 ['Getting up', 'God', 'Health',\n",
       "                                  'Borrowed stuff', 'Self-criticism',\n",
       "                                  'Elections', 'Spending on healthy eating',\n",
       "                                  'Music', 'Movies', 'Friends versus money',\n",
       "                                  'Changing the past'])])</pre></div></div></div><div class=\"sk-parallel\"><div class=\"sk-parallel-item\"><div class=\"sk-item\"><div class=\"sk-label-container\"><div class=\"sk-label sk-toggleable\"><input class=\"sk-toggleable__control sk-hidden--visually\" id=\"4dfbb39d-913c-4181-bee8-9952afefb4c6\" type=\"checkbox\" ><label class=\"sk-toggleable__label\" for=\"4dfbb39d-913c-4181-bee8-9952afefb4c6\">numerical</label><div class=\"sk-toggleable__content\"><pre>['Age', 'Height', 'Weight', 'Number of friends']</pre></div></div></div><div class=\"sk-serial\"><div class=\"sk-item\"><div class=\"sk-serial\"><div class=\"sk-item\"><div class=\"sk-estimator sk-toggleable\"><input class=\"sk-toggleable__control sk-hidden--visually\" id=\"7642c3d4-4838-461d-827d-841a1df85f42\" type=\"checkbox\" ><label class=\"sk-toggleable__label\" for=\"7642c3d4-4838-461d-827d-841a1df85f42\">SimpleImputer</label><div class=\"sk-toggleable__content\"><pre>SimpleImputer()</pre></div></div></div><div class=\"sk-item\"><div class=\"sk-estimator sk-toggleable\"><input class=\"sk-toggleable__control sk-hidden--visually\" id=\"82f411cc-d224-40b9-a6ce-67bdd3b086a6\" type=\"checkbox\" ><label class=\"sk-toggleable__label\" for=\"82f411cc-d224-40b9-a6ce-67bdd3b086a6\">StandardScaler</label><div class=\"sk-toggleable__content\"><pre>StandardScaler()</pre></div></div></div><div class=\"sk-item\"><div class=\"sk-estimator sk-toggleable\"><input class=\"sk-toggleable__control sk-hidden--visually\" id=\"603c4f37-6697-4c58-8bdc-a3af8762ca69\" type=\"checkbox\" ><label class=\"sk-toggleable__label\" for=\"603c4f37-6697-4c58-8bdc-a3af8762ca69\">SelectKBest</label><div class=\"sk-toggleable__content\"><pre>SelectKBest(k='all')</pre></div></div></div></div></div></div></div></div><div class=\"sk-parallel-item\"><div class=\"sk-item\"><div class=\"sk-label-container\"><div class=\"sk-label sk-toggleable\"><input class=\"sk-toggleable__control sk-hidden--visually\" id=\"bec6cb15-dd86-4873-b5dc-60860f701b96\" type=\"checkbox\" ><label class=\"sk-toggleable__label\" for=\"bec6cb15-dd86-4873-b5dc-60860f701b96\">categorical</label><div class=\"sk-toggleable__content\"><pre>['Getting up', 'God', 'Health', 'Borrowed stuff', 'Self-criticism', 'Elections', 'Spending on healthy eating', 'Music', 'Movies', 'Friends versus money', 'Changing the past']</pre></div></div></div><div class=\"sk-serial\"><div class=\"sk-item\"><div class=\"sk-serial\"><div class=\"sk-item\"><div class=\"sk-estimator sk-toggleable\"><input class=\"sk-toggleable__control sk-hidden--visually\" id=\"46a59abc-2b8d-4b5b-872c-aee7f93f58b2\" type=\"checkbox\" ><label class=\"sk-toggleable__label\" for=\"46a59abc-2b8d-4b5b-872c-aee7f93f58b2\">SimpleImputer</label><div class=\"sk-toggleable__content\"><pre>SimpleImputer(strategy='most_frequent')</pre></div></div></div><div class=\"sk-item\"><div class=\"sk-estimator sk-toggleable\"><input class=\"sk-toggleable__control sk-hidden--visually\" id=\"a19f0c59-88ee-478c-806d-b53a776981e0\" type=\"checkbox\" ><label class=\"sk-toggleable__label\" for=\"a19f0c59-88ee-478c-806d-b53a776981e0\">OneHotEncoder</label><div class=\"sk-toggleable__content\"><pre>OneHotEncoder(handle_unknown='ignore')</pre></div></div></div></div></div></div></div></div></div></div></div></div><div class=\"sk-item sk-dashed-wrapped\"><div class=\"sk-label-container\"><div class=\"sk-label sk-toggleable\"><input class=\"sk-toggleable__control sk-hidden--visually\" id=\"b04169da-84cb-42d9-8b28-abfb034cf1cf\" type=\"checkbox\" ><label class=\"sk-toggleable__label\" for=\"b04169da-84cb-42d9-8b28-abfb034cf1cf\">classifier: StackingClassifier</label><div class=\"sk-toggleable__content\"><pre>StackingClassifier(estimators=[('Random_Forest', RandomForestClassifier()),\n",
       "                               ('SVM', LinearSVC()),\n",
       "                               ('Xgboost',\n",
       "                                XGBClassifier(base_score=None, booster=None,\n",
       "                                              colsample_bylevel=None,\n",
       "                                              colsample_bynode=None,\n",
       "                                              colsample_bytree=None, gamma=None,\n",
       "                                              gpu_id=None,\n",
       "                                              importance_type='gain',\n",
       "                                              interaction_constraints=None,\n",
       "                                              learning_rate=None,\n",
       "                                              max_delta_step=None,\n",
       "                                              max_depth=None,\n",
       "                                              min_child_weight=None,\n",
       "                                              missing=nan,\n",
       "                                              monotone_constraints=None,\n",
       "                                              n_estimators=100, n_jobs=None,\n",
       "                                              num_parallel_tree=None,\n",
       "                                              random_state=None, reg_alpha=None,\n",
       "                                              reg_lambda=None,\n",
       "                                              scale_pos_weight=None,\n",
       "                                              subsample=None, tree_method=None,\n",
       "                                              validate_parameters=None,\n",
       "                                              verbosity=None))],\n",
       "                   final_estimator=LogisticRegression(n_jobs=-1), n_jobs=-1)</pre></div></div></div><div class=\"sk-serial\"><div class=\"sk-item\"><div class=\"sk-serial\"><div class=\"sk-item\"><div class=\"sk-parallel\"><div class=\"sk-parallel-item\"><div class=\"sk-item\"><div class=\"sk-label-container\"><div class=\"sk-label sk-toggleable\"><label>Random_Forest</label></div></div><div class=\"sk-serial\"><div class=\"sk-item\"><div class=\"sk-estimator sk-toggleable\"><input class=\"sk-toggleable__control sk-hidden--visually\" id=\"d9263bb6-dfa3-412e-8f38-4a0364dce4e0\" type=\"checkbox\" ><label class=\"sk-toggleable__label\" for=\"d9263bb6-dfa3-412e-8f38-4a0364dce4e0\">RandomForestClassifier</label><div class=\"sk-toggleable__content\"><pre>RandomForestClassifier()</pre></div></div></div></div></div></div><div class=\"sk-parallel-item\"><div class=\"sk-item\"><div class=\"sk-label-container\"><div class=\"sk-label sk-toggleable\"><label>SVM</label></div></div><div class=\"sk-serial\"><div class=\"sk-item\"><div class=\"sk-estimator sk-toggleable\"><input class=\"sk-toggleable__control sk-hidden--visually\" id=\"fc4a7dad-fcdf-449f-a327-cac9683d6010\" type=\"checkbox\" ><label class=\"sk-toggleable__label\" for=\"fc4a7dad-fcdf-449f-a327-cac9683d6010\">LinearSVC</label><div class=\"sk-toggleable__content\"><pre>LinearSVC()</pre></div></div></div></div></div></div><div class=\"sk-parallel-item\"><div class=\"sk-item\"><div class=\"sk-label-container\"><div class=\"sk-label sk-toggleable\"><label>Xgboost</label></div></div><div class=\"sk-serial\"><div class=\"sk-item\"><div class=\"sk-estimator sk-toggleable\"><input class=\"sk-toggleable__control sk-hidden--visually\" id=\"084bddf0-828b-4afe-893b-8ea3a58dac08\" type=\"checkbox\" ><label class=\"sk-toggleable__label\" for=\"084bddf0-828b-4afe-893b-8ea3a58dac08\">XGBClassifier</label><div class=\"sk-toggleable__content\"><pre>XGBClassifier(base_score=None, booster=None, colsample_bylevel=None,\n",
       "              colsample_bynode=None, colsample_bytree=None, gamma=None,\n",
       "              gpu_id=None, importance_type='gain', interaction_constraints=None,\n",
       "              learning_rate=None, max_delta_step=None, max_depth=None,\n",
       "              min_child_weight=None, missing=nan, monotone_constraints=None,\n",
       "              n_estimators=100, n_jobs=None, num_parallel_tree=None,\n",
       "              random_state=None, reg_alpha=None, reg_lambda=None,\n",
       "              scale_pos_weight=None, subsample=None, tree_method=None,\n",
       "              validate_parameters=None, verbosity=None)</pre></div></div></div></div></div></div></div></div><div class=\"sk-item\"><div class=\"sk-estimator sk-toggleable\"><input class=\"sk-toggleable__control sk-hidden--visually\" id=\"480f2c4b-ebb8-4b79-b456-9b1ffae176c6\" type=\"checkbox\" ><label class=\"sk-toggleable__label\" for=\"480f2c4b-ebb8-4b79-b456-9b1ffae176c6\">LogisticRegression</label><div class=\"sk-toggleable__content\"><pre>LogisticRegression(n_jobs=-1)</pre></div></div></div></div></div></div></div></div></div></div></div>"
      ],
      "text/plain": [
       "Pipeline(steps=[('preprocessor',\n",
       "                 Pipeline(steps=[('data_transformer',\n",
       "                                  ColumnTransformer(transformers=[('numerical',\n",
       "                                                                   Pipeline(steps=[('imputer',\n",
       "                                                                                    SimpleImputer()),\n",
       "                                                                                   ('scaler',\n",
       "                                                                                    StandardScaler()),\n",
       "                                                                                   ('fs',\n",
       "                                                                                    SelectKBest(k='all'))]),\n",
       "                                                                   ['Age',\n",
       "                                                                    'Height',\n",
       "                                                                    'Weight',\n",
       "                                                                    'Number of '\n",
       "                                                                    'friends']),\n",
       "                                                                  ('categorical',\n",
       "                                                                   Pipeline(steps=[('imputer',\n",
       "                                                                                    SimpleImputer(strategy='most_frequent')),\n",
       "                                                                                   ('one...\n",
       "                                                               max_delta_step=None,\n",
       "                                                               max_depth=None,\n",
       "                                                               min_child_weight=None,\n",
       "                                                               missing=nan,\n",
       "                                                               monotone_constraints=None,\n",
       "                                                               n_estimators=100,\n",
       "                                                               n_jobs=None,\n",
       "                                                               num_parallel_tree=None,\n",
       "                                                               random_state=None,\n",
       "                                                               reg_alpha=None,\n",
       "                                                               reg_lambda=None,\n",
       "                                                               scale_pos_weight=None,\n",
       "                                                               subsample=None,\n",
       "                                                               tree_method=None,\n",
       "                                                               validate_parameters=None,\n",
       "                                                               verbosity=None))],\n",
       "                                    final_estimator=LogisticRegression(n_jobs=-1),\n",
       "                                    n_jobs=-1))])"
      ]
     },
     "execution_count": 111,
     "metadata": {},
     "output_type": "execute_result"
    }
   ],
   "source": [
    "# получим список эстиматоров\n",
    "estimators = [\n",
    "    (\"Random_Forest\", RandomForestClassifier()),\n",
    "    (\"SVM\", LinearSVC()),\n",
    "    (\"Xgboost\", xgboost.XGBClassifier()),\n",
    "]\n",
    "\n",
    "# построим классификатор используя стекинг и наш список классификаторов\n",
    "stacking_classifier = StackingClassifier(\n",
    "    estimators=estimators, final_estimator=LogisticRegression(n_jobs=-1), n_jobs=-1\n",
    ")\n",
    "\n",
    "classifier_pipline = Pipeline(\n",
    "    steps=[(\"preprocessor\", preprocessor),\n",
    "           (\"classifier\", stacking_classifier)]\n",
    ")\n",
    "\n",
    "classifier_pipline"
   ]
  },
  {
   "cell_type": "code",
   "execution_count": null,
   "metadata": {},
   "outputs": [],
   "source": []
  },
  {
   "cell_type": "code",
   "execution_count": null,
   "metadata": {},
   "outputs": [],
   "source": []
  },
  {
   "cell_type": "code",
   "execution_count": null,
   "metadata": {},
   "outputs": [],
   "source": []
  },
  {
   "cell_type": "code",
   "execution_count": null,
   "metadata": {},
   "outputs": [],
   "source": []
  },
  {
   "cell_type": "markdown",
   "metadata": {},
   "source": [
    "# Чуть более хитрый стекинг/блендинг моделей"
   ]
  },
  {
   "cell_type": "code",
   "execution_count": 112,
   "metadata": {
    "ExecuteTime": {
     "end_time": "2022-08-22T17:34:14.279342Z",
     "start_time": "2022-08-22T17:34:13.230726Z"
    }
   },
   "outputs": [
    {
     "data": {
      "text/html": [
       "<style>div.sk-top-container {color: black;background-color: white;}div.sk-toggleable {background-color: white;}label.sk-toggleable__label {cursor: pointer;display: block;width: 100%;margin-bottom: 0;padding: 0.2em 0.3em;box-sizing: border-box;text-align: center;}div.sk-toggleable__content {max-height: 0;max-width: 0;overflow: hidden;text-align: left;background-color: #f0f8ff;}div.sk-toggleable__content pre {margin: 0.2em;color: black;border-radius: 0.25em;background-color: #f0f8ff;}input.sk-toggleable__control:checked~div.sk-toggleable__content {max-height: 200px;max-width: 100%;overflow: auto;}div.sk-estimator input.sk-toggleable__control:checked~label.sk-toggleable__label {background-color: #d4ebff;}div.sk-label input.sk-toggleable__control:checked~label.sk-toggleable__label {background-color: #d4ebff;}input.sk-hidden--visually {border: 0;clip: rect(1px 1px 1px 1px);clip: rect(1px, 1px, 1px, 1px);height: 1px;margin: -1px;overflow: hidden;padding: 0;position: absolute;width: 1px;}div.sk-estimator {font-family: monospace;background-color: #f0f8ff;margin: 0.25em 0.25em;border: 1px dotted black;border-radius: 0.25em;box-sizing: border-box;}div.sk-estimator:hover {background-color: #d4ebff;}div.sk-parallel-item::after {content: \"\";width: 100%;border-bottom: 1px solid gray;flex-grow: 1;}div.sk-label:hover label.sk-toggleable__label {background-color: #d4ebff;}div.sk-serial::before {content: \"\";position: absolute;border-left: 1px solid gray;box-sizing: border-box;top: 2em;bottom: 0;left: 50%;}div.sk-serial {display: flex;flex-direction: column;align-items: center;background-color: white;}div.sk-item {z-index: 1;}div.sk-parallel {display: flex;align-items: stretch;justify-content: center;background-color: white;}div.sk-parallel-item {display: flex;flex-direction: column;position: relative;background-color: white;}div.sk-parallel-item:first-child::after {align-self: flex-end;width: 50%;}div.sk-parallel-item:last-child::after {align-self: flex-start;width: 50%;}div.sk-parallel-item:only-child::after {width: 0;}div.sk-dashed-wrapped {border: 1px dashed gray;margin: 0.2em;box-sizing: border-box;padding-bottom: 0.1em;background-color: white;position: relative;}div.sk-label label {font-family: monospace;font-weight: bold;background-color: white;display: inline-block;line-height: 1.2em;}div.sk-label-container {position: relative;z-index: 2;text-align: center;}div.sk-container {display: inline-block;position: relative;}</style><div class=\"sk-top-container\"><div class=\"sk-container\"><div class=\"sk-item sk-dashed-wrapped\"><div class=\"sk-label-container\"><div class=\"sk-label sk-toggleable\"><input class=\"sk-toggleable__control sk-hidden--visually\" id=\"72e157c9-85d2-409d-a9bd-85f88bce07f9\" type=\"checkbox\" ><label class=\"sk-toggleable__label\" for=\"72e157c9-85d2-409d-a9bd-85f88bce07f9\">StackingClassifier</label><div class=\"sk-toggleable__content\"><pre>StackingClassifier(estimators=[('SVM',\n",
       "                                Pipeline(steps=[('pipeline',\n",
       "                                                 Pipeline(steps=[('data_transformer',\n",
       "                                                                  ColumnTransformer(transformers=[('numerical',\n",
       "                                                                                                   Pipeline(steps=[('imputer',\n",
       "                                                                                                                    SimpleImputer()),\n",
       "                                                                                                                   ('scaler',\n",
       "                                                                                                                    StandardScaler()),\n",
       "                                                                                                                   ('fs',\n",
       "                                                                                                                    SelectKBest(k='all'))]),\n",
       "                                                                                                   ['Age',\n",
       "                                                                                                    'Height',\n",
       "                                                                                                    'Weight',\n",
       "                                                                                                    'Number '\n",
       "                                                                                                    'of '\n",
       "                                                                                                    'friends']),\n",
       "                                                                                                  ('categorical',\n",
       "                                                                                                   Pipeline(steps=[('imputer',\n",
       "                                                                                                                    SimpleImpu...\n",
       "                                                               max_depth=None,\n",
       "                                                               min_child_weight=None,\n",
       "                                                               missing=nan,\n",
       "                                                               monotone_constraints=None,\n",
       "                                                               n_estimators=100,\n",
       "                                                               n_jobs=None,\n",
       "                                                               num_parallel_tree=None,\n",
       "                                                               random_state=None,\n",
       "                                                               reg_alpha=None,\n",
       "                                                               reg_lambda=None,\n",
       "                                                               scale_pos_weight=None,\n",
       "                                                               subsample=None,\n",
       "                                                               tree_method=None,\n",
       "                                                               validate_parameters=None,\n",
       "                                                               verbosity=None))]))],\n",
       "                   final_estimator=LogisticRegression(n_jobs=-1, verbose=True),\n",
       "                   n_jobs=-1, verbose=True)</pre></div></div></div><div class=\"sk-serial\"><div class=\"sk-item\"><div class=\"sk-serial\"><div class=\"sk-item\"><div class=\"sk-parallel\"><div class=\"sk-parallel-item\"><div class=\"sk-item\"><div class=\"sk-label-container\"><div class=\"sk-label sk-toggleable\"><label>SVM</label></div></div><div class=\"sk-serial\"><div class=\"sk-item\"><div class=\"sk-serial\"><div class=\"sk-item\"><div class=\"sk-label-container\"><div class=\"sk-label sk-toggleable\"><input class=\"sk-toggleable__control sk-hidden--visually\" id=\"3165fcd2-7de0-4be0-b851-ef0e284c1388\" type=\"checkbox\" ><label class=\"sk-toggleable__label\" for=\"3165fcd2-7de0-4be0-b851-ef0e284c1388\">pipeline: Pipeline</label><div class=\"sk-toggleable__content\"><pre>Pipeline(steps=[('data_transformer',\n",
       "                 ColumnTransformer(transformers=[('numerical',\n",
       "                                                  Pipeline(steps=[('imputer',\n",
       "                                                                   SimpleImputer()),\n",
       "                                                                  ('scaler',\n",
       "                                                                   StandardScaler()),\n",
       "                                                                  ('fs',\n",
       "                                                                   SelectKBest(k='all'))]),\n",
       "                                                  ['Age', 'Height', 'Weight',\n",
       "                                                   'Number of friends']),\n",
       "                                                 ('categorical',\n",
       "                                                  Pipeline(steps=[('imputer',\n",
       "                                                                   SimpleImputer(strategy='most_frequent')),\n",
       "                                                                  ('onehot',\n",
       "                                                                   OneHotEncoder(handle_unknown='ignore'))]),\n",
       "                                                  ['Getting up', 'God',\n",
       "                                                   'Health', 'Borrowed stuff',\n",
       "                                                   'Self-criticism',\n",
       "                                                   'Elections',\n",
       "                                                   'Spending on healthy eating',\n",
       "                                                   'Music', 'Movies',\n",
       "                                                   'Friends versus money',\n",
       "                                                   'Changing the past'])]))])</pre></div></div></div><div class=\"sk-serial\"><div class=\"sk-item sk-dashed-wrapped\"><div class=\"sk-label-container\"><div class=\"sk-label sk-toggleable\"><input class=\"sk-toggleable__control sk-hidden--visually\" id=\"ef22291d-913e-44e5-859a-f99208485f65\" type=\"checkbox\" ><label class=\"sk-toggleable__label\" for=\"ef22291d-913e-44e5-859a-f99208485f65\">data_transformer: ColumnTransformer</label><div class=\"sk-toggleable__content\"><pre>ColumnTransformer(transformers=[('numerical',\n",
       "                                 Pipeline(steps=[('imputer', SimpleImputer()),\n",
       "                                                 ('scaler', StandardScaler()),\n",
       "                                                 ('fs', SelectKBest(k='all'))]),\n",
       "                                 ['Age', 'Height', 'Weight',\n",
       "                                  'Number of friends']),\n",
       "                                ('categorical',\n",
       "                                 Pipeline(steps=[('imputer',\n",
       "                                                  SimpleImputer(strategy='most_frequent')),\n",
       "                                                 ('onehot',\n",
       "                                                  OneHotEncoder(handle_unknown='ignore'))]),\n",
       "                                 ['Getting up', 'God', 'Health',\n",
       "                                  'Borrowed stuff', 'Self-criticism',\n",
       "                                  'Elections', 'Spending on healthy eating',\n",
       "                                  'Music', 'Movies', 'Friends versus money',\n",
       "                                  'Changing the past'])])</pre></div></div></div><div class=\"sk-parallel\"><div class=\"sk-parallel-item\"><div class=\"sk-item\"><div class=\"sk-label-container\"><div class=\"sk-label sk-toggleable\"><input class=\"sk-toggleable__control sk-hidden--visually\" id=\"ff7baf6f-2ba4-49a0-8623-8b1075b40ad9\" type=\"checkbox\" ><label class=\"sk-toggleable__label\" for=\"ff7baf6f-2ba4-49a0-8623-8b1075b40ad9\">numerical</label><div class=\"sk-toggleable__content\"><pre>['Age', 'Height', 'Weight', 'Number of friends']</pre></div></div></div><div class=\"sk-serial\"><div class=\"sk-item\"><div class=\"sk-serial\"><div class=\"sk-item\"><div class=\"sk-estimator sk-toggleable\"><input class=\"sk-toggleable__control sk-hidden--visually\" id=\"ff2c003b-cbcd-422c-ae5c-d7104c11333f\" type=\"checkbox\" ><label class=\"sk-toggleable__label\" for=\"ff2c003b-cbcd-422c-ae5c-d7104c11333f\">SimpleImputer</label><div class=\"sk-toggleable__content\"><pre>SimpleImputer()</pre></div></div></div><div class=\"sk-item\"><div class=\"sk-estimator sk-toggleable\"><input class=\"sk-toggleable__control sk-hidden--visually\" id=\"dce621c9-ee7c-4009-9a21-4acdecb5b4b3\" type=\"checkbox\" ><label class=\"sk-toggleable__label\" for=\"dce621c9-ee7c-4009-9a21-4acdecb5b4b3\">StandardScaler</label><div class=\"sk-toggleable__content\"><pre>StandardScaler()</pre></div></div></div><div class=\"sk-item\"><div class=\"sk-estimator sk-toggleable\"><input class=\"sk-toggleable__control sk-hidden--visually\" id=\"db996121-61cd-4a8a-ada8-3b2dae10ce28\" type=\"checkbox\" ><label class=\"sk-toggleable__label\" for=\"db996121-61cd-4a8a-ada8-3b2dae10ce28\">SelectKBest</label><div class=\"sk-toggleable__content\"><pre>SelectKBest(k='all')</pre></div></div></div></div></div></div></div></div><div class=\"sk-parallel-item\"><div class=\"sk-item\"><div class=\"sk-label-container\"><div class=\"sk-label sk-toggleable\"><input class=\"sk-toggleable__control sk-hidden--visually\" id=\"cf636017-a286-43f1-85d8-2e90c63a501a\" type=\"checkbox\" ><label class=\"sk-toggleable__label\" for=\"cf636017-a286-43f1-85d8-2e90c63a501a\">categorical</label><div class=\"sk-toggleable__content\"><pre>['Getting up', 'God', 'Health', 'Borrowed stuff', 'Self-criticism', 'Elections', 'Spending on healthy eating', 'Music', 'Movies', 'Friends versus money', 'Changing the past']</pre></div></div></div><div class=\"sk-serial\"><div class=\"sk-item\"><div class=\"sk-serial\"><div class=\"sk-item\"><div class=\"sk-estimator sk-toggleable\"><input class=\"sk-toggleable__control sk-hidden--visually\" id=\"e11e8b74-27d0-4533-a6c6-f010613459cf\" type=\"checkbox\" ><label class=\"sk-toggleable__label\" for=\"e11e8b74-27d0-4533-a6c6-f010613459cf\">SimpleImputer</label><div class=\"sk-toggleable__content\"><pre>SimpleImputer(strategy='most_frequent')</pre></div></div></div><div class=\"sk-item\"><div class=\"sk-estimator sk-toggleable\"><input class=\"sk-toggleable__control sk-hidden--visually\" id=\"c1ab546d-0138-456d-ad45-aa9b98411e9f\" type=\"checkbox\" ><label class=\"sk-toggleable__label\" for=\"c1ab546d-0138-456d-ad45-aa9b98411e9f\">OneHotEncoder</label><div class=\"sk-toggleable__content\"><pre>OneHotEncoder(handle_unknown='ignore')</pre></div></div></div></div></div></div></div></div></div></div></div></div><div class=\"sk-item\"><div class=\"sk-estimator sk-toggleable\"><input class=\"sk-toggleable__control sk-hidden--visually\" id=\"b3191134-bb13-4d2f-a97a-6a7eb2dc907e\" type=\"checkbox\" ><label class=\"sk-toggleable__label\" for=\"b3191134-bb13-4d2f-a97a-6a7eb2dc907e\">PCA</label><div class=\"sk-toggleable__content\"><pre>PCA()</pre></div></div></div><div class=\"sk-item\"><div class=\"sk-estimator sk-toggleable\"><input class=\"sk-toggleable__control sk-hidden--visually\" id=\"f84d95c9-9c1d-4d98-9c28-1056d01f6fd3\" type=\"checkbox\" ><label class=\"sk-toggleable__label\" for=\"f84d95c9-9c1d-4d98-9c28-1056d01f6fd3\">LinearSVC</label><div class=\"sk-toggleable__content\"><pre>LinearSVC()</pre></div></div></div></div></div></div></div></div><div class=\"sk-parallel-item\"><div class=\"sk-item\"><div class=\"sk-label-container\"><div class=\"sk-label sk-toggleable\"><label>Random_Forest</label></div></div><div class=\"sk-serial\"><div class=\"sk-item\"><div class=\"sk-serial\"><div class=\"sk-item\"><div class=\"sk-label-container\"><div class=\"sk-label sk-toggleable\"><input class=\"sk-toggleable__control sk-hidden--visually\" id=\"08d0a1be-0a29-432b-a525-4319660c7b1b\" type=\"checkbox\" ><label class=\"sk-toggleable__label\" for=\"08d0a1be-0a29-432b-a525-4319660c7b1b\">pipeline: Pipeline</label><div class=\"sk-toggleable__content\"><pre>Pipeline(steps=[('data_transformer',\n",
       "                 ColumnTransformer(transformers=[('numerical',\n",
       "                                                  Pipeline(steps=[('imputer',\n",
       "                                                                   SimpleImputer()),\n",
       "                                                                  ('scaler',\n",
       "                                                                   StandardScaler()),\n",
       "                                                                  ('fs',\n",
       "                                                                   SelectKBest(k='all'))]),\n",
       "                                                  ['Age', 'Height', 'Weight',\n",
       "                                                   'Number of friends']),\n",
       "                                                 ('categorical',\n",
       "                                                  Pipeline(steps=[('imputer',\n",
       "                                                                   SimpleImputer(strategy='most_frequent')),\n",
       "                                                                  ('onehot',\n",
       "                                                                   OneHotEncoder(handle_unknown='ignore'))]),\n",
       "                                                  ['Getting up', 'God',\n",
       "                                                   'Health', 'Borrowed stuff',\n",
       "                                                   'Self-criticism',\n",
       "                                                   'Elections',\n",
       "                                                   'Spending on healthy eating',\n",
       "                                                   'Music', 'Movies',\n",
       "                                                   'Friends versus money',\n",
       "                                                   'Changing the past'])]))])</pre></div></div></div><div class=\"sk-serial\"><div class=\"sk-item sk-dashed-wrapped\"><div class=\"sk-label-container\"><div class=\"sk-label sk-toggleable\"><input class=\"sk-toggleable__control sk-hidden--visually\" id=\"c3cdb90a-d56b-4a25-9fd4-7bafa48e395d\" type=\"checkbox\" ><label class=\"sk-toggleable__label\" for=\"c3cdb90a-d56b-4a25-9fd4-7bafa48e395d\">data_transformer: ColumnTransformer</label><div class=\"sk-toggleable__content\"><pre>ColumnTransformer(transformers=[('numerical',\n",
       "                                 Pipeline(steps=[('imputer', SimpleImputer()),\n",
       "                                                 ('scaler', StandardScaler()),\n",
       "                                                 ('fs', SelectKBest(k='all'))]),\n",
       "                                 ['Age', 'Height', 'Weight',\n",
       "                                  'Number of friends']),\n",
       "                                ('categorical',\n",
       "                                 Pipeline(steps=[('imputer',\n",
       "                                                  SimpleImputer(strategy='most_frequent')),\n",
       "                                                 ('onehot',\n",
       "                                                  OneHotEncoder(handle_unknown='ignore'))]),\n",
       "                                 ['Getting up', 'God', 'Health',\n",
       "                                  'Borrowed stuff', 'Self-criticism',\n",
       "                                  'Elections', 'Spending on healthy eating',\n",
       "                                  'Music', 'Movies', 'Friends versus money',\n",
       "                                  'Changing the past'])])</pre></div></div></div><div class=\"sk-parallel\"><div class=\"sk-parallel-item\"><div class=\"sk-item\"><div class=\"sk-label-container\"><div class=\"sk-label sk-toggleable\"><input class=\"sk-toggleable__control sk-hidden--visually\" id=\"0b25c2a3-c17b-4869-a12a-c8047318d038\" type=\"checkbox\" ><label class=\"sk-toggleable__label\" for=\"0b25c2a3-c17b-4869-a12a-c8047318d038\">numerical</label><div class=\"sk-toggleable__content\"><pre>['Age', 'Height', 'Weight', 'Number of friends']</pre></div></div></div><div class=\"sk-serial\"><div class=\"sk-item\"><div class=\"sk-serial\"><div class=\"sk-item\"><div class=\"sk-estimator sk-toggleable\"><input class=\"sk-toggleable__control sk-hidden--visually\" id=\"b3aeb863-c457-40ac-b9de-b0002301fea9\" type=\"checkbox\" ><label class=\"sk-toggleable__label\" for=\"b3aeb863-c457-40ac-b9de-b0002301fea9\">SimpleImputer</label><div class=\"sk-toggleable__content\"><pre>SimpleImputer()</pre></div></div></div><div class=\"sk-item\"><div class=\"sk-estimator sk-toggleable\"><input class=\"sk-toggleable__control sk-hidden--visually\" id=\"22d4c0d4-6cb2-46c0-8d04-0bedf73f34f5\" type=\"checkbox\" ><label class=\"sk-toggleable__label\" for=\"22d4c0d4-6cb2-46c0-8d04-0bedf73f34f5\">StandardScaler</label><div class=\"sk-toggleable__content\"><pre>StandardScaler()</pre></div></div></div><div class=\"sk-item\"><div class=\"sk-estimator sk-toggleable\"><input class=\"sk-toggleable__control sk-hidden--visually\" id=\"b65a6d48-e57c-449f-ba2c-8a9c521d8cd4\" type=\"checkbox\" ><label class=\"sk-toggleable__label\" for=\"b65a6d48-e57c-449f-ba2c-8a9c521d8cd4\">SelectKBest</label><div class=\"sk-toggleable__content\"><pre>SelectKBest(k='all')</pre></div></div></div></div></div></div></div></div><div class=\"sk-parallel-item\"><div class=\"sk-item\"><div class=\"sk-label-container\"><div class=\"sk-label sk-toggleable\"><input class=\"sk-toggleable__control sk-hidden--visually\" id=\"840d7363-a196-4e42-b141-f13c7f07f8e9\" type=\"checkbox\" ><label class=\"sk-toggleable__label\" for=\"840d7363-a196-4e42-b141-f13c7f07f8e9\">categorical</label><div class=\"sk-toggleable__content\"><pre>['Getting up', 'God', 'Health', 'Borrowed stuff', 'Self-criticism', 'Elections', 'Spending on healthy eating', 'Music', 'Movies', 'Friends versus money', 'Changing the past']</pre></div></div></div><div class=\"sk-serial\"><div class=\"sk-item\"><div class=\"sk-serial\"><div class=\"sk-item\"><div class=\"sk-estimator sk-toggleable\"><input class=\"sk-toggleable__control sk-hidden--visually\" id=\"36248974-4222-41dc-b2d3-dbcd7bdb28fd\" type=\"checkbox\" ><label class=\"sk-toggleable__label\" for=\"36248974-4222-41dc-b2d3-dbcd7bdb28fd\">SimpleImputer</label><div class=\"sk-toggleable__content\"><pre>SimpleImputer(strategy='most_frequent')</pre></div></div></div><div class=\"sk-item\"><div class=\"sk-estimator sk-toggleable\"><input class=\"sk-toggleable__control sk-hidden--visually\" id=\"f5811323-99e9-4e0d-9691-a2098530bce5\" type=\"checkbox\" ><label class=\"sk-toggleable__label\" for=\"f5811323-99e9-4e0d-9691-a2098530bce5\">OneHotEncoder</label><div class=\"sk-toggleable__content\"><pre>OneHotEncoder(handle_unknown='ignore')</pre></div></div></div></div></div></div></div></div></div></div></div></div><div class=\"sk-item\"><div class=\"sk-estimator sk-toggleable\"><input class=\"sk-toggleable__control sk-hidden--visually\" id=\"584ea2e9-daf6-48de-b5ab-bf2df4fda5d3\" type=\"checkbox\" ><label class=\"sk-toggleable__label\" for=\"584ea2e9-daf6-48de-b5ab-bf2df4fda5d3\">RandomForestClassifier</label><div class=\"sk-toggleable__content\"><pre>RandomForestClassifier()</pre></div></div></div></div></div></div></div></div><div class=\"sk-parallel-item\"><div class=\"sk-item\"><div class=\"sk-label-container\"><div class=\"sk-label sk-toggleable\"><label>Xgboost</label></div></div><div class=\"sk-serial\"><div class=\"sk-item\"><div class=\"sk-serial\"><div class=\"sk-item\"><div class=\"sk-label-container\"><div class=\"sk-label sk-toggleable\"><input class=\"sk-toggleable__control sk-hidden--visually\" id=\"782b7437-bdee-4bac-b168-e94ff8334f25\" type=\"checkbox\" ><label class=\"sk-toggleable__label\" for=\"782b7437-bdee-4bac-b168-e94ff8334f25\">pipeline: Pipeline</label><div class=\"sk-toggleable__content\"><pre>Pipeline(steps=[('data_transformer',\n",
       "                 ColumnTransformer(transformers=[('numerical',\n",
       "                                                  Pipeline(steps=[('imputer',\n",
       "                                                                   SimpleImputer()),\n",
       "                                                                  ('scaler',\n",
       "                                                                   StandardScaler()),\n",
       "                                                                  ('fs',\n",
       "                                                                   SelectKBest(k='all'))]),\n",
       "                                                  ['Age', 'Height', 'Weight',\n",
       "                                                   'Number of friends']),\n",
       "                                                 ('categorical',\n",
       "                                                  Pipeline(steps=[('imputer',\n",
       "                                                                   SimpleImputer(strategy='most_frequent')),\n",
       "                                                                  ('onehot',\n",
       "                                                                   OneHotEncoder(handle_unknown='ignore'))]),\n",
       "                                                  ['Getting up', 'God',\n",
       "                                                   'Health', 'Borrowed stuff',\n",
       "                                                   'Self-criticism',\n",
       "                                                   'Elections',\n",
       "                                                   'Spending on healthy eating',\n",
       "                                                   'Music', 'Movies',\n",
       "                                                   'Friends versus money',\n",
       "                                                   'Changing the past'])]))])</pre></div></div></div><div class=\"sk-serial\"><div class=\"sk-item sk-dashed-wrapped\"><div class=\"sk-label-container\"><div class=\"sk-label sk-toggleable\"><input class=\"sk-toggleable__control sk-hidden--visually\" id=\"3232edeb-60c2-47f7-adf1-51736688cdf9\" type=\"checkbox\" ><label class=\"sk-toggleable__label\" for=\"3232edeb-60c2-47f7-adf1-51736688cdf9\">data_transformer: ColumnTransformer</label><div class=\"sk-toggleable__content\"><pre>ColumnTransformer(transformers=[('numerical',\n",
       "                                 Pipeline(steps=[('imputer', SimpleImputer()),\n",
       "                                                 ('scaler', StandardScaler()),\n",
       "                                                 ('fs', SelectKBest(k='all'))]),\n",
       "                                 ['Age', 'Height', 'Weight',\n",
       "                                  'Number of friends']),\n",
       "                                ('categorical',\n",
       "                                 Pipeline(steps=[('imputer',\n",
       "                                                  SimpleImputer(strategy='most_frequent')),\n",
       "                                                 ('onehot',\n",
       "                                                  OneHotEncoder(handle_unknown='ignore'))]),\n",
       "                                 ['Getting up', 'God', 'Health',\n",
       "                                  'Borrowed stuff', 'Self-criticism',\n",
       "                                  'Elections', 'Spending on healthy eating',\n",
       "                                  'Music', 'Movies', 'Friends versus money',\n",
       "                                  'Changing the past'])])</pre></div></div></div><div class=\"sk-parallel\"><div class=\"sk-parallel-item\"><div class=\"sk-item\"><div class=\"sk-label-container\"><div class=\"sk-label sk-toggleable\"><input class=\"sk-toggleable__control sk-hidden--visually\" id=\"de552416-830f-49c8-bbe6-956645de988c\" type=\"checkbox\" ><label class=\"sk-toggleable__label\" for=\"de552416-830f-49c8-bbe6-956645de988c\">numerical</label><div class=\"sk-toggleable__content\"><pre>['Age', 'Height', 'Weight', 'Number of friends']</pre></div></div></div><div class=\"sk-serial\"><div class=\"sk-item\"><div class=\"sk-serial\"><div class=\"sk-item\"><div class=\"sk-estimator sk-toggleable\"><input class=\"sk-toggleable__control sk-hidden--visually\" id=\"631e33df-fa68-42df-8716-a80b72a96992\" type=\"checkbox\" ><label class=\"sk-toggleable__label\" for=\"631e33df-fa68-42df-8716-a80b72a96992\">SimpleImputer</label><div class=\"sk-toggleable__content\"><pre>SimpleImputer()</pre></div></div></div><div class=\"sk-item\"><div class=\"sk-estimator sk-toggleable\"><input class=\"sk-toggleable__control sk-hidden--visually\" id=\"c3a92c7d-f9e2-4963-8bdf-8945de6f0a14\" type=\"checkbox\" ><label class=\"sk-toggleable__label\" for=\"c3a92c7d-f9e2-4963-8bdf-8945de6f0a14\">StandardScaler</label><div class=\"sk-toggleable__content\"><pre>StandardScaler()</pre></div></div></div><div class=\"sk-item\"><div class=\"sk-estimator sk-toggleable\"><input class=\"sk-toggleable__control sk-hidden--visually\" id=\"38648c39-3d9f-4096-9c0c-26dc7f4bc9e7\" type=\"checkbox\" ><label class=\"sk-toggleable__label\" for=\"38648c39-3d9f-4096-9c0c-26dc7f4bc9e7\">SelectKBest</label><div class=\"sk-toggleable__content\"><pre>SelectKBest(k='all')</pre></div></div></div></div></div></div></div></div><div class=\"sk-parallel-item\"><div class=\"sk-item\"><div class=\"sk-label-container\"><div class=\"sk-label sk-toggleable\"><input class=\"sk-toggleable__control sk-hidden--visually\" id=\"f18a19ee-8fe0-4bef-a574-1f4f053e15bc\" type=\"checkbox\" ><label class=\"sk-toggleable__label\" for=\"f18a19ee-8fe0-4bef-a574-1f4f053e15bc\">categorical</label><div class=\"sk-toggleable__content\"><pre>['Getting up', 'God', 'Health', 'Borrowed stuff', 'Self-criticism', 'Elections', 'Spending on healthy eating', 'Music', 'Movies', 'Friends versus money', 'Changing the past']</pre></div></div></div><div class=\"sk-serial\"><div class=\"sk-item\"><div class=\"sk-serial\"><div class=\"sk-item\"><div class=\"sk-estimator sk-toggleable\"><input class=\"sk-toggleable__control sk-hidden--visually\" id=\"30af7f67-3bf4-458b-b8e7-01740f4ba72b\" type=\"checkbox\" ><label class=\"sk-toggleable__label\" for=\"30af7f67-3bf4-458b-b8e7-01740f4ba72b\">SimpleImputer</label><div class=\"sk-toggleable__content\"><pre>SimpleImputer(strategy='most_frequent')</pre></div></div></div><div class=\"sk-item\"><div class=\"sk-estimator sk-toggleable\"><input class=\"sk-toggleable__control sk-hidden--visually\" id=\"4ac326a5-731a-46a0-8fa4-969cafd12941\" type=\"checkbox\" ><label class=\"sk-toggleable__label\" for=\"4ac326a5-731a-46a0-8fa4-969cafd12941\">OneHotEncoder</label><div class=\"sk-toggleable__content\"><pre>OneHotEncoder(handle_unknown='ignore')</pre></div></div></div></div></div></div></div></div></div></div></div></div><div class=\"sk-item\"><div class=\"sk-estimator sk-toggleable\"><input class=\"sk-toggleable__control sk-hidden--visually\" id=\"33302935-0919-42db-9a5d-3532a9eb5e0d\" type=\"checkbox\" ><label class=\"sk-toggleable__label\" for=\"33302935-0919-42db-9a5d-3532a9eb5e0d\">XGBClassifier</label><div class=\"sk-toggleable__content\"><pre>XGBClassifier(base_score=None, booster=None, colsample_bylevel=None,\n",
       "              colsample_bynode=None, colsample_bytree=None, gamma=None,\n",
       "              gpu_id=None, importance_type='gain', interaction_constraints=None,\n",
       "              learning_rate=None, max_delta_step=None, max_depth=None,\n",
       "              min_child_weight=None, missing=nan, monotone_constraints=None,\n",
       "              n_estimators=100, n_jobs=None, num_parallel_tree=None,\n",
       "              random_state=None, reg_alpha=None, reg_lambda=None,\n",
       "              scale_pos_weight=None, subsample=None, tree_method=None,\n",
       "              validate_parameters=None, verbosity=None)</pre></div></div></div></div></div></div></div></div></div></div><div class=\"sk-item\"><div class=\"sk-estimator sk-toggleable\"><input class=\"sk-toggleable__control sk-hidden--visually\" id=\"3ee27bfd-3454-4383-9173-43cae56e594d\" type=\"checkbox\" ><label class=\"sk-toggleable__label\" for=\"3ee27bfd-3454-4383-9173-43cae56e594d\">LogisticRegression</label><div class=\"sk-toggleable__content\"><pre>LogisticRegression(n_jobs=-1, verbose=True)</pre></div></div></div></div></div></div></div></div></div>"
      ],
      "text/plain": [
       "StackingClassifier(estimators=[('SVM',\n",
       "                                Pipeline(steps=[('pipeline',\n",
       "                                                 Pipeline(steps=[('data_transformer',\n",
       "                                                                  ColumnTransformer(transformers=[('numerical',\n",
       "                                                                                                   Pipeline(steps=[('imputer',\n",
       "                                                                                                                    SimpleImputer()),\n",
       "                                                                                                                   ('scaler',\n",
       "                                                                                                                    StandardScaler()),\n",
       "                                                                                                                   ('fs',\n",
       "                                                                                                                    SelectKBest(k='all'))]),\n",
       "                                                                                                   ['Age',\n",
       "                                                                                                    'Height',\n",
       "                                                                                                    'Weight',\n",
       "                                                                                                    'Number '\n",
       "                                                                                                    'of '\n",
       "                                                                                                    'friends']),\n",
       "                                                                                                  ('categorical',\n",
       "                                                                                                   Pipeline(steps=[('imputer',\n",
       "                                                                                                                    SimpleImpu...\n",
       "                                                               max_depth=None,\n",
       "                                                               min_child_weight=None,\n",
       "                                                               missing=nan,\n",
       "                                                               monotone_constraints=None,\n",
       "                                                               n_estimators=100,\n",
       "                                                               n_jobs=None,\n",
       "                                                               num_parallel_tree=None,\n",
       "                                                               random_state=None,\n",
       "                                                               reg_alpha=None,\n",
       "                                                               reg_lambda=None,\n",
       "                                                               scale_pos_weight=None,\n",
       "                                                               subsample=None,\n",
       "                                                               tree_method=None,\n",
       "                                                               validate_parameters=None,\n",
       "                                                               verbosity=None))]))],\n",
       "                   final_estimator=LogisticRegression(n_jobs=-1, verbose=True),\n",
       "                   n_jobs=-1, verbose=True)"
      ]
     },
     "execution_count": 112,
     "metadata": {},
     "output_type": "execute_result"
    }
   ],
   "source": [
    "from sklearn.decomposition import PCA\n",
    "\n",
    "# получим список эстиматоров\n",
    "estimators = [\n",
    "    (\"SVM\", make_pipeline(preprocessor, PCA(), LinearSVC())),\n",
    "    (\"Random_Forest\", make_pipeline(preprocessor, RandomForestClassifier())),\n",
    "    (\"Xgboost\", make_pipeline(preprocessor, xgboost.XGBClassifier())),\n",
    "]\n",
    "\n",
    "# построим классификатор используя стекинг и наш список классификаторов\n",
    "stacking_classifier = StackingClassifier(\n",
    "    estimators=estimators,\n",
    "    final_estimator=LogisticRegression(n_jobs=-1, verbose=True),\n",
    "    n_jobs=-1,\n",
    "    verbose=True,\n",
    ")\n",
    "\n",
    "stacking_classifier"
   ]
  },
  {
   "cell_type": "code",
   "execution_count": null,
   "metadata": {},
   "outputs": [],
   "source": []
  },
  {
   "cell_type": "code",
   "execution_count": null,
   "metadata": {},
   "outputs": [],
   "source": []
  },
  {
   "cell_type": "code",
   "execution_count": null,
   "metadata": {},
   "outputs": [],
   "source": []
  },
  {
   "cell_type": "code",
   "execution_count": null,
   "metadata": {},
   "outputs": [],
   "source": []
  },
  {
   "cell_type": "code",
   "execution_count": null,
   "metadata": {},
   "outputs": [],
   "source": []
  },
  {
   "cell_type": "code",
   "execution_count": 62,
   "metadata": {
    "ExecuteTime": {
     "end_time": "2022-08-22T16:31:46.824614Z",
     "start_time": "2022-08-22T16:31:46.810616Z"
    }
   },
   "outputs": [
    {
     "data": {
      "text/plain": [
       "['Age', 'Height', 'Weight', 'Number of friends']"
      ]
     },
     "execution_count": 62,
     "metadata": {},
     "output_type": "execute_result"
    }
   ],
   "source": [
    "numerical_features"
   ]
  },
  {
   "cell_type": "markdown",
   "metadata": {},
   "source": [
    "# А сколько всего кода было написано?"
   ]
  },
  {
   "cell_type": "code",
   "execution_count": 63,
   "metadata": {
    "ExecuteTime": {
     "end_time": "2022-08-22T17:56:17.615156Z",
     "start_time": "2022-08-22T17:56:17.605155Z"
    }
   },
   "outputs": [],
   "source": [
    "numerical_transformer = Pipeline(steps=[\n",
    "    (\"imputer\", SimpleImputer()),\n",
    "    (\"scaler\", StandardScaler()),\n",
    "    (\"feature_selector\", SelectKBest(score_func=f_classif, k=\"all\"))])\n",
    "\n",
    "\n",
    "categorical_transformer = Pipeline(steps=[\n",
    "    (\"imputer\", SimpleImputer()),\n",
    "    (\"onehot\", OneHotEncoder(handle_unknown=\"ignore\"))])\n",
    "\n",
    "data_transformer = ColumnTransformer(transformers=[\n",
    "    (\"numerical\", numerical_transformer, numerical_features),\n",
    "    (\"categorical\", categorical_transformer, categorical_features)])\n",
    "\n",
    "preprocessor =  data_transformer #\n",
    "#Pipeline(steps=[(\"data_transformer\", data_transformer)])\n",
    "\n",
    "estimators = [\n",
    "    (\"SVM\", make_pipeline(preprocessor, LinearSVC())),\n",
    "    (\"Random_Forest\", make_pipeline(preprocessor, RandomForestClassifier(n_jobs=-1))),\n",
    "    (\"xgboost\", make_pipeline(preprocessor, xgboost.XGBClassifier(n_jobs=-1)))]\n",
    "\n",
    "stacking_classifier = StackingClassifier(\n",
    "    estimators=estimators,\n",
    "    final_estimator=LogisticRegression(n_jobs=-1, verbose=True),\n",
    "    n_jobs=-1,\n",
    "    verbose=True,\n",
    ")"
   ]
  },
  {
   "cell_type": "code",
   "execution_count": 113,
   "metadata": {
    "ExecuteTime": {
     "end_time": "2022-08-22T18:00:34.092644Z",
     "start_time": "2022-08-22T18:00:33.569643Z"
    }
   },
   "outputs": [
    {
     "data": {
      "text/html": [
       "<style>div.sk-top-container {color: black;background-color: white;}div.sk-toggleable {background-color: white;}label.sk-toggleable__label {cursor: pointer;display: block;width: 100%;margin-bottom: 0;padding: 0.2em 0.3em;box-sizing: border-box;text-align: center;}div.sk-toggleable__content {max-height: 0;max-width: 0;overflow: hidden;text-align: left;background-color: #f0f8ff;}div.sk-toggleable__content pre {margin: 0.2em;color: black;border-radius: 0.25em;background-color: #f0f8ff;}input.sk-toggleable__control:checked~div.sk-toggleable__content {max-height: 200px;max-width: 100%;overflow: auto;}div.sk-estimator input.sk-toggleable__control:checked~label.sk-toggleable__label {background-color: #d4ebff;}div.sk-label input.sk-toggleable__control:checked~label.sk-toggleable__label {background-color: #d4ebff;}input.sk-hidden--visually {border: 0;clip: rect(1px 1px 1px 1px);clip: rect(1px, 1px, 1px, 1px);height: 1px;margin: -1px;overflow: hidden;padding: 0;position: absolute;width: 1px;}div.sk-estimator {font-family: monospace;background-color: #f0f8ff;margin: 0.25em 0.25em;border: 1px dotted black;border-radius: 0.25em;box-sizing: border-box;}div.sk-estimator:hover {background-color: #d4ebff;}div.sk-parallel-item::after {content: \"\";width: 100%;border-bottom: 1px solid gray;flex-grow: 1;}div.sk-label:hover label.sk-toggleable__label {background-color: #d4ebff;}div.sk-serial::before {content: \"\";position: absolute;border-left: 1px solid gray;box-sizing: border-box;top: 2em;bottom: 0;left: 50%;}div.sk-serial {display: flex;flex-direction: column;align-items: center;background-color: white;}div.sk-item {z-index: 1;}div.sk-parallel {display: flex;align-items: stretch;justify-content: center;background-color: white;}div.sk-parallel-item {display: flex;flex-direction: column;position: relative;background-color: white;}div.sk-parallel-item:first-child::after {align-self: flex-end;width: 50%;}div.sk-parallel-item:last-child::after {align-self: flex-start;width: 50%;}div.sk-parallel-item:only-child::after {width: 0;}div.sk-dashed-wrapped {border: 1px dashed gray;margin: 0.2em;box-sizing: border-box;padding-bottom: 0.1em;background-color: white;position: relative;}div.sk-label label {font-family: monospace;font-weight: bold;background-color: white;display: inline-block;line-height: 1.2em;}div.sk-label-container {position: relative;z-index: 2;text-align: center;}div.sk-container {display: inline-block;position: relative;}</style><div class=\"sk-top-container\"><div class=\"sk-container\"><div class=\"sk-item sk-dashed-wrapped\"><div class=\"sk-label-container\"><div class=\"sk-label sk-toggleable\"><input class=\"sk-toggleable__control sk-hidden--visually\" id=\"8faa8188-e915-40f3-b21e-c136c5b33d10\" type=\"checkbox\" ><label class=\"sk-toggleable__label\" for=\"8faa8188-e915-40f3-b21e-c136c5b33d10\">StackingClassifier</label><div class=\"sk-toggleable__content\"><pre>StackingClassifier(estimators=[('SVM',\n",
       "                                Pipeline(steps=[('pipeline',\n",
       "                                                 Pipeline(steps=[('data_transformer',\n",
       "                                                                  ColumnTransformer(transformers=[('numerical',\n",
       "                                                                                                   Pipeline(steps=[('imputer',\n",
       "                                                                                                                    SimpleImputer()),\n",
       "                                                                                                                   ('scaler',\n",
       "                                                                                                                    StandardScaler()),\n",
       "                                                                                                                   ('fs',\n",
       "                                                                                                                    SelectKBest(k='all'))]),\n",
       "                                                                                                   ['Age',\n",
       "                                                                                                    'Height',\n",
       "                                                                                                    'Weight',\n",
       "                                                                                                    'Number '\n",
       "                                                                                                    'of '\n",
       "                                                                                                    'friends']),\n",
       "                                                                                                  ('categorical',\n",
       "                                                                                                   Pipeline(steps=[('imputer',\n",
       "                                                                                                                    SimpleImpu...\n",
       "                                                               max_depth=None,\n",
       "                                                               min_child_weight=None,\n",
       "                                                               missing=nan,\n",
       "                                                               monotone_constraints=None,\n",
       "                                                               n_estimators=100,\n",
       "                                                               n_jobs=None,\n",
       "                                                               num_parallel_tree=None,\n",
       "                                                               random_state=None,\n",
       "                                                               reg_alpha=None,\n",
       "                                                               reg_lambda=None,\n",
       "                                                               scale_pos_weight=None,\n",
       "                                                               subsample=None,\n",
       "                                                               tree_method=None,\n",
       "                                                               validate_parameters=None,\n",
       "                                                               verbosity=None))]))],\n",
       "                   final_estimator=LogisticRegression(n_jobs=-1, verbose=True),\n",
       "                   n_jobs=-1, verbose=True)</pre></div></div></div><div class=\"sk-serial\"><div class=\"sk-item\"><div class=\"sk-serial\"><div class=\"sk-item\"><div class=\"sk-parallel\"><div class=\"sk-parallel-item\"><div class=\"sk-item\"><div class=\"sk-label-container\"><div class=\"sk-label sk-toggleable\"><label>SVM</label></div></div><div class=\"sk-serial\"><div class=\"sk-item\"><div class=\"sk-serial\"><div class=\"sk-item\"><div class=\"sk-label-container\"><div class=\"sk-label sk-toggleable\"><input class=\"sk-toggleable__control sk-hidden--visually\" id=\"fa08b818-6a00-4c06-9e4d-1f80e0f25213\" type=\"checkbox\" ><label class=\"sk-toggleable__label\" for=\"fa08b818-6a00-4c06-9e4d-1f80e0f25213\">pipeline: Pipeline</label><div class=\"sk-toggleable__content\"><pre>Pipeline(steps=[('data_transformer',\n",
       "                 ColumnTransformer(transformers=[('numerical',\n",
       "                                                  Pipeline(steps=[('imputer',\n",
       "                                                                   SimpleImputer()),\n",
       "                                                                  ('scaler',\n",
       "                                                                   StandardScaler()),\n",
       "                                                                  ('fs',\n",
       "                                                                   SelectKBest(k='all'))]),\n",
       "                                                  ['Age', 'Height', 'Weight',\n",
       "                                                   'Number of friends']),\n",
       "                                                 ('categorical',\n",
       "                                                  Pipeline(steps=[('imputer',\n",
       "                                                                   SimpleImputer(strategy='most_frequent')),\n",
       "                                                                  ('onehot',\n",
       "                                                                   OneHotEncoder(handle_unknown='ignore'))]),\n",
       "                                                  ['Getting up', 'God',\n",
       "                                                   'Health', 'Borrowed stuff',\n",
       "                                                   'Self-criticism',\n",
       "                                                   'Elections',\n",
       "                                                   'Spending on healthy eating',\n",
       "                                                   'Music', 'Movies',\n",
       "                                                   'Friends versus money',\n",
       "                                                   'Changing the past'])]))])</pre></div></div></div><div class=\"sk-serial\"><div class=\"sk-item sk-dashed-wrapped\"><div class=\"sk-label-container\"><div class=\"sk-label sk-toggleable\"><input class=\"sk-toggleable__control sk-hidden--visually\" id=\"f258a8ec-7029-44fb-9cac-0342993a830a\" type=\"checkbox\" ><label class=\"sk-toggleable__label\" for=\"f258a8ec-7029-44fb-9cac-0342993a830a\">data_transformer: ColumnTransformer</label><div class=\"sk-toggleable__content\"><pre>ColumnTransformer(transformers=[('numerical',\n",
       "                                 Pipeline(steps=[('imputer', SimpleImputer()),\n",
       "                                                 ('scaler', StandardScaler()),\n",
       "                                                 ('fs', SelectKBest(k='all'))]),\n",
       "                                 ['Age', 'Height', 'Weight',\n",
       "                                  'Number of friends']),\n",
       "                                ('categorical',\n",
       "                                 Pipeline(steps=[('imputer',\n",
       "                                                  SimpleImputer(strategy='most_frequent')),\n",
       "                                                 ('onehot',\n",
       "                                                  OneHotEncoder(handle_unknown='ignore'))]),\n",
       "                                 ['Getting up', 'God', 'Health',\n",
       "                                  'Borrowed stuff', 'Self-criticism',\n",
       "                                  'Elections', 'Spending on healthy eating',\n",
       "                                  'Music', 'Movies', 'Friends versus money',\n",
       "                                  'Changing the past'])])</pre></div></div></div><div class=\"sk-parallel\"><div class=\"sk-parallel-item\"><div class=\"sk-item\"><div class=\"sk-label-container\"><div class=\"sk-label sk-toggleable\"><input class=\"sk-toggleable__control sk-hidden--visually\" id=\"bfff7c76-dd08-45da-88b1-4687aa482efd\" type=\"checkbox\" ><label class=\"sk-toggleable__label\" for=\"bfff7c76-dd08-45da-88b1-4687aa482efd\">numerical</label><div class=\"sk-toggleable__content\"><pre>['Age', 'Height', 'Weight', 'Number of friends']</pre></div></div></div><div class=\"sk-serial\"><div class=\"sk-item\"><div class=\"sk-serial\"><div class=\"sk-item\"><div class=\"sk-estimator sk-toggleable\"><input class=\"sk-toggleable__control sk-hidden--visually\" id=\"0134c420-9b77-4468-815c-00c4fa9fdeaf\" type=\"checkbox\" ><label class=\"sk-toggleable__label\" for=\"0134c420-9b77-4468-815c-00c4fa9fdeaf\">SimpleImputer</label><div class=\"sk-toggleable__content\"><pre>SimpleImputer()</pre></div></div></div><div class=\"sk-item\"><div class=\"sk-estimator sk-toggleable\"><input class=\"sk-toggleable__control sk-hidden--visually\" id=\"ddc7b10b-55c2-4125-90ac-19632702764b\" type=\"checkbox\" ><label class=\"sk-toggleable__label\" for=\"ddc7b10b-55c2-4125-90ac-19632702764b\">StandardScaler</label><div class=\"sk-toggleable__content\"><pre>StandardScaler()</pre></div></div></div><div class=\"sk-item\"><div class=\"sk-estimator sk-toggleable\"><input class=\"sk-toggleable__control sk-hidden--visually\" id=\"a0363253-35dc-4689-8196-d9a2c43f956a\" type=\"checkbox\" ><label class=\"sk-toggleable__label\" for=\"a0363253-35dc-4689-8196-d9a2c43f956a\">SelectKBest</label><div class=\"sk-toggleable__content\"><pre>SelectKBest(k='all')</pre></div></div></div></div></div></div></div></div><div class=\"sk-parallel-item\"><div class=\"sk-item\"><div class=\"sk-label-container\"><div class=\"sk-label sk-toggleable\"><input class=\"sk-toggleable__control sk-hidden--visually\" id=\"3e44596b-7bd8-4fc4-8437-8b8bb877ddfc\" type=\"checkbox\" ><label class=\"sk-toggleable__label\" for=\"3e44596b-7bd8-4fc4-8437-8b8bb877ddfc\">categorical</label><div class=\"sk-toggleable__content\"><pre>['Getting up', 'God', 'Health', 'Borrowed stuff', 'Self-criticism', 'Elections', 'Spending on healthy eating', 'Music', 'Movies', 'Friends versus money', 'Changing the past']</pre></div></div></div><div class=\"sk-serial\"><div class=\"sk-item\"><div class=\"sk-serial\"><div class=\"sk-item\"><div class=\"sk-estimator sk-toggleable\"><input class=\"sk-toggleable__control sk-hidden--visually\" id=\"a41576a8-bc3d-4fe2-91c2-7c2b90ad78c4\" type=\"checkbox\" ><label class=\"sk-toggleable__label\" for=\"a41576a8-bc3d-4fe2-91c2-7c2b90ad78c4\">SimpleImputer</label><div class=\"sk-toggleable__content\"><pre>SimpleImputer(strategy='most_frequent')</pre></div></div></div><div class=\"sk-item\"><div class=\"sk-estimator sk-toggleable\"><input class=\"sk-toggleable__control sk-hidden--visually\" id=\"09702e63-52f9-467d-9988-c7d2757e1c45\" type=\"checkbox\" ><label class=\"sk-toggleable__label\" for=\"09702e63-52f9-467d-9988-c7d2757e1c45\">OneHotEncoder</label><div class=\"sk-toggleable__content\"><pre>OneHotEncoder(handle_unknown='ignore')</pre></div></div></div></div></div></div></div></div></div></div></div></div><div class=\"sk-item\"><div class=\"sk-estimator sk-toggleable\"><input class=\"sk-toggleable__control sk-hidden--visually\" id=\"6e5d99fe-12d5-419f-bc15-c7cf86ee1f36\" type=\"checkbox\" ><label class=\"sk-toggleable__label\" for=\"6e5d99fe-12d5-419f-bc15-c7cf86ee1f36\">PCA</label><div class=\"sk-toggleable__content\"><pre>PCA()</pre></div></div></div><div class=\"sk-item\"><div class=\"sk-estimator sk-toggleable\"><input class=\"sk-toggleable__control sk-hidden--visually\" id=\"d5b759e1-c5be-48f3-b102-c54d190b4ee0\" type=\"checkbox\" ><label class=\"sk-toggleable__label\" for=\"d5b759e1-c5be-48f3-b102-c54d190b4ee0\">LinearSVC</label><div class=\"sk-toggleable__content\"><pre>LinearSVC()</pre></div></div></div></div></div></div></div></div><div class=\"sk-parallel-item\"><div class=\"sk-item\"><div class=\"sk-label-container\"><div class=\"sk-label sk-toggleable\"><label>Random_Forest</label></div></div><div class=\"sk-serial\"><div class=\"sk-item\"><div class=\"sk-serial\"><div class=\"sk-item\"><div class=\"sk-label-container\"><div class=\"sk-label sk-toggleable\"><input class=\"sk-toggleable__control sk-hidden--visually\" id=\"7413edd5-a5e7-4d1d-947a-ad68273df9cc\" type=\"checkbox\" ><label class=\"sk-toggleable__label\" for=\"7413edd5-a5e7-4d1d-947a-ad68273df9cc\">pipeline: Pipeline</label><div class=\"sk-toggleable__content\"><pre>Pipeline(steps=[('data_transformer',\n",
       "                 ColumnTransformer(transformers=[('numerical',\n",
       "                                                  Pipeline(steps=[('imputer',\n",
       "                                                                   SimpleImputer()),\n",
       "                                                                  ('scaler',\n",
       "                                                                   StandardScaler()),\n",
       "                                                                  ('fs',\n",
       "                                                                   SelectKBest(k='all'))]),\n",
       "                                                  ['Age', 'Height', 'Weight',\n",
       "                                                   'Number of friends']),\n",
       "                                                 ('categorical',\n",
       "                                                  Pipeline(steps=[('imputer',\n",
       "                                                                   SimpleImputer(strategy='most_frequent')),\n",
       "                                                                  ('onehot',\n",
       "                                                                   OneHotEncoder(handle_unknown='ignore'))]),\n",
       "                                                  ['Getting up', 'God',\n",
       "                                                   'Health', 'Borrowed stuff',\n",
       "                                                   'Self-criticism',\n",
       "                                                   'Elections',\n",
       "                                                   'Spending on healthy eating',\n",
       "                                                   'Music', 'Movies',\n",
       "                                                   'Friends versus money',\n",
       "                                                   'Changing the past'])]))])</pre></div></div></div><div class=\"sk-serial\"><div class=\"sk-item sk-dashed-wrapped\"><div class=\"sk-label-container\"><div class=\"sk-label sk-toggleable\"><input class=\"sk-toggleable__control sk-hidden--visually\" id=\"5d374b06-9d88-4341-89bb-e7bda3c9a16b\" type=\"checkbox\" ><label class=\"sk-toggleable__label\" for=\"5d374b06-9d88-4341-89bb-e7bda3c9a16b\">data_transformer: ColumnTransformer</label><div class=\"sk-toggleable__content\"><pre>ColumnTransformer(transformers=[('numerical',\n",
       "                                 Pipeline(steps=[('imputer', SimpleImputer()),\n",
       "                                                 ('scaler', StandardScaler()),\n",
       "                                                 ('fs', SelectKBest(k='all'))]),\n",
       "                                 ['Age', 'Height', 'Weight',\n",
       "                                  'Number of friends']),\n",
       "                                ('categorical',\n",
       "                                 Pipeline(steps=[('imputer',\n",
       "                                                  SimpleImputer(strategy='most_frequent')),\n",
       "                                                 ('onehot',\n",
       "                                                  OneHotEncoder(handle_unknown='ignore'))]),\n",
       "                                 ['Getting up', 'God', 'Health',\n",
       "                                  'Borrowed stuff', 'Self-criticism',\n",
       "                                  'Elections', 'Spending on healthy eating',\n",
       "                                  'Music', 'Movies', 'Friends versus money',\n",
       "                                  'Changing the past'])])</pre></div></div></div><div class=\"sk-parallel\"><div class=\"sk-parallel-item\"><div class=\"sk-item\"><div class=\"sk-label-container\"><div class=\"sk-label sk-toggleable\"><input class=\"sk-toggleable__control sk-hidden--visually\" id=\"82c6c140-c84a-477d-98bb-fca6c433c94e\" type=\"checkbox\" ><label class=\"sk-toggleable__label\" for=\"82c6c140-c84a-477d-98bb-fca6c433c94e\">numerical</label><div class=\"sk-toggleable__content\"><pre>['Age', 'Height', 'Weight', 'Number of friends']</pre></div></div></div><div class=\"sk-serial\"><div class=\"sk-item\"><div class=\"sk-serial\"><div class=\"sk-item\"><div class=\"sk-estimator sk-toggleable\"><input class=\"sk-toggleable__control sk-hidden--visually\" id=\"1976734b-41f7-4c3a-b567-f66e8fc53d5d\" type=\"checkbox\" ><label class=\"sk-toggleable__label\" for=\"1976734b-41f7-4c3a-b567-f66e8fc53d5d\">SimpleImputer</label><div class=\"sk-toggleable__content\"><pre>SimpleImputer()</pre></div></div></div><div class=\"sk-item\"><div class=\"sk-estimator sk-toggleable\"><input class=\"sk-toggleable__control sk-hidden--visually\" id=\"8e6a2a9a-ff35-479b-b927-21a292295498\" type=\"checkbox\" ><label class=\"sk-toggleable__label\" for=\"8e6a2a9a-ff35-479b-b927-21a292295498\">StandardScaler</label><div class=\"sk-toggleable__content\"><pre>StandardScaler()</pre></div></div></div><div class=\"sk-item\"><div class=\"sk-estimator sk-toggleable\"><input class=\"sk-toggleable__control sk-hidden--visually\" id=\"7dcd1467-c671-4ae9-baf0-2f57d8518632\" type=\"checkbox\" ><label class=\"sk-toggleable__label\" for=\"7dcd1467-c671-4ae9-baf0-2f57d8518632\">SelectKBest</label><div class=\"sk-toggleable__content\"><pre>SelectKBest(k='all')</pre></div></div></div></div></div></div></div></div><div class=\"sk-parallel-item\"><div class=\"sk-item\"><div class=\"sk-label-container\"><div class=\"sk-label sk-toggleable\"><input class=\"sk-toggleable__control sk-hidden--visually\" id=\"dc1f801a-0183-41e9-a99a-2e4a73b96d17\" type=\"checkbox\" ><label class=\"sk-toggleable__label\" for=\"dc1f801a-0183-41e9-a99a-2e4a73b96d17\">categorical</label><div class=\"sk-toggleable__content\"><pre>['Getting up', 'God', 'Health', 'Borrowed stuff', 'Self-criticism', 'Elections', 'Spending on healthy eating', 'Music', 'Movies', 'Friends versus money', 'Changing the past']</pre></div></div></div><div class=\"sk-serial\"><div class=\"sk-item\"><div class=\"sk-serial\"><div class=\"sk-item\"><div class=\"sk-estimator sk-toggleable\"><input class=\"sk-toggleable__control sk-hidden--visually\" id=\"d8d752e3-e13e-4cb2-9c6f-1939b986fd67\" type=\"checkbox\" ><label class=\"sk-toggleable__label\" for=\"d8d752e3-e13e-4cb2-9c6f-1939b986fd67\">SimpleImputer</label><div class=\"sk-toggleable__content\"><pre>SimpleImputer(strategy='most_frequent')</pre></div></div></div><div class=\"sk-item\"><div class=\"sk-estimator sk-toggleable\"><input class=\"sk-toggleable__control sk-hidden--visually\" id=\"a5771ce9-08c3-4373-8757-10cd78a38b7a\" type=\"checkbox\" ><label class=\"sk-toggleable__label\" for=\"a5771ce9-08c3-4373-8757-10cd78a38b7a\">OneHotEncoder</label><div class=\"sk-toggleable__content\"><pre>OneHotEncoder(handle_unknown='ignore')</pre></div></div></div></div></div></div></div></div></div></div></div></div><div class=\"sk-item\"><div class=\"sk-estimator sk-toggleable\"><input class=\"sk-toggleable__control sk-hidden--visually\" id=\"11398306-7188-45ca-ac5d-bbf88bd6a14b\" type=\"checkbox\" ><label class=\"sk-toggleable__label\" for=\"11398306-7188-45ca-ac5d-bbf88bd6a14b\">RandomForestClassifier</label><div class=\"sk-toggleable__content\"><pre>RandomForestClassifier()</pre></div></div></div></div></div></div></div></div><div class=\"sk-parallel-item\"><div class=\"sk-item\"><div class=\"sk-label-container\"><div class=\"sk-label sk-toggleable\"><label>Xgboost</label></div></div><div class=\"sk-serial\"><div class=\"sk-item\"><div class=\"sk-serial\"><div class=\"sk-item\"><div class=\"sk-label-container\"><div class=\"sk-label sk-toggleable\"><input class=\"sk-toggleable__control sk-hidden--visually\" id=\"0ce95048-6c35-46e5-92cd-9412bd02a2a4\" type=\"checkbox\" ><label class=\"sk-toggleable__label\" for=\"0ce95048-6c35-46e5-92cd-9412bd02a2a4\">pipeline: Pipeline</label><div class=\"sk-toggleable__content\"><pre>Pipeline(steps=[('data_transformer',\n",
       "                 ColumnTransformer(transformers=[('numerical',\n",
       "                                                  Pipeline(steps=[('imputer',\n",
       "                                                                   SimpleImputer()),\n",
       "                                                                  ('scaler',\n",
       "                                                                   StandardScaler()),\n",
       "                                                                  ('fs',\n",
       "                                                                   SelectKBest(k='all'))]),\n",
       "                                                  ['Age', 'Height', 'Weight',\n",
       "                                                   'Number of friends']),\n",
       "                                                 ('categorical',\n",
       "                                                  Pipeline(steps=[('imputer',\n",
       "                                                                   SimpleImputer(strategy='most_frequent')),\n",
       "                                                                  ('onehot',\n",
       "                                                                   OneHotEncoder(handle_unknown='ignore'))]),\n",
       "                                                  ['Getting up', 'God',\n",
       "                                                   'Health', 'Borrowed stuff',\n",
       "                                                   'Self-criticism',\n",
       "                                                   'Elections',\n",
       "                                                   'Spending on healthy eating',\n",
       "                                                   'Music', 'Movies',\n",
       "                                                   'Friends versus money',\n",
       "                                                   'Changing the past'])]))])</pre></div></div></div><div class=\"sk-serial\"><div class=\"sk-item sk-dashed-wrapped\"><div class=\"sk-label-container\"><div class=\"sk-label sk-toggleable\"><input class=\"sk-toggleable__control sk-hidden--visually\" id=\"372ab0e0-20ac-47b0-8662-285a4acf07e2\" type=\"checkbox\" ><label class=\"sk-toggleable__label\" for=\"372ab0e0-20ac-47b0-8662-285a4acf07e2\">data_transformer: ColumnTransformer</label><div class=\"sk-toggleable__content\"><pre>ColumnTransformer(transformers=[('numerical',\n",
       "                                 Pipeline(steps=[('imputer', SimpleImputer()),\n",
       "                                                 ('scaler', StandardScaler()),\n",
       "                                                 ('fs', SelectKBest(k='all'))]),\n",
       "                                 ['Age', 'Height', 'Weight',\n",
       "                                  'Number of friends']),\n",
       "                                ('categorical',\n",
       "                                 Pipeline(steps=[('imputer',\n",
       "                                                  SimpleImputer(strategy='most_frequent')),\n",
       "                                                 ('onehot',\n",
       "                                                  OneHotEncoder(handle_unknown='ignore'))]),\n",
       "                                 ['Getting up', 'God', 'Health',\n",
       "                                  'Borrowed stuff', 'Self-criticism',\n",
       "                                  'Elections', 'Spending on healthy eating',\n",
       "                                  'Music', 'Movies', 'Friends versus money',\n",
       "                                  'Changing the past'])])</pre></div></div></div><div class=\"sk-parallel\"><div class=\"sk-parallel-item\"><div class=\"sk-item\"><div class=\"sk-label-container\"><div class=\"sk-label sk-toggleable\"><input class=\"sk-toggleable__control sk-hidden--visually\" id=\"1e4a7602-9258-4645-ac12-915d17bdd59a\" type=\"checkbox\" ><label class=\"sk-toggleable__label\" for=\"1e4a7602-9258-4645-ac12-915d17bdd59a\">numerical</label><div class=\"sk-toggleable__content\"><pre>['Age', 'Height', 'Weight', 'Number of friends']</pre></div></div></div><div class=\"sk-serial\"><div class=\"sk-item\"><div class=\"sk-serial\"><div class=\"sk-item\"><div class=\"sk-estimator sk-toggleable\"><input class=\"sk-toggleable__control sk-hidden--visually\" id=\"ade9c1a5-0790-4333-92d7-3f35aa697c9e\" type=\"checkbox\" ><label class=\"sk-toggleable__label\" for=\"ade9c1a5-0790-4333-92d7-3f35aa697c9e\">SimpleImputer</label><div class=\"sk-toggleable__content\"><pre>SimpleImputer()</pre></div></div></div><div class=\"sk-item\"><div class=\"sk-estimator sk-toggleable\"><input class=\"sk-toggleable__control sk-hidden--visually\" id=\"d26252a5-8b55-4d60-b538-963ebaca172a\" type=\"checkbox\" ><label class=\"sk-toggleable__label\" for=\"d26252a5-8b55-4d60-b538-963ebaca172a\">StandardScaler</label><div class=\"sk-toggleable__content\"><pre>StandardScaler()</pre></div></div></div><div class=\"sk-item\"><div class=\"sk-estimator sk-toggleable\"><input class=\"sk-toggleable__control sk-hidden--visually\" id=\"a1eeb429-06c7-48d5-a4f8-a5f926565fab\" type=\"checkbox\" ><label class=\"sk-toggleable__label\" for=\"a1eeb429-06c7-48d5-a4f8-a5f926565fab\">SelectKBest</label><div class=\"sk-toggleable__content\"><pre>SelectKBest(k='all')</pre></div></div></div></div></div></div></div></div><div class=\"sk-parallel-item\"><div class=\"sk-item\"><div class=\"sk-label-container\"><div class=\"sk-label sk-toggleable\"><input class=\"sk-toggleable__control sk-hidden--visually\" id=\"f4e86830-ca64-43b2-a7d8-ec3e2d7736c0\" type=\"checkbox\" ><label class=\"sk-toggleable__label\" for=\"f4e86830-ca64-43b2-a7d8-ec3e2d7736c0\">categorical</label><div class=\"sk-toggleable__content\"><pre>['Getting up', 'God', 'Health', 'Borrowed stuff', 'Self-criticism', 'Elections', 'Spending on healthy eating', 'Music', 'Movies', 'Friends versus money', 'Changing the past']</pre></div></div></div><div class=\"sk-serial\"><div class=\"sk-item\"><div class=\"sk-serial\"><div class=\"sk-item\"><div class=\"sk-estimator sk-toggleable\"><input class=\"sk-toggleable__control sk-hidden--visually\" id=\"c941fd7a-7715-407f-a501-89dcd38f7cf0\" type=\"checkbox\" ><label class=\"sk-toggleable__label\" for=\"c941fd7a-7715-407f-a501-89dcd38f7cf0\">SimpleImputer</label><div class=\"sk-toggleable__content\"><pre>SimpleImputer(strategy='most_frequent')</pre></div></div></div><div class=\"sk-item\"><div class=\"sk-estimator sk-toggleable\"><input class=\"sk-toggleable__control sk-hidden--visually\" id=\"489139df-3631-49f1-b894-35219b9dc7c1\" type=\"checkbox\" ><label class=\"sk-toggleable__label\" for=\"489139df-3631-49f1-b894-35219b9dc7c1\">OneHotEncoder</label><div class=\"sk-toggleable__content\"><pre>OneHotEncoder(handle_unknown='ignore')</pre></div></div></div></div></div></div></div></div></div></div></div></div><div class=\"sk-item\"><div class=\"sk-estimator sk-toggleable\"><input class=\"sk-toggleable__control sk-hidden--visually\" id=\"3fdb10e2-e6b8-400d-aac6-e292667a2ea7\" type=\"checkbox\" ><label class=\"sk-toggleable__label\" for=\"3fdb10e2-e6b8-400d-aac6-e292667a2ea7\">XGBClassifier</label><div class=\"sk-toggleable__content\"><pre>XGBClassifier(base_score=None, booster=None, colsample_bylevel=None,\n",
       "              colsample_bynode=None, colsample_bytree=None, gamma=None,\n",
       "              gpu_id=None, importance_type='gain', interaction_constraints=None,\n",
       "              learning_rate=None, max_delta_step=None, max_depth=None,\n",
       "              min_child_weight=None, missing=nan, monotone_constraints=None,\n",
       "              n_estimators=100, n_jobs=None, num_parallel_tree=None,\n",
       "              random_state=None, reg_alpha=None, reg_lambda=None,\n",
       "              scale_pos_weight=None, subsample=None, tree_method=None,\n",
       "              validate_parameters=None, verbosity=None)</pre></div></div></div></div></div></div></div></div></div></div><div class=\"sk-item\"><div class=\"sk-estimator sk-toggleable\"><input class=\"sk-toggleable__control sk-hidden--visually\" id=\"a6523f08-5430-4551-b4b4-eed644b95308\" type=\"checkbox\" ><label class=\"sk-toggleable__label\" for=\"a6523f08-5430-4551-b4b4-eed644b95308\">LogisticRegression</label><div class=\"sk-toggleable__content\"><pre>LogisticRegression(n_jobs=-1, verbose=True)</pre></div></div></div></div></div></div></div></div></div>"
      ],
      "text/plain": [
       "StackingClassifier(estimators=[('SVM',\n",
       "                                Pipeline(steps=[('pipeline',\n",
       "                                                 Pipeline(steps=[('data_transformer',\n",
       "                                                                  ColumnTransformer(transformers=[('numerical',\n",
       "                                                                                                   Pipeline(steps=[('imputer',\n",
       "                                                                                                                    SimpleImputer()),\n",
       "                                                                                                                   ('scaler',\n",
       "                                                                                                                    StandardScaler()),\n",
       "                                                                                                                   ('fs',\n",
       "                                                                                                                    SelectKBest(k='all'))]),\n",
       "                                                                                                   ['Age',\n",
       "                                                                                                    'Height',\n",
       "                                                                                                    'Weight',\n",
       "                                                                                                    'Number '\n",
       "                                                                                                    'of '\n",
       "                                                                                                    'friends']),\n",
       "                                                                                                  ('categorical',\n",
       "                                                                                                   Pipeline(steps=[('imputer',\n",
       "                                                                                                                    SimpleImpu...\n",
       "                                                               max_depth=None,\n",
       "                                                               min_child_weight=None,\n",
       "                                                               missing=nan,\n",
       "                                                               monotone_constraints=None,\n",
       "                                                               n_estimators=100,\n",
       "                                                               n_jobs=None,\n",
       "                                                               num_parallel_tree=None,\n",
       "                                                               random_state=None,\n",
       "                                                               reg_alpha=None,\n",
       "                                                               reg_lambda=None,\n",
       "                                                               scale_pos_weight=None,\n",
       "                                                               subsample=None,\n",
       "                                                               tree_method=None,\n",
       "                                                               validate_parameters=None,\n",
       "                                                               verbosity=None))]))],\n",
       "                   final_estimator=LogisticRegression(n_jobs=-1, verbose=True),\n",
       "                   n_jobs=-1, verbose=True)"
      ]
     },
     "execution_count": 113,
     "metadata": {},
     "output_type": "execute_result"
    }
   ],
   "source": [
    "stacking_classifier"
   ]
  },
  {
   "cell_type": "code",
   "execution_count": null,
   "metadata": {},
   "outputs": [],
   "source": [
    " "
   ]
  },
  {
   "cell_type": "code",
   "execution_count": 114,
   "metadata": {
    "ExecuteTime": {
     "end_time": "2022-08-22T16:31:47.590873Z",
     "start_time": "2022-08-22T16:31:47.514872Z"
    }
   },
   "outputs": [
    {
     "data": {
      "text/html": [
       "<style>div.sk-top-container {color: black;background-color: white;}div.sk-toggleable {background-color: white;}label.sk-toggleable__label {cursor: pointer;display: block;width: 100%;margin-bottom: 0;padding: 0.2em 0.3em;box-sizing: border-box;text-align: center;}div.sk-toggleable__content {max-height: 0;max-width: 0;overflow: hidden;text-align: left;background-color: #f0f8ff;}div.sk-toggleable__content pre {margin: 0.2em;color: black;border-radius: 0.25em;background-color: #f0f8ff;}input.sk-toggleable__control:checked~div.sk-toggleable__content {max-height: 200px;max-width: 100%;overflow: auto;}div.sk-estimator input.sk-toggleable__control:checked~label.sk-toggleable__label {background-color: #d4ebff;}div.sk-label input.sk-toggleable__control:checked~label.sk-toggleable__label {background-color: #d4ebff;}input.sk-hidden--visually {border: 0;clip: rect(1px 1px 1px 1px);clip: rect(1px, 1px, 1px, 1px);height: 1px;margin: -1px;overflow: hidden;padding: 0;position: absolute;width: 1px;}div.sk-estimator {font-family: monospace;background-color: #f0f8ff;margin: 0.25em 0.25em;border: 1px dotted black;border-radius: 0.25em;box-sizing: border-box;}div.sk-estimator:hover {background-color: #d4ebff;}div.sk-parallel-item::after {content: \"\";width: 100%;border-bottom: 1px solid gray;flex-grow: 1;}div.sk-label:hover label.sk-toggleable__label {background-color: #d4ebff;}div.sk-serial::before {content: \"\";position: absolute;border-left: 1px solid gray;box-sizing: border-box;top: 2em;bottom: 0;left: 50%;}div.sk-serial {display: flex;flex-direction: column;align-items: center;background-color: white;}div.sk-item {z-index: 1;}div.sk-parallel {display: flex;align-items: stretch;justify-content: center;background-color: white;}div.sk-parallel-item {display: flex;flex-direction: column;position: relative;background-color: white;}div.sk-parallel-item:first-child::after {align-self: flex-end;width: 50%;}div.sk-parallel-item:last-child::after {align-self: flex-start;width: 50%;}div.sk-parallel-item:only-child::after {width: 0;}div.sk-dashed-wrapped {border: 1px dashed gray;margin: 0.2em;box-sizing: border-box;padding-bottom: 0.1em;background-color: white;position: relative;}div.sk-label label {font-family: monospace;font-weight: bold;background-color: white;display: inline-block;line-height: 1.2em;}div.sk-label-container {position: relative;z-index: 2;text-align: center;}div.sk-container {display: inline-block;position: relative;}</style><div class=\"sk-top-container\"><div class=\"sk-container\"><div class=\"sk-item sk-dashed-wrapped\"><div class=\"sk-label-container\"><div class=\"sk-label sk-toggleable\"><input class=\"sk-toggleable__control sk-hidden--visually\" id=\"f370f530-7dce-41ff-b156-983c4cfe0204\" type=\"checkbox\" ><label class=\"sk-toggleable__label\" for=\"f370f530-7dce-41ff-b156-983c4cfe0204\">Pipeline</label><div class=\"sk-toggleable__content\"><pre>Pipeline(steps=[('data_transformer',\n",
       "                 ColumnTransformer(transformers=[('numerical',\n",
       "                                                  Pipeline(steps=[('imputer',\n",
       "                                                                   SimpleImputer()),\n",
       "                                                                  ('scaler',\n",
       "                                                                   StandardScaler()),\n",
       "                                                                  ('fs',\n",
       "                                                                   SelectKBest(k='all'))]),\n",
       "                                                  ['Age', 'Height', 'Weight',\n",
       "                                                   'Number of friends']),\n",
       "                                                 ('categorical',\n",
       "                                                  Pipeline(steps=[('imputer',\n",
       "                                                                   SimpleImputer(strategy='most_frequent')),\n",
       "                                                                  ('onehot',\n",
       "                                                                   OneHotEncoder(handle_unknown='ignore'))]),\n",
       "                                                  ['Getting up', 'God',\n",
       "                                                   'Health', 'Borrowed stuff',\n",
       "                                                   'Self-criticism',\n",
       "                                                   'Elections',\n",
       "                                                   'Spending on healthy eating',\n",
       "                                                   'Music', 'Movies',\n",
       "                                                   'Friends versus money',\n",
       "                                                   'Changing the past'])]))])</pre></div></div></div><div class=\"sk-serial\"><div class=\"sk-item sk-dashed-wrapped\"><div class=\"sk-label-container\"><div class=\"sk-label sk-toggleable\"><input class=\"sk-toggleable__control sk-hidden--visually\" id=\"66c660ba-9989-4ddd-846a-a0b54a1fe100\" type=\"checkbox\" ><label class=\"sk-toggleable__label\" for=\"66c660ba-9989-4ddd-846a-a0b54a1fe100\">data_transformer: ColumnTransformer</label><div class=\"sk-toggleable__content\"><pre>ColumnTransformer(transformers=[('numerical',\n",
       "                                 Pipeline(steps=[('imputer', SimpleImputer()),\n",
       "                                                 ('scaler', StandardScaler()),\n",
       "                                                 ('fs', SelectKBest(k='all'))]),\n",
       "                                 ['Age', 'Height', 'Weight',\n",
       "                                  'Number of friends']),\n",
       "                                ('categorical',\n",
       "                                 Pipeline(steps=[('imputer',\n",
       "                                                  SimpleImputer(strategy='most_frequent')),\n",
       "                                                 ('onehot',\n",
       "                                                  OneHotEncoder(handle_unknown='ignore'))]),\n",
       "                                 ['Getting up', 'God', 'Health',\n",
       "                                  'Borrowed stuff', 'Self-criticism',\n",
       "                                  'Elections', 'Spending on healthy eating',\n",
       "                                  'Music', 'Movies', 'Friends versus money',\n",
       "                                  'Changing the past'])])</pre></div></div></div><div class=\"sk-parallel\"><div class=\"sk-parallel-item\"><div class=\"sk-item\"><div class=\"sk-label-container\"><div class=\"sk-label sk-toggleable\"><input class=\"sk-toggleable__control sk-hidden--visually\" id=\"699a0659-5bc6-46d5-bff2-b74ec36874aa\" type=\"checkbox\" ><label class=\"sk-toggleable__label\" for=\"699a0659-5bc6-46d5-bff2-b74ec36874aa\">numerical</label><div class=\"sk-toggleable__content\"><pre>['Age', 'Height', 'Weight', 'Number of friends']</pre></div></div></div><div class=\"sk-serial\"><div class=\"sk-item\"><div class=\"sk-serial\"><div class=\"sk-item\"><div class=\"sk-estimator sk-toggleable\"><input class=\"sk-toggleable__control sk-hidden--visually\" id=\"ec375779-6370-4f7a-be74-ce48a13a03dc\" type=\"checkbox\" ><label class=\"sk-toggleable__label\" for=\"ec375779-6370-4f7a-be74-ce48a13a03dc\">SimpleImputer</label><div class=\"sk-toggleable__content\"><pre>SimpleImputer()</pre></div></div></div><div class=\"sk-item\"><div class=\"sk-estimator sk-toggleable\"><input class=\"sk-toggleable__control sk-hidden--visually\" id=\"9fd05fd2-0c2c-4594-8f77-d33556f842c7\" type=\"checkbox\" ><label class=\"sk-toggleable__label\" for=\"9fd05fd2-0c2c-4594-8f77-d33556f842c7\">StandardScaler</label><div class=\"sk-toggleable__content\"><pre>StandardScaler()</pre></div></div></div><div class=\"sk-item\"><div class=\"sk-estimator sk-toggleable\"><input class=\"sk-toggleable__control sk-hidden--visually\" id=\"a6ac2f5c-93b0-4d68-937f-b18e516bf258\" type=\"checkbox\" ><label class=\"sk-toggleable__label\" for=\"a6ac2f5c-93b0-4d68-937f-b18e516bf258\">SelectKBest</label><div class=\"sk-toggleable__content\"><pre>SelectKBest(k='all')</pre></div></div></div></div></div></div></div></div><div class=\"sk-parallel-item\"><div class=\"sk-item\"><div class=\"sk-label-container\"><div class=\"sk-label sk-toggleable\"><input class=\"sk-toggleable__control sk-hidden--visually\" id=\"2f99283b-13cd-4090-96a7-54c2e6ff16fc\" type=\"checkbox\" ><label class=\"sk-toggleable__label\" for=\"2f99283b-13cd-4090-96a7-54c2e6ff16fc\">categorical</label><div class=\"sk-toggleable__content\"><pre>['Getting up', 'God', 'Health', 'Borrowed stuff', 'Self-criticism', 'Elections', 'Spending on healthy eating', 'Music', 'Movies', 'Friends versus money', 'Changing the past']</pre></div></div></div><div class=\"sk-serial\"><div class=\"sk-item\"><div class=\"sk-serial\"><div class=\"sk-item\"><div class=\"sk-estimator sk-toggleable\"><input class=\"sk-toggleable__control sk-hidden--visually\" id=\"e4b4c2b4-36d3-4e29-ae4d-b81addbc9322\" type=\"checkbox\" ><label class=\"sk-toggleable__label\" for=\"e4b4c2b4-36d3-4e29-ae4d-b81addbc9322\">SimpleImputer</label><div class=\"sk-toggleable__content\"><pre>SimpleImputer(strategy='most_frequent')</pre></div></div></div><div class=\"sk-item\"><div class=\"sk-estimator sk-toggleable\"><input class=\"sk-toggleable__control sk-hidden--visually\" id=\"4ba977ae-37eb-49a8-935d-1f501494f376\" type=\"checkbox\" ><label class=\"sk-toggleable__label\" for=\"4ba977ae-37eb-49a8-935d-1f501494f376\">OneHotEncoder</label><div class=\"sk-toggleable__content\"><pre>OneHotEncoder(handle_unknown='ignore')</pre></div></div></div></div></div></div></div></div></div></div></div></div></div></div>"
      ],
      "text/plain": [
       "Pipeline(steps=[('data_transformer',\n",
       "                 ColumnTransformer(transformers=[('numerical',\n",
       "                                                  Pipeline(steps=[('imputer',\n",
       "                                                                   SimpleImputer()),\n",
       "                                                                  ('scaler',\n",
       "                                                                   StandardScaler()),\n",
       "                                                                  ('fs',\n",
       "                                                                   SelectKBest(k='all'))]),\n",
       "                                                  ['Age', 'Height', 'Weight',\n",
       "                                                   'Number of friends']),\n",
       "                                                 ('categorical',\n",
       "                                                  Pipeline(steps=[('imputer',\n",
       "                                                                   SimpleImputer(strategy='most_frequent')),\n",
       "                                                                  ('onehot',\n",
       "                                                                   OneHotEncoder(handle_unknown='ignore'))]),\n",
       "                                                  ['Getting up', 'God',\n",
       "                                                   'Health', 'Borrowed stuff',\n",
       "                                                   'Self-criticism',\n",
       "                                                   'Elections',\n",
       "                                                   'Spending on healthy eating',\n",
       "                                                   'Music', 'Movies',\n",
       "                                                   'Friends versus money',\n",
       "                                                   'Changing the past'])]))])"
      ]
     },
     "execution_count": 114,
     "metadata": {},
     "output_type": "execute_result"
    }
   ],
   "source": [
    "preprocessor"
   ]
  },
  {
   "cell_type": "code",
   "execution_count": 66,
   "metadata": {
    "ExecuteTime": {
     "end_time": "2022-08-22T16:31:47.606907Z",
     "start_time": "2022-08-22T16:31:47.592872Z"
    }
   },
   "outputs": [],
   "source": [
    "# preprocessor.fit_transform(data[interesting_features], data[target])"
   ]
  },
  {
   "cell_type": "code",
   "execution_count": null,
   "metadata": {},
   "outputs": [],
   "source": []
  },
  {
   "cell_type": "code",
   "execution_count": 67,
   "metadata": {
    "ExecuteTime": {
     "end_time": "2022-08-22T16:31:48.295439Z",
     "start_time": "2022-08-22T16:31:47.608888Z"
    }
   },
   "outputs": [
    {
     "data": {
      "text/plain": [
       "StackingClassifier(estimators=[('SVM',\n",
       "                                Pipeline(steps=[('columntransformer',\n",
       "                                                 ColumnTransformer(transformers=[('numerical',\n",
       "                                                                                  Pipeline(steps=[('imputer',\n",
       "                                                                                                   SimpleImputer()),\n",
       "                                                                                                  ('scaler',\n",
       "                                                                                                   StandardScaler()),\n",
       "                                                                                                  ('feature_selector',\n",
       "                                                                                                   SelectKBest(k='all'))]),\n",
       "                                                                                  ['Age',\n",
       "                                                                                   'Height',\n",
       "                                                                                   'Weight',\n",
       "                                                                                   'Number '\n",
       "                                                                                   'of '\n",
       "                                                                                   'friends']),\n",
       "                                                                                 ('categorical',\n",
       "                                                                                  Pipeline(steps=[('imputer',\n",
       "                                                                                                   SimpleImputer()),\n",
       "                                                                                                  ('oneh...\n",
       "                                                               max_depth=None,\n",
       "                                                               min_child_weight=None,\n",
       "                                                               missing=nan,\n",
       "                                                               monotone_constraints=None,\n",
       "                                                               n_estimators=100,\n",
       "                                                               n_jobs=-1,\n",
       "                                                               num_parallel_tree=None,\n",
       "                                                               random_state=None,\n",
       "                                                               reg_alpha=None,\n",
       "                                                               reg_lambda=None,\n",
       "                                                               scale_pos_weight=None,\n",
       "                                                               subsample=None,\n",
       "                                                               tree_method=None,\n",
       "                                                               validate_parameters=None,\n",
       "                                                               verbosity=None))]))],\n",
       "                   final_estimator=LogisticRegression(n_jobs=-1, verbose=True),\n",
       "                   n_jobs=-1, verbose=True)"
      ]
     },
     "execution_count": 67,
     "metadata": {},
     "output_type": "execute_result"
    }
   ],
   "source": [
    "stacking_classifier"
   ]
  },
  {
   "cell_type": "markdown",
   "metadata": {},
   "source": [
    "# Обучении махины - Будет ли легко?"
   ]
  },
  {
   "cell_type": "code",
   "execution_count": 68,
   "metadata": {
    "ExecuteTime": {
     "end_time": "2022-08-22T17:37:44.894745Z",
     "start_time": "2022-08-22T17:37:23.963713Z"
    }
   },
   "outputs": [
    {
     "name": "stderr",
     "output_type": "stream",
     "text": [
      "[Parallel(n_jobs=-1)]: Using backend LokyBackend with 12 concurrent workers.\n",
      "[Parallel(n_jobs=-1)]: Done   1 out of   1 | elapsed:    0.0s finished\n"
     ]
    },
    {
     "data": {
      "text/plain": [
       "StackingClassifier(estimators=[('SVM',\n",
       "                                Pipeline(steps=[('columntransformer',\n",
       "                                                 ColumnTransformer(transformers=[('numerical',\n",
       "                                                                                  Pipeline(steps=[('imputer',\n",
       "                                                                                                   SimpleImputer()),\n",
       "                                                                                                  ('scaler',\n",
       "                                                                                                   StandardScaler()),\n",
       "                                                                                                  ('feature_selector',\n",
       "                                                                                                   SelectKBest(k='all'))]),\n",
       "                                                                                  ['Age',\n",
       "                                                                                   'Height',\n",
       "                                                                                   'Weight',\n",
       "                                                                                   'Number '\n",
       "                                                                                   'of '\n",
       "                                                                                   'friends']),\n",
       "                                                                                 ('categorical',\n",
       "                                                                                  Pipeline(steps=[('imputer',\n",
       "                                                                                                   SimpleImputer()),\n",
       "                                                                                                  ('oneh...\n",
       "                                                               max_depth=None,\n",
       "                                                               min_child_weight=None,\n",
       "                                                               missing=nan,\n",
       "                                                               monotone_constraints=None,\n",
       "                                                               n_estimators=100,\n",
       "                                                               n_jobs=-1,\n",
       "                                                               num_parallel_tree=None,\n",
       "                                                               random_state=None,\n",
       "                                                               reg_alpha=None,\n",
       "                                                               reg_lambda=None,\n",
       "                                                               scale_pos_weight=None,\n",
       "                                                               subsample=None,\n",
       "                                                               tree_method=None,\n",
       "                                                               validate_parameters=None,\n",
       "                                                               verbosity=None))]))],\n",
       "                   final_estimator=LogisticRegression(n_jobs=-1, verbose=True),\n",
       "                   n_jobs=-1, verbose=True)"
      ]
     },
     "execution_count": 68,
     "metadata": {},
     "output_type": "execute_result"
    }
   ],
   "source": [
    "stacking_classifier.fit(data[interesting_features], data[target])"
   ]
  },
  {
   "cell_type": "code",
   "execution_count": 69,
   "metadata": {
    "ExecuteTime": {
     "end_time": "2022-08-22T16:31:51.701663Z",
     "start_time": "2022-08-22T16:31:51.685905Z"
    }
   },
   "outputs": [],
   "source": [
    "# param_grid = {\n",
    "# #     'estimators__Random_Forest__max_depth': range(5, 7)\n",
    "#      'preprocessor__data_transformer__numerical__imputer__strategy':['median', 'mean']\n",
    "# }\n",
    "\n",
    "# search = GridSearchCV(stacking_classifier,\n",
    "#                       param_grid, \n",
    "#                       verbose=True, \n",
    "#                       n_jobs=-1,\n",
    "#                       cv=3,\n",
    "#                       scoring=f1)\n",
    "\n",
    "# search.fit(data_train.drop(target, axis=1), data_train[target])"
   ]
  },
  {
   "cell_type": "code",
   "execution_count": 70,
   "metadata": {
    "ExecuteTime": {
     "end_time": "2022-08-22T17:37:56.010998Z",
     "start_time": "2022-08-22T17:37:55.884997Z"
    }
   },
   "outputs": [
    {
     "name": "stdout",
     "output_type": "stream",
     "text": [
      "              precision    recall  f1-score   support\n",
      "\n",
      "          -1       0.90      0.90      0.90       324\n",
      "           0       0.95      1.00      0.97       467\n",
      "           1       0.92      0.78      0.84       134\n",
      "\n",
      "    accuracy                           0.93       925\n",
      "   macro avg       0.93      0.89      0.91       925\n",
      "weighted avg       0.93      0.93      0.93       925\n",
      "\n"
     ]
    }
   ],
   "source": [
    "preds = stacking_classifier.predict(data[interesting_features])\n",
    "\n",
    "print(classification_report(data[target], preds))"
   ]
  },
  {
   "cell_type": "code",
   "execution_count": null,
   "metadata": {},
   "outputs": [],
   "source": []
  },
  {
   "cell_type": "markdown",
   "metadata": {},
   "source": [
    "# Гибкость паплайна"
   ]
  },
  {
   "cell_type": "code",
   "execution_count": 116,
   "metadata": {
    "ExecuteTime": {
     "end_time": "2022-08-22T17:39:28.180992Z",
     "start_time": "2022-08-22T17:39:28.178991Z"
    }
   },
   "outputs": [
    {
     "data": {
      "text/html": [
       "<style>div.sk-top-container {color: black;background-color: white;}div.sk-toggleable {background-color: white;}label.sk-toggleable__label {cursor: pointer;display: block;width: 100%;margin-bottom: 0;padding: 0.2em 0.3em;box-sizing: border-box;text-align: center;}div.sk-toggleable__content {max-height: 0;max-width: 0;overflow: hidden;text-align: left;background-color: #f0f8ff;}div.sk-toggleable__content pre {margin: 0.2em;color: black;border-radius: 0.25em;background-color: #f0f8ff;}input.sk-toggleable__control:checked~div.sk-toggleable__content {max-height: 200px;max-width: 100%;overflow: auto;}div.sk-estimator input.sk-toggleable__control:checked~label.sk-toggleable__label {background-color: #d4ebff;}div.sk-label input.sk-toggleable__control:checked~label.sk-toggleable__label {background-color: #d4ebff;}input.sk-hidden--visually {border: 0;clip: rect(1px 1px 1px 1px);clip: rect(1px, 1px, 1px, 1px);height: 1px;margin: -1px;overflow: hidden;padding: 0;position: absolute;width: 1px;}div.sk-estimator {font-family: monospace;background-color: #f0f8ff;margin: 0.25em 0.25em;border: 1px dotted black;border-radius: 0.25em;box-sizing: border-box;}div.sk-estimator:hover {background-color: #d4ebff;}div.sk-parallel-item::after {content: \"\";width: 100%;border-bottom: 1px solid gray;flex-grow: 1;}div.sk-label:hover label.sk-toggleable__label {background-color: #d4ebff;}div.sk-serial::before {content: \"\";position: absolute;border-left: 1px solid gray;box-sizing: border-box;top: 2em;bottom: 0;left: 50%;}div.sk-serial {display: flex;flex-direction: column;align-items: center;background-color: white;}div.sk-item {z-index: 1;}div.sk-parallel {display: flex;align-items: stretch;justify-content: center;background-color: white;}div.sk-parallel-item {display: flex;flex-direction: column;position: relative;background-color: white;}div.sk-parallel-item:first-child::after {align-self: flex-end;width: 50%;}div.sk-parallel-item:last-child::after {align-self: flex-start;width: 50%;}div.sk-parallel-item:only-child::after {width: 0;}div.sk-dashed-wrapped {border: 1px dashed gray;margin: 0.2em;box-sizing: border-box;padding-bottom: 0.1em;background-color: white;position: relative;}div.sk-label label {font-family: monospace;font-weight: bold;background-color: white;display: inline-block;line-height: 1.2em;}div.sk-label-container {position: relative;z-index: 2;text-align: center;}div.sk-container {display: inline-block;position: relative;}</style><div class=\"sk-top-container\"><div class=\"sk-container\"><div class=\"sk-item sk-dashed-wrapped\"><div class=\"sk-label-container\"><div class=\"sk-label sk-toggleable\"><input class=\"sk-toggleable__control sk-hidden--visually\" id=\"928714d8-93a7-4ca5-abcc-86fc9e4d21b3\" type=\"checkbox\" ><label class=\"sk-toggleable__label\" for=\"928714d8-93a7-4ca5-abcc-86fc9e4d21b3\">Pipeline</label><div class=\"sk-toggleable__content\"><pre>Pipeline(steps=[('data_transformer',\n",
       "                 ColumnTransformer(transformers=[('numerical',\n",
       "                                                  Pipeline(steps=[('imputer',\n",
       "                                                                   SimpleImputer()),\n",
       "                                                                  ('scaler',\n",
       "                                                                   StandardScaler()),\n",
       "                                                                  ('fs',\n",
       "                                                                   SelectKBest(k='all'))]),\n",
       "                                                  ['Age', 'Height', 'Weight',\n",
       "                                                   'Number of friends']),\n",
       "                                                 ('categorical',\n",
       "                                                  Pipeline(steps=[('imputer',\n",
       "                                                                   SimpleImputer(strategy='most_frequent')),\n",
       "                                                                  ('onehot',\n",
       "                                                                   OneHotEncoder(handle_unknown='ignore'))]),\n",
       "                                                  ['Getting up', 'God',\n",
       "                                                   'Health', 'Borrowed stuff',\n",
       "                                                   'Self-criticism',\n",
       "                                                   'Elections',\n",
       "                                                   'Spending on healthy eating',\n",
       "                                                   'Music', 'Movies',\n",
       "                                                   'Friends versus money',\n",
       "                                                   'Changing the past'])]))])</pre></div></div></div><div class=\"sk-serial\"><div class=\"sk-item sk-dashed-wrapped\"><div class=\"sk-label-container\"><div class=\"sk-label sk-toggleable\"><input class=\"sk-toggleable__control sk-hidden--visually\" id=\"354bf0cf-7e93-42f3-8341-b15e3f89abdb\" type=\"checkbox\" ><label class=\"sk-toggleable__label\" for=\"354bf0cf-7e93-42f3-8341-b15e3f89abdb\">data_transformer: ColumnTransformer</label><div class=\"sk-toggleable__content\"><pre>ColumnTransformer(transformers=[('numerical',\n",
       "                                 Pipeline(steps=[('imputer', SimpleImputer()),\n",
       "                                                 ('scaler', StandardScaler()),\n",
       "                                                 ('fs', SelectKBest(k='all'))]),\n",
       "                                 ['Age', 'Height', 'Weight',\n",
       "                                  'Number of friends']),\n",
       "                                ('categorical',\n",
       "                                 Pipeline(steps=[('imputer',\n",
       "                                                  SimpleImputer(strategy='most_frequent')),\n",
       "                                                 ('onehot',\n",
       "                                                  OneHotEncoder(handle_unknown='ignore'))]),\n",
       "                                 ['Getting up', 'God', 'Health',\n",
       "                                  'Borrowed stuff', 'Self-criticism',\n",
       "                                  'Elections', 'Spending on healthy eating',\n",
       "                                  'Music', 'Movies', 'Friends versus money',\n",
       "                                  'Changing the past'])])</pre></div></div></div><div class=\"sk-parallel\"><div class=\"sk-parallel-item\"><div class=\"sk-item\"><div class=\"sk-label-container\"><div class=\"sk-label sk-toggleable\"><input class=\"sk-toggleable__control sk-hidden--visually\" id=\"494239bc-b70a-40ad-8ad9-0d306dfad340\" type=\"checkbox\" ><label class=\"sk-toggleable__label\" for=\"494239bc-b70a-40ad-8ad9-0d306dfad340\">numerical</label><div class=\"sk-toggleable__content\"><pre>['Age', 'Height', 'Weight', 'Number of friends']</pre></div></div></div><div class=\"sk-serial\"><div class=\"sk-item\"><div class=\"sk-serial\"><div class=\"sk-item\"><div class=\"sk-estimator sk-toggleable\"><input class=\"sk-toggleable__control sk-hidden--visually\" id=\"0c7f03ce-6c16-4cc3-a547-663b68dc1d38\" type=\"checkbox\" ><label class=\"sk-toggleable__label\" for=\"0c7f03ce-6c16-4cc3-a547-663b68dc1d38\">SimpleImputer</label><div class=\"sk-toggleable__content\"><pre>SimpleImputer()</pre></div></div></div><div class=\"sk-item\"><div class=\"sk-estimator sk-toggleable\"><input class=\"sk-toggleable__control sk-hidden--visually\" id=\"be34fd3f-efc0-4b08-b876-a5b565b29544\" type=\"checkbox\" ><label class=\"sk-toggleable__label\" for=\"be34fd3f-efc0-4b08-b876-a5b565b29544\">StandardScaler</label><div class=\"sk-toggleable__content\"><pre>StandardScaler()</pre></div></div></div><div class=\"sk-item\"><div class=\"sk-estimator sk-toggleable\"><input class=\"sk-toggleable__control sk-hidden--visually\" id=\"6554bd15-8b2f-4897-8124-f1c4d4140760\" type=\"checkbox\" ><label class=\"sk-toggleable__label\" for=\"6554bd15-8b2f-4897-8124-f1c4d4140760\">SelectKBest</label><div class=\"sk-toggleable__content\"><pre>SelectKBest(k='all')</pre></div></div></div></div></div></div></div></div><div class=\"sk-parallel-item\"><div class=\"sk-item\"><div class=\"sk-label-container\"><div class=\"sk-label sk-toggleable\"><input class=\"sk-toggleable__control sk-hidden--visually\" id=\"ecac93ff-5f04-4f36-a50d-007ec1797fb3\" type=\"checkbox\" ><label class=\"sk-toggleable__label\" for=\"ecac93ff-5f04-4f36-a50d-007ec1797fb3\">categorical</label><div class=\"sk-toggleable__content\"><pre>['Getting up', 'God', 'Health', 'Borrowed stuff', 'Self-criticism', 'Elections', 'Spending on healthy eating', 'Music', 'Movies', 'Friends versus money', 'Changing the past']</pre></div></div></div><div class=\"sk-serial\"><div class=\"sk-item\"><div class=\"sk-serial\"><div class=\"sk-item\"><div class=\"sk-estimator sk-toggleable\"><input class=\"sk-toggleable__control sk-hidden--visually\" id=\"c07562ac-e371-41b0-82a8-4dc86c44ec71\" type=\"checkbox\" ><label class=\"sk-toggleable__label\" for=\"c07562ac-e371-41b0-82a8-4dc86c44ec71\">SimpleImputer</label><div class=\"sk-toggleable__content\"><pre>SimpleImputer(strategy='most_frequent')</pre></div></div></div><div class=\"sk-item\"><div class=\"sk-estimator sk-toggleable\"><input class=\"sk-toggleable__control sk-hidden--visually\" id=\"9350ebad-4087-46be-b43b-93f90e5ae496\" type=\"checkbox\" ><label class=\"sk-toggleable__label\" for=\"9350ebad-4087-46be-b43b-93f90e5ae496\">OneHotEncoder</label><div class=\"sk-toggleable__content\"><pre>OneHotEncoder(handle_unknown='ignore')</pre></div></div></div></div></div></div></div></div></div></div></div></div></div></div>"
      ],
      "text/plain": [
       "Pipeline(steps=[('data_transformer',\n",
       "                 ColumnTransformer(transformers=[('numerical',\n",
       "                                                  Pipeline(steps=[('imputer',\n",
       "                                                                   SimpleImputer()),\n",
       "                                                                  ('scaler',\n",
       "                                                                   StandardScaler()),\n",
       "                                                                  ('fs',\n",
       "                                                                   SelectKBest(k='all'))]),\n",
       "                                                  ['Age', 'Height', 'Weight',\n",
       "                                                   'Number of friends']),\n",
       "                                                 ('categorical',\n",
       "                                                  Pipeline(steps=[('imputer',\n",
       "                                                                   SimpleImputer(strategy='most_frequent')),\n",
       "                                                                  ('onehot',\n",
       "                                                                   OneHotEncoder(handle_unknown='ignore'))]),\n",
       "                                                  ['Getting up', 'God',\n",
       "                                                   'Health', 'Borrowed stuff',\n",
       "                                                   'Self-criticism',\n",
       "                                                   'Elections',\n",
       "                                                   'Spending on healthy eating',\n",
       "                                                   'Music', 'Movies',\n",
       "                                                   'Friends versus money',\n",
       "                                                   'Changing the past'])]))])"
      ]
     },
     "execution_count": 116,
     "metadata": {},
     "output_type": "execute_result"
    }
   ],
   "source": [
    "stacking_classifier.estimators[0][1][0]#.steps[0][1].transformers[0][1].steps[2][1].k"
   ]
  },
  {
   "cell_type": "code",
   "execution_count": 72,
   "metadata": {
    "ExecuteTime": {
     "end_time": "2022-08-22T17:40:27.938080Z",
     "start_time": "2022-08-22T17:40:27.770083Z"
    }
   },
   "outputs": [
    {
     "data": {
      "text/plain": [
       "['columntransformer', 'linearsvc']"
      ]
     },
     "execution_count": 72,
     "metadata": {},
     "output_type": "execute_result"
    }
   ],
   "source": [
    "dir(stacking_classifier.estimators)\n",
    "dir(stacking_classifier.estimators[0][1].named_steps)"
   ]
  },
  {
   "cell_type": "code",
   "execution_count": null,
   "metadata": {},
   "outputs": [],
   "source": []
  },
  {
   "cell_type": "markdown",
   "metadata": {},
   "source": [
    "# Как сохранить всю эту махину?"
   ]
  },
  {
   "cell_type": "code",
   "execution_count": 75,
   "metadata": {
    "ExecuteTime": {
     "end_time": "2022-08-22T17:42:26.637767Z",
     "start_time": "2022-08-22T17:42:26.634773Z"
    }
   },
   "outputs": [],
   "source": [
    "# Для сериализации моделей\n",
    "import pickle"
   ]
  },
  {
   "cell_type": "code",
   "execution_count": 76,
   "metadata": {
    "ExecuteTime": {
     "end_time": "2022-08-22T17:42:27.867885Z",
     "start_time": "2022-08-22T17:42:26.949765Z"
    }
   },
   "outputs": [],
   "source": [
    "with open(\"owesome_pipeline.pkl\", \"wb\") as f:\n",
    "    pickle.dump(stacking_classifier, f)"
   ]
  },
  {
   "cell_type": "code",
   "execution_count": null,
   "metadata": {},
   "outputs": [],
   "source": []
  },
  {
   "cell_type": "markdown",
   "metadata": {},
   "source": [
    "# Импорт модели"
   ]
  },
  {
   "cell_type": "code",
   "execution_count": 122,
   "metadata": {
    "ExecuteTime": {
     "end_time": "2022-08-22T17:42:32.391106Z",
     "start_time": "2022-08-22T17:42:31.264368Z"
    }
   },
   "outputs": [],
   "source": [
    "with open(\"owesome_pipeline.pkl\", 'rb') as f:\n",
    "    pipeline_from_saved = pickle.load(f)"
   ]
  },
  {
   "cell_type": "code",
   "execution_count": null,
   "metadata": {},
   "outputs": [],
   "source": []
  },
  {
   "cell_type": "code",
   "execution_count": 151,
   "metadata": {
    "ExecuteTime": {
     "end_time": "2022-08-22T17:42:43.348743Z",
     "start_time": "2022-08-22T17:42:36.691190Z"
    }
   },
   "outputs": [
    {
     "name": "stderr",
     "output_type": "stream",
     "text": [
      "[Parallel(n_jobs=-1)]: Using backend LokyBackend with 12 concurrent workers.\n",
      "[Parallel(n_jobs=-1)]: Done   1 out of   1 | elapsed:    0.0s finished\n"
     ]
    }
   ],
   "source": [
    "pipeline_from_saved.fit(data_train, data_train[target])\n",
    "with open(\"owesome_pipeline_1.pkl\", \"wb\") as f:\n",
    "    pickle.dump(stacking_classifier, f)"
   ]
  },
  {
   "cell_type": "code",
   "execution_count": 152,
   "metadata": {
    "ExecuteTime": {
     "end_time": "2022-08-22T17:42:43.348743Z",
     "start_time": "2022-08-22T17:42:36.691190Z"
    }
   },
   "outputs": [
    {
     "name": "stdout",
     "output_type": "stream",
     "text": [
      "              precision    recall  f1-score   support\n",
      "\n",
      "          -1       0.68      0.35      0.46        65\n",
      "           0       0.57      0.87      0.69        93\n",
      "           1       0.78      0.26      0.39        27\n",
      "\n",
      "    accuracy                           0.60       185\n",
      "   macro avg       0.67      0.49      0.51       185\n",
      "weighted avg       0.64      0.60      0.57       185\n",
      "\n"
     ]
    }
   ],
   "source": [
    "preds = pipeline_from_saved.predict(data_test)\n",
    "print(classification_report(data_test[target], preds))"
   ]
  },
  {
   "cell_type": "code",
   "execution_count": null,
   "metadata": {},
   "outputs": [],
   "source": []
  },
  {
   "cell_type": "code",
   "execution_count": null,
   "metadata": {},
   "outputs": [],
   "source": []
  },
  {
   "cell_type": "code",
   "execution_count": null,
   "metadata": {},
   "outputs": [],
   "source": []
  },
  {
   "cell_type": "markdown",
   "metadata": {},
   "source": [
    "# Что дальше?"
   ]
  },
  {
   "cell_type": "markdown",
   "metadata": {},
   "source": [
    "<div class=\"alert alert-success\">\n",
    "    \n",
    "* Признаки бывают разные\n",
    "* Предобработка бывает сложнее\n",
    "* Генерация новых признаков"
   ]
  },
  {
   "cell_type": "code",
   "execution_count": null,
   "metadata": {},
   "outputs": [],
   "source": []
  },
  {
   "cell_type": "code",
   "execution_count": 87,
   "metadata": {},
   "outputs": [
    {
     "data": {
      "text/plain": [
       "Pipeline(steps=[('columntransformer',\n",
       "                 ColumnTransformer(transformers=[('numerical',\n",
       "                                                  Pipeline(steps=[('imputer',\n",
       "                                                                   SimpleImputer()),\n",
       "                                                                  ('scaler',\n",
       "                                                                   StandardScaler()),\n",
       "                                                                  ('feature_selector',\n",
       "                                                                   SelectKBest(k='all'))]),\n",
       "                                                  ['Age', 'Height', 'Weight',\n",
       "                                                   'Number of friends']),\n",
       "                                                 ('categorical',\n",
       "                                                  Pipeline(steps=[('imputer',\n",
       "                                                                   SimpleImputer()),\n",
       "                                                                  ('onehot',\n",
       "                                                                   OneHotEncoder(handle_unknown='ignore'))]),\n",
       "                                                  ['Getting up', 'God',\n",
       "                                                   'Health', 'Borrowed stuff',\n",
       "                                                   'Self-criticism',\n",
       "                                                   'Elections',\n",
       "                                                   'Spending on healthy eating',\n",
       "                                                   'Music', 'Movies',\n",
       "                                                   'Friends versus money',\n",
       "                                                   'Changing the past'])])),\n",
       "                ('linearsvc', LinearSVC())])"
      ]
     },
     "execution_count": 87,
     "metadata": {},
     "output_type": "execute_result"
    }
   ],
   "source": [
    "stacking_classifier.estimators[0][1]"
   ]
  },
  {
   "cell_type": "code",
   "execution_count": null,
   "metadata": {},
   "outputs": [],
   "source": []
  }
 ],
 "metadata": {
  "kernelspec": {
   "display_name": "Python 3",
   "language": "python",
   "name": "python3"
  },
  "language_info": {
   "codemirror_mode": {
    "name": "ipython",
    "version": 3
   },
   "file_extension": ".py",
   "mimetype": "text/x-python",
   "name": "python",
   "nbconvert_exporter": "python",
   "pygments_lexer": "ipython3",
   "version": "3.7.6"
  },
  "toc": {
   "base_numbering": 1,
   "nav_menu": {},
   "number_sections": true,
   "sideBar": true,
   "skip_h1_title": false,
   "title_cell": "Table of Contents",
   "title_sidebar": "Contents",
   "toc_cell": false,
   "toc_position": {},
   "toc_section_display": true,
   "toc_window_display": false
  },
  "varInspector": {
   "cols": {
    "lenName": 16,
    "lenType": 16,
    "lenVar": 40
   },
   "kernels_config": {
    "python": {
     "delete_cmd_postfix": "",
     "delete_cmd_prefix": "del ",
     "library": "var_list.py",
     "varRefreshCmd": "print(var_dic_list())"
    },
    "r": {
     "delete_cmd_postfix": ") ",
     "delete_cmd_prefix": "rm(",
     "library": "var_list.r",
     "varRefreshCmd": "cat(var_dic_list()) "
    }
   },
   "position": {
    "height": "291.719px",
    "left": "1036.46px",
    "right": "20px",
    "top": "120px",
    "width": "327.173px"
   },
   "types_to_exclude": [
    "module",
    "function",
    "builtin_function_or_method",
    "instance",
    "_Feature"
   ],
   "window_display": false
  }
 },
 "nbformat": 4,
 "nbformat_minor": 4
}
