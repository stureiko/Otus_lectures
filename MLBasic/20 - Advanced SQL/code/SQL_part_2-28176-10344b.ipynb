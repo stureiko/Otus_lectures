{
 "cells": [
  {
   "cell_type": "markdown",
   "metadata": {},
   "source": [
    "## Занятие «Join, exists, вложенные запросы, group by, having. Индексы и план запроса»"
   ]
  },
  {
   "cell_type": "code",
   "execution_count": 1,
   "metadata": {},
   "outputs": [],
   "source": [
    "import sqlite3\n",
    "from sqlite3 import Error\n",
    "import pandas as pd"
   ]
  },
  {
   "cell_type": "code",
   "execution_count": 2,
   "metadata": {},
   "outputs": [],
   "source": [
    "def create_connection(path):\n",
    "    connection = None\n",
    "    try:\n",
    "        connection = sqlite3.connect(path)\n",
    "        print(\"Connection to SQLite DB successful\")\n",
    "    except Error as e:\n",
    "        print(f\"The error '{e}' occurred\")\n",
    "\n",
    "    return connection"
   ]
  },
  {
   "cell_type": "code",
   "execution_count": 3,
   "metadata": {},
   "outputs": [
    {
     "name": "stdout",
     "output_type": "stream",
     "text": [
      "Connection to SQLite DB successful\n"
     ]
    }
   ],
   "source": [
    "connection = create_connection(\"C:\\\\Disc_D\\\\DS_course_mipt\\\\ОТ\\\\Python_DA\\\\БД_SQL\\\\users_11_11.db\")"
   ]
  },
  {
   "cell_type": "markdown",
   "metadata": {},
   "source": [
    "### Создание таблиц"
   ]
  },
  {
   "cell_type": "code",
   "execution_count": 4,
   "metadata": {},
   "outputs": [],
   "source": [
    "def execute_query(connection, query):\n",
    "    cursor = connection.cursor()\n",
    "    try:\n",
    "        cursor.execute(query)\n",
    "        connection.commit()\n",
    "        print(\"Query executed successfully\")\n",
    "    except Error as e:\n",
    "        print(f\"The error '{e}' occurred\")"
   ]
  },
  {
   "cell_type": "code",
   "execution_count": 5,
   "metadata": {},
   "outputs": [],
   "source": [
    "create_users_table = \"\"\"\n",
    "CREATE TABLE IF NOT EXISTS users (\n",
    "  id INTEGER PRIMARY KEY AUTOINCREMENT,\n",
    "  name TEXT NOT NULL,\n",
    "  age INTEGER,\n",
    "  gender TEXT,\n",
    "  nationality TEXT\n",
    ");\n",
    "\"\"\""
   ]
  },
  {
   "cell_type": "code",
   "execution_count": 6,
   "metadata": {},
   "outputs": [
    {
     "name": "stdout",
     "output_type": "stream",
     "text": [
      "Query executed successfully\n"
     ]
    }
   ],
   "source": [
    "execute_query(connection, create_users_table)  "
   ]
  },
  {
   "cell_type": "code",
   "execution_count": 7,
   "metadata": {},
   "outputs": [],
   "source": [
    "create_posts_table = \"\"\"\n",
    "CREATE TABLE IF NOT EXISTS posts(\n",
    "  id INTEGER PRIMARY KEY AUTOINCREMENT, \n",
    "  title TEXT NOT NULL, \n",
    "  description TEXT NOT NULL, \n",
    "  user_id INTEGER NOT NULL, \n",
    "  FOREIGN KEY (user_id) REFERENCES users (id)\n",
    ");\n",
    "\"\"\""
   ]
  },
  {
   "cell_type": "code",
   "execution_count": 8,
   "metadata": {},
   "outputs": [
    {
     "name": "stdout",
     "output_type": "stream",
     "text": [
      "Query executed successfully\n"
     ]
    }
   ],
   "source": [
    "execute_query(connection, create_posts_table)"
   ]
  },
  {
   "cell_type": "code",
   "execution_count": 9,
   "metadata": {},
   "outputs": [
    {
     "name": "stdout",
     "output_type": "stream",
     "text": [
      "Query executed successfully\n",
      "Query executed successfully\n"
     ]
    }
   ],
   "source": [
    "create_comments_table = \"\"\"\n",
    "CREATE TABLE IF NOT EXISTS comments (\n",
    "  id INTEGER PRIMARY KEY AUTOINCREMENT, \n",
    "  text TEXT NOT NULL, \n",
    "  user_id INTEGER NOT NULL, \n",
    "  post_id INTEGER NOT NULL, \n",
    "  FOREIGN KEY (user_id) REFERENCES users (id) FOREIGN KEY (post_id) REFERENCES posts (id)\n",
    ");\n",
    "\"\"\"\n",
    "\n",
    "create_likes_table = \"\"\"\n",
    "CREATE TABLE IF NOT EXISTS likes (\n",
    "  id INTEGER PRIMARY KEY AUTOINCREMENT, \n",
    "  user_id INTEGER NOT NULL, \n",
    "  post_id integer NOT NULL, \n",
    "  FOREIGN KEY (user_id) REFERENCES users (id) FOREIGN KEY (post_id) REFERENCES posts (id)\n",
    ");\n",
    "\"\"\"\n",
    "\n",
    "execute_query(connection, create_comments_table)  \n",
    "execute_query(connection, create_likes_table)     "
   ]
  },
  {
   "cell_type": "markdown",
   "metadata": {},
   "source": [
    "### Добавление записей"
   ]
  },
  {
   "cell_type": "code",
   "execution_count": 10,
   "metadata": {},
   "outputs": [
    {
     "name": "stdout",
     "output_type": "stream",
     "text": [
      "Query executed successfully\n"
     ]
    }
   ],
   "source": [
    "create_users = \"\"\"\n",
    "INSERT INTO\n",
    "  users (name, age, gender, nationality)\n",
    "VALUES\n",
    "  ('James', 25, 'male', 'USA'),\n",
    "  ('Leila', 32, 'female', 'France'),\n",
    "  ('Brigitte', 35, 'female', 'England'),\n",
    "  ('Mike', 40, 'male', 'Denmark'),\n",
    "  ('Elizabeth', 21, 'female', 'Canada');\n",
    "\"\"\"\n",
    "\n",
    "execute_query(connection, create_users)  "
   ]
  },
  {
   "cell_type": "code",
   "execution_count": 11,
   "metadata": {},
   "outputs": [
    {
     "name": "stdout",
     "output_type": "stream",
     "text": [
      "Query executed successfully\n"
     ]
    }
   ],
   "source": [
    "create_posts = \"\"\"\n",
    "INSERT INTO\n",
    "  posts (title, description, user_id)\n",
    "VALUES\n",
    "  (\"Happy\", \"I am feeling very happy today\", 1),\n",
    "  (\"Hot Weather\", \"The weather is very hot today\", 2),\n",
    "  (\"Help\", \"I need some help with my work\", 2),\n",
    "  (\"Great News\", \"I am getting married\", 1),\n",
    "  (\"Interesting Game\", \"It was a fantastic game of tennis\", 5),\n",
    "  (\"Party\", \"Anyone up for a late-night party today?\", 3);\n",
    "\"\"\"\n",
    "\n",
    "execute_query(connection, create_posts) "
   ]
  },
  {
   "cell_type": "code",
   "execution_count": 12,
   "metadata": {},
   "outputs": [
    {
     "name": "stdout",
     "output_type": "stream",
     "text": [
      "Query executed successfully\n",
      "Query executed successfully\n"
     ]
    }
   ],
   "source": [
    "create_comments = \"\"\"\n",
    "INSERT INTO\n",
    "  comments (text, user_id, post_id)\n",
    "VALUES\n",
    "  ('Count me in', 1, 6),\n",
    "  ('What sort of help?', 5, 3),\n",
    "  ('Congrats buddy', 2, 4),\n",
    "  ('I was rooting for Nadal though', 4, 5),\n",
    "  ('Help with your thesis?', 2, 3),\n",
    "  ('Many congratulations', 5, 4);\n",
    "\"\"\"\n",
    "\n",
    "create_likes = \"\"\"\n",
    "INSERT INTO\n",
    "  likes (user_id, post_id)\n",
    "VALUES\n",
    "  (1, 6),\n",
    "  (2, 3),\n",
    "  (1, 5),\n",
    "  (5, 4),\n",
    "  (2, 4),\n",
    "  (4, 2),\n",
    "  (3, 6);\n",
    "\"\"\"\n",
    "\n",
    "execute_query(connection, create_comments)\n",
    "execute_query(connection, create_likes)"
   ]
  },
  {
   "cell_type": "markdown",
   "metadata": {},
   "source": [
    "### Извлечение данных из записей"
   ]
  },
  {
   "cell_type": "code",
   "execution_count": 13,
   "metadata": {},
   "outputs": [],
   "source": [
    "def execute_read_query(connection, query):\n",
    "    cursor = connection.cursor()\n",
    "    result = None\n",
    "    try:\n",
    "        cursor.execute(query)\n",
    "        result = cursor.fetchall()\n",
    "        return result\n",
    "    except Error as e:\n",
    "        print(f\"The error '{e}' occurred\")"
   ]
  },
  {
   "cell_type": "code",
   "execution_count": 14,
   "metadata": {},
   "outputs": [
    {
     "name": "stdout",
     "output_type": "stream",
     "text": [
      "('James', 25)\n",
      "('James', 25)\n"
     ]
    }
   ],
   "source": [
    "select_users = \"SELECT name, age from users where name like 'J%'\"\n",
    "users = execute_read_query(connection, select_users)\n",
    "\n",
    "for user in users:\n",
    "    print(user)"
   ]
  },
  {
   "cell_type": "code",
   "execution_count": 15,
   "metadata": {},
   "outputs": [
    {
     "name": "stdout",
     "output_type": "stream",
     "text": [
      "(1, 'Happy', 'I am feeling very happy today', 1)\n",
      "(2, 'Hot Weather', 'The weather is very hot today', 2)\n",
      "(3, 'Help', 'I need some help with my work', 2)\n",
      "(4, 'Great News', 'I am getting married', 1)\n",
      "(5, 'Interesting Game', 'It was a fantastic game of tennis', 5)\n",
      "(6, 'Party', 'Anyone up for a late-night party today?', 3)\n",
      "(7, 'Happy', 'I am feeling very happy today', 1)\n",
      "(8, 'Hot Weather', 'The weather is very hot today', 2)\n",
      "(9, 'Help', 'I need some help with my work', 2)\n",
      "(10, 'Great News', 'I am getting married', 1)\n",
      "(11, 'Interesting Game', 'It was a fantastic game of tennis', 5)\n",
      "(12, 'Party', 'Anyone up for a late-night party today?', 3)\n"
     ]
    }
   ],
   "source": [
    "select_posts = \"SELECT * FROM posts\"\n",
    "posts = execute_read_query(connection, select_posts)\n",
    "\n",
    "for post in posts:\n",
    "    print(post)"
   ]
  },
  {
   "cell_type": "markdown",
   "metadata": {},
   "source": [
    "### Джойны таблиц"
   ]
  },
  {
   "cell_type": "code",
   "execution_count": 16,
   "metadata": {},
   "outputs": [],
   "source": [
    "sql_inner = '''SELECT name, age, gender, nationality, title, description \n",
    "FROM users\n",
    "INNER JOIN posts\n",
    "ON users.id = posts.user_id;'''"
   ]
  },
  {
   "cell_type": "code",
   "execution_count": 17,
   "metadata": {},
   "outputs": [
    {
     "name": "stdout",
     "output_type": "stream",
     "text": [
      "Query executed successfully\n"
     ]
    }
   ],
   "source": [
    "execute_query(connection, sql_inner)"
   ]
  },
  {
   "cell_type": "code",
   "execution_count": 18,
   "metadata": {},
   "outputs": [
    {
     "name": "stdout",
     "output_type": "stream",
     "text": [
      "('James', 25, 'male', 'USA', 'Happy', 'I am feeling very happy today')\n",
      "('Leila', 32, 'female', 'France', 'Hot Weather', 'The weather is very hot today')\n",
      "('Leila', 32, 'female', 'France', 'Help', 'I need some help with my work')\n",
      "('James', 25, 'male', 'USA', 'Great News', 'I am getting married')\n",
      "('Elizabeth', 21, 'female', 'Canada', 'Interesting Game', 'It was a fantastic game of tennis')\n",
      "('Brigitte', 35, 'female', 'England', 'Party', 'Anyone up for a late-night party today?')\n",
      "('James', 25, 'male', 'USA', 'Happy', 'I am feeling very happy today')\n",
      "('Leila', 32, 'female', 'France', 'Hot Weather', 'The weather is very hot today')\n",
      "('Leila', 32, 'female', 'France', 'Help', 'I need some help with my work')\n",
      "('James', 25, 'male', 'USA', 'Great News', 'I am getting married')\n",
      "('Elizabeth', 21, 'female', 'Canada', 'Interesting Game', 'It was a fantastic game of tennis')\n",
      "('Brigitte', 35, 'female', 'England', 'Party', 'Anyone up for a late-night party today?')\n"
     ]
    }
   ],
   "source": [
    "posts_users = execute_read_query(connection, sql_inner)\n",
    "\n",
    "for i in posts_users:\n",
    "    print(i)"
   ]
  },
  {
   "cell_type": "code",
   "execution_count": 19,
   "metadata": {},
   "outputs": [],
   "source": [
    "sql_left = '''SELECT name, age, gender, nationality, title, description \n",
    "FROM users\n",
    "LEFT JOIN posts\n",
    "ON users.id = posts.user_id;'''"
   ]
  },
  {
   "cell_type": "code",
   "execution_count": 20,
   "metadata": {},
   "outputs": [
    {
     "name": "stdout",
     "output_type": "stream",
     "text": [
      "('James', 25, 'male', 'USA', 'Great News', 'I am getting married')\n",
      "('James', 25, 'male', 'USA', 'Great News', 'I am getting married')\n",
      "('James', 25, 'male', 'USA', 'Happy', 'I am feeling very happy today')\n",
      "('James', 25, 'male', 'USA', 'Happy', 'I am feeling very happy today')\n",
      "('Leila', 32, 'female', 'France', 'Help', 'I need some help with my work')\n",
      "('Leila', 32, 'female', 'France', 'Help', 'I need some help with my work')\n",
      "('Leila', 32, 'female', 'France', 'Hot Weather', 'The weather is very hot today')\n",
      "('Leila', 32, 'female', 'France', 'Hot Weather', 'The weather is very hot today')\n",
      "('Brigitte', 35, 'female', 'England', 'Party', 'Anyone up for a late-night party today?')\n",
      "('Brigitte', 35, 'female', 'England', 'Party', 'Anyone up for a late-night party today?')\n",
      "('Mike', 40, 'male', 'Denmark', None, None)\n",
      "('Elizabeth', 21, 'female', 'Canada', 'Interesting Game', 'It was a fantastic game of tennis')\n",
      "('Elizabeth', 21, 'female', 'Canada', 'Interesting Game', 'It was a fantastic game of tennis')\n",
      "('James', 25, 'male', 'USA', None, None)\n",
      "('Leila', 32, 'female', 'France', None, None)\n",
      "('Brigitte', 35, 'female', 'England', None, None)\n",
      "('Mike', 40, 'male', 'Denmark', None, None)\n",
      "('Elizabeth', 21, 'female', 'Canada', None, None)\n"
     ]
    }
   ],
   "source": [
    "posts_users = execute_read_query(connection, sql_left)\n",
    "\n",
    "for i in posts_users:\n",
    "    print(i)"
   ]
  },
  {
   "cell_type": "markdown",
   "metadata": {},
   "source": [
    "### SQL EXISTS"
   ]
  },
  {
   "cell_type": "code",
   "execution_count": 21,
   "metadata": {},
   "outputs": [
    {
     "name": "stdout",
     "output_type": "stream",
     "text": [
      "Connection to SQLite DB successful\n"
     ]
    }
   ],
   "source": [
    "connection = create_connection(\"C:\\\\Disc_D\\\\DS_course_mipt\\\\ОТ\\\\Python_DA\\\\БД_SQL\\\\users_11_11.db\")"
   ]
  },
  {
   "cell_type": "code",
   "execution_count": 22,
   "metadata": {},
   "outputs": [],
   "source": [
    "Bookinuse = '''CREATE TABLE  IF NOT EXISTS Bookinuse (\n",
    "  Author NVARCHAR(50),\n",
    "  Title NVARCHAR(50),\n",
    "  Pubyear INT,\n",
    "  Inv_No INT PRIMARY KEY,\n",
    "  Customer_ID INT REFERENCES Customer (Customer_ID)\n",
    ");\n",
    "'''\n",
    "\n",
    "Bookinuse_insert = '''INSERT INTO  IF NOT EXISTS Bookinuse (Author, Title, Pubyear, Inv_No, Customer_ID) VALUES\n",
    "    ('Толстой', 'Война и мир', 2005, 28, 65),\n",
    "    ('Чехов', 'Вишневый сад', 2000, 20, 31),\n",
    "    ('Чехов', 'Избранные рассказы', 2011, 19, 120),\n",
    "    ('Чехов', 'Вишневый сад', 1991, 5, 65),\n",
    "    ('Ильф и Петров', 'Двенадцать стульев', 1985, 3, 31),\n",
    "    ('Маяковский', 'Поэмы', 1983, 2, 120),\n",
    "    ('Пастернак', 'Доктор Живаго', 2006, 69, 120),\n",
    "    ('Толстой', 'Воскресенье', 2006, 77, 47),\n",
    "    ('Толстой', 'Анна Каренина', 1989, 7, 205),\n",
    "    ('Пушкин', 'Капитанская дочка', 2004, 25, 47),\n",
    "    ('Гоголь', 'Пьесы', 2007, 81, 47),\n",
    "    ('Чехов', 'Избранные рассказы', 1987, 4, 205),\n",
    "    ('Пушкин', 'Сочинения т.1', 1984, 6, 47),\n",
    "    ('Пастернак', 'Избранное', 200, 137, 18),\n",
    "    ('Пушкин', 'Сочинения т.2', 1984, 8, 205),\n",
    "    (NULL, 'Наука и жизнь 9 2018', 2019, 127, 18),\n",
    "    ('Чехов', 'Ранние рассказы', 2001, 171, 31);\n",
    "'''"
   ]
  },
  {
   "cell_type": "code",
   "execution_count": 23,
   "metadata": {},
   "outputs": [
    {
     "name": "stdout",
     "output_type": "stream",
     "text": [
      "Query executed successfully\n"
     ]
    }
   ],
   "source": [
    "execute_query(connection, Bookinuse)"
   ]
  },
  {
   "cell_type": "code",
   "execution_count": 24,
   "metadata": {},
   "outputs": [
    {
     "name": "stdout",
     "output_type": "stream",
     "text": [
      "The error 'near \"NOT\": syntax error' occurred\n"
     ]
    }
   ],
   "source": [
    "execute_query(connection, Bookinuse_insert)"
   ]
  },
  {
   "cell_type": "code",
   "execution_count": 25,
   "metadata": {},
   "outputs": [],
   "source": [
    "test_Bookinuse = '''SELECT * FROM Bookinuse;\n",
    "'''"
   ]
  },
  {
   "cell_type": "code",
   "execution_count": 26,
   "metadata": {},
   "outputs": [
    {
     "name": "stdout",
     "output_type": "stream",
     "text": [
      "Query executed successfully\n"
     ]
    }
   ],
   "source": [
    "execute_query(connection, test_Bookinuse)"
   ]
  },
  {
   "cell_type": "code",
   "execution_count": 27,
   "metadata": {},
   "outputs": [],
   "source": [
    "test = execute_read_query(connection, test_Bookinuse)\n",
    "\n",
    "for i in test:\n",
    "    print(i)"
   ]
  },
  {
   "cell_type": "code",
   "execution_count": 28,
   "metadata": {},
   "outputs": [],
   "source": [
    "Customers = '''CREATE TABLE  IF NOT EXISTS Customer (\n",
    "  Customer_ID INT PRIMARY KEY,\n",
    "  Surname NVARCHAR(50) NOT NULL\n",
    ");\n",
    "'''\n",
    "\n",
    "Customers_insert = '''INSERT INTO Customer (Customer_ID, Surname) VALUES\n",
    "(18, 'Зотов'),\n",
    "(31, 'Перов'),\n",
    "(47, 'Васин'),\n",
    "(65, 'Тихонов'),\n",
    "(120, 'Краснов'),\n",
    "(205, 'Климов');\n",
    "'''"
   ]
  },
  {
   "cell_type": "code",
   "execution_count": 29,
   "metadata": {},
   "outputs": [
    {
     "name": "stdout",
     "output_type": "stream",
     "text": [
      "Query executed successfully\n"
     ]
    }
   ],
   "source": [
    "execute_query(connection, Customers)"
   ]
  },
  {
   "cell_type": "code",
   "execution_count": 30,
   "metadata": {},
   "outputs": [
    {
     "name": "stdout",
     "output_type": "stream",
     "text": [
      "The error 'UNIQUE constraint failed: Customer.Customer_ID' occurred\n"
     ]
    }
   ],
   "source": [
    "execute_query(connection, Customers_insert)"
   ]
  },
  {
   "cell_type": "markdown",
   "metadata": {},
   "source": [
    "Определим ID пользователей, которым выданы книги Толстого, которым также выданы книги Чехова."
   ]
  },
  {
   "cell_type": "code",
   "execution_count": 31,
   "metadata": {},
   "outputs": [],
   "source": [
    "customer_id = '''SELECT Customer_ID FROM Bookinuse\n",
    "AS tols_user\n",
    "WHERE Author='Толстой'\n",
    "AND EXISTS (SELECT\n",
    "Customer_ID FROM Bookinuse\n",
    "WHERE Author='Чехов'\n",
    "AND Customer_ID=tols_user.Customer_id)\n",
    "'''"
   ]
  },
  {
   "cell_type": "code",
   "execution_count": 32,
   "metadata": {},
   "outputs": [
    {
     "name": "stdout",
     "output_type": "stream",
     "text": [
      "Query executed successfully\n"
     ]
    }
   ],
   "source": [
    "execute_query(connection, customer_id)"
   ]
  },
  {
   "cell_type": "code",
   "execution_count": 33,
   "metadata": {},
   "outputs": [],
   "source": [
    "customers = execute_read_query(connection, customer_id)\n",
    "\n",
    "for i in customers:\n",
    "    print(i)"
   ]
  },
  {
   "cell_type": "markdown",
   "metadata": {},
   "source": [
    "Определим ID пользователей, которым выданы книги Чехова, и которым при этом не выданы книги Ильфа и Петрова."
   ]
  },
  {
   "cell_type": "code",
   "execution_count": 34,
   "metadata": {},
   "outputs": [],
   "source": [
    "customer_id = '''SELECT Customer_ID FROM Bookinuse\n",
    "    AS cheh_user\n",
    "    WHERE Author='Чехов'\n",
    "    AND NOT EXISTS (SELECT\n",
    "    Customer_ID FROM Bookinuse\n",
    "    WHERE Author='Ильф и Петров'\n",
    "    AND Customer_ID=cheh_user.Customer_id)\n",
    "'''"
   ]
  },
  {
   "cell_type": "code",
   "execution_count": 35,
   "metadata": {},
   "outputs": [
    {
     "name": "stdout",
     "output_type": "stream",
     "text": [
      "Query executed successfully\n"
     ]
    }
   ],
   "source": [
    "execute_query(connection, customer_id)"
   ]
  },
  {
   "cell_type": "code",
   "execution_count": 36,
   "metadata": {},
   "outputs": [],
   "source": [
    "customers = execute_read_query(connection, customer_id)\n",
    "\n",
    "for i in customers:\n",
    "    print(i)"
   ]
  },
  {
   "cell_type": "markdown",
   "metadata": {},
   "source": [
    "Определим ID пользователей, которым выданы книги авторов, книги которых выданы пользователю с ID 31. "
   ]
  },
  {
   "cell_type": "code",
   "execution_count": 37,
   "metadata": {},
   "outputs": [],
   "source": [
    "customer_id = '''SELECT Customer_ID\n",
    "      FROM Bookinuse WHERE Author IN (SELECT \n",
    "      Author FROM Bookinuse\n",
    "      WHERE Customer_ID=31);\n",
    "      '''"
   ]
  },
  {
   "cell_type": "code",
   "execution_count": 38,
   "metadata": {},
   "outputs": [
    {
     "name": "stdout",
     "output_type": "stream",
     "text": [
      "Query executed successfully\n"
     ]
    }
   ],
   "source": [
    "execute_query(connection, customer_id)"
   ]
  },
  {
   "cell_type": "code",
   "execution_count": 39,
   "metadata": {},
   "outputs": [],
   "source": [
    "customers = execute_read_query(connection, customer_id)\n",
    "\n",
    "for i in customers:\n",
    "    print(i)"
   ]
  },
  {
   "cell_type": "markdown",
   "metadata": {},
   "source": [
    "Определим ID пользователей, которым выдана хотя бы одна книга Пастернака, и которым при этом выдано более 2 книг."
   ]
  },
  {
   "cell_type": "code",
   "execution_count": 40,
   "metadata": {},
   "outputs": [],
   "source": [
    "customer_id = '''SELECT Customer_ID FROM Bookinuse\n",
    "       AS pas_user\n",
    "       WHERE EXISTS (SELECT\n",
    "       Customer_ID FROM Bookinuse\n",
    "       WHERE Author='Пастернак'\n",
    "       AND Customer_ID=pas_user.Customer_ID)\n",
    "       GROUP BY Customer_ID   \n",
    "       HAVING COUNT(Title) > 2\n",
    "'''"
   ]
  },
  {
   "cell_type": "code",
   "execution_count": 41,
   "metadata": {},
   "outputs": [
    {
     "name": "stdout",
     "output_type": "stream",
     "text": [
      "Query executed successfully\n"
     ]
    }
   ],
   "source": [
    "execute_query(connection, customer_id)"
   ]
  },
  {
   "cell_type": "code",
   "execution_count": 42,
   "metadata": {},
   "outputs": [],
   "source": [
    "customers = execute_read_query(connection, customer_id)\n",
    "\n",
    "for i in customers:\n",
    "    print(i)"
   ]
  },
  {
   "cell_type": "markdown",
   "metadata": {},
   "source": [
    "Определим авторов, книги которых выданы пользователю по фамилии Краснов."
   ]
  },
  {
   "cell_type": "code",
   "execution_count": 43,
   "metadata": {},
   "outputs": [],
   "source": [
    "customer_id = '''SELECT DISTINCT Author \n",
    "       FROM Bookinuse bk \n",
    "       WHERE EXISTS (SELECT * \n",
    "       FROM Customer cs \n",
    "       WHERE cs.Customer_ID=bk.Customer_ID\n",
    "       AND Surname='Краснов')\n",
    "'''"
   ]
  },
  {
   "cell_type": "code",
   "execution_count": 44,
   "metadata": {},
   "outputs": [
    {
     "name": "stdout",
     "output_type": "stream",
     "text": [
      "Query executed successfully\n"
     ]
    }
   ],
   "source": [
    "execute_query(connection, customer_id)"
   ]
  },
  {
   "cell_type": "code",
   "execution_count": 45,
   "metadata": {},
   "outputs": [],
   "source": [
    "customers = execute_read_query(connection, customer_id)\n",
    "\n",
    "for i in customers:\n",
    "    print(i)"
   ]
  },
  {
   "cell_type": "markdown",
   "metadata": {},
   "source": [
    "### Создание таблицы в БД из .csv файла"
   ]
  },
  {
   "cell_type": "code",
   "execution_count": 46,
   "metadata": {},
   "outputs": [
    {
     "name": "stdout",
     "output_type": "stream",
     "text": [
      "Connection to SQLite DB successful\n"
     ]
    }
   ],
   "source": [
    "connection = create_connection(\"C:\\\\Disc_D\\\\DS_course_mipt\\\\ОТ\\\\Python_DA\\\\БД_SQL\\\\customers.db\")"
   ]
  },
  {
   "cell_type": "code",
   "execution_count": 47,
   "metadata": {},
   "outputs": [],
   "source": [
    "campaign_data = \"\"\"\n",
    "CREATE TABLE IF NOT EXISTS CampaignData(\n",
    "  campaign_id INTEGER, \n",
    "  campaign_type TEXT NOT NULL, \n",
    "  start_date TEXT NOT NULL, \n",
    "  end_date INTEGER NOT NULL\n",
    ");\n",
    "\"\"\""
   ]
  },
  {
   "cell_type": "code",
   "execution_count": 48,
   "metadata": {},
   "outputs": [
    {
     "name": "stdout",
     "output_type": "stream",
     "text": [
      "Query executed successfully\n"
     ]
    }
   ],
   "source": [
    "execute_query(connection, campaign_data)"
   ]
  },
  {
   "cell_type": "code",
   "execution_count": 49,
   "metadata": {},
   "outputs": [
    {
     "data": {
      "text/html": [
       "<div>\n",
       "<style scoped>\n",
       "    .dataframe tbody tr th:only-of-type {\n",
       "        vertical-align: middle;\n",
       "    }\n",
       "\n",
       "    .dataframe tbody tr th {\n",
       "        vertical-align: top;\n",
       "    }\n",
       "\n",
       "    .dataframe thead th {\n",
       "        text-align: right;\n",
       "    }\n",
       "</style>\n",
       "<table border=\"1\" class=\"dataframe\">\n",
       "  <thead>\n",
       "    <tr style=\"text-align: right;\">\n",
       "      <th></th>\n",
       "      <th>campaign_id</th>\n",
       "      <th>campaign_type</th>\n",
       "      <th>start_date</th>\n",
       "      <th>end_date</th>\n",
       "    </tr>\n",
       "  </thead>\n",
       "  <tbody>\n",
       "    <tr>\n",
       "      <th>0</th>\n",
       "      <td>24</td>\n",
       "      <td>Y</td>\n",
       "      <td>21/10/13</td>\n",
       "      <td>20/12/13</td>\n",
       "    </tr>\n",
       "    <tr>\n",
       "      <th>1</th>\n",
       "      <td>25</td>\n",
       "      <td>Y</td>\n",
       "      <td>21/10/13</td>\n",
       "      <td>22/11/13</td>\n",
       "    </tr>\n",
       "    <tr>\n",
       "      <th>2</th>\n",
       "      <td>20</td>\n",
       "      <td>Y</td>\n",
       "      <td>07/09/13</td>\n",
       "      <td>16/11/13</td>\n",
       "    </tr>\n",
       "    <tr>\n",
       "      <th>3</th>\n",
       "      <td>23</td>\n",
       "      <td>Y</td>\n",
       "      <td>08/10/13</td>\n",
       "      <td>15/11/13</td>\n",
       "    </tr>\n",
       "    <tr>\n",
       "      <th>4</th>\n",
       "      <td>21</td>\n",
       "      <td>Y</td>\n",
       "      <td>16/09/13</td>\n",
       "      <td>18/10/13</td>\n",
       "    </tr>\n",
       "  </tbody>\n",
       "</table>\n",
       "</div>"
      ],
      "text/plain": [
       "   campaign_id campaign_type start_date  end_date\n",
       "0           24             Y   21/10/13  20/12/13\n",
       "1           25             Y   21/10/13  22/11/13\n",
       "2           20             Y   07/09/13  16/11/13\n",
       "3           23             Y   08/10/13  15/11/13\n",
       "4           21             Y   16/09/13  18/10/13"
      ]
     },
     "execution_count": 49,
     "metadata": {},
     "output_type": "execute_result"
    }
   ],
   "source": [
    "campaign_data = pd.read_csv('./data/campaign_data.csv')\n",
    "campaign_data.head()"
   ]
  },
  {
   "cell_type": "code",
   "execution_count": 50,
   "metadata": {},
   "outputs": [
    {
     "data": {
      "text/plain": [
       "28"
      ]
     },
     "execution_count": 50,
     "metadata": {},
     "output_type": "execute_result"
    }
   ],
   "source": [
    "campaign_data.to_sql('CampaignData', connection, if_exists='append', index=False)"
   ]
  },
  {
   "cell_type": "code",
   "execution_count": 51,
   "metadata": {},
   "outputs": [
    {
     "name": "stdout",
     "output_type": "stream",
     "text": [
      "(24, 'Y', '21/10/13', '20/12/13')\n",
      "(25, 'Y', '21/10/13', '22/11/13')\n",
      "(20, 'Y', '07/09/13', '16/11/13')\n",
      "(23, 'Y', '08/10/13', '15/11/13')\n",
      "(21, 'Y', '16/09/13', '18/10/13')\n",
      "(22, 'X', '16/09/13', '18/10/13')\n",
      "(18, 'X', '10/08/13', '04/10/13')\n",
      "(19, 'Y', '26/08/13', '27/09/13')\n",
      "(17, 'Y', '29/07/13', '30/08/13')\n",
      "(16, 'Y', '15/07/13', '16/08/13')\n",
      "(13, 'X', '19/05/13', '05/07/13')\n",
      "(11, 'Y', '22/04/13', '07/06/13')\n",
      "(12, 'Y', '22/04/13', '24/05/13')\n",
      "(10, 'Y', '08/04/13', '10/05/13')\n",
      "(9, 'Y', '11/03/13', '12/04/13')\n",
      "(8, 'X', '16/02/13', '05/04/13')\n",
      "(7, 'Y', '02/02/13', '08/03/13')\n",
      "(6, 'Y', '28/01/13', '01/03/13')\n",
      "(3, 'Y', '22/12/12', '16/02/13')\n",
      "(5, 'Y', '12/01/13', '15/02/13')\n",
      "(4, 'Y', '07/01/13', '08/02/13')\n",
      "(1, 'Y', '12/12/12', '18/01/13')\n",
      "(2, 'Y', '17/12/12', '18/01/13')\n",
      "(30, 'X', '19/11/12', '04/01/13')\n",
      "(29, 'Y', '08/10/12', '30/11/12')\n",
      "(28, 'Y', '16/09/12', '16/11/12')\n",
      "(27, 'Y', '25/08/12', '27/10/12')\n",
      "(26, 'X', '12/08/12', '21/09/12')\n",
      "(24, 'Y', '21/10/13', '20/12/13')\n",
      "(25, 'Y', '21/10/13', '22/11/13')\n",
      "(20, 'Y', '07/09/13', '16/11/13')\n",
      "(23, 'Y', '08/10/13', '15/11/13')\n",
      "(21, 'Y', '16/09/13', '18/10/13')\n",
      "(22, 'X', '16/09/13', '18/10/13')\n",
      "(18, 'X', '10/08/13', '04/10/13')\n",
      "(19, 'Y', '26/08/13', '27/09/13')\n",
      "(17, 'Y', '29/07/13', '30/08/13')\n",
      "(16, 'Y', '15/07/13', '16/08/13')\n",
      "(13, 'X', '19/05/13', '05/07/13')\n",
      "(11, 'Y', '22/04/13', '07/06/13')\n",
      "(12, 'Y', '22/04/13', '24/05/13')\n",
      "(10, 'Y', '08/04/13', '10/05/13')\n",
      "(9, 'Y', '11/03/13', '12/04/13')\n",
      "(8, 'X', '16/02/13', '05/04/13')\n",
      "(7, 'Y', '02/02/13', '08/03/13')\n",
      "(6, 'Y', '28/01/13', '01/03/13')\n",
      "(3, 'Y', '22/12/12', '16/02/13')\n",
      "(5, 'Y', '12/01/13', '15/02/13')\n",
      "(4, 'Y', '07/01/13', '08/02/13')\n",
      "(1, 'Y', '12/12/12', '18/01/13')\n",
      "(2, 'Y', '17/12/12', '18/01/13')\n",
      "(30, 'X', '19/11/12', '04/01/13')\n",
      "(29, 'Y', '08/10/12', '30/11/12')\n",
      "(28, 'Y', '16/09/12', '16/11/12')\n",
      "(27, 'Y', '25/08/12', '27/10/12')\n",
      "(26, 'X', '12/08/12', '21/09/12')\n",
      "(24, 'Y', '21/10/13', '20/12/13')\n",
      "(25, 'Y', '21/10/13', '22/11/13')\n",
      "(20, 'Y', '07/09/13', '16/11/13')\n",
      "(23, 'Y', '08/10/13', '15/11/13')\n",
      "(21, 'Y', '16/09/13', '18/10/13')\n",
      "(22, 'X', '16/09/13', '18/10/13')\n",
      "(18, 'X', '10/08/13', '04/10/13')\n",
      "(19, 'Y', '26/08/13', '27/09/13')\n",
      "(17, 'Y', '29/07/13', '30/08/13')\n",
      "(16, 'Y', '15/07/13', '16/08/13')\n",
      "(13, 'X', '19/05/13', '05/07/13')\n",
      "(11, 'Y', '22/04/13', '07/06/13')\n",
      "(12, 'Y', '22/04/13', '24/05/13')\n",
      "(10, 'Y', '08/04/13', '10/05/13')\n",
      "(9, 'Y', '11/03/13', '12/04/13')\n",
      "(8, 'X', '16/02/13', '05/04/13')\n",
      "(7, 'Y', '02/02/13', '08/03/13')\n",
      "(6, 'Y', '28/01/13', '01/03/13')\n",
      "(3, 'Y', '22/12/12', '16/02/13')\n",
      "(5, 'Y', '12/01/13', '15/02/13')\n",
      "(4, 'Y', '07/01/13', '08/02/13')\n",
      "(1, 'Y', '12/12/12', '18/01/13')\n",
      "(2, 'Y', '17/12/12', '18/01/13')\n",
      "(30, 'X', '19/11/12', '04/01/13')\n",
      "(29, 'Y', '08/10/12', '30/11/12')\n",
      "(28, 'Y', '16/09/12', '16/11/12')\n",
      "(27, 'Y', '25/08/12', '27/10/12')\n",
      "(26, 'X', '12/08/12', '21/09/12')\n"
     ]
    }
   ],
   "source": [
    "customer_id = '''SELECT * \n",
    "       FROM CampaignData;\n",
    "'''\n",
    "customers = execute_read_query(connection, customer_id)\n",
    "\n",
    "for i in customers:\n",
    "    print(i)"
   ]
  },
  {
   "cell_type": "code",
   "execution_count": 52,
   "metadata": {},
   "outputs": [
    {
     "name": "stdout",
     "output_type": "stream",
     "text": [
      "Query executed successfully\n"
     ]
    }
   ],
   "source": [
    "execute_query(connection, customer_id)"
   ]
  },
  {
   "cell_type": "code",
   "execution_count": 53,
   "metadata": {},
   "outputs": [
    {
     "data": {
      "text/html": [
       "<div>\n",
       "<style scoped>\n",
       "    .dataframe tbody tr th:only-of-type {\n",
       "        vertical-align: middle;\n",
       "    }\n",
       "\n",
       "    .dataframe tbody tr th {\n",
       "        vertical-align: top;\n",
       "    }\n",
       "\n",
       "    .dataframe thead th {\n",
       "        text-align: right;\n",
       "    }\n",
       "</style>\n",
       "<table border=\"1\" class=\"dataframe\">\n",
       "  <thead>\n",
       "    <tr style=\"text-align: right;\">\n",
       "      <th></th>\n",
       "      <th>coupon_id</th>\n",
       "      <th>item_id</th>\n",
       "    </tr>\n",
       "  </thead>\n",
       "  <tbody>\n",
       "    <tr>\n",
       "      <th>0</th>\n",
       "      <td>105</td>\n",
       "      <td>37</td>\n",
       "    </tr>\n",
       "    <tr>\n",
       "      <th>1</th>\n",
       "      <td>107</td>\n",
       "      <td>75</td>\n",
       "    </tr>\n",
       "    <tr>\n",
       "      <th>2</th>\n",
       "      <td>494</td>\n",
       "      <td>76</td>\n",
       "    </tr>\n",
       "    <tr>\n",
       "      <th>3</th>\n",
       "      <td>522</td>\n",
       "      <td>77</td>\n",
       "    </tr>\n",
       "    <tr>\n",
       "      <th>4</th>\n",
       "      <td>518</td>\n",
       "      <td>77</td>\n",
       "    </tr>\n",
       "  </tbody>\n",
       "</table>\n",
       "</div>"
      ],
      "text/plain": [
       "   coupon_id  item_id\n",
       "0        105       37\n",
       "1        107       75\n",
       "2        494       76\n",
       "3        522       77\n",
       "4        518       77"
      ]
     },
     "execution_count": 53,
     "metadata": {},
     "output_type": "execute_result"
    }
   ],
   "source": [
    "coupon_item_mapping = pd.read_csv('./data/coupon_item_mapping.csv')\n",
    "coupon_item_mapping.head()"
   ]
  },
  {
   "cell_type": "code",
   "execution_count": 54,
   "metadata": {},
   "outputs": [
    {
     "data": {
      "text/plain": [
       "92663"
      ]
     },
     "execution_count": 54,
     "metadata": {},
     "output_type": "execute_result"
    }
   ],
   "source": [
    "coupon_item_mapping.to_sql('coupon_item_mapping', connection, if_exists='append', index=False)"
   ]
  },
  {
   "cell_type": "code",
   "execution_count": 55,
   "metadata": {},
   "outputs": [
    {
     "name": "stdout",
     "output_type": "stream",
     "text": [
      "(160,)\n"
     ]
    }
   ],
   "source": [
    "coupon_item_mapping = '''SELECT COUNT(coupon_id)\n",
    "       FROM coupon_item_mapping\n",
    "       WHERE item_id <= 30;\n",
    "        '''\n",
    "\n",
    "coupon_item_mapping = execute_read_query(connection, coupon_item_mapping)\n",
    "\n",
    "for i in coupon_item_mapping:\n",
    "    print(i)"
   ]
  },
  {
   "cell_type": "code",
   "execution_count": 56,
   "metadata": {},
   "outputs": [
    {
     "data": {
      "text/html": [
       "<div>\n",
       "<style scoped>\n",
       "    .dataframe tbody tr th:only-of-type {\n",
       "        vertical-align: middle;\n",
       "    }\n",
       "\n",
       "    .dataframe tbody tr th {\n",
       "        vertical-align: top;\n",
       "    }\n",
       "\n",
       "    .dataframe thead th {\n",
       "        text-align: right;\n",
       "    }\n",
       "</style>\n",
       "<table border=\"1\" class=\"dataframe\">\n",
       "  <thead>\n",
       "    <tr style=\"text-align: right;\">\n",
       "      <th></th>\n",
       "      <th>customer_id</th>\n",
       "      <th>age_range</th>\n",
       "      <th>marital_status</th>\n",
       "      <th>rented</th>\n",
       "      <th>family_size</th>\n",
       "      <th>no_of_children</th>\n",
       "      <th>income_bracket</th>\n",
       "    </tr>\n",
       "  </thead>\n",
       "  <tbody>\n",
       "    <tr>\n",
       "      <th>0</th>\n",
       "      <td>1</td>\n",
       "      <td>70+</td>\n",
       "      <td>Married</td>\n",
       "      <td>0</td>\n",
       "      <td>2</td>\n",
       "      <td>NaN</td>\n",
       "      <td>4</td>\n",
       "    </tr>\n",
       "    <tr>\n",
       "      <th>1</th>\n",
       "      <td>6</td>\n",
       "      <td>46-55</td>\n",
       "      <td>Married</td>\n",
       "      <td>0</td>\n",
       "      <td>2</td>\n",
       "      <td>NaN</td>\n",
       "      <td>5</td>\n",
       "    </tr>\n",
       "    <tr>\n",
       "      <th>2</th>\n",
       "      <td>7</td>\n",
       "      <td>26-35</td>\n",
       "      <td>NaN</td>\n",
       "      <td>0</td>\n",
       "      <td>3</td>\n",
       "      <td>1</td>\n",
       "      <td>3</td>\n",
       "    </tr>\n",
       "    <tr>\n",
       "      <th>3</th>\n",
       "      <td>8</td>\n",
       "      <td>26-35</td>\n",
       "      <td>NaN</td>\n",
       "      <td>0</td>\n",
       "      <td>4</td>\n",
       "      <td>2</td>\n",
       "      <td>6</td>\n",
       "    </tr>\n",
       "    <tr>\n",
       "      <th>4</th>\n",
       "      <td>10</td>\n",
       "      <td>46-55</td>\n",
       "      <td>Single</td>\n",
       "      <td>0</td>\n",
       "      <td>1</td>\n",
       "      <td>NaN</td>\n",
       "      <td>5</td>\n",
       "    </tr>\n",
       "  </tbody>\n",
       "</table>\n",
       "</div>"
      ],
      "text/plain": [
       "   customer_id age_range marital_status  rented family_size no_of_children  \\\n",
       "0            1       70+        Married       0           2            NaN   \n",
       "1            6     46-55        Married       0           2            NaN   \n",
       "2            7     26-35            NaN       0           3              1   \n",
       "3            8     26-35            NaN       0           4              2   \n",
       "4           10     46-55         Single       0           1            NaN   \n",
       "\n",
       "   income_bracket  \n",
       "0               4  \n",
       "1               5  \n",
       "2               3  \n",
       "3               6  \n",
       "4               5  "
      ]
     },
     "execution_count": 56,
     "metadata": {},
     "output_type": "execute_result"
    }
   ],
   "source": [
    "customer_demographics = pd.read_csv('./data/customer_demographics.csv')\n",
    "customer_demographics.head()"
   ]
  },
  {
   "cell_type": "code",
   "execution_count": 57,
   "metadata": {},
   "outputs": [
    {
     "data": {
      "text/plain": [
       "760"
      ]
     },
     "execution_count": 57,
     "metadata": {},
     "output_type": "execute_result"
    }
   ],
   "source": [
    "customer_demographics.to_sql('customer_demographics', connection, if_exists='append', index=False)"
   ]
  },
  {
   "cell_type": "code",
   "execution_count": 58,
   "metadata": {},
   "outputs": [
    {
     "name": "stdout",
     "output_type": "stream",
     "text": [
      "(68,)\n"
     ]
    }
   ],
   "source": [
    "customer_demographics = '''SELECT COUNT(DISTINCT customer_id)\n",
    "       FROM customer_demographics\n",
    "       WHERE age_range like '7%';\n",
    "        '''\n",
    "\n",
    "customer_demographics = execute_read_query(connection, customer_demographics)\n",
    "\n",
    "for i in customer_demographics:\n",
    "    print(i)"
   ]
  },
  {
   "cell_type": "code",
   "execution_count": 59,
   "metadata": {},
   "outputs": [
    {
     "data": {
      "text/html": [
       "<div>\n",
       "<style scoped>\n",
       "    .dataframe tbody tr th:only-of-type {\n",
       "        vertical-align: middle;\n",
       "    }\n",
       "\n",
       "    .dataframe tbody tr th {\n",
       "        vertical-align: top;\n",
       "    }\n",
       "\n",
       "    .dataframe thead th {\n",
       "        text-align: right;\n",
       "    }\n",
       "</style>\n",
       "<table border=\"1\" class=\"dataframe\">\n",
       "  <thead>\n",
       "    <tr style=\"text-align: right;\">\n",
       "      <th></th>\n",
       "      <th>date</th>\n",
       "      <th>customer_id</th>\n",
       "      <th>item_id</th>\n",
       "      <th>quantity</th>\n",
       "      <th>selling_price</th>\n",
       "      <th>other_discount</th>\n",
       "      <th>coupon_discount</th>\n",
       "    </tr>\n",
       "  </thead>\n",
       "  <tbody>\n",
       "    <tr>\n",
       "      <th>0</th>\n",
       "      <td>2012-01-02</td>\n",
       "      <td>1501</td>\n",
       "      <td>26830</td>\n",
       "      <td>1</td>\n",
       "      <td>35.26</td>\n",
       "      <td>-10.69</td>\n",
       "      <td>0.0</td>\n",
       "    </tr>\n",
       "    <tr>\n",
       "      <th>1</th>\n",
       "      <td>2012-01-02</td>\n",
       "      <td>1501</td>\n",
       "      <td>54253</td>\n",
       "      <td>1</td>\n",
       "      <td>53.43</td>\n",
       "      <td>-13.89</td>\n",
       "      <td>0.0</td>\n",
       "    </tr>\n",
       "    <tr>\n",
       "      <th>2</th>\n",
       "      <td>2012-01-02</td>\n",
       "      <td>1501</td>\n",
       "      <td>31962</td>\n",
       "      <td>1</td>\n",
       "      <td>106.50</td>\n",
       "      <td>-14.25</td>\n",
       "      <td>0.0</td>\n",
       "    </tr>\n",
       "    <tr>\n",
       "      <th>3</th>\n",
       "      <td>2012-01-02</td>\n",
       "      <td>1501</td>\n",
       "      <td>33647</td>\n",
       "      <td>1</td>\n",
       "      <td>67.32</td>\n",
       "      <td>0.00</td>\n",
       "      <td>0.0</td>\n",
       "    </tr>\n",
       "    <tr>\n",
       "      <th>4</th>\n",
       "      <td>2012-01-02</td>\n",
       "      <td>1501</td>\n",
       "      <td>48199</td>\n",
       "      <td>1</td>\n",
       "      <td>71.24</td>\n",
       "      <td>-28.14</td>\n",
       "      <td>0.0</td>\n",
       "    </tr>\n",
       "  </tbody>\n",
       "</table>\n",
       "</div>"
      ],
      "text/plain": [
       "         date  customer_id  item_id  quantity  selling_price  other_discount  \\\n",
       "0  2012-01-02         1501    26830         1          35.26          -10.69   \n",
       "1  2012-01-02         1501    54253         1          53.43          -13.89   \n",
       "2  2012-01-02         1501    31962         1         106.50          -14.25   \n",
       "3  2012-01-02         1501    33647         1          67.32            0.00   \n",
       "4  2012-01-02         1501    48199         1          71.24          -28.14   \n",
       "\n",
       "   coupon_discount  \n",
       "0              0.0  \n",
       "1              0.0  \n",
       "2              0.0  \n",
       "3              0.0  \n",
       "4              0.0  "
      ]
     },
     "execution_count": 59,
     "metadata": {},
     "output_type": "execute_result"
    }
   ],
   "source": [
    "customer_transaction_data = pd.read_csv('./data/customer_transaction_data.csv')\n",
    "customer_transaction_data.head()"
   ]
  },
  {
   "cell_type": "code",
   "execution_count": 60,
   "metadata": {},
   "outputs": [
    {
     "data": {
      "text/plain": [
       "1324566"
      ]
     },
     "execution_count": 60,
     "metadata": {},
     "output_type": "execute_result"
    }
   ],
   "source": [
    "customer_transaction_data.to_sql('customer_transaction_data', connection, if_exists='append', index=False)"
   ]
  },
  {
   "cell_type": "code",
   "execution_count": 61,
   "metadata": {},
   "outputs": [
    {
     "name": "stdout",
     "output_type": "stream",
     "text": [
      "(811521,)\n"
     ]
    }
   ],
   "source": [
    "customer_transaction_data = '''SELECT COUNT(customer_id)\n",
    "       FROM customer_transaction_data\n",
    "       WHERE quantity !=1;\n",
    "        '''\n",
    "\n",
    "customer_transaction_data = execute_read_query(connection, customer_transaction_data)\n",
    "\n",
    "for i in customer_transaction_data:\n",
    "    print(i)"
   ]
  },
  {
   "cell_type": "code",
   "execution_count": null,
   "metadata": {},
   "outputs": [],
   "source": [
    "customer_transaction_data = '''SELECT date, c_t.customer_id, c_d.customer_id, item_id, quantity, selling_price, coupon_discount, age_range\n",
    "       FROM customer_transaction_data as c_t\n",
    "       LEFT JOIN customer_demographics as c_d\n",
    "        ON c_t.customer_id = c_d.customer_id;\n",
    "        '''\n",
    "\n",
    "customer_transaction_data = execute_read_query(connection, customer_transaction_data)\n",
    "\n",
    "for i in customer_transaction_data:\n",
    "    print(i)"
   ]
  },
  {
   "cell_type": "code",
   "execution_count": null,
   "metadata": {},
   "outputs": [],
   "source": []
  },
  {
   "cell_type": "code",
   "execution_count": null,
   "metadata": {},
   "outputs": [],
   "source": []
  },
  {
   "cell_type": "code",
   "execution_count": null,
   "metadata": {},
   "outputs": [],
   "source": []
  },
  {
   "cell_type": "code",
   "execution_count": null,
   "metadata": {},
   "outputs": [],
   "source": []
  },
  {
   "cell_type": "code",
   "execution_count": null,
   "metadata": {},
   "outputs": [],
   "source": []
  },
  {
   "cell_type": "code",
   "execution_count": null,
   "metadata": {},
   "outputs": [],
   "source": []
  },
  {
   "cell_type": "code",
   "execution_count": null,
   "metadata": {},
   "outputs": [],
   "source": []
  },
  {
   "cell_type": "code",
   "execution_count": null,
   "metadata": {},
   "outputs": [],
   "source": []
  },
  {
   "cell_type": "code",
   "execution_count": null,
   "metadata": {},
   "outputs": [],
   "source": []
  },
  {
   "cell_type": "code",
   "execution_count": null,
   "metadata": {},
   "outputs": [],
   "source": []
  },
  {
   "cell_type": "code",
   "execution_count": null,
   "metadata": {},
   "outputs": [],
   "source": []
  },
  {
   "cell_type": "code",
   "execution_count": null,
   "metadata": {},
   "outputs": [],
   "source": []
  },
  {
   "cell_type": "code",
   "execution_count": null,
   "metadata": {},
   "outputs": [],
   "source": []
  }
 ],
 "metadata": {
  "kernelspec": {
   "display_name": "Python 3 (ipykernel)",
   "language": "python",
   "name": "python3"
  },
  "language_info": {
   "codemirror_mode": {
    "name": "ipython",
    "version": 3
   },
   "file_extension": ".py",
   "mimetype": "text/x-python",
   "name": "python",
   "nbconvert_exporter": "python",
   "pygments_lexer": "ipython3",
   "version": "3.9.12"
  }
 },
 "nbformat": 4,
 "nbformat_minor": 4
}
