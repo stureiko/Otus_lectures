{
 "cells": [
  {
   "cell_type": "markdown",
   "id": "12b4a5ac-fb1d-49f5-9310-ab14aa175980",
   "metadata": {},
   "source": [
    "# Titanic with Spark MLlib"
   ]
  },
  {
   "cell_type": "code",
   "execution_count": 1,
   "id": "1564486e-b69f-4cf4-a208-7e3844a442b8",
   "metadata": {},
   "outputs": [],
   "source": [
    "import warnings\n",
    "warnings.filterwarnings('ignore')\n",
    "spark_ui_port = 4040\n",
    "app_name = \"Otus\"\n",
    "\n",
    "from itertools import groupby"
   ]
  },
  {
   "cell_type": "code",
   "execution_count": 2,
   "id": "8bedeb1f-a0a1-4731-b115-b7619551ecc3",
   "metadata": {},
   "outputs": [
    {
     "name": "stderr",
     "output_type": "stream",
     "text": [
      "Setting default log level to \"WARN\".\n",
      "To adjust logging level use sc.setLogLevel(newLevel). For SparkR, use setLogLevel(newLevel).\n",
      "24/02/08 21:07:27 WARN NativeCodeLoader: Unable to load native-hadoop library for your platform... using builtin-java classes where applicable\n"
     ]
    }
   ],
   "source": [
    "import pyspark\n",
    "\n",
    "spark = (\n",
    "    pyspark.sql.SparkSession.builder\n",
    "        .appName(app_name)\n",
    "        .master(\"local[4]\") # limit executor to 4 cores\n",
    "        .config(\"spark.executor.memory\", \"1g\")\n",
    "        .config(\"spark.driver.memory\", \"1g\")\n",
    "        .config(\"spark.ui.port\", spark_ui_port)\n",
    "        .getOrCreate()\n",
    ")\n",
    "spark.conf.set('spark.sql.repl.eagerEval.enabled', True)  # to pretty print pyspark.DataFrame in jupyter\n",
    "\n",
    "# sc = spark.sparkContext\n",
    "# sc.setLogLevel(\"ERROR\")"
   ]
  },
  {
   "cell_type": "code",
   "execution_count": 3,
   "id": "1f115989-7bef-4de3-83e7-ac9ad0674cac",
   "metadata": {},
   "outputs": [
    {
     "name": "stdout",
     "output_type": "stream",
     "text": [
      "+-----------+--------+------+--------------------+------+----+-----+-----+----------------+-------+-----+--------+\n",
      "|PassengerId|Survived|Pclass|                Name|   Sex| Age|SibSp|Parch|          Ticket|   Fare|Cabin|Embarked|\n",
      "+-----------+--------+------+--------------------+------+----+-----+-----+----------------+-------+-----+--------+\n",
      "|          1|       0|     3|Braund, Mr. Owen ...|  male|22.0|    1|    0|       A/5 21171|   7.25| NULL|       S|\n",
      "|          2|       1|     1|Cumings, Mrs. Joh...|female|38.0|    1|    0|        PC 17599|71.2833|  C85|       C|\n",
      "|          3|       1|     3|Heikkinen, Miss. ...|female|26.0|    0|    0|STON/O2. 3101282|  7.925| NULL|       S|\n",
      "|          4|       1|     1|Futrelle, Mrs. Ja...|female|35.0|    1|    0|          113803|   53.1| C123|       S|\n",
      "|          5|       0|     3|Allen, Mr. Willia...|  male|35.0|    0|    0|          373450|   8.05| NULL|       S|\n",
      "+-----------+--------+------+--------------------+------+----+-----+-----+----------------+-------+-----+--------+\n",
      "only showing top 5 rows\n",
      "\n"
     ]
    }
   ],
   "source": [
    "df = spark.read.csv(\"./titanic/train.csv\", inferSchema=True, header=True)\n",
    "df.show(5)"
   ]
  },
  {
   "cell_type": "code",
   "execution_count": 4,
   "id": "8abab51b",
   "metadata": {},
   "outputs": [
    {
     "data": {
      "text/plain": [
       "pyspark.sql.dataframe.DataFrame"
      ]
     },
     "execution_count": 4,
     "metadata": {},
     "output_type": "execute_result"
    }
   ],
   "source": [
    "type(df)"
   ]
  },
  {
   "cell_type": "code",
   "execution_count": 5,
   "id": "937b099f",
   "metadata": {},
   "outputs": [
    {
     "data": {
      "text/plain": [
       "(12, 891)"
      ]
     },
     "execution_count": 5,
     "metadata": {},
     "output_type": "execute_result"
    }
   ],
   "source": [
    "# dataset shape\n",
    "(len(df.columns), df.count())"
   ]
  },
  {
   "cell_type": "code",
   "execution_count": 6,
   "id": "32f7125d-15b1-460e-9015-a185ad34116c",
   "metadata": {},
   "outputs": [
    {
     "name": "stdout",
     "output_type": "stream",
     "text": [
      "root\n",
      " |-- PassengerId: integer (nullable = true)\n",
      " |-- Survived: integer (nullable = true)\n",
      " |-- Pclass: integer (nullable = true)\n",
      " |-- Name: string (nullable = true)\n",
      " |-- Sex: string (nullable = true)\n",
      " |-- Age: double (nullable = true)\n",
      " |-- SibSp: integer (nullable = true)\n",
      " |-- Parch: integer (nullable = true)\n",
      " |-- Ticket: string (nullable = true)\n",
      " |-- Fare: double (nullable = true)\n",
      " |-- Cabin: string (nullable = true)\n",
      " |-- Embarked: string (nullable = true)\n",
      "\n"
     ]
    }
   ],
   "source": [
    "df.printSchema()"
   ]
  },
  {
   "cell_type": "markdown",
   "id": "2753d965",
   "metadata": {},
   "source": [
    "Так смотреть не удобно - отформатируем вывод"
   ]
  },
  {
   "cell_type": "code",
   "execution_count": 7,
   "id": "9d4b2c01",
   "metadata": {},
   "outputs": [
    {
     "name": "stdout",
     "output_type": "stream",
     "text": [
      "              PassengerId\tint\n",
      "                 Survived\tint\n",
      "                   Pclass\tint\n",
      "                     Name\tstring\n",
      "                      Sex\tstring\n",
      "                      Age\tdouble\n",
      "                    SibSp\tint\n",
      "                    Parch\tint\n",
      "                   Ticket\tstring\n",
      "                     Fare\tdouble\n",
      "                    Cabin\tstring\n",
      "                 Embarked\tstring\n"
     ]
    }
   ],
   "source": [
    "dt = df.dtypes\n",
    "for r in dt:\n",
    "    print(f\"{r[0]:>25}\\t{r[1]}\")"
   ]
  },
  {
   "cell_type": "markdown",
   "id": "3f237e63",
   "metadata": {},
   "source": [
    "Давайте cортируем по типам"
   ]
  },
  {
   "cell_type": "code",
   "execution_count": 8,
   "id": "68b559b7",
   "metadata": {},
   "outputs": [
    {
     "name": "stdout",
     "output_type": "stream",
     "text": [
      "                      Age\tdouble\n",
      "                     Fare\tdouble\n",
      "              PassengerId\tint\n",
      "                 Survived\tint\n",
      "                   Pclass\tint\n",
      "                    SibSp\tint\n",
      "                    Parch\tint\n",
      "                     Name\tstring\n",
      "                      Sex\tstring\n",
      "                   Ticket\tstring\n",
      "                    Cabin\tstring\n",
      "                 Embarked\tstring\n"
     ]
    }
   ],
   "source": [
    "for r in sorted(\n",
    "    df.dtypes, \n",
    "    key=lambda x: x[1]\n",
    "):\n",
    "    print(f\"{r[0]:>25}\\t{r[1]}\")"
   ]
  },
  {
   "cell_type": "markdown",
   "id": "0d56f712",
   "metadata": {},
   "source": [
    "Соберем по типам"
   ]
  },
  {
   "cell_type": "code",
   "execution_count": 9,
   "id": "90276e20",
   "metadata": {},
   "outputs": [
    {
     "name": "stdout",
     "output_type": "stream",
     "text": [
      "Data types:\n",
      "double - 2\n",
      "int    - 5\n",
      "string - 5\n"
     ]
    }
   ],
   "source": [
    "dt.sort(key=lambda x: x[1])\n",
    "\n",
    "print('Data types:')\n",
    "for k, g in groupby(dt, lambda x: x[1]):\n",
    "    print(f'{k:<6} - {len(list(g))}')"
   ]
  },
  {
   "cell_type": "markdown",
   "id": "2b3a847e-ad1e-480e-be69-566f32f9ccd2",
   "metadata": {},
   "source": [
    "## Кодирование категориальных признаков"
   ]
  },
  {
   "cell_type": "code",
   "execution_count": 10,
   "id": "60bea342",
   "metadata": {},
   "outputs": [
    {
     "name": "stdout",
     "output_type": "stream",
     "text": [
      "+-----------+--------+------+--------------------+------+----+-----+-----+----------------+-------+-----+--------+\n",
      "|PassengerId|Survived|Pclass|                Name|   Sex| Age|SibSp|Parch|          Ticket|   Fare|Cabin|Embarked|\n",
      "+-----------+--------+------+--------------------+------+----+-----+-----+----------------+-------+-----+--------+\n",
      "|          1|       0|     3|Braund, Mr. Owen ...|  male|22.0|    1|    0|       A/5 21171|   7.25| NULL|       S|\n",
      "|          2|       1|     1|Cumings, Mrs. Joh...|female|38.0|    1|    0|        PC 17599|71.2833|  C85|       C|\n",
      "|          3|       1|     3|Heikkinen, Miss. ...|female|26.0|    0|    0|STON/O2. 3101282|  7.925| NULL|       S|\n",
      "|          4|       1|     1|Futrelle, Mrs. Ja...|female|35.0|    1|    0|          113803|   53.1| C123|       S|\n",
      "|          5|       0|     3|Allen, Mr. Willia...|  male|35.0|    0|    0|          373450|   8.05| NULL|       S|\n",
      "+-----------+--------+------+--------------------+------+----+-----+-----+----------------+-------+-----+--------+\n",
      "only showing top 5 rows\n",
      "\n"
     ]
    }
   ],
   "source": [
    "df.show(5)"
   ]
  },
  {
   "cell_type": "code",
   "execution_count": 11,
   "id": "f3078946",
   "metadata": {},
   "outputs": [],
   "source": [
    "from pyspark.ml.feature import StringIndexer"
   ]
  },
  {
   "cell_type": "markdown",
   "id": "71f701ba",
   "metadata": {},
   "source": [
    "### Sex"
   ]
  },
  {
   "cell_type": "markdown",
   "id": "0f43fd45",
   "metadata": {},
   "source": [
    "<div class=\"alert alert-warning\">\n",
    "\n",
    "<b>Warning! Частая ошибка</b>\n",
    "\n",
    "\n",
    "    \n",
    "StringIndexer может работать с пропущенными значениями только в формате <b>NaN</b>, но не <b>NULL</b>!\n",
    "\n",
    "<b>Необходимо проверить на пропуски!</b>\n",
    "</div>"
   ]
  },
  {
   "cell_type": "code",
   "execution_count": 12,
   "id": "76c53473",
   "metadata": {},
   "outputs": [
    {
     "data": {
      "text/plain": [
       "0"
      ]
     },
     "execution_count": 12,
     "metadata": {},
     "output_type": "execute_result"
    }
   ],
   "source": [
    "df.filter(df['Sex'].isNull()).count()"
   ]
  },
  {
   "cell_type": "code",
   "execution_count": 13,
   "id": "5e4a222b",
   "metadata": {},
   "outputs": [
    {
     "name": "stdout",
     "output_type": "stream",
     "text": [
      "+-----------+--------+------+--------------------+------+----+-----+-----+----------------+-------+-----+--------+----------+\n",
      "|PassengerId|Survived|Pclass|                Name|   Sex| Age|SibSp|Parch|          Ticket|   Fare|Cabin|Embarked|SexIndexed|\n",
      "+-----------+--------+------+--------------------+------+----+-----+-----+----------------+-------+-----+--------+----------+\n",
      "|          1|       0|     3|Braund, Mr. Owen ...|  male|22.0|    1|    0|       A/5 21171|   7.25| NULL|       S|       0.0|\n",
      "|          2|       1|     1|Cumings, Mrs. Joh...|female|38.0|    1|    0|        PC 17599|71.2833|  C85|       C|       1.0|\n",
      "|          3|       1|     3|Heikkinen, Miss. ...|female|26.0|    0|    0|STON/O2. 3101282|  7.925| NULL|       S|       1.0|\n",
      "|          4|       1|     1|Futrelle, Mrs. Ja...|female|35.0|    1|    0|          113803|   53.1| C123|       S|       1.0|\n",
      "|          5|       0|     3|Allen, Mr. Willia...|  male|35.0|    0|    0|          373450|   8.05| NULL|       S|       0.0|\n",
      "+-----------+--------+------+--------------------+------+----+-----+-----+----------------+-------+-----+--------+----------+\n",
      "only showing top 5 rows\n",
      "\n"
     ]
    }
   ],
   "source": [
    "sex_indexer = StringIndexer()\\\n",
    "    .setInputCol('Sex')\\\n",
    "    .setOutputCol('SexIndexed')\n",
    "df_prep = sex_indexer.fit(df).transform(df)\n",
    "df_prep.show(5)"
   ]
  },
  {
   "cell_type": "code",
   "execution_count": 14,
   "id": "400b3186-f554-44a4-9fa7-769706988978",
   "metadata": {},
   "outputs": [
    {
     "name": "stdout",
     "output_type": "stream",
     "text": [
      "+-----------+--------+------+--------------------+------+----+-----+-----+----------------+-------+-----+--------+--------+\n",
      "|PassengerId|Survived|Pclass|                Name|   Sex| Age|SibSp|Parch|          Ticket|   Fare|Cabin|Embarked|SexIndex|\n",
      "+-----------+--------+------+--------------------+------+----+-----+-----+----------------+-------+-----+--------+--------+\n",
      "|          1|       0|     3|Braund, Mr. Owen ...|  male|22.0|    1|    0|       A/5 21171|   7.25| NULL|       S|     0.0|\n",
      "|          2|       1|     1|Cumings, Mrs. Joh...|female|38.0|    1|    0|        PC 17599|71.2833|  C85|       C|     1.0|\n",
      "|          3|       1|     3|Heikkinen, Miss. ...|female|26.0|    0|    0|STON/O2. 3101282|  7.925| NULL|       S|     1.0|\n",
      "|          4|       1|     1|Futrelle, Mrs. Ja...|female|35.0|    1|    0|          113803|   53.1| C123|       S|     1.0|\n",
      "|          5|       0|     3|Allen, Mr. Willia...|  male|35.0|    0|    0|          373450|   8.05| NULL|       S|     0.0|\n",
      "+-----------+--------+------+--------------------+------+----+-----+-----+----------------+-------+-----+--------+--------+\n",
      "only showing top 5 rows\n",
      "\n"
     ]
    }
   ],
   "source": [
    "sex_indexer = StringIndexer(inputCol=\"Sex\", outputCol=\"SexIndex\")\n",
    "sex_indexer_model = sex_indexer.fit(df)\n",
    "df_prep = sex_indexer_model.transform(df)\n",
    "df_prep.show(5)"
   ]
  },
  {
   "cell_type": "markdown",
   "id": "4b11ca24",
   "metadata": {},
   "source": [
    "### Pclass"
   ]
  },
  {
   "cell_type": "code",
   "execution_count": 15,
   "id": "d7d7774f",
   "metadata": {},
   "outputs": [
    {
     "data": {
      "text/plain": [
       "0"
      ]
     },
     "execution_count": 15,
     "metadata": {},
     "output_type": "execute_result"
    }
   ],
   "source": [
    "df_prep.filter(df_prep['Pclass'].isNull()).count()"
   ]
  },
  {
   "cell_type": "code",
   "execution_count": 16,
   "id": "61d6dc5d-2bd1-4b1a-ac6c-e51db02ad939",
   "metadata": {},
   "outputs": [
    {
     "name": "stdout",
     "output_type": "stream",
     "text": [
      "+-----------+--------+------+--------------------+------+----+-----+-----+----------------+-------+-----+--------+--------+-----------+\n",
      "|PassengerId|Survived|Pclass|                Name|   Sex| Age|SibSp|Parch|          Ticket|   Fare|Cabin|Embarked|SexIndex|PclassIndex|\n",
      "+-----------+--------+------+--------------------+------+----+-----+-----+----------------+-------+-----+--------+--------+-----------+\n",
      "|          1|       0|     3|Braund, Mr. Owen ...|  male|22.0|    1|    0|       A/5 21171|   7.25| NULL|       S|     0.0|        0.0|\n",
      "|          2|       1|     1|Cumings, Mrs. Joh...|female|38.0|    1|    0|        PC 17599|71.2833|  C85|       C|     1.0|        1.0|\n",
      "|          3|       1|     3|Heikkinen, Miss. ...|female|26.0|    0|    0|STON/O2. 3101282|  7.925| NULL|       S|     1.0|        0.0|\n",
      "|          4|       1|     1|Futrelle, Mrs. Ja...|female|35.0|    1|    0|          113803|   53.1| C123|       S|     1.0|        1.0|\n",
      "|          5|       0|     3|Allen, Mr. Willia...|  male|35.0|    0|    0|          373450|   8.05| NULL|       S|     0.0|        0.0|\n",
      "+-----------+--------+------+--------------------+------+----+-----+-----+----------------+-------+-----+--------+--------+-----------+\n",
      "only showing top 5 rows\n",
      "\n"
     ]
    }
   ],
   "source": [
    "from pyspark.ml.feature import OneHotEncoder\n",
    "\n",
    "pclass_indexer = StringIndexer()\\\n",
    "    .setInputCol('Pclass')\\\n",
    "    .setOutputCol('PclassIndex')\n",
    "\n",
    "pclass_indexer_model = pclass_indexer.fit(df_prep)\n",
    "df_prep = pclass_indexer_model.transform(df_prep)\n",
    "df_prep.show(5)"
   ]
  },
  {
   "cell_type": "code",
   "execution_count": 17,
   "id": "24996886-643c-45de-9c8b-31d59836afd3",
   "metadata": {},
   "outputs": [
    {
     "name": "stdout",
     "output_type": "stream",
     "text": [
      "+-----------+--------+------+--------------------+------+----+-----+-----+----------------+-------+-----+--------+--------+-----------+-------------+\n",
      "|PassengerId|Survived|Pclass|                Name|   Sex| Age|SibSp|Parch|          Ticket|   Fare|Cabin|Embarked|SexIndex|PclassIndex|PclassEncoded|\n",
      "+-----------+--------+------+--------------------+------+----+-----+-----+----------------+-------+-----+--------+--------+-----------+-------------+\n",
      "|          1|       0|     3|Braund, Mr. Owen ...|  male|22.0|    1|    0|       A/5 21171|   7.25| NULL|       S|     0.0|        0.0|(2,[0],[1.0])|\n",
      "|          2|       1|     1|Cumings, Mrs. Joh...|female|38.0|    1|    0|        PC 17599|71.2833|  C85|       C|     1.0|        1.0|(2,[1],[1.0])|\n",
      "|          3|       1|     3|Heikkinen, Miss. ...|female|26.0|    0|    0|STON/O2. 3101282|  7.925| NULL|       S|     1.0|        0.0|(2,[0],[1.0])|\n",
      "|          4|       1|     1|Futrelle, Mrs. Ja...|female|35.0|    1|    0|          113803|   53.1| C123|       S|     1.0|        1.0|(2,[1],[1.0])|\n",
      "|          5|       0|     3|Allen, Mr. Willia...|  male|35.0|    0|    0|          373450|   8.05| NULL|       S|     0.0|        0.0|(2,[0],[1.0])|\n",
      "+-----------+--------+------+--------------------+------+----+-----+-----+----------------+-------+-----+--------+--------+-----------+-------------+\n",
      "only showing top 5 rows\n",
      "\n"
     ]
    }
   ],
   "source": [
    "pclass_encoder = OneHotEncoder()\\\n",
    "    .setInputCol('PclassIndex')\\\n",
    "    .setOutputCol('PclassEncoded')\n",
    "\n",
    "pclass_encoder_model = pclass_encoder.fit(df_prep)\n",
    "df_prep = pclass_encoder_model.transform(df_prep)\n",
    "df_prep.show(5)"
   ]
  },
  {
   "cell_type": "code",
   "execution_count": 18,
   "id": "01485340",
   "metadata": {},
   "outputs": [
    {
     "data": {
      "text/plain": [
       "[Row(PassengerId=1, Survived=0, Pclass=3, Name='Braund, Mr. Owen Harris', Sex='male', Age=22.0, SibSp=1, Parch=0, Ticket='A/5 21171', Fare=7.25, Cabin=None, Embarked='S', SexIndex=0.0, PclassIndex=0.0, PclassEncoded=SparseVector(2, {0: 1.0})),\n",
       " Row(PassengerId=2, Survived=1, Pclass=1, Name='Cumings, Mrs. John Bradley (Florence Briggs Thayer)', Sex='female', Age=38.0, SibSp=1, Parch=0, Ticket='PC 17599', Fare=71.2833, Cabin='C85', Embarked='C', SexIndex=1.0, PclassIndex=1.0, PclassEncoded=SparseVector(2, {1: 1.0})),\n",
       " Row(PassengerId=3, Survived=1, Pclass=3, Name='Heikkinen, Miss. Laina', Sex='female', Age=26.0, SibSp=0, Parch=0, Ticket='STON/O2. 3101282', Fare=7.925, Cabin=None, Embarked='S', SexIndex=1.0, PclassIndex=0.0, PclassEncoded=SparseVector(2, {0: 1.0})),\n",
       " Row(PassengerId=4, Survived=1, Pclass=1, Name='Futrelle, Mrs. Jacques Heath (Lily May Peel)', Sex='female', Age=35.0, SibSp=1, Parch=0, Ticket='113803', Fare=53.1, Cabin='C123', Embarked='S', SexIndex=1.0, PclassIndex=1.0, PclassEncoded=SparseVector(2, {1: 1.0})),\n",
       " Row(PassengerId=5, Survived=0, Pclass=3, Name='Allen, Mr. William Henry', Sex='male', Age=35.0, SibSp=0, Parch=0, Ticket='373450', Fare=8.05, Cabin=None, Embarked='S', SexIndex=0.0, PclassIndex=0.0, PclassEncoded=SparseVector(2, {0: 1.0}))]"
      ]
     },
     "execution_count": 18,
     "metadata": {},
     "output_type": "execute_result"
    }
   ],
   "source": [
    "df_prep.head(5)"
   ]
  },
  {
   "cell_type": "code",
   "execution_count": 19,
   "id": "271258e1",
   "metadata": {},
   "outputs": [
    {
     "data": {
      "text/plain": [
       "SparseVector(2, {0: 1.0})"
      ]
     },
     "execution_count": 19,
     "metadata": {},
     "output_type": "execute_result"
    }
   ],
   "source": [
    "df_prep.head()[-1]"
   ]
  },
  {
   "cell_type": "code",
   "execution_count": 20,
   "id": "5cd7c359",
   "metadata": {},
   "outputs": [
    {
     "name": "stdout",
     "output_type": "stream",
     "text": [
      "+-----------+--------+------+--------------------+------+----+-----+-----+----------------+-------+-----+--------+--------+-----------+-------------+\n",
      "|PassengerId|Survived|Pclass|                Name|   Sex| Age|SibSp|Parch|          Ticket|   Fare|Cabin|Embarked|SexIndex|PclassIndex|PclassEncoded|\n",
      "+-----------+--------+------+--------------------+------+----+-----+-----+----------------+-------+-----+--------+--------+-----------+-------------+\n",
      "|          1|       0|     3|Braund, Mr. Owen ...|  male|22.0|    1|    0|       A/5 21171|   7.25| NULL|       S|     0.0|        0.0|(2,[0],[1.0])|\n",
      "|          2|       1|     1|Cumings, Mrs. Joh...|female|38.0|    1|    0|        PC 17599|71.2833|  C85|       C|     1.0|        1.0|(2,[1],[1.0])|\n",
      "|          3|       1|     3|Heikkinen, Miss. ...|female|26.0|    0|    0|STON/O2. 3101282|  7.925| NULL|       S|     1.0|        0.0|(2,[0],[1.0])|\n",
      "|          4|       1|     1|Futrelle, Mrs. Ja...|female|35.0|    1|    0|          113803|   53.1| C123|       S|     1.0|        1.0|(2,[1],[1.0])|\n",
      "|          5|       0|     3|Allen, Mr. Willia...|  male|35.0|    0|    0|          373450|   8.05| NULL|       S|     0.0|        0.0|(2,[0],[1.0])|\n",
      "|          6|       0|     3|    Moran, Mr. James|  male|NULL|    0|    0|          330877| 8.4583| NULL|       Q|     0.0|        0.0|(2,[0],[1.0])|\n",
      "|          7|       0|     1|McCarthy, Mr. Tim...|  male|54.0|    0|    0|           17463|51.8625|  E46|       S|     0.0|        1.0|(2,[1],[1.0])|\n",
      "|          8|       0|     3|Palsson, Master. ...|  male| 2.0|    3|    1|          349909| 21.075| NULL|       S|     0.0|        0.0|(2,[0],[1.0])|\n",
      "|          9|       1|     3|Johnson, Mrs. Osc...|female|27.0|    0|    2|          347742|11.1333| NULL|       S|     1.0|        0.0|(2,[0],[1.0])|\n",
      "|         10|       1|     2|Nasser, Mrs. Nich...|female|14.0|    1|    0|          237736|30.0708| NULL|       C|     1.0|        2.0|    (2,[],[])|\n",
      "+-----------+--------+------+--------------------+------+----+-----+-----+----------------+-------+-----+--------+--------+-----------+-------------+\n",
      "only showing top 10 rows\n",
      "\n"
     ]
    }
   ],
   "source": [
    "df_prep.show(10)"
   ]
  },
  {
   "cell_type": "markdown",
   "id": "e8a3673d",
   "metadata": {},
   "source": [
    "### Embarked"
   ]
  },
  {
   "cell_type": "code",
   "execution_count": 21,
   "id": "02860d1d",
   "metadata": {},
   "outputs": [
    {
     "data": {
      "text/plain": [
       "2"
      ]
     },
     "execution_count": 21,
     "metadata": {},
     "output_type": "execute_result"
    }
   ],
   "source": [
    "df_prep.filter(df_prep['Embarked'].isNull()).count()"
   ]
  },
  {
   "cell_type": "markdown",
   "id": "5845bf66",
   "metadata": {},
   "source": [
    "<div class=\"alert alert-warning\">\n",
    "\n",
    "<b>Warning! Частая ошибка</b>\n",
    "\n",
    "\n",
    "\n",
    "StringIndexer может работать с пропущенными значениями только в формате <b>NaN</b>, но не <b>NULL</b>!\n",
    "\n",
    "Если мы закодируем значения `Embarked` то мы не увидим ошибки. Мы получим ошибку только при обращении к этой строке!\n",
    "    \n",
    "</div>"
   ]
  },
  {
   "cell_type": "code",
   "execution_count": 22,
   "id": "e6f87fd9",
   "metadata": {},
   "outputs": [
    {
     "name": "stdout",
     "output_type": "stream",
     "text": [
      "+-----------+--------+------+--------------------+------+----+-----+-----+----------------+-------+-----+--------+--------+-----------+-------------+-------------+\n",
      "|PassengerId|Survived|Pclass|                Name|   Sex| Age|SibSp|Parch|          Ticket|   Fare|Cabin|Embarked|SexIndex|PclassIndex|PclassEncoded|EmbarkedIndex|\n",
      "+-----------+--------+------+--------------------+------+----+-----+-----+----------------+-------+-----+--------+--------+-----------+-------------+-------------+\n",
      "|          1|       0|     3|Braund, Mr. Owen ...|  male|22.0|    1|    0|       A/5 21171|   7.25| NULL|       S|     0.0|        0.0|(2,[0],[1.0])|          0.0|\n",
      "|          2|       1|     1|Cumings, Mrs. Joh...|female|38.0|    1|    0|        PC 17599|71.2833|  C85|       C|     1.0|        1.0|(2,[1],[1.0])|          1.0|\n",
      "|          3|       1|     3|Heikkinen, Miss. ...|female|26.0|    0|    0|STON/O2. 3101282|  7.925| NULL|       S|     1.0|        0.0|(2,[0],[1.0])|          0.0|\n",
      "|          4|       1|     1|Futrelle, Mrs. Ja...|female|35.0|    1|    0|          113803|   53.1| C123|       S|     1.0|        1.0|(2,[1],[1.0])|          0.0|\n",
      "|          5|       0|     3|Allen, Mr. Willia...|  male|35.0|    0|    0|          373450|   8.05| NULL|       S|     0.0|        0.0|(2,[0],[1.0])|          0.0|\n",
      "+-----------+--------+------+--------------------+------+----+-----+-----+----------------+-------+-----+--------+--------+-----------+-------------+-------------+\n",
      "only showing top 5 rows\n",
      "\n"
     ]
    }
   ],
   "source": [
    "embark_indexer = StringIndexer()\\\n",
    "    .setInputCol('Embarked')\\\n",
    "    .setOutputCol('EmbarkedIndex')\n",
    "\n",
    "df_err = embark_indexer.fit(df_prep).transform(df_prep)\n",
    "df_err.show(5)"
   ]
  },
  {
   "cell_type": "code",
   "execution_count": 23,
   "id": "1a448702",
   "metadata": {},
   "outputs": [],
   "source": [
    "# uncomment for error\n",
    "\n",
    "# df_err.show(62)"
   ]
  },
  {
   "cell_type": "markdown",
   "id": "6feaba92",
   "metadata": {},
   "source": [
    "#### Заполним пропуски"
   ]
  },
  {
   "cell_type": "code",
   "execution_count": 24,
   "id": "859efb79",
   "metadata": {},
   "outputs": [
    {
     "name": "stdout",
     "output_type": "stream",
     "text": [
      "+-----------+--------+------+--------------------+------+----+-----+-----+----------------+--------+-----------+--------+--------+-----------+-------------+\n",
      "|PassengerId|Survived|Pclass|                Name|   Sex| Age|SibSp|Parch|          Ticket|    Fare|      Cabin|Embarked|SexIndex|PclassIndex|PclassEncoded|\n",
      "+-----------+--------+------+--------------------+------+----+-----+-----+----------------+--------+-----------+--------+--------+-----------+-------------+\n",
      "|          1|       0|     3|Braund, Mr. Owen ...|  male|22.0|    1|    0|       A/5 21171|    7.25|       NULL|       S|     0.0|        0.0|(2,[0],[1.0])|\n",
      "|          2|       1|     1|Cumings, Mrs. Joh...|female|38.0|    1|    0|        PC 17599| 71.2833|        C85|       C|     1.0|        1.0|(2,[1],[1.0])|\n",
      "|          3|       1|     3|Heikkinen, Miss. ...|female|26.0|    0|    0|STON/O2. 3101282|   7.925|       NULL|       S|     1.0|        0.0|(2,[0],[1.0])|\n",
      "|          4|       1|     1|Futrelle, Mrs. Ja...|female|35.0|    1|    0|          113803|    53.1|       C123|       S|     1.0|        1.0|(2,[1],[1.0])|\n",
      "|          5|       0|     3|Allen, Mr. Willia...|  male|35.0|    0|    0|          373450|    8.05|       NULL|       S|     0.0|        0.0|(2,[0],[1.0])|\n",
      "|          6|       0|     3|    Moran, Mr. James|  male|NULL|    0|    0|          330877|  8.4583|       NULL|       Q|     0.0|        0.0|(2,[0],[1.0])|\n",
      "|          7|       0|     1|McCarthy, Mr. Tim...|  male|54.0|    0|    0|           17463| 51.8625|        E46|       S|     0.0|        1.0|(2,[1],[1.0])|\n",
      "|          8|       0|     3|Palsson, Master. ...|  male| 2.0|    3|    1|          349909|  21.075|       NULL|       S|     0.0|        0.0|(2,[0],[1.0])|\n",
      "|          9|       1|     3|Johnson, Mrs. Osc...|female|27.0|    0|    2|          347742| 11.1333|       NULL|       S|     1.0|        0.0|(2,[0],[1.0])|\n",
      "|         10|       1|     2|Nasser, Mrs. Nich...|female|14.0|    1|    0|          237736| 30.0708|       NULL|       C|     1.0|        2.0|    (2,[],[])|\n",
      "|         11|       1|     3|Sandstrom, Miss. ...|female| 4.0|    1|    1|         PP 9549|    16.7|         G6|       S|     1.0|        0.0|(2,[0],[1.0])|\n",
      "|         12|       1|     1|Bonnell, Miss. El...|female|58.0|    0|    0|          113783|   26.55|       C103|       S|     1.0|        1.0|(2,[1],[1.0])|\n",
      "|         13|       0|     3|Saundercock, Mr. ...|  male|20.0|    0|    0|       A/5. 2151|    8.05|       NULL|       S|     0.0|        0.0|(2,[0],[1.0])|\n",
      "|         14|       0|     3|Andersson, Mr. An...|  male|39.0|    1|    5|          347082|  31.275|       NULL|       S|     0.0|        0.0|(2,[0],[1.0])|\n",
      "|         15|       0|     3|Vestrom, Miss. Hu...|female|14.0|    0|    0|          350406|  7.8542|       NULL|       S|     1.0|        0.0|(2,[0],[1.0])|\n",
      "|         16|       1|     2|Hewlett, Mrs. (Ma...|female|55.0|    0|    0|          248706|    16.0|       NULL|       S|     1.0|        2.0|    (2,[],[])|\n",
      "|         17|       0|     3|Rice, Master. Eugene|  male| 2.0|    4|    1|          382652|  29.125|       NULL|       Q|     0.0|        0.0|(2,[0],[1.0])|\n",
      "|         18|       1|     2|Williams, Mr. Cha...|  male|NULL|    0|    0|          244373|    13.0|       NULL|       S|     0.0|        2.0|    (2,[],[])|\n",
      "|         19|       0|     3|Vander Planke, Mr...|female|31.0|    1|    0|          345763|    18.0|       NULL|       S|     1.0|        0.0|(2,[0],[1.0])|\n",
      "|         20|       1|     3|Masselmani, Mrs. ...|female|NULL|    0|    0|            2649|   7.225|       NULL|       C|     1.0|        0.0|(2,[0],[1.0])|\n",
      "|         21|       0|     2|Fynney, Mr. Joseph J|  male|35.0|    0|    0|          239865|    26.0|       NULL|       S|     0.0|        2.0|    (2,[],[])|\n",
      "|         22|       1|     2|Beesley, Mr. Lawr...|  male|34.0|    0|    0|          248698|    13.0|        D56|       S|     0.0|        2.0|    (2,[],[])|\n",
      "|         23|       1|     3|\"McGowan, Miss. A...|female|15.0|    0|    0|          330923|  8.0292|       NULL|       Q|     1.0|        0.0|(2,[0],[1.0])|\n",
      "|         24|       1|     1|Sloper, Mr. Willi...|  male|28.0|    0|    0|          113788|    35.5|         A6|       S|     0.0|        1.0|(2,[1],[1.0])|\n",
      "|         25|       0|     3|Palsson, Miss. To...|female| 8.0|    3|    1|          349909|  21.075|       NULL|       S|     1.0|        0.0|(2,[0],[1.0])|\n",
      "|         26|       1|     3|Asplund, Mrs. Car...|female|38.0|    1|    5|          347077| 31.3875|       NULL|       S|     1.0|        0.0|(2,[0],[1.0])|\n",
      "|         27|       0|     3|Emir, Mr. Farred ...|  male|NULL|    0|    0|            2631|   7.225|       NULL|       C|     0.0|        0.0|(2,[0],[1.0])|\n",
      "|         28|       0|     1|Fortune, Mr. Char...|  male|19.0|    3|    2|           19950|   263.0|C23 C25 C27|       S|     0.0|        1.0|(2,[1],[1.0])|\n",
      "|         29|       1|     3|\"O'Dwyer, Miss. E...|female|NULL|    0|    0|          330959|  7.8792|       NULL|       Q|     1.0|        0.0|(2,[0],[1.0])|\n",
      "|         30|       0|     3| Todoroff, Mr. Lalio|  male|NULL|    0|    0|          349216|  7.8958|       NULL|       S|     0.0|        0.0|(2,[0],[1.0])|\n",
      "|         31|       0|     1|Uruchurtu, Don. M...|  male|40.0|    0|    0|        PC 17601| 27.7208|       NULL|       C|     0.0|        1.0|(2,[1],[1.0])|\n",
      "|         32|       1|     1|Spencer, Mrs. Wil...|female|NULL|    1|    0|        PC 17569|146.5208|        B78|       C|     1.0|        1.0|(2,[1],[1.0])|\n",
      "|         33|       1|     3|Glynn, Miss. Mary...|female|NULL|    0|    0|          335677|    7.75|       NULL|       Q|     1.0|        0.0|(2,[0],[1.0])|\n",
      "|         34|       0|     2|Wheadon, Mr. Edwa...|  male|66.0|    0|    0|      C.A. 24579|    10.5|       NULL|       S|     0.0|        2.0|    (2,[],[])|\n",
      "|         35|       0|     1|Meyer, Mr. Edgar ...|  male|28.0|    1|    0|        PC 17604| 82.1708|       NULL|       C|     0.0|        1.0|(2,[1],[1.0])|\n",
      "|         36|       0|     1|Holverson, Mr. Al...|  male|42.0|    1|    0|          113789|    52.0|       NULL|       S|     0.0|        1.0|(2,[1],[1.0])|\n",
      "|         37|       1|     3|    Mamee, Mr. Hanna|  male|NULL|    0|    0|            2677|  7.2292|       NULL|       C|     0.0|        0.0|(2,[0],[1.0])|\n",
      "|         38|       0|     3|Cann, Mr. Ernest ...|  male|21.0|    0|    0|      A./5. 2152|    8.05|       NULL|       S|     0.0|        0.0|(2,[0],[1.0])|\n",
      "|         39|       0|     3|Vander Planke, Mi...|female|18.0|    2|    0|          345764|    18.0|       NULL|       S|     1.0|        0.0|(2,[0],[1.0])|\n",
      "|         40|       1|     3|Nicola-Yarred, Mi...|female|14.0|    1|    0|            2651| 11.2417|       NULL|       C|     1.0|        0.0|(2,[0],[1.0])|\n",
      "|         41|       0|     3|Ahlin, Mrs. Johan...|female|40.0|    1|    0|            7546|   9.475|       NULL|       S|     1.0|        0.0|(2,[0],[1.0])|\n",
      "|         42|       0|     2|Turpin, Mrs. Will...|female|27.0|    1|    0|           11668|    21.0|       NULL|       S|     1.0|        2.0|    (2,[],[])|\n",
      "|         43|       0|     3| Kraeff, Mr. Theodor|  male|NULL|    0|    0|          349253|  7.8958|       NULL|       C|     0.0|        0.0|(2,[0],[1.0])|\n",
      "|         44|       1|     2|Laroche, Miss. Si...|female| 3.0|    1|    2|   SC/Paris 2123| 41.5792|       NULL|       C|     1.0|        2.0|    (2,[],[])|\n",
      "|         45|       1|     3|Devaney, Miss. Ma...|female|19.0|    0|    0|          330958|  7.8792|       NULL|       Q|     1.0|        0.0|(2,[0],[1.0])|\n",
      "|         46|       0|     3|Rogers, Mr. Willi...|  male|NULL|    0|    0| S.C./A.4. 23567|    8.05|       NULL|       S|     0.0|        0.0|(2,[0],[1.0])|\n",
      "|         47|       0|     3|   Lennon, Mr. Denis|  male|NULL|    1|    0|          370371|    15.5|       NULL|       Q|     0.0|        0.0|(2,[0],[1.0])|\n",
      "|         48|       1|     3|O'Driscoll, Miss....|female|NULL|    0|    0|           14311|    7.75|       NULL|       Q|     1.0|        0.0|(2,[0],[1.0])|\n",
      "|         49|       0|     3| Samaan, Mr. Youssef|  male|NULL|    2|    0|            2662| 21.6792|       NULL|       C|     0.0|        0.0|(2,[0],[1.0])|\n",
      "|         50|       0|     3|Arnold-Franchi, M...|female|18.0|    1|    0|          349237|    17.8|       NULL|       S|     1.0|        0.0|(2,[0],[1.0])|\n",
      "|         51|       0|     3|Panula, Master. J...|  male| 7.0|    4|    1|         3101295| 39.6875|       NULL|       S|     0.0|        0.0|(2,[0],[1.0])|\n",
      "|         52|       0|     3|Nosworthy, Mr. Ri...|  male|21.0|    0|    0|      A/4. 39886|     7.8|       NULL|       S|     0.0|        0.0|(2,[0],[1.0])|\n",
      "|         53|       1|     1|Harper, Mrs. Henr...|female|49.0|    1|    0|        PC 17572| 76.7292|        D33|       C|     1.0|        1.0|(2,[1],[1.0])|\n",
      "|         54|       1|     2|Faunthorpe, Mrs. ...|female|29.0|    1|    0|            2926|    26.0|       NULL|       S|     1.0|        2.0|    (2,[],[])|\n",
      "|         55|       0|     1|Ostby, Mr. Engelh...|  male|65.0|    0|    1|          113509| 61.9792|        B30|       C|     0.0|        1.0|(2,[1],[1.0])|\n",
      "|         56|       1|     1|   Woolner, Mr. Hugh|  male|NULL|    0|    0|           19947|    35.5|        C52|       S|     0.0|        1.0|(2,[1],[1.0])|\n",
      "|         57|       1|     2|   Rugg, Miss. Emily|female|21.0|    0|    0|      C.A. 31026|    10.5|       NULL|       S|     1.0|        2.0|    (2,[],[])|\n",
      "|         58|       0|     3| Novel, Mr. Mansouer|  male|28.5|    0|    0|            2697|  7.2292|       NULL|       C|     0.0|        0.0|(2,[0],[1.0])|\n",
      "|         59|       1|     2|West, Miss. Const...|female| 5.0|    1|    2|      C.A. 34651|   27.75|       NULL|       S|     1.0|        2.0|    (2,[],[])|\n",
      "|         60|       0|     3|Goodwin, Master. ...|  male|11.0|    5|    2|         CA 2144|    46.9|       NULL|       S|     0.0|        0.0|(2,[0],[1.0])|\n",
      "|         61|       0|     3|Sirayanian, Mr. O...|  male|22.0|    0|    0|            2669|  7.2292|       NULL|       C|     0.0|        0.0|(2,[0],[1.0])|\n",
      "|         62|       1|     1| Icard, Miss. Amelie|female|38.0|    0|    0|          113572|    80.0|        B28|       X|     1.0|        1.0|(2,[1],[1.0])|\n",
      "+-----------+--------+------+--------------------+------+----+-----+-----+----------------+--------+-----------+--------+--------+-----------+-------------+\n",
      "only showing top 62 rows\n",
      "\n"
     ]
    }
   ],
   "source": [
    "df_prep = df_prep.fillna('X', subset=['Embarked'])\n",
    "df_prep.show(62)"
   ]
  },
  {
   "cell_type": "code",
   "execution_count": 25,
   "id": "16e64675",
   "metadata": {},
   "outputs": [
    {
     "name": "stdout",
     "output_type": "stream",
     "text": [
      "+-----------+--------+------+--------------------+------+----+-----+-----+----------------+--------+-----------+--------+--------+-----------+-------------+-------------+\n",
      "|PassengerId|Survived|Pclass|                Name|   Sex| Age|SibSp|Parch|          Ticket|    Fare|      Cabin|Embarked|SexIndex|PclassIndex|PclassEncoded|EmbarkedIndex|\n",
      "+-----------+--------+------+--------------------+------+----+-----+-----+----------------+--------+-----------+--------+--------+-----------+-------------+-------------+\n",
      "|          1|       0|     3|Braund, Mr. Owen ...|  male|22.0|    1|    0|       A/5 21171|    7.25|       NULL|       S|     0.0|        0.0|(2,[0],[1.0])|          0.0|\n",
      "|          2|       1|     1|Cumings, Mrs. Joh...|female|38.0|    1|    0|        PC 17599| 71.2833|        C85|       C|     1.0|        1.0|(2,[1],[1.0])|          1.0|\n",
      "|          3|       1|     3|Heikkinen, Miss. ...|female|26.0|    0|    0|STON/O2. 3101282|   7.925|       NULL|       S|     1.0|        0.0|(2,[0],[1.0])|          0.0|\n",
      "|          4|       1|     1|Futrelle, Mrs. Ja...|female|35.0|    1|    0|          113803|    53.1|       C123|       S|     1.0|        1.0|(2,[1],[1.0])|          0.0|\n",
      "|          5|       0|     3|Allen, Mr. Willia...|  male|35.0|    0|    0|          373450|    8.05|       NULL|       S|     0.0|        0.0|(2,[0],[1.0])|          0.0|\n",
      "|          6|       0|     3|    Moran, Mr. James|  male|NULL|    0|    0|          330877|  8.4583|       NULL|       Q|     0.0|        0.0|(2,[0],[1.0])|          2.0|\n",
      "|          7|       0|     1|McCarthy, Mr. Tim...|  male|54.0|    0|    0|           17463| 51.8625|        E46|       S|     0.0|        1.0|(2,[1],[1.0])|          0.0|\n",
      "|          8|       0|     3|Palsson, Master. ...|  male| 2.0|    3|    1|          349909|  21.075|       NULL|       S|     0.0|        0.0|(2,[0],[1.0])|          0.0|\n",
      "|          9|       1|     3|Johnson, Mrs. Osc...|female|27.0|    0|    2|          347742| 11.1333|       NULL|       S|     1.0|        0.0|(2,[0],[1.0])|          0.0|\n",
      "|         10|       1|     2|Nasser, Mrs. Nich...|female|14.0|    1|    0|          237736| 30.0708|       NULL|       C|     1.0|        2.0|    (2,[],[])|          1.0|\n",
      "|         11|       1|     3|Sandstrom, Miss. ...|female| 4.0|    1|    1|         PP 9549|    16.7|         G6|       S|     1.0|        0.0|(2,[0],[1.0])|          0.0|\n",
      "|         12|       1|     1|Bonnell, Miss. El...|female|58.0|    0|    0|          113783|   26.55|       C103|       S|     1.0|        1.0|(2,[1],[1.0])|          0.0|\n",
      "|         13|       0|     3|Saundercock, Mr. ...|  male|20.0|    0|    0|       A/5. 2151|    8.05|       NULL|       S|     0.0|        0.0|(2,[0],[1.0])|          0.0|\n",
      "|         14|       0|     3|Andersson, Mr. An...|  male|39.0|    1|    5|          347082|  31.275|       NULL|       S|     0.0|        0.0|(2,[0],[1.0])|          0.0|\n",
      "|         15|       0|     3|Vestrom, Miss. Hu...|female|14.0|    0|    0|          350406|  7.8542|       NULL|       S|     1.0|        0.0|(2,[0],[1.0])|          0.0|\n",
      "|         16|       1|     2|Hewlett, Mrs. (Ma...|female|55.0|    0|    0|          248706|    16.0|       NULL|       S|     1.0|        2.0|    (2,[],[])|          0.0|\n",
      "|         17|       0|     3|Rice, Master. Eugene|  male| 2.0|    4|    1|          382652|  29.125|       NULL|       Q|     0.0|        0.0|(2,[0],[1.0])|          2.0|\n",
      "|         18|       1|     2|Williams, Mr. Cha...|  male|NULL|    0|    0|          244373|    13.0|       NULL|       S|     0.0|        2.0|    (2,[],[])|          0.0|\n",
      "|         19|       0|     3|Vander Planke, Mr...|female|31.0|    1|    0|          345763|    18.0|       NULL|       S|     1.0|        0.0|(2,[0],[1.0])|          0.0|\n",
      "|         20|       1|     3|Masselmani, Mrs. ...|female|NULL|    0|    0|            2649|   7.225|       NULL|       C|     1.0|        0.0|(2,[0],[1.0])|          1.0|\n",
      "|         21|       0|     2|Fynney, Mr. Joseph J|  male|35.0|    0|    0|          239865|    26.0|       NULL|       S|     0.0|        2.0|    (2,[],[])|          0.0|\n",
      "|         22|       1|     2|Beesley, Mr. Lawr...|  male|34.0|    0|    0|          248698|    13.0|        D56|       S|     0.0|        2.0|    (2,[],[])|          0.0|\n",
      "|         23|       1|     3|\"McGowan, Miss. A...|female|15.0|    0|    0|          330923|  8.0292|       NULL|       Q|     1.0|        0.0|(2,[0],[1.0])|          2.0|\n",
      "|         24|       1|     1|Sloper, Mr. Willi...|  male|28.0|    0|    0|          113788|    35.5|         A6|       S|     0.0|        1.0|(2,[1],[1.0])|          0.0|\n",
      "|         25|       0|     3|Palsson, Miss. To...|female| 8.0|    3|    1|          349909|  21.075|       NULL|       S|     1.0|        0.0|(2,[0],[1.0])|          0.0|\n",
      "|         26|       1|     3|Asplund, Mrs. Car...|female|38.0|    1|    5|          347077| 31.3875|       NULL|       S|     1.0|        0.0|(2,[0],[1.0])|          0.0|\n",
      "|         27|       0|     3|Emir, Mr. Farred ...|  male|NULL|    0|    0|            2631|   7.225|       NULL|       C|     0.0|        0.0|(2,[0],[1.0])|          1.0|\n",
      "|         28|       0|     1|Fortune, Mr. Char...|  male|19.0|    3|    2|           19950|   263.0|C23 C25 C27|       S|     0.0|        1.0|(2,[1],[1.0])|          0.0|\n",
      "|         29|       1|     3|\"O'Dwyer, Miss. E...|female|NULL|    0|    0|          330959|  7.8792|       NULL|       Q|     1.0|        0.0|(2,[0],[1.0])|          2.0|\n",
      "|         30|       0|     3| Todoroff, Mr. Lalio|  male|NULL|    0|    0|          349216|  7.8958|       NULL|       S|     0.0|        0.0|(2,[0],[1.0])|          0.0|\n",
      "|         31|       0|     1|Uruchurtu, Don. M...|  male|40.0|    0|    0|        PC 17601| 27.7208|       NULL|       C|     0.0|        1.0|(2,[1],[1.0])|          1.0|\n",
      "|         32|       1|     1|Spencer, Mrs. Wil...|female|NULL|    1|    0|        PC 17569|146.5208|        B78|       C|     1.0|        1.0|(2,[1],[1.0])|          1.0|\n",
      "|         33|       1|     3|Glynn, Miss. Mary...|female|NULL|    0|    0|          335677|    7.75|       NULL|       Q|     1.0|        0.0|(2,[0],[1.0])|          2.0|\n",
      "|         34|       0|     2|Wheadon, Mr. Edwa...|  male|66.0|    0|    0|      C.A. 24579|    10.5|       NULL|       S|     0.0|        2.0|    (2,[],[])|          0.0|\n",
      "|         35|       0|     1|Meyer, Mr. Edgar ...|  male|28.0|    1|    0|        PC 17604| 82.1708|       NULL|       C|     0.0|        1.0|(2,[1],[1.0])|          1.0|\n",
      "|         36|       0|     1|Holverson, Mr. Al...|  male|42.0|    1|    0|          113789|    52.0|       NULL|       S|     0.0|        1.0|(2,[1],[1.0])|          0.0|\n",
      "|         37|       1|     3|    Mamee, Mr. Hanna|  male|NULL|    0|    0|            2677|  7.2292|       NULL|       C|     0.0|        0.0|(2,[0],[1.0])|          1.0|\n",
      "|         38|       0|     3|Cann, Mr. Ernest ...|  male|21.0|    0|    0|      A./5. 2152|    8.05|       NULL|       S|     0.0|        0.0|(2,[0],[1.0])|          0.0|\n",
      "|         39|       0|     3|Vander Planke, Mi...|female|18.0|    2|    0|          345764|    18.0|       NULL|       S|     1.0|        0.0|(2,[0],[1.0])|          0.0|\n",
      "|         40|       1|     3|Nicola-Yarred, Mi...|female|14.0|    1|    0|            2651| 11.2417|       NULL|       C|     1.0|        0.0|(2,[0],[1.0])|          1.0|\n",
      "|         41|       0|     3|Ahlin, Mrs. Johan...|female|40.0|    1|    0|            7546|   9.475|       NULL|       S|     1.0|        0.0|(2,[0],[1.0])|          0.0|\n",
      "|         42|       0|     2|Turpin, Mrs. Will...|female|27.0|    1|    0|           11668|    21.0|       NULL|       S|     1.0|        2.0|    (2,[],[])|          0.0|\n",
      "|         43|       0|     3| Kraeff, Mr. Theodor|  male|NULL|    0|    0|          349253|  7.8958|       NULL|       C|     0.0|        0.0|(2,[0],[1.0])|          1.0|\n",
      "|         44|       1|     2|Laroche, Miss. Si...|female| 3.0|    1|    2|   SC/Paris 2123| 41.5792|       NULL|       C|     1.0|        2.0|    (2,[],[])|          1.0|\n",
      "|         45|       1|     3|Devaney, Miss. Ma...|female|19.0|    0|    0|          330958|  7.8792|       NULL|       Q|     1.0|        0.0|(2,[0],[1.0])|          2.0|\n",
      "|         46|       0|     3|Rogers, Mr. Willi...|  male|NULL|    0|    0| S.C./A.4. 23567|    8.05|       NULL|       S|     0.0|        0.0|(2,[0],[1.0])|          0.0|\n",
      "|         47|       0|     3|   Lennon, Mr. Denis|  male|NULL|    1|    0|          370371|    15.5|       NULL|       Q|     0.0|        0.0|(2,[0],[1.0])|          2.0|\n",
      "|         48|       1|     3|O'Driscoll, Miss....|female|NULL|    0|    0|           14311|    7.75|       NULL|       Q|     1.0|        0.0|(2,[0],[1.0])|          2.0|\n",
      "|         49|       0|     3| Samaan, Mr. Youssef|  male|NULL|    2|    0|            2662| 21.6792|       NULL|       C|     0.0|        0.0|(2,[0],[1.0])|          1.0|\n",
      "|         50|       0|     3|Arnold-Franchi, M...|female|18.0|    1|    0|          349237|    17.8|       NULL|       S|     1.0|        0.0|(2,[0],[1.0])|          0.0|\n",
      "|         51|       0|     3|Panula, Master. J...|  male| 7.0|    4|    1|         3101295| 39.6875|       NULL|       S|     0.0|        0.0|(2,[0],[1.0])|          0.0|\n",
      "|         52|       0|     3|Nosworthy, Mr. Ri...|  male|21.0|    0|    0|      A/4. 39886|     7.8|       NULL|       S|     0.0|        0.0|(2,[0],[1.0])|          0.0|\n",
      "|         53|       1|     1|Harper, Mrs. Henr...|female|49.0|    1|    0|        PC 17572| 76.7292|        D33|       C|     1.0|        1.0|(2,[1],[1.0])|          1.0|\n",
      "|         54|       1|     2|Faunthorpe, Mrs. ...|female|29.0|    1|    0|            2926|    26.0|       NULL|       S|     1.0|        2.0|    (2,[],[])|          0.0|\n",
      "|         55|       0|     1|Ostby, Mr. Engelh...|  male|65.0|    0|    1|          113509| 61.9792|        B30|       C|     0.0|        1.0|(2,[1],[1.0])|          1.0|\n",
      "|         56|       1|     1|   Woolner, Mr. Hugh|  male|NULL|    0|    0|           19947|    35.5|        C52|       S|     0.0|        1.0|(2,[1],[1.0])|          0.0|\n",
      "|         57|       1|     2|   Rugg, Miss. Emily|female|21.0|    0|    0|      C.A. 31026|    10.5|       NULL|       S|     1.0|        2.0|    (2,[],[])|          0.0|\n",
      "|         58|       0|     3| Novel, Mr. Mansouer|  male|28.5|    0|    0|            2697|  7.2292|       NULL|       C|     0.0|        0.0|(2,[0],[1.0])|          1.0|\n",
      "|         59|       1|     2|West, Miss. Const...|female| 5.0|    1|    2|      C.A. 34651|   27.75|       NULL|       S|     1.0|        2.0|    (2,[],[])|          0.0|\n",
      "|         60|       0|     3|Goodwin, Master. ...|  male|11.0|    5|    2|         CA 2144|    46.9|       NULL|       S|     0.0|        0.0|(2,[0],[1.0])|          0.0|\n",
      "|         61|       0|     3|Sirayanian, Mr. O...|  male|22.0|    0|    0|            2669|  7.2292|       NULL|       C|     0.0|        0.0|(2,[0],[1.0])|          1.0|\n",
      "|         62|       1|     1| Icard, Miss. Amelie|female|38.0|    0|    0|          113572|    80.0|        B28|       X|     1.0|        1.0|(2,[1],[1.0])|          3.0|\n",
      "+-----------+--------+------+--------------------+------+----+-----+-----+----------------+--------+-----------+--------+--------+-----------+-------------+-------------+\n",
      "only showing top 62 rows\n",
      "\n"
     ]
    }
   ],
   "source": [
    "embark_indexer = StringIndexer()\\\n",
    "    .setInputCol('Embarked')\\\n",
    "    .setOutputCol('EmbarkedIndex')\n",
    "\n",
    "embark_indexer_model = embark_indexer.fit(df_prep)\n",
    "df_prep = embark_indexer_model.transform(df_prep)\n",
    "df_prep.show(62)"
   ]
  },
  {
   "cell_type": "code",
   "execution_count": 26,
   "id": "a1ee4497-34b1-4a56-81f2-e87136469127",
   "metadata": {},
   "outputs": [
    {
     "name": "stdout",
     "output_type": "stream",
     "text": [
      "+-----------+--------+------+--------------------+------+----+-----+-----+----------------+-------+-----+--------+--------+-----------+-------------+-------------+---------------+\n",
      "|PassengerId|Survived|Pclass|                Name|   Sex| Age|SibSp|Parch|          Ticket|   Fare|Cabin|Embarked|SexIndex|PclassIndex|PclassEncoded|EmbarkedIndex|EmbarkedEncoded|\n",
      "+-----------+--------+------+--------------------+------+----+-----+-----+----------------+-------+-----+--------+--------+-----------+-------------+-------------+---------------+\n",
      "|          1|       0|     3|Braund, Mr. Owen ...|  male|22.0|    1|    0|       A/5 21171|   7.25| NULL|       S|     0.0|        0.0|(2,[0],[1.0])|          0.0|  (3,[0],[1.0])|\n",
      "|          2|       1|     1|Cumings, Mrs. Joh...|female|38.0|    1|    0|        PC 17599|71.2833|  C85|       C|     1.0|        1.0|(2,[1],[1.0])|          1.0|  (3,[1],[1.0])|\n",
      "|          3|       1|     3|Heikkinen, Miss. ...|female|26.0|    0|    0|STON/O2. 3101282|  7.925| NULL|       S|     1.0|        0.0|(2,[0],[1.0])|          0.0|  (3,[0],[1.0])|\n",
      "|          4|       1|     1|Futrelle, Mrs. Ja...|female|35.0|    1|    0|          113803|   53.1| C123|       S|     1.0|        1.0|(2,[1],[1.0])|          0.0|  (3,[0],[1.0])|\n",
      "|          5|       0|     3|Allen, Mr. Willia...|  male|35.0|    0|    0|          373450|   8.05| NULL|       S|     0.0|        0.0|(2,[0],[1.0])|          0.0|  (3,[0],[1.0])|\n",
      "+-----------+--------+------+--------------------+------+----+-----+-----+----------------+-------+-----+--------+--------+-----------+-------------+-------------+---------------+\n",
      "only showing top 5 rows\n",
      "\n"
     ]
    }
   ],
   "source": [
    "embarked_encoder = OneHotEncoder()\\\n",
    "    .setInputCol('EmbarkedIndex')\\\n",
    "    .setOutputCol('EmbarkedEncoded')\n",
    "\n",
    "embarked_encoder_model = embarked_encoder.fit(df_prep)\n",
    "df_prep = embarked_encoder_model.transform(df_prep)\n",
    "df_prep.show(5)"
   ]
  },
  {
   "cell_type": "markdown",
   "id": "fa47c3a1-c319-482c-990f-3cd508a06cf9",
   "metadata": {},
   "source": [
    "## Нормализация числовых признаков"
   ]
  },
  {
   "cell_type": "markdown",
   "id": "0e780561",
   "metadata": {},
   "source": [
    "### Age"
   ]
  },
  {
   "cell_type": "code",
   "execution_count": 27,
   "id": "3d38a464",
   "metadata": {},
   "outputs": [],
   "source": [
    "from pyspark.ml.feature import Imputer"
   ]
  },
  {
   "cell_type": "code",
   "execution_count": 28,
   "id": "32a75a70-9990-4df0-80f4-c464d2bb2030",
   "metadata": {},
   "outputs": [
    {
     "name": "stdout",
     "output_type": "stream",
     "text": [
      "+-----------+--------+------+--------------------+------+----+-----+-----+----------------+--------+-----------+--------+--------+-----------+-------------+-------------+---------------+-----------------+\n",
      "|PassengerId|Survived|Pclass|                Name|   Sex| Age|SibSp|Parch|          Ticket|    Fare|      Cabin|Embarked|SexIndex|PclassIndex|PclassEncoded|EmbarkedIndex|EmbarkedEncoded|       AgeImputed|\n",
      "+-----------+--------+------+--------------------+------+----+-----+-----+----------------+--------+-----------+--------+--------+-----------+-------------+-------------+---------------+-----------------+\n",
      "|          1|       0|     3|Braund, Mr. Owen ...|  male|22.0|    1|    0|       A/5 21171|    7.25|       NULL|       S|     0.0|        0.0|(2,[0],[1.0])|          0.0|  (3,[0],[1.0])|             22.0|\n",
      "|          2|       1|     1|Cumings, Mrs. Joh...|female|38.0|    1|    0|        PC 17599| 71.2833|        C85|       C|     1.0|        1.0|(2,[1],[1.0])|          1.0|  (3,[1],[1.0])|             38.0|\n",
      "|          3|       1|     3|Heikkinen, Miss. ...|female|26.0|    0|    0|STON/O2. 3101282|   7.925|       NULL|       S|     1.0|        0.0|(2,[0],[1.0])|          0.0|  (3,[0],[1.0])|             26.0|\n",
      "|          4|       1|     1|Futrelle, Mrs. Ja...|female|35.0|    1|    0|          113803|    53.1|       C123|       S|     1.0|        1.0|(2,[1],[1.0])|          0.0|  (3,[0],[1.0])|             35.0|\n",
      "|          5|       0|     3|Allen, Mr. Willia...|  male|35.0|    0|    0|          373450|    8.05|       NULL|       S|     0.0|        0.0|(2,[0],[1.0])|          0.0|  (3,[0],[1.0])|             35.0|\n",
      "|          6|       0|     3|    Moran, Mr. James|  male|NULL|    0|    0|          330877|  8.4583|       NULL|       Q|     0.0|        0.0|(2,[0],[1.0])|          2.0|  (3,[2],[1.0])|29.69911764705882|\n",
      "|          7|       0|     1|McCarthy, Mr. Tim...|  male|54.0|    0|    0|           17463| 51.8625|        E46|       S|     0.0|        1.0|(2,[1],[1.0])|          0.0|  (3,[0],[1.0])|             54.0|\n",
      "|          8|       0|     3|Palsson, Master. ...|  male| 2.0|    3|    1|          349909|  21.075|       NULL|       S|     0.0|        0.0|(2,[0],[1.0])|          0.0|  (3,[0],[1.0])|              2.0|\n",
      "|          9|       1|     3|Johnson, Mrs. Osc...|female|27.0|    0|    2|          347742| 11.1333|       NULL|       S|     1.0|        0.0|(2,[0],[1.0])|          0.0|  (3,[0],[1.0])|             27.0|\n",
      "|         10|       1|     2|Nasser, Mrs. Nich...|female|14.0|    1|    0|          237736| 30.0708|       NULL|       C|     1.0|        2.0|    (2,[],[])|          1.0|  (3,[1],[1.0])|             14.0|\n",
      "|         11|       1|     3|Sandstrom, Miss. ...|female| 4.0|    1|    1|         PP 9549|    16.7|         G6|       S|     1.0|        0.0|(2,[0],[1.0])|          0.0|  (3,[0],[1.0])|              4.0|\n",
      "|         12|       1|     1|Bonnell, Miss. El...|female|58.0|    0|    0|          113783|   26.55|       C103|       S|     1.0|        1.0|(2,[1],[1.0])|          0.0|  (3,[0],[1.0])|             58.0|\n",
      "|         13|       0|     3|Saundercock, Mr. ...|  male|20.0|    0|    0|       A/5. 2151|    8.05|       NULL|       S|     0.0|        0.0|(2,[0],[1.0])|          0.0|  (3,[0],[1.0])|             20.0|\n",
      "|         14|       0|     3|Andersson, Mr. An...|  male|39.0|    1|    5|          347082|  31.275|       NULL|       S|     0.0|        0.0|(2,[0],[1.0])|          0.0|  (3,[0],[1.0])|             39.0|\n",
      "|         15|       0|     3|Vestrom, Miss. Hu...|female|14.0|    0|    0|          350406|  7.8542|       NULL|       S|     1.0|        0.0|(2,[0],[1.0])|          0.0|  (3,[0],[1.0])|             14.0|\n",
      "|         16|       1|     2|Hewlett, Mrs. (Ma...|female|55.0|    0|    0|          248706|    16.0|       NULL|       S|     1.0|        2.0|    (2,[],[])|          0.0|  (3,[0],[1.0])|             55.0|\n",
      "|         17|       0|     3|Rice, Master. Eugene|  male| 2.0|    4|    1|          382652|  29.125|       NULL|       Q|     0.0|        0.0|(2,[0],[1.0])|          2.0|  (3,[2],[1.0])|              2.0|\n",
      "|         18|       1|     2|Williams, Mr. Cha...|  male|NULL|    0|    0|          244373|    13.0|       NULL|       S|     0.0|        2.0|    (2,[],[])|          0.0|  (3,[0],[1.0])|29.69911764705882|\n",
      "|         19|       0|     3|Vander Planke, Mr...|female|31.0|    1|    0|          345763|    18.0|       NULL|       S|     1.0|        0.0|(2,[0],[1.0])|          0.0|  (3,[0],[1.0])|             31.0|\n",
      "|         20|       1|     3|Masselmani, Mrs. ...|female|NULL|    0|    0|            2649|   7.225|       NULL|       C|     1.0|        0.0|(2,[0],[1.0])|          1.0|  (3,[1],[1.0])|29.69911764705882|\n",
      "|         21|       0|     2|Fynney, Mr. Joseph J|  male|35.0|    0|    0|          239865|    26.0|       NULL|       S|     0.0|        2.0|    (2,[],[])|          0.0|  (3,[0],[1.0])|             35.0|\n",
      "|         22|       1|     2|Beesley, Mr. Lawr...|  male|34.0|    0|    0|          248698|    13.0|        D56|       S|     0.0|        2.0|    (2,[],[])|          0.0|  (3,[0],[1.0])|             34.0|\n",
      "|         23|       1|     3|\"McGowan, Miss. A...|female|15.0|    0|    0|          330923|  8.0292|       NULL|       Q|     1.0|        0.0|(2,[0],[1.0])|          2.0|  (3,[2],[1.0])|             15.0|\n",
      "|         24|       1|     1|Sloper, Mr. Willi...|  male|28.0|    0|    0|          113788|    35.5|         A6|       S|     0.0|        1.0|(2,[1],[1.0])|          0.0|  (3,[0],[1.0])|             28.0|\n",
      "|         25|       0|     3|Palsson, Miss. To...|female| 8.0|    3|    1|          349909|  21.075|       NULL|       S|     1.0|        0.0|(2,[0],[1.0])|          0.0|  (3,[0],[1.0])|              8.0|\n",
      "|         26|       1|     3|Asplund, Mrs. Car...|female|38.0|    1|    5|          347077| 31.3875|       NULL|       S|     1.0|        0.0|(2,[0],[1.0])|          0.0|  (3,[0],[1.0])|             38.0|\n",
      "|         27|       0|     3|Emir, Mr. Farred ...|  male|NULL|    0|    0|            2631|   7.225|       NULL|       C|     0.0|        0.0|(2,[0],[1.0])|          1.0|  (3,[1],[1.0])|29.69911764705882|\n",
      "|         28|       0|     1|Fortune, Mr. Char...|  male|19.0|    3|    2|           19950|   263.0|C23 C25 C27|       S|     0.0|        1.0|(2,[1],[1.0])|          0.0|  (3,[0],[1.0])|             19.0|\n",
      "|         29|       1|     3|\"O'Dwyer, Miss. E...|female|NULL|    0|    0|          330959|  7.8792|       NULL|       Q|     1.0|        0.0|(2,[0],[1.0])|          2.0|  (3,[2],[1.0])|29.69911764705882|\n",
      "|         30|       0|     3| Todoroff, Mr. Lalio|  male|NULL|    0|    0|          349216|  7.8958|       NULL|       S|     0.0|        0.0|(2,[0],[1.0])|          0.0|  (3,[0],[1.0])|29.69911764705882|\n",
      "|         31|       0|     1|Uruchurtu, Don. M...|  male|40.0|    0|    0|        PC 17601| 27.7208|       NULL|       C|     0.0|        1.0|(2,[1],[1.0])|          1.0|  (3,[1],[1.0])|             40.0|\n",
      "|         32|       1|     1|Spencer, Mrs. Wil...|female|NULL|    1|    0|        PC 17569|146.5208|        B78|       C|     1.0|        1.0|(2,[1],[1.0])|          1.0|  (3,[1],[1.0])|29.69911764705882|\n",
      "|         33|       1|     3|Glynn, Miss. Mary...|female|NULL|    0|    0|          335677|    7.75|       NULL|       Q|     1.0|        0.0|(2,[0],[1.0])|          2.0|  (3,[2],[1.0])|29.69911764705882|\n",
      "|         34|       0|     2|Wheadon, Mr. Edwa...|  male|66.0|    0|    0|      C.A. 24579|    10.5|       NULL|       S|     0.0|        2.0|    (2,[],[])|          0.0|  (3,[0],[1.0])|             66.0|\n",
      "|         35|       0|     1|Meyer, Mr. Edgar ...|  male|28.0|    1|    0|        PC 17604| 82.1708|       NULL|       C|     0.0|        1.0|(2,[1],[1.0])|          1.0|  (3,[1],[1.0])|             28.0|\n",
      "|         36|       0|     1|Holverson, Mr. Al...|  male|42.0|    1|    0|          113789|    52.0|       NULL|       S|     0.0|        1.0|(2,[1],[1.0])|          0.0|  (3,[0],[1.0])|             42.0|\n",
      "|         37|       1|     3|    Mamee, Mr. Hanna|  male|NULL|    0|    0|            2677|  7.2292|       NULL|       C|     0.0|        0.0|(2,[0],[1.0])|          1.0|  (3,[1],[1.0])|29.69911764705882|\n",
      "|         38|       0|     3|Cann, Mr. Ernest ...|  male|21.0|    0|    0|      A./5. 2152|    8.05|       NULL|       S|     0.0|        0.0|(2,[0],[1.0])|          0.0|  (3,[0],[1.0])|             21.0|\n",
      "|         39|       0|     3|Vander Planke, Mi...|female|18.0|    2|    0|          345764|    18.0|       NULL|       S|     1.0|        0.0|(2,[0],[1.0])|          0.0|  (3,[0],[1.0])|             18.0|\n",
      "|         40|       1|     3|Nicola-Yarred, Mi...|female|14.0|    1|    0|            2651| 11.2417|       NULL|       C|     1.0|        0.0|(2,[0],[1.0])|          1.0|  (3,[1],[1.0])|             14.0|\n",
      "|         41|       0|     3|Ahlin, Mrs. Johan...|female|40.0|    1|    0|            7546|   9.475|       NULL|       S|     1.0|        0.0|(2,[0],[1.0])|          0.0|  (3,[0],[1.0])|             40.0|\n",
      "|         42|       0|     2|Turpin, Mrs. Will...|female|27.0|    1|    0|           11668|    21.0|       NULL|       S|     1.0|        2.0|    (2,[],[])|          0.0|  (3,[0],[1.0])|             27.0|\n",
      "|         43|       0|     3| Kraeff, Mr. Theodor|  male|NULL|    0|    0|          349253|  7.8958|       NULL|       C|     0.0|        0.0|(2,[0],[1.0])|          1.0|  (3,[1],[1.0])|29.69911764705882|\n",
      "|         44|       1|     2|Laroche, Miss. Si...|female| 3.0|    1|    2|   SC/Paris 2123| 41.5792|       NULL|       C|     1.0|        2.0|    (2,[],[])|          1.0|  (3,[1],[1.0])|              3.0|\n",
      "|         45|       1|     3|Devaney, Miss. Ma...|female|19.0|    0|    0|          330958|  7.8792|       NULL|       Q|     1.0|        0.0|(2,[0],[1.0])|          2.0|  (3,[2],[1.0])|             19.0|\n",
      "|         46|       0|     3|Rogers, Mr. Willi...|  male|NULL|    0|    0| S.C./A.4. 23567|    8.05|       NULL|       S|     0.0|        0.0|(2,[0],[1.0])|          0.0|  (3,[0],[1.0])|29.69911764705882|\n",
      "|         47|       0|     3|   Lennon, Mr. Denis|  male|NULL|    1|    0|          370371|    15.5|       NULL|       Q|     0.0|        0.0|(2,[0],[1.0])|          2.0|  (3,[2],[1.0])|29.69911764705882|\n",
      "|         48|       1|     3|O'Driscoll, Miss....|female|NULL|    0|    0|           14311|    7.75|       NULL|       Q|     1.0|        0.0|(2,[0],[1.0])|          2.0|  (3,[2],[1.0])|29.69911764705882|\n",
      "|         49|       0|     3| Samaan, Mr. Youssef|  male|NULL|    2|    0|            2662| 21.6792|       NULL|       C|     0.0|        0.0|(2,[0],[1.0])|          1.0|  (3,[1],[1.0])|29.69911764705882|\n",
      "|         50|       0|     3|Arnold-Franchi, M...|female|18.0|    1|    0|          349237|    17.8|       NULL|       S|     1.0|        0.0|(2,[0],[1.0])|          0.0|  (3,[0],[1.0])|             18.0|\n",
      "|         51|       0|     3|Panula, Master. J...|  male| 7.0|    4|    1|         3101295| 39.6875|       NULL|       S|     0.0|        0.0|(2,[0],[1.0])|          0.0|  (3,[0],[1.0])|              7.0|\n",
      "|         52|       0|     3|Nosworthy, Mr. Ri...|  male|21.0|    0|    0|      A/4. 39886|     7.8|       NULL|       S|     0.0|        0.0|(2,[0],[1.0])|          0.0|  (3,[0],[1.0])|             21.0|\n",
      "|         53|       1|     1|Harper, Mrs. Henr...|female|49.0|    1|    0|        PC 17572| 76.7292|        D33|       C|     1.0|        1.0|(2,[1],[1.0])|          1.0|  (3,[1],[1.0])|             49.0|\n",
      "|         54|       1|     2|Faunthorpe, Mrs. ...|female|29.0|    1|    0|            2926|    26.0|       NULL|       S|     1.0|        2.0|    (2,[],[])|          0.0|  (3,[0],[1.0])|             29.0|\n",
      "|         55|       0|     1|Ostby, Mr. Engelh...|  male|65.0|    0|    1|          113509| 61.9792|        B30|       C|     0.0|        1.0|(2,[1],[1.0])|          1.0|  (3,[1],[1.0])|             65.0|\n",
      "|         56|       1|     1|   Woolner, Mr. Hugh|  male|NULL|    0|    0|           19947|    35.5|        C52|       S|     0.0|        1.0|(2,[1],[1.0])|          0.0|  (3,[0],[1.0])|29.69911764705882|\n",
      "|         57|       1|     2|   Rugg, Miss. Emily|female|21.0|    0|    0|      C.A. 31026|    10.5|       NULL|       S|     1.0|        2.0|    (2,[],[])|          0.0|  (3,[0],[1.0])|             21.0|\n",
      "|         58|       0|     3| Novel, Mr. Mansouer|  male|28.5|    0|    0|            2697|  7.2292|       NULL|       C|     0.0|        0.0|(2,[0],[1.0])|          1.0|  (3,[1],[1.0])|             28.5|\n",
      "|         59|       1|     2|West, Miss. Const...|female| 5.0|    1|    2|      C.A. 34651|   27.75|       NULL|       S|     1.0|        2.0|    (2,[],[])|          0.0|  (3,[0],[1.0])|              5.0|\n",
      "|         60|       0|     3|Goodwin, Master. ...|  male|11.0|    5|    2|         CA 2144|    46.9|       NULL|       S|     0.0|        0.0|(2,[0],[1.0])|          0.0|  (3,[0],[1.0])|             11.0|\n",
      "|         61|       0|     3|Sirayanian, Mr. O...|  male|22.0|    0|    0|            2669|  7.2292|       NULL|       C|     0.0|        0.0|(2,[0],[1.0])|          1.0|  (3,[1],[1.0])|             22.0|\n",
      "|         62|       1|     1| Icard, Miss. Amelie|female|38.0|    0|    0|          113572|    80.0|        B28|       X|     1.0|        1.0|(2,[1],[1.0])|          3.0|      (3,[],[])|             38.0|\n",
      "+-----------+--------+------+--------------------+------+----+-----+-----+----------------+--------+-----------+--------+--------+-----------+-------------+-------------+---------------+-----------------+\n",
      "only showing top 62 rows\n",
      "\n"
     ]
    }
   ],
   "source": [
    "age_imputer = Imputer()\\\n",
    "    .setInputCols(['Age'])\\\n",
    "    .setOutputCols(['AgeImputed'])\\\n",
    "    .setStrategy('mean')\n",
    "\n",
    "\n",
    "age_imputer_model = age_imputer.fit(df_prep)\n",
    "df_prep = age_imputer_model.transform(df_prep)\n",
    "df_prep.show(62)"
   ]
  },
  {
   "cell_type": "code",
   "execution_count": 29,
   "id": "8e9f9781",
   "metadata": {},
   "outputs": [],
   "source": [
    "from pyspark.ml.feature import VectorAssembler"
   ]
  },
  {
   "cell_type": "code",
   "execution_count": 33,
   "id": "1242fd8f-bb3e-4231-a3ab-e0bf023766fe",
   "metadata": {},
   "outputs": [
    {
     "name": "stdout",
     "output_type": "stream",
     "text": [
      "+-----------+--------+------+--------------------+------+----+-----+-----+----------------+-------+-----+--------+--------+-----------+-------------+-------------+---------------+----------+------------------+---------+\n",
      "|PassengerId|Survived|Pclass|                Name|   Sex| Age|SibSp|Parch|          Ticket|   Fare|Cabin|Embarked|SexIndex|PclassIndex|PclassEncoded|EmbarkedIndex|EmbarkedEncoded|AgeImputed|   AssembledVector|AgeVector|\n",
      "+-----------+--------+------+--------------------+------+----+-----+-----+----------------+-------+-----+--------+--------+-----------+-------------+-------------+---------------+----------+------------------+---------+\n",
      "|          1|       0|     3|Braund, Mr. Owen ...|  male|22.0|    1|    0|       A/5 21171|   7.25| NULL|       S|     0.0|        0.0|(2,[0],[1.0])|          0.0|  (3,[0],[1.0])|      22.0|[22.0,1.0,0.0,0.0]|   [22.0]|\n",
      "|          2|       1|     1|Cumings, Mrs. Joh...|female|38.0|    1|    0|        PC 17599|71.2833|  C85|       C|     1.0|        1.0|(2,[1],[1.0])|          1.0|  (3,[1],[1.0])|      38.0|[38.0,0.0,1.0,0.0]|   [38.0]|\n",
      "|          3|       1|     3|Heikkinen, Miss. ...|female|26.0|    0|    0|STON/O2. 3101282|  7.925| NULL|       S|     1.0|        0.0|(2,[0],[1.0])|          0.0|  (3,[0],[1.0])|      26.0|[26.0,1.0,0.0,0.0]|   [26.0]|\n",
      "|          4|       1|     1|Futrelle, Mrs. Ja...|female|35.0|    1|    0|          113803|   53.1| C123|       S|     1.0|        1.0|(2,[1],[1.0])|          0.0|  (3,[0],[1.0])|      35.0|[35.0,1.0,0.0,0.0]|   [35.0]|\n",
      "|          5|       0|     3|Allen, Mr. Willia...|  male|35.0|    0|    0|          373450|   8.05| NULL|       S|     0.0|        0.0|(2,[0],[1.0])|          0.0|  (3,[0],[1.0])|      35.0|[35.0,1.0,0.0,0.0]|   [35.0]|\n",
      "+-----------+--------+------+--------------------+------+----+-----+-----+----------------+-------+-----+--------+--------+-----------+-------------+-------------+---------------+----------+------------------+---------+\n",
      "only showing top 5 rows\n",
      "\n"
     ]
    }
   ],
   "source": [
    "age_assembler = VectorAssembler()\\\n",
    "    .setInputCols([\"AgeImputed\"])\\\n",
    "    .setOutputCol(\"AgeVector\")\n",
    "\n",
    "df_prep = age_assembler.transform(df_prep)\n",
    "df_prep.show(5)"
   ]
  },
  {
   "cell_type": "code",
   "execution_count": 34,
   "id": "10f81d33",
   "metadata": {},
   "outputs": [],
   "source": [
    "from pyspark.ml.feature import MinMaxScaler"
   ]
  },
  {
   "cell_type": "code",
   "execution_count": 35,
   "id": "dc5a87d0-4fb7-4d78-84e0-2f3d3e9458ea",
   "metadata": {},
   "outputs": [
    {
     "name": "stdout",
     "output_type": "stream",
     "text": [
      "+-----------+--------+------+--------------------+------+----+-----+-----+----------------+-------+-----+--------+--------+-----------+-------------+-------------+---------------+----------+------------------+---------+--------------------+\n",
      "|PassengerId|Survived|Pclass|                Name|   Sex| Age|SibSp|Parch|          Ticket|   Fare|Cabin|Embarked|SexIndex|PclassIndex|PclassEncoded|EmbarkedIndex|EmbarkedEncoded|AgeImputed|   AssembledVector|AgeVector|           AgeScaled|\n",
      "+-----------+--------+------+--------------------+------+----+-----+-----+----------------+-------+-----+--------+--------+-----------+-------------+-------------+---------------+----------+------------------+---------+--------------------+\n",
      "|          1|       0|     3|Braund, Mr. Owen ...|  male|22.0|    1|    0|       A/5 21171|   7.25| NULL|       S|     0.0|        0.0|(2,[0],[1.0])|          0.0|  (3,[0],[1.0])|      22.0|[22.0,1.0,0.0,0.0]|   [22.0]|[0.2711736617240513]|\n",
      "|          2|       1|     1|Cumings, Mrs. Joh...|female|38.0|    1|    0|        PC 17599|71.2833|  C85|       C|     1.0|        1.0|(2,[1],[1.0])|          1.0|  (3,[1],[1.0])|      38.0|[38.0,0.0,1.0,0.0]|   [38.0]|[0.4722292033174164]|\n",
      "|          3|       1|     3|Heikkinen, Miss. ...|female|26.0|    0|    0|STON/O2. 3101282|  7.925| NULL|       S|     1.0|        0.0|(2,[0],[1.0])|          0.0|  (3,[0],[1.0])|      26.0|[26.0,1.0,0.0,0.0]|   [26.0]|[0.32143754712239...|\n",
      "|          4|       1|     1|Futrelle, Mrs. Ja...|female|35.0|    1|    0|          113803|   53.1| C123|       S|     1.0|        1.0|(2,[1],[1.0])|          0.0|  (3,[0],[1.0])|      35.0|[35.0,1.0,0.0,0.0]|   [35.0]|[0.43453128926866...|\n",
      "|          5|       0|     3|Allen, Mr. Willia...|  male|35.0|    0|    0|          373450|   8.05| NULL|       S|     0.0|        0.0|(2,[0],[1.0])|          0.0|  (3,[0],[1.0])|      35.0|[35.0,1.0,0.0,0.0]|   [35.0]|[0.43453128926866...|\n",
      "+-----------+--------+------+--------------------+------+----+-----+-----+----------------+-------+-----+--------+--------+-----------+-------------+-------------+---------------+----------+------------------+---------+--------------------+\n",
      "only showing top 5 rows\n",
      "\n"
     ]
    }
   ],
   "source": [
    "age_scaler = MinMaxScaler()\\\n",
    "    .setInputCol('AgeVector')\\\n",
    "    .setOutputCol('AgeScaled')\n",
    "\n",
    "age_scaler_model = age_scaler.fit(df_prep)\n",
    "df_prep = age_scaler_model.transform(df_prep)\n",
    "df_prep.show(5)"
   ]
  },
  {
   "cell_type": "code",
   "execution_count": 36,
   "id": "7d09d75e",
   "metadata": {},
   "outputs": [
    {
     "data": {
      "text/plain": [
       "0"
      ]
     },
     "execution_count": 36,
     "metadata": {},
     "output_type": "execute_result"
    }
   ],
   "source": [
    "df_prep.filter(df_prep['Fare'].isNull()).count()"
   ]
  },
  {
   "cell_type": "code",
   "execution_count": 37,
   "id": "4344fef9",
   "metadata": {},
   "outputs": [
    {
     "name": "stdout",
     "output_type": "stream",
     "text": [
      "+-----------+--------+------+--------------------+------+----+-----+-----+----------------+-------+-----+--------+--------+-----------+-------------+-------------+---------------+----------+------------------+---------+--------------------+-----------+\n",
      "|PassengerId|Survived|Pclass|                Name|   Sex| Age|SibSp|Parch|          Ticket|   Fare|Cabin|Embarked|SexIndex|PclassIndex|PclassEncoded|EmbarkedIndex|EmbarkedEncoded|AgeImputed|   AssembledVector|AgeVector|           AgeScaled|FareImputed|\n",
      "+-----------+--------+------+--------------------+------+----+-----+-----+----------------+-------+-----+--------+--------+-----------+-------------+-------------+---------------+----------+------------------+---------+--------------------+-----------+\n",
      "|          1|       0|     3|Braund, Mr. Owen ...|  male|22.0|    1|    0|       A/5 21171|   7.25| NULL|       S|     0.0|        0.0|(2,[0],[1.0])|          0.0|  (3,[0],[1.0])|      22.0|[22.0,1.0,0.0,0.0]|   [22.0]|[0.2711736617240513]|       7.25|\n",
      "|          2|       1|     1|Cumings, Mrs. Joh...|female|38.0|    1|    0|        PC 17599|71.2833|  C85|       C|     1.0|        1.0|(2,[1],[1.0])|          1.0|  (3,[1],[1.0])|      38.0|[38.0,0.0,1.0,0.0]|   [38.0]|[0.4722292033174164]|    71.2833|\n",
      "|          3|       1|     3|Heikkinen, Miss. ...|female|26.0|    0|    0|STON/O2. 3101282|  7.925| NULL|       S|     1.0|        0.0|(2,[0],[1.0])|          0.0|  (3,[0],[1.0])|      26.0|[26.0,1.0,0.0,0.0]|   [26.0]|[0.32143754712239...|      7.925|\n",
      "|          4|       1|     1|Futrelle, Mrs. Ja...|female|35.0|    1|    0|          113803|   53.1| C123|       S|     1.0|        1.0|(2,[1],[1.0])|          0.0|  (3,[0],[1.0])|      35.0|[35.0,1.0,0.0,0.0]|   [35.0]|[0.43453128926866...|       53.1|\n",
      "|          5|       0|     3|Allen, Mr. Willia...|  male|35.0|    0|    0|          373450|   8.05| NULL|       S|     0.0|        0.0|(2,[0],[1.0])|          0.0|  (3,[0],[1.0])|      35.0|[35.0,1.0,0.0,0.0]|   [35.0]|[0.43453128926866...|       8.05|\n",
      "+-----------+--------+------+--------------------+------+----+-----+-----+----------------+-------+-----+--------+--------+-----------+-------------+-------------+---------------+----------+------------------+---------+--------------------+-----------+\n",
      "only showing top 5 rows\n",
      "\n"
     ]
    }
   ],
   "source": [
    "fare_imputer = Imputer(inputCol=\"Fare\", outputCol=\"FareImputed\")\n",
    "fare_imputer_model = fare_imputer.fit(df_prep)\n",
    "df_prep = fare_imputer_model.transform(df_prep)\n",
    "df_prep.show(5)"
   ]
  },
  {
   "cell_type": "code",
   "execution_count": 38,
   "id": "41d50b51",
   "metadata": {},
   "outputs": [
    {
     "name": "stdout",
     "output_type": "stream",
     "text": [
      "+-----------+--------+------+--------------------+------+----+-----+-----+----------------+-------+-----+--------+--------+-----------+-------------+-------------+---------------+----------+------------------+---------+--------------------+-----------+----------+\n",
      "|PassengerId|Survived|Pclass|                Name|   Sex| Age|SibSp|Parch|          Ticket|   Fare|Cabin|Embarked|SexIndex|PclassIndex|PclassEncoded|EmbarkedIndex|EmbarkedEncoded|AgeImputed|   AssembledVector|AgeVector|           AgeScaled|FareImputed|FareVector|\n",
      "+-----------+--------+------+--------------------+------+----+-----+-----+----------------+-------+-----+--------+--------+-----------+-------------+-------------+---------------+----------+------------------+---------+--------------------+-----------+----------+\n",
      "|          1|       0|     3|Braund, Mr. Owen ...|  male|22.0|    1|    0|       A/5 21171|   7.25| NULL|       S|     0.0|        0.0|(2,[0],[1.0])|          0.0|  (3,[0],[1.0])|      22.0|[22.0,1.0,0.0,0.0]|   [22.0]|[0.2711736617240513]|       7.25|    [7.25]|\n",
      "|          2|       1|     1|Cumings, Mrs. Joh...|female|38.0|    1|    0|        PC 17599|71.2833|  C85|       C|     1.0|        1.0|(2,[1],[1.0])|          1.0|  (3,[1],[1.0])|      38.0|[38.0,0.0,1.0,0.0]|   [38.0]|[0.4722292033174164]|    71.2833| [71.2833]|\n",
      "|          3|       1|     3|Heikkinen, Miss. ...|female|26.0|    0|    0|STON/O2. 3101282|  7.925| NULL|       S|     1.0|        0.0|(2,[0],[1.0])|          0.0|  (3,[0],[1.0])|      26.0|[26.0,1.0,0.0,0.0]|   [26.0]|[0.32143754712239...|      7.925|   [7.925]|\n",
      "|          4|       1|     1|Futrelle, Mrs. Ja...|female|35.0|    1|    0|          113803|   53.1| C123|       S|     1.0|        1.0|(2,[1],[1.0])|          0.0|  (3,[0],[1.0])|      35.0|[35.0,1.0,0.0,0.0]|   [35.0]|[0.43453128926866...|       53.1|    [53.1]|\n",
      "|          5|       0|     3|Allen, Mr. Willia...|  male|35.0|    0|    0|          373450|   8.05| NULL|       S|     0.0|        0.0|(2,[0],[1.0])|          0.0|  (3,[0],[1.0])|      35.0|[35.0,1.0,0.0,0.0]|   [35.0]|[0.43453128926866...|       8.05|    [8.05]|\n",
      "+-----------+--------+------+--------------------+------+----+-----+-----+----------------+-------+-----+--------+--------+-----------+-------------+-------------+---------------+----------+------------------+---------+--------------------+-----------+----------+\n",
      "only showing top 5 rows\n",
      "\n"
     ]
    }
   ],
   "source": [
    "fare_assembler = VectorAssembler(inputCols=[\"FareImputed\"], outputCol=\"FareVector\")\n",
    "df_prep = fare_assembler.transform(df_prep)\n",
    "df_prep.show(5)"
   ]
  },
  {
   "cell_type": "code",
   "execution_count": 39,
   "id": "b21f80d4-1586-4cff-a70e-20cf350576a8",
   "metadata": {},
   "outputs": [
    {
     "name": "stdout",
     "output_type": "stream",
     "text": [
      "+-----------+--------+------+--------------------+------+----+-----+-----+----------------+-------+-----+--------+--------+-----------+-------------+-------------+---------------+----------+------------------+---------+--------------------+-----------+----------+--------------------+\n",
      "|PassengerId|Survived|Pclass|                Name|   Sex| Age|SibSp|Parch|          Ticket|   Fare|Cabin|Embarked|SexIndex|PclassIndex|PclassEncoded|EmbarkedIndex|EmbarkedEncoded|AgeImputed|   AssembledVector|AgeVector|           AgeScaled|FareImputed|FareVector|          FareScaled|\n",
      "+-----------+--------+------+--------------------+------+----+-----+-----+----------------+-------+-----+--------+--------+-----------+-------------+-------------+---------------+----------+------------------+---------+--------------------+-----------+----------+--------------------+\n",
      "|          1|       0|     3|Braund, Mr. Owen ...|  male|22.0|    1|    0|       A/5 21171|   7.25| NULL|       S|     0.0|        0.0|(2,[0],[1.0])|          0.0|  (3,[0],[1.0])|      22.0|[22.0,1.0,0.0,0.0]|   [22.0]|[0.2711736617240513]|       7.25|    [7.25]|[0.3137957600782542]|\n",
      "|          2|       1|     1|Cumings, Mrs. Joh...|female|38.0|    1|    0|        PC 17599|71.2833|  C85|       C|     1.0|        1.0|(2,[1],[1.0])|          1.0|  (3,[1],[1.0])|      38.0|[38.0,0.0,1.0,0.0]|   [38.0]|[0.4722292033174164]|    71.2833| [71.2833]|  [3.08529617991534]|\n",
      "|          3|       1|     3|Heikkinen, Miss. ...|female|26.0|    0|    0|STON/O2. 3101282|  7.925| NULL|       S|     1.0|        0.0|(2,[0],[1.0])|          0.0|  (3,[0],[1.0])|      26.0|[26.0,1.0,0.0,0.0]|   [26.0]|[0.32143754712239...|      7.925|   [7.925]|[0.34301122739588...|\n",
      "|          4|       1|     1|Futrelle, Mrs. Ja...|female|35.0|    1|    0|          113803|   53.1| C123|       S|     1.0|        1.0|(2,[1],[1.0])|          0.0|  (3,[0],[1.0])|      35.0|[35.0,1.0,0.0,0.0]|   [35.0]|[0.43453128926866...|       53.1|    [53.1]|[2.2982834289869376]|\n",
      "|          5|       0|     3|Allen, Mr. Willia...|  male|35.0|    0|    0|          373450|   8.05| NULL|       S|     0.0|        0.0|(2,[0],[1.0])|          0.0|  (3,[0],[1.0])|      35.0|[35.0,1.0,0.0,0.0]|   [35.0]|[0.43453128926866...|       8.05|    [8.05]|[0.34842149912137...|\n",
      "+-----------+--------+------+--------------------+------+----+-----+-----+----------------+-------+-----+--------+--------+-----------+-------------+-------------+---------------+----------+------------------+---------+--------------------+-----------+----------+--------------------+\n",
      "only showing top 5 rows\n",
      "\n"
     ]
    }
   ],
   "source": [
    "from pyspark.ml.feature import RobustScaler\n",
    "\n",
    "fare_scaler = RobustScaler(inputCol=\"FareVector\", outputCol=\"FareScaled\")\n",
    "fare_scaler_model = fare_scaler.fit(df_prep)\n",
    "df_prep = fare_scaler_model.transform(df_prep)\n",
    "df_prep.show(5)\n"
   ]
  },
  {
   "cell_type": "markdown",
   "id": "9db36a7a-2ba4-41dc-b35a-ffd4ee48ff15",
   "metadata": {},
   "source": [
    "## Собираем вектор признаков\n",
    "\n",
    "Для алгоритмов МО из Spark MlLib нужно подавать на вход столбец с вектором признаков"
   ]
  },
  {
   "cell_type": "code",
   "execution_count": 40,
   "id": "82def020-a5a5-4d8b-b51d-5589f19bc89e",
   "metadata": {},
   "outputs": [
    {
     "name": "stdout",
     "output_type": "stream",
     "text": [
      "+-----------+--------+------+--------------------+------+----+-----+-----+----------------+-------+-----+--------+--------+-----------+-------------+----------+---------+--------------------+-----------+----------+--------------------+--------------------+\n",
      "|PassengerId|Survived|Pclass|                Name|   Sex| Age|SibSp|Parch|          Ticket|   Fare|Cabin|Embarked|SexIndex|PclassIndex|PclassEncoded|AgeImputed|AgeVector|           AgeScaled|FareImputed|FareVector|          FareScaled|            Features|\n",
      "+-----------+--------+------+--------------------+------+----+-----+-----+----------------+-------+-----+--------+--------+-----------+-------------+----------+---------+--------------------+-----------+----------+--------------------+--------------------+\n",
      "|          1|       0|     3|Braund, Mr. Owen ...|  male|22.0|    1|    0|       A/5 21171|   7.25| NULL|       S|     0.0|        0.0|(2,[0],[1.0])|      22.0|   [22.0]|[0.2711736617240513]|       7.25|    [7.25]|[0.3137957600782542]|[0.0,1.0,0.0,0.27...|\n",
      "|          2|       1|     1|Cumings, Mrs. Joh...|female|38.0|    1|    0|        PC 17599|71.2833|  C85|       C|     1.0|        1.0|(2,[1],[1.0])|      38.0|   [38.0]|[0.4722292033174164]|    71.2833| [71.2833]|  [3.08529617991534]|[1.0,0.0,1.0,0.47...|\n",
      "|          3|       1|     3|Heikkinen, Miss. ...|female|26.0|    0|    0|STON/O2. 3101282|  7.925| NULL|       S|     1.0|        0.0|(2,[0],[1.0])|      26.0|   [26.0]|[0.32143754712239...|      7.925|   [7.925]|[0.34301122739588...|[1.0,1.0,0.0,0.32...|\n",
      "|          4|       1|     1|Futrelle, Mrs. Ja...|female|35.0|    1|    0|          113803|   53.1| C123|       S|     1.0|        1.0|(2,[1],[1.0])|      35.0|   [35.0]|[0.43453128926866...|       53.1|    [53.1]|[2.2982834289869376]|[1.0,0.0,1.0,0.43...|\n",
      "|          5|       0|     3|Allen, Mr. Willia...|  male|35.0|    0|    0|          373450|   8.05| NULL|       S|     0.0|        0.0|(2,[0],[1.0])|      35.0|   [35.0]|[0.43453128926866...|       8.05|    [8.05]|[0.34842149912137...|[0.0,1.0,0.0,0.43...|\n",
      "+-----------+--------+------+--------------------+------+----+-----+-----+----------------+-------+-----+--------+--------+-----------+-------------+----------+---------+--------------------+-----------+----------+--------------------+--------------------+\n",
      "only showing top 5 rows\n",
      "\n"
     ]
    }
   ],
   "source": [
    "from pyspark.ml.feature import VectorAssembler\n",
    "\n",
    "features_assembler = VectorAssembler(inputCols=[\n",
    "    \"SexIndex\",\n",
    "    \"PclassEncoded\",\n",
    "    \"AgeScaled\",\n",
    "    \"FareScaled\",\n",
    "    ],\n",
    "    outputCol=\"Features\",\n",
    ")\n",
    "\n",
    "prep_df = df\n",
    "prep_df = sex_indexer_model.transform(prep_df)\n",
    "prep_df = pclass_indexer_model.transform(prep_df)\n",
    "prep_df = pclass_encoder_model.transform(prep_df)\n",
    "prep_df = age_imputer_model.transform(prep_df)\n",
    "prep_df = age_assembler.transform(prep_df)\n",
    "prep_df = age_scaler_model.transform(prep_df)\n",
    "prep_df = fare_imputer_model.transform(prep_df)\n",
    "prep_df = fare_assembler.transform(prep_df)\n",
    "prep_df = fare_scaler_model.transform(prep_df)\n",
    "feat_df = features_assembler.transform(prep_df)\n",
    "\n",
    "feat_df.show(5)"
   ]
  },
  {
   "cell_type": "markdown",
   "id": "3b9345ad-3940-47a9-ba7c-8f2366694565",
   "metadata": {},
   "source": [
    "## Конвейер\n",
    "\n",
    "Объединим различные этапы подготовки признаков в единый конвейер"
   ]
  },
  {
   "cell_type": "code",
   "execution_count": 41,
   "id": "13282510-87e9-44db-8c62-730f614f705b",
   "metadata": {},
   "outputs": [],
   "source": [
    "from pyspark.ml.pipeline import Pipeline\n",
    "\n",
    "feat_ext_pipe = Pipeline(stages=[\n",
    "    sex_indexer,\n",
    "    pclass_indexer,\n",
    "    pclass_encoder,\n",
    "    age_imputer,\n",
    "    age_assembler,\n",
    "    age_scaler,\n",
    "    fare_imputer_model,\n",
    "    fare_assembler,\n",
    "    fare_scaler_model,\n",
    "    features_assembler,\n",
    "]).fit(df)\n"
   ]
  },
  {
   "cell_type": "code",
   "execution_count": 42,
   "id": "4938218e-c8dd-4440-af04-63ddd99309d6",
   "metadata": {},
   "outputs": [
    {
     "name": "stdout",
     "output_type": "stream",
     "text": [
      "+-----------+--------+------+--------------------+------+----+-----+-----+----------------+-------+-----+--------+--------+-----------+-------------+----------+---------+--------------------+-----------+----------+--------------------+--------------------+\n",
      "|PassengerId|Survived|Pclass|                Name|   Sex| Age|SibSp|Parch|          Ticket|   Fare|Cabin|Embarked|SexIndex|PclassIndex|PclassEncoded|AgeImputed|AgeVector|           AgeScaled|FareImputed|FareVector|          FareScaled|            Features|\n",
      "+-----------+--------+------+--------------------+------+----+-----+-----+----------------+-------+-----+--------+--------+-----------+-------------+----------+---------+--------------------+-----------+----------+--------------------+--------------------+\n",
      "|          1|       0|     3|Braund, Mr. Owen ...|  male|22.0|    1|    0|       A/5 21171|   7.25| NULL|       S|     0.0|        0.0|(2,[0],[1.0])|      22.0|   [22.0]|[0.2711736617240513]|       7.25|    [7.25]|[0.3137957600782542]|[0.0,1.0,0.0,0.27...|\n",
      "|          2|       1|     1|Cumings, Mrs. Joh...|female|38.0|    1|    0|        PC 17599|71.2833|  C85|       C|     1.0|        1.0|(2,[1],[1.0])|      38.0|   [38.0]|[0.4722292033174164]|    71.2833| [71.2833]|  [3.08529617991534]|[1.0,0.0,1.0,0.47...|\n",
      "|          3|       1|     3|Heikkinen, Miss. ...|female|26.0|    0|    0|STON/O2. 3101282|  7.925| NULL|       S|     1.0|        0.0|(2,[0],[1.0])|      26.0|   [26.0]|[0.32143754712239...|      7.925|   [7.925]|[0.34301122739588...|[1.0,1.0,0.0,0.32...|\n",
      "|          4|       1|     1|Futrelle, Mrs. Ja...|female|35.0|    1|    0|          113803|   53.1| C123|       S|     1.0|        1.0|(2,[1],[1.0])|      35.0|   [35.0]|[0.43453128926866...|       53.1|    [53.1]|[2.2982834289869376]|[1.0,0.0,1.0,0.43...|\n",
      "|          5|       0|     3|Allen, Mr. Willia...|  male|35.0|    0|    0|          373450|   8.05| NULL|       S|     0.0|        0.0|(2,[0],[1.0])|      35.0|   [35.0]|[0.43453128926866...|       8.05|    [8.05]|[0.34842149912137...|[0.0,1.0,0.0,0.43...|\n",
      "+-----------+--------+------+--------------------+------+----+-----+-----+----------------+-------+-----+--------+--------+-----------+-------------+----------+---------+--------------------+-----------+----------+--------------------+--------------------+\n",
      "only showing top 5 rows\n",
      "\n"
     ]
    }
   ],
   "source": [
    "feat_df = feat_ext_pipe.transform(df)\n",
    "feat_df.show(5)"
   ]
  },
  {
   "cell_type": "markdown",
   "id": "12301aa7-7a2e-40ff-a614-f4787ac826d0",
   "metadata": {},
   "source": [
    "## Сохранение\n",
    "\n",
    "Сохраним конвейер на диск для последующего использования при подготовке других данных"
   ]
  },
  {
   "cell_type": "code",
   "execution_count": 43,
   "id": "ab7c8ac4-69df-4254-84be-46d721135348",
   "metadata": {},
   "outputs": [
    {
     "name": "stderr",
     "output_type": "stream",
     "text": [
      "                                                                                \r"
     ]
    }
   ],
   "source": [
    "feat_ext_pipe.write().overwrite().save(f\"{app_name}_feat_exty_pipe\")"
   ]
  },
  {
   "cell_type": "markdown",
   "id": "f6475fe2-2ea6-46e1-a811-b67352b9e593",
   "metadata": {},
   "source": [
    "## Обработка тестовых данных"
   ]
  },
  {
   "cell_type": "code",
   "execution_count": 44,
   "id": "5a974467-d06e-478f-b9ef-3113bf572edf",
   "metadata": {},
   "outputs": [
    {
     "name": "stdout",
     "output_type": "stream",
     "text": [
      "+-----------+------+--------------------+------+----+-----+-----+-------+-------+-----+--------+--------+-----------+-------------+----------+---------+--------------------+-----------+----------+--------------------+--------------------+\n",
      "|PassengerId|Pclass|                Name|   Sex| Age|SibSp|Parch| Ticket|   Fare|Cabin|Embarked|SexIndex|PclassIndex|PclassEncoded|AgeImputed|AgeVector|           AgeScaled|FareImputed|FareVector|          FareScaled|            Features|\n",
      "+-----------+------+--------------------+------+----+-----+-----+-------+-------+-----+--------+--------+-----------+-------------+----------+---------+--------------------+-----------+----------+--------------------+--------------------+\n",
      "|        892|     3|    Kelly, Mr. James|  male|34.5|    0|    0| 330911| 7.8292| NULL|       Q|     0.0|        0.0|(2,[0],[1.0])|      34.5|   [34.5]|[0.4282483035938678]|     7.8292|  [7.8292]|[0.3388647951454714]|[0.0,1.0,0.0,0.42...|\n",
      "|        893|     3|Wilkes, Mrs. Jame...|female|47.0|    1|    0| 363272|    7.0| NULL|       S|     1.0|        0.0|(2,[0],[1.0])|      47.0|   [47.0]|[0.5853229454636844]|        7.0|     [7.0]|[0.3029752166272799]|[1.0,1.0,0.0,0.58...|\n",
      "|        894|     2|Myles, Mr. Thomas...|  male|62.0|    0|    0| 240276| 9.6875| NULL|       Q|     0.0|        2.0|    (2,[],[])|      62.0|   [62.0]|[0.7738125157074641]|     9.6875|  [9.6875]|[0.41929605872525...|(5,[3,4],[0.77381...|\n",
      "|        895|     3|    Wirz, Mr. Albert|  male|27.0|    0|    0| 315154| 8.6625| NULL|       S|     0.0|        0.0|(2,[0],[1.0])|      27.0|   [27.0]|[0.33400351847197...|     8.6625|  [8.6625]|[0.3749318305762589]|[0.0,1.0,0.0,0.33...|\n",
      "|        896|     3|Hirvonen, Mrs. Al...|female|22.0|    1|    1|3101298|12.2875| NULL|       S|     1.0|        0.0|(2,[0],[1.0])|      22.0|   [22.0]|[0.2711736617240513]|    12.2875| [12.2875]| [0.531829710615386]|[1.0,1.0,0.0,0.27...|\n",
      "+-----------+------+--------------------+------+----+-----+-----+-------+-------+-----+--------+--------+-----------+-------------+----------+---------+--------------------+-----------+----------+--------------------+--------------------+\n",
      "only showing top 5 rows\n",
      "\n"
     ]
    }
   ],
   "source": [
    "from pyspark.ml.pipeline import PipelineModel\n",
    "\n",
    "test_df = spark.read.csv(\"./titanic/test.csv\", inferSchema=True, header=True)\n",
    "\n",
    "feat_ext_pipe_loaded = PipelineModel.load(f\"{app_name}_feat_exty_pipe\")\n",
    "\n",
    "prep_test_df = feat_ext_pipe_loaded.transform(test_df)\n",
    "prep_test_df.show(5)"
   ]
  },
  {
   "cell_type": "code",
   "execution_count": 46,
   "id": "732cd811",
   "metadata": {},
   "outputs": [
    {
     "data": {
      "text/plain": [
       "DenseVector([0.0, 1.0, 0.0, 0.2712, 0.3138])"
      ]
     },
     "execution_count": 46,
     "metadata": {},
     "output_type": "execute_result"
    }
   ],
   "source": [
    "feat_df.head()[-1]"
   ]
  },
  {
   "cell_type": "code",
   "execution_count": null,
   "id": "7975f1b2",
   "metadata": {},
   "outputs": [],
   "source": []
  },
  {
   "cell_type": "code",
   "execution_count": null,
   "id": "9807f82a",
   "metadata": {},
   "outputs": [],
   "source": []
  }
 ],
 "metadata": {
  "kernelspec": {
   "display_name": "Python 3 (ipykernel)",
   "language": "python",
   "name": "python3"
  },
  "language_info": {
   "codemirror_mode": {
    "name": "ipython",
    "version": 3
   },
   "file_extension": ".py",
   "mimetype": "text/x-python",
   "name": "python",
   "nbconvert_exporter": "python",
   "pygments_lexer": "ipython3",
   "version": "3.10.12"
  }
 },
 "nbformat": 4,
 "nbformat_minor": 5
}
