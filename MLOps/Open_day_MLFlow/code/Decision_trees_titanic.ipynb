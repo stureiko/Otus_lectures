{
  "cells": [
    {
      "cell_type": "markdown",
      "metadata": {
        "id": "RWDk-TXFS3PF"
      },
      "source": [
        "#  Decision Trees\n"
      ]
    },
    {
      "cell_type": "code",
      "execution_count": 1,
      "metadata": {
        "id": "SfNtv5u5S3PN"
      },
      "outputs": [],
      "source": [
        "%matplotlib inline\n",
        "import pandas as pd\n",
        "import numpy as np\n",
        "import matplotlib.pyplot as plt\n",
        "\n",
        "from sklearn.metrics import classification_report, accuracy_score, f1_score, roc_auc_score\n",
        "from sklearn.preprocessing import LabelEncoder\n",
        "from sklearn.tree import DecisionTreeClassifier\n",
        "\n",
        "import mlflow\n",
        "from mlflow.models import infer_signature"
      ]
    },
    {
      "cell_type": "markdown",
      "metadata": {
        "id": "GGMFUcioS3PP"
      },
      "source": [
        "# Data Sample Load\n",
        "\n",
        "Сегодня мы будем работать с [данными ](https://www.kaggle.com/c/titanic/data) о пассажирах Титаника.\n",
        "\n",
        "    VARIABLE DESCRIPTIONS:\n",
        "    survival        Survival\n",
        "                (0 = No; 1 = Yes)\n",
        "    pclass          Passenger Class\n",
        "                (1 = 1st; 2 = 2nd; 3 = 3rd)\n",
        "    name            Name\n",
        "    sex             Sex\n",
        "    age             Age\n",
        "    sibsp           Number of Siblings/Spouses Aboard\n",
        "    parch           Number of Parents/Children Aboard\n",
        "    ticket          Ticket Number\n",
        "    fare            Passenger Fare\n",
        "    cabin           Cabin\n",
        "    embarked        Port of Embarkation\n",
        "                (C = Cherbourg; Q = Queenstown; S = Southampton)\n",
        "\n",
        "    SPECIAL NOTES:\n",
        "    Pclass is a proxy for socio-economic status (SES)\n",
        "     1st ~ Upper; 2nd ~ Middle; 3rd ~ Lower\n",
        "\n",
        "    Age is in Years; Fractional if Age less than One (1)\n",
        "     If the Age is Estimated, it is in the form xx.5"
      ]
    },
    {
      "cell_type": "markdown",
      "metadata": {
        "id": "riVo7JjUTjUy"
      },
      "source": [
        "Загрузим данные."
      ]
    },
    {
      "cell_type": "code",
      "execution_count": 2,
      "metadata": {
        "colab": {
          "base_uri": "https://localhost:8080/",
          "height": 241
        },
        "id": "LT8SYk1CS3PP",
        "outputId": "9c2f9f90-1175-4aa2-87ab-5fd347032b6a"
      },
      "outputs": [
        {
          "data": {
            "text/html": [
              "<div>\n",
              "<style scoped>\n",
              "    .dataframe tbody tr th:only-of-type {\n",
              "        vertical-align: middle;\n",
              "    }\n",
              "\n",
              "    .dataframe tbody tr th {\n",
              "        vertical-align: top;\n",
              "    }\n",
              "\n",
              "    .dataframe thead th {\n",
              "        text-align: right;\n",
              "    }\n",
              "</style>\n",
              "<table border=\"1\" class=\"dataframe\">\n",
              "  <thead>\n",
              "    <tr style=\"text-align: right;\">\n",
              "      <th></th>\n",
              "      <th>PassengerId</th>\n",
              "      <th>Survived</th>\n",
              "      <th>Pclass</th>\n",
              "      <th>Name</th>\n",
              "      <th>Sex</th>\n",
              "      <th>Age</th>\n",
              "      <th>SibSp</th>\n",
              "      <th>Parch</th>\n",
              "      <th>Ticket</th>\n",
              "      <th>Fare</th>\n",
              "      <th>Cabin</th>\n",
              "      <th>Embarked</th>\n",
              "    </tr>\n",
              "  </thead>\n",
              "  <tbody>\n",
              "    <tr>\n",
              "      <th>0</th>\n",
              "      <td>1</td>\n",
              "      <td>0</td>\n",
              "      <td>3</td>\n",
              "      <td>Braund, Mr. Owen Harris</td>\n",
              "      <td>male</td>\n",
              "      <td>22.0</td>\n",
              "      <td>1</td>\n",
              "      <td>0</td>\n",
              "      <td>A/5 21171</td>\n",
              "      <td>7.2500</td>\n",
              "      <td>NaN</td>\n",
              "      <td>S</td>\n",
              "    </tr>\n",
              "    <tr>\n",
              "      <th>1</th>\n",
              "      <td>2</td>\n",
              "      <td>1</td>\n",
              "      <td>1</td>\n",
              "      <td>Cumings, Mrs. John Bradley (Florence Briggs Th...</td>\n",
              "      <td>female</td>\n",
              "      <td>38.0</td>\n",
              "      <td>1</td>\n",
              "      <td>0</td>\n",
              "      <td>PC 17599</td>\n",
              "      <td>71.2833</td>\n",
              "      <td>C85</td>\n",
              "      <td>C</td>\n",
              "    </tr>\n",
              "    <tr>\n",
              "      <th>2</th>\n",
              "      <td>3</td>\n",
              "      <td>1</td>\n",
              "      <td>3</td>\n",
              "      <td>Heikkinen, Miss. Laina</td>\n",
              "      <td>female</td>\n",
              "      <td>26.0</td>\n",
              "      <td>0</td>\n",
              "      <td>0</td>\n",
              "      <td>STON/O2. 3101282</td>\n",
              "      <td>7.9250</td>\n",
              "      <td>NaN</td>\n",
              "      <td>S</td>\n",
              "    </tr>\n",
              "    <tr>\n",
              "      <th>3</th>\n",
              "      <td>4</td>\n",
              "      <td>1</td>\n",
              "      <td>1</td>\n",
              "      <td>Futrelle, Mrs. Jacques Heath (Lily May Peel)</td>\n",
              "      <td>female</td>\n",
              "      <td>35.0</td>\n",
              "      <td>1</td>\n",
              "      <td>0</td>\n",
              "      <td>113803</td>\n",
              "      <td>53.1000</td>\n",
              "      <td>C123</td>\n",
              "      <td>S</td>\n",
              "    </tr>\n",
              "    <tr>\n",
              "      <th>4</th>\n",
              "      <td>5</td>\n",
              "      <td>0</td>\n",
              "      <td>3</td>\n",
              "      <td>Allen, Mr. William Henry</td>\n",
              "      <td>male</td>\n",
              "      <td>35.0</td>\n",
              "      <td>0</td>\n",
              "      <td>0</td>\n",
              "      <td>373450</td>\n",
              "      <td>8.0500</td>\n",
              "      <td>NaN</td>\n",
              "      <td>S</td>\n",
              "    </tr>\n",
              "  </tbody>\n",
              "</table>\n",
              "</div>"
            ],
            "text/plain": [
              "   PassengerId  Survived  Pclass  \\\n",
              "0            1         0       3   \n",
              "1            2         1       1   \n",
              "2            3         1       3   \n",
              "3            4         1       1   \n",
              "4            5         0       3   \n",
              "\n",
              "                                                Name     Sex   Age  SibSp  \\\n",
              "0                            Braund, Mr. Owen Harris    male  22.0      1   \n",
              "1  Cumings, Mrs. John Bradley (Florence Briggs Th...  female  38.0      1   \n",
              "2                             Heikkinen, Miss. Laina  female  26.0      0   \n",
              "3       Futrelle, Mrs. Jacques Heath (Lily May Peel)  female  35.0      1   \n",
              "4                           Allen, Mr. William Henry    male  35.0      0   \n",
              "\n",
              "   Parch            Ticket     Fare Cabin Embarked  \n",
              "0      0         A/5 21171   7.2500   NaN        S  \n",
              "1      0          PC 17599  71.2833   C85        C  \n",
              "2      0  STON/O2. 3101282   7.9250   NaN        S  \n",
              "3      0            113803  53.1000  C123        S  \n",
              "4      0            373450   8.0500   NaN        S  "
            ]
          },
          "execution_count": 2,
          "metadata": {},
          "output_type": "execute_result"
        }
      ],
      "source": [
        "#data = pd.read_csv('titanic.csv')\n",
        "data = pd.read_csv('https://grantmlong.com/data/titanic.csv')\n",
        "data.head()"
      ]
    },
    {
      "cell_type": "code",
      "execution_count": 3,
      "metadata": {
        "colab": {
          "base_uri": "https://localhost:8080/"
        },
        "id": "lsFWgJ0kT7T3",
        "outputId": "97216ded-ed20-4b9b-a6de-b1faf41c9e46"
      },
      "outputs": [
        {
          "name": "stdout",
          "output_type": "stream",
          "text": [
            "<class 'pandas.core.frame.DataFrame'>\n",
            "RangeIndex: 891 entries, 0 to 890\n",
            "Data columns (total 12 columns):\n",
            " #   Column       Non-Null Count  Dtype  \n",
            "---  ------       --------------  -----  \n",
            " 0   PassengerId  891 non-null    int64  \n",
            " 1   Survived     891 non-null    int64  \n",
            " 2   Pclass       891 non-null    int64  \n",
            " 3   Name         891 non-null    object \n",
            " 4   Sex          891 non-null    object \n",
            " 5   Age          714 non-null    float64\n",
            " 6   SibSp        891 non-null    int64  \n",
            " 7   Parch        891 non-null    int64  \n",
            " 8   Ticket       891 non-null    object \n",
            " 9   Fare         891 non-null    float64\n",
            " 10  Cabin        204 non-null    object \n",
            " 11  Embarked     889 non-null    object \n",
            "dtypes: float64(2), int64(5), object(5)\n",
            "memory usage: 83.7+ KB\n"
          ]
        }
      ],
      "source": [
        "data.info()"
      ]
    },
    {
      "cell_type": "markdown",
      "metadata": {
        "id": "_yKD1fKlTnQh"
      },
      "source": [
        "Проведем небольшую предобработку данных: выкинем лишние колонки, закодируем категориальные переменные, выкинем строки в которых есть Nan."
      ]
    },
    {
      "cell_type": "code",
      "execution_count": 4,
      "metadata": {
        "id": "aXJ4cjUES3PR"
      },
      "outputs": [],
      "source": [
        "def data_preprocessing(data_input):\n",
        "\n",
        "    # Select bad columns and remove them\n",
        "    cols_2_drop = ['PassengerId', 'Ticket', 'Cabin', 'Name']\n",
        "    data_input = data_input.drop(cols_2_drop, axis=1)\n",
        "\n",
        "    # Replace missing values (NaN) with -999 for 'Age' feature\n",
        "    data_input.loc[:, 'Age'] = data_input.Age.fillna(-999)\n",
        "\n",
        "    # Encode 'Sex' values\n",
        "    data_input['Sex'] = LabelEncoder().fit_transform(data_input['Sex'])\n",
        "\n",
        "    # Remove all object with missing values\n",
        "    data_input = data_input.dropna()\n",
        "\n",
        "    # Encode categorical features using OneHotEncoding\n",
        "    data_input = pd.get_dummies(data_input, columns=['Embarked'], prefix_sep='=')\n",
        "\n",
        "    return data_input"
      ]
    },
    {
      "cell_type": "code",
      "execution_count": 5,
      "metadata": {
        "id": "GjeW0jy1S3PS"
      },
      "outputs": [],
      "source": [
        "data_preproc = data_preprocessing(data)"
      ]
    },
    {
      "cell_type": "markdown",
      "metadata": {
        "id": "SkTTHNDNUDHr"
      },
      "source": [
        "Намного лучше, теперь мы можем обучать на этих данных модель."
      ]
    },
    {
      "cell_type": "code",
      "execution_count": 6,
      "metadata": {
        "colab": {
          "base_uri": "https://localhost:8080/",
          "height": 206
        },
        "id": "X9kiEZs7S3PU",
        "outputId": "a259072d-1d8b-422f-d94f-8aef9352fb46"
      },
      "outputs": [
        {
          "data": {
            "text/html": [
              "<div>\n",
              "<style scoped>\n",
              "    .dataframe tbody tr th:only-of-type {\n",
              "        vertical-align: middle;\n",
              "    }\n",
              "\n",
              "    .dataframe tbody tr th {\n",
              "        vertical-align: top;\n",
              "    }\n",
              "\n",
              "    .dataframe thead th {\n",
              "        text-align: right;\n",
              "    }\n",
              "</style>\n",
              "<table border=\"1\" class=\"dataframe\">\n",
              "  <thead>\n",
              "    <tr style=\"text-align: right;\">\n",
              "      <th></th>\n",
              "      <th>Survived</th>\n",
              "      <th>Pclass</th>\n",
              "      <th>Sex</th>\n",
              "      <th>Age</th>\n",
              "      <th>SibSp</th>\n",
              "      <th>Parch</th>\n",
              "      <th>Fare</th>\n",
              "      <th>Embarked=C</th>\n",
              "      <th>Embarked=Q</th>\n",
              "      <th>Embarked=S</th>\n",
              "    </tr>\n",
              "  </thead>\n",
              "  <tbody>\n",
              "    <tr>\n",
              "      <th>0</th>\n",
              "      <td>0</td>\n",
              "      <td>3</td>\n",
              "      <td>1</td>\n",
              "      <td>22.0</td>\n",
              "      <td>1</td>\n",
              "      <td>0</td>\n",
              "      <td>7.2500</td>\n",
              "      <td>False</td>\n",
              "      <td>False</td>\n",
              "      <td>True</td>\n",
              "    </tr>\n",
              "    <tr>\n",
              "      <th>1</th>\n",
              "      <td>1</td>\n",
              "      <td>1</td>\n",
              "      <td>0</td>\n",
              "      <td>38.0</td>\n",
              "      <td>1</td>\n",
              "      <td>0</td>\n",
              "      <td>71.2833</td>\n",
              "      <td>True</td>\n",
              "      <td>False</td>\n",
              "      <td>False</td>\n",
              "    </tr>\n",
              "    <tr>\n",
              "      <th>2</th>\n",
              "      <td>1</td>\n",
              "      <td>3</td>\n",
              "      <td>0</td>\n",
              "      <td>26.0</td>\n",
              "      <td>0</td>\n",
              "      <td>0</td>\n",
              "      <td>7.9250</td>\n",
              "      <td>False</td>\n",
              "      <td>False</td>\n",
              "      <td>True</td>\n",
              "    </tr>\n",
              "    <tr>\n",
              "      <th>3</th>\n",
              "      <td>1</td>\n",
              "      <td>1</td>\n",
              "      <td>0</td>\n",
              "      <td>35.0</td>\n",
              "      <td>1</td>\n",
              "      <td>0</td>\n",
              "      <td>53.1000</td>\n",
              "      <td>False</td>\n",
              "      <td>False</td>\n",
              "      <td>True</td>\n",
              "    </tr>\n",
              "    <tr>\n",
              "      <th>4</th>\n",
              "      <td>0</td>\n",
              "      <td>3</td>\n",
              "      <td>1</td>\n",
              "      <td>35.0</td>\n",
              "      <td>0</td>\n",
              "      <td>0</td>\n",
              "      <td>8.0500</td>\n",
              "      <td>False</td>\n",
              "      <td>False</td>\n",
              "      <td>True</td>\n",
              "    </tr>\n",
              "  </tbody>\n",
              "</table>\n",
              "</div>"
            ],
            "text/plain": [
              "   Survived  Pclass  Sex   Age  SibSp  Parch     Fare  Embarked=C  Embarked=Q  \\\n",
              "0         0       3    1  22.0      1      0   7.2500       False       False   \n",
              "1         1       1    0  38.0      1      0  71.2833        True       False   \n",
              "2         1       3    0  26.0      0      0   7.9250       False       False   \n",
              "3         1       1    0  35.0      1      0  53.1000       False       False   \n",
              "4         0       3    1  35.0      0      0   8.0500       False       False   \n",
              "\n",
              "   Embarked=S  \n",
              "0        True  \n",
              "1       False  \n",
              "2        True  \n",
              "3        True  \n",
              "4        True  "
            ]
          },
          "execution_count": 6,
          "metadata": {},
          "output_type": "execute_result"
        }
      ],
      "source": [
        "data_preproc.head()"
      ]
    },
    {
      "cell_type": "code",
      "execution_count": 7,
      "metadata": {
        "colab": {
          "base_uri": "https://localhost:8080/"
        },
        "id": "f9BSRRPvS3PW",
        "outputId": "fde3f0b1-ca86-47dd-de7b-029dbc378c58"
      },
      "outputs": [
        {
          "data": {
            "text/plain": [
              "Index(['Pclass', 'Sex', 'Age', 'SibSp', 'Parch', 'Fare', 'Embarked=C',\n",
              "       'Embarked=Q', 'Embarked=S'],\n",
              "      dtype='object')"
            ]
          },
          "execution_count": 7,
          "metadata": {},
          "output_type": "execute_result"
        }
      ],
      "source": [
        "# Set up label column\n",
        "y_column = \"Survived\"\n",
        "\n",
        "# Select X columns\n",
        "X_columns = data_preproc.columns[data_preproc.columns != y_column]\n",
        "\n",
        "X_columns"
      ]
    },
    {
      "cell_type": "markdown",
      "metadata": {
        "id": "iRRnGd_wS3PZ"
      },
      "source": [
        "## Data Split\n",
        "\n",
        "Разобьем данные на train и test.\n",
        "\n",
        "**Warning!** Не забываем фиксировать  `random_state`."
      ]
    },
    {
      "cell_type": "code",
      "execution_count": 8,
      "metadata": {
        "id": "3U8VPpGWS3Pb"
      },
      "outputs": [],
      "source": [
        "# import train_test_split function to split the sample\n",
        "from sklearn.model_selection import train_test_split\n",
        "X = data_preproc[X_columns].values\n",
        "y = data_preproc[y_column].values\n",
        "\n",
        "X_train, X_test, y_train, y_test = train_test_split(X, y,\n",
        "                                                    test_size=0.3,    # 30% for test, 70% for train\n",
        "                                                    random_state=123) # shuffle objects before split"
      ]
    },
    {
      "cell_type": "markdown",
      "metadata": {},
      "source": [
        "## MLFlow"
      ]
    },
    {
      "cell_type": "code",
      "execution_count": 9,
      "metadata": {},
      "outputs": [
        {
          "name": "stderr",
          "output_type": "stream",
          "text": [
            "2024/07/24 20:55:32 INFO mlflow.tracking.fluent: Experiment with name 'Titanic' does not exist. Creating a new experiment.\n"
          ]
        },
        {
          "data": {
            "text/plain": [
              "<Experiment: artifact_location='mlflow-artifacts:/446509872507494190', creation_time=1721843732789, experiment_id='446509872507494190', last_update_time=1721843732789, lifecycle_stage='active', name='Titanic', tags={}>"
            ]
          },
          "execution_count": 9,
          "metadata": {},
          "output_type": "execute_result"
        }
      ],
      "source": [
        "# Set our tracking server uri for logging\n",
        "mlflow.set_tracking_uri(uri=\"http://127.0.0.1:8080\")\n",
        "\n",
        "# Create a new MLflow Experiment\n",
        "mlflow.set_experiment(\"Titanic\")"
      ]
    },
    {
      "cell_type": "markdown",
      "metadata": {
        "id": "RjE1QY5K3NcN"
      },
      "source": [
        "# Решающее дерево\n",
        "\n",
        "**Решающее дерево (Decision Tree)** - это непараметрический ML-алгоритм, который относится к классу задач \"Обучение с учителем\".\n",
        "\n"
      ]
    },
    {
      "cell_type": "markdown",
      "metadata": {
        "id": "bs8CwOAK43nD"
      },
      "source": [
        "Его идея состоит в том, чтобы разбивать обучающий датасет на все более и более мелкие подмножества, одновременно с этим строя дерево решений.\n"
      ]
    },
    {
      "cell_type": "markdown",
      "metadata": {
        "id": "vxzJIxh73vHj"
      },
      "source": [
        "![dt2.png](data:image/png;base64,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)"
      ]
    },
    {
      "cell_type": "markdown",
      "metadata": {
        "id": "YvLV2MLXS3Ph"
      },
      "source": [
        "# Decision tree classifier\n",
        "К счатью для нас, алгоритм дерева решений уже реализован в библиотеке sklearn.\n",
        "В данном случае, так как мы решаем задачу бинарной классификации, то воспользуемся классом `DecisionTreeClassifier`.\n",
        "\n",
        "    class sklearn.tree.DecisionTreeClassifier(*, criterion='gini',\n",
        "    splitter='best', max_depth=None, min_samples_split=2, min_samples_leaf=1,\n",
        "    min_weight_fraction_leaf=0.0, max_features=None, random_state=None,\n",
        "    max_leaf_nodes=None, min_impurity_decrease=0.0, min_impurity_split=None,\n",
        "    class_weight=None, ccp_alpha=0.0)"
      ]
    },
    {
      "cell_type": "code",
      "execution_count": 10,
      "metadata": {
        "colab": {
          "base_uri": "https://localhost:8080/"
        },
        "id": "RvXUAxOKS3Pi",
        "outputId": "283c4c69-fb7f-4d34-9676-4d235c38f382"
      },
      "outputs": [
        {
          "name": "stderr",
          "output_type": "stream",
          "text": [
            "Successfully registered model 'Titanic_tree_model_baseline'.\n",
            "2024/07/24 20:56:00 INFO mlflow.store.model_registry.abstract_store: Waiting up to 300 seconds for model version to finish creation. Model name: Titanic_tree_model_baseline, version 1\n"
          ]
        },
        {
          "name": "stdout",
          "output_type": "stream",
          "text": [
            "              precision    recall  f1-score   support\n",
            "\n",
            "           0       0.78      0.88      0.83       161\n",
            "           1       0.77      0.61      0.68       106\n",
            "\n",
            "    accuracy                           0.78       267\n",
            "   macro avg       0.77      0.75      0.75       267\n",
            "weighted avg       0.78      0.78      0.77       267\n",
            "\n"
          ]
        },
        {
          "name": "stderr",
          "output_type": "stream",
          "text": [
            "Created version '1' of model 'Titanic_tree_model_baseline'.\n"
          ]
        }
      ],
      "source": [
        "# Define the model hyperparameters\n",
        "\n",
        "params = {\n",
        "    'max_depth': 5,\n",
        "    'min_samples_leaf': 10,\n",
        "    'min_samples_split': 2,\n",
        "    'criterion': 'entropy'\n",
        "}\n",
        "\n",
        "clf = DecisionTreeClassifier(**params)\n",
        "clf.fit(X_train, y_train)\n",
        "pred = clf.predict(X_test)\n",
        "accuracy_clf = accuracy_score(y_test, pred)\n",
        "f1_score_clf = f1_score(y_test, pred)\n",
        "roc_auc = roc_auc_score(y_test, pred)\n",
        "\n",
        "# Start an MLflow run\n",
        "with mlflow.start_run(run_name='Baseline'):\n",
        "    # Log the hyperparameters\n",
        "    mlflow.log_params(params)\n",
        "\n",
        "    # Log the loss metric\n",
        "    mlflow.log_metric(\"accuracy\", accuracy_clf)\n",
        "    mlflow.log_metric(\"f1_score\", f1_score_clf)\n",
        "    mlflow.log_metric(\"roc_auc\", roc_auc)\n",
        "\n",
        "    # Set a tag that we can use to remind ourselves what this run was for\n",
        "    mlflow.set_tag(\"Training Info\", \"Basic LR model for Titanic data\")\n",
        "\n",
        "    # Infer the model signature\n",
        "    signature = infer_signature(X_train, pred)\n",
        "\n",
        "    # Log the model\n",
        "    model_info = mlflow.sklearn.log_model(\n",
        "        sk_model=clf,\n",
        "        artifact_path=\"Titanic_tree_model\",\n",
        "        signature=signature,\n",
        "        input_example=X_train,\n",
        "        registered_model_name=\"Titanic_tree_model_baseline\",\n",
        "    )\n",
        "\n",
        "\n",
        "print(classification_report(y_test, pred))"
      ]
    },
    {
      "cell_type": "markdown",
      "metadata": {
        "id": "Np72F5LiS3Pi"
      },
      "source": [
        "Всего три строчки кода, и мы обучили дерево решений!"
      ]
    },
    {
      "cell_type": "markdown",
      "metadata": {
        "id": "8RppD6-QFz_i"
      },
      "source": [
        "# Feature importance\n",
        "\n",
        "**Важность признака** - доля признака в Information Gain."
      ]
    },
    {
      "cell_type": "code",
      "execution_count": 11,
      "metadata": {
        "colab": {
          "base_uri": "https://localhost:8080/"
        },
        "id": "5XsmuONpPiYJ",
        "outputId": "ff02e0d2-ff2a-4590-b53a-bcdfff92aed5"
      },
      "outputs": [
        {
          "data": {
            "text/plain": [
              "array([0.19547225, 0.48145922, 0.10301063, 0.03455633, 0.0205295 ,\n",
              "       0.16497207, 0.        , 0.        , 0.        ])"
            ]
          },
          "execution_count": 11,
          "metadata": {},
          "output_type": "execute_result"
        }
      ],
      "source": [
        "clf.feature_importances_"
      ]
    },
    {
      "cell_type": "code",
      "execution_count": 12,
      "metadata": {
        "colab": {
          "base_uri": "https://localhost:8080/",
          "height": 332
        },
        "id": "jOwvVTFNCkEi",
        "outputId": "6d068b79-762a-40fb-b778-12fab6e5a4f6"
      },
      "outputs": [
        {
          "data": {
            "text/html": [
              "<div>\n",
              "<style scoped>\n",
              "    .dataframe tbody tr th:only-of-type {\n",
              "        vertical-align: middle;\n",
              "    }\n",
              "\n",
              "    .dataframe tbody tr th {\n",
              "        vertical-align: top;\n",
              "    }\n",
              "\n",
              "    .dataframe thead th {\n",
              "        text-align: right;\n",
              "    }\n",
              "</style>\n",
              "<table border=\"1\" class=\"dataframe\">\n",
              "  <thead>\n",
              "    <tr style=\"text-align: right;\">\n",
              "      <th></th>\n",
              "      <th>feature importance</th>\n",
              "    </tr>\n",
              "  </thead>\n",
              "  <tbody>\n",
              "    <tr>\n",
              "      <th>Sex</th>\n",
              "      <td>0.481459</td>\n",
              "    </tr>\n",
              "    <tr>\n",
              "      <th>Pclass</th>\n",
              "      <td>0.195472</td>\n",
              "    </tr>\n",
              "    <tr>\n",
              "      <th>Fare</th>\n",
              "      <td>0.164972</td>\n",
              "    </tr>\n",
              "    <tr>\n",
              "      <th>Age</th>\n",
              "      <td>0.103011</td>\n",
              "    </tr>\n",
              "    <tr>\n",
              "      <th>SibSp</th>\n",
              "      <td>0.034556</td>\n",
              "    </tr>\n",
              "    <tr>\n",
              "      <th>Parch</th>\n",
              "      <td>0.020530</td>\n",
              "    </tr>\n",
              "    <tr>\n",
              "      <th>Embarked=C</th>\n",
              "      <td>0.000000</td>\n",
              "    </tr>\n",
              "    <tr>\n",
              "      <th>Embarked=Q</th>\n",
              "      <td>0.000000</td>\n",
              "    </tr>\n",
              "    <tr>\n",
              "      <th>Embarked=S</th>\n",
              "      <td>0.000000</td>\n",
              "    </tr>\n",
              "  </tbody>\n",
              "</table>\n",
              "</div>"
            ],
            "text/plain": [
              "            feature importance\n",
              "Sex                   0.481459\n",
              "Pclass                0.195472\n",
              "Fare                  0.164972\n",
              "Age                   0.103011\n",
              "SibSp                 0.034556\n",
              "Parch                 0.020530\n",
              "Embarked=C            0.000000\n",
              "Embarked=Q            0.000000\n",
              "Embarked=S            0.000000"
            ]
          },
          "execution_count": 12,
          "metadata": {},
          "output_type": "execute_result"
        }
      ],
      "source": [
        "pd.DataFrame(clf.feature_importances_, index = list(X_columns), columns = ['feature importance']).sort_values('feature importance', ascending = False)"
      ]
    },
    {
      "cell_type": "markdown",
      "metadata": {
        "id": "RFdXPFQoS3Pj"
      },
      "source": [
        "# Оптимизация гиперпараметров\n",
        "\n",
        "Давайте подберем оптимальный набор гиперпараметров для нашей модели. Для этого воспользуемся методом GridSearch на кросс-валидации. Будем использовать метод  `GridSearchCV` из библиотеки sklearn."
      ]
    },
    {
      "cell_type": "code",
      "execution_count": 13,
      "metadata": {
        "colab": {
          "base_uri": "https://localhost:8080/"
        },
        "id": "_urTdKd2S3Pk",
        "outputId": "e3034e68-48ae-4cd5-e5ba-57c72d422fa3"
      },
      "outputs": [
        {
          "data": {
            "text/plain": [
              "{'criterion': 'entropy',\n",
              " 'max_depth': 10,\n",
              " 'min_samples_leaf': 10,\n",
              " 'min_samples_split': 2}"
            ]
          },
          "execution_count": 13,
          "metadata": {},
          "output_type": "execute_result"
        }
      ],
      "source": [
        "# Import GridSearchCV class\n",
        "from sklearn.model_selection import GridSearchCV\n",
        "\n",
        "# Define Decision Tree classifier with default parameters\n",
        "clf = DecisionTreeClassifier()\n",
        "\n",
        "# Estimate grid of the classifier hyperparameters\n",
        "parameters = {'max_depth':[1, 3, 5, 7, 10, 12, 14],\n",
        "              'min_samples_split' : [2, 5, 10, 20],\n",
        "              'min_samples_leaf':[1, 5, 10, 50],\n",
        "              'criterion':['gini', 'entropy']}\n",
        "\n",
        "# Define GridSearch parameters\n",
        "gs = GridSearchCV(clf,                 # Classifier object to optimize\n",
        "                  parameters,          # Grid of the hyperparameters\n",
        "                  scoring='accuracy',  # Claasification quality metric to optimize\n",
        "                  cv=5)                # Number of folds in KFolds cross-validation (CV)\n",
        "\n",
        "\n",
        "# Run Grid Search optimization\n",
        "gs.fit(X_train, y_train)\n",
        "gs.best_params_"
      ]
    },
    {
      "cell_type": "code",
      "execution_count": 14,
      "metadata": {
        "colab": {
          "base_uri": "https://localhost:8080/"
        },
        "id": "dr4KHhJ1S3Pl",
        "outputId": "a9afe3d6-50c0-4a97-d57a-b3fe73ddaf60"
      },
      "outputs": [
        {
          "name": "stdout",
          "output_type": "stream",
          "text": [
            "              precision    recall  f1-score   support\n",
            "\n",
            "           0       0.79      0.93      0.85       161\n",
            "           1       0.85      0.62      0.72       106\n",
            "\n",
            "    accuracy                           0.81       267\n",
            "   macro avg       0.82      0.77      0.78       267\n",
            "weighted avg       0.81      0.81      0.80       267\n",
            "\n"
          ]
        }
      ],
      "source": [
        "pred = gs.predict(X_test)\n",
        "accuracy_gs = accuracy_score(y_test, pred)\n",
        "f1_score_gs = f1_score(y_test, pred)\n",
        "roc_auc_gs = roc_auc_score(y_test, pred)\n",
        "print(classification_report(y_test,pred))"
      ]
    },
    {
      "cell_type": "markdown",
      "metadata": {
        "id": "Ctcr1DDfXyJm"
      },
      "source": [
        "Отлично! Качество возросло!"
      ]
    },
    {
      "cell_type": "code",
      "execution_count": 15,
      "metadata": {
        "id": "3HHASJKVlfVY"
      },
      "outputs": [
        {
          "name": "stderr",
          "output_type": "stream",
          "text": [
            "Successfully registered model 'Titanic_tree_model_optimized'.\n",
            "2024/07/24 20:57:49 INFO mlflow.store.model_registry.abstract_store: Waiting up to 300 seconds for model version to finish creation. Model name: Titanic_tree_model_optimized, version 1\n",
            "Created version '1' of model 'Titanic_tree_model_optimized'.\n"
          ]
        }
      ],
      "source": [
        "with mlflow.start_run(run_name='Optimisation'):\n",
        "    # Log the hyperparameters\n",
        "    mlflow.log_params(gs.best_params_)\n",
        "\n",
        "    # Log the loss metric\n",
        "    mlflow.log_metric(\"accuracy\", accuracy_gs)\n",
        "    mlflow.log_metric(\"f1_score\", f1_score_gs)\n",
        "    mlflow.log_metric(\"roc_auc\", roc_auc_gs)\n",
        "\n",
        "    # Set a tag that we can use to remind ourselves what this run was for\n",
        "    mlflow.set_tag(\"Training Info\", \"Optimized model for Titanic data\")\n",
        "\n",
        "    # Infer the model signature\n",
        "    signature = infer_signature(X_train, pred)\n",
        "\n",
        "    # Log the model\n",
        "    model_info = mlflow.sklearn.log_model(\n",
        "        sk_model=gs,\n",
        "        artifact_path=\"MLOps/Open_day_MLFlow/code/Titanic_tree_model\",\n",
        "        signature=signature,\n",
        "        input_example=X_train,\n",
        "        registered_model_name=\"Titanic_tree_model_optimized\",\n",
        "    )"
      ]
    },
    {
      "cell_type": "markdown",
      "metadata": {},
      "source": [
        "## А как загрузить модель:"
      ]
    },
    {
      "cell_type": "code",
      "execution_count": 16,
      "metadata": {},
      "outputs": [],
      "source": [
        "sklearn_pyfunc = mlflow.pyfunc.load_model(model_uri=model_info.model_uri)"
      ]
    },
    {
      "cell_type": "code",
      "execution_count": 17,
      "metadata": {},
      "outputs": [
        {
          "name": "stdout",
          "output_type": "stream",
          "text": [
            "              precision    recall  f1-score   support\n",
            "\n",
            "           0       0.79      0.93      0.85       161\n",
            "           1       0.85      0.62      0.72       106\n",
            "\n",
            "    accuracy                           0.81       267\n",
            "   macro avg       0.82      0.77      0.78       267\n",
            "weighted avg       0.81      0.81      0.80       267\n",
            "\n"
          ]
        }
      ],
      "source": [
        "pred_load = sklearn_pyfunc.predict(X_test)\n",
        "print(classification_report(y_test, pred_load))"
      ]
    },
    {
      "cell_type": "code",
      "execution_count": 18,
      "metadata": {},
      "outputs": [
        {
          "data": {
            "text/plain": [
              "'runs:/679f455908464a7fa5dd2ba19a183b52/MLOps/Open_day_MLFlow/code/Titanic_tree_model'"
            ]
          },
          "execution_count": 18,
          "metadata": {},
          "output_type": "execute_result"
        }
      ],
      "source": [
        "model_info.model_uri"
      ]
    },
    {
      "cell_type": "code",
      "execution_count": null,
      "metadata": {},
      "outputs": [],
      "source": []
    }
  ],
  "metadata": {
    "colab": {
      "provenance": []
    },
    "kernelspec": {
      "display_name": "Python 3",
      "language": "python",
      "name": "python3"
    },
    "language_info": {
      "codemirror_mode": {
        "name": "ipython",
        "version": 3
      },
      "file_extension": ".py",
      "mimetype": "text/x-python",
      "name": "python",
      "nbconvert_exporter": "python",
      "pygments_lexer": "ipython3",
      "version": "3.12.4"
    }
  },
  "nbformat": 4,
  "nbformat_minor": 0
}
