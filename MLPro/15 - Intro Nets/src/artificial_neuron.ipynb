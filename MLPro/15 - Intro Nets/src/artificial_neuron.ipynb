{
 "cells": [
  {
   "cell_type": "code",
   "execution_count": null,
   "id": "ba058a79",
   "metadata": {},
   "outputs": [],
   "source": [
    "import numpy as np"
   ]
  },
  {
   "cell_type": "markdown",
   "id": "3f8a397a",
   "metadata": {},
   "source": [
    "## 1. Создаем искусственный нейрон со случайными значениями\n",
    "Реализуем математическую модель искусственного нейрона на основе формулы:\n",
    "<img src=\"images/neuron_formula.png\">"
   ]
  },
  {
   "cell_type": "code",
   "execution_count": 12,
   "id": "00f72b84",
   "metadata": {},
   "outputs": [
    {
     "name": "stdout",
     "output_type": "stream",
     "text": [
      "1.0\n",
      "-1.0\n",
      "-1.0\n",
      "1.0\n",
      "-1.0\n"
     ]
    }
   ],
   "source": [
    "def neuron_rand(input_size):\n",
    "    # Входной вектор:\n",
    "    x = np.random.uniform(low=-1, high=1, size=input_size)\n",
    "\n",
    "    # Вектор весов:\n",
    "    w = np.random.uniform(low=-1, high=1, size=input_size)\n",
    "\n",
    "    # Смещение (байес):\n",
    "    b = np.random.uniform(low=-1, high=1, size=1)[0]\n",
    "\n",
    "    # Вычисляем выход:\n",
    "    y = np.sum(x*w) + b\n",
    "\n",
    "    # Добавляем нелинейность (функция активации):\n",
    "    y = np.sign(y)\n",
    "    \n",
    "    return y\n",
    "\n",
    "\n",
    "for i in range(5):\n",
    "    print (neuron_rand(10))"
   ]
  },
  {
   "cell_type": "markdown",
   "id": "b17ee030",
   "metadata": {},
   "source": [
    "## 2. Класс искусственного нейрона\n",
    "Реализуем класс искусственного нейрона для реализации логических операторов"
   ]
  },
  {
   "cell_type": "code",
   "execution_count": 13,
   "id": "e0f91fb8",
   "metadata": {},
   "outputs": [],
   "source": [
    "class Neuron:\n",
    "    def __init__(self, input_size, w, b=1, activation=np.sign):\n",
    "        self.w = w if isinstance(w, np.ndarray) else np.array(w)    # вектор весов\n",
    "        self.b = b                                                  # байес\n",
    "        self.activation = activation                                # функция активации\n",
    "    \n",
    "    def __call__(self, x):\n",
    "        y = np.sum(x*self.w) + self.b\n",
    "        y = self.activation(y)\n",
    "        return y"
   ]
  },
  {
   "cell_type": "code",
   "execution_count": 14,
   "id": "29bb364e",
   "metadata": {},
   "outputs": [
    {
     "name": "stdout",
     "output_type": "stream",
     "text": [
      "Logic NOT: x = [1], y = -1.0\n",
      "Logic NOT: x = [-1], y = 1.0\n"
     ]
    }
   ],
   "source": [
    "# Логическое НЕ (отрицание):\n",
    "neuron = Neuron(1, w=[-1], b=0.5)\n",
    "\n",
    "x = [1]\n",
    "y = neuron(x)\n",
    "print (f'Logic NOT: x = {x}, y = {y}')\n",
    "\n",
    "x = [-1]\n",
    "y = neuron(x)\n",
    "print (f'Logic NOT: x = {x}, y = {y}')"
   ]
  },
  {
   "cell_type": "code",
   "execution_count": 15,
   "id": "4f865628",
   "metadata": {},
   "outputs": [
    {
     "name": "stdout",
     "output_type": "stream",
     "text": [
      "Logic AND: x = [1, 1], y = 1.0\n",
      "Logic AND: x = [0, 0], y = -1.0\n",
      "Logic AND: x = [0, 1], y = -1.0\n",
      "Logic AND: x = [1, 0], y = -1.0\n"
     ]
    }
   ],
   "source": [
    "# Логическое И (конъюнкция):\n",
    "neuron = Neuron(2, w=[1,1], b=-1.5)\n",
    "\n",
    "x = [1,1]\n",
    "y = neuron(x)\n",
    "print (f'Logic AND: x = {x}, y = {y}')\n",
    "\n",
    "x = [0,0]\n",
    "y = neuron(x)\n",
    "print (f'Logic AND: x = {x}, y = {y}')\n",
    "\n",
    "x = [0,1]\n",
    "y = neuron(x)\n",
    "print (f'Logic AND: x = {x}, y = {y}')\n",
    "\n",
    "x = [1,0]\n",
    "y = neuron(x)\n",
    "print (f'Logic AND: x = {x}, y = {y}')"
   ]
  },
  {
   "cell_type": "code",
   "execution_count": 16,
   "id": "f264c923",
   "metadata": {},
   "outputs": [
    {
     "name": "stdout",
     "output_type": "stream",
     "text": [
      "Logic OR: x = [1, 1], y = 1.0\n",
      "Logic OR: x = [0, 0], y = -1.0\n",
      "Logic OR: x = [0, 1], y = 1.0\n",
      "Logic OR: x = [1, 0], y = 1.0\n"
     ]
    }
   ],
   "source": [
    "# Логическое ИЛИ (дизъюнкция):\n",
    "neuron = Neuron(2, w=[1,1], b=-0.5)\n",
    "\n",
    "x = [1,1]\n",
    "y = neuron(x)\n",
    "print (f'Logic OR: x = {x}, y = {y}')\n",
    "\n",
    "x = [0,0]\n",
    "y = neuron(x)\n",
    "print (f'Logic OR: x = {x}, y = {y}')\n",
    "\n",
    "x = [0,1]\n",
    "y = neuron(x)\n",
    "print (f'Logic OR: x = {x}, y = {y}')\n",
    "\n",
    "x = [1,0]\n",
    "y = neuron(x)\n",
    "print (f'Logic OR: x = {x}, y = {y}')"
   ]
  },
  {
   "cell_type": "markdown",
   "id": "4d7c8d5f",
   "metadata": {},
   "source": [
    "## 3. Класс нейронной сети\n",
    "Реализуем класс простой нейронной сети прямого распространения\n",
    "<img src=\"images/XOR.png\">"
   ]
  },
  {
   "cell_type": "code",
   "execution_count": null,
   "id": "ca450cc2",
   "metadata": {},
   "outputs": [],
   "source": [
    "def ReLU(x): return max(0, x)\n",
    "def create_neuron_NOT(): return Neuron(2, w=[-1], b=0.5, activation=ReLU)\n",
    "def create_neuron_AND(): return Neuron(2, w=[1,1], b=-1.5, activation=ReLU)\n",
    "def create_neuron_OR(): return Neuron(2, w=[1,1], b=-0.5)\n",
    "\n",
    "class FeedForwardNetwork:\n",
    "    def __init__(self, neurons, connections, output_node, verbose=False):\n",
    "        self.neurons = neurons\n",
    "        self.connections = connections\n",
    "        self.output_node = output_node\n",
    "        self.verbose = verbose\n",
    "        \n",
    "    def fire(self, node, outputs):\n",
    "        neuron = self.neurons[node]\n",
    "        inputs = self.connections[node]\n",
    "        \n",
    "        if self.verbose:\n",
    "            print (f'node={node}, inputs={inputs}, outputs={outputs}')\n",
    "        \n",
    "        for x in inputs:\n",
    "            if x not in outputs:\n",
    "                outputs[x] = self.fire(x, outputs)\n",
    "        \n",
    "        return neuron([outputs[x] for x in inputs])\n",
    "        \n",
    "    def __call__(self, x):\n",
    "        outputs = {}\n",
    "        for node, value in x.items():\n",
    "            outputs[node] = value\n",
    "            \n",
    "        outputs[self.output_node]  = self.fire(self.output_node, outputs)\n",
    "        \n",
    "        if self.verbose:\n",
    "            print (f'Outputs: {outputs}')\n",
    "        \n",
    "        return outputs[self.output_node]"
   ]
  },
  {
   "cell_type": "code",
   "execution_count": 17,
   "id": "4dd0ff99",
   "metadata": {},
   "outputs": [
    {
     "name": "stdout",
     "output_type": "stream",
     "text": [
      "x={'x1': 1, 'x2': 1}, y=-1.0\n",
      "x={'x1': -1, 'x2': -1}, y=-1.0\n",
      "x={'x1': 1, 'x2': -1}, y=1.0\n",
      "x={'x1': -1, 'x2': 1}, y=1.0\n"
     ]
    }
   ],
   "source": [
    "# XOR из 5 нейронов:\n",
    "neurons = {\n",
    "    'NOT_1_1': create_neuron_NOT(),\n",
    "    'NOT_1_2': create_neuron_NOT(),\n",
    "    'AND_2_1': create_neuron_AND(),\n",
    "    'AND_2_2': create_neuron_AND(),\n",
    "    'OR_3_1': create_neuron_OR()\n",
    "}\n",
    "\n",
    "connections = {\n",
    "    'NOT_1_1': ('x1',),\n",
    "    'NOT_1_2': ('x2',),\n",
    "    'AND_2_1': ('NOT_1_1', 'x2'),\n",
    "    'AND_2_2': ('NOT_1_2', 'x1'),\n",
    "    'OR_3_1': ('AND_2_1', 'AND_2_2')\n",
    "}\n",
    "\n",
    "# Инициализируем нейронную сеть:\n",
    "ffn_XOR = FeedForwardNetwork(neurons, connections, output_node='OR_3_1', verbose=False)\n",
    "\n",
    "# Тестируем:\n",
    "x = {'x1': 1, 'x2': 1}\n",
    "y = ffn_XOR(x)\n",
    "print (f'x={x}, y={y}')\n",
    "\n",
    "x = {'x1': -1, 'x2': -1}\n",
    "y = ffn_XOR(x)\n",
    "print (f'x={x}, y={y}')\n",
    "\n",
    "x = {'x1': 1, 'x2': -1}\n",
    "y = ffn_XOR(x)\n",
    "print (f'x={x}, y={y}')\n",
    "\n",
    "x = {'x1': -1, 'x2': 1}\n",
    "y = ffn_XOR(x)\n",
    "print (f'x={x}, y={y}')"
   ]
  },
  {
   "cell_type": "code",
   "execution_count": null,
   "id": "562f0f6d",
   "metadata": {},
   "outputs": [],
   "source": []
  }
 ],
 "metadata": {
  "kernelspec": {
   "display_name": "Python 3 (ipykernel)",
   "language": "python",
   "name": "python3"
  },
  "language_info": {
   "codemirror_mode": {
    "name": "ipython",
    "version": 3
   },
   "file_extension": ".py",
   "mimetype": "text/x-python",
   "name": "python",
   "nbconvert_exporter": "python",
   "pygments_lexer": "ipython3",
   "version": "3.10.12"
  }
 },
 "nbformat": 4,
 "nbformat_minor": 5
}
