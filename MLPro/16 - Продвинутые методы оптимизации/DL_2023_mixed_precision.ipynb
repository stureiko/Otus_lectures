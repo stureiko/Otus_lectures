{
  "nbformat": 4,
  "nbformat_minor": 0,
  "metadata": {
    "accelerator": "GPU",
    "colab": {
      "provenance": []
    },
    "kernelspec": {
      "display_name": "Python 3",
      "name": "python3"
    }
  },
  "cells": [
    {
      "cell_type": "markdown",
      "metadata": {
        "id": "qFdPvlXBOdUN"
      },
      "source": [
        "# Mixed precision"
      ]
    },
    {
      "cell_type": "code",
      "metadata": {
        "id": "IqR2PQG4ZaZ0"
      },
      "source": [
        "import tensorflow as tf\n",
        "\n",
        "from tensorflow import keras\n",
        "from tensorflow.keras import layers\n",
        "from tensorflow.keras import mixed_precision"
      ],
      "execution_count": null,
      "outputs": []
    },
    {
      "cell_type": "code",
      "metadata": {
        "id": "j-Yzg_lfkoa_",
        "colab": {
          "base_uri": "https://localhost:8080/"
        },
        "outputId": "6845fa1e-a963-4a8c-9dbf-be30b19e913b"
      },
      "source": [
        "!nvidia-smi -L"
      ],
      "execution_count": null,
      "outputs": [
        {
          "output_type": "stream",
          "name": "stdout",
          "text": [
            "GPU 0: Tesla T4 (UUID: GPU-d84a66c5-d566-712b-aaf7-8c980657c607)\n"
          ]
        }
      ]
    },
    {
      "cell_type": "markdown",
      "metadata": {
        "id": "HNOmvumB-orT"
      },
      "source": [
        "## Setting the dtype policy"
      ]
    },
    {
      "cell_type": "code",
      "metadata": {
        "id": "L3A9EQLUfTrH"
      },
      "source": [
        "policy_str = 'mixed_float16'\n",
        "# policy_str = 'float32'"
      ],
      "execution_count": null,
      "outputs": []
    },
    {
      "cell_type": "code",
      "metadata": {
        "id": "x3kElPVH-siO"
      },
      "source": [
        "policy = mixed_precision.Policy(policy_str)\n",
        "mixed_precision.set_global_policy(policy)"
      ],
      "execution_count": null,
      "outputs": []
    },
    {
      "cell_type": "code",
      "metadata": {
        "id": "6a8iNFoBUSqR"
      },
      "source": [
        "# Тоже самое что выше только по короче\n",
        "mixed_precision.set_global_policy(policy_str)"
      ],
      "execution_count": null,
      "outputs": []
    },
    {
      "cell_type": "markdown",
      "metadata": {
        "id": "H0mhGYAMbJdj"
      },
      "source": [
        " `policy` определяет две составляющие слоя:\n",
        " * `dtype` вычислений, который будет `float16` чтобы вычисления были быстрее;\n",
        " * `dtype` переменных, который будет `float32` чтобы результаты были стабильнее.\n",
        "\n",
        " Все это можно проверить:"
      ]
    },
    {
      "cell_type": "code",
      "metadata": {
        "id": "GQRbYm4f8p-k",
        "colab": {
          "base_uri": "https://localhost:8080/"
        },
        "outputId": "07c1bcd4-4ed2-4a18-d47c-507b5c65545b"
      },
      "source": [
        "print('Compute dtype: %s' % policy.compute_dtype)\n",
        "print('Variable dtype: %s' % policy.variable_dtype)"
      ],
      "execution_count": null,
      "outputs": [
        {
          "output_type": "stream",
          "name": "stdout",
          "text": [
            "Compute dtype: float16\n",
            "Variable dtype: float32\n"
          ]
        }
      ]
    },
    {
      "cell_type": "markdown",
      "metadata": {
        "id": "cAHpt128tVpK"
      },
      "source": [
        "## Building the model"
      ]
    },
    {
      "cell_type": "markdown",
      "metadata": {
        "id": "Sb8tILnAb4ZW"
      },
      "source": [
        "Соберем небольшую модельку, что посмотреть на деле как изменится перформанс"
      ]
    },
    {
      "cell_type": "code",
      "metadata": {
        "id": "0DQM24hL_14Q",
        "colab": {
          "base_uri": "https://localhost:8080/"
        },
        "outputId": "a391e26f-3b4a-41a3-af5a-92023565f5bf"
      },
      "source": [
        "inputs = keras.Input(shape=(784,), name='digits')\n",
        "\n",
        "# Если вдруг у нас нет GPU, то сделаем модельку еще поменьше\n",
        "if tf.config.list_physical_devices('GPU'):\n",
        "  print('The model will run with 4096 units on a GPU')\n",
        "  num_units = 4096\n",
        "else:\n",
        "  print('The model will run with 64 units on a CPU')\n",
        "  num_units = 64\n",
        "\n",
        "dense1 = layers.Dense(num_units, activation='relu', name='dense_1')\n",
        "x = dense1(inputs)\n",
        "dense2 = layers.Dense(num_units, activation='relu', name='dense_2')\n",
        "x = dense2(x)"
      ],
      "execution_count": null,
      "outputs": [
        {
          "output_type": "stream",
          "name": "stdout",
          "text": [
            "The model will run with 4096 units on a GPU\n"
          ]
        }
      ]
    },
    {
      "cell_type": "code",
      "metadata": {
        "id": "kC58MzP4PEcC",
        "colab": {
          "base_uri": "https://localhost:8080/"
        },
        "outputId": "dc740d0c-5b6d-4c48-cb33-e139d0fdbb96"
      },
      "source": [
        "# Проверим `policy` наших слоев\n",
        "print(dense1.dtype_policy)\n",
        "print('x.dtype: %s' % x.dtype.name)\n",
        "print('dense1.kernel.dtype: %s' % dense1.kernel.dtype.name)"
      ],
      "execution_count": null,
      "outputs": [
        {
          "output_type": "stream",
          "name": "stdout",
          "text": [
            "<Policy \"mixed_float16\">\n",
            "x.dtype: float16\n",
            "dense1.kernel.dtype: float32\n"
          ]
        }
      ]
    },
    {
      "cell_type": "code",
      "metadata": {
        "id": "ybBq1JDwNIbz",
        "colab": {
          "base_uri": "https://localhost:8080/"
        },
        "outputId": "18675eb6-0c8f-426e-e553-b0c0889ab814"
      },
      "source": [
        "# INCORRECT: softmax and model output will be float16, when it should be float32\n",
        "outputs = layers.Dense(10, activation='softmax', name='predictions')(x)\n",
        "print('Outputs dtype: %s' % outputs.dtype.name)"
      ],
      "execution_count": null,
      "outputs": [
        {
          "output_type": "stream",
          "name": "stdout",
          "text": [
            "Outputs dtype: float16\n"
          ]
        }
      ]
    },
    {
      "cell_type": "markdown",
      "metadata": {
        "id": "3zPHC2Y0dN-8"
      },
      "source": [
        "Для конкретного слоя можно переопределить его политику, для этого надо явно указать `dtype`.\n",
        "\n",
        "Для выходного слоя и выходной функции активации лучше явно указывать `float32` для стабильности (но это необязательно)"
      ]
    },
    {
      "cell_type": "code",
      "metadata": {
        "id": "IGqCGn4BsODw",
        "colab": {
          "base_uri": "https://localhost:8080/"
        },
        "outputId": "3e6a558c-6ed4-4ae5-a131-5cf744200907"
      },
      "source": [
        "# CORRECT: softmax and model output are float32\n",
        "x = layers.Dense(10, name='dense_logits')(x)\n",
        "outputs = layers.Activation('softmax', dtype='float32', name='predictions')(x)\n",
        "print('Outputs dtype: %s' % outputs.dtype.name)"
      ],
      "execution_count": null,
      "outputs": [
        {
          "output_type": "stream",
          "name": "stdout",
          "text": [
            "Outputs dtype: float32\n"
          ]
        }
      ]
    },
    {
      "cell_type": "code",
      "metadata": {
        "id": "dzVAoLI56jR8"
      },
      "source": [
        "# В случае с линейной функцией активации dtype float32\n",
        "# будет означать просто конвертацию из float16 в float32\n",
        "# outputs = layers.Activation('linear', dtype='float32')(outputs)"
      ],
      "execution_count": null,
      "outputs": []
    },
    {
      "cell_type": "code",
      "metadata": {
        "id": "g4OT3Z6kqYAL"
      },
      "source": [
        "# Скомпелируем нашу модель и подготовим MNIST\n",
        "model = keras.Model(inputs=inputs, outputs=outputs)\n",
        "model.compile(loss='sparse_categorical_crossentropy',\n",
        "              optimizer=keras.optimizers.RMSprop(),\n",
        "              metrics=['accuracy'])\n",
        "\n",
        "(x_train, y_train), (x_test, y_test) = keras.datasets.mnist.load_data()\n",
        "x_train = x_train.reshape(60000, 784).astype('float32') / 255\n",
        "x_test = x_test.reshape(10000, 784).astype('float32') / 255"
      ],
      "execution_count": null,
      "outputs": []
    },
    {
      "cell_type": "code",
      "metadata": {
        "id": "0UYs-u_DgiA5"
      },
      "source": [
        "initial_weights = model.get_weights()"
      ],
      "execution_count": null,
      "outputs": []
    },
    {
      "cell_type": "markdown",
      "metadata": {
        "id": "zlqz6eVKs9aU"
      },
      "source": [
        "## Training the model with Model.fit\n",
        "\n",
        "Next, train the model:"
      ]
    },
    {
      "cell_type": "code",
      "metadata": {
        "colab": {
          "base_uri": "https://localhost:8080/"
        },
        "id": "jU7kl19nu6ZN",
        "outputId": "5fffe2ae-9bf9-4266-aa9d-d3e4503e8170"
      },
      "source": [
        "history = model.fit(x_train, y_train,\n",
        "                    batch_size=8192,\n",
        "                    epochs=5,\n",
        "                    validation_split=0.2)\n",
        "test_scores = model.evaluate(x_test, y_test, verbose=2)\n",
        "print('Test loss:', test_scores[0])\n",
        "print('Test accuracy:', test_scores[1])"
      ],
      "execution_count": null,
      "outputs": [
        {
          "output_type": "stream",
          "name": "stdout",
          "text": [
            "Epoch 1/5\n",
            "6/6 [==============================] - 7s 389ms/step - loss: 2.5002 - accuracy: 0.4216 - val_loss: 0.8174 - val_accuracy: 0.7523\n",
            "Epoch 2/5\n",
            "6/6 [==============================] - 2s 302ms/step - loss: 0.8683 - accuracy: 0.7345 - val_loss: 0.4351 - val_accuracy: 0.8736\n",
            "Epoch 3/5\n",
            "6/6 [==============================] - 2s 288ms/step - loss: 0.5890 - accuracy: 0.8096 - val_loss: 0.3416 - val_accuracy: 0.9000\n",
            "Epoch 4/5\n",
            "6/6 [==============================] - 2s 255ms/step - loss: 0.4200 - accuracy: 0.8610 - val_loss: 0.2949 - val_accuracy: 0.9107\n",
            "Epoch 5/5\n",
            "6/6 [==============================] - 2s 256ms/step - loss: 0.3848 - accuracy: 0.8740 - val_loss: 0.2753 - val_accuracy: 0.9183\n",
            "313/313 - 1s - loss: 0.2794 - accuracy: 0.9156 - 768ms/epoch - 2ms/step\n",
            "Test loss: 0.2794015109539032\n",
            "Test accuracy: 0.9156000018119812\n"
          ]
        }
      ]
    },
    {
      "cell_type": "code",
      "metadata": {
        "colab": {
          "base_uri": "https://localhost:8080/"
        },
        "outputId": "4bad1010-d450-4197-88ed-59dc52301274",
        "id": "gzZtvXPr15dT"
      },
      "source": [
        "history = model.fit(x_train, y_train,\n",
        "                    batch_size=8192,\n",
        "                    epochs=5,\n",
        "                    validation_split=0.2)\n",
        "test_scores = model.evaluate(x_test, y_test, verbose=2)\n",
        "print('Test loss:', test_scores[0])\n",
        "print('Test accuracy:', test_scores[1])"
      ],
      "execution_count": null,
      "outputs": [
        {
          "output_type": "stream",
          "name": "stdout",
          "text": [
            "Epoch 1/5\n",
            "6/6 [==============================] - 2s 118ms/step - loss: 2.2729 - accuracy: 0.4120 - val_loss: 0.8025 - val_accuracy: 0.7676\n",
            "Epoch 2/5\n",
            "6/6 [==============================] - 0s 64ms/step - loss: 1.0470 - accuracy: 0.6799 - val_loss: 0.4546 - val_accuracy: 0.8807\n",
            "Epoch 3/5\n",
            "6/6 [==============================] - 0s 69ms/step - loss: 0.5309 - accuracy: 0.8431 - val_loss: 0.4178 - val_accuracy: 0.8780\n",
            "Epoch 4/5\n",
            "6/6 [==============================] - 0s 64ms/step - loss: 0.4125 - accuracy: 0.8718 - val_loss: 0.2803 - val_accuracy: 0.9216\n",
            "Epoch 5/5\n",
            "6/6 [==============================] - 0s 67ms/step - loss: 0.3778 - accuracy: 0.8847 - val_loss: 0.5009 - val_accuracy: 0.8347\n",
            "313/313 - 1s - loss: 0.5211 - accuracy: 0.8294 - 717ms/epoch - 2ms/step\n",
            "Test loss: 0.5210518836975098\n",
            "Test accuracy: 0.8294000029563904\n"
          ]
        }
      ]
    },
    {
      "cell_type": "markdown",
      "metadata": {
        "id": "mNKMXlCvHgHb"
      },
      "source": [
        "## Loss scaling\n",
        "\n",
        "При использовании `tf.keras.Model.fit` с `mixed_float16` автоматически делаетcя `loss scale`"
      ]
    },
    {
      "cell_type": "markdown",
      "metadata": {
        "id": "1xQX62t2ow0g"
      },
      "source": [
        "### Underflow and Overflow\n"
      ]
    },
    {
      "cell_type": "code",
      "metadata": {
        "id": "CHmXRb-yRWbE",
        "colab": {
          "base_uri": "https://localhost:8080/"
        },
        "outputId": "20534868-f73e-44d8-c807-9d289e370f55"
      },
      "source": [
        "x = tf.constant(256, dtype='float16')\n",
        "print((x ** 2).numpy())\n",
        "\n",
        "x = tf.constant(256, dtype='float32')\n",
        "(x ** 2).numpy()"
      ],
      "execution_count": null,
      "outputs": [
        {
          "output_type": "stream",
          "name": "stdout",
          "text": [
            "inf\n"
          ]
        },
        {
          "output_type": "execute_result",
          "data": {
            "text/plain": [
              "65535.996"
            ]
          },
          "metadata": {},
          "execution_count": 16
        }
      ]
    },
    {
      "cell_type": "code",
      "metadata": {
        "id": "5unZLhN0RfQM",
        "colab": {
          "base_uri": "https://localhost:8080/"
        },
        "outputId": "9f19e230-b189-4521-be38-7b8399001b59"
      },
      "source": [
        "x = tf.constant(1e-5, dtype='float16')\n",
        "print((x ** 2).numpy()  )\n",
        "\n",
        "x = tf.constant(1e-5, dtype='float32')\n",
        "(x ** 2).numpy()"
      ],
      "execution_count": null,
      "outputs": [
        {
          "output_type": "stream",
          "name": "stdout",
          "text": [
            "0.0\n"
          ]
        },
        {
          "output_type": "execute_result",
          "data": {
            "text/plain": [
              "9.9999994e-11"
            ]
          },
          "metadata": {},
          "execution_count": 17
        }
      ]
    },
    {
      "cell_type": "markdown",
      "metadata": {
        "id": "FAL5qij_oNqJ"
      },
      "source": [
        "### Loss scaling overview\n",
        "\n",
        "```\n",
        "loss_scale = 1024\n",
        "loss = model(inputs)\n",
        "loss *= loss_scale\n",
        "# Assume `grads` are float32. You do not want to divide float16 gradients.\n",
        "grads = compute_gradient(loss, model.trainable_variables)\n",
        "grads /= loss_scale\n",
        "```\n",
        "\n",
        "* большой `loss scale` может привести к `overflow`\n",
        "* маленький `loss scale` может привести к `underflow`\n",
        "\n",
        "По дефолту он динамический\n"
      ]
    },
    {
      "cell_type": "markdown",
      "metadata": {
        "id": "yqzbn8Ks9Q98"
      },
      "source": [
        "## Training the model with a custom training loop"
      ]
    },
    {
      "cell_type": "markdown",
      "metadata": {
        "id": "wXTaM8EEyEuo"
      },
      "source": [
        "Если хотим тренироваться с `float16` то надо сделаать два изменения по сравнению с `float32`:\n",
        "\n",
        "1. Build the model with mixed precision (you already did this)\n",
        "2. Explicitly use loss scaling if `mixed_float16` is used.\n"
      ]
    },
    {
      "cell_type": "markdown",
      "metadata": {
        "id": "M2zpp7_65mTZ"
      },
      "source": [
        "Для 2го шага можно использовать `tf.keras.mixed_precision.LossScaleOptimizer`"
      ]
    },
    {
      "cell_type": "code",
      "metadata": {
        "id": "ogZN3rIH0vpj"
      },
      "source": [
        "optimizer = keras.optimizers.RMSprop()\n",
        "optimizer = mixed_precision.LossScaleOptimizer(optimizer)"
      ],
      "execution_count": null,
      "outputs": []
    },
    {
      "cell_type": "code",
      "metadata": {
        "id": "9cE7Mm533hxe"
      },
      "source": [
        "loss_object = tf.keras.losses.SparseCategoricalCrossentropy()\n",
        "train_dataset = (tf.data.Dataset.from_tensor_slices((x_train, y_train))\n",
        "                 .shuffle(10000).batch(8192))\n",
        "test_dataset = tf.data.Dataset.from_tensor_slices((x_test, y_test)).batch(8192)"
      ],
      "execution_count": null,
      "outputs": []
    },
    {
      "cell_type": "code",
      "metadata": {
        "id": "V0vHlust4Rug"
      },
      "source": [
        "@tf.function\n",
        "def train_step(x, y):\n",
        "  with tf.GradientTape() as tape:\n",
        "    predictions = model(x)\n",
        "    loss = loss_object(y, predictions)\n",
        "    scaled_loss = optimizer.get_scaled_loss(loss)\n",
        "  scaled_gradients = tape.gradient(scaled_loss, model.trainable_variables)\n",
        "  gradients = optimizer.get_unscaled_gradients(scaled_gradients)\n",
        "  optimizer.apply_gradients(zip(gradients, model.trainable_variables))\n",
        "  return loss"
      ],
      "execution_count": null,
      "outputs": []
    },
    {
      "cell_type": "code",
      "metadata": {
        "id": "nyk_xiZf42Tt"
      },
      "source": [
        "@tf.function\n",
        "def test_step(x):\n",
        "  return model(x, training=False)"
      ],
      "execution_count": null,
      "outputs": []
    },
    {
      "cell_type": "code",
      "metadata": {
        "id": "jpzOe3WEhFUJ"
      },
      "source": [
        "model.set_weights(initial_weights)"
      ],
      "execution_count": null,
      "outputs": []
    },
    {
      "cell_type": "code",
      "metadata": {
        "id": "N274tJ3e4_6t",
        "colab": {
          "base_uri": "https://localhost:8080/"
        },
        "outputId": "b382aa70-c392-4d5d-a90c-f40e031723ee"
      },
      "source": [
        "for epoch in range(5):\n",
        "  epoch_loss_avg = tf.keras.metrics.Mean()\n",
        "  test_accuracy = tf.keras.metrics.SparseCategoricalAccuracy(\n",
        "      name='test_accuracy')\n",
        "  for x, y in train_dataset:\n",
        "    loss = train_step(x, y)\n",
        "    epoch_loss_avg(loss)\n",
        "  for x, y in test_dataset:\n",
        "    predictions = test_step(x)\n",
        "    test_accuracy.update_state(y, predictions)\n",
        "  print('Epoch {}: loss={}, test accuracy={}'.format(epoch, epoch_loss_avg.result(), test_accuracy.result()))"
      ],
      "execution_count": null,
      "outputs": [
        {
          "output_type": "stream",
          "name": "stdout",
          "text": [
            "Epoch 0: loss=1.7596639394760132, test accuracy=0.48240000009536743\n",
            "Epoch 1: loss=0.8342849016189575, test accuracy=0.7926999926567078\n",
            "Epoch 2: loss=0.4011383056640625, test accuracy=0.7412999868392944\n",
            "Epoch 3: loss=0.40254899859428406, test accuracy=0.9114000201225281\n",
            "Epoch 4: loss=0.3263859450817108, test accuracy=0.9381999969482422\n"
          ]
        }
      ]
    },
    {
      "cell_type": "code",
      "source": [],
      "metadata": {
        "id": "EYCsMQZhf460"
      },
      "execution_count": null,
      "outputs": []
    }
  ]
}