{
  "cells": [
    {
      "cell_type": "code",
      "execution_count": 1,
      "metadata": {
        "id": "vm7IYZQHxSFF"
      },
      "outputs": [],
      "source": [
        "import pandas as pd\n",
        "import numpy as np\n",
        "import os\n",
        "from tqdm import tqdm\n",
        "import matplotlib.pyplot as plt\n",
        "import seaborn as sns\n",
        "\n",
        "import librosa\n",
        "from IPython.display import Audio"
      ]
    },
    {
      "cell_type": "code",
      "execution_count": 2,
      "metadata": {
        "colab": {
          "base_uri": "https://localhost:8080/"
        },
        "id": "DnYWwQoMxd6c",
        "outputId": "c0244509-c8ee-4b2f-e213-133496d70387"
      },
      "outputs": [],
      "source": [
        "# !wget -r https://getfile.dokpub.com/yandex/get/https://disk.yandex.ru/d/4R8jAFyoX4Edzg"
      ]
    },
    {
      "cell_type": "code",
      "execution_count": 3,
      "metadata": {
        "colab": {
          "base_uri": "https://localhost:8080/"
        },
        "id": "vQzcibTvxhdr",
        "outputId": "6877f457-14b4-4340-b04b-2ad5249485a3"
      },
      "outputs": [],
      "source": [
        "# !mkdir data\n",
        "# !unzip -u getfile.dokpub.com/yandex/get/https:/disk.yandex.ru/d/4R8jAFyoX4Edzg -d data"
      ]
    },
    {
      "cell_type": "code",
      "execution_count": 4,
      "metadata": {
        "id": "cOZTYVvixped"
      },
      "outputs": [],
      "source": [
        "person=2\n",
        "digit = 0"
      ]
    },
    {
      "cell_type": "code",
      "execution_count": 5,
      "metadata": {
        "id": "VGQaW2Nwyd-6"
      },
      "outputs": [],
      "source": [
        "#Modified get_data()\n",
        "def get_data_m(digit=0,person=person,index=0,target_sr=16000):\n",
        "    if person < 10:\n",
        "        file = f\"data/voice_ger/0{person}/{digit}_0{person}_{index}.wav\"\n",
        "    else:\n",
        "        file = f\"data/voice_ger/{person}/{digit}_{person}_{index}.wav\"\n",
        "\n",
        "    data, sr = librosa.load(file)#sr=22050\n",
        "    #down sampling to 8000Hz\n",
        "    down_d = librosa.resample(data, orig_sr=sr, target_sr=target_sr)\n",
        "    #fixed length of all data to 12000 samples\n",
        "    fix_len_d = librosa.util.fix_length(down_d, size=12000)\n",
        "    return fix_len_d, target_sr"
      ]
    },
    {
      "cell_type": "code",
      "execution_count": 6,
      "metadata": {
        "id": "RNpt0VYZyixS"
      },
      "outputs": [],
      "source": [
        "def read_data(digit=0, person=2, index=0):\n",
        "    data_per = get_data_m(digit=digit, person=person, index=index)\n",
        "    return data_per"
      ]
    },
    {
      "cell_type": "code",
      "execution_count": 8,
      "metadata": {
        "id": "NR8fZoIcyohj"
      },
      "outputs": [],
      "source": [
        "df_0 = pd.DataFrame()\n",
        "df_1 = pd.DataFrame()"
      ]
    },
    {
      "cell_type": "code",
      "execution_count": 9,
      "metadata": {
        "id": "W8UcOnNiyutj"
      },
      "outputs": [],
      "source": [
        "for i in range(0,50):\n",
        "    df_0[i] = pd.DataFrame(read_data(digit=0, index=i, person=2)[0])"
      ]
    },
    {
      "cell_type": "code",
      "execution_count": 10,
      "metadata": {
        "id": "An5mymTkzA_O"
      },
      "outputs": [],
      "source": [
        "for i in range(0,50):\n",
        "    df_1[i] = pd.DataFrame(read_data(digit=1, index=i, person=2)[0])"
      ]
    },
    {
      "cell_type": "code",
      "execution_count": 11,
      "metadata": {
        "id": "ZsNfVwC6zHJf"
      },
      "outputs": [],
      "source": [
        "df_0 = df_0.add_suffix('_0')\n",
        "df_1 = df_1.add_suffix('_1')"
      ]
    },
    {
      "cell_type": "code",
      "execution_count": 12,
      "metadata": {
        "id": "wy2CB5QbzMY_"
      },
      "outputs": [],
      "source": [
        "df = pd.concat([df_0, df_1], axis =1)"
      ]
    },
    {
      "cell_type": "code",
      "execution_count": 13,
      "metadata": {
        "id": "KDfyUQmCzWhY"
      },
      "outputs": [],
      "source": [
        "target = [0 if x<50 else 1 for x in range(0,100)]"
      ]
    },
    {
      "cell_type": "code",
      "execution_count": 14,
      "metadata": {
        "id": "TeURFh67zZTw"
      },
      "outputs": [
        {
          "data": {
            "text/plain": [
              "(array([0, 1]), array([50, 50]))"
            ]
          },
          "execution_count": 14,
          "metadata": {},
          "output_type": "execute_result"
        }
      ],
      "source": [
        "np.unique(target, return_counts= True)"
      ]
    },
    {
      "cell_type": "markdown",
      "metadata": {
        "id": "1z-37j8Azd3J"
      },
      "source": [
        "Давайте обучим модель БЕЗ извлечения признаков"
      ]
    },
    {
      "cell_type": "code",
      "execution_count": 15,
      "metadata": {
        "id": "qN8ubn69zcDp"
      },
      "outputs": [],
      "source": [
        "from sklearn.ensemble import RandomForestClassifier\n",
        "from sklearn.metrics import classification_report"
      ]
    },
    {
      "cell_type": "code",
      "execution_count": 16,
      "metadata": {
        "id": "jteU_U7FziJ6"
      },
      "outputs": [],
      "source": [
        "X = df.T.values"
      ]
    },
    {
      "cell_type": "code",
      "execution_count": 17,
      "metadata": {
        "id": "YIFOAYmTzk3L"
      },
      "outputs": [],
      "source": [
        "Y = np.array(target)[None].T"
      ]
    },
    {
      "cell_type": "code",
      "execution_count": 18,
      "metadata": {
        "id": "4Qs8zqX8zmmS"
      },
      "outputs": [
        {
          "data": {
            "text/plain": [
              "(100, 1)"
            ]
          },
          "execution_count": 18,
          "metadata": {},
          "output_type": "execute_result"
        }
      ],
      "source": [
        "Y.shape"
      ]
    },
    {
      "cell_type": "code",
      "execution_count": 19,
      "metadata": {
        "id": "TqFKpdapzpVL"
      },
      "outputs": [
        {
          "name": "stdout",
          "output_type": "stream",
          "text": [
            "(70, 12000) (70, 1) (30, 12000) (30, 1)\n"
          ]
        }
      ],
      "source": [
        "from sklearn.model_selection import train_test_split\n",
        "X_train,X_test,Y_train,Y_test = train_test_split(X, Y, test_size=.3,\n",
        "                                                shuffle=True,random_state=42)\n",
        "print(X_train.shape,Y_train.shape, X_test.shape,Y_test.shape)"
      ]
    },
    {
      "cell_type": "code",
      "execution_count": 26,
      "metadata": {
        "id": "VtSMOnPezszr"
      },
      "outputs": [
        {
          "name": "stdout",
          "output_type": "stream",
          "text": [
            "Accuracy on training set is : 1.00\n",
            "Accuracy on test set is : 0.83\n",
            "              precision    recall  f1-score   support\n",
            "\n",
            "           0       1.00      0.71      0.83        17\n",
            "           1       0.72      1.00      0.84        13\n",
            "\n",
            "    accuracy                           0.83        30\n",
            "   macro avg       0.86      0.85      0.83        30\n",
            "weighted avg       0.88      0.83      0.83        30\n",
            "\n"
          ]
        },
        {
          "name": "stderr",
          "output_type": "stream",
          "text": [
            "/Users/stureiko/miniforge3/envs/otus/lib/python3.10/site-packages/sklearn/base.py:1152: DataConversionWarning: A column-vector y was passed when a 1d array was expected. Please change the shape of y to (n_samples,), for example using ravel().\n",
            "  return fit_method(estimator, *args, **kwargs)\n"
          ]
        }
      ],
      "source": [
        "clf = RandomForestClassifier(n_estimators=10)\n",
        "clf.fit(X_train, Y_train)\n",
        "print(\"Accuracy on training set is : {:.2f}\".format(clf.score(X_train, Y_train)))\n",
        "print(\"Accuracy on test set is : {:.2f}\".format(clf.score(X_test, Y_test)))\n",
        "Y_test_pred = clf.predict(X_test)\n",
        "print(classification_report(Y_test, Y_test_pred))"
      ]
    },
    {
      "cell_type": "code",
      "execution_count": 27,
      "metadata": {
        "id": "P2ASY2CMzwbr"
      },
      "outputs": [
        {
          "data": {
            "text/plain": [
              "array([[12,  5],\n",
              "       [ 0, 13]])"
            ]
          },
          "execution_count": 27,
          "metadata": {},
          "output_type": "execute_result"
        }
      ],
      "source": [
        "from sklearn.metrics import confusion_matrix\n",
        "confusion_matrix(Y_test, Y_test_pred)"
      ]
    },
    {
      "cell_type": "markdown",
      "metadata": {
        "id": "uumbecbkzxM8"
      },
      "source": [
        "Давайте теперь обучим модель на основе выделенных признаков"
      ]
    },
    {
      "cell_type": "code",
      "execution_count": 29,
      "metadata": {
        "id": "QJnVcnvhz-A8"
      },
      "outputs": [],
      "source": [
        "# !pip install tsfel"
      ]
    },
    {
      "cell_type": "code",
      "execution_count": 28,
      "metadata": {
        "id": "nsUngYyAzzU0"
      },
      "outputs": [],
      "source": [
        "import tsfel"
      ]
    },
    {
      "cell_type": "code",
      "execution_count": 29,
      "metadata": {
        "id": "FYDKxroDz0Hk"
      },
      "outputs": [],
      "source": [
        "cfg_file = tsfel.get_features_by_domain('spectral') # 'temporal', 'statistical'\n",
        "\n",
        "fs=1000 # частота дискретизации\n"
      ]
    },
    {
      "cell_type": "code",
      "execution_count": 30,
      "metadata": {
        "id": "U7LjOFQ900jL"
      },
      "outputs": [
        {
          "name": "stderr",
          "output_type": "stream",
          "text": [
            "100%|██████████| 70/70 [00:24<00:00,  2.80it/s]\n"
          ]
        }
      ],
      "source": [
        "X_train_tsfel = pd.DataFrame()\n",
        "\n",
        "for i in tqdm(range(0,len(X_train))):\n",
        "    X_train_tsfel[i] = tsfel.time_series_features_extractor(cfg_file, X_train[i], fs=fs, verbose=False).T"
      ]
    },
    {
      "cell_type": "code",
      "execution_count": 31,
      "metadata": {
        "id": "nvHQ6vjO1w2J"
      },
      "outputs": [
        {
          "name": "stderr",
          "output_type": "stream",
          "text": [
            "100%|██████████| 30/30 [00:10<00:00,  2.86it/s]\n"
          ]
        }
      ],
      "source": [
        "X_test_tsfel = pd.DataFrame()\n",
        "\n",
        "for i in tqdm(range(0,len(X_test))):\n",
        "    X_test_tsfel[i] = tsfel.time_series_features_extractor(cfg_file, X_test[i], fs=fs, verbose=False).T"
      ]
    },
    {
      "cell_type": "code",
      "execution_count": 32,
      "metadata": {
        "id": "4Gab3mPD2LsE"
      },
      "outputs": [
        {
          "data": {
            "text/plain": [
              "(70, 12000)"
            ]
          },
          "execution_count": 32,
          "metadata": {},
          "output_type": "execute_result"
        }
      ],
      "source": [
        "X_train.shape"
      ]
    },
    {
      "cell_type": "code",
      "execution_count": 33,
      "metadata": {
        "id": "REWbrWBk2J31"
      },
      "outputs": [
        {
          "data": {
            "text/plain": [
              "array([[1.27411739e-08, 3.60189572e-08, 2.60033159e-08, ...,\n",
              "        2.63452819e-05, 3.55551826e-05, 4.42315455e-05],\n",
              "       [9.99224916e-09, 5.19895995e-08, 3.46842608e-08, ...,\n",
              "        4.08546421e-05, 5.63321358e-05, 7.10137204e-05],\n",
              "       [6.36961088e-09, 3.71490381e-08, 1.62710261e-08, ...,\n",
              "        3.52351159e-05, 3.84520384e-05, 4.17687457e-05],\n",
              "       ...,\n",
              "       [8.07795423e-09, 6.19106481e-08, 2.92935674e-08, ...,\n",
              "        5.22328076e-05, 6.81663788e-05, 8.08312617e-05],\n",
              "       [9.71714374e-09, 3.48331020e-08, 2.58868293e-08, ...,\n",
              "        9.07062635e-05, 8.54337702e-05, 7.69051253e-05],\n",
              "       [7.78551978e-09, 3.95876221e-08, 1.63814571e-08, ...,\n",
              "        5.33121740e-05, 4.93398638e-05, 4.49818246e-05]])"
            ]
          },
          "execution_count": 33,
          "metadata": {},
          "output_type": "execute_result"
        }
      ],
      "source": [
        "X_train_tsfel.T.values"
      ]
    },
    {
      "cell_type": "code",
      "execution_count": 57,
      "metadata": {
        "id": "1zmNeC-V13wx"
      },
      "outputs": [
        {
          "name": "stdout",
          "output_type": "stream",
          "text": [
            "Accuracy on training set is : 1.00\n",
            "Accuracy on test set is : 1.00\n",
            "              precision    recall  f1-score   support\n",
            "\n",
            "           0       1.00      1.00      1.00        17\n",
            "           1       1.00      1.00      1.00        13\n",
            "\n",
            "    accuracy                           1.00        30\n",
            "   macro avg       1.00      1.00      1.00        30\n",
            "weighted avg       1.00      1.00      1.00        30\n",
            "\n"
          ]
        },
        {
          "name": "stderr",
          "output_type": "stream",
          "text": [
            "/Users/stureiko/miniforge3/envs/otus/lib/python3.10/site-packages/sklearn/base.py:1152: DataConversionWarning: A column-vector y was passed when a 1d array was expected. Please change the shape of y to (n_samples,), for example using ravel().\n",
            "  return fit_method(estimator, *args, **kwargs)\n"
          ]
        }
      ],
      "source": [
        "clf = RandomForestClassifier(n_estimators=10, max_depth=4)\n",
        "clf.fit(X_train_tsfel.T.values, Y_train)\n",
        "print(\"Accuracy on training set is : {:.2f}\".format(clf.score(X_train_tsfel.values.T, Y_train)))\n",
        "print(\"Accuracy on test set is : {:.2f}\".format(clf.score(X_test_tsfel.T.values, Y_test)))\n",
        "Y_test_pred = clf.predict(X_test_tsfel.T.values)\n",
        "print(classification_report(Y_test, Y_test_pred))"
      ]
    },
    {
      "cell_type": "code",
      "execution_count": 58,
      "metadata": {},
      "outputs": [
        {
          "data": {
            "text/plain": [
              "array([[17,  0],\n",
              "       [ 0, 13]])"
            ]
          },
          "execution_count": 58,
          "metadata": {},
          "output_type": "execute_result"
        }
      ],
      "source": [
        "confusion_matrix(Y_test, Y_test_pred)"
      ]
    },
    {
      "cell_type": "markdown",
      "metadata": {
        "id": "wsGRt13X7Q1w"
      },
      "source": [
        "Вывод: при более примитивных характеристиках классификатора, использование tsfel позволяет повысить точностные характеристики, выделив наиболее существенные признаки из набора данных"
      ]
    }
  ],
  "metadata": {
    "colab": {
      "provenance": []
    },
    "kernelspec": {
      "display_name": "Python 3",
      "name": "python3"
    },
    "language_info": {
      "codemirror_mode": {
        "name": "ipython",
        "version": 3
      },
      "file_extension": ".py",
      "mimetype": "text/x-python",
      "name": "python",
      "nbconvert_exporter": "python",
      "pygments_lexer": "ipython3",
      "version": "3.10.12"
    }
  },
  "nbformat": 4,
  "nbformat_minor": 0
}
