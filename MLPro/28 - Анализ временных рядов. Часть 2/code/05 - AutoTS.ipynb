{
  "cells": [
    {
      "cell_type": "code",
      "execution_count": 1,
      "metadata": {
        "colab": {
          "base_uri": "https://localhost:8080/"
        },
        "id": "SLgTIe9SsHYv",
        "outputId": "e4ff57ea-a169-4248-cddf-8a54bc73fc18"
      },
      "outputs": [],
      "source": [
        "# ! pip install autots"
      ]
    },
    {
      "cell_type": "code",
      "execution_count": 4,
      "metadata": {
        "id": "atMB90sssCFI"
      },
      "outputs": [],
      "source": [
        "# HelloWorld-пример:\n",
        "\n",
        "from autots.datasets import load_monthly # also: _hourly, _daily, _weekly, or _yearly\n",
        "\n",
        "df_long = load_monthly(long=True)\n"
      ]
    },
    {
      "cell_type": "code",
      "execution_count": 5,
      "metadata": {
        "colab": {
          "base_uri": "https://localhost:8080/",
          "height": 423
        },
        "id": "u2EFndB9srn1",
        "outputId": "4ed92695-17ba-4973-f646-76fcb84e73d0"
      },
      "outputs": [
        {
          "data": {
            "text/html": [
              "<div>\n",
              "<style scoped>\n",
              "    .dataframe tbody tr th:only-of-type {\n",
              "        vertical-align: middle;\n",
              "    }\n",
              "\n",
              "    .dataframe tbody tr th {\n",
              "        vertical-align: top;\n",
              "    }\n",
              "\n",
              "    .dataframe thead th {\n",
              "        text-align: right;\n",
              "    }\n",
              "</style>\n",
              "<table border=\"1\" class=\"dataframe\">\n",
              "  <thead>\n",
              "    <tr style=\"text-align: right;\">\n",
              "      <th></th>\n",
              "      <th>datetime</th>\n",
              "      <th>value</th>\n",
              "      <th>series_id</th>\n",
              "      <th>series_name</th>\n",
              "    </tr>\n",
              "  </thead>\n",
              "  <tbody>\n",
              "    <tr>\n",
              "      <th>0</th>\n",
              "      <td>1953-04-01</td>\n",
              "      <td>2.83</td>\n",
              "      <td>GS10</td>\n",
              "      <td>10-Year Treasury Constant Maturity Rate</td>\n",
              "    </tr>\n",
              "    <tr>\n",
              "      <th>1</th>\n",
              "      <td>1953-05-01</td>\n",
              "      <td>3.05</td>\n",
              "      <td>GS10</td>\n",
              "      <td>10-Year Treasury Constant Maturity Rate</td>\n",
              "    </tr>\n",
              "    <tr>\n",
              "      <th>2</th>\n",
              "      <td>1953-06-01</td>\n",
              "      <td>3.11</td>\n",
              "      <td>GS10</td>\n",
              "      <td>10-Year Treasury Constant Maturity Rate</td>\n",
              "    </tr>\n",
              "    <tr>\n",
              "      <th>3</th>\n",
              "      <td>1953-07-01</td>\n",
              "      <td>2.93</td>\n",
              "      <td>GS10</td>\n",
              "      <td>10-Year Treasury Constant Maturity Rate</td>\n",
              "    </tr>\n",
              "    <tr>\n",
              "      <th>4</th>\n",
              "      <td>1953-08-01</td>\n",
              "      <td>2.95</td>\n",
              "      <td>GS10</td>\n",
              "      <td>10-Year Treasury Constant Maturity Rate</td>\n",
              "    </tr>\n",
              "  </tbody>\n",
              "</table>\n",
              "</div>"
            ],
            "text/plain": [
              "    datetime  value series_id                              series_name\n",
              "0 1953-04-01   2.83      GS10  10-Year Treasury Constant Maturity Rate\n",
              "1 1953-05-01   3.05      GS10  10-Year Treasury Constant Maturity Rate\n",
              "2 1953-06-01   3.11      GS10  10-Year Treasury Constant Maturity Rate\n",
              "3 1953-07-01   2.93      GS10  10-Year Treasury Constant Maturity Rate\n",
              "4 1953-08-01   2.95      GS10  10-Year Treasury Constant Maturity Rate"
            ]
          },
          "execution_count": 5,
          "metadata": {},
          "output_type": "execute_result"
        }
      ],
      "source": [
        "df_long.head()"
      ]
    },
    {
      "cell_type": "code",
      "execution_count": 6,
      "metadata": {
        "id": "kSRq80t5zHxZ"
      },
      "outputs": [],
      "source": [
        "model_list = [\n",
        "    #'LastValueNaive',\n",
        "    'GLM',\n",
        "    'ETS',\n",
        "    'AverageValueNaive',\n",
        "]"
      ]
    },
    {
      "cell_type": "code",
      "execution_count": 7,
      "metadata": {
        "colab": {
          "base_uri": "https://localhost:8080/"
        },
        "id": "tiPQtoVwsunT",
        "outputId": "d8c5d868-7ed7-4869-e4fa-ff3c50eb42b1"
      },
      "outputs": [
        {
          "name": "stdout",
          "output_type": "stream",
          "text": [
            "Template Eval Error: ValueError('The first guess on the deviance function returned a nan.  This could be a boundary  problem and should be reported.') in model 9 in generation 0: GLM\n"
          ]
        },
        {
          "name": "stderr",
          "output_type": "stream",
          "text": [
            "/Users/stureiko/miniforge3/envs/otus/lib/python3.10/site-packages/statsmodels/genmod/families/family.py:1367: ValueWarning: Negative binomial dispersion parameter alpha not set. Using default value alpha=1.0.\n",
            "  warnings.warn(\"Negative binomial dispersion parameter alpha not \"\n",
            "/Users/stureiko/miniforge3/envs/otus/lib/python3.10/site-packages/statsmodels/genmod/families/family.py:1406: RuntimeWarning: invalid value encountered in log\n",
            "  resid_dev -= endog_alpha * np.log(endog_alpha / mu_alpha)\n",
            "/Users/stureiko/miniforge3/envs/otus/lib/python3.10/site-packages/statsmodels/genmod/families/family.py:1367: ValueWarning: Negative binomial dispersion parameter alpha not set. Using default value alpha=1.0.\n",
            "  warnings.warn(\"Negative binomial dispersion parameter alpha not \"\n",
            "/Users/stureiko/miniforge3/envs/otus/lib/python3.10/site-packages/statsmodels/genmod/families/family.py:1406: RuntimeWarning: invalid value encountered in log\n",
            "  resid_dev -= endog_alpha * np.log(endog_alpha / mu_alpha)\n",
            "/Users/stureiko/miniforge3/envs/otus/lib/python3.10/site-packages/statsmodels/genmod/families/family.py:1367: ValueWarning: Negative binomial dispersion parameter alpha not set. Using default value alpha=1.0.\n",
            "  warnings.warn(\"Negative binomial dispersion parameter alpha not \"\n",
            "/Users/stureiko/miniforge3/envs/otus/lib/python3.10/site-packages/statsmodels/genmod/families/family.py:1367: ValueWarning: Negative binomial dispersion parameter alpha not set. Using default value alpha=1.0.\n",
            "  warnings.warn(\"Negative binomial dispersion parameter alpha not \"\n",
            "/Users/stureiko/miniforge3/envs/otus/lib/python3.10/site-packages/statsmodels/genmod/families/family.py:1367: ValueWarning: Negative binomial dispersion parameter alpha not set. Using default value alpha=1.0.\n",
            "  warnings.warn(\"Negative binomial dispersion parameter alpha not \"\n",
            "/Users/stureiko/miniforge3/envs/otus/lib/python3.10/site-packages/statsmodels/genmod/families/family.py:1367: ValueWarning: Negative binomial dispersion parameter alpha not set. Using default value alpha=1.0.\n",
            "  warnings.warn(\"Negative binomial dispersion parameter alpha not \"\n",
            "/Users/stureiko/miniforge3/envs/otus/lib/python3.10/site-packages/statsmodels/genmod/families/family.py:1367: ValueWarning: Negative binomial dispersion parameter alpha not set. Using default value alpha=1.0.\n",
            "  warnings.warn(\"Negative binomial dispersion parameter alpha not \"\n",
            "/Users/stureiko/miniforge3/envs/otus/lib/python3.10/site-packages/statsmodels/genmod/families/family.py:1367: ValueWarning: Negative binomial dispersion parameter alpha not set. Using default value alpha=1.0.\n",
            "  warnings.warn(\"Negative binomial dispersion parameter alpha not \"\n",
            "/Users/stureiko/miniforge3/envs/otus/lib/python3.10/site-packages/statsmodels/genmod/families/family.py:1367: ValueWarning: Negative binomial dispersion parameter alpha not set. Using default value alpha=1.0.\n",
            "  warnings.warn(\"Negative binomial dispersion parameter alpha not \"\n",
            "/Users/stureiko/miniforge3/envs/otus/lib/python3.10/site-packages/statsmodels/genmod/families/family.py:1406: RuntimeWarning: invalid value encountered in log\n",
            "  resid_dev -= endog_alpha * np.log(endog_alpha / mu_alpha)\n"
          ]
        },
        {
          "name": "stdout",
          "output_type": "stream",
          "text": [
            "Template Eval Error: NameError(\"free variable 'Xf' referenced before assignment in enclosing scope\") in model 13 in generation 0: GLM\n",
            "Initiated AutoTS object with best model: \n",
            "Ensemble\n",
            "{}\n",
            "{'model_name': 'BestN', 'model_count': 5, 'model_metric': 'bestn_horizontal', 'models': {'648d1986a45e9d0b550c4e9badf16e03': {'Model': 'AverageValueNaive', 'ModelParameters': '{\"method\": \"Mean\", \"window\": null}', 'TransformationParameters': '{\"fillna\": \"akima\", \"transformations\": {\"0\": \"StandardScaler\", \"1\": \"DifferencedTransformer\", \"2\": \"bkfilter\", \"3\": \"RobustScaler\", \"4\": \"Detrend\"}, \"transformation_params\": {\"0\": {}, \"1\": {\"lag\": 1, \"fill\": \"bfill\"}, \"2\": {}, \"3\": {}, \"4\": {\"model\": \"GLS\", \"phi\": 1, \"window\": null, \"transform_dict\": {\"fillna\": null, \"transformations\": {\"0\": \"bkfilter\"}, \"transformation_params\": {\"0\": {}}}}}}'}, 'cddb0ef2d7d62c155450935ec97757e5': {'Model': 'AverageValueNaive', 'ModelParameters': '{\"method\": \"Mean\", \"window\": null}', 'TransformationParameters': '{\"fillna\": \"mean\", \"transformations\": {\"0\": \"ClipOutliers\", \"1\": \"QuantileTransformer\", \"2\": \"DifferencedTransformer\"}, \"transformation_params\": {\"0\": {\"method\": \"clip\", \"std_threshold\": 3, \"fillna\": null}, \"1\": {\"output_distribution\": \"uniform\", \"n_quantiles\": 266}, \"2\": {}}}'}, '5e75ed52611fa9266c855f5876eb8720': {'Model': 'AverageValueNaive', 'ModelParameters': '{\"method\": \"Mean\", \"window\": null}', 'TransformationParameters': '{\"fillna\": \"fake_date\", \"transformations\": {\"0\": \"DifferencedTransformer\", \"1\": \"SinTrend\"}, \"transformation_params\": {\"0\": {}, \"1\": {}}}'}, 'fe314314d77739470f12d4b94d0644d5': {'Model': 'AverageValueNaive', 'ModelParameters': '{\"method\": \"Mean\", \"window\": 2}', 'TransformationParameters': '{\"fillna\": \"rolling_mean\", \"transformations\": {\"0\": \"ClipOutliers\"}, \"transformation_params\": {\"0\": {\"method\": \"clip\", \"std_threshold\": 4, \"fillna\": null}}}'}, '0181278de69621582f7c03c262606646': {'Model': 'ETS', 'ModelParameters': '{\"damped_trend\": false, \"trend\": null, \"seasonal\": \"additive\", \"seasonal_periods\": 28}', 'TransformationParameters': '{\"fillna\": \"zero\", \"transformations\": {\"0\": \"MaxAbsScaler\", \"1\": \"Slice\"}, \"transformation_params\": {\"0\": {}, \"1\": {\"method\": 100}}}'}}, 'point_method': 'median', 'model_weights': {}}\n",
            "Validation: 0, 1, 2\n",
            "SMAPE: 4.696689788002745, 7.395770571962877, 7.31153168581881\n",
            "MAE: 1.7981019144144232, 3.418535452218105, 3.58964566363507\n",
            "SPL: 0.490447916952976, 1.652894752759468, 0.7263844888326455\n"
          ]
        }
      ],
      "source": [
        "from autots import AutoTS\n",
        "\n",
        "\n",
        "model = AutoTS(\n",
        "    forecast_length=3,\n",
        "    frequency='infer',\n",
        "    ensemble='simple',\n",
        "    max_generations=0,\n",
        "    num_validations=2,\n",
        "    model_list=model_list,\n",
        "    verbose=False,\n",
        ")\n",
        "model = model.fit(df_long, date_col='datetime', value_col='value', id_col='series_id')\n",
        "\n",
        "# Print the description of the best model\n",
        "print(model)"
      ]
    },
    {
      "cell_type": "code",
      "execution_count": null,
      "metadata": {},
      "outputs": [],
      "source": []
    },
    {
      "cell_type": "code",
      "execution_count": null,
      "metadata": {},
      "outputs": [],
      "source": []
    }
  ],
  "metadata": {
    "colab": {
      "provenance": []
    },
    "kernelspec": {
      "display_name": "Python 3",
      "name": "python3"
    },
    "language_info": {
      "codemirror_mode": {
        "name": "ipython",
        "version": 3
      },
      "file_extension": ".py",
      "mimetype": "text/x-python",
      "name": "python",
      "nbconvert_exporter": "python",
      "pygments_lexer": "ipython3",
      "version": "3.10.12"
    }
  },
  "nbformat": 4,
  "nbformat_minor": 0
}
