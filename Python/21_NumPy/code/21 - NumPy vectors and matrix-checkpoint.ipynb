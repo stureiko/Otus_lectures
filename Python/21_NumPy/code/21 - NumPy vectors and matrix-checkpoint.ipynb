{
 "cells": [
  {
   "cell_type": "markdown",
   "metadata": {
    "id": "LrGKwP5kU0fV"
   },
   "source": [
    "# Массивы и их создание"
   ]
  },
  {
   "cell_type": "markdown",
   "metadata": {
    "id": "5i4vRqgs3Erl"
   },
   "source": [
    "Одна из ключевых особенностей NumPy – объект **ndarray** для представления\n",
    "N-мерного массива. Это быстрый и гибкий контейнер для хранения больших\n",
    "наборов данных в Python. Массивы позволяют выполнять математические\n",
    "операции над целыми блоками данных, применяя такой же синтаксис, как\n",
    "для соответствующих операций над скалярами.\n"
   ]
  },
  {
   "cell_type": "markdown",
   "metadata": {
    "id": "ms2-jj_l4vOD"
   },
   "source": [
    "**ndarray** – это обобщенный многомерный контейнер для однородных данных, т. е. в нем могут храниться только элементы одного типа."
   ]
  },
  {
   "cell_type": "code",
   "execution_count": 1,
   "metadata": {
    "id": "uqdDSeTTV0fz"
   },
   "outputs": [],
   "source": [
    "import numpy as np"
   ]
  },
  {
   "cell_type": "code",
   "execution_count": 2,
   "metadata": {},
   "outputs": [
    {
     "data": {
      "text/plain": [
       "'1.26.4'"
      ]
     },
     "execution_count": 2,
     "metadata": {},
     "output_type": "execute_result"
    }
   ],
   "source": [
    "np.__version__"
   ]
  },
  {
   "cell_type": "markdown",
   "metadata": {
    "id": "vLfQNNHJ6klg"
   },
   "source": [
    "Проще всего создать массив с помощью функции array. Она принимает\n",
    "любой объект, похожий на последовательность (в том числе другой массив), и порождает новый массив NumPy, содержащий переданные данные. Например, такое преобразование можно проделать со списком:"
   ]
  },
  {
   "cell_type": "code",
   "execution_count": 3,
   "metadata": {
    "colab": {
     "base_uri": "https://localhost:8080/"
    },
    "id": "M2OTqn0s6p0_",
    "outputId": "b048d073-5e51-46b1-d8d8-7fc69743e37a"
   },
   "outputs": [
    {
     "data": {
      "text/plain": [
       "array([6. , 7.5, 8. , 0. , 1. ])"
      ]
     },
     "execution_count": 3,
     "metadata": {},
     "output_type": "execute_result"
    }
   ],
   "source": [
    "data = [6, 7.5, 8, 0, 1]\n",
    "arr1 = np.array(data)\n",
    "arr1"
   ]
  },
  {
   "cell_type": "markdown",
   "metadata": {
    "id": "WWFKSuok8SW2"
   },
   "source": [
    "Вложенные последовательности, например список списков одинаковой\n",
    "длины, можно преобразовать в многомерный массив:"
   ]
  },
  {
   "cell_type": "code",
   "execution_count": 3,
   "metadata": {
    "colab": {
     "base_uri": "https://localhost:8080/"
    },
    "id": "ozNgSuff8UFN",
    "outputId": "ae61f3cc-5748-487d-e4c0-7726eccdf250"
   },
   "outputs": [
    {
     "data": {
      "text/plain": [
       "array([[1, 2, 3, 4],\n",
       "       [5, 6, 7, 8]])"
      ]
     },
     "execution_count": 3,
     "metadata": {},
     "output_type": "execute_result"
    }
   ],
   "source": [
    "data2 = [[1, 2, 3, 4], [5, 6, 7, 8]]\n",
    "arr2 = np.array(data2)\n",
    "arr2"
   ]
  },
  {
   "cell_type": "markdown",
   "metadata": {
    "id": "kmYxJcQz5cPI"
   },
   "source": [
    "У любого массива есть атрибут shape – кортеж, описывающий размер по каждому измерению"
   ]
  },
  {
   "cell_type": "code",
   "execution_count": 4,
   "metadata": {
    "colab": {
     "base_uri": "https://localhost:8080/"
    },
    "id": "n5HO-kxK5hrS",
    "outputId": "8dbe8fce-0d13-495b-9bbe-e91a6e3f1c04"
   },
   "outputs": [
    {
     "data": {
      "text/plain": [
       "(2, 4)"
      ]
     },
     "execution_count": 4,
     "metadata": {},
     "output_type": "execute_result"
    }
   ],
   "source": [
    "arr2.shape"
   ]
  },
  {
   "cell_type": "markdown",
   "metadata": {},
   "source": [
    "Атрибут `ndim` возвращает количество измерений массива"
   ]
  },
  {
   "cell_type": "code",
   "execution_count": 6,
   "metadata": {
    "colab": {
     "base_uri": "https://localhost:8080/"
    },
    "id": "StfuhK_0FR2s",
    "outputId": "e43d3bd6-b4ec-4e94-aa55-eb9c24a440a1"
   },
   "outputs": [
    {
     "data": {
      "text/plain": [
       "2"
      ]
     },
     "execution_count": 6,
     "metadata": {},
     "output_type": "execute_result"
    }
   ],
   "source": [
    "arr2.ndim"
   ]
  },
  {
   "cell_type": "markdown",
   "metadata": {},
   "source": [
    "Атрибут `size` возвращает количество элементов в массиве"
   ]
  },
  {
   "cell_type": "code",
   "execution_count": 7,
   "metadata": {
    "colab": {
     "base_uri": "https://localhost:8080/"
    },
    "id": "-gZTduRBFWeR",
    "outputId": "318b611c-95ab-449c-bfd5-5c0ebb5c2a26"
   },
   "outputs": [
    {
     "data": {
      "text/plain": [
       "8"
      ]
     },
     "execution_count": 7,
     "metadata": {},
     "output_type": "execute_result"
    }
   ],
   "source": [
    "arr2.size"
   ]
  },
  {
   "cell_type": "markdown",
   "metadata": {},
   "source": [
    "Атрибут `dtype` – объект, описывающий тип данных в массиве"
   ]
  },
  {
   "cell_type": "code",
   "execution_count": 8,
   "metadata": {
    "colab": {
     "base_uri": "https://localhost:8080/"
    },
    "id": "ngFMfk7G5lG6",
    "outputId": "428c3e36-8ad5-4e70-e4a9-c28fe8a47b34"
   },
   "outputs": [
    {
     "data": {
      "text/plain": [
       "dtype('int64')"
      ]
     },
     "execution_count": 8,
     "metadata": {},
     "output_type": "execute_result"
    }
   ],
   "source": [
    "arr2.dtype"
   ]
  },
  {
   "cell_type": "markdown",
   "metadata": {
    "id": "_fqav_dkDKDc"
   },
   "source": [
    "Теперь давайте посмотрим, что будет с данными, если мы попробуем объединить в массив объекты разных типов:"
   ]
  },
  {
   "cell_type": "code",
   "execution_count": 9,
   "metadata": {
    "colab": {
     "base_uri": "https://localhost:8080/"
    },
    "id": "SzzL6CeaDUyU",
    "outputId": "04a5940d-9640-48b6-8a14-ab701acabd33"
   },
   "outputs": [
    {
     "name": "stdout",
     "output_type": "stream",
     "text": [
      "[['1' '2' '3' '4']\n",
      " ['5' '6' '7' '8']] <U21\n"
     ]
    }
   ],
   "source": [
    "data2 = [[1, 2, 3, '4'], [5, 6, 7, 8]]\n",
    "arr2 = np.array(data2)\n",
    "print(arr2,arr2.dtype)"
   ]
  },
  {
   "cell_type": "markdown",
   "metadata": {
    "id": "Ai6XGwwt8t32"
   },
   "source": [
    "Помимо np.array существует еще ряд функций для создания массивов. Например, zeros и ones создают массивы заданной длины, состоящие из нулей и единиц соответственно, а shape.empty создает массив, не инициализируя его элементы. \n",
    "\n",
    "Для создания многомерных массивов нужно передать кортеж,\n",
    "описывающий форму:"
   ]
  },
  {
   "cell_type": "code",
   "execution_count": 10,
   "metadata": {
    "colab": {
     "base_uri": "https://localhost:8080/"
    },
    "id": "WVsH0cMN8w9P",
    "outputId": "b54bb08c-e358-4d6a-ed83-0170548922ba"
   },
   "outputs": [
    {
     "data": {
      "text/plain": [
       "array([0., 0., 0., 0., 0., 0., 0., 0., 0., 0.])"
      ]
     },
     "execution_count": 10,
     "metadata": {},
     "output_type": "execute_result"
    }
   ],
   "source": [
    "np.zeros(10)"
   ]
  },
  {
   "cell_type": "code",
   "execution_count": 11,
   "metadata": {
    "colab": {
     "base_uri": "https://localhost:8080/"
    },
    "id": "r3eP8D6u8zjm",
    "outputId": "88193ac4-7c80-4386-87b2-37f5c554724f"
   },
   "outputs": [
    {
     "data": {
      "text/plain": [
       "array([[0., 0., 0., 0., 0., 0.],\n",
       "       [0., 0., 0., 0., 0., 0.],\n",
       "       [0., 0., 0., 0., 0., 0.]])"
      ]
     },
     "execution_count": 11,
     "metadata": {},
     "output_type": "execute_result"
    }
   ],
   "source": [
    "np.zeros((3, 6))"
   ]
  },
  {
   "cell_type": "code",
   "execution_count": 5,
   "metadata": {},
   "outputs": [
    {
     "data": {
      "text/plain": [
       "array([1., 1., 1., 1., 1., 1., 1., 1., 1., 1.])"
      ]
     },
     "execution_count": 5,
     "metadata": {},
     "output_type": "execute_result"
    }
   ],
   "source": [
    "np.ones(10)"
   ]
  },
  {
   "cell_type": "code",
   "execution_count": 8,
   "metadata": {
    "colab": {
     "base_uri": "https://localhost:8080/"
    },
    "id": "ZQ67FMAe85Pn",
    "outputId": "b107dce9-943b-4b6c-bbc3-1700300c48b2"
   },
   "outputs": [
    {
     "data": {
      "text/plain": [
       "array([[0., 0., 0.],\n",
       "       [0., 0., 0.]])"
      ]
     },
     "execution_count": 8,
     "metadata": {},
     "output_type": "execute_result"
    }
   ],
   "source": [
    "np.empty([2, 3])"
   ]
  },
  {
   "cell_type": "code",
   "execution_count": 9,
   "metadata": {
    "colab": {
     "base_uri": "https://localhost:8080/"
    },
    "id": "Q95k-ErW9Fpl",
    "outputId": "99cf3d7a-2ab6-48aa-a914-aa80d96ce781"
   },
   "outputs": [
    {
     "data": {
      "text/plain": [
       "3"
      ]
     },
     "execution_count": 9,
     "metadata": {},
     "output_type": "execute_result"
    }
   ],
   "source": [
    "np.empty((2, 3, 2)).ndim"
   ]
  },
  {
   "cell_type": "markdown",
   "metadata": {
    "id": "vffQBwk7-iAG"
   },
   "source": [
    "Функция arange – вариант встроенной в Python функции range, только возвращаемым значением является массив:"
   ]
  },
  {
   "cell_type": "code",
   "execution_count": 13,
   "metadata": {
    "colab": {
     "base_uri": "https://localhost:8080/"
    },
    "id": "fvS1j0op-jhC",
    "outputId": "ca8607b9-20fb-43f4-8c80-9210eca019c8"
   },
   "outputs": [
    {
     "data": {
      "text/plain": [
       "numpy.ndarray"
      ]
     },
     "execution_count": 13,
     "metadata": {},
     "output_type": "execute_result"
    }
   ],
   "source": [
    "type(np.arange(15))"
   ]
  },
  {
   "cell_type": "markdown",
   "metadata": {},
   "source": [
    "По умолчанию массив начнется с 0 и до указанного числа НЕ включая его"
   ]
  },
  {
   "cell_type": "code",
   "execution_count": 20,
   "metadata": {},
   "outputs": [
    {
     "data": {
      "text/plain": [
       "array([ 0,  1,  2,  3,  4,  5,  6,  7,  8,  9, 10, 11, 12, 13, 14])"
      ]
     },
     "execution_count": 20,
     "metadata": {},
     "output_type": "execute_result"
    }
   ],
   "source": [
    "np.arange(15)"
   ]
  },
  {
   "cell_type": "markdown",
   "metadata": {},
   "source": [
    "Можно задать начало и конец генерируемого массива"
   ]
  },
  {
   "cell_type": "code",
   "execution_count": 21,
   "metadata": {},
   "outputs": [
    {
     "data": {
      "text/plain": [
       "array([3, 4, 5, 6, 7, 8, 9])"
      ]
     },
     "execution_count": 21,
     "metadata": {},
     "output_type": "execute_result"
    }
   ],
   "source": [
    "np.arange(3, 10)"
   ]
  },
  {
   "cell_type": "markdown",
   "metadata": {},
   "source": [
    "Можно задать начало, конец и шаг"
   ]
  },
  {
   "cell_type": "code",
   "execution_count": 11,
   "metadata": {},
   "outputs": [
    {
     "data": {
      "text/plain": [
       "array([ 4.,  7., 10., 13.])"
      ]
     },
     "execution_count": 11,
     "metadata": {},
     "output_type": "execute_result"
    }
   ],
   "source": [
    "np.arange(4, 15, 3.)"
   ]
  },
  {
   "cell_type": "markdown",
   "metadata": {},
   "source": [
    "В общем виде функция `arange` задается следующим образом \n",
    "\n",
    "`numpy.arange([start, ]stop, [step, ]dtype=None)`"
   ]
  },
  {
   "cell_type": "markdown",
   "metadata": {},
   "source": [
    "Например, зададим:\n",
    "- массив от 3 до 16 включительно с шагом 3 и типом `float`;\n",
    "- массив от 8 до 4 с шагом 2 и типом `int`"
   ]
  },
  {
   "cell_type": "code",
   "execution_count": 12,
   "metadata": {},
   "outputs": [
    {
     "data": {
      "text/plain": [
       "array([ 3.,  6.,  9., 12., 15.])"
      ]
     },
     "execution_count": 12,
     "metadata": {},
     "output_type": "execute_result"
    }
   ],
   "source": [
    "np.arange(3, 17, 3, dtype=float)"
   ]
  },
  {
   "cell_type": "markdown",
   "metadata": {},
   "source": [
    "можно задать ОТРИЦАТЕЛЬНЫЙ шаг и тогда массив будет идти по убыванию"
   ]
  },
  {
   "cell_type": "code",
   "execution_count": 13,
   "metadata": {},
   "outputs": [
    {
     "data": {
      "text/plain": [
       "array([8, 6, 4])"
      ]
     },
     "execution_count": 13,
     "metadata": {},
     "output_type": "execute_result"
    }
   ],
   "source": [
    "np.arange(8, 3, -2, dtype=int)"
   ]
  },
  {
   "cell_type": "code",
   "execution_count": 15,
   "metadata": {},
   "outputs": [
    {
     "data": {
      "text/plain": [
       "array([], dtype=int64)"
      ]
     },
     "execution_count": 15,
     "metadata": {},
     "output_type": "execute_result"
    }
   ],
   "source": [
    "np.arange(3, 8, -2)"
   ]
  },
  {
   "cell_type": "markdown",
   "metadata": {
    "id": "4Wwllfaj-572"
   },
   "source": [
    "еще функции создания массива в Numpy:"
   ]
  },
  {
   "cell_type": "markdown",
   "metadata": {
    "id": "UEZrk136-nTj"
   },
   "source": [
    "\n",
    "![image.png](data:image/png;base64,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)"
   ]
  },
  {
   "cell_type": "markdown",
   "metadata": {
    "id": "P3_OFgg9_fgM"
   },
   "source": [
    "## Арифметические операции с массивами NumPy"
   ]
  },
  {
   "cell_type": "markdown",
   "metadata": {
    "id": "n-O75X_iAMb7"
   },
   "source": [
    "Массивы важны, потому что позволяют выразить операции над совокупностями данных без выписывания циклов for.  Любая арифметическая операция над массивами одинакового размера применяется к соответственным элементам:"
   ]
  },
  {
   "cell_type": "code",
   "execution_count": 16,
   "metadata": {
    "colab": {
     "base_uri": "https://localhost:8080/"
    },
    "id": "OQ2gSqfG3Pl1",
    "outputId": "7cb6d915-389e-4b01-a7fb-1268ff5b8e36"
   },
   "outputs": [
    {
     "data": {
      "text/plain": [
       "array([[ 0.23855801, -0.74192321,  1.28657892],\n",
       "       [ 2.68072501, -0.25511184, -0.18185205]])"
      ]
     },
     "execution_count": 16,
     "metadata": {},
     "output_type": "execute_result"
    }
   ],
   "source": [
    "#Сгенерируем двумерный массив нормально распределенных данных\n",
    "data = np.random.randn(2, 3)\n",
    "data"
   ]
  },
  {
   "cell_type": "code",
   "execution_count": 17,
   "metadata": {
    "colab": {
     "base_uri": "https://localhost:8080/"
    },
    "id": "ZnFo-pkg3d9T",
    "outputId": "33af8c9f-ced1-4076-bab5-b038f270afc7"
   },
   "outputs": [
    {
     "data": {
      "text/plain": [
       "array([[ 2.38558008, -7.41923214, 12.86578918],\n",
       "       [26.80725005, -2.55111841, -1.81852045]])"
      ]
     },
     "execution_count": 17,
     "metadata": {},
     "output_type": "execute_result"
    }
   ],
   "source": [
    "#Так выглядит операция умножения на число\n",
    "#Перемножается каждый элемент массива БЕЗ использования цикла\n",
    "data * 10"
   ]
  },
  {
   "cell_type": "code",
   "execution_count": 19,
   "metadata": {
    "colab": {
     "base_uri": "https://localhost:8080/"
    },
    "id": "O0CG-HPV3zQr",
    "outputId": "03a3984f-7d66-4c82-d0c4-9a1adb7cfc01"
   },
   "outputs": [
    {
     "data": {
      "text/plain": [
       "array([[4.47711602, 2.51615357, 6.57315784],\n",
       "       [9.36145001, 3.48977632, 3.63629591]])"
      ]
     },
     "execution_count": 19,
     "metadata": {},
     "output_type": "execute_result"
    }
   ],
   "source": [
    "# Сложение массивов также выполняется поэлементно\n",
    "data + data + 4"
   ]
  },
  {
   "cell_type": "markdown",
   "metadata": {
    "id": "_APlRHX3DCtO"
   },
   "source": [
    "Сравнение массивов одинакового размера дает булев массив:"
   ]
  },
  {
   "cell_type": "code",
   "execution_count": 22,
   "metadata": {
    "colab": {
     "base_uri": "https://localhost:8080/"
    },
    "id": "5UwLdwQXDDke",
    "outputId": "b2ecd5f5-904d-489c-ddbb-79bfeedb751c"
   },
   "outputs": [
    {
     "data": {
      "text/plain": [
       "array([[False, False, False],\n",
       "       [ True, False,  True]])"
      ]
     },
     "execution_count": 22,
     "metadata": {},
     "output_type": "execute_result"
    }
   ],
   "source": [
    "arr2 = np.array([[0., 4., 1.], [7., 2., 12.]])\n",
    "arr = np.array([[1,23,4],[5,45,4]])\n",
    "ind = arr2>arr\n",
    "ind"
   ]
  },
  {
   "cell_type": "code",
   "execution_count": 23,
   "metadata": {},
   "outputs": [
    {
     "data": {
      "text/plain": [
       "array([5, 4])"
      ]
     },
     "execution_count": 23,
     "metadata": {},
     "output_type": "execute_result"
    }
   ],
   "source": [
    "arr[ind]"
   ]
  },
  {
   "cell_type": "code",
   "execution_count": 24,
   "metadata": {},
   "outputs": [
    {
     "data": {
      "text/plain": [
       "array([5, 4])"
      ]
     },
     "execution_count": 24,
     "metadata": {},
     "output_type": "execute_result"
    }
   ],
   "source": [
    "arr[arr2>arr]"
   ]
  },
  {
   "cell_type": "markdown",
   "metadata": {
    "id": "gjBaqkMxEP7L"
   },
   "source": [
    "Со стандартными структурами данных в Python, например, со списками, так поступить не получилось бы. Для иллюстрации попробуем взять маленький список из двух чисел и возвести его элементы в квадрат:"
   ]
  },
  {
   "cell_type": "code",
   "execution_count": 25,
   "metadata": {
    "colab": {
     "base_uri": "https://localhost:8080/",
     "height": 165
    },
    "id": "QzyWQ9q0ER5z",
    "outputId": "b7eb3e10-0e93-499a-e01a-8a5caba5f2b5"
   },
   "outputs": [
    {
     "ename": "TypeError",
     "evalue": "unsupported operand type(s) for ** or pow(): 'list' and 'int'",
     "output_type": "error",
     "traceback": [
      "\u001b[0;31m---------------------------------------------------------------------------\u001b[0m",
      "\u001b[0;31mTypeError\u001b[0m                                 Traceback (most recent call last)",
      "Cell \u001b[0;32mIn[25], line 1\u001b[0m\n\u001b[0;32m----> 1\u001b[0m \u001b[43m[\u001b[49m\u001b[38;5;241;43m2\u001b[39;49m\u001b[43m,\u001b[49m\u001b[43m \u001b[49m\u001b[38;5;241;43m3\u001b[39;49m\u001b[43m]\u001b[49m\u001b[43m \u001b[49m\u001b[38;5;241;43m*\u001b[39;49m\u001b[38;5;241;43m*\u001b[39;49m\u001b[43m \u001b[49m\u001b[38;5;241;43m2\u001b[39;49m \n",
      "\u001b[0;31mTypeError\u001b[0m: unsupported operand type(s) for ** or pow(): 'list' and 'int'"
     ]
    }
   ],
   "source": [
    "[2, 3] ** 2 "
   ]
  },
  {
   "cell_type": "code",
   "execution_count": 26,
   "metadata": {
    "colab": {
     "base_uri": "https://localhost:8080/"
    },
    "id": "7Jef5arqEVNq",
    "outputId": "4b727c83-4752-4e7f-82b1-eef9da42ef5f"
   },
   "outputs": [
    {
     "data": {
      "text/plain": [
       "array([4, 9])"
      ]
     },
     "execution_count": 26,
     "metadata": {},
     "output_type": "execute_result"
    }
   ],
   "source": [
    "np.array([2, 3]) ** 2 "
   ]
  },
  {
   "cell_type": "markdown",
   "metadata": {
    "id": "ctvsGBNSPB16"
   },
   "source": [
    "## Индексирование и вырезание"
   ]
  },
  {
   "cell_type": "markdown",
   "metadata": {
    "id": "BlR1mJ3DPz7T"
   },
   "source": [
    "Индексирование массивов NumPy – обширная тема, поскольку подмножество массива или его отдельные элементы можно выбрать различными способами. С одномерными массивами все просто. На поверхностный взгляд\n",
    "они ведут себя как списки Python:"
   ]
  },
  {
   "cell_type": "code",
   "execution_count": 29,
   "metadata": {
    "colab": {
     "base_uri": "https://localhost:8080/"
    },
    "id": "kWpUIVN0P8Hx",
    "outputId": "aa822290-5849-456e-a705-d8986eacf0a9"
   },
   "outputs": [
    {
     "data": {
      "text/plain": [
       "array([ 3,  4,  5,  6,  7,  8,  9, 10, 11, 12, 13, 14])"
      ]
     },
     "execution_count": 29,
     "metadata": {},
     "output_type": "execute_result"
    }
   ],
   "source": [
    "arr = np.arange(3,15)\n",
    "arr"
   ]
  },
  {
   "cell_type": "code",
   "execution_count": 30,
   "metadata": {},
   "outputs": [
    {
     "data": {
      "text/plain": [
       "8"
      ]
     },
     "execution_count": 30,
     "metadata": {},
     "output_type": "execute_result"
    }
   ],
   "source": [
    "arr[5]"
   ]
  },
  {
   "cell_type": "code",
   "execution_count": 32,
   "metadata": {
    "colab": {
     "base_uri": "https://localhost:8080/"
    },
    "id": "DP1md492QGIR",
    "outputId": "ec4f0ae7-13da-430f-8a08-cf633bfc0023"
   },
   "outputs": [
    {
     "data": {
      "text/plain": [
       "array([ 8,  9, 10])"
      ]
     },
     "execution_count": 32,
     "metadata": {},
     "output_type": "execute_result"
    }
   ],
   "source": [
    "arr[5:8]"
   ]
  },
  {
   "cell_type": "code",
   "execution_count": 34,
   "metadata": {},
   "outputs": [
    {
     "data": {
      "text/plain": [
       "array([ 6,  7,  8,  9, 10, 11, 12, 13, 14])"
      ]
     },
     "execution_count": 34,
     "metadata": {},
     "output_type": "execute_result"
    }
   ],
   "source": [
    "arr[3:]"
   ]
  },
  {
   "cell_type": "markdown",
   "metadata": {},
   "source": [
    "Можно присвоить значения элементам массива по индексу"
   ]
  },
  {
   "cell_type": "code",
   "execution_count": 35,
   "metadata": {
    "id": "3x3J4wmhQcf5"
   },
   "outputs": [],
   "source": [
    "arr[5:8] = 12"
   ]
  },
  {
   "cell_type": "code",
   "execution_count": 36,
   "metadata": {
    "colab": {
     "base_uri": "https://localhost:8080/"
    },
    "id": "vToLgjlLQo1A",
    "outputId": "4adf57ca-559b-426b-836b-f358119ef0cc"
   },
   "outputs": [
    {
     "data": {
      "text/plain": [
       "array([ 3,  4,  5,  6,  7, 12, 12, 12, 11, 12, 13, 14])"
      ]
     },
     "execution_count": 36,
     "metadata": {},
     "output_type": "execute_result"
    }
   ],
   "source": [
    "arr"
   ]
  },
  {
   "cell_type": "markdown",
   "metadata": {
    "id": "wGgBe8MhSA64"
   },
   "source": [
    "Для массивов большей размерности и вариантов больше. В случае двумерного массива результатом индексирования с одним индексом является не скаляр, а одномерный массив:"
   ]
  },
  {
   "cell_type": "code",
   "execution_count": 38,
   "metadata": {
    "colab": {
     "base_uri": "https://localhost:8080/"
    },
    "id": "bZt6WzGmSDc3",
    "outputId": "ed860bde-e480-4fc8-eeac-a1bb45bd06a5"
   },
   "outputs": [
    {
     "data": {
      "text/plain": [
       "array([[1, 2, 3],\n",
       "       [4, 5, 6],\n",
       "       [7, 8, 9]])"
      ]
     },
     "execution_count": 38,
     "metadata": {},
     "output_type": "execute_result"
    }
   ],
   "source": [
    "arr2d = np.array([[1, 2, 3], [4, 5, 6], [7, 8, 9]])\n",
    "arr2d"
   ]
  },
  {
   "cell_type": "code",
   "execution_count": 39,
   "metadata": {},
   "outputs": [
    {
     "data": {
      "text/plain": [
       "array([7, 8, 9])"
      ]
     },
     "execution_count": 39,
     "metadata": {},
     "output_type": "execute_result"
    }
   ],
   "source": [
    "arr2d[2]"
   ]
  },
  {
   "cell_type": "code",
   "execution_count": 40,
   "metadata": {
    "colab": {
     "base_uri": "https://localhost:8080/"
    },
    "id": "rbZfV2PXSNdf",
    "outputId": "610c7e38-747f-49c5-da92-bd9d95bbf908"
   },
   "outputs": [
    {
     "data": {
      "text/plain": [
       "9"
      ]
     },
     "execution_count": 40,
     "metadata": {},
     "output_type": "execute_result"
    }
   ],
   "source": [
    "arr2d[2][2]"
   ]
  },
  {
   "cell_type": "code",
   "execution_count": 44,
   "metadata": {
    "colab": {
     "base_uri": "https://localhost:8080/"
    },
    "id": "2-fJ0jYZSRxo",
    "outputId": "2ef2cd96-a0e8-408f-b8a3-f3fb28fe37ad"
   },
   "outputs": [
    {
     "data": {
      "text/plain": [
       "9"
      ]
     },
     "execution_count": 44,
     "metadata": {},
     "output_type": "execute_result"
    }
   ],
   "source": [
    "arr2d[2, 2]"
   ]
  },
  {
   "cell_type": "markdown",
   "metadata": {
    "id": "jVT3PHNfSfR-"
   },
   "source": [
    "**Индексирование элементов в массиве NumPy**"
   ]
  },
  {
   "cell_type": "markdown",
   "metadata": {
    "id": "z-O7uRXaSU9N"
   },
   "source": [
    "![image.png](data:image/png;base64,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)"
   ]
  },
  {
   "cell_type": "markdown",
   "metadata": {
    "id": "StR9AeWrSzAO"
   },
   "source": [
    "**индексирование срезами**"
   ]
  },
  {
   "cell_type": "code",
   "execution_count": 45,
   "metadata": {
    "colab": {
     "base_uri": "https://localhost:8080/"
    },
    "id": "Cc0xGRCMTVYl",
    "outputId": "481c580d-cf4b-4c07-b854-84eee6bf91a1"
   },
   "outputs": [
    {
     "data": {
      "text/plain": [
       "array([[1, 2, 3],\n",
       "       [4, 5, 6],\n",
       "       [7, 8, 9]])"
      ]
     },
     "execution_count": 45,
     "metadata": {},
     "output_type": "execute_result"
    }
   ],
   "source": [
    "arr2d"
   ]
  },
  {
   "cell_type": "code",
   "execution_count": 50,
   "metadata": {},
   "outputs": [
    {
     "data": {
      "text/plain": [
       "1"
      ]
     },
     "execution_count": 50,
     "metadata": {},
     "output_type": "execute_result"
    }
   ],
   "source": [
    "arr2d[1].ndim"
   ]
  },
  {
   "cell_type": "code",
   "execution_count": 53,
   "metadata": {
    "colab": {
     "base_uri": "https://localhost:8080/"
    },
    "id": "4q_IddQvTaT9",
    "outputId": "2e74201e-f6e8-4d50-e69e-796ebc59bed7"
   },
   "outputs": [
    {
     "data": {
      "text/plain": [
       "array([[1, 2, 3]])"
      ]
     },
     "execution_count": 53,
     "metadata": {},
     "output_type": "execute_result"
    }
   ],
   "source": [
    "arr2d[:1]"
   ]
  },
  {
   "cell_type": "code",
   "execution_count": 47,
   "metadata": {},
   "outputs": [
    {
     "data": {
      "text/plain": [
       "array([[1, 2, 3],\n",
       "       [4, 5, 6]])"
      ]
     },
     "execution_count": 47,
     "metadata": {},
     "output_type": "execute_result"
    }
   ],
   "source": [
    "arr2d[:2]"
   ]
  },
  {
   "cell_type": "code",
   "execution_count": 37,
   "metadata": {
    "colab": {
     "base_uri": "https://localhost:8080/"
    },
    "id": "z1jJ6JZxTtKt",
    "outputId": "89645b0d-cc57-469e-e374-18f74326a850"
   },
   "outputs": [
    {
     "data": {
      "text/plain": [
       "array([[2, 3],\n",
       "       [5, 6]])"
      ]
     },
     "execution_count": 37,
     "metadata": {},
     "output_type": "execute_result"
    }
   ],
   "source": [
    "arr2d[:2, 1:]"
   ]
  },
  {
   "cell_type": "markdown",
   "metadata": {
    "id": "W6SaadxXVdqT"
   },
   "source": [
    "## Булево индексирование"
   ]
  },
  {
   "cell_type": "markdown",
   "metadata": {
    "id": "csGwCX48VgTb"
   },
   "source": [
    "Воспользуемся функцией randn из модуля numpy.random,\n",
    "чтобы сгенерировать случайные данные с нормальным распределением:"
   ]
  },
  {
   "cell_type": "code",
   "execution_count": 54,
   "metadata": {
    "colab": {
     "base_uri": "https://localhost:8080/"
    },
    "id": "dXtabxxeWG3q",
    "outputId": "7b26378d-843d-44c6-b2cb-18bf805cadc5"
   },
   "outputs": [
    {
     "data": {
      "text/plain": [
       "array([[-0.51025071,  0.71809692, -0.4614224 ,  0.88848163],\n",
       "       [ 0.56542867,  0.4740064 ,  2.18081538, -0.72751819],\n",
       "       [ 0.14135999, -0.45119577, -0.23215767, -0.15929098],\n",
       "       [ 0.66342865, -0.36508043,  1.01165076, -1.25732502],\n",
       "       [-1.63046005, -0.56428254,  1.21596851,  0.36172189],\n",
       "       [-0.72701333,  0.76976997, -0.41650878, -1.2414376 ],\n",
       "       [-1.02612402,  0.58143715,  0.42259423, -1.88881153]])"
      ]
     },
     "execution_count": 54,
     "metadata": {},
     "output_type": "execute_result"
    }
   ],
   "source": [
    "data = np.random.randn(7, 4)\n",
    "data"
   ]
  },
  {
   "cell_type": "markdown",
   "metadata": {
    "id": "Blk8PJ6aWkFU"
   },
   "source": [
    "Булево индексирование позволяет с помощью простых булевых выражений фильтровать наши данные по условию:"
   ]
  },
  {
   "cell_type": "code",
   "execution_count": 55,
   "metadata": {},
   "outputs": [
    {
     "data": {
      "text/plain": [
       "array([[ True, False,  True, False],\n",
       "       [False, False, False,  True],\n",
       "       [False,  True,  True,  True],\n",
       "       [False,  True, False,  True],\n",
       "       [ True,  True, False, False],\n",
       "       [ True, False,  True,  True],\n",
       "       [ True, False, False,  True]])"
      ]
     },
     "execution_count": 55,
     "metadata": {},
     "output_type": "execute_result"
    }
   ],
   "source": [
    "data<0"
   ]
  },
  {
   "cell_type": "code",
   "execution_count": 56,
   "metadata": {
    "colab": {
     "base_uri": "https://localhost:8080/"
    },
    "id": "aBDwWFD3XfOB",
    "outputId": "807bdab1-8a5e-4ab8-eff5-ef82cfb5e98a"
   },
   "outputs": [
    {
     "data": {
      "text/plain": [
       "array([-0.51025071, -0.4614224 , -0.72751819, -0.45119577, -0.23215767,\n",
       "       -0.15929098, -0.36508043, -1.25732502, -1.63046005, -0.56428254,\n",
       "       -0.72701333, -0.41650878, -1.2414376 , -1.02612402, -1.88881153])"
      ]
     },
     "execution_count": 56,
     "metadata": {},
     "output_type": "execute_result"
    }
   ],
   "source": [
    "data[data < 0]"
   ]
  },
  {
   "cell_type": "code",
   "execution_count": 57,
   "metadata": {
    "colab": {
     "base_uri": "https://localhost:8080/"
    },
    "id": "IBg8eGDkGGZ8",
    "outputId": "3491442c-5460-45b3-9740-b03ff7db6fae"
   },
   "outputs": [
    {
     "data": {
      "text/plain": [
       "array([0.71809692, 0.88848163, 0.56542867, 0.4740064 , 0.14135999,\n",
       "       0.66342865, 0.36172189, 0.76976997, 0.58143715, 0.42259423])"
      ]
     },
     "execution_count": 57,
     "metadata": {},
     "output_type": "execute_result"
    }
   ],
   "source": [
    "data[(data>0) & (data<1)]"
   ]
  },
  {
   "cell_type": "markdown",
   "metadata": {
    "id": "s29DONxzYcW4"
   },
   "source": [
    "Чтобы заменить все отрицательные значения в массиве data\n",
    "нулем, нужно всего лишь написать:"
   ]
  },
  {
   "cell_type": "code",
   "execution_count": 58,
   "metadata": {
    "colab": {
     "base_uri": "https://localhost:8080/"
    },
    "id": "vo6BxTfGYhap",
    "outputId": "4c849cf9-53ea-4e2e-bc09-2046ba4a442b"
   },
   "outputs": [
    {
     "data": {
      "text/plain": [
       "array([[0.        , 0.71809692, 0.        , 0.88848163],\n",
       "       [0.56542867, 0.4740064 , 2.18081538, 0.        ],\n",
       "       [0.14135999, 0.        , 0.        , 0.        ],\n",
       "       [0.66342865, 0.        , 1.01165076, 0.        ],\n",
       "       [0.        , 0.        , 1.21596851, 0.36172189],\n",
       "       [0.        , 0.76976997, 0.        , 0.        ],\n",
       "       [0.        , 0.58143715, 0.42259423, 0.        ]])"
      ]
     },
     "execution_count": 58,
     "metadata": {},
     "output_type": "execute_result"
    }
   ],
   "source": [
    "data[data < 0] = 0\n",
    "data"
   ]
  },
  {
   "cell_type": "markdown",
   "metadata": {
    "id": "S38L9jgDb12W"
   },
   "source": [
    "## Изменение размерности  массивов и транспонирование"
   ]
  },
  {
   "cell_type": "markdown",
   "metadata": {},
   "source": [
    "Представим, что у нас есть массив:"
   ]
  },
  {
   "cell_type": "code",
   "execution_count": 61,
   "metadata": {},
   "outputs": [
    {
     "data": {
      "text/plain": [
       "array([ 3,  5,  7,  9,  8, 10])"
      ]
     },
     "execution_count": 61,
     "metadata": {},
     "output_type": "execute_result"
    }
   ],
   "source": [
    "arr = np.array([3, 5, 7, 9, 8, 10])\n",
    "arr"
   ]
  },
  {
   "cell_type": "markdown",
   "metadata": {},
   "source": [
    "Методом .reshape() мы можем поменять форму массива."
   ]
  },
  {
   "cell_type": "code",
   "execution_count": 64,
   "metadata": {},
   "outputs": [
    {
     "data": {
      "text/plain": [
       "array([[ 3,  5],\n",
       "       [ 7,  9],\n",
       "       [ 8, 10]])"
      ]
     },
     "execution_count": 64,
     "metadata": {},
     "output_type": "execute_result"
    }
   ],
   "source": [
    "arr2 = arr.reshape(3, 2)\n",
    "arr2"
   ]
  },
  {
   "cell_type": "markdown",
   "metadata": {},
   "source": [
    "Теперь изменилась не только форма массива, но и его размерность"
   ]
  },
  {
   "cell_type": "code",
   "execution_count": 65,
   "metadata": {},
   "outputs": [
    {
     "data": {
      "text/plain": [
       "2"
      ]
     },
     "execution_count": 65,
     "metadata": {},
     "output_type": "execute_result"
    }
   ],
   "source": [
    "arr2.ndim"
   ]
  },
  {
   "cell_type": "markdown",
   "metadata": {},
   "source": [
    "Метод .reshape() удобен, но при его использовании стоит помнить, что не любой массив можно превратить в массив другой формы – общее число элементов в массиве должно позволять получить новое число списков и элементов в них."
   ]
  },
  {
   "cell_type": "markdown",
   "metadata": {},
   "source": [
    "Если нам нужно просто поменять местами строки и столбцы в таблице, то есть списки в массиве, можно воспользоваться транспонированием, которое осуществляется в NumPy с помощью метода .transpose():"
   ]
  },
  {
   "cell_type": "code",
   "execution_count": 66,
   "metadata": {},
   "outputs": [
    {
     "data": {
      "text/plain": [
       "array([[ 3,  5],\n",
       "       [ 7,  9],\n",
       "       [ 8, 10]])"
      ]
     },
     "execution_count": 66,
     "metadata": {},
     "output_type": "execute_result"
    }
   ],
   "source": [
    "arr2"
   ]
  },
  {
   "cell_type": "code",
   "execution_count": 67,
   "metadata": {
    "colab": {
     "base_uri": "https://localhost:8080/"
    },
    "id": "YIAUzV2qdofq",
    "outputId": "9de10703-c988-43e8-bc57-1abddc26e938"
   },
   "outputs": [
    {
     "data": {
      "text/plain": [
       "array([[ 3,  7,  8],\n",
       "       [ 5,  9, 10]])"
      ]
     },
     "execution_count": 67,
     "metadata": {},
     "output_type": "execute_result"
    }
   ],
   "source": [
    "arr2.transpose()"
   ]
  },
  {
   "cell_type": "markdown",
   "metadata": {},
   "source": [
    "Cуществуют «обратные» методы `ravel()` и `flatten()`, которые позволяют любой многомерный массив превратить в одномерный, состоящий из одного списка, другими словами, сделать массив «плоским», но `flatten` возвращает копию массива, а `ravel` возвращает представление массива:"
   ]
  },
  {
   "cell_type": "markdown",
   "metadata": {},
   "source": [
    "### Flatten()"
   ]
  },
  {
   "cell_type": "code",
   "execution_count": 69,
   "metadata": {},
   "outputs": [
    {
     "name": "stdout",
     "output_type": "stream",
     "text": [
      "Original array:\n",
      "  [[1 2 3 4]\n",
      " [3 1 4 2]]\n",
      "\n",
      "Flatten array using flatten:  [1 2 3 4 3 1 4 2]\n"
     ]
    }
   ],
   "source": [
    "a = np.array([(1,2,3,4),(3,1,4,2)])\n",
    "\n",
    "# Let's print the array a\n",
    "print (\"Original array:\\n \", a)\n",
    "\n",
    "# Convert nd array to 1D array\n",
    "c = a.flatten()\n",
    "\n",
    "# Flatten passes copy of\n",
    "# original array to 'c'\n",
    "print (\"\\nFlatten array using flatten: \", c)"
   ]
  },
  {
   "cell_type": "code",
   "execution_count": 70,
   "metadata": {},
   "outputs": [
    {
     "name": "stdout",
     "output_type": "stream",
     "text": [
      "Flatten array:  [ 1  2 33  4  3  1  4  2]\n",
      "\n",
      "Original array:\n",
      "  [[1 2 3 4]\n",
      " [3 1 4 2]]\n"
     ]
    }
   ],
   "source": [
    "c[2] = 33\n",
    "\n",
    "print (\"Flatten array: \", c)\n",
    "\n",
    "# Let's print the array a\n",
    "print (\"\\nOriginal array:\\n \", a)"
   ]
  },
  {
   "cell_type": "markdown",
   "metadata": {},
   "source": [
    "### Ravel()"
   ]
  },
  {
   "cell_type": "code",
   "execution_count": 71,
   "metadata": {},
   "outputs": [
    {
     "name": "stdout",
     "output_type": "stream",
     "text": [
      "Original array:\n",
      "  [[1 2 3 4]\n",
      " [3 1 4 2]]\n",
      "\n",
      "Ravel array:  [1 2 3 4 3 1 4 2]\n"
     ]
    }
   ],
   "source": [
    "# Create a numpy array\n",
    "a = np.array([(1,2,3,4),(3,1,4,2)])\n",
    "\n",
    "# Let's print the array a\n",
    "print (\"Original array:\\n \", a)\n",
    "\n",
    "ra = np.ravel(a)\n",
    "print (\"\\nRavel array: \", ra)"
   ]
  },
  {
   "cell_type": "code",
   "execution_count": 72,
   "metadata": {},
   "outputs": [
    {
     "name": "stdout",
     "output_type": "stream",
     "text": [
      "Original array:\n",
      "  [[ 1  2  3 44]\n",
      " [ 3  1  4  2]]\n",
      "\n",
      "Ravel array:  [ 1  2  3 44  3  1  4  2]\n"
     ]
    }
   ],
   "source": [
    "ra[3] = 44\n",
    "\n",
    "# Let's print the array a\n",
    "print (\"Original array:\\n \", a)\n",
    "\n",
    "print (\"\\nRavel array: \", ra)\n",
    "\n"
   ]
  },
  {
   "cell_type": "markdown",
   "metadata": {},
   "source": [
    "\"соединение\" массивов"
   ]
  },
  {
   "cell_type": "code",
   "execution_count": 76,
   "metadata": {},
   "outputs": [
    {
     "name": "stdout",
     "output_type": "stream",
     "text": [
      "[[1 2]\n",
      " [3 4]]\n",
      "\n",
      "[[5 6]\n",
      " [7 8]]\n",
      "\n",
      "[[ 9 10]\n",
      " [11 12]]\n",
      "Объединяем массивы по горизонтальной оси (по строкам)\n",
      "[[ 1  2  5  6  9 10]\n",
      " [ 3  4  7  8 11 12]]\n",
      "\n",
      "\n",
      "Объединяем массивы по вертикальной оси (по столбцам)\n",
      "[[ 1  2]\n",
      " [ 3  4]\n",
      " [ 5  6]\n",
      " [ 7  8]\n",
      " [ 9 10]\n",
      " [11 12]]\n"
     ]
    }
   ],
   "source": [
    "a = np.array([[1, 2], [3, 4]])\n",
    "b = np.array([[5, 6], [7, 8]])\n",
    "c = np.array([[9, 10], [11, 12]])\n",
    "\n",
    "print(a, b, c, sep='\\n\\n')\n",
    "\n",
    "#объединяем массивы по горизонтальной оси (по строкам)\n",
    "d = np.concatenate((a, b, c), axis=1) \n",
    "print('Объединяем массивы по горизонтальной оси (по строкам)')\n",
    "print(d)\n",
    "#объединяем массивы по вертикальной оси (по столбцам)\n",
    "e = np.concatenate((a, b, c), axis=0)\n",
    "print('\\n\\nОбъединяем массивы по вертикальной оси (по столбцам)')\n",
    "print(e)"
   ]
  },
  {
   "cell_type": "markdown",
   "metadata": {
    "id": "fvhU3JEzeCtq"
   },
   "source": [
    "## Универсальные функции: быстрые поэлементные операции над массивами"
   ]
  },
  {
   "cell_type": "markdown",
   "metadata": {
    "id": "PLcBP0qVeHea"
   },
   "source": [
    "Универсальной функцией называется функция, которая\n",
    "выполняет поэлементные операции над данными, хранящимися в объектах\n",
    "ndarray. Многие универсальные-функции – простые поэлементные преобразования, например **sqrt** или **exp**:"
   ]
  },
  {
   "cell_type": "code",
   "execution_count": 77,
   "metadata": {
    "colab": {
     "base_uri": "https://localhost:8080/"
    },
    "id": "VYvyqrbWedfq",
    "outputId": "aece7a66-0237-4bbe-e2cf-228f29c71df9"
   },
   "outputs": [
    {
     "data": {
      "text/plain": [
       "array([0, 1, 2, 3, 4, 5, 6, 7, 8, 9])"
      ]
     },
     "execution_count": 77,
     "metadata": {},
     "output_type": "execute_result"
    }
   ],
   "source": [
    "arr = np.arange(10)\n",
    "arr"
   ]
  },
  {
   "cell_type": "code",
   "execution_count": 78,
   "metadata": {
    "colab": {
     "base_uri": "https://localhost:8080/"
    },
    "id": "Z8xv9gpjerl6",
    "outputId": "4bd97de7-9597-49e7-db41-9a861e071188"
   },
   "outputs": [
    {
     "data": {
      "text/plain": [
       "array([0.        , 1.        , 1.41421356, 1.73205081, 2.        ,\n",
       "       2.23606798, 2.44948974, 2.64575131, 2.82842712, 3.        ])"
      ]
     },
     "execution_count": 78,
     "metadata": {},
     "output_type": "execute_result"
    }
   ],
   "source": [
    "np.sqrt(arr)"
   ]
  },
  {
   "cell_type": "code",
   "execution_count": 79,
   "metadata": {
    "colab": {
     "base_uri": "https://localhost:8080/"
    },
    "id": "-JwOJKzEe1sy",
    "outputId": "89285699-813c-45db-b3c4-336ab44d73e0"
   },
   "outputs": [
    {
     "data": {
      "text/plain": [
       "array([1.00000000e+00, 2.71828183e+00, 7.38905610e+00, 2.00855369e+01,\n",
       "       5.45981500e+01, 1.48413159e+02, 4.03428793e+02, 1.09663316e+03,\n",
       "       2.98095799e+03, 8.10308393e+03])"
      ]
     },
     "execution_count": 79,
     "metadata": {},
     "output_type": "execute_result"
    }
   ],
   "source": [
    "np.exp(arr)"
   ]
  },
  {
   "cell_type": "markdown",
   "metadata": {
    "id": "xUxnQTnGe2qh"
   },
   "source": [
    "Такие u-функции называются унарными. Другие, например add или maximum, принимают два массива (и потому называются бинарными) и возвращают один результирующий массив:"
   ]
  },
  {
   "cell_type": "code",
   "execution_count": 50,
   "metadata": {
    "colab": {
     "base_uri": "https://localhost:8080/"
    },
    "id": "94BlWNGre_f5",
    "outputId": "ccbc793d-bf55-45f2-eade-92ec79e76476"
   },
   "outputs": [
    {
     "data": {
      "text/plain": [
       "array([ 0.09120334, -0.19896973, -0.27831489,  0.93165284,  2.09068238,\n",
       "       -0.02316988,  2.47248256,  3.13766309])"
      ]
     },
     "execution_count": 50,
     "metadata": {},
     "output_type": "execute_result"
    }
   ],
   "source": [
    "#Здесь numpy.maximum вычисляет поэлементные максимумы в массивах x и y.\n",
    "x = np.random.randn(8)\n",
    "y = np.random.randn(8)\n",
    "np.maximum(x, y)"
   ]
  },
  {
   "cell_type": "markdown",
   "metadata": {},
   "source": [
    "Не путать с функцией `np.max` - она в этом случае вернет максимальный элемент массива"
   ]
  },
  {
   "cell_type": "code",
   "execution_count": 52,
   "metadata": {},
   "outputs": [
    {
     "data": {
      "text/plain": [
       "2.472482562342074"
      ]
     },
     "execution_count": 52,
     "metadata": {},
     "output_type": "execute_result"
    }
   ],
   "source": [
    "np.max(x)"
   ]
  },
  {
   "cell_type": "markdown",
   "metadata": {
    "id": "mfEbjYKIgl5f"
   },
   "source": [
    "**Унарные функции:**"
   ]
  },
  {
   "cell_type": "markdown",
   "metadata": {
    "id": "sgJZVeZngqAA"
   },
   "source": [
    "![image.png](data:image/png;base64,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)"
   ]
  },
  {
   "cell_type": "markdown",
   "metadata": {
    "id": "_djmCqgzgrH4"
   },
   "source": [
    "**Бинарные функции:**"
   ]
  },
  {
   "cell_type": "markdown",
   "metadata": {
    "id": "VYNWA5_4g2zv"
   },
   "source": [
    "![image.png](data:image/png;base64,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)"
   ]
  },
  {
   "cell_type": "markdown",
   "metadata": {
    "id": "DOj_sPQqhDQK"
   },
   "source": [
    "## Запись логических условий в виде операций с массивами"
   ]
  },
  {
   "cell_type": "markdown",
   "metadata": {
    "id": "TQfEy3zwhHQR"
   },
   "source": [
    "Функция numpy.where – это векторный вариант  выражения x if\n",
    "condition else y. Посмотрим как он работает."
   ]
  },
  {
   "cell_type": "code",
   "execution_count": 80,
   "metadata": {
    "id": "g8w1Khs8g47V"
   },
   "outputs": [],
   "source": [
    "xarr = np.array([1.1, 1.2, 1.3, 1.4, 1.5])\n",
    "yarr = np.array([2.1, 2.2, 2.3, 2.4, 2.5])\n",
    "cond = np.array([True, False, True, True, False])"
   ]
  },
  {
   "cell_type": "markdown",
   "metadata": {
    "id": "Y5z3sPUch3MY"
   },
   "source": [
    "Допустим, мы хотим брать значение из массива xarr, если соответственное\n",
    "значение в массиве cond равно True, а в противном случае – значение из yarr."
   ]
  },
  {
   "cell_type": "markdown",
   "metadata": {},
   "source": [
    "Как это можно сделать обычным способом:"
   ]
  },
  {
   "cell_type": "code",
   "execution_count": 81,
   "metadata": {},
   "outputs": [
    {
     "data": {
      "text/plain": [
       "[1.1, 2.2, 1.3, 1.4, 2.5]"
      ]
     },
     "execution_count": 81,
     "metadata": {},
     "output_type": "execute_result"
    }
   ],
   "source": [
    "result=[]\n",
    "for x, y, c in zip(xarr, yarr, cond):\n",
    "    if c:\n",
    "        result.append(x)\n",
    "    else:\n",
    "        result.append(y)\n",
    "result"
   ]
  },
  {
   "cell_type": "markdown",
   "metadata": {},
   "source": [
    "Способом посложнее:"
   ]
  },
  {
   "cell_type": "code",
   "execution_count": 60,
   "metadata": {},
   "outputs": [
    {
     "data": {
      "text/plain": [
       "[1.1, 2.2, 1.3, 1.4, 2.5]"
      ]
     },
     "execution_count": 60,
     "metadata": {},
     "output_type": "execute_result"
    }
   ],
   "source": [
    "result=[(x if c else y) #создаём генератор \n",
    "        for x, y, c in zip(xarr, yarr, cond)] #итерируемся по нему\n",
    "result"
   ]
  },
  {
   "cell_type": "markdown",
   "metadata": {},
   "source": [
    "Изящно, с помощью Numpy:"
   ]
  },
  {
   "cell_type": "code",
   "execution_count": 61,
   "metadata": {
    "colab": {
     "base_uri": "https://localhost:8080/"
    },
    "id": "5JwxU67qhvmm",
    "outputId": "fe944502-c78a-4af1-d6d5-ab07e501e44a"
   },
   "outputs": [
    {
     "data": {
      "text/plain": [
       "array([1.1, 2.2, 1.3, 1.4, 2.5])"
      ]
     },
     "execution_count": 61,
     "metadata": {},
     "output_type": "execute_result"
    }
   ],
   "source": [
    "result = np.where(cond, xarr, yarr)\n",
    "result"
   ]
  },
  {
   "cell_type": "markdown",
   "metadata": {
    "id": "V1p4j2qrj7RM"
   },
   "source": [
    "Предположим, имеется матрица со случайными данными и мы хотим заменить все положительные значения на 2, а все отрицательные – на –2. С помощью np.where\n",
    "сделать это очень просто:"
   ]
  },
  {
   "cell_type": "code",
   "execution_count": 82,
   "metadata": {
    "colab": {
     "base_uri": "https://localhost:8080/"
    },
    "id": "TlHoXPPCj_i0",
    "outputId": "3192b6eb-5970-4d3b-d6b2-38050234710e"
   },
   "outputs": [
    {
     "data": {
      "text/plain": [
       "array([[ 1.19974585,  0.01810653, -1.26353712,  0.90060615],\n",
       "       [-0.93893182, -0.40789943,  0.48428287,  0.39131768],\n",
       "       [ 0.28987636,  0.35087858, -1.10455785, -1.13719838],\n",
       "       [ 0.03225485, -0.39041449,  0.21235014, -0.65198224]])"
      ]
     },
     "execution_count": 82,
     "metadata": {},
     "output_type": "execute_result"
    }
   ],
   "source": [
    "arr = np.random.randn(4, 4)\n",
    "arr"
   ]
  },
  {
   "cell_type": "code",
   "execution_count": 84,
   "metadata": {
    "colab": {
     "base_uri": "https://localhost:8080/"
    },
    "id": "eslcPJOikEEk",
    "outputId": "7eff16c4-135b-4074-c917-723db8ce45ea"
   },
   "outputs": [
    {
     "data": {
      "text/plain": [
       "array([[ 2,  2, -3,  2],\n",
       "       [-3, -3,  2,  2],\n",
       "       [ 2,  2, -3, -3],\n",
       "       [ 2, -3,  2, -3]])"
      ]
     },
     "execution_count": 84,
     "metadata": {},
     "output_type": "execute_result"
    }
   ],
   "source": [
    "np.where(arr > 0, 2, -3)"
   ]
  },
  {
   "cell_type": "markdown",
   "metadata": {
    "id": "i9GBjxZokqYj"
   },
   "source": [
    "С помощью метода np.where можно комбинировать скаляры и массивы.\n",
    "Например, я могу заменить все положительные элементы arr константой 2:"
   ]
  },
  {
   "cell_type": "code",
   "execution_count": 85,
   "metadata": {
    "colab": {
     "base_uri": "https://localhost:8080/"
    },
    "id": "AqRIPaQkkrIk",
    "outputId": "910b07b9-1d8f-4bab-c8ae-32bae6607ff9"
   },
   "outputs": [
    {
     "data": {
      "text/plain": [
       "array([[ 2.        ,  2.        , -1.26353712,  2.        ],\n",
       "       [-0.93893182, -0.40789943,  2.        ,  2.        ],\n",
       "       [ 2.        ,  2.        , -1.10455785, -1.13719838],\n",
       "       [ 2.        , -0.39041449,  2.        , -0.65198224]])"
      ]
     },
     "execution_count": 85,
     "metadata": {},
     "output_type": "execute_result"
    }
   ],
   "source": [
    "np.where(arr > 0, 2, arr)"
   ]
  },
  {
   "cell_type": "markdown",
   "metadata": {
    "id": "-Mam41-vk369"
   },
   "source": [
    "## Математические и статистические операции"
   ]
  },
  {
   "cell_type": "markdown",
   "metadata": {
    "id": "IvlZxp0Qk76j"
   },
   "source": [
    "Среди методов массива есть математические функции, которые вычисляют статистики массива в целом или данных вдоль одной оси."
   ]
  },
  {
   "cell_type": "code",
   "execution_count": 87,
   "metadata": {
    "colab": {
     "base_uri": "https://localhost:8080/"
    },
    "id": "BbugHwpXlMdK",
    "outputId": "5b853103-15ae-4f48-84c0-a23e2f07ed26"
   },
   "outputs": [
    {
     "data": {
      "text/plain": [
       "array([[-1.02248403, -3.19621661,  1.63176878, -1.56728374],\n",
       "       [-0.37480157, -1.09930773, -2.20705416,  0.35317988],\n",
       "       [ 1.01336564, -0.7206613 , -0.77971123, -1.07812987],\n",
       "       [ 0.89317289, -2.02261855,  0.24534777,  0.92523944],\n",
       "       [ 1.573846  , -0.68182467, -0.83035202, -0.3682557 ]])"
      ]
     },
     "execution_count": 87,
     "metadata": {},
     "output_type": "execute_result"
    }
   ],
   "source": [
    "arr = np.random.randn(5, 4)\n",
    "arr"
   ]
  },
  {
   "cell_type": "code",
   "execution_count": 88,
   "metadata": {
    "colab": {
     "base_uri": "https://localhost:8080/"
    },
    "id": "cyl3PbP6lR5z",
    "outputId": "64953cf9-17e6-4ed5-dae3-b56b64c9eec9"
   },
   "outputs": [
    {
     "data": {
      "text/plain": [
       "-0.4656390389633766"
      ]
     },
     "execution_count": 88,
     "metadata": {},
     "output_type": "execute_result"
    }
   ],
   "source": [
    "arr.mean()"
   ]
  },
  {
   "cell_type": "code",
   "execution_count": 89,
   "metadata": {
    "colab": {
     "base_uri": "https://localhost:8080/"
    },
    "id": "kWXb49yjlU2i",
    "outputId": "8b5eefe6-5444-4264-b3b6-562b62bf41d1"
   },
   "outputs": [
    {
     "data": {
      "text/plain": [
       "-0.4656390389633766"
      ]
     },
     "execution_count": 89,
     "metadata": {},
     "output_type": "execute_result"
    }
   ],
   "source": [
    "np.mean(arr)"
   ]
  },
  {
   "cell_type": "code",
   "execution_count": 91,
   "metadata": {},
   "outputs": [
    {
     "data": {
      "text/plain": [
       "array([1.63176878, 0.35317988, 1.01336564, 0.92523944, 1.573846  ])"
      ]
     },
     "execution_count": 91,
     "metadata": {},
     "output_type": "execute_result"
    }
   ],
   "source": [
    "np.max(arr, axis=1)"
   ]
  },
  {
   "cell_type": "markdown",
   "metadata": {
    "id": "cgN2EFI7lbCr"
   },
   "source": [
    "Функции типа mean и sum принимают необязательный аргумент axis, при\n",
    "наличии которого вычисляется статистика по заданной оси. В результате порождается массив на единицу меньшей размерности:"
   ]
  },
  {
   "cell_type": "code",
   "execution_count": 93,
   "metadata": {
    "colab": {
     "base_uri": "https://localhost:8080/"
    },
    "id": "I2ZVdYtOlasC",
    "outputId": "42c5b28d-c306-47a8-a3c1-97c04d0b42bd"
   },
   "outputs": [
    {
     "data": {
      "text/plain": [
       "array([-4.1542156 , -3.32798358, -1.56513676,  0.04114155, -0.30658639])"
      ]
     },
     "execution_count": 93,
     "metadata": {},
     "output_type": "execute_result"
    }
   ],
   "source": [
    "arr.sum(axis=1)"
   ]
  },
  {
   "cell_type": "code",
   "execution_count": 94,
   "metadata": {
    "colab": {
     "base_uri": "https://localhost:8080/"
    },
    "id": "4d6pS4SDlryy",
    "outputId": "bc028959-6d97-489e-b430-e353c6ae55e5"
   },
   "outputs": [
    {
     "data": {
      "text/plain": [
       "array([ 2.08309893, -7.72062885, -1.94000086, -1.73524999])"
      ]
     },
     "execution_count": 94,
     "metadata": {},
     "output_type": "execute_result"
    }
   ],
   "source": [
    "arr.sum(axis=0)"
   ]
  },
  {
   "cell_type": "markdown",
   "metadata": {},
   "source": [
    "`argmax()` и `argmin()` – возвращают индексы максимального (минимального) элемента массива:"
   ]
  },
  {
   "cell_type": "code",
   "execution_count": 127,
   "metadata": {},
   "outputs": [
    {
     "name": "stdout",
     "output_type": "stream",
     "text": [
      "Индекс максимального элемента: 3\n",
      "Индекс минимального элемента: 9\n"
     ]
    }
   ],
   "source": [
    "a = np.array([[4, 2, 9, 89], [17, 5, 3, 14], [25, -5, 5, 6], [4, 18, 17, 8]])\n",
    "\n",
    "print(f\"Индекс максимального элемента: {np.argmax(a)}\")\n",
    "print(f\"Индекс минимального элемента: {np.argmin(a)}\")"
   ]
  },
  {
   "cell_type": "markdown",
   "metadata": {
    "id": "xTxR108InsyL"
   },
   "source": [
    "**Еще некоторые статистические методы:**"
   ]
  },
  {
   "cell_type": "markdown",
   "metadata": {
    "id": "c4NjUASBnp7D"
   },
   "source": [
    "![image.png](data:image/png;base64,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)"
   ]
  },
  {
   "cell_type": "markdown",
   "metadata": {
    "id": "CZsGIUQToSEf"
   },
   "source": [
    "## Сортировка и устранение дубликатов"
   ]
  },
  {
   "cell_type": "markdown",
   "metadata": {
    "id": "mVMeahZkoao4"
   },
   "source": [
    "Как и встроенные в Python списки, массивы NumPy можно сортировать на\n",
    "месте методом sort:"
   ]
  },
  {
   "cell_type": "code",
   "execution_count": 96,
   "metadata": {
    "colab": {
     "base_uri": "https://localhost:8080/"
    },
    "id": "_8nNXwSfoW9_",
    "outputId": "6be9395f-3c36-4f71-dfc6-653600ea391a"
   },
   "outputs": [
    {
     "data": {
      "text/plain": [
       "array([ 0.41373444, -0.73630868,  0.49808319, -2.09682902, -0.71946851,\n",
       "        0.39277191])"
      ]
     },
     "execution_count": 96,
     "metadata": {},
     "output_type": "execute_result"
    }
   ],
   "source": [
    "arr = np.random.randn(6)\n",
    "arr"
   ]
  },
  {
   "cell_type": "code",
   "execution_count": 97,
   "metadata": {
    "colab": {
     "base_uri": "https://localhost:8080/"
    },
    "id": "p8A97ZMxof3f",
    "outputId": "325e63e3-c291-4944-a4b5-5bcd9cf2effd"
   },
   "outputs": [
    {
     "data": {
      "text/plain": [
       "array([-2.09682902, -0.73630868, -0.71946851,  0.39277191,  0.41373444,\n",
       "        0.49808319])"
      ]
     },
     "execution_count": 97,
     "metadata": {},
     "output_type": "execute_result"
    }
   ],
   "source": [
    "arr.sort()\n",
    "arr"
   ]
  },
  {
   "cell_type": "markdown",
   "metadata": {
    "id": "9eHb3EOdorzg"
   },
   "source": [
    "Любой одномерный участок многомерного массива можно отсортировать\n",
    "на месте, передав методу sort номер оси:"
   ]
  },
  {
   "cell_type": "code",
   "execution_count": 98,
   "metadata": {
    "colab": {
     "base_uri": "https://localhost:8080/"
    },
    "id": "x0GwT5Gooskv",
    "outputId": "1bc6c4f3-572d-4c1d-b7c1-8bf471fc2c52"
   },
   "outputs": [
    {
     "data": {
      "text/plain": [
       "array([[-0.60270562, -1.7265581 ,  3.12452022],\n",
       "       [-0.56180337, -0.98762849,  1.6459082 ],\n",
       "       [-0.37845491, -1.26010313, -1.53793082],\n",
       "       [ 1.49147657, -0.40463923,  1.77891659],\n",
       "       [ 0.19543834, -1.74117834, -0.03584402]])"
      ]
     },
     "execution_count": 98,
     "metadata": {},
     "output_type": "execute_result"
    }
   ],
   "source": [
    "arr = np.random.randn(5, 3)\n",
    "arr"
   ]
  },
  {
   "cell_type": "code",
   "execution_count": 99,
   "metadata": {
    "colab": {
     "base_uri": "https://localhost:8080/"
    },
    "id": "QD0Wx9Xtow2v",
    "outputId": "9650dc3a-c183-433a-cd54-d357aedef9fe"
   },
   "outputs": [
    {
     "data": {
      "text/plain": [
       "array([[-1.7265581 , -0.60270562,  3.12452022],\n",
       "       [-0.98762849, -0.56180337,  1.6459082 ],\n",
       "       [-1.53793082, -1.26010313, -0.37845491],\n",
       "       [-0.40463923,  1.49147657,  1.77891659],\n",
       "       [-1.74117834, -0.03584402,  0.19543834]])"
      ]
     },
     "execution_count": 99,
     "metadata": {},
     "output_type": "execute_result"
    }
   ],
   "source": [
    "arr.sort(1)\n",
    "arr"
   ]
  },
  {
   "cell_type": "markdown",
   "metadata": {
    "id": "fwx3VRZmqtSk"
   },
   "source": [
    "В NumPy имеются основные теоретико-множественные операции для одномерных массивов. Пожалуй, самой употребительной является np.unique, она возвращает отсортированное множество уникальных значений в массиве:"
   ]
  },
  {
   "cell_type": "code",
   "execution_count": 101,
   "metadata": {
    "colab": {
     "base_uri": "https://localhost:8080/"
    },
    "id": "c2EU_Y4aqzl2",
    "outputId": "af0a8c71-b3f9-49d2-af8c-44bcd65e42b4"
   },
   "outputs": [
    {
     "data": {
      "text/plain": [
       "array(['Bob', 'Joe', 'Will'], dtype='<U4')"
      ]
     },
     "execution_count": 101,
     "metadata": {},
     "output_type": "execute_result"
    }
   ],
   "source": [
    "names = np.array(['Bob', 'Joe', 'Will', 'Bob', 'Will', 'Joe', 'Joe'])\n",
    "np.unique(names)"
   ]
  },
  {
   "cell_type": "code",
   "execution_count": 22,
   "metadata": {
    "id": "gJqI6uYJrIcU"
   },
   "outputs": [],
   "source": [
    "x=np.array([1,2,3,4,5])\n",
    "y=np.array([3,4,5,6,7,8,9])"
   ]
  },
  {
   "cell_type": "code",
   "execution_count": 76,
   "metadata": {
    "colab": {
     "base_uri": "https://localhost:8080/"
    },
    "id": "T1iOGSQdrHc8",
    "outputId": "7a913fda-d76c-4a4c-8ad2-aa47d450f678"
   },
   "outputs": [
    {
     "data": {
      "text/plain": [
       "array([3, 4, 5])"
      ]
     },
     "execution_count": 76,
     "metadata": {},
     "output_type": "execute_result"
    }
   ],
   "source": [
    "#Вычисляет отсортированное множество элементов, общих для x и y\n",
    "np.intersect1d(x, y)"
   ]
  },
  {
   "cell_type": "code",
   "execution_count": 77,
   "metadata": {
    "colab": {
     "base_uri": "https://localhost:8080/"
    },
    "id": "b6aPqyO2rbus",
    "outputId": "453685df-d7d5-4752-b695-16a22c50cc05"
   },
   "outputs": [
    {
     "data": {
      "text/plain": [
       "array([1, 2, 3, 4, 5, 6, 7, 8, 9])"
      ]
     },
     "execution_count": 77,
     "metadata": {},
     "output_type": "execute_result"
    }
   ],
   "source": [
    "#Вычисляет отсортированное объединение элементов\n",
    "np.union1d(x, y)"
   ]
  },
  {
   "cell_type": "code",
   "execution_count": 78,
   "metadata": {
    "colab": {
     "base_uri": "https://localhost:8080/"
    },
    "id": "RMUmSs8vrkPs",
    "outputId": "ef0fefc3-0375-47ec-e1e0-61d0d68d251e"
   },
   "outputs": [
    {
     "data": {
      "text/plain": [
       "array([False, False,  True,  True,  True])"
      ]
     },
     "execution_count": 78,
     "metadata": {},
     "output_type": "execute_result"
    }
   ],
   "source": [
    "#Вычисляет булев массив, показывающий, какие элементы x встречаются в y\n",
    "np.in1d(x, y)"
   ]
  },
  {
   "cell_type": "code",
   "execution_count": 79,
   "metadata": {
    "colab": {
     "base_uri": "https://localhost:8080/"
    },
    "id": "wtXA21PLrrYM",
    "outputId": "d9f682ec-fb66-4943-8225-44a6e58b02b1"
   },
   "outputs": [
    {
     "data": {
      "text/plain": [
       "array([1, 2])"
      ]
     },
     "execution_count": 79,
     "metadata": {},
     "output_type": "execute_result"
    }
   ],
   "source": [
    "#Вычисляет разность множеств,т. е. элементы, принадлежащие x, но не принадлежащие y\n",
    "np.setdiff1d(x, y)"
   ]
  },
  {
   "cell_type": "code",
   "execution_count": 80,
   "metadata": {
    "colab": {
     "base_uri": "https://localhost:8080/"
    },
    "id": "7Wg1txt0rzkc",
    "outputId": "a103a540-00af-4cb4-82f5-e301bb35f830"
   },
   "outputs": [
    {
     "data": {
      "text/plain": [
       "array([1, 2, 6, 7, 8, 9])"
      ]
     },
     "execution_count": 80,
     "metadata": {},
     "output_type": "execute_result"
    }
   ],
   "source": [
    "#Симметрическая разность множеств; элементы, принадлежащие одному массиву, но не обоим сразу\n",
    "np.setxor1d(x, y)"
   ]
  },
  {
   "cell_type": "markdown",
   "metadata": {},
   "source": [
    "## Операции с датами в Numpy"
   ]
  },
  {
   "cell_type": "markdown",
   "metadata": {},
   "source": [
    "Попробуем сравнить две даты, сохранённые как строки:"
   ]
  },
  {
   "cell_type": "code",
   "execution_count": 102,
   "metadata": {},
   "outputs": [
    {
     "ename": "TypeError",
     "evalue": "unsupported operand type(s) for -: 'str' and 'str'",
     "output_type": "error",
     "traceback": [
      "\u001b[0;31m---------------------------------------------------------------------------\u001b[0m",
      "\u001b[0;31mTypeError\u001b[0m                                 Traceback (most recent call last)",
      "Cell \u001b[0;32mIn[102], line 3\u001b[0m\n\u001b[1;32m      1\u001b[0m d1 \u001b[38;5;241m=\u001b[39m \u001b[38;5;124m\"\u001b[39m\u001b[38;5;124m2019-02-25\u001b[39m\u001b[38;5;124m\"\u001b[39m\n\u001b[1;32m      2\u001b[0m d2 \u001b[38;5;241m=\u001b[39m \u001b[38;5;124m\"\u001b[39m\u001b[38;5;124m2019-02-28\u001b[39m\u001b[38;5;124m\"\u001b[39m\n\u001b[0;32m----> 3\u001b[0m \u001b[43md2\u001b[49m\u001b[43m \u001b[49m\u001b[38;5;241;43m-\u001b[39;49m\u001b[43m \u001b[49m\u001b[43md1\u001b[49m\n",
      "\u001b[0;31mTypeError\u001b[0m: unsupported operand type(s) for -: 'str' and 'str'"
     ]
    }
   ],
   "source": [
    "d1 = \"2019-02-25\"\n",
    "d2 = \"2019-02-28\"\n",
    "d2 - d1"
   ]
  },
  {
   "cell_type": "markdown",
   "metadata": {},
   "source": [
    "Не получилось и это ожидаемо: нельзя из одного текста вычесть другой. Как быть? Превратить строку в специальный объект дата-время, который можно сравнивать с другими датами, считать, сколько времени прошло и так далее. В библиотеке NumPy такой объект есть:"
   ]
  },
  {
   "cell_type": "code",
   "execution_count": 103,
   "metadata": {},
   "outputs": [
    {
     "data": {
      "text/plain": [
       "numpy.timedelta64(3,'D')"
      ]
     },
     "execution_count": 103,
     "metadata": {},
     "output_type": "execute_result"
    }
   ],
   "source": [
    "start = np.datetime64(d1,'D')\n",
    "finish = np.datetime64(d2,'D')\n",
    "finish - start"
   ]
  },
  {
   "cell_type": "code",
   "execution_count": 104,
   "metadata": {},
   "outputs": [
    {
     "data": {
      "text/plain": [
       "numpy.datetime64('2019-02-25')"
      ]
     },
     "execution_count": 104,
     "metadata": {},
     "output_type": "execute_result"
    }
   ],
   "source": [
    "start"
   ]
  },
  {
   "cell_type": "markdown",
   "metadata": {},
   "source": [
    "Подборнее о работе с датами в Numpy:\n",
    "https://numpy.org/doc/stable/reference/arrays.datetime.html"
   ]
  },
  {
   "cell_type": "markdown",
   "metadata": {
    "id": "yz9WnmFfr84D"
   },
   "source": [
    "## Осторожно, математика!!!"
   ]
  },
  {
   "cell_type": "markdown",
   "metadata": {
    "id": "qxoZF1HNAcoF"
   },
   "source": [
    "**Матричное умножение**"
   ]
  },
  {
   "cell_type": "markdown",
   "metadata": {
    "id": "O8tFRl9asTyk"
   },
   "source": [
    "Линейно-алгебраические операции: умножение и разложение матриц, вы-\n",
    "числение определителей и другие – важная часть любой библиотеки для работы с массивами."
   ]
  },
  {
   "cell_type": "markdown",
   "metadata": {},
   "source": [
    "Умножение матриц — это один из базовых алгоритмов, который широко применяется в различных численных методах, и в частности в алгоритмах машинного обучения."
   ]
  },
  {
   "cell_type": "markdown",
   "metadata": {
    "id": "g4XVuPLotCwt"
   },
   "source": [
    "в NumPy применение оператора * к двум двумерным массивам вычисляет\n",
    "поэлементное, а не матричное произведение. А для перемножения матрицимеется функция dot"
   ]
  },
  {
   "cell_type": "code",
   "execution_count": 105,
   "metadata": {
    "colab": {
     "base_uri": "https://localhost:8080/"
    },
    "id": "4xqWPy75tGii",
    "outputId": "df818d67-0735-45f6-e9c4-00d1d9c08cac"
   },
   "outputs": [
    {
     "data": {
      "text/plain": [
       "array([[1, 2, 3],\n",
       "       [4, 5, 6]])"
      ]
     },
     "execution_count": 105,
     "metadata": {},
     "output_type": "execute_result"
    }
   ],
   "source": [
    "A = np.array([[1,2,3],[4,5,6]])\n",
    "A"
   ]
  },
  {
   "cell_type": "code",
   "execution_count": 106,
   "metadata": {
    "colab": {
     "base_uri": "https://localhost:8080/"
    },
    "id": "jSaiUB--tRm6",
    "outputId": "1ceb3239-f660-4244-9cbb-856f9c33c86b"
   },
   "outputs": [
    {
     "data": {
      "text/plain": [
       "array([[7, 8],\n",
       "       [9, 1],\n",
       "       [2, 3]])"
      ]
     },
     "execution_count": 106,
     "metadata": {},
     "output_type": "execute_result"
    }
   ],
   "source": [
    "B = np.array([[7,8],[9,1],[2,3]])\n",
    "B"
   ]
  },
  {
   "cell_type": "markdown",
   "metadata": {},
   "source": [
    "Матрицы A и B могут быть перемножены, если они совместимы в том смысле, что число столбцов матрицы A равно числу строк B."
   ]
  },
  {
   "cell_type": "markdown",
   "metadata": {
    "id": "4iqd76ems7Eq"
   },
   "source": [
    "![image.png](data:image/png;base64,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)"
   ]
  },
  {
   "cell_type": "code",
   "execution_count": 109,
   "metadata": {
    "colab": {
     "base_uri": "https://localhost:8080/",
     "height": 165
    },
    "id": "8tdysFlts8L6",
    "outputId": "eca0cfaa-0f42-4244-bee2-9000532c5edc"
   },
   "outputs": [
    {
     "ename": "ValueError",
     "evalue": "operands could not be broadcast together with shapes (2,3) (3,2) ",
     "output_type": "error",
     "traceback": [
      "\u001b[0;31m---------------------------------------------------------------------------\u001b[0m",
      "\u001b[0;31mValueError\u001b[0m                                Traceback (most recent call last)",
      "Cell \u001b[0;32mIn[109], line 1\u001b[0m\n\u001b[0;32m----> 1\u001b[0m \u001b[43mA\u001b[49m\u001b[38;5;241;43m*\u001b[39;49m\u001b[43mB\u001b[49m\n",
      "\u001b[0;31mValueError\u001b[0m: operands could not be broadcast together with shapes (2,3) (3,2) "
     ]
    }
   ],
   "source": [
    "A*B"
   ]
  },
  {
   "cell_type": "code",
   "execution_count": 110,
   "metadata": {
    "colab": {
     "base_uri": "https://localhost:8080/"
    },
    "id": "TXxSXZ_ft41B",
    "outputId": "408d6a1e-a850-40d2-d345-495c9ef8f50a"
   },
   "outputs": [
    {
     "data": {
      "text/plain": [
       "array([[31, 19],\n",
       "       [85, 55]])"
      ]
     },
     "execution_count": 110,
     "metadata": {},
     "output_type": "execute_result"
    }
   ],
   "source": [
    "np.dot(A, B)"
   ]
  },
  {
   "cell_type": "code",
   "execution_count": 111,
   "metadata": {},
   "outputs": [
    {
     "data": {
      "text/plain": [
       "array([[39, 54, 69],\n",
       "       [13, 23, 33],\n",
       "       [14, 19, 24]])"
      ]
     },
     "execution_count": 111,
     "metadata": {},
     "output_type": "execute_result"
    }
   ],
   "source": [
    "np.dot(B, A)"
   ]
  },
  {
   "cell_type": "markdown",
   "metadata": {
    "id": "LZD1np8Y8INr"
   },
   "source": [
    "**Линейные уравнения**"
   ]
  },
  {
   "cell_type": "markdown",
   "metadata": {
    "id": "W_jCNZg637PH"
   },
   "source": [
    "С помощью Numpy можно решать системы линейных уравнений, например:\n",
    "\n",
    "**x+3y=9**\n",
    "\n",
    "**2x-4y=8**"
   ]
  },
  {
   "cell_type": "markdown",
   "metadata": {
    "id": "ivRE0FQi4NE_"
   },
   "source": [
    "Обычно для решения используют метод подстановки. А вот как эту задачу можно решить в Numpy:"
   ]
  },
  {
   "cell_type": "code",
   "execution_count": 114,
   "metadata": {
    "id": "_KCUuh1a5ASG"
   },
   "outputs": [
    {
     "data": {
      "text/plain": [
       "array([[ 1,  3],\n",
       "       [ 2, -4]])"
      ]
     },
     "execution_count": 114,
     "metadata": {},
     "output_type": "execute_result"
    }
   ],
   "source": [
    "# коэффициенты при переменных в левой части уравнения\n",
    "a = np.array( [ [1, 3], [2, -4] ] )\n",
    "a"
   ]
  },
  {
   "cell_type": "code",
   "execution_count": 115,
   "metadata": {
    "id": "weqYsn6L5HHV"
   },
   "outputs": [
    {
     "data": {
      "text/plain": [
       "array([9, 8])"
      ]
     },
     "execution_count": 115,
     "metadata": {},
     "output_type": "execute_result"
    }
   ],
   "source": [
    "# значения в правой части уравнения\n",
    "b = np.array( [9, 8] )\n",
    "b"
   ]
  },
  {
   "cell_type": "code",
   "execution_count": 117,
   "metadata": {
    "id": "8gZB_93J5Se1"
   },
   "outputs": [],
   "source": [
    "from numpy import linalg # модуль для работы с линейной алгеброй"
   ]
  },
  {
   "cell_type": "code",
   "execution_count": 118,
   "metadata": {
    "colab": {
     "base_uri": "https://localhost:8080/"
    },
    "id": "r_a4NRCs5LFW",
    "outputId": "13624b44-abb5-4e55-d54c-8086591cf67f"
   },
   "outputs": [
    {
     "data": {
      "text/plain": [
       "array([6., 1.])"
      ]
     },
     "execution_count": 118,
     "metadata": {},
     "output_type": "execute_result"
    }
   ],
   "source": [
    "#Первый аргумент будет соответствовать x, а второй - y\n",
    "linalg.solve(a, b)"
   ]
  },
  {
   "cell_type": "markdown",
   "metadata": {
    "id": "T9XOXRaP54TQ"
   },
   "source": [
    "**Векторная модель**"
   ]
  },
  {
   "cell_type": "markdown",
   "metadata": {
    "id": "UNLRnSjE84Yn"
   },
   "source": [
    "Векторная модель является основой для решения многих задач информационного поиска, как то: поиск документа по запросу, классификация документов, кластеризация документов."
   ]
  },
  {
   "cell_type": "markdown",
   "metadata": {
    "id": "yOYdhzl88cc9"
   },
   "source": [
    "Пусть дано 2 покупателя. Один из них купил за месяц 4 пакета молока и 3 пачки сахара, другой - 2 пакета молока и 1 пачку сахара. Как определить, относятся ли покупатели к одному сегменту?"
   ]
  },
  {
   "cell_type": "markdown",
   "metadata": {
    "id": "0TcCZveH-Ik4"
   },
   "source": [
    "Для этого можно представить показатели покупок наших покупателей в виде векторов a и b."
   ]
  },
  {
   "cell_type": "code",
   "execution_count": 125,
   "metadata": {
    "id": "Y0_mIbuA6Fqt"
   },
   "outputs": [],
   "source": [
    "a = np.array( [-4, 3] )\n",
    "b = np.array( [2, 1] )"
   ]
  },
  {
   "cell_type": "markdown",
   "metadata": {
    "id": "BvnSehmv-V4A"
   },
   "source": [
    "Если эти вектора отложить на графике, то это будет выглядеть так:"
   ]
  },
  {
   "cell_type": "code",
   "execution_count": 126,
   "metadata": {
    "id": "yg3mGB0L-cbL"
   },
   "outputs": [],
   "source": [
    "import matplotlib.pyplot as plt"
   ]
  },
  {
   "cell_type": "code",
   "execution_count": 129,
   "metadata": {
    "colab": {
     "base_uri": "https://localhost:8080/",
     "height": 279
    },
    "id": "ASV2XnaK-fWp",
    "outputId": "792beeab-f5c0-4a59-e4e5-d92019bcc729"
   },
   "outputs": [
    {
     "data": {
      "image/png": "[encoded data removed]",
      "text/plain": [
       "<Figure size 640x480 with 1 Axes>"
      ]
     },
     "metadata": {},
     "output_type": "display_data"
    }
   ],
   "source": [
    "ax = plt.axes()\n",
    "\n",
    "plt.xlim( [-5, 5.5] )\n",
    "plt.ylim( [0, 5.5] )\n",
    "\n",
    "ax.arrow( 0, 0, a[0], a[1], head_width=0.1, head_length=0.2, fc='k', ec='k' )\n",
    "ax.arrow( 0, 0, b[0], b[1], head_width=0.1, head_length=0.2, fc='k', ec='k' )\n",
    "\n",
    "plt.text(-4.2, 3.2, \"покупатель a\")\n",
    "plt.text(2.2, 1.2, \"покупатель b\")\n",
    "\n",
    "ax.set_xlabel('молоко')\n",
    "ax.set_ylabel('сахар')\n",
    "\n",
    "plt.show()"
   ]
  },
  {
   "cell_type": "markdown",
   "metadata": {
    "id": "SuejwQIs_5RP"
   },
   "source": [
    "Для того, чтобы определить, насколько схожи или сонаправлены эти вектора, необходимо найти косинус угла между этими векторами."
   ]
  },
  {
   "cell_type": "markdown",
   "metadata": {
    "id": "ai4-x05I9e2t"
   },
   "source": [
    "Косинусное сходство — это мера сходства между двумя векторами, которая используется для измерения косинуса угла между ними."
   ]
  },
  {
   "cell_type": "markdown",
   "metadata": {
    "id": "LqZX2EWoAIy_"
   },
   "source": [
    "![image.png](data:image/png;base64,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)"
   ]
  },
  {
   "cell_type": "markdown",
   "metadata": {},
   "source": [
    "Скалярное произведение векторов:"
   ]
  },
  {
   "attachments": {
    "image-2.png": {
     "image/png": "[encoded data removed]"
    }
   },
   "cell_type": "markdown",
   "metadata": {},
   "source": [
    "![image-2.png](attachment:image-2.png)"
   ]
  },
  {
   "cell_type": "markdown",
   "metadata": {
    "id": "m5fjcB_w722z"
   },
   "source": [
    "Норма вектора относится к длине или величине вектора. Норма вектора – это мера ее расстояния от происхождения в векторном пространстве."
   ]
  },
  {
   "cell_type": "code",
   "execution_count": 130,
   "metadata": {
    "id": "TzulragO63sk"
   },
   "outputs": [],
   "source": [
    "aLength = np.linalg.norm( a )\n",
    "bLength = np.linalg.norm( b )"
   ]
  },
  {
   "cell_type": "code",
   "execution_count": 131,
   "metadata": {
    "colab": {
     "base_uri": "https://localhost:8080/"
    },
    "id": "ysRf0nuB6zL1",
    "outputId": "05fea1d9-6a55-44b9-d7da-d96acc14f003"
   },
   "outputs": [
    {
     "data": {
      "text/plain": [
       "-0.4472135954999579"
      ]
     },
     "execution_count": 131,
     "metadata": {},
     "output_type": "execute_result"
    }
   ],
   "source": [
    "cos = np.dot( a, b ) / ( aLength * bLength )\n",
    "cos"
   ]
  },
  {
   "cell_type": "markdown",
   "metadata": {},
   "source": [
    "# Скорость работы по сравнению с \"чистым\" Python"
   ]
  },
  {
   "cell_type": "markdown",
   "metadata": {},
   "source": [
    "## Сложение матриц"
   ]
  },
  {
   "cell_type": "code",
   "execution_count": 133,
   "metadata": {},
   "outputs": [],
   "source": [
    "import random"
   ]
  },
  {
   "cell_type": "code",
   "execution_count": 134,
   "metadata": {},
   "outputs": [
    {
     "name": "stdout",
     "output_type": "stream",
     "text": [
      "534 µs ± 4.32 µs per loop (mean ± std. dev. of 7 runs, 1,000 loops each)\n"
     ]
    }
   ],
   "source": [
    "%%timeit\n",
    "a = [random.random() for i  in range(10000)]"
   ]
  },
  {
   "cell_type": "code",
   "execution_count": 135,
   "metadata": {},
   "outputs": [
    {
     "name": "stdout",
     "output_type": "stream",
     "text": [
      "155 µs ± 2.41 µs per loop (mean ± std. dev. of 7 runs, 10,000 loops each)\n"
     ]
    }
   ],
   "source": [
    "%%timeit\n",
    "b = np.random.randn(10000)"
   ]
  },
  {
   "cell_type": "code",
   "execution_count": 136,
   "metadata": {},
   "outputs": [],
   "source": [
    "# Определяем две матрицы размером 1000x1000 со случайными целыми числами от 0 до 9\n",
    "a = np.random.randint(0, 10, size=(1000, 1000))\n",
    "b = np.random.randint(0, 10, size=(1000, 1000))"
   ]
  },
  {
   "cell_type": "code",
   "execution_count": 137,
   "metadata": {},
   "outputs": [
    {
     "name": "stdout",
     "output_type": "stream",
     "text": [
      "239 ms ± 2.66 ms per loop (mean ± std. dev. of 7 runs, 1 loop each)\n"
     ]
    }
   ],
   "source": [
    "%%timeit\n",
    "# Поэлементное сложение средствами Python\n",
    "c = [[a[i][j] + b[i][j] for j in range(len(a[0]))] for i in range(len(a))]"
   ]
  },
  {
   "cell_type": "code",
   "execution_count": 138,
   "metadata": {},
   "outputs": [
    {
     "name": "stdout",
     "output_type": "stream",
     "text": [
      "1.03 ms ± 60.7 µs per loop (mean ± std. dev. of 7 runs, 1,000 loops each)\n"
     ]
    }
   ],
   "source": [
    "%%timeit\n",
    "# Сложение матриц с помощью NumPy\n",
    "d = a + b"
   ]
  },
  {
   "cell_type": "markdown",
   "metadata": {},
   "source": [
    "## Скалярное произведение"
   ]
  },
  {
   "cell_type": "code",
   "execution_count": 139,
   "metadata": {},
   "outputs": [],
   "source": [
    "a = np.random.randint(500, 125000, size=100000)\n",
    "b = np.random.randint(500, 125000, size=100000)"
   ]
  },
  {
   "cell_type": "code",
   "execution_count": 140,
   "metadata": {},
   "outputs": [
    {
     "name": "stdout",
     "output_type": "stream",
     "text": [
      "14.8 ms ± 189 µs per loop (mean ± std. dev. of 7 runs, 100 loops each)\n"
     ]
    }
   ],
   "source": [
    "%%timeit\n",
    "res = 0\n",
    "for i in range(len(a)):\n",
    "    res += a[i]*b[i]\n",
    "res"
   ]
  },
  {
   "cell_type": "code",
   "execution_count": 141,
   "metadata": {},
   "outputs": [
    {
     "name": "stdout",
     "output_type": "stream",
     "text": [
      "37.3 µs ± 1e+03 ns per loop (mean ± std. dev. of 7 runs, 10,000 loops each)\n"
     ]
    }
   ],
   "source": [
    "%%timeit\n",
    "np.dot(a, b)"
   ]
  },
  {
   "cell_type": "markdown",
   "metadata": {},
   "source": [
    "# Примеры задач с использованием NumPy"
   ]
  },
  {
   "cell_type": "markdown",
   "metadata": {},
   "source": [
    "## минимальный и максимальный элементы"
   ]
  },
  {
   "cell_type": "markdown",
   "metadata": {},
   "source": [
    "У нас есть массив с показателями годового плана производства по 12 основным видам продукции и массив с ценами на сырье.\n",
    "\n",
    "Необходимо определить:\n",
    "- Месяцы с минимальными и максимальными затратами на сырье.\n",
    "- Виды продукции, на которые приходится минимальная и максимальная доли всех затрат."
   ]
  },
  {
   "cell_type": "code",
   "execution_count": 122,
   "metadata": {},
   "outputs": [],
   "source": [
    "# Годовой план производства (в тоннах)\n",
    "production_plan = np.array([\n",
    "    [110, 120, 80, 100, 200, 200, 100, 90, 150, 100, 205, 100],  \n",
    "    [90, 110, 70, 110, 180, 200, 120, 80, 150, 100, 205, 110],    \n",
    "    [80, 70, 90, 90, 150, 105, 105, 70, 90, 80, 105, 85],   \n",
    "    [120, 140, 100, 120, 230, 100, 110, 80, 70, 90, 205, 110],  \n",
    "    [130, 150, 110, 110, 240, 100, 110, 80, 75, 90, 205, 100],  \n",
    "    [140, 160, 120, 110, 250, 100, 100, 80, 75, 90, 205, 120],  \n",
    "    [150, 170, 130, 90, 260, 100, 100, 80, 80, 100, 205, 200],  \n",
    "    [160, 180, 140, 120, 270, 100, 120, 80, 85, 100, 205, 210],  \n",
    "    [170, 190, 150, 120, 280, 100, 130, 80, 90, 120, 205, 210],  \n",
    "    [180, 200, 160, 130, 290, 100, 140, 80, 95, 130, 205, 220],  \n",
    "    [190, 210, 170, 140, 300, 100, 130, 80, 150, 140, 205, 230],  \n",
    "    [200, 220, 180, 150, 310, 100, 160, 80, 150, 200, 205, 250]   \n",
    "])\n",
    "\n",
    "# Цены на сырье (за тонну)\n",
    "prices_per_ton = np.array([10000, 150000, 12000, 80000, 2000, 33060, 5000, 10000, 170000, 19000, 8600, 7000])\n",
    "\n",
    "months = ['январь', 'февраль', 'март', 'апрель', 'май', 'июнь',\n",
    "        'июль', 'август', 'сентябрь', 'октябрь', 'ноябрь', 'декабрь']\n",
    "\n",
    "# Виды продукции\n",
    "products = np.array(['Печенье \"Чебурашка\"', 'Торт \"Клубничный\"', 'Конфеты \"Птичка\"', 'Шоколад \"Золотой стандарт\"', 'Пряники \"Изюм\"', 'Зефир \"Бриз\"', 'Пирожное \"Тирамису\"', 'Мармелад \"Fruit&Berry\"', 'Мусс \"Крем-брюле\"', 'Брауни \"Ореховый\"', 'Кекс \"Праздник\"', 'Батончики \"Сюрприз\"'])\n",
    "\n",
    "# Названия ингредиентов\n",
    "ingredients = np.array(['Мука', 'Сахар', 'Масло', 'Какао', 'Мед', 'Ваниль', 'Яйца', 'Кондитерская глазурь', 'Фрукты', 'Орехи', 'Кокосовая стружка', 'Сливки'])"
   ]
  },
  {
   "cell_type": "code",
   "execution_count": 126,
   "metadata": {},
   "outputs": [
    {
     "name": "stdout",
     "output_type": "stream",
     "text": [
      "Больше всего затрат приходится на:\t\tТорт \"Клубничный\"\n",
      "Меньше всего средств тратится на:\t\tПряники \"Изюм\"\n",
      "Месяц с минимальными затратами на сырье:\tмарт\n",
      "Месяц с максимальными затратами на сырье:\tдекабрь\n"
     ]
    }
   ],
   "source": [
    "# Вычисление объемов закупок сырья для каждого месяца и вида продукции\n",
    "monthly_purchases = np.dot(production_plan, np.diag(prices_per_ton))\n",
    "\n",
    "# Вычисление общей стоимости ежемесячных закупок сырья\n",
    "total_costs = np.sum(monthly_purchases, axis=1)\n",
    "\n",
    "# Суммарная стоимость по каждому виду продукции\n",
    "product_costs = np.sum(monthly_purchases, axis=0)\n",
    "\n",
    "# Виды продукции, на которые приходятся максимум и минимум затрат\n",
    "most_expenses_index = np.argmax(product_costs)\n",
    "least_expenses_index = np.argmin(product_costs)\n",
    "\n",
    "# Индексы месяцев с минимальными и максимальными затратами на сырье\n",
    "min_month_index = np.argmin(total_costs)\n",
    "max_month_index = np.argmax(total_costs)\n",
    "\n",
    "print(f\"Больше всего затрат приходится на:\\t\\t{products[most_expenses_index]}\")\n",
    "print(f\"Меньше всего средств тратится на:\\t\\t{products[least_expenses_index]}\")\n",
    "\n",
    "print(f\"Месяц с минимальными затратами на сырье:\\t{months[min_month_index]}\")\n",
    "print(f\"Месяц с максимальными затратами на сырье:\\t{months[max_month_index]}\")\n"
   ]
  },
  {
   "cell_type": "markdown",
   "metadata": {},
   "source": [
    "## Оценка инвест портфеля"
   ]
  },
  {
   "cell_type": "markdown",
   "metadata": {},
   "source": [
    "- Прошлая доходность акций:  [10, 5, 15, 8, 12]\n",
    "- Стандартное отклонение акций [2, 3, 4, 2.5, 3.5]\n",
    "- Сумма инвестиций = 1000000\n",
    "- Допустимый уровень риска 10%\n",
    "- Доли акций в портфеле [0.2, 0.3, 0.15, 0.25, 0.1]\n",
    "\n",
    "Оценить уровень риска"
   ]
  },
  {
   "cell_type": "code",
   "execution_count": 130,
   "metadata": {},
   "outputs": [
    {
     "name": "stdout",
     "output_type": "stream",
     "text": [
      "Прошлая доходность акций: [10  5 15  8 12]\n",
      "Стандартное отклонение акций: [2.  3.  4.  2.5 3.5]\n",
      "Сумма инвестиций: 10000\n",
      "Допустимый уровень риска: 10%\n",
      "Доли акций в портфеле: [0.2  0.3  0.15 0.25 0.1 ]\n",
      "\n",
      "\n",
      "Уровень риска портфеля соответствует требованиям.\n"
     ]
    }
   ],
   "source": [
    "# Прошлая доходность акций (в процентах за период)\n",
    "returns = np.array([10, 5, 15, 8, 12])\n",
    "print(f\"Прошлая доходность акций: {returns}\")\n",
    "\n",
    "# Стандартное отклонение акций (в процентах)\n",
    "std_devs = np.array([2, 3, 4, 2.5, 3.5])\n",
    "print(f\"Стандартное отклонение акций: {std_devs}\")\n",
    "\n",
    "# Сумма, которой располагает инвестор\n",
    "invest_amount = 10000\n",
    "print(f\"Сумма инвестиций: {invest_amount}\")\n",
    "\n",
    "# Допустимый уровень риска портфеля (в процентах)\n",
    "risk_level = 10\n",
    "print(f\"Допустимый уровень риска: {risk_level}%\")\n",
    "\n",
    "# Вычисление взвешенной средней доходности портфеля\n",
    "weights = np.array([0.2, 0.3, 0.15, 0.25, 0.1])\n",
    "portfolio_returns = np.dot(returns, weights)\n",
    "print(f\"Доли акций в портфеле: {weights}\\n\\n\")\n",
    "\n",
    "# Вычисление стандартного отклонения портфеля\n",
    "portfolio_std_dev = np.sqrt(np.dot(weights, np.dot(std_devs, weights.T)))\n",
    "\n",
    "# Проверка уровня риска портфеля\n",
    "if (portfolio_std_dev <= risk_level).any():\n",
    "    print(\"Уровень риска портфеля соответствует требованиям.\")\n",
    "else:\n",
    "    print(\"Уровень риска слишком высок. Рекомендуем изменить веса акций в портфеле.\")"
   ]
  },
  {
   "cell_type": "markdown",
   "metadata": {},
   "source": [
    "## Анализ данных о продажах"
   ]
  },
  {
   "cell_type": "code",
   "execution_count": 132,
   "metadata": {},
   "outputs": [],
   "source": [
    "# Имеются массивы с данными о продажах:\n",
    "\n",
    "years = np.random.choice(range(2011, 2023), size=100000)\n",
    "sales = np.random.randint(500, 125000, size=100000)\n",
    "revenue = np.random.randint(1000000, 50000000, size=100000)"
   ]
  },
  {
   "cell_type": "markdown",
   "metadata": {},
   "source": [
    "Определить:\n",
    "\n",
    "- Общее количество продаж по каждому году.\n",
    "- Среднюю выручку по каждому году.\n",
    "- Год с максимальным числом продаж.\n",
    "- Год с минимальной выручкой."
   ]
  },
  {
   "cell_type": "code",
   "execution_count": 133,
   "metadata": {},
   "outputs": [
    {
     "name": "stdout",
     "output_type": "stream",
     "text": [
      "Общее количество продаж\n",
      "в 2011 году: 519831718\n",
      "в 2012 году: 530362787\n",
      "в 2013 году: 520878390\n",
      "в 2014 году: 523009283\n",
      "в 2015 году: 533334515\n",
      "в 2016 году: 522982786\n",
      "в 2017 году: 522335811\n",
      "в 2018 году: 529118212\n",
      "в 2019 году: 521607150\n",
      "в 2020 году: 529760873\n",
      "в 2021 году: 513300105\n",
      "в 2022 году: 523665864\n",
      "\n",
      "Средняя выручка\n",
      "в 2011 году: 25350088.66\n",
      "в 2012 году: 25623414.63\n",
      "в 2013 году: 25397436.17\n",
      "в 2014 году: 25410656.11\n",
      "в 2015 году: 25455007.78\n",
      "в 2016 году: 25325074.86\n",
      "в 2017 году: 25666544.51\n",
      "в 2018 году: 25675343.64\n",
      "в 2019 году: 25552475.50\n",
      "в 2020 году: 25171469.15\n",
      "в 2021 году: 25415284.74\n",
      "в 2022 году: 25344164.48\n",
      "\n",
      "Год с максимальным количеством продаж: 2019\n",
      "Год с минимальной выручкой от продаж: 2020\n"
     ]
    }
   ],
   "source": [
    "sales_data = np.column_stack((years, sales, revenue))\n",
    "\n",
    "# Находим общее количество продаж за каждый год\n",
    "total_sales_by_year = np.zeros((12,))\n",
    "for i in range(12):\n",
    "    total_sales = np.sum(sales_data[sales_data[:, 0] == (2011 + i), 1])\n",
    "    total_sales_by_year[i] = total_sales\n",
    "\n",
    "print(\"Общее количество продаж\")\n",
    "for i, year in enumerate(range(2011, 2023)):\n",
    "    print(f\"в {year} году: {int(total_sales_by_year[i])}\")\n",
    "\n",
    "# Вычисляем среднюю выручку от продажи за каждый год\n",
    "average_revenue_by_year = np.zeros((12,))\n",
    "for i in range(12):\n",
    "    average_revenue = np.mean(sales_data[sales_data[:, 0] == (2011 + i), 2])\n",
    "    average_revenue_by_year[i] = average_revenue\n",
    "\n",
    "print(\"\\nСредняя выручка\")\n",
    "for i, year in enumerate(range(2011, 2023)):\n",
    "    print(f\"в {year} году: {average_revenue_by_year[i]:.2f}\")\n",
    "\n",
    "# Определяем год с максимальным количеством продаж\n",
    "max_sales_year = sales_data[:, 0][np.argmax(sales_data[:, 1])]\n",
    "print(f\"\\nГод с максимальным количеством продаж: {max_sales_year}\")\n",
    "\n",
    "# Определяем год с минимальной выручкой от продажи\n",
    "min_revenue_year = sales_data[:, 0][np.argmin(sales_data[:, 2])]\n",
    "print(f\"Год с минимальной выручкой от продаж: {min_revenue_year}\")"
   ]
  }
 ],
 "metadata": {
  "colab": {
   "collapsed_sections": [],
   "name": "2.1 Numpy, векторы и матрицы",
   "provenance": []
  },
  "kernelspec": {
   "display_name": "Python 3",
   "language": "python",
   "name": "python3"
  },
  "language_info": {
   "codemirror_mode": {
    "name": "ipython",
    "version": 3
   },
   "file_extension": ".py",
   "mimetype": "text/x-python",
   "name": "python",
   "nbconvert_exporter": "python",
   "pygments_lexer": "ipython3",
   "version": "3.10.12"
  }
 },
 "nbformat": 4,
 "nbformat_minor": 1
}
