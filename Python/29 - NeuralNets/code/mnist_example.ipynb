{
  "cells": [
    {
      "cell_type": "markdown",
      "id": "b5962582",
      "metadata": {
        "id": "b5962582"
      },
      "source": [
        "# Введение в PyTorch\n",
        "\n",
        "<img src=\"https://miro.medium.com/v2/resize:fit:1400/format:webp/1*4br4WmxNo0jkcsY796jGDQ.jpeg\" width=240>\n",
        "\n",
        "**На этом уроке мы рассмотрим как при помощи PyTorch:**\n",
        "- Работать с данными\n",
        "- Создавать свои модели нейросетей (на примере полносвязных и сверточных сетей)\n",
        "- Обучать созданные модели\n",
        "- Сохранять и загружать обученные модели (checkpoints)\n",
        "- Делать предсказания (инференс)\n",
        "- Ускорить инференс при помощи компиляции моделей (PyTorch 2.0)\n",
        "- Transfer Lerning из одного датасета в другой\n",
        "\n",
        "В качестве датасетов будем использовать MNIST и CIFAR10.\n",
        "\n",
        "**Для начала импортируем необходимые библиотеки:**"
      ]
    },
    {
      "cell_type": "code",
      "execution_count": 1,
      "id": "08a7faf3",
      "metadata": {
        "colab": {
          "base_uri": "https://localhost:8080/",
          "height": 35
        },
        "id": "08a7faf3",
        "outputId": "222c31fe-4f7a-4e7a-b529-3c65a4bce7b5"
      },
      "outputs": [
        {
          "data": {
            "text/plain": [
              "'2.2.0.dev20230913'"
            ]
          },
          "execution_count": 1,
          "metadata": {},
          "output_type": "execute_result"
        }
      ],
      "source": [
        "import numpy as np\n",
        "import torch\n",
        "import matplotlib.pyplot as plt\n",
        "torch.__version__"
      ]
    },
    {
      "cell_type": "code",
      "execution_count": 2,
      "id": "ceab4864",
      "metadata": {
        "id": "ceab4864"
      },
      "outputs": [],
      "source": [
        "# Вспомогательная функция для визуализации данных:\n",
        "def show(img, title=''):\n",
        "    plt.title(title)\n",
        "    plt.xticks([])\n",
        "    plt.yticks([])\n",
        "    plt.imshow(img, cmap=\"gray\")\n",
        "    plt.show()"
      ]
    },
    {
      "cell_type": "markdown",
      "id": "b9278170",
      "metadata": {
        "id": "b9278170"
      },
      "source": [
        "## 1 Работа с данными"
      ]
    },
    {
      "cell_type": "code",
      "execution_count": 3,
      "id": "fb703475",
      "metadata": {
        "id": "fb703475"
      },
      "outputs": [],
      "source": [
        "import torch\n",
        "from torch import nn\n",
        "from torch.utils.data import DataLoader\n",
        "from torchvision import datasets\n",
        "from torchvision import transforms"
      ]
    },
    {
      "cell_type": "markdown",
      "id": "9e4f5b57",
      "metadata": {
        "id": "9e4f5b57"
      },
      "source": [
        "**Загрузка датасета**"
      ]
    },
    {
      "cell_type": "code",
      "execution_count": 4,
      "id": "b43bd83c",
      "metadata": {
        "colab": {
          "base_uri": "https://localhost:8080/"
        },
        "id": "b43bd83c",
        "outputId": "357153b1-264e-4ea5-9865-96e2313c1cb6"
      },
      "outputs": [
        {
          "name": "stdout",
          "output_type": "stream",
          "text": [
            "Downloading http://yann.lecun.com/exdb/mnist/train-images-idx3-ubyte.gz\n",
            "Failed to download (trying next):\n",
            "HTTP Error 403: Forbidden\n",
            "\n",
            "Downloading https://ossci-datasets.s3.amazonaws.com/mnist/train-images-idx3-ubyte.gz\n",
            "Downloading https://ossci-datasets.s3.amazonaws.com/mnist/train-images-idx3-ubyte.gz to ./dataset/MNIST/raw/train-images-idx3-ubyte.gz\n"
          ]
        },
        {
          "name": "stderr",
          "output_type": "stream",
          "text": [
            "100%|██████████| 9912422/9912422 [00:42<00:00, 235776.03it/s]\n"
          ]
        },
        {
          "name": "stdout",
          "output_type": "stream",
          "text": [
            "Extracting ./dataset/MNIST/raw/train-images-idx3-ubyte.gz to ./dataset/MNIST/raw\n",
            "\n",
            "Downloading http://yann.lecun.com/exdb/mnist/train-labels-idx1-ubyte.gz\n",
            "Failed to download (trying next):\n",
            "HTTP Error 403: Forbidden\n",
            "\n",
            "Downloading https://ossci-datasets.s3.amazonaws.com/mnist/train-labels-idx1-ubyte.gz\n",
            "Downloading https://ossci-datasets.s3.amazonaws.com/mnist/train-labels-idx1-ubyte.gz to ./dataset/MNIST/raw/train-labels-idx1-ubyte.gz\n"
          ]
        },
        {
          "name": "stderr",
          "output_type": "stream",
          "text": [
            "100%|██████████| 28881/28881 [00:00<00:00, 161853.50it/s]\n"
          ]
        },
        {
          "name": "stdout",
          "output_type": "stream",
          "text": [
            "Extracting ./dataset/MNIST/raw/train-labels-idx1-ubyte.gz to ./dataset/MNIST/raw\n",
            "\n",
            "Downloading http://yann.lecun.com/exdb/mnist/t10k-images-idx3-ubyte.gz\n",
            "Failed to download (trying next):\n",
            "HTTP Error 403: Forbidden\n",
            "\n",
            "Downloading https://ossci-datasets.s3.amazonaws.com/mnist/t10k-images-idx3-ubyte.gz\n",
            "Downloading https://ossci-datasets.s3.amazonaws.com/mnist/t10k-images-idx3-ubyte.gz to ./dataset/MNIST/raw/t10k-images-idx3-ubyte.gz\n"
          ]
        },
        {
          "name": "stderr",
          "output_type": "stream",
          "text": [
            "100%|██████████| 1648877/1648877 [00:01<00:00, 987187.82it/s] \n"
          ]
        },
        {
          "name": "stdout",
          "output_type": "stream",
          "text": [
            "Extracting ./dataset/MNIST/raw/t10k-images-idx3-ubyte.gz to ./dataset/MNIST/raw\n",
            "\n",
            "Downloading http://yann.lecun.com/exdb/mnist/t10k-labels-idx1-ubyte.gz\n",
            "Failed to download (trying next):\n",
            "HTTP Error 403: Forbidden\n",
            "\n",
            "Downloading https://ossci-datasets.s3.amazonaws.com/mnist/t10k-labels-idx1-ubyte.gz\n",
            "Downloading https://ossci-datasets.s3.amazonaws.com/mnist/t10k-labels-idx1-ubyte.gz to ./dataset/MNIST/raw/t10k-labels-idx1-ubyte.gz\n"
          ]
        },
        {
          "name": "stderr",
          "output_type": "stream",
          "text": [
            "100%|██████████| 4542/4542 [00:00<00:00, 1328766.74it/s]"
          ]
        },
        {
          "name": "stdout",
          "output_type": "stream",
          "text": [
            "Extracting ./dataset/MNIST/raw/t10k-labels-idx1-ubyte.gz to ./dataset/MNIST/raw\n",
            "\n"
          ]
        },
        {
          "name": "stderr",
          "output_type": "stream",
          "text": [
            "\n"
          ]
        }
      ],
      "source": [
        "# Скачиваем данные для обучения:\n",
        "training_data = datasets.MNIST(\n",
        "    root=\"./dataset\",\n",
        "    train=True,\n",
        "    download=True,\n",
        "    transform=transforms.ToTensor(),\n",
        ")\n",
        "\n",
        "# Скачиваем данные для теста:\n",
        "test_data = datasets.MNIST(\n",
        "    root=\"./dataset\",\n",
        "    train=False,\n",
        "    download=True,\n",
        "    transform=transforms.ToTensor(),\n",
        ")"
      ]
    },
    {
      "cell_type": "code",
      "execution_count": 5,
      "id": "a6115a69",
      "metadata": {
        "colab": {
          "base_uri": "https://localhost:8080/",
          "height": 203
        },
        "id": "a6115a69",
        "outputId": "ce206f75-1add-4b73-f513-98df44f0c0e4"
      },
      "outputs": [
        {
          "data": {
            "text/plain": [
              "torchvision.datasets.mnist.MNIST"
            ]
          },
          "execution_count": 5,
          "metadata": {},
          "output_type": "execute_result"
        }
      ],
      "source": [
        "type(training_data)"
      ]
    },
    {
      "cell_type": "markdown",
      "id": "b008af4c",
      "metadata": {
        "id": "b008af4c"
      },
      "source": [
        "**Визуализация данных**"
      ]
    },
    {
      "cell_type": "code",
      "execution_count": 6,
      "id": "d6937d3e",
      "metadata": {
        "colab": {
          "base_uri": "https://localhost:8080/",
          "height": 675
        },
        "id": "d6937d3e",
        "outputId": "1401f364-7d5f-4b94-9a36-19cccf67267d"
      },
      "outputs": [
        {
          "data": {
            "image/png": "[encoded data removed]",
            "text/plain": [
              "<Figure size 800x800 with 9 Axes>"
            ]
          },
          "metadata": {},
          "output_type": "display_data"
        }
      ],
      "source": [
        "# Визуализируем рандомные сэмплы из MNIST:\n",
        "figure = plt.figure(figsize=(8, 8))\n",
        "cols, rows = 3, 3\n",
        "for i in range(1, cols * rows + 1):\n",
        "    sample_idx = torch.randint(len(training_data), size=(1,)).item()\n",
        "    img, label = training_data[sample_idx]\n",
        "    figure.add_subplot(rows, cols, i)\n",
        "    plt.title(label)\n",
        "    plt.axis(\"off\")\n",
        "    plt.imshow(img.squeeze(), cmap=\"gray\") # squeeze() - удаляем все измерения размером 1\n",
        "plt.show();\n"
      ]
    },
    {
      "cell_type": "code",
      "execution_count": 7,
      "id": "70317b22",
      "metadata": {
        "colab": {
          "base_uri": "https://localhost:8080/",
          "height": 445
        },
        "id": "70317b22",
        "outputId": "c9f8a1d2-1dce-491d-a5fa-2745fde8e4b1"
      },
      "outputs": [
        {
          "name": "stdout",
          "output_type": "stream",
          "text": [
            "figure: (torch.Size([1, 28, 28]), <class 'torch.Tensor'>)\n"
          ]
        },
        {
          "data": {
            "image/png": "[encoded data removed]",
            "text/plain": [
              "<Figure size 640x480 with 1 Axes>"
            ]
          },
          "metadata": {},
          "output_type": "display_data"
        }
      ],
      "source": [
        "img, label = training_data[0]\n",
        "print(f'figure: {img.shape, type(img)}')\n",
        "\n",
        "plt.title(label)\n",
        "plt.axis(\"off\")\n",
        "plt.imshow(img.squeeze(), cmap=\"gray\") # squeeze() - удаляем все измерения размером 1\n",
        "\n",
        "plt.show()"
      ]
    },
    {
      "cell_type": "markdown",
      "id": "e149f339",
      "metadata": {
        "id": "e149f339"
      },
      "source": [
        "**Итерирование через данные**"
      ]
    },
    {
      "cell_type": "code",
      "execution_count": 8,
      "id": "df199720",
      "metadata": {
        "colab": {
          "base_uri": "https://localhost:8080/"
        },
        "id": "df199720",
        "outputId": "61561f92-adc3-4a01-c1fc-dc95a7f4dbd1"
      },
      "outputs": [
        {
          "name": "stdout",
          "output_type": "stream",
          "text": [
            "Shape of X [N, C, H, W]: torch.Size([64, 1, 28, 28])\n",
            "Shape of y: torch.Size([64]) torch.int64\n",
            "Shape of X [N, C, H, W]: torch.Size([64, 1, 28, 28])\n",
            "Shape of y: torch.Size([64]) torch.int64\n",
            "Shape of X [N, C, H, W]: torch.Size([64, 1, 28, 28])\n",
            "Shape of y: torch.Size([64]) torch.int64\n",
            "Shape of X [N, C, H, W]: torch.Size([64, 1, 28, 28])\n",
            "Shape of y: torch.Size([64]) torch.int64\n",
            "Shape of X [N, C, H, W]: torch.Size([64, 1, 28, 28])\n",
            "Shape of y: torch.Size([64]) torch.int64\n",
            "Shape of X [N, C, H, W]: torch.Size([64, 1, 28, 28])\n",
            "Shape of y: torch.Size([64]) torch.int64\n",
            "Shape of X [N, C, H, W]: torch.Size([64, 1, 28, 28])\n",
            "Shape of y: torch.Size([64]) torch.int64\n",
            "Shape of X [N, C, H, W]: torch.Size([64, 1, 28, 28])\n",
            "Shape of y: torch.Size([64]) torch.int64\n",
            "Shape of X [N, C, H, W]: torch.Size([64, 1, 28, 28])\n",
            "Shape of y: torch.Size([64]) torch.int64\n",
            "Shape of X [N, C, H, W]: torch.Size([64, 1, 28, 28])\n",
            "Shape of y: torch.Size([64]) torch.int64\n",
            "Shape of X [N, C, H, W]: torch.Size([64, 1, 28, 28])\n",
            "Shape of y: torch.Size([64]) torch.int64\n",
            "Shape of X [N, C, H, W]: torch.Size([64, 1, 28, 28])\n",
            "Shape of y: torch.Size([64]) torch.int64\n",
            "Shape of X [N, C, H, W]: torch.Size([64, 1, 28, 28])\n",
            "Shape of y: torch.Size([64]) torch.int64\n",
            "Shape of X [N, C, H, W]: torch.Size([64, 1, 28, 28])\n",
            "Shape of y: torch.Size([64]) torch.int64\n",
            "Shape of X [N, C, H, W]: torch.Size([64, 1, 28, 28])\n",
            "Shape of y: torch.Size([64]) torch.int64\n",
            "Shape of X [N, C, H, W]: torch.Size([64, 1, 28, 28])\n",
            "Shape of y: torch.Size([64]) torch.int64\n",
            "Shape of X [N, C, H, W]: torch.Size([64, 1, 28, 28])\n",
            "Shape of y: torch.Size([64]) torch.int64\n",
            "Shape of X [N, C, H, W]: torch.Size([64, 1, 28, 28])\n",
            "Shape of y: torch.Size([64]) torch.int64\n",
            "Shape of X [N, C, H, W]: torch.Size([64, 1, 28, 28])\n",
            "Shape of y: torch.Size([64]) torch.int64\n",
            "Shape of X [N, C, H, W]: torch.Size([64, 1, 28, 28])\n",
            "Shape of y: torch.Size([64]) torch.int64\n",
            "Shape of X [N, C, H, W]: torch.Size([64, 1, 28, 28])\n",
            "Shape of y: torch.Size([64]) torch.int64\n",
            "Shape of X [N, C, H, W]: torch.Size([64, 1, 28, 28])\n",
            "Shape of y: torch.Size([64]) torch.int64\n",
            "Shape of X [N, C, H, W]: torch.Size([64, 1, 28, 28])\n",
            "Shape of y: torch.Size([64]) torch.int64\n",
            "Shape of X [N, C, H, W]: torch.Size([64, 1, 28, 28])\n",
            "Shape of y: torch.Size([64]) torch.int64\n",
            "Shape of X [N, C, H, W]: torch.Size([64, 1, 28, 28])\n",
            "Shape of y: torch.Size([64]) torch.int64\n",
            "Shape of X [N, C, H, W]: torch.Size([64, 1, 28, 28])\n",
            "Shape of y: torch.Size([64]) torch.int64\n",
            "Shape of X [N, C, H, W]: torch.Size([64, 1, 28, 28])\n",
            "Shape of y: torch.Size([64]) torch.int64\n",
            "Shape of X [N, C, H, W]: torch.Size([64, 1, 28, 28])\n",
            "Shape of y: torch.Size([64]) torch.int64\n",
            "Shape of X [N, C, H, W]: torch.Size([64, 1, 28, 28])\n",
            "Shape of y: torch.Size([64]) torch.int64\n",
            "Shape of X [N, C, H, W]: torch.Size([64, 1, 28, 28])\n",
            "Shape of y: torch.Size([64]) torch.int64\n",
            "Shape of X [N, C, H, W]: torch.Size([64, 1, 28, 28])\n",
            "Shape of y: torch.Size([64]) torch.int64\n",
            "Shape of X [N, C, H, W]: torch.Size([64, 1, 28, 28])\n",
            "Shape of y: torch.Size([64]) torch.int64\n",
            "Shape of X [N, C, H, W]: torch.Size([64, 1, 28, 28])\n",
            "Shape of y: torch.Size([64]) torch.int64\n",
            "Shape of X [N, C, H, W]: torch.Size([64, 1, 28, 28])\n",
            "Shape of y: torch.Size([64]) torch.int64\n",
            "Shape of X [N, C, H, W]: torch.Size([64, 1, 28, 28])\n",
            "Shape of y: torch.Size([64]) torch.int64\n",
            "Shape of X [N, C, H, W]: torch.Size([64, 1, 28, 28])\n",
            "Shape of y: torch.Size([64]) torch.int64\n",
            "Shape of X [N, C, H, W]: torch.Size([64, 1, 28, 28])\n",
            "Shape of y: torch.Size([64]) torch.int64\n",
            "Shape of X [N, C, H, W]: torch.Size([64, 1, 28, 28])\n",
            "Shape of y: torch.Size([64]) torch.int64\n",
            "Shape of X [N, C, H, W]: torch.Size([64, 1, 28, 28])\n",
            "Shape of y: torch.Size([64]) torch.int64\n",
            "Shape of X [N, C, H, W]: torch.Size([64, 1, 28, 28])\n",
            "Shape of y: torch.Size([64]) torch.int64\n",
            "Shape of X [N, C, H, W]: torch.Size([64, 1, 28, 28])\n",
            "Shape of y: torch.Size([64]) torch.int64\n",
            "Shape of X [N, C, H, W]: torch.Size([64, 1, 28, 28])\n",
            "Shape of y: torch.Size([64]) torch.int64\n",
            "Shape of X [N, C, H, W]: torch.Size([64, 1, 28, 28])\n",
            "Shape of y: torch.Size([64]) torch.int64\n",
            "Shape of X [N, C, H, W]: torch.Size([64, 1, 28, 28])\n",
            "Shape of y: torch.Size([64]) torch.int64\n",
            "Shape of X [N, C, H, W]: torch.Size([64, 1, 28, 28])\n",
            "Shape of y: torch.Size([64]) torch.int64\n",
            "Shape of X [N, C, H, W]: torch.Size([64, 1, 28, 28])\n",
            "Shape of y: torch.Size([64]) torch.int64\n",
            "Shape of X [N, C, H, W]: torch.Size([64, 1, 28, 28])\n",
            "Shape of y: torch.Size([64]) torch.int64\n",
            "Shape of X [N, C, H, W]: torch.Size([64, 1, 28, 28])\n",
            "Shape of y: torch.Size([64]) torch.int64\n",
            "Shape of X [N, C, H, W]: torch.Size([64, 1, 28, 28])\n",
            "Shape of y: torch.Size([64]) torch.int64\n",
            "Shape of X [N, C, H, W]: torch.Size([64, 1, 28, 28])\n",
            "Shape of y: torch.Size([64]) torch.int64\n",
            "Shape of X [N, C, H, W]: torch.Size([64, 1, 28, 28])\n",
            "Shape of y: torch.Size([64]) torch.int64\n",
            "Shape of X [N, C, H, W]: torch.Size([64, 1, 28, 28])\n",
            "Shape of y: torch.Size([64]) torch.int64\n",
            "Shape of X [N, C, H, W]: torch.Size([64, 1, 28, 28])\n",
            "Shape of y: torch.Size([64]) torch.int64\n",
            "Shape of X [N, C, H, W]: torch.Size([64, 1, 28, 28])\n",
            "Shape of y: torch.Size([64]) torch.int64\n",
            "Shape of X [N, C, H, W]: torch.Size([64, 1, 28, 28])\n",
            "Shape of y: torch.Size([64]) torch.int64\n",
            "Shape of X [N, C, H, W]: torch.Size([64, 1, 28, 28])\n",
            "Shape of y: torch.Size([64]) torch.int64\n",
            "Shape of X [N, C, H, W]: torch.Size([64, 1, 28, 28])\n",
            "Shape of y: torch.Size([64]) torch.int64\n",
            "Shape of X [N, C, H, W]: torch.Size([64, 1, 28, 28])\n",
            "Shape of y: torch.Size([64]) torch.int64\n",
            "Shape of X [N, C, H, W]: torch.Size([64, 1, 28, 28])\n",
            "Shape of y: torch.Size([64]) torch.int64\n",
            "Shape of X [N, C, H, W]: torch.Size([64, 1, 28, 28])\n",
            "Shape of y: torch.Size([64]) torch.int64\n",
            "Shape of X [N, C, H, W]: torch.Size([64, 1, 28, 28])\n",
            "Shape of y: torch.Size([64]) torch.int64\n",
            "Shape of X [N, C, H, W]: torch.Size([64, 1, 28, 28])\n",
            "Shape of y: torch.Size([64]) torch.int64\n",
            "Shape of X [N, C, H, W]: torch.Size([64, 1, 28, 28])\n",
            "Shape of y: torch.Size([64]) torch.int64\n",
            "Shape of X [N, C, H, W]: torch.Size([64, 1, 28, 28])\n",
            "Shape of y: torch.Size([64]) torch.int64\n",
            "Shape of X [N, C, H, W]: torch.Size([64, 1, 28, 28])\n",
            "Shape of y: torch.Size([64]) torch.int64\n",
            "Shape of X [N, C, H, W]: torch.Size([64, 1, 28, 28])\n",
            "Shape of y: torch.Size([64]) torch.int64\n",
            "Shape of X [N, C, H, W]: torch.Size([64, 1, 28, 28])\n",
            "Shape of y: torch.Size([64]) torch.int64\n",
            "Shape of X [N, C, H, W]: torch.Size([64, 1, 28, 28])\n",
            "Shape of y: torch.Size([64]) torch.int64\n",
            "Shape of X [N, C, H, W]: torch.Size([64, 1, 28, 28])\n",
            "Shape of y: torch.Size([64]) torch.int64\n",
            "Shape of X [N, C, H, W]: torch.Size([64, 1, 28, 28])\n",
            "Shape of y: torch.Size([64]) torch.int64\n",
            "Shape of X [N, C, H, W]: torch.Size([64, 1, 28, 28])\n",
            "Shape of y: torch.Size([64]) torch.int64\n",
            "Shape of X [N, C, H, W]: torch.Size([64, 1, 28, 28])\n",
            "Shape of y: torch.Size([64]) torch.int64\n",
            "Shape of X [N, C, H, W]: torch.Size([64, 1, 28, 28])\n",
            "Shape of y: torch.Size([64]) torch.int64\n",
            "Shape of X [N, C, H, W]: torch.Size([64, 1, 28, 28])\n",
            "Shape of y: torch.Size([64]) torch.int64\n",
            "Shape of X [N, C, H, W]: torch.Size([64, 1, 28, 28])\n",
            "Shape of y: torch.Size([64]) torch.int64\n",
            "Shape of X [N, C, H, W]: torch.Size([64, 1, 28, 28])\n",
            "Shape of y: torch.Size([64]) torch.int64\n",
            "Shape of X [N, C, H, W]: torch.Size([64, 1, 28, 28])\n",
            "Shape of y: torch.Size([64]) torch.int64\n",
            "Shape of X [N, C, H, W]: torch.Size([64, 1, 28, 28])\n",
            "Shape of y: torch.Size([64]) torch.int64\n",
            "Shape of X [N, C, H, W]: torch.Size([64, 1, 28, 28])\n",
            "Shape of y: torch.Size([64]) torch.int64\n",
            "Shape of X [N, C, H, W]: torch.Size([64, 1, 28, 28])\n",
            "Shape of y: torch.Size([64]) torch.int64\n",
            "Shape of X [N, C, H, W]: torch.Size([64, 1, 28, 28])\n",
            "Shape of y: torch.Size([64]) torch.int64\n",
            "Shape of X [N, C, H, W]: torch.Size([64, 1, 28, 28])\n",
            "Shape of y: torch.Size([64]) torch.int64\n",
            "Shape of X [N, C, H, W]: torch.Size([64, 1, 28, 28])\n",
            "Shape of y: torch.Size([64]) torch.int64\n",
            "Shape of X [N, C, H, W]: torch.Size([64, 1, 28, 28])\n",
            "Shape of y: torch.Size([64]) torch.int64\n",
            "Shape of X [N, C, H, W]: torch.Size([64, 1, 28, 28])\n",
            "Shape of y: torch.Size([64]) torch.int64\n",
            "Shape of X [N, C, H, W]: torch.Size([64, 1, 28, 28])\n",
            "Shape of y: torch.Size([64]) torch.int64\n",
            "Shape of X [N, C, H, W]: torch.Size([64, 1, 28, 28])\n",
            "Shape of y: torch.Size([64]) torch.int64\n",
            "Shape of X [N, C, H, W]: torch.Size([64, 1, 28, 28])\n",
            "Shape of y: torch.Size([64]) torch.int64\n",
            "Shape of X [N, C, H, W]: torch.Size([64, 1, 28, 28])\n",
            "Shape of y: torch.Size([64]) torch.int64\n",
            "Shape of X [N, C, H, W]: torch.Size([64, 1, 28, 28])\n",
            "Shape of y: torch.Size([64]) torch.int64\n",
            "Shape of X [N, C, H, W]: torch.Size([64, 1, 28, 28])\n",
            "Shape of y: torch.Size([64]) torch.int64\n",
            "Shape of X [N, C, H, W]: torch.Size([64, 1, 28, 28])\n",
            "Shape of y: torch.Size([64]) torch.int64\n",
            "Shape of X [N, C, H, W]: torch.Size([64, 1, 28, 28])\n",
            "Shape of y: torch.Size([64]) torch.int64\n",
            "Shape of X [N, C, H, W]: torch.Size([64, 1, 28, 28])\n",
            "Shape of y: torch.Size([64]) torch.int64\n",
            "Shape of X [N, C, H, W]: torch.Size([64, 1, 28, 28])\n",
            "Shape of y: torch.Size([64]) torch.int64\n",
            "Shape of X [N, C, H, W]: torch.Size([64, 1, 28, 28])\n",
            "Shape of y: torch.Size([64]) torch.int64\n",
            "Shape of X [N, C, H, W]: torch.Size([64, 1, 28, 28])\n",
            "Shape of y: torch.Size([64]) torch.int64\n",
            "Shape of X [N, C, H, W]: torch.Size([64, 1, 28, 28])\n",
            "Shape of y: torch.Size([64]) torch.int64\n",
            "Shape of X [N, C, H, W]: torch.Size([64, 1, 28, 28])\n",
            "Shape of y: torch.Size([64]) torch.int64\n",
            "Shape of X [N, C, H, W]: torch.Size([64, 1, 28, 28])\n",
            "Shape of y: torch.Size([64]) torch.int64\n",
            "Shape of X [N, C, H, W]: torch.Size([64, 1, 28, 28])\n",
            "Shape of y: torch.Size([64]) torch.int64\n",
            "Shape of X [N, C, H, W]: torch.Size([64, 1, 28, 28])\n",
            "Shape of y: torch.Size([64]) torch.int64\n",
            "Shape of X [N, C, H, W]: torch.Size([64, 1, 28, 28])\n",
            "Shape of y: torch.Size([64]) torch.int64\n",
            "Shape of X [N, C, H, W]: torch.Size([64, 1, 28, 28])\n",
            "Shape of y: torch.Size([64]) torch.int64\n",
            "Shape of X [N, C, H, W]: torch.Size([64, 1, 28, 28])\n",
            "Shape of y: torch.Size([64]) torch.int64\n",
            "Shape of X [N, C, H, W]: torch.Size([64, 1, 28, 28])\n",
            "Shape of y: torch.Size([64]) torch.int64\n",
            "Shape of X [N, C, H, W]: torch.Size([64, 1, 28, 28])\n",
            "Shape of y: torch.Size([64]) torch.int64\n",
            "Shape of X [N, C, H, W]: torch.Size([64, 1, 28, 28])\n",
            "Shape of y: torch.Size([64]) torch.int64\n",
            "Shape of X [N, C, H, W]: torch.Size([64, 1, 28, 28])\n",
            "Shape of y: torch.Size([64]) torch.int64\n",
            "Shape of X [N, C, H, W]: torch.Size([64, 1, 28, 28])\n",
            "Shape of y: torch.Size([64]) torch.int64\n",
            "Shape of X [N, C, H, W]: torch.Size([64, 1, 28, 28])\n",
            "Shape of y: torch.Size([64]) torch.int64\n",
            "Shape of X [N, C, H, W]: torch.Size([64, 1, 28, 28])\n",
            "Shape of y: torch.Size([64]) torch.int64\n",
            "Shape of X [N, C, H, W]: torch.Size([64, 1, 28, 28])\n",
            "Shape of y: torch.Size([64]) torch.int64\n",
            "Shape of X [N, C, H, W]: torch.Size([64, 1, 28, 28])\n",
            "Shape of y: torch.Size([64]) torch.int64\n",
            "Shape of X [N, C, H, W]: torch.Size([64, 1, 28, 28])\n",
            "Shape of y: torch.Size([64]) torch.int64\n",
            "Shape of X [N, C, H, W]: torch.Size([64, 1, 28, 28])\n",
            "Shape of y: torch.Size([64]) torch.int64\n",
            "Shape of X [N, C, H, W]: torch.Size([64, 1, 28, 28])\n",
            "Shape of y: torch.Size([64]) torch.int64\n",
            "Shape of X [N, C, H, W]: torch.Size([64, 1, 28, 28])\n",
            "Shape of y: torch.Size([64]) torch.int64\n",
            "Shape of X [N, C, H, W]: torch.Size([64, 1, 28, 28])\n",
            "Shape of y: torch.Size([64]) torch.int64\n",
            "Shape of X [N, C, H, W]: torch.Size([64, 1, 28, 28])\n",
            "Shape of y: torch.Size([64]) torch.int64\n",
            "Shape of X [N, C, H, W]: torch.Size([64, 1, 28, 28])\n",
            "Shape of y: torch.Size([64]) torch.int64\n",
            "Shape of X [N, C, H, W]: torch.Size([64, 1, 28, 28])\n",
            "Shape of y: torch.Size([64]) torch.int64\n",
            "Shape of X [N, C, H, W]: torch.Size([64, 1, 28, 28])\n",
            "Shape of y: torch.Size([64]) torch.int64\n",
            "Shape of X [N, C, H, W]: torch.Size([64, 1, 28, 28])\n",
            "Shape of y: torch.Size([64]) torch.int64\n",
            "Shape of X [N, C, H, W]: torch.Size([64, 1, 28, 28])\n",
            "Shape of y: torch.Size([64]) torch.int64\n",
            "Shape of X [N, C, H, W]: torch.Size([64, 1, 28, 28])\n",
            "Shape of y: torch.Size([64]) torch.int64\n",
            "Shape of X [N, C, H, W]: torch.Size([64, 1, 28, 28])\n",
            "Shape of y: torch.Size([64]) torch.int64\n",
            "Shape of X [N, C, H, W]: torch.Size([64, 1, 28, 28])\n",
            "Shape of y: torch.Size([64]) torch.int64\n",
            "Shape of X [N, C, H, W]: torch.Size([64, 1, 28, 28])\n",
            "Shape of y: torch.Size([64]) torch.int64\n",
            "Shape of X [N, C, H, W]: torch.Size([64, 1, 28, 28])\n",
            "Shape of y: torch.Size([64]) torch.int64\n",
            "Shape of X [N, C, H, W]: torch.Size([64, 1, 28, 28])\n",
            "Shape of y: torch.Size([64]) torch.int64\n",
            "Shape of X [N, C, H, W]: torch.Size([64, 1, 28, 28])\n",
            "Shape of y: torch.Size([64]) torch.int64\n",
            "Shape of X [N, C, H, W]: torch.Size([64, 1, 28, 28])\n",
            "Shape of y: torch.Size([64]) torch.int64\n",
            "Shape of X [N, C, H, W]: torch.Size([64, 1, 28, 28])\n",
            "Shape of y: torch.Size([64]) torch.int64\n",
            "Shape of X [N, C, H, W]: torch.Size([64, 1, 28, 28])\n",
            "Shape of y: torch.Size([64]) torch.int64\n",
            "Shape of X [N, C, H, W]: torch.Size([64, 1, 28, 28])\n",
            "Shape of y: torch.Size([64]) torch.int64\n",
            "Shape of X [N, C, H, W]: torch.Size([64, 1, 28, 28])\n",
            "Shape of y: torch.Size([64]) torch.int64\n",
            "Shape of X [N, C, H, W]: torch.Size([64, 1, 28, 28])\n",
            "Shape of y: torch.Size([64]) torch.int64\n",
            "Shape of X [N, C, H, W]: torch.Size([64, 1, 28, 28])\n",
            "Shape of y: torch.Size([64]) torch.int64\n",
            "Shape of X [N, C, H, W]: torch.Size([64, 1, 28, 28])\n",
            "Shape of y: torch.Size([64]) torch.int64\n",
            "Shape of X [N, C, H, W]: torch.Size([64, 1, 28, 28])\n",
            "Shape of y: torch.Size([64]) torch.int64\n",
            "Shape of X [N, C, H, W]: torch.Size([64, 1, 28, 28])\n",
            "Shape of y: torch.Size([64]) torch.int64\n",
            "Shape of X [N, C, H, W]: torch.Size([64, 1, 28, 28])\n",
            "Shape of y: torch.Size([64]) torch.int64\n",
            "Shape of X [N, C, H, W]: torch.Size([64, 1, 28, 28])\n",
            "Shape of y: torch.Size([64]) torch.int64\n",
            "Shape of X [N, C, H, W]: torch.Size([64, 1, 28, 28])\n",
            "Shape of y: torch.Size([64]) torch.int64\n",
            "Shape of X [N, C, H, W]: torch.Size([64, 1, 28, 28])\n",
            "Shape of y: torch.Size([64]) torch.int64\n",
            "Shape of X [N, C, H, W]: torch.Size([64, 1, 28, 28])\n",
            "Shape of y: torch.Size([64]) torch.int64\n",
            "Shape of X [N, C, H, W]: torch.Size([64, 1, 28, 28])\n",
            "Shape of y: torch.Size([64]) torch.int64\n",
            "Shape of X [N, C, H, W]: torch.Size([64, 1, 28, 28])\n",
            "Shape of y: torch.Size([64]) torch.int64\n",
            "Shape of X [N, C, H, W]: torch.Size([64, 1, 28, 28])\n",
            "Shape of y: torch.Size([64]) torch.int64\n",
            "Shape of X [N, C, H, W]: torch.Size([64, 1, 28, 28])\n",
            "Shape of y: torch.Size([64]) torch.int64\n",
            "Shape of X [N, C, H, W]: torch.Size([64, 1, 28, 28])\n",
            "Shape of y: torch.Size([64]) torch.int64\n",
            "Shape of X [N, C, H, W]: torch.Size([64, 1, 28, 28])\n",
            "Shape of y: torch.Size([64]) torch.int64\n",
            "Shape of X [N, C, H, W]: torch.Size([64, 1, 28, 28])\n",
            "Shape of y: torch.Size([64]) torch.int64\n",
            "Shape of X [N, C, H, W]: torch.Size([64, 1, 28, 28])\n",
            "Shape of y: torch.Size([64]) torch.int64\n",
            "Shape of X [N, C, H, W]: torch.Size([64, 1, 28, 28])\n",
            "Shape of y: torch.Size([64]) torch.int64\n",
            "Shape of X [N, C, H, W]: torch.Size([16, 1, 28, 28])\n",
            "Shape of y: torch.Size([16]) torch.int64\n"
          ]
        }
      ],
      "source": [
        "batch_size = 64\n",
        "\n",
        "# Создаем data loaders:\n",
        "train_dataloader = DataLoader(training_data, batch_size=batch_size)\n",
        "test_dataloader = DataLoader(test_data, batch_size=batch_size)\n",
        "\n",
        "for X, y in test_dataloader:\n",
        "    print(f\"Shape of X [N, C, H, W]: {X.shape}\")\n",
        "    print(f\"Shape of y: {y.shape} {y.dtype}\")"
      ]
    },
    {
      "cell_type": "markdown",
      "id": "c3c50bc2",
      "metadata": {
        "id": "c3c50bc2"
      },
      "source": [
        "## 2 Создание модели\n",
        "<img src=\"images/nn_picture.png\">\n",
        "\n",
        "#### Слои\n",
        "[**Flatten**](https://pytorch.org/docs/stable/generated/torch.nn.Flatten.html) -  трансформирует 2D изображение (28x28 пикселей) в вектор (784 пикселей).\n",
        "\n",
        "[**Linear**](https://pytorch.org/docs/stable/generated/torch.nn.Linear.html) -  применяет линейную трансформацию к входным данным используя веса модели и смещение (bias):\n",
        "<img src=\"images/linear.png\">\n",
        "\n",
        "[**ReLU**](https://pytorch.org/docs/stable/generated/torch.nn.ReLU.html) -  функция активации, добавляет нейлинейность в модель, что позволяет модели аппроксимировать нейлинейные функции:\n",
        "<img src=\"images/relu.png\">\n",
        "\n",
        "[**Sequential**](https://pytorch.org/docs/stable/generated/torch.nn.Sequential.html) -  упорядоченный контейнер модулей нейронной сети, предназначенный для быстрого создания сетей с последовательной архитектурой. Данные будут проходить слои модели в том порядке, в котором они описаны.\n",
        "\n",
        "[**Softmax**](https://pytorch.org/docs/stable/generated/torch.nn.Softmax.html) -  это обобщение логистической функции на несколько измерений, используется для нормализации выходных данных сети (в диапазон значений [0,1], которые в сумме дают 1):\n",
        "<img src=\"images/softmax.png\">"
      ]
    },
    {
      "cell_type": "code",
      "execution_count": 9,
      "id": "afe4975f",
      "metadata": {
        "colab": {
          "base_uri": "https://localhost:8080/"
        },
        "id": "afe4975f",
        "outputId": "aeb75072-9d90-4bd6-8364-163e79128a9c"
      },
      "outputs": [
        {
          "name": "stdout",
          "output_type": "stream",
          "text": [
            "Using cpu device\n",
            "NeuralNetworkSeq(\n",
            "  (flatten): Flatten(start_dim=1, end_dim=-1)\n",
            "  (output): Linear(in_features=512, out_features=10, bias=True)\n",
            "  (linear_relu_stack): Sequential(\n",
            "    (0): Linear(in_features=784, out_features=512, bias=True)\n",
            "    (1): ReLU()\n",
            "    (2): Linear(in_features=512, out_features=512, bias=True)\n",
            "    (3): ReLU()\n",
            "    (4): Linear(in_features=512, out_features=10, bias=True)\n",
            "  )\n",
            ")\n"
          ]
        }
      ],
      "source": [
        "# Выбираем девайс (cpu или gpu), на котором будут происходит вычисления:\n",
        "device = \"cuda\" if torch.cuda.is_available() else \"cpu\"\n",
        "print(f\"Using {device} device\")\n",
        "\n",
        "# Определяем кастомную модель (Sequential):\n",
        "class NeuralNetworkSeq(nn.Module):\n",
        "    def __init__(self, input_size=(28,28,1), output_size=10):\n",
        "        super(NeuralNetworkSeq, self).__init__()\n",
        "        self.flatten = nn.Flatten()\n",
        "        self.output = nn.Linear(512, output_size)\n",
        "        self.linear_relu_stack = nn.Sequential(\n",
        "            nn.Linear(input_size[0]*input_size[1]*input_size[2], 512),\n",
        "            nn.ReLU(),\n",
        "            nn.Linear(512, 512),\n",
        "            nn.ReLU(),\n",
        "            self.output\n",
        "        )\n",
        "\n",
        "    def forward(self, x):\n",
        "        x = self.flatten(x)\n",
        "        logits = self.linear_relu_stack(x)\n",
        "        return logits\n",
        "\n",
        "model_seq = NeuralNetworkSeq().to(device)\n",
        "print(model_seq)"
      ]
    },
    {
      "cell_type": "code",
      "execution_count": 10,
      "id": "228db4da",
      "metadata": {
        "colab": {
          "base_uri": "https://localhost:8080/"
        },
        "id": "228db4da",
        "outputId": "e31308b3-79b0-45c3-c2f7-fd35c76ee932"
      },
      "outputs": [
        {
          "name": "stdout",
          "output_type": "stream",
          "text": [
            "NeuralNetwork(\n",
            "  (flatten): Flatten(start_dim=1, end_dim=-1)\n",
            "  (fc1): Linear(in_features=784, out_features=512, bias=True)\n",
            "  (fc2): Linear(in_features=512, out_features=512, bias=True)\n",
            "  (relu): ReLU(inplace=True)\n",
            "  (output): Linear(in_features=512, out_features=10, bias=True)\n",
            ")\n"
          ]
        }
      ],
      "source": [
        "# Определяем кастомную модель:\n",
        "class NeuralNetwork(nn.Module):\n",
        "    def __init__(self, input_size=(28,28,1), output_size=10):\n",
        "        super(NeuralNetwork, self).__init__()\n",
        "        self.flatten = nn.Flatten()\n",
        "        self.fc1 = nn.Linear(input_size[0]*input_size[1]*input_size[2], 512)\n",
        "        self.fc2 = nn.Linear(512, 512)\n",
        "        self.relu = nn.ReLU(inplace=True)\n",
        "        self.output = nn.Linear(512, output_size)\n",
        "\n",
        "    def forward(self, x):\n",
        "        x = self.flatten(x)\n",
        "        x = self.fc1(x)\n",
        "        x = self.relu(x)\n",
        "        x = self.fc2(x)\n",
        "        x = self.relu(x)\n",
        "        logits = self.output(x)\n",
        "\n",
        "        return logits\n",
        "\n",
        "\n",
        "model = NeuralNetwork().to(device)\n",
        "print(model)"
      ]
    },
    {
      "cell_type": "code",
      "execution_count": 11,
      "id": "81cfa234",
      "metadata": {
        "colab": {
          "base_uri": "https://localhost:8080/"
        },
        "id": "81cfa234",
        "outputId": "1c0e6bab-1dd3-4391-8348-b187c5b26c08"
      },
      "outputs": [
        {
          "name": "stdout",
          "output_type": "stream",
          "text": [
            "Имя: fc1.weight | Размер: torch.Size([512, 784]) | Значения : tensor([[ 0.0267,  0.0111,  0.0344,  ...,  0.0018, -0.0307,  0.0171],\n",
            "        [ 0.0134, -0.0160,  0.0271,  ..., -0.0352,  0.0060,  0.0129]],\n",
            "       grad_fn=<SliceBackward0>) \n",
            "\n",
            "Имя: fc1.bias | Размер: torch.Size([512]) | Значения : tensor([ 0.0302, -0.0353], grad_fn=<SliceBackward0>) \n",
            "\n",
            "Имя: fc2.weight | Размер: torch.Size([512, 512]) | Значения : tensor([[-0.0429,  0.0309, -0.0167,  ...,  0.0414, -0.0038,  0.0336],\n",
            "        [-0.0189, -0.0371, -0.0099,  ..., -0.0202,  0.0379, -0.0304]],\n",
            "       grad_fn=<SliceBackward0>) \n",
            "\n",
            "Имя: fc2.bias | Размер: torch.Size([512]) | Значения : tensor([ 0.0098, -0.0035], grad_fn=<SliceBackward0>) \n",
            "\n",
            "Имя: output.weight | Размер: torch.Size([10, 512]) | Значения : tensor([[ 0.0391, -0.0076,  0.0252,  ..., -0.0331, -0.0041, -0.0368],\n",
            "        [ 0.0161, -0.0402, -0.0173,  ...,  0.0356, -0.0420,  0.0004]],\n",
            "       grad_fn=<SliceBackward0>) \n",
            "\n",
            "Имя: output.bias | Размер: torch.Size([10]) | Значения : tensor([0.0162, 0.0336], grad_fn=<SliceBackward0>) \n",
            "\n"
          ]
        }
      ],
      "source": [
        "# Мы можем итерироваться через параметры (веса) нашей модели:\n",
        "for name, param in model.named_parameters():\n",
        "    print(f\"Имя: {name} | Размер: {param.size()} | Значения : {param[:2]} \\n\")"
      ]
    },
    {
      "cell_type": "code",
      "execution_count": 12,
      "id": "0df8d031",
      "metadata": {
        "colab": {
          "base_uri": "https://localhost:8080/",
          "height": 530
        },
        "id": "0df8d031",
        "outputId": "6cd8c11f-121d-4b9b-a6ac-f79064fd6302"
      },
      "outputs": [
        {
          "name": "stdout",
          "output_type": "stream",
          "text": [
            "Ненормализованные вероятности:\n",
            " tensor([[-0.0073,  0.0372,  0.0372,  0.0219, -0.0325,  0.0949,  0.0534,  0.0002,\n",
            "         -0.0705,  0.0465]])\n",
            "Нормализованные вероятности:\n",
            " tensor([[0.0974, 0.1018, 0.1018, 0.1003, 0.0950, 0.1079, 0.1035, 0.0981, 0.0914,\n",
            "         0.1028]])\n"
          ]
        },
        {
          "data": {
            "image/png": "[encoded data removed]",
            "text/plain": [
              "<Figure size 640x480 with 1 Axes>"
            ]
          },
          "metadata": {},
          "output_type": "display_data"
        }
      ],
      "source": [
        "# Пропустим рандомное изображение из MNIST через нашу еще необученную модель:\n",
        "sample_idx = torch.randint(len(training_data), size=(1,)).item()\n",
        "X, Y = training_data[sample_idx]\n",
        "X = X.to(device)\n",
        "\n",
        "# Forward pass:\n",
        "logits = model(X)\n",
        "pred_prob = nn.Softmax(dim=1)(logits)\n",
        "Y_pred = pred_prob.argmax(1)\n",
        "\n",
        "print('Ненормализованные вероятности:\\n', logits.cpu().detach())\n",
        "print('Нормализованные вероятности:\\n', pred_prob.cpu().detach())\n",
        "text = f\"Prediction: {Y_pred.item()} / Ground Truth: {Y}\"\n",
        "show(X.cpu().squeeze(), title=text)"
      ]
    },
    {
      "cell_type": "markdown",
      "id": "59d949c6",
      "metadata": {
        "id": "59d949c6"
      },
      "source": [
        "## 3 Обучение (оптимизация параметров модели)"
      ]
    },
    {
      "cell_type": "code",
      "execution_count": 13,
      "id": "e03192a9",
      "metadata": {
        "id": "e03192a9"
      },
      "outputs": [],
      "source": [
        "# Функция для обучения модели:\n",
        "def train(dataloader, model, loss_fn, optimizer):\n",
        "    size = len(dataloader.dataset)\n",
        "    model.train()\n",
        "    for batch, (X, y) in enumerate(dataloader):\n",
        "        X, y = X.to(device), y.to(device)\n",
        "\n",
        "        # Делаем предсказания:\n",
        "        pred = model(X)\n",
        "        loss = loss_fn(pred, y)\n",
        "\n",
        "        # Backpropagation:\n",
        "        optimizer.zero_grad()\n",
        "        loss.backward()\n",
        "        optimizer.step()\n",
        "\n",
        "        if batch % 100 == 0:\n",
        "            loss, current = loss.item(), batch * len(X)\n",
        "            print(f\"loss: {loss:>7f}  [{current:>5d}/{size:>5d}]\")\n",
        "\n",
        "\n",
        "# Функция для тестирования обученной модели:\n",
        "def test(dataloader, model, loss_fn, verbose=True, iterations=None):\n",
        "    size = len(dataloader.dataset)\n",
        "    num_batches = len(dataloader)\n",
        "    model.eval()\n",
        "    test_loss, correct = 0, 0\n",
        "\n",
        "    with torch.no_grad():\n",
        "        for i, (X, y) in enumerate(dataloader):\n",
        "            X, y = X.to(device), y.to(device)\n",
        "            pred = model(X)\n",
        "            test_loss += loss_fn(pred, y).item()\n",
        "            correct += (pred.argmax(1) == y).type(torch.float).sum().item()\n",
        "            if iterations is not None and i >= iterations:\n",
        "                break\n",
        "\n",
        "    test_loss /= num_batches\n",
        "    correct /= size\n",
        "    if verbose:\n",
        "        print(f\"Test Error: \\n Accuracy: {(100*correct):>0.1f}%, Avg loss: {test_loss:>8f} \\n\")"
      ]
    },
    {
      "cell_type": "markdown",
      "id": "bf780f05",
      "metadata": {
        "id": "bf780f05"
      },
      "source": [
        "### Функции потерь / Loss Functions\n",
        "\n",
        "[**MSELoss**](https://pytorch.org/docs/stable/generated/torch.nn.MSELoss.html#torch.nn.MSELoss) -  Mean Square Error / Squared L2 (среднеквадратичная ошибка / квадратичная L2 норма:\n",
        "<img src=\"images/mse.png\">\n",
        "\n",
        "[**CrossEntropyLoss**](https://pytorch.org/docs/stable/generated/torch.nn.CrossEntropyLoss.html#torch.nn.CrossEntropyLoss) -  Перекрестная энтропия, комбинирует Softmax и Negative Log Likelihood:\n",
        "<img src=\"images/crossentropy.png\">\n",
        "\n",
        "### Оптимайзеры / Optimizers\n",
        "[**SGD**](https://pytorch.org/docs/stable/generated/torch.optim.SGD.html?highlight=sgd#torch.optim.SGD) -  Стохастический градиентный спуск, принимает аргументы:\n",
        "- параметры модели,\n",
        "- learning rate (скорость обучения),\n",
        "- momentum (импульс),\n",
        "- weight_decay (распад весов, помогает регуляризировать модель, тем самым предотвращая переобучения).\n",
        "\n",
        "[**Adam**](https://pytorch.org/docs/stable/generated/torch.optim.Adam.html?highlight=adam#torch.optim.Adam) -  Оптимизационный алгоритм Адама:\n",
        "- параметры модели,\n",
        "- learning rate (скорость обучения),\n",
        "- betas,\n",
        "- weight_decay."
      ]
    },
    {
      "cell_type": "code",
      "execution_count": 14,
      "id": "72de6473",
      "metadata": {
        "colab": {
          "base_uri": "https://localhost:8080/"
        },
        "id": "72de6473",
        "outputId": "a3766749-e82e-4971-988b-c579b22985dd",
        "scrolled": true
      },
      "outputs": [
        {
          "name": "stdout",
          "output_type": "stream",
          "text": [
            "Epoch 1\n",
            "-------------------------------\n",
            "loss: 2.314137  [    0/60000]\n",
            "loss: 0.285540  [ 6400/60000]\n",
            "loss: 0.201380  [12800/60000]\n",
            "loss: 0.270838  [19200/60000]\n",
            "loss: 0.153154  [25600/60000]\n",
            "loss: 0.330610  [32000/60000]\n",
            "loss: 0.135243  [38400/60000]\n",
            "loss: 0.230702  [44800/60000]\n",
            "loss: 0.297435  [51200/60000]\n",
            "loss: 0.184547  [57600/60000]\n",
            "Test Error: \n",
            " Accuracy: 95.7%, Avg loss: 0.139320 \n",
            "\n",
            "Epoch 2\n",
            "-------------------------------\n",
            "loss: 0.070362  [    0/60000]\n",
            "loss: 0.084236  [ 6400/60000]\n",
            "loss: 0.114440  [12800/60000]\n",
            "loss: 0.106387  [19200/60000]\n",
            "loss: 0.035627  [25600/60000]\n",
            "loss: 0.093691  [32000/60000]\n",
            "loss: 0.066900  [38400/60000]\n",
            "loss: 0.117005  [44800/60000]\n",
            "loss: 0.090579  [51200/60000]\n",
            "loss: 0.131664  [57600/60000]\n",
            "Test Error: \n",
            " Accuracy: 97.0%, Avg loss: 0.093786 \n",
            "\n",
            "Epoch 3\n",
            "-------------------------------\n",
            "loss: 0.052846  [    0/60000]\n",
            "loss: 0.056772  [ 6400/60000]\n",
            "loss: 0.056578  [12800/60000]\n",
            "loss: 0.099457  [19200/60000]\n",
            "loss: 0.034931  [25600/60000]\n",
            "loss: 0.063557  [32000/60000]\n",
            "loss: 0.035736  [38400/60000]\n",
            "loss: 0.059876  [44800/60000]\n",
            "loss: 0.127220  [51200/60000]\n",
            "loss: 0.053334  [57600/60000]\n",
            "Test Error: \n",
            " Accuracy: 97.0%, Avg loss: 0.105611 \n",
            "\n",
            "Epoch 4\n",
            "-------------------------------\n",
            "loss: 0.025091  [    0/60000]\n",
            "loss: 0.031775  [ 6400/60000]\n",
            "loss: 0.055526  [12800/60000]\n",
            "loss: 0.163087  [19200/60000]\n",
            "loss: 0.037046  [25600/60000]\n",
            "loss: 0.052489  [32000/60000]\n",
            "loss: 0.032041  [38400/60000]\n",
            "loss: 0.065339  [44800/60000]\n",
            "loss: 0.073425  [51200/60000]\n",
            "loss: 0.023600  [57600/60000]\n",
            "Test Error: \n",
            " Accuracy: 97.4%, Avg loss: 0.102528 \n",
            "\n",
            "Epoch 5\n",
            "-------------------------------\n",
            "loss: 0.015418  [    0/60000]\n",
            "loss: 0.138357  [ 6400/60000]\n",
            "loss: 0.043764  [12800/60000]\n",
            "loss: 0.004691  [19200/60000]\n",
            "loss: 0.031441  [25600/60000]\n",
            "loss: 0.043931  [32000/60000]\n",
            "loss: 0.053004  [38400/60000]\n",
            "loss: 0.087433  [44800/60000]\n",
            "loss: 0.028884  [51200/60000]\n",
            "loss: 0.022494  [57600/60000]\n",
            "Test Error: \n",
            " Accuracy: 96.7%, Avg loss: 0.133034 \n",
            "\n",
            "Done!\n"
          ]
        }
      ],
      "source": [
        "# Инициализируем модель и data loaders:\n",
        "model = NeuralNetwork().to(device)\n",
        "train_dataloader = DataLoader(training_data, batch_size=batch_size)\n",
        "test_dataloader = DataLoader(test_data, batch_size=batch_size)\n",
        "\n",
        "# Задаем гипперпараметры:\n",
        "epochs = 5\n",
        "batch_size = 64\n",
        "lr = 1e-3\n",
        "\n",
        "# Выбираем функцию потерь и оптимайзер:\n",
        "loss_fn = nn.CrossEntropyLoss()\n",
        "# optimizer = torch.optim.SGD(model.parameters(), lr=lr, momentum=0.9)\n",
        "optimizer = torch.optim.Adam(model.parameters(), lr=lr, betas=(0.9, 0.999))\n",
        "\n",
        "# Обучаем 5 эпох (эпоха - один проход по всем данным):\n",
        "for t in range(epochs):\n",
        "    print(f\"Epoch {t+1}\\n-------------------------------\")\n",
        "    train(train_dataloader, model, loss_fn, optimizer)\n",
        "    test(test_dataloader, model, loss_fn)\n",
        "print(\"Done!\")"
      ]
    },
    {
      "cell_type": "markdown",
      "id": "3d379249",
      "metadata": {
        "id": "3d379249"
      },
      "source": [
        "## 4 Сохранение и загрузка обученной модели"
      ]
    },
    {
      "cell_type": "code",
      "execution_count": 15,
      "id": "f03aa4de",
      "metadata": {
        "colab": {
          "base_uri": "https://localhost:8080/"
        },
        "id": "f03aa4de",
        "outputId": "467db985-55d1-4a15-f665-a7b3d9b1fe8e"
      },
      "outputs": [
        {
          "name": "stdout",
          "output_type": "stream",
          "text": [
            "Saved PyTorch Model State to ./checkpoints/mnist_checkpoint.pth\n"
          ]
        }
      ],
      "source": [
        "!mkdir checkpoints\n",
        "\n",
        "# Сохраняем checkpoint:\n",
        "checkpoint_path = './checkpoints/mnist_checkpoint.pth'\n",
        "torch.save(model.state_dict(), checkpoint_path)\n",
        "print(\"Saved PyTorch Model State to {}\".format(checkpoint_path))"
      ]
    },
    {
      "cell_type": "code",
      "execution_count": 16,
      "id": "4f45b062",
      "metadata": {
        "colab": {
          "base_uri": "https://localhost:8080/"
        },
        "id": "4f45b062",
        "outputId": "4e2c2013-b3dd-45d2-9e0b-c9a4ac59acca"
      },
      "outputs": [
        {
          "data": {
            "text/plain": [
              "<All keys matched successfully>"
            ]
          },
          "execution_count": 16,
          "metadata": {},
          "output_type": "execute_result"
        }
      ],
      "source": [
        "# Создаем модель (объект класса NeuralNetwork) и загружаем параметры из checkpoint:\n",
        "model = NeuralNetwork()\n",
        "model.load_state_dict(torch.load(checkpoint_path))\n",
        "# print (model.state_dict())"
      ]
    },
    {
      "cell_type": "code",
      "execution_count": 17,
      "id": "95548961",
      "metadata": {
        "colab": {
          "base_uri": "https://localhost:8080/"
        },
        "id": "95548961",
        "outputId": "90e9396c-e29c-4062-f63c-eed37911606d"
      },
      "outputs": [
        {
          "name": "stdout",
          "output_type": "stream",
          "text": [
            "Test Error: \n",
            " Accuracy: 96.7%, Avg loss: 0.133034 \n",
            "\n"
          ]
        }
      ],
      "source": [
        "# Протестируем загруженную модель (чтобы убедиться что все правильно загрузилось):\n",
        "model = model.to(device)\n",
        "loss_fn = nn.CrossEntropyLoss()\n",
        "test(test_dataloader, model, loss_fn)"
      ]
    },
    {
      "cell_type": "markdown",
      "id": "b9cc2a0c",
      "metadata": {
        "id": "b9cc2a0c"
      },
      "source": [
        "## 5 Делаем предсказания (inference)"
      ]
    },
    {
      "cell_type": "code",
      "execution_count": 18,
      "id": "7dfec66e",
      "metadata": {
        "colab": {
          "base_uri": "https://localhost:8080/",
          "height": 428
        },
        "id": "7dfec66e",
        "outputId": "87d759fd-e604-4c8e-feaf-4d6ee9886d4a"
      },
      "outputs": [
        {
          "data": {
            "image/png": "[encoded data removed]",
            "text/plain": [
              "<Figure size 640x480 with 1 Axes>"
            ]
          },
          "metadata": {},
          "output_type": "display_data"
        }
      ],
      "source": [
        "# Опишем название классов:\n",
        "classes = ['0','1','2','3','4','5','6','7','8','9']\n",
        "\n",
        "sample_idx = torch.randint(len(test_data), size=(1,)).item()\n",
        "x, y = test_data[sample_idx][0], test_data[sample_idx][1]\n",
        "x = x.to(device)\n",
        "\n",
        "model.eval()\n",
        "with torch.no_grad():\n",
        "    pred = model(x)\n",
        "    predicted, actual = classes[pred[0].argmax(0)], classes[y]\n",
        "    text = f\"Prediction: {predicted} / Ground Truth: {actual}\"\n",
        "    show(x.cpu().squeeze(), title=text)"
      ]
    },
    {
      "cell_type": "markdown",
      "id": "9083731c",
      "metadata": {
        "id": "9083731c"
      },
      "source": [
        "## 6 Обучаем сверточную сеть\n",
        "LeNet архитектура:\n",
        "<img src=\"images/cnn.jpg\">"
      ]
    },
    {
      "cell_type": "code",
      "execution_count": 19,
      "id": "af8fa7ba",
      "metadata": {
        "colab": {
          "base_uri": "https://localhost:8080/"
        },
        "id": "af8fa7ba",
        "outputId": "11ef1615-e0c5-45c5-8215-41c3c274d3e7"
      },
      "outputs": [
        {
          "name": "stdout",
          "output_type": "stream",
          "text": [
            "CNN(\n",
            "  (conv1): Conv2d(1, 32, kernel_size=(3, 3), stride=(1, 1))\n",
            "  (conv2): Conv2d(32, 64, kernel_size=(3, 3), stride=(1, 1))\n",
            "  (dropout1): Dropout(p=0.25, inplace=False)\n",
            "  (dropout2): Dropout(p=0.5, inplace=False)\n",
            "  (fc1): Linear(in_features=9216, out_features=128, bias=True)\n",
            "  (fc2): Linear(in_features=128, out_features=10, bias=True)\n",
            "  (bn1): BatchNorm2d(32, eps=1e-05, momentum=0.1, affine=True, track_running_stats=True)\n",
            "  (bn2): BatchNorm2d(64, eps=1e-05, momentum=0.1, affine=True, track_running_stats=True)\n",
            ")\n"
          ]
        }
      ],
      "source": [
        "import torch.nn.functional as F     # imports activation functions\n",
        "\n",
        "class CNN(nn.Module):\n",
        "    def __init__(self, out_size, use_bn=True):\n",
        "        super(CNN, self).__init__()\n",
        "        # Describe layers:\n",
        "        self.conv1 = nn.Conv2d(1, 32, 3, 1)     # 1: in channels, 32: out channels, 3: kernel size, 1: stride\n",
        "        self.conv2 = nn.Conv2d(32, 64, 3, 1)\n",
        "        self.dropout1 = nn.Dropout(0.25)\n",
        "        self.dropout2 = nn.Dropout(0.5)\n",
        "        self.fc1 = nn.Linear(9216, 128)         # 9216: in channels, 128: out channels\n",
        "        self.fc2 = nn.Linear(128, out_size)\n",
        "        self.use_bn = use_bn\n",
        "        if use_bn:\n",
        "            self.bn1 = nn.BatchNorm2d(32)\n",
        "            self.bn2 = nn.BatchNorm2d(64)\n",
        "\n",
        "    # Forward propagation:\n",
        "    def forward(self, x):\n",
        "        '''\n",
        "        x reprenets our input data\n",
        "        '''\n",
        "        # Pass data through conv's layers:\n",
        "        x = self.conv1(x)\n",
        "        if self.use_bn:\n",
        "            x = self.bn1(x)\n",
        "        x = F.relu(x)\n",
        "\n",
        "        x = self.conv2(x)\n",
        "        if self.use_bn:\n",
        "            x = self.bn2(x)\n",
        "        x = F.relu(x)\n",
        "\n",
        "        # Run max pooling over x:\n",
        "        x = F.max_pool2d(x, 2)\n",
        "        x = self.dropout1(x)\n",
        "\n",
        "        # Flatten x with start_dim=1\n",
        "        x = torch.flatten(x, 1)\n",
        "\n",
        "        # Pass data through FC's layers:\n",
        "        x = self.fc1(x)\n",
        "        x = F.relu(x)\n",
        "        x = self.dropout2(x)\n",
        "        x = self.fc2(x)\n",
        "\n",
        "        return x\n",
        "\n",
        "cnn_model = CNN(10).to(device)\n",
        "print(cnn_model)"
      ]
    },
    {
      "cell_type": "code",
      "execution_count": 20,
      "id": "351b41fb",
      "metadata": {
        "colab": {
          "base_uri": "https://localhost:8080/"
        },
        "id": "351b41fb",
        "outputId": "40853c8b-d922-4c34-f4d2-a0c37a855101",
        "scrolled": true
      },
      "outputs": [
        {
          "name": "stdout",
          "output_type": "stream",
          "text": [
            "Epoch 1\n",
            "-------------------------------\n",
            "loss: 2.368638  [    0/60000]\n",
            "loss: 0.352690  [ 6400/60000]\n",
            "loss: 0.285595  [12800/60000]\n",
            "loss: 0.238358  [19200/60000]\n",
            "loss: 0.211498  [25600/60000]\n",
            "loss: 0.194376  [32000/60000]\n",
            "loss: 0.163192  [38400/60000]\n",
            "loss: 0.253891  [44800/60000]\n",
            "loss: 0.208936  [51200/60000]\n",
            "loss: 0.236021  [57600/60000]\n",
            "Test Error: \n",
            " Accuracy: 98.0%, Avg loss: 0.059242 \n",
            "\n",
            "Epoch 2\n",
            "-------------------------------\n",
            "loss: 0.029933  [    0/60000]\n",
            "loss: 0.287297  [ 6400/60000]\n",
            "loss: 0.105537  [12800/60000]\n",
            "loss: 0.100092  [19200/60000]\n",
            "loss: 0.108543  [25600/60000]\n",
            "loss: 0.268039  [32000/60000]\n",
            "loss: 0.098055  [38400/60000]\n",
            "loss: 0.186412  [44800/60000]\n",
            "loss: 0.201593  [51200/60000]\n",
            "loss: 0.101832  [57600/60000]\n",
            "Test Error: \n",
            " Accuracy: 98.6%, Avg loss: 0.045785 \n",
            "\n",
            "Epoch 3\n",
            "-------------------------------\n",
            "loss: 0.073531  [    0/60000]\n",
            "loss: 0.163212  [ 6400/60000]\n",
            "loss: 0.056093  [12800/60000]\n",
            "loss: 0.146281  [19200/60000]\n",
            "loss: 0.023748  [25600/60000]\n",
            "loss: 0.153074  [32000/60000]\n",
            "loss: 0.110144  [38400/60000]\n",
            "loss: 0.116883  [44800/60000]\n",
            "loss: 0.134989  [51200/60000]\n",
            "loss: 0.128522  [57600/60000]\n",
            "Test Error: \n",
            " Accuracy: 98.8%, Avg loss: 0.037269 \n",
            "\n",
            "Epoch 4\n",
            "-------------------------------\n",
            "loss: 0.103076  [    0/60000]\n",
            "loss: 0.181277  [ 6400/60000]\n",
            "loss: 0.081579  [12800/60000]\n",
            "loss: 0.121712  [19200/60000]\n",
            "loss: 0.042297  [25600/60000]\n",
            "loss: 0.096362  [32000/60000]\n",
            "loss: 0.143085  [38400/60000]\n",
            "loss: 0.173997  [44800/60000]\n",
            "loss: 0.242320  [51200/60000]\n",
            "loss: 0.044882  [57600/60000]\n",
            "Test Error: \n",
            " Accuracy: 98.9%, Avg loss: 0.031554 \n",
            "\n",
            "Epoch 5\n",
            "-------------------------------\n",
            "loss: 0.036578  [    0/60000]\n",
            "loss: 0.104755  [ 6400/60000]\n",
            "loss: 0.095442  [12800/60000]\n",
            "loss: 0.019255  [19200/60000]\n",
            "loss: 0.136748  [25600/60000]\n",
            "loss: 0.059001  [32000/60000]\n",
            "loss: 0.090569  [38400/60000]\n",
            "loss: 0.046081  [44800/60000]\n",
            "loss: 0.130175  [51200/60000]\n",
            "loss: 0.133313  [57600/60000]\n",
            "Test Error: \n",
            " Accuracy: 98.8%, Avg loss: 0.044112 \n",
            "\n",
            "Done!\n"
          ]
        }
      ],
      "source": [
        "# Инициализируем модель и data loaders:\n",
        "cnn_model = CNN(10).to(device)\n",
        "train_dataloader = DataLoader(training_data, batch_size=batch_size)\n",
        "test_dataloader = DataLoader(test_data, batch_size=batch_size)\n",
        "\n",
        "# Задаем гипперпараметры:\n",
        "epochs = 5\n",
        "batch_size = 64\n",
        "lr = 1e-3\n",
        "\n",
        "# Выбираем функцию потерь и оптимайзер:\n",
        "loss_fn = nn.CrossEntropyLoss()\n",
        "# optimizer = torch.optim.SGD(cnn_model.parameters(), lr=lr, momentum=0.9)\n",
        "optimizer = torch.optim.Adam(cnn_model.parameters(), lr=lr, betas=(0.9, 0.999))\n",
        "\n",
        "# Обучаем 5 эпох:\n",
        "for t in range(epochs):\n",
        "    print(f\"Epoch {t+1}\\n-------------------------------\")\n",
        "    train(train_dataloader, cnn_model, loss_fn, optimizer)\n",
        "    test(test_dataloader, cnn_model, loss_fn)\n",
        "print(\"Done!\")"
      ]
    },
    {
      "cell_type": "code",
      "execution_count": 21,
      "id": "442dcdd0",
      "metadata": {
        "colab": {
          "base_uri": "https://localhost:8080/"
        },
        "id": "442dcdd0",
        "outputId": "5dfea3c3-4e41-411b-e7ab-4ade573a9a07"
      },
      "outputs": [
        {
          "name": "stdout",
          "output_type": "stream",
          "text": [
            "Test Error: \n",
            " Accuracy: 98.8%, Avg loss: 0.044112 \n",
            "\n"
          ]
        }
      ],
      "source": [
        "# Протестируем обученную модель:\n",
        "cnn_model = cnn_model.to(device)\n",
        "loss_fn = nn.CrossEntropyLoss()\n",
        "test(test_dataloader, cnn_model, loss_fn)"
      ]
    },
    {
      "cell_type": "code",
      "execution_count": 22,
      "id": "983391cd",
      "metadata": {
        "colab": {
          "base_uri": "https://localhost:8080/",
          "height": 428
        },
        "id": "983391cd",
        "outputId": "15a4d5c9-c11b-4d5a-c112-4d828749df89"
      },
      "outputs": [
        {
          "data": {
            "image/png": "[encoded data removed]",
            "text/plain": [
              "<Figure size 640x480 with 1 Axes>"
            ]
          },
          "metadata": {},
          "output_type": "display_data"
        }
      ],
      "source": [
        "# Опишем название классов:\n",
        "classes = ['0','1','2','3','4','5','6','7','8','9']\n",
        "\n",
        "# Делаем предсказание:\n",
        "sample_idx = 444\n",
        "x, y = test_data[sample_idx][0], test_data[sample_idx][1]\n",
        "x = x.to(device)\n",
        "\n",
        "cnn_model.eval()\n",
        "with torch.no_grad():\n",
        "    pred = cnn_model(x.unsqueeze(0))\n",
        "    predicted, actual = classes[pred[0].argmax(0)], classes[y]\n",
        "    text = f\"Prediction: {predicted} / Ground Truth: {actual}\"\n",
        "    show(x.cpu().squeeze(), title=text)"
      ]
    }
  ],
  "metadata": {
    "accelerator": "GPU",
    "colab": {
      "gpuType": "T4",
      "provenance": []
    },
    "kernelspec": {
      "display_name": "Python 3",
      "name": "python3"
    },
    "language_info": {
      "codemirror_mode": {
        "name": "ipython",
        "version": 3
      },
      "file_extension": ".py",
      "mimetype": "text/x-python",
      "name": "python",
      "nbconvert_exporter": "python",
      "pygments_lexer": "ipython3",
      "version": "undefined.undefined.undefined"
    }
  },
  "nbformat": 4,
  "nbformat_minor": 5
}
