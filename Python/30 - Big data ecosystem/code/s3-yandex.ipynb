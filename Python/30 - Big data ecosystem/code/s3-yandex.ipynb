{
 "cells": [
  {
   "cell_type": "code",
   "execution_count": 1,
   "metadata": {},
   "outputs": [
    {
     "name": "stdout",
     "output_type": "stream",
     "text": [
      "mladv-dvc\n",
      "otus-mlops-dvc\n",
      "otus-mlops-source-data\n",
      "otus-ml-pro\n"
     ]
    }
   ],
   "source": [
    "import boto3\n",
    "\n",
    "session = boto3.session.Session()\n",
    "s3 = session.client(\n",
    "    service_name='s3',\n",
    "    endpoint_url='https://storage.yandexcloud.net'\n",
    ")\n",
    "\n",
    "for bucket in s3.list_buckets()['Buckets']:\n",
    "    print(bucket['Name'])"
   ]
  },
  {
   "cell_type": "code",
   "execution_count": 2,
   "metadata": {},
   "outputs": [
    {
     "data": {
      "text/plain": [
       "{'ResponseMetadata': {'RequestId': '22644acdff8904e6',\n",
       "  'HostId': '',\n",
       "  'HTTPStatusCode': 200,\n",
       "  'HTTPHeaders': {'server': 'nginx',\n",
       "   'date': 'Wed, 25 Sep 2024 10:23:42 GMT',\n",
       "   'content-type': 'application/xml; charset=UTF-8',\n",
       "   'content-length': '594',\n",
       "   'connection': 'keep-alive',\n",
       "   'keep-alive': 'timeout=60',\n",
       "   'x-amz-request-id': '22644acdff8904e6'},\n",
       "  'RetryAttempts': 0},\n",
       " 'Buckets': [{'Name': 'mladv-dvc',\n",
       "   'CreationDate': datetime.datetime(2024, 9, 17, 7, 27, 4, 187000, tzinfo=tzutc())},\n",
       "  {'Name': 'otus-mlops-dvc',\n",
       "   'CreationDate': datetime.datetime(2024, 5, 10, 15, 58, 27, 641000, tzinfo=tzutc())},\n",
       "  {'Name': 'otus-mlops-source-data',\n",
       "   'CreationDate': datetime.datetime(2024, 5, 5, 12, 5, 54, 161000, tzinfo=tzutc())},\n",
       "  {'Name': 'otus-ml-pro',\n",
       "   'CreationDate': datetime.datetime(2024, 5, 23, 15, 59, 42, 120000, tzinfo=tzutc())}],\n",
       " 'Owner': {'DisplayName': '', 'ID': ''}}"
      ]
     },
     "execution_count": 2,
     "metadata": {},
     "output_type": "execute_result"
    }
   ],
   "source": [
    "s3.list_buckets()"
   ]
  },
  {
   "cell_type": "code",
   "execution_count": 3,
   "metadata": {},
   "outputs": [],
   "source": [
    "bucket_name = \"otus-ml-pro\""
   ]
  },
  {
   "cell_type": "code",
   "execution_count": 4,
   "metadata": {},
   "outputs": [
    {
     "data": {
      "text/plain": [
       "{'ResponseMetadata': {'RequestId': '145a3404748ffa1f',\n",
       "  'HostId': '',\n",
       "  'HTTPStatusCode': 200,\n",
       "  'HTTPHeaders': {'server': 'nginx',\n",
       "   'date': 'Wed, 25 Sep 2024 10:23:45 GMT',\n",
       "   'content-type': 'application/xml; charset=UTF-8',\n",
       "   'content-length': '600',\n",
       "   'connection': 'keep-alive',\n",
       "   'keep-alive': 'timeout=60',\n",
       "   'x-amz-request-id': '145a3404748ffa1f'},\n",
       "  'RetryAttempts': 0},\n",
       " 'IsTruncated': False,\n",
       " 'Marker': '',\n",
       " 'Contents': [{'Key': 'understanding_cloud_organization.zip',\n",
       "   'LastModified': datetime.datetime(2024, 5, 23, 17, 55, 0, 467000, tzinfo=tzutc()),\n",
       "   'ETag': '\"8682febc293114e1253e39c5a378f17c-396\"',\n",
       "   'Size': 6226318112,\n",
       "   'StorageClass': 'STANDARD',\n",
       "   'Owner': {'DisplayName': 'ajeh4347fnh9ujh3csmg',\n",
       "    'ID': 'ajeh4347fnh9ujh3csmg'}}],\n",
       " 'Name': 'otus-ml-pro',\n",
       " 'Prefix': '',\n",
       " 'MaxKeys': 1000,\n",
       " 'EncodingType': 'url'}"
      ]
     },
     "execution_count": 4,
     "metadata": {},
     "output_type": "execute_result"
    }
   ],
   "source": [
    "s3.list_objects(Bucket=bucket_name)"
   ]
  },
  {
   "cell_type": "code",
   "execution_count": 5,
   "metadata": {},
   "outputs": [
    {
     "name": "stdout",
     "output_type": "stream",
     "text": [
      "understanding_cloud_organization.zip\n"
     ]
    }
   ],
   "source": [
    "# Getting a list of objects in the bucket\n",
    "for key in s3.list_objects(Bucket=bucket_name)['Contents']:\n",
    "    print(key['Key'])"
   ]
  },
  {
   "cell_type": "code",
   "execution_count": 6,
   "metadata": {},
   "outputs": [],
   "source": [
    "# The file to upload, change this path if needed\n",
    "source_file = \"click.ipynb\"\n",
    "\n",
    "# The destination filename on the Storage server\n",
    "destination_file = \"click.ipynb\""
   ]
  },
  {
   "cell_type": "code",
   "execution_count": 7,
   "metadata": {},
   "outputs": [],
   "source": [
    "## From a file\n",
    "s3.upload_file(source_file, bucket_name, destination_file)"
   ]
  },
  {
   "cell_type": "code",
   "execution_count": 8,
   "metadata": {},
   "outputs": [
    {
     "name": "stdout",
     "output_type": "stream",
     "text": [
      "click.ipynb\n",
      "understanding_cloud_organization.zip\n"
     ]
    }
   ],
   "source": [
    "# Getting a list of objects in the bucket\n",
    "for key in s3.list_objects(Bucket=bucket_name)['Contents']:\n",
    "    print(key['Key'])"
   ]
  },
  {
   "cell_type": "code",
   "execution_count": 9,
   "metadata": {},
   "outputs": [],
   "source": [
    "# Deleting multiple objects\n",
    "forDeletion = [{'Key': destination_file}]\n",
    "response = s3.delete_objects(Bucket=bucket_name, Delete={'Objects': forDeletion})"
   ]
  },
  {
   "cell_type": "code",
   "execution_count": 10,
   "metadata": {},
   "outputs": [
    {
     "name": "stdout",
     "output_type": "stream",
     "text": [
      "understanding_cloud_organization.zip\n"
     ]
    }
   ],
   "source": [
    "# Getting a list of objects in the bucket\n",
    "for key in s3.list_objects(Bucket=bucket_name)['Contents']:\n",
    "    print(key['Key'])"
   ]
  },
  {
   "cell_type": "code",
   "execution_count": null,
   "metadata": {},
   "outputs": [],
   "source": []
  }
 ],
 "metadata": {
  "kernelspec": {
   "display_name": "Python 3",
   "language": "python",
   "name": "python3"
  },
  "language_info": {
   "codemirror_mode": {
    "name": "ipython",
    "version": 3
   },
   "file_extension": ".py",
   "mimetype": "text/x-python",
   "name": "python",
   "nbconvert_exporter": "python",
   "pygments_lexer": "ipython3",
   "version": "3.10.12"
  }
 },
 "nbformat": 4,
 "nbformat_minor": 2
}
