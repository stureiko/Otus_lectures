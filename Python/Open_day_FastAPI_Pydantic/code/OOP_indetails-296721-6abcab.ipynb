{
 "cells": [
  {
   "cell_type": "markdown",
   "id": "b67e045e-acad-4088-b351-372a21d45fc2",
   "metadata": {},
   "source": [
    "1. Дескрипторы в Python — это мощный инструмент для управления доступом\n",
    "к атрибутам объекта. Дескриптором называется любой объект, который реализует\n",
    "один или несколько методов протокола дескрипторов: __get__, __set__ и __delete__.\n",
    "Протокол дескрипторов\n",
    "Протокол дескрипторов состоит из трех методов:\n",
    "1.\t__get__(self, instance, owner): используется для получения значения атрибута.\n",
    "2.\t__set__(self, instance, value): используется для установки значения атрибута.\n",
    "3.\t__delete__(self, instance): используется для удаления атрибута.\n"
   ]
  },
  {
   "cell_type": "markdown",
   "id": "3f0afc22-5d22-4e39-abf9-7e1e8049fa47",
   "metadata": {},
   "source": [
    "пример"
   ]
  },
  {
   "cell_type": "code",
   "execution_count": null,
   "id": "66a9a2ca-6aac-4d80-b93c-ab3169c0fa4d",
   "metadata": {},
   "outputs": [],
   "source": [
    "class Descriptor:\n",
    "    def __get__(self, instance, owner):\n",
    "        return instance.value\n",
    "    def __set__(self, instance, value):\n",
    "        if isinstance(value, int) and value >0:\n",
    "            instance.value = value\n",
    "        else:\n",
    "            raise ValueError(\"some error\")\n",
    "    def __delete__(self, instance):\n",
    "        del instance.value\n",
    "\n",
    "obj = MyClass(10)\n",
    "print(obj.value) # Вызывается __get__\n",
    "obj.value=20 # Вызывается __set__\n",
    "print(obj.value)  # Вызывается __get__\n",
    "del obj.value  # Вызывается __delete__"
   ]
  },
  {
   "cell_type": "markdown",
   "id": "22a1959f-f127-41cf-9423-5aff81c65edd",
   "metadata": {},
   "source": [
    "Виды дескрипторов\n",
    "1.\tНестандартные (Non-data) дескрипторы: реализуют только метод __get__.\n",
    "2.\tСтандартные (Data) дескрипторы: реализуют методы __get__ и __set__ или __delete__.\n"
   ]
  },
  {
   "cell_type": "markdown",
   "id": "5458c45b-7d91-41ae-84a1-a2e945263dcd",
   "metadata": {},
   "source": [
    "пример"
   ]
  },
  {
   "cell_type": "code",
   "execution_count": null,
   "id": "0a50218b-958d-44b5-8562-3cc5e930d6bf",
   "metadata": {},
   "outputs": [],
   "source": [
    "class NonDataDescriptor:\n",
    "    def __get__(self, instance, owner):\n",
    "        return 'real value from attr'\n",
    "class MyClass:\n",
    "    attr = NonDataDescriptor()\n",
    "obj  = MyClass()\n",
    "print(obj.attr) # real value from attr\n",
    "obj.attr = 'new value'\n",
    "print(obj.attr) # new value\n",
    "\n",
    "class DataDescriptor:\n",
    "    def __get__(self, instance, owner):\n",
    "        return instance.value\n",
    "\n",
    "    def __set__(self, instance, value):\n",
    "        instance.value = value\n",
    "class MyClass:\n",
    "    attr = DataDescriptor()\n",
    "obj = MyClass()\n",
    "obj.attr = 10\n",
    "print(obj.attr) #10\n"
   ]
  },
  {
   "cell_type": "code",
   "execution_count": null,
   "id": "bace80b8-1ced-4318-9bfb-9232e0b3fa8b",
   "metadata": {},
   "outputs": [],
   "source": [
    "property как пример дескриптора"
   ]
  },
  {
   "cell_type": "code",
   "execution_count": null,
   "id": "0240ca62-ac04-4cf5-8ad4-c9d5d1b3ad62",
   "metadata": {},
   "outputs": [],
   "source": [
    "class MyClass:\n",
    "    def __init__(self, value):\n",
    "        self.value = value\n",
    "    @property\n",
    "    def value(self):\n",
    "        return self.value\n",
    "\n",
    "    @property.setter\n",
    "    def value(self, new_value)::\n",
    "    if new_value >0:\n",
    "        self.value = new_value\n",
    "    else:\n",
    "        raise ValueError(\"sdg\")\n",
    "obj  = MyClass(10)\n",
    "print(obj.value) #10\n",
    "obj.value = 20\n",
    "print(obj.value) #20\n",
    "#obj.value=-10 #valueerror\n"
   ]
  },
  {
   "cell_type": "markdown",
   "id": "a4e52f8e-f59c-412f-995e-45ae06fc2468",
   "metadata": {},
   "source": [
    "Использование дескрипторов\n",
    "Дескрипторы полезны для управления доступом к атрибутам и обеспечивают гибкость при их реализации. Они часто используются в реализации property, ORM, валидации данных и в других сценариях, где требуется контроль над доступом к атрибутам.\n"
   ]
  },
  {
   "cell_type": "markdown",
   "id": "d52ae5e5-0d1e-47b2-a69c-d5c258098699",
   "metadata": {},
   "source": [
    "Категории магических методов\n",
    "1.\tИнициализация и финализация объектов\n",
    "2.\tПреобразование типов\n",
    "3.\tОперации над объектами\n",
    "4.\tКонтейнерные методы\n",
    "5.\tКонтекстные менеджеры\n",
    "6.\tДругие методы\n"
   ]
  },
  {
   "cell_type": "markdown",
   "id": "9dba0dde-6105-4094-ab89-836710abf353",
   "metadata": {},
   "source": [
    "1. Инициализация и финализация объектов"
   ]
  },
  {
   "cell_type": "markdown",
   "id": "a74d0e01-ff27-4302-a5eb-95154aa10964",
   "metadata": {},
   "source": [
    "пример"
   ]
  },
  {
   "cell_type": "code",
   "execution_count": null,
   "id": "f30f9045-afae-40a7-9ccf-c10fca497f28",
   "metadata": {},
   "outputs": [],
   "source": [
    "class MyClass:\n",
    "    def __init__(self, value):\n",
    "        self.value = value\n",
    "        print(\"object already createcd\")\n",
    "    def __del__(self):\n",
    "        print(\"object will be deleted\")"
   ]
  },
  {
   "cell_type": "markdown",
   "id": "81118ee6-a9f5-4d8d-8158-9ffd8c311c01",
   "metadata": {},
   "source": [
    "2. Преобразование типов"
   ]
  },
  {
   "cell_type": "markdown",
   "id": "09f32d51-a7e0-4fdd-8214-39912c0cb99a",
   "metadata": {},
   "source": [
    "пример"
   ]
  },
  {
   "cell_type": "code",
   "execution_count": null,
   "id": "7fc22767-898b-4979-a2eb-0530602f9750",
   "metadata": {},
   "outputs": [],
   "source": [
    "class MyClass:\n",
    "    def __init__(self, value):\n",
    "        self.value = value\n",
    "    def __str__(self):\n",
    "        return f'{self.value}'\n",
    "    def __repr__(self):\n",
    "        return \"object are doing .....\"\n",
    "    def __len__(self):\n",
    "        return self.value\n",
    "    def __bool__(self):\n",
    "        return self.value >0"
   ]
  },
  {
   "cell_type": "markdown",
   "id": "a3af7523-9a32-4ce8-bf61-b73fa4b774f5",
   "metadata": {},
   "source": [
    "3. Операции над объектами"
   ]
  },
  {
   "cell_type": "markdown",
   "id": "7124c939-dbb2-44a8-a954-bf0d38029f45",
   "metadata": {},
   "source": [
    "пример"
   ]
  },
  {
   "cell_type": "code",
   "execution_count": null,
   "id": "a7c4274a-ea4e-4231-a79d-bf4afe8ee867",
   "metadata": {},
   "outputs": [],
   "source": [
    "class Vector:\n",
    "    def __init__(self,x,y):\n",
    "        self.x = x\n",
    "        self.y = y\n",
    "    def __add__(self,other):\n",
    "        return Vector(self.x + other.x, self.y+other.y)\n",
    "\n",
    "    def __eq__(self, other):\n",
    "        return self.x == other.x and self.y==other.y\n",
    "        "
   ]
  },
  {
   "cell_type": "markdown",
   "id": "bce970ee-41d3-48a4-8edf-160a6d1b3172",
   "metadata": {},
   "source": [
    "4. Контейнерные методы"
   ]
  },
  {
   "cell_type": "markdown",
   "id": "ec7e6417-2f3b-4a5c-8087-051f0d0d0b8d",
   "metadata": {},
   "source": [
    "пример"
   ]
  },
  {
   "cell_type": "code",
   "execution_count": null,
   "id": "67956710-c59a-43ad-9254-0641ceb9cb5b",
   "metadata": {},
   "outputs": [],
   "source": [
    "class CustomList:\n",
    "    def __init__(self):\n",
    "        self.data={}\n",
    "    def __getitem__(self, key):\n",
    "        return self.data[key]\n",
    "    def __setitem__(self, key, value):\n",
    "        self.data[key] = value\n",
    "    def __delitem__(self, key):\n",
    "        del self.data[key]\n",
    "    def __iter__(self, key):\n",
    "        return iter(self.data.values())\n",
    "custom_list = CustomList()\n",
    "custom_list[0] = 's'\n",
    "del custom_list[0]\n",
    "for item in cutom_list:\n",
    "    ...\n",
    "        "
   ]
  },
  {
   "cell_type": "markdown",
   "id": "ad9c629b-cf84-4553-b344-763802cfbfa5",
   "metadata": {},
   "source": [
    "5. Контекстные менеджеры"
   ]
  },
  {
   "cell_type": "markdown",
   "id": "80a82fa8-f0c4-42f3-8fdf-8f420b069e5e",
   "metadata": {},
   "source": [
    "пример"
   ]
  },
  {
   "cell_type": "code",
   "execution_count": null,
   "id": "697a5fe0-a11e-4758-9cfe-87189c7d07a3",
   "metadata": {},
   "outputs": [],
   "source": [
    "class MyContext:\n",
    "    def __enter__(self):\n",
    "        print(\"1111\")\n",
    "        return self\n",
    "    def __exit__(self, exc_type, exc_value, traceback):\n",
    "        print(\"2222\")\n",
    "with MyContext():\n",
    "    print('inside context')\n",
    "        "
   ]
  },
  {
   "cell_type": "markdown",
   "id": "f0c3404f-5ee9-442f-a07e-4f556416c189",
   "metadata": {},
   "source": [
    "6. Другие методы"
   ]
  },
  {
   "cell_type": "markdown",
   "id": "1823a18b-41e6-43a5-b1a0-cb669f6fbb82",
   "metadata": {},
   "source": [
    "пример"
   ]
  },
  {
   "cell_type": "code",
   "execution_count": null,
   "id": "8c75398b-988e-4ab1-aef3-7ea14550311f",
   "metadata": {},
   "outputs": [],
   "source": [
    "class CallableClass:\n",
    "    def __call__(self, *args, **kwargs):\n",
    "        print(\"xxxxxxx\")\n",
    "obj  = CallableClass()\n",
    "obj(1,2,3,key='value')\n",
    "        "
   ]
  },
  {
   "cell_type": "markdown",
   "id": "e19bb73d-0f53-4959-b696-814c163d0b21",
   "metadata": {},
   "source": [
    "Использование модуля abc\n",
    "Для создания абстрактного базового класса и абстрактных методов, следует \n",
    "использовать модуль abc и его метакласс ABCMeta, а также декоратор @abstractmethod.\n"
   ]
  },
  {
   "cell_type": "markdown",
   "id": "c3152d0a-4209-4926-84f2-2653312b331a",
   "metadata": {},
   "source": [
    "пример"
   ]
  },
  {
   "cell_type": "code",
   "execution_count": 1,
   "id": "5d9db311-311b-4802-ad0a-a1570a9966c2",
   "metadata": {},
   "outputs": [],
   "source": [
    "from abc import ABC, abstractmethod\n",
    "class Shape(ABC):\n",
    "    @abstractmethod\n",
    "    def area(self):\n",
    "        pass\n",
    "    @abstractmethod\n",
    "    def perimeter(self):\n",
    "        pass\n",
    "class Rectangle(Shape):\n",
    "    def __init__(self, w, h):\n",
    "        self.w=w\n",
    "        self.h=h\n",
    "    def area(self):\n",
    "        ...\n",
    "    def perimeter(self):\n",
    "        ..."
   ]
  },
  {
   "cell_type": "markdown",
   "id": "aef2923a-975e-4669-81b4-71225e52f2b6",
   "metadata": {},
   "source": [
    "Ключевые моменты:\n",
    "1.\tНаследование от ABC: Ваш абстрактный класс должен наследовать от ABC.\n",
    "2.\tДекоратор @abstractmethod: Методы, которые должны быть реализованы в \n",
    "производных классах, помечаются этим декоратором.\n",
    "3.\tНельзя инстанцировать ABC: Попытка создать экземпляр абстрактного класса\n",
    "приведет к ошибке TypeError.\n"
   ]
  },
  {
   "cell_type": "markdown",
   "id": "e8161f79-0970-4a5f-854e-dc97791d0093",
   "metadata": {},
   "source": [
    "Полезные функции и декораторы в abc\n",
    "Декораторы\n",
    "•\t@abstractmethod: Помечает метод как абстрактный.\n",
    "•\t@abstractproperty: Помечает свойство как абстрактное \n",
    "(в Python 3.3 и выше это уже не требуется, используйте @property с @abstractmethod).\n"
   ]
  },
  {
   "cell_type": "markdown",
   "id": "c107e988-a072-4907-b9ca-8d979c1e5e95",
   "metadata": {},
   "source": [
    "пример"
   ]
  },
  {
   "cell_type": "code",
   "execution_count": null,
   "id": "06ba1941-77ad-4ecb-aa51-ef199e1d2c0a",
   "metadata": {},
   "outputs": [],
   "source": [
    "from abc import ABC, abstractmethod\n",
    "class Animal(ABC):\n",
    "    @property\n",
    "    @abstractmethod\n",
    "    def sound(self):\n",
    "        pass\n",
    "class Dog(Animal):\n",
    "    @property\n",
    "    def sound(self):\n",
    "        return \"rrrr\"\n",
    "dog = Dog()\n",
    "print(dog.sound) # rrrr"
   ]
  },
  {
   "cell_type": "markdown",
   "id": "d89c65ed-0694-4965-a58e-2178ea3013a7",
   "metadata": {},
   "source": [
    "Основы метаклассов\n",
    "1. Метаклассы в Python\n"
   ]
  },
  {
   "cell_type": "markdown",
   "id": "5e66490d-f530-45da-b410-1ba768004374",
   "metadata": {},
   "source": [
    "пример"
   ]
  },
  {
   "cell_type": "code",
   "execution_count": null,
   "id": "a6c0abe8-5146-4be3-a173-cdc5c7ce1028",
   "metadata": {},
   "outputs": [],
   "source": [
    "class MyClass:\n",
    "    pass\n",
    "\n",
    "print(type(MyClass)) # <class 'type'>"
   ]
  },
  {
   "cell_type": "markdown",
   "id": "08314ff4-7a51-4ef2-af12-56add8119a57",
   "metadata": {},
   "source": [
    "2. Создание собственного метакласса"
   ]
  },
  {
   "cell_type": "markdown",
   "id": "131cc494-e187-4c41-8425-e7ce92da995d",
   "metadata": {},
   "source": [
    "пример"
   ]
  },
  {
   "cell_type": "code",
   "execution_count": null,
   "id": "ef4f075e-c4e0-4d3a-af0b-d29d10493280",
   "metadata": {},
   "outputs": [],
   "source": [
    "class MyMeta(type):\n",
    "    def __new__(cls, name, bases, dct):\n",
    "        print(f'creating class')\n",
    "        return super().__new__(clas, name, bases, dct)\n",
    "\n",
    "class MyClass(metaclass=MyMeta):\n",
    "    pass\n",
    "obj = MyClass"
   ]
  },
  {
   "cell_type": "markdown",
   "id": "22d6f08a-826b-4293-8f8e-bd1cc33601d7",
   "metadata": {},
   "source": [
    "Методы метаклассов\n",
    "Основные методы, которые можно переопределить в метаклассе:\n",
    "•\t__new__(cls, name, bases, dct): вызывается перед созданием класса. \n",
    "Используется для создания и возвращения нового класса.\n",
    "•\t__init__(cls, name, bases, dct): вызывается после создания класса. \n",
    "Используется для инициализации класса.\n"
   ]
  },
  {
   "cell_type": "markdown",
   "id": "2e02b1ef-ef6f-47b0-b2a4-2ee9302c903d",
   "metadata": {},
   "source": [
    "пример"
   ]
  },
  {
   "cell_type": "code",
   "execution_count": null,
   "id": "f95c3fed-722e-4523-9efe-d415a7f39bee",
   "metadata": {},
   "outputs": [],
   "source": [
    "class MyMeta(type):\n",
    "    def __new__(cls, name, dct):\n",
    "        print(f'creating class {name}')\n",
    "        dct['test'] = lambda self: f'ddd'\n",
    "        return super().__new__(cls, name, dct)\n",
    "    def __init__(cls, name, dct):\n",
    "        super().__init__(name, dct)\n",
    "\n",
    "class MyClass(metaclass=MyMeta):\n",
    "    pass\n",
    "obj = MyClass()\n",
    "print(obj.test())\n",
    "\n",
    "        "
   ]
  },
  {
   "cell_type": "markdown",
   "id": "9bc23794-eacb-4b10-b557-6c9a0852b16e",
   "metadata": {},
   "source": [
    "Примеры использования метаклассов\n",
    "1. Валидация атрибутов класса\n"
   ]
  },
  {
   "cell_type": "markdown",
   "id": "bd568238-fdef-426a-8cad-d18ee90cf98a",
   "metadata": {},
   "source": [
    "пример"
   ]
  },
  {
   "cell_type": "code",
   "execution_count": null,
   "id": "21d31e27-aad1-4527-8aee-c0e2cdecc331",
   "metadata": {},
   "outputs": [],
   "source": [
    "class ValidatingMeta(type):\n",
    "    def __new__(cls, name, bases, dct):\n",
    "        if  'attr1' not in dct:\n",
    "            raise TypeError(\"....\")\n",
    "        return super().__new__(cls, name, bases, dct)\n",
    "class MyClass(metaclass = ValidatingMeta):\n",
    "    attr1 = \"bla blla bla\"\n",
    "    \n"
   ]
  },
  {
   "cell_type": "code",
   "execution_count": null,
   "id": "e46a3305-865e-4b08-9ac2-699934a46e7b",
   "metadata": {},
   "outputs": [],
   "source": [
    "2. Регистрация классов"
   ]
  },
  {
   "cell_type": "code",
   "execution_count": null,
   "id": "a39db441-9ac1-477c-93ee-f69eff1a5c18",
   "metadata": {},
   "outputs": [],
   "source": [
    "пример"
   ]
  },
  {
   "cell_type": "code",
   "execution_count": null,
   "id": "af11cad7-7189-4790-92e1-30029e854952",
   "metadata": {},
   "outputs": [],
   "source": [
    "registry = {}\n",
    "class RegisteringMeta(type):\n",
    "    def __new__(cls, name, bases, dct):\n",
    "        new_class = super().__new__(cls, name, bases, dct)\n",
    "        registry[name] = new_class\n",
    "        return new_class\n",
    "class Base(metaclass=RegisteringMeta):\n",
    "    pass\n",
    "\n",
    "class MyClass(Base):\n",
    "    pass\n",
    "print(registry) # "
   ]
  }
 ],
 "metadata": {
  "kernelspec": {
   "display_name": "Python 3 (ipykernel)",
   "language": "python",
   "name": "python3"
  },
  "language_info": {
   "codemirror_mode": {
    "name": "ipython",
    "version": 3
   },
   "file_extension": ".py",
   "mimetype": "text/x-python",
   "name": "python",
   "nbconvert_exporter": "python",
   "pygments_lexer": "ipython3",
   "version": "3.11.7"
  }
 },
 "nbformat": 4,
 "nbformat_minor": 5
}
