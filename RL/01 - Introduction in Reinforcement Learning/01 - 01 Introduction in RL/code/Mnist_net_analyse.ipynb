{
 "cells": [
  {
   "cell_type": "markdown",
   "metadata": {},
   "source": [
    "# Распознавание рукописных цифр из набора MNIST"
   ]
  },
  {
   "cell_type": "markdown",
   "metadata": {},
   "source": [
    "Создадим сеть с использованием фреймворка PyTorch и обучим ее распознавать рукописные цифры. Это поможет вам понять как создается простая полносвязная сеть и как ее обучить."
   ]
  },
  {
   "cell_type": "markdown",
   "metadata": {},
   "source": [
    "## Imports"
   ]
  },
  {
   "cell_type": "code",
   "execution_count": 1,
   "metadata": {},
   "outputs": [],
   "source": [
    "import torch\n",
    "import torch.nn as nn\n",
    "import torch.optim as optim\n",
    "from torch.utils.data import DataLoader, random_split\n",
    "from torchvision import datasets, transforms"
   ]
  },
  {
   "cell_type": "markdown",
   "metadata": {},
   "source": [
    "## Загрузка данных MNIST и создание DataLoader"
   ]
  },
  {
   "cell_type": "code",
   "execution_count": 2,
   "metadata": {},
   "outputs": [
    {
     "name": "stdout",
     "output_type": "stream",
     "text": [
      "Downloading http://yann.lecun.com/exdb/mnist/train-images-idx3-ubyte.gz\n",
      "Downloading http://yann.lecun.com/exdb/mnist/train-images-idx3-ubyte.gz to ./data/MNIST/raw/train-images-idx3-ubyte.gz\n"
     ]
    },
    {
     "name": "stderr",
     "output_type": "stream",
     "text": [
      "100%|██████████| 9912422/9912422 [00:06<00:00, 1558105.44it/s]\n"
     ]
    },
    {
     "name": "stdout",
     "output_type": "stream",
     "text": [
      "Extracting ./data/MNIST/raw/train-images-idx3-ubyte.gz to ./data/MNIST/raw\n",
      "\n",
      "Downloading http://yann.lecun.com/exdb/mnist/train-labels-idx1-ubyte.gz\n",
      "Downloading http://yann.lecun.com/exdb/mnist/train-labels-idx1-ubyte.gz to ./data/MNIST/raw/train-labels-idx1-ubyte.gz\n"
     ]
    },
    {
     "name": "stderr",
     "output_type": "stream",
     "text": [
      "100%|██████████| 28881/28881 [00:00<00:00, 1590709.29it/s]"
     ]
    },
    {
     "name": "stdout",
     "output_type": "stream",
     "text": [
      "Extracting ./data/MNIST/raw/train-labels-idx1-ubyte.gz to ./data/MNIST/raw\n",
      "\n",
      "Downloading http://yann.lecun.com/exdb/mnist/t10k-images-idx3-ubyte.gz\n"
     ]
    },
    {
     "name": "stderr",
     "output_type": "stream",
     "text": [
      "\n"
     ]
    },
    {
     "name": "stdout",
     "output_type": "stream",
     "text": [
      "Downloading http://yann.lecun.com/exdb/mnist/t10k-images-idx3-ubyte.gz to ./data/MNIST/raw/t10k-images-idx3-ubyte.gz\n"
     ]
    },
    {
     "name": "stderr",
     "output_type": "stream",
     "text": [
      "100%|██████████| 1648877/1648877 [00:01<00:00, 1518957.26it/s]\n"
     ]
    },
    {
     "name": "stdout",
     "output_type": "stream",
     "text": [
      "Extracting ./data/MNIST/raw/t10k-images-idx3-ubyte.gz to ./data/MNIST/raw\n",
      "\n",
      "Downloading http://yann.lecun.com/exdb/mnist/t10k-labels-idx1-ubyte.gz\n",
      "Downloading http://yann.lecun.com/exdb/mnist/t10k-labels-idx1-ubyte.gz to ./data/MNIST/raw/t10k-labels-idx1-ubyte.gz\n"
     ]
    },
    {
     "name": "stderr",
     "output_type": "stream",
     "text": [
      "100%|██████████| 4542/4542 [00:00<00:00, 6850244.07it/s]"
     ]
    },
    {
     "name": "stdout",
     "output_type": "stream",
     "text": [
      "Extracting ./data/MNIST/raw/t10k-labels-idx1-ubyte.gz to ./data/MNIST/raw\n",
      "\n"
     ]
    },
    {
     "name": "stderr",
     "output_type": "stream",
     "text": [
      "\n"
     ]
    }
   ],
   "source": [
    "# Задаем параметры\n",
    "batch_size = 256\n",
    "learning_rate = 0.001\n",
    "epochs = 10\n",
    "\n",
    "# Загружаем данные MNIST и создаем DataLoader\n",
    "transform = transforms.Compose(\n",
    "                [transforms.ToTensor(), \n",
    "                transforms.Normalize((0.1307,), (0.3081,))\n",
    "                ])\n",
    "dataset = datasets.MNIST(root='./data', train=True, transform=transform, download=True)\n",
    "train_size = int(0.8 * len(dataset))\n",
    "test_size = len(dataset) - train_size\n",
    "train_dataset, test_dataset = random_split(dataset, [train_size, test_size])\n",
    "\n",
    "train_loader = DataLoader(train_dataset, batch_size=batch_size, shuffle=True)\n",
    "test_loader = DataLoader(test_dataset, batch_size=batch_size, shuffle=False)\n",
    "\n"
   ]
  },
  {
   "cell_type": "code",
   "execution_count": 3,
   "metadata": {},
   "outputs": [],
   "source": [
    "# Определение простой полносвязной сети\n",
    "class SimpleNet(nn.Module):\n",
    "    def __init__(self):\n",
    "        super(SimpleNet, self).__init__()\n",
    "        self.flatten = nn.Flatten()\n",
    "        # Преобразование входного изображения в одномерный тензор. \n",
    "        # Применяет операцию Flatten к входу x, которая преобразует многомерный тензор в одномерный. \n",
    "        # В данном случае, это используется для преобразования входных изображений размером 28x28 пикселей в одномерный тензор.\n",
    "        self.fc1 = nn.Linear(28*28, 128)\n",
    "        # Первый полносвязный слой с 128 нейронами\n",
    "        self.relu = nn.ReLU()\n",
    "        # Функция активации ReLU\n",
    "        self.fc2 = nn.Linear(128, 10)\n",
    "        # Второй полносвязный слой с 10 нейронами для классификации цифр от 0 до 9\n",
    "\n",
    "    def forward(self, x):\n",
    "        x = self.flatten(x)\n",
    "        # Применение Flatten к входу\n",
    "        x = self.fc1(x)\n",
    "        # Проход через первый полносвязный слой\n",
    "        x = self.relu(x)\n",
    "        # Применение ReLU\n",
    "        x = self.fc2(x)\n",
    "        # Проход через второй полносвязный слой\n",
    "        return x"
   ]
  },
  {
   "cell_type": "code",
   "execution_count": 4,
   "metadata": {},
   "outputs": [],
   "source": [
    "# Инициализация модели, функции потерь и оптимизатора\n",
    "model = SimpleNet()\n",
    "# Создание экземпляра модели\n",
    "criterion = nn.CrossEntropyLoss()\n",
    "# Кросс-энтропийная функция потерь для задачи классификации\n",
    "optimizer = optim.Adam(model.parameters(), lr=0.001)\n",
    "# Оптимизатор Adam для обновления параметров модели"
   ]
  },
  {
   "cell_type": "code",
   "execution_count": 5,
   "metadata": {},
   "outputs": [
    {
     "name": "stdout",
     "output_type": "stream",
     "text": [
      "Epoch 1/10, Batch 0/188, Loss: 2.3421\n",
      "Epoch 1/10, Batch 100/188, Loss: 0.3988\n",
      "Epoch 2/10, Batch 0/188, Loss: 0.2269\n",
      "Epoch 2/10, Batch 100/188, Loss: 0.2010\n",
      "Epoch 3/10, Batch 0/188, Loss: 0.1013\n",
      "Epoch 3/10, Batch 100/188, Loss: 0.1495\n",
      "Epoch 4/10, Batch 0/188, Loss: 0.0828\n",
      "Epoch 4/10, Batch 100/188, Loss: 0.0755\n",
      "Epoch 5/10, Batch 0/188, Loss: 0.1323\n",
      "Epoch 5/10, Batch 100/188, Loss: 0.0563\n",
      "Epoch 6/10, Batch 0/188, Loss: 0.0841\n",
      "Epoch 6/10, Batch 100/188, Loss: 0.0777\n",
      "Epoch 7/10, Batch 0/188, Loss: 0.0488\n",
      "Epoch 7/10, Batch 100/188, Loss: 0.0626\n",
      "Epoch 8/10, Batch 0/188, Loss: 0.0341\n",
      "Epoch 8/10, Batch 100/188, Loss: 0.0962\n",
      "Epoch 9/10, Batch 0/188, Loss: 0.0446\n",
      "Epoch 9/10, Batch 100/188, Loss: 0.0440\n",
      "Epoch 10/10, Batch 0/188, Loss: 0.0368\n",
      "Epoch 10/10, Batch 100/188, Loss: 0.0602\n",
      "Training finished.\n"
     ]
    }
   ],
   "source": [
    "# Обучение модели\n",
    "for epoch in range(10):\n",
    "    # Цикл по эпохам\n",
    "    for batch_idx, (data, target) in enumerate(train_loader):\n",
    "        # Цикл по мини-пакетам внутри каждой эпохи\n",
    "        optimizer.zero_grad()\n",
    "        # Обнуление градиентов\n",
    "        output = model(data)\n",
    "        # Прямой проход: получение предсказаний модели\n",
    "        loss = criterion(output, target)\n",
    "        # Вычисление функции потерь\n",
    "        loss.backward()\n",
    "        # Обратное распространение: вычисление градиентов\n",
    "        optimizer.step()\n",
    "        # Обновление параметров модели по градиентам\n",
    "\n",
    "        if batch_idx % 100 == 0:\n",
    "            print(f'Epoch {epoch + 1}/{10}, Batch {batch_idx}/{len(train_loader)}, Loss: {loss.item():.4f}')\n",
    "            # Вывод информации о процессе обучения\n",
    "\n",
    "print('Training finished.')\n",
    "\n"
   ]
  },
  {
   "cell_type": "code",
   "execution_count": 7,
   "metadata": {},
   "outputs": [
    {
     "name": "stdout",
     "output_type": "stream",
     "text": [
      "Test Accuracy: 97.55%\n"
     ]
    }
   ],
   "source": [
    "# Оценка модели на тестовых данных\n",
    "model.eval()\n",
    "correct = 0\n",
    "total = 0\n",
    "with torch.no_grad():\n",
    "    for data, target in test_loader:\n",
    "        output = model(data)\n",
    "        _, predicted = torch.max(output.data, 1)\n",
    "        total += target.size(0)\n",
    "        correct += (predicted == target).sum().item()\n",
    "\n",
    "accuracy = correct / total\n",
    "print(f'Test Accuracy: {accuracy*100:2.2f}%')"
   ]
  },
  {
   "cell_type": "code",
   "execution_count": null,
   "metadata": {},
   "outputs": [],
   "source": []
  }
 ],
 "metadata": {
  "kernelspec": {
   "display_name": "Python 3",
   "language": "python",
   "name": "python3"
  },
  "language_info": {
   "codemirror_mode": {
    "name": "ipython",
    "version": 3
   },
   "file_extension": ".py",
   "mimetype": "text/x-python",
   "name": "python",
   "nbconvert_exporter": "python",
   "pygments_lexer": "ipython3",
   "version": "3.10.12"
  }
 },
 "nbformat": 4,
 "nbformat_minor": 2
}
