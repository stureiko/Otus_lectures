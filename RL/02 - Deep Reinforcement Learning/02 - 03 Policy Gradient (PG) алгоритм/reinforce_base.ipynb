{
 "cells": [
  {
   "cell_type": "code",
   "execution_count": 1,
   "id": "889ede9b",
   "metadata": {},
   "outputs": [],
   "source": [
    "import torch\n",
    "import gym\n",
    "import torch.nn as nn\n",
    "from torch.autograd import Variable\n",
    "\n",
    "from tqdm import tqdm\n",
    "import warnings\n",
    "warnings.filterwarnings('ignore')"
   ]
  },
  {
   "cell_type": "code",
   "execution_count": 2,
   "id": "078906c8",
   "metadata": {},
   "outputs": [
    {
     "data": {
      "text/plain": [
       "'0.25.2'"
      ]
     },
     "execution_count": 2,
     "metadata": {},
     "output_type": "execute_result"
    }
   ],
   "source": [
    "gym.__version__"
   ]
  },
  {
   "cell_type": "code",
   "execution_count": 3,
   "id": "dfb90bd2",
   "metadata": {},
   "outputs": [],
   "source": [
    "class PolicyNetwork():\n",
    "    def __init__(self, n_state, n_action, n_hidden=50, lr=0.001):\n",
    "\n",
    "        self.model = nn.Sequential(\n",
    "                        nn.Linear(n_state, n_hidden),\n",
    "                        nn.ReLU(),\n",
    "                        nn.Linear(n_hidden, n_action),\n",
    "                        nn.Softmax(),\n",
    "                )\n",
    "\n",
    "        self.optimizer = torch.optim.Adam(self.model.parameters(), lr)\n",
    "\n",
    "\n",
    "    def predict(self, s):\n",
    "        \"\"\"\n",
    "        Compute the action probabilities of state s using the learning model\n",
    "        @param s: input state\n",
    "        @return: predicted policy\n",
    "        \"\"\"\n",
    "        return self.model(torch.Tensor(s))\n",
    "\n",
    "\n",
    "    def update(self, advantages, log_probs):\n",
    "        \"\"\"\n",
    "        Update the weights of the policy network given the training samples\n",
    "        @param advantages: advantage for each step in an episode\n",
    "        @param log_probs: log probability for each step\n",
    "        \"\"\"\n",
    "        policy_gradient = []\n",
    "        for log_prob, Gt in zip(log_probs, advantages):\n",
    "            policy_gradient.append(-log_prob * Gt)\n",
    "\n",
    "        loss = torch.stack(policy_gradient).sum()\n",
    "        self.optimizer.zero_grad()\n",
    "        loss.backward()\n",
    "        self.optimizer.step()\n",
    "\n",
    "\n",
    "    def get_action(self, s):\n",
    "        \"\"\"\n",
    "        Estimate the policy and sample an action, compute its log probability\n",
    "        @param s: input state\n",
    "        @return: the selected action and log probability\n",
    "        \"\"\"\n",
    "        probs = self.predict(s)\n",
    "        action = torch.multinomial(probs, 1).item()\n",
    "        log_prob = torch.log(probs[action])\n",
    "        return action, log_prob"
   ]
  },
  {
   "cell_type": "code",
   "execution_count": 4,
   "id": "16774efb",
   "metadata": {},
   "outputs": [],
   "source": [
    "class ValueNetwork():\n",
    "    def __init__(self, n_state, n_hidden=50, lr=0.05):\n",
    "        self.criterion = torch.nn.MSELoss()\n",
    "        self.model = torch.nn.Sequential(\n",
    "                        torch.nn.Linear(n_state, n_hidden),\n",
    "                        torch.nn.ReLU(),\n",
    "                        torch.nn.Linear(n_hidden, 1)\n",
    "                )\n",
    "        self.optimizer = torch.optim.Adam(self.model.parameters(), lr)\n",
    "\n",
    "\n",
    "    def update(self, s, y):\n",
    "        \"\"\"\n",
    "        Update the weights of the DQN given a training sample\n",
    "        @param s: states\n",
    "        @param y: target values\n",
    "        \"\"\"\n",
    "        y_pred = self.model(torch.Tensor(s))\n",
    "        loss = self.criterion(y_pred, Variable(torch.Tensor(y)))\n",
    "        self.optimizer.zero_grad()\n",
    "        loss.backward()\n",
    "        self.optimizer.step()\n",
    "\n",
    "\n",
    "    def predict(self, s):\n",
    "        \"\"\"\n",
    "        Compute the Q values of the state for all actions (V function) using the learning model\n",
    "        @param s: input state\n",
    "        @return: Q values of the state for all actions (V function)\n",
    "        \"\"\"\n",
    "        with torch.no_grad():\n",
    "            return self.model(torch.Tensor(s))"
   ]
  },
  {
   "cell_type": "code",
   "execution_count": 5,
   "id": "76f53f2c",
   "metadata": {},
   "outputs": [],
   "source": [
    "def reinforce(env, estimator_policy, estimator_value, n_episode, gamma=1.0):\n",
    "    \"\"\"\n",
    "    REINFORCE algorithm with baseline\n",
    "    @param env: Gym environment\n",
    "    @param estimator_policy: policy network\n",
    "    @param estimator_value: value network\n",
    "    @param n_episode: number of episodes\n",
    "    @param gamma: the discount factor\n",
    "    \"\"\"\n",
    "    for episode in tqdm(range(n_episode)):\n",
    "        log_probs = []\n",
    "        states = []\n",
    "        rewards = []\n",
    "        state = env.reset()\n",
    "\n",
    "        while True:\n",
    "            states.append(state)\n",
    "            action, log_prob = estimator_policy.get_action(state)\n",
    "            next_state, reward, is_done, _ = env.step(action)\n",
    "\n",
    "            total_reward_episode[episode] += reward\n",
    "            log_probs.append(log_prob)\n",
    "\n",
    "            rewards.append(reward)\n",
    "\n",
    "            if is_done:\n",
    "                Gt = 0\n",
    "                pw = 0\n",
    "\n",
    "                returns = []\n",
    "                for t in range(len(states)-1, -1, -1):\n",
    "                    Gt += gamma ** pw * rewards[t]\n",
    "                    pw += 1\n",
    "                    returns.append(Gt)\n",
    "\n",
    "\n",
    "                returns = returns[::-1]\n",
    "                returns = torch.tensor(returns)\n",
    "\n",
    "                baseline_values = estimator_value.predict(states)\n",
    "\n",
    "                advantages = returns - baseline_values\n",
    "\n",
    "                estimator_value.update(states, returns)\n",
    "\n",
    "                estimator_policy.update(advantages, log_probs)\n",
    "\n",
    "\n",
    "#                 print('Episode: {}, total reward: {}'.format(episode, total_reward_episode[episode]))\n",
    "                break\n",
    "\n",
    "\n",
    "            state = next_state"
   ]
  },
  {
   "cell_type": "code",
   "execution_count": 6,
   "id": "932254d7",
   "metadata": {},
   "outputs": [
    {
     "name": "stderr",
     "output_type": "stream",
     "text": [
      "100%|████████████████████████████████████████████████████████████████████████████████████| 2000/2000 [00:31<00:00, 63.19it/s]\n"
     ]
    },
    {
     "data": {
      "image/png": "[encoded data removed]",
      "text/plain": [
       "<Figure size 640x480 with 1 Axes>"
      ]
     },
     "metadata": {},
     "output_type": "display_data"
    }
   ],
   "source": [
    "env = gym.make('CartPole-v0')\n",
    "n_state = env.observation_space.shape[0]\n",
    "n_action = env.action_space.n\n",
    "n_hidden_p = 64\n",
    "lr_p = 0.003\n",
    "policy_net = PolicyNetwork(n_state, n_action, n_hidden_p, lr_p)\n",
    "\n",
    "n_hidden_v = 64\n",
    "lr_v = 0.003\n",
    "value_net = ValueNetwork(n_state, n_hidden_v, lr_v)\n",
    "\n",
    "n_episode = 2000\n",
    "gamma = 0.9\n",
    "total_reward_episode = [0] * n_episode\n",
    "\n",
    "reinforce(env, policy_net, value_net, n_episode, gamma)\n",
    "\n",
    "import matplotlib.pyplot as plt\n",
    "plt.plot(total_reward_episode)\n",
    "plt.title('Episode reward over time')\n",
    "plt.xlabel('Episode')\n",
    "plt.ylabel('Total reward')\n",
    "plt.show()"
   ]
  }
 ],
 "metadata": {
  "kernelspec": {
   "display_name": "Python 3 (ipykernel)",
   "language": "python",
   "name": "python3"
  },
  "language_info": {
   "codemirror_mode": {
    "name": "ipython",
    "version": 3
   },
   "file_extension": ".py",
   "mimetype": "text/x-python",
   "name": "python",
   "nbconvert_exporter": "python",
   "pygments_lexer": "ipython3",
   "version": "3.10.12"
  },
  "toc": {
   "base_numbering": 1,
   "nav_menu": {},
   "number_sections": true,
   "sideBar": true,
   "skip_h1_title": false,
   "title_cell": "Table of Contents",
   "title_sidebar": "Contents",
   "toc_cell": false,
   "toc_position": {},
   "toc_section_display": true,
   "toc_window_display": false
  }
 },
 "nbformat": 4,
 "nbformat_minor": 5
}
