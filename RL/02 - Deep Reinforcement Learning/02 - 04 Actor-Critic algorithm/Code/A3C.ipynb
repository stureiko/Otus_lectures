{
 "cells": [
  {
   "cell_type": "code",
   "execution_count": 1,
   "id": "f9f3c038-44ba-41af-93cc-c5b4399b5c86",
   "metadata": {},
   "outputs": [],
   "source": [
    "from util.a3c import *"
   ]
  },
  {
   "cell_type": "code",
   "execution_count": 2,
   "id": "380f1ba4-1d0a-44fe-97c8-654360a31b56",
   "metadata": {},
   "outputs": [],
   "source": [
    "# Hyperparameters\n",
    "global n_train_processes\n",
    "global learning_rate\n",
    "global update_interval\n",
    "global gamma\n",
    "global max_train_ep\n",
    "global max_test_ep"
   ]
  },
  {
   "cell_type": "code",
   "execution_count": 8,
   "id": "9e77b86b-ae8b-4849-b5ff-af126a048501",
   "metadata": {},
   "outputs": [],
   "source": [
    "n_train_processes = mp.cpu_count() // 2\n",
    "learning_rate = 0.0002\n",
    "update_interval = 5\n",
    "gamma = 0.98\n",
    "max_train_ep = 600\n",
    "max_test_ep = 400"
   ]
  },
  {
   "cell_type": "code",
   "execution_count": 9,
   "id": "688070c6-445a-4084-89fb-4cf9a67852e6",
   "metadata": {
    "scrolled": true
   },
   "outputs": [
    {
     "name": "stderr",
     "output_type": "stream",
     "text": [
      "/Users/stureiko/miniforge3/envs/gym_pytorch/lib/python3.10/site-packages/gym/core.py:317: DeprecationWarning: \u001b[33mWARN: Initializing wrapper in old step API which returns one bool instead of two. It is recommended to set `new_step_api=True` to use new step API. This will be the default behaviour in future.\u001b[0m\n",
      "  deprecation(\n",
      "/Users/stureiko/miniforge3/envs/gym_pytorch/lib/python3.10/site-packages/gym/wrappers/step_api_compatibility.py:39: DeprecationWarning: \u001b[33mWARN: Initializing environment in old step API which returns one bool instead of two. It is recommended to set `new_step_api=True` to use new step API. This will be the default behaviour in future.\u001b[0m\n",
      "  deprecation(\n",
      "/Users/stureiko/miniforge3/envs/gym_pytorch/lib/python3.10/site-packages/gym/utils/passive_env_checker.py:241: DeprecationWarning: `np.bool8` is a deprecated alias for `np.bool_`.  (Deprecated NumPy 1.24)\n",
      "  if not isinstance(terminated, (bool, np.bool8)):\n",
      "/Users/stureiko/miniforge3/envs/gym_pytorch/lib/python3.10/site-packages/gym/core.py:317: DeprecationWarning: \u001b[33mWARN: Initializing wrapper in old step API which returns one bool instead of two. It is recommended to set `new_step_api=True` to use new step API. This will be the default behaviour in future.\u001b[0m\n",
      "  deprecation(\n",
      "/Users/stureiko/miniforge3/envs/gym_pytorch/lib/python3.10/site-packages/gym/wrappers/step_api_compatibility.py:39: DeprecationWarning: \u001b[33mWARN: Initializing environment in old step API which returns one bool instead of two. It is recommended to set `new_step_api=True` to use new step API. This will be the default behaviour in future.\u001b[0m\n",
      "  deprecation(\n",
      "/Users/stureiko/miniforge3/envs/gym_pytorch/lib/python3.10/site-packages/gym/core.py:317: DeprecationWarning: \u001b[33mWARN: Initializing wrapper in old step API which returns one bool instead of two. It is recommended to set `new_step_api=True` to use new step API. This will be the default behaviour in future.\u001b[0m\n",
      "  deprecation(\n",
      "/Users/stureiko/miniforge3/envs/gym_pytorch/lib/python3.10/site-packages/gym/wrappers/step_api_compatibility.py:39: DeprecationWarning: \u001b[33mWARN: Initializing environment in old step API which returns one bool instead of two. It is recommended to set `new_step_api=True` to use new step API. This will be the default behaviour in future.\u001b[0m\n",
      "  deprecation(\n",
      "/Users/stureiko/miniforge3/envs/gym_pytorch/lib/python3.10/site-packages/gym/core.py:317: DeprecationWarning: \u001b[33mWARN: Initializing wrapper in old step API which returns one bool instead of two. It is recommended to set `new_step_api=True` to use new step API. This will be the default behaviour in future.\u001b[0m\n",
      "  deprecation(\n",
      "/Users/stureiko/miniforge3/envs/gym_pytorch/lib/python3.10/site-packages/gym/core.py:317: DeprecationWarning: \u001b[33mWARN: Initializing wrapper in old step API which returns one bool instead of two. It is recommended to set `new_step_api=True` to use new step API. This will be the default behaviour in future.\u001b[0m\n",
      "  deprecation(\n",
      "/Users/stureiko/miniforge3/envs/gym_pytorch/lib/python3.10/site-packages/gym/wrappers/step_api_compatibility.py:39: DeprecationWarning: \u001b[33mWARN: Initializing environment in old step API which returns one bool instead of two. It is recommended to set `new_step_api=True` to use new step API. This will be the default behaviour in future.\u001b[0m\n",
      "  deprecation(\n",
      "/Users/stureiko/miniforge3/envs/gym_pytorch/lib/python3.10/site-packages/gym/core.py:317: DeprecationWarning: \u001b[33mWARN: Initializing wrapper in old step API which returns one bool instead of two. It is recommended to set `new_step_api=True` to use new step API. This will be the default behaviour in future.\u001b[0m\n",
      "  deprecation(\n",
      "/Users/stureiko/miniforge3/envs/gym_pytorch/lib/python3.10/site-packages/gym/wrappers/step_api_compatibility.py:39: DeprecationWarning: \u001b[33mWARN: Initializing environment in old step API which returns one bool instead of two. It is recommended to set `new_step_api=True` to use new step API. This will be the default behaviour in future.\u001b[0m\n",
      "  deprecation(\n",
      "/Users/stureiko/miniforge3/envs/gym_pytorch/lib/python3.10/site-packages/gym/wrappers/step_api_compatibility.py:39: DeprecationWarning: \u001b[33mWARN: Initializing environment in old step API which returns one bool instead of two. It is recommended to set `new_step_api=True` to use new step API. This will be the default behaviour in future.\u001b[0m\n",
      "  deprecation(\n",
      "/Users/stureiko/miniforge3/envs/gym_pytorch/lib/python3.10/site-packages/gym/utils/passive_env_checker.py:241: DeprecationWarning: `np.bool8` is a deprecated alias for `np.bool_`.  (Deprecated NumPy 1.24)\n",
      "  if not isinstance(terminated, (bool, np.bool8)):\n",
      "/Users/stureiko/miniforge3/envs/gym_pytorch/lib/python3.10/site-packages/gym/utils/passive_env_checker.py:241: DeprecationWarning: `np.bool8` is a deprecated alias for `np.bool_`.  (Deprecated NumPy 1.24)\n",
      "  if not isinstance(terminated, (bool, np.bool8)):\n",
      "/Users/stureiko/miniforge3/envs/gym_pytorch/lib/python3.10/site-packages/gym/utils/passive_env_checker.py:241: DeprecationWarning: `np.bool8` is a deprecated alias for `np.bool_`.  (Deprecated NumPy 1.24)\n",
      "  if not isinstance(terminated, (bool, np.bool8)):\n",
      "/Users/stureiko/miniforge3/envs/gym_pytorch/lib/python3.10/site-packages/gym/utils/passive_env_checker.py:241: DeprecationWarning: `np.bool8` is a deprecated alias for `np.bool_`.  (Deprecated NumPy 1.24)\n",
      "  if not isinstance(terminated, (bool, np.bool8)):\n",
      "/Users/stureiko/miniforge3/envs/gym_pytorch/lib/python3.10/site-packages/gym/utils/passive_env_checker.py:241: DeprecationWarning: `np.bool8` is a deprecated alias for `np.bool_`.  (Deprecated NumPy 1.24)\n",
      "  if not isinstance(terminated, (bool, np.bool8)):\n"
     ]
    },
    {
     "name": "stdout",
     "output_type": "stream",
     "text": [
      "Training process 1 reached maximum episode.\n",
      "Training process 4 reached maximum episode.\n",
      "Training process 5 reached maximum episode.\n",
      "Training process 3 reached maximum episode.\n",
      "Training process 2 reached maximum episode.\n",
      "# of episode :20, avg score : 23.4\n",
      "# of episode :40, avg score : 10.4\n",
      "# of episode :60, avg score : 9.6\n",
      "# of episode :80, avg score : 9.5\n",
      "# of episode :100, avg score : 9.2\n",
      "# of episode :120, avg score : 9.7\n",
      "# of episode :140, avg score : 9.1\n",
      "# of episode :160, avg score : 9.4\n",
      "# of episode :180, avg score : 9.7\n",
      "# of episode :200, avg score : 9.3\n",
      "# of episode :220, avg score : 9.8\n",
      "# of episode :240, avg score : 9.8\n",
      "# of episode :260, avg score : 9.6\n",
      "# of episode :280, avg score : 9.5\n",
      "# of episode :300, avg score : 9.6\n",
      "# of episode :320, avg score : 9.4\n",
      "# of episode :340, avg score : 9.3\n",
      "# of episode :360, avg score : 9.5\n",
      "# of episode :380, avg score : 9.3\n",
      "# of episode :400, avg score : 9.6\n",
      "# of episode :420, avg score : 9.4\n",
      "# of episode :440, avg score : 9.8\n",
      "# of episode :460, avg score : 9.6\n",
      "# of episode :480, avg score : 9.5\n",
      "# of episode :500, avg score : 9.6\n",
      "# of episode :520, avg score : 9.8\n",
      "# of episode :540, avg score : 9.4\n",
      "# of episode :560, avg score : 9.4\n",
      "# of episode :580, avg score : 9.8\n"
     ]
    }
   ],
   "source": [
    "global_model = ActorCritic()\n",
    "global_model.share_memory()\n",
    "\n",
    "processes = []\n",
    "for rank in range(n_train_processes + 1):  # + 1 for test process\n",
    "    if rank == 0:\n",
    "        p = mp.Process(target=test, args=(global_model, max_train_ep))\n",
    "    else:\n",
    "        p = mp.Process(target=train, args=(global_model, rank, max_train_ep, learning_rate, gamma, update_interval))\n",
    "    p.start()\n",
    "    processes.append(p)\n",
    "for p in processes:\n",
    "    p.join()"
   ]
  },
  {
   "cell_type": "code",
   "execution_count": null,
   "id": "32c7be75-b1a2-429e-9b23-7ac1b216efd4",
   "metadata": {},
   "outputs": [],
   "source": []
  }
 ],
 "metadata": {
  "kernelspec": {
   "display_name": "Python 3 (ipykernel)",
   "language": "python",
   "name": "python3"
  },
  "language_info": {
   "codemirror_mode": {
    "name": "ipython",
    "version": 3
   },
   "file_extension": ".py",
   "mimetype": "text/x-python",
   "name": "python",
   "nbconvert_exporter": "python",
   "pygments_lexer": "ipython3",
   "version": "3.10.12"
  }
 },
 "nbformat": 4,
 "nbformat_minor": 5
}
