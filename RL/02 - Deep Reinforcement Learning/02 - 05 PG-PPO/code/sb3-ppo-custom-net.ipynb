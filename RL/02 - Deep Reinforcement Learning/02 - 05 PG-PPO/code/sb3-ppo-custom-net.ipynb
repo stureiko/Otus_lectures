{
 "cells": [
  {
   "cell_type": "code",
   "execution_count": 1,
   "metadata": {},
   "outputs": [],
   "source": [
    "# import gymnasium as gym\n",
    "from stable_baselines3 import PPO\n",
    "from stable_baselines3.common.env_util import make_vec_env\n",
    "from stable_baselines3.common.logger import configure\n",
    "\n",
    "import numpy as np\n",
    "from tqdm import tqdm\n",
    "\n",
    "import torch"
   ]
  },
  {
   "cell_type": "markdown",
   "metadata": {},
   "source": [
    "![image](https://stable-baselines3.readthedocs.io/en/master/_images/net_arch.png)"
   ]
  },
  {
   "cell_type": "code",
   "execution_count": 2,
   "metadata": {},
   "outputs": [],
   "source": [
    "#         obs\n",
    "#         <4>\n",
    "#    /            \\\n",
    "#  <32>          <32>\n",
    "#   |              |\n",
    "#  <32>          <32>\n",
    "#   |              |\n",
    "#  <2>            <1>\n",
    "# action         value\n",
    "#  net            net"
   ]
  },
  {
   "cell_type": "code",
   "execution_count": 3,
   "metadata": {},
   "outputs": [
    {
     "data": {
      "application/vnd.jupyter.widget-view+json": {
       "model_id": "78b4c89e8eaa4e57ac70c40e1a36c6bf",
       "version_major": 2,
       "version_minor": 0
      },
      "text/plain": [
       "Output()"
      ]
     },
     "metadata": {},
     "output_type": "display_data"
    },
    {
     "data": {
      "text/html": [
       "<pre style=\"white-space:pre;overflow-x:auto;line-height:normal;font-family:Menlo,'DejaVu Sans Mono',consolas,'Courier New',monospace\"></pre>\n"
      ],
      "text/plain": []
     },
     "metadata": {},
     "output_type": "display_data"
    },
    {
     "data": {
      "text/html": [
       "<pre style=\"white-space:pre;overflow-x:auto;line-height:normal;font-family:Menlo,'DejaVu Sans Mono',consolas,'Courier New',monospace\">\n",
       "</pre>\n"
      ],
      "text/plain": [
       "\n"
      ]
     },
     "metadata": {},
     "output_type": "display_data"
    },
    {
     "data": {
      "text/plain": [
       "<stable_baselines3.ppo.ppo.PPO at 0x318ad2b30>"
      ]
     },
     "execution_count": 3,
     "metadata": {},
     "output_type": "execute_result"
    }
   ],
   "source": [
    "# log results\n",
    "base_path = \"./sb3_log/\"\n",
    "steps = 50000\n",
    "max_episode_steps = 1000\n",
    "\n",
    "# Custom actor (pi) and value function (vf) networks\n",
    "# of two layers of size 32 each with Relu activation function\n",
    "# Note: an extra linear layer will be added on top of the pi and the vf nets, respectively\n",
    "policy_kwargs = dict(activation_fn=torch.nn.ReLU,\n",
    "                net_arch=dict(pi=[32, 32], vf=[32, 32]))\n",
    "\n",
    "vec_env = make_vec_env(\"CartPole-v1\", n_envs=4, env_kwargs={'max_episode_steps': max_episode_steps})\n",
    "tmp_path = base_path + \"custom_net/\"\n",
    "# set up logger\n",
    "new_logger = configure(tmp_path, [\"tensorboard\"])\n",
    "\n",
    "model = PPO(\"MlpPolicy\", vec_env, policy_kwargs=policy_kwargs, verbose=0)\n",
    "model.set_logger(new_logger)\n",
    "model.learn(total_timesteps=steps, progress_bar=True)"
   ]
  },
  {
   "cell_type": "markdown",
   "metadata": {},
   "source": [
    "Можно кастомизировать и сеть извлечения признаков.\n",
    "Подробнее можно посмотреть в документации \n",
    "\n",
    "<https://stable-baselines3.readthedocs.io/en/master/guide/custom_policy.html>"
   ]
  }
 ],
 "metadata": {
  "kernelspec": {
   "display_name": "Python 3",
   "language": "python",
   "name": "python3"
  },
  "language_info": {
   "codemirror_mode": {
    "name": "ipython",
    "version": 3
   },
   "file_extension": ".py",
   "mimetype": "text/x-python",
   "name": "python",
   "nbconvert_exporter": "python",
   "pygments_lexer": "ipython3",
   "version": "3.10.12"
  }
 },
 "nbformat": 4,
 "nbformat_minor": 2
}
