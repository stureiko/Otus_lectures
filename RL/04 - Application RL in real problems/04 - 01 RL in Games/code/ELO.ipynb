{
 "cells": [
  {
   "cell_type": "code",
   "execution_count": 1,
   "metadata": {},
   "outputs": [],
   "source": [
    "RA = 260\n",
    "RB = 2300"
   ]
  },
  {
   "cell_type": "code",
   "execution_count": 6,
   "metadata": {},
   "outputs": [
    {
     "name": "stdout",
     "output_type": "stream",
     "text": [
      "7.943219252009557e-06, 1.000\n"
     ]
    }
   ],
   "source": [
    "EA = 1/(1 + 10 ** ((RB - RA)/400))\n",
    "EB = 1/(1 + 10 ** ((RA - RB)/400))\n",
    "\n",
    "print(f'{EA}, {EB:.3f}')"
   ]
  },
  {
   "cell_type": "code",
   "execution_count": 5,
   "metadata": {},
   "outputs": [
    {
     "name": "stdout",
     "output_type": "stream",
     "text": [
      "276.000, 2284.000\n"
     ]
    }
   ],
   "source": [
    "ELOA = RA + 16 * (1 - EA)\n",
    "ELOB = RB + 16 * (0 - EB)\n",
    "\n",
    "print(f'{ELOA:.3f}, {ELOB:.3f}')"
   ]
  }
 ],
 "metadata": {
  "kernelspec": {
   "display_name": "Python 3",
   "language": "python",
   "name": "python3"
  },
  "language_info": {
   "codemirror_mode": {
    "name": "ipython",
    "version": 3
   },
   "file_extension": ".py",
   "mimetype": "text/x-python",
   "name": "python",
   "nbconvert_exporter": "python",
   "pygments_lexer": "ipython3",
   "version": "3.10.12"
  }
 },
 "nbformat": 4,
 "nbformat_minor": 2
}
