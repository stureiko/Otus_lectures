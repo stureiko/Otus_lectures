{
 "cells": [
  {
   "cell_type": "code",
   "execution_count": 1,
   "metadata": {},
   "outputs": [],
   "source": [
    "import re"
   ]
  },
  {
   "cell_type": "code",
   "execution_count": 30,
   "metadata": {},
   "outputs": [],
   "source": [
    "text = \"\"\"This is #hashtag in text and this is #too12 but not this #32moo\n",
    "These are valid ip addresses 255.23.32.17, 187.192.178.244 and 127.0.0.1 but these are incorrect 256.127.0.1 and 127.43.432.12\n",
    "line    with     several    tabs\"\"\""
   ]
  },
  {
   "cell_type": "code",
   "execution_count": 31,
   "metadata": {},
   "outputs": [],
   "source": [
    "match = re.findall(r'\\b\\d{1,3}.\\d{1,3}.\\d{1,3}.\\d{1,3}\\b', text, re.MULTILINE)"
   ]
  },
  {
   "cell_type": "code",
   "execution_count": 32,
   "metadata": {},
   "outputs": [
    {
     "name": "stdout",
     "output_type": "stream",
     "text": [
      "255.23.32.17\n",
      "187.192.178.244\n",
      "127.0.0.1\n"
     ]
    }
   ],
   "source": [
    "\n",
    "for m in match:\n",
    "    res = []\n",
    "    for n in m.split('.'):\n",
    "        if int(n) > 255:            \n",
    "            break\n",
    "        else:\n",
    "            res.append(n)\n",
    "    if len(res) == 4:\n",
    "        print('.'.join(res))\n",
    "    \n"
   ]
  },
  {
   "cell_type": "code",
   "execution_count": 35,
   "metadata": {},
   "outputs": [
    {
     "data": {
      "text/plain": [
       "['line with several tabs']"
      ]
     },
     "execution_count": 35,
     "metadata": {},
     "output_type": "execute_result"
    }
   ],
   "source": [
    "[re.sub(r'\\s{2,}', ' ', line) for line in text.split('\\n') if re.findall(r'\\s{2,}', line)]"
   ]
  },
  {
   "cell_type": "code",
   "execution_count": null,
   "metadata": {},
   "outputs": [],
   "source": []
  }
 ],
 "metadata": {
  "kernelspec": {
   "display_name": "Python 3",
   "language": "python",
   "name": "python3"
  },
  "language_info": {
   "codemirror_mode": {
    "name": "ipython",
    "version": 3
   },
   "file_extension": ".py",
   "mimetype": "text/x-python",
   "name": "python",
   "nbconvert_exporter": "python",
   "pygments_lexer": "ipython3",
   "version": "3.10.12"
  }
 },
 "nbformat": 4,
 "nbformat_minor": 2
}
